{
 "cells": [
  {
   "cell_type": "markdown",
   "id": "63ecbe37",
   "metadata": {},
   "source": [
    "# GoFast. Исследование бизнеса \n",
    "\n",
    "<strong>Цели исследования:</strong>\n",
    "\n",
    "Проанализировать данные, найти возможные ошибки, проверить несколько гипотез, и выяснить возможные точки роста бизнеса;\n",
    "\n",
    "<strong>Гипотезы:</strong>\n",
    "- Пользователи с подпиской совершают более длинные поездки;\n",
    "- Пользователи с подпиской приносят больше выручки;\n",
    "- 3130 метров - оптимальное время поездки с точки зрения износа самоката;\n",
    "\n",
    "<strong>Также нужно оценить:</strong>\n",
    "- Сколько промокодов на бесплатный период нужно разослать, чтобы с вероятностью 95% получить 100 клиентов;\n",
    "- Какова вероятность того, что из миллиона отправленных писем письмо откроют не более 399500 пользователей;\n",
    "\n",
    "<strong>Ход исследования:</strong>\n",
    "\n",
    "Полученные данные необходимо проверить на качество - привести данные к необходимому типу, избавиться от явных и неявных дублей, избавиться от нетипичных значений, искажающих картину. После этого можно будет объединить данные, провести исследовательский анализ данных и проверить несколько статистических гипотез.\n",
    "\n",
    "<strong>Этапы:</strong>\n",
    "\n",
    "- Получение данных\n",
    "- Предобработка данных (изменение типов, удаление дубликатов и аномалий, расчет дополнительных столбцов)\n",
    "- Изучение параметров очищенных и обогащенных данных\n",
    "- Проверка гипотез\n",
    "- Общий вывод"
   ]
  },
  {
   "cell_type": "code",
   "execution_count": 2,
   "id": "0031267a",
   "metadata": {},
   "outputs": [],
   "source": [
    "import pandas as pd\n",
    "import matplotlib.pyplot as plt\n",
    "import numpy as np\n",
    "from scipy import stats as st\n",
    "from math import sqrt\n",
    "\n",
    "random_state = 42"
   ]
  },
  {
   "cell_type": "markdown",
   "id": "5459c732",
   "metadata": {},
   "source": [
    "## Загрузка данных\n",
    "\n",
    "Считаем данные, оценим их визуально и изучим информацию о каждом датасете."
   ]
  },
  {
   "cell_type": "code",
   "execution_count": 3,
   "id": "40bdd8fb",
   "metadata": {},
   "outputs": [
    {
     "data": {
      "text/html": [
       "<div>\n",
       "<style scoped>\n",
       "    .dataframe tbody tr th:only-of-type {\n",
       "        vertical-align: middle;\n",
       "    }\n",
       "\n",
       "    .dataframe tbody tr th {\n",
       "        vertical-align: top;\n",
       "    }\n",
       "\n",
       "    .dataframe thead th {\n",
       "        text-align: right;\n",
       "    }\n",
       "</style>\n",
       "<table border=\"1\" class=\"dataframe\">\n",
       "  <thead>\n",
       "    <tr style=\"text-align: right;\">\n",
       "      <th></th>\n",
       "      <th>user_id</th>\n",
       "      <th>name</th>\n",
       "      <th>age</th>\n",
       "      <th>city</th>\n",
       "      <th>subscription_type</th>\n",
       "    </tr>\n",
       "  </thead>\n",
       "  <tbody>\n",
       "    <tr>\n",
       "      <th>0</th>\n",
       "      <td>1</td>\n",
       "      <td>Кира</td>\n",
       "      <td>22</td>\n",
       "      <td>Тюмень</td>\n",
       "      <td>ultra</td>\n",
       "    </tr>\n",
       "    <tr>\n",
       "      <th>1</th>\n",
       "      <td>2</td>\n",
       "      <td>Станислав</td>\n",
       "      <td>31</td>\n",
       "      <td>Омск</td>\n",
       "      <td>ultra</td>\n",
       "    </tr>\n",
       "    <tr>\n",
       "      <th>2</th>\n",
       "      <td>3</td>\n",
       "      <td>Алексей</td>\n",
       "      <td>20</td>\n",
       "      <td>Москва</td>\n",
       "      <td>ultra</td>\n",
       "    </tr>\n",
       "    <tr>\n",
       "      <th>3</th>\n",
       "      <td>4</td>\n",
       "      <td>Константин</td>\n",
       "      <td>26</td>\n",
       "      <td>Ростов-на-Дону</td>\n",
       "      <td>ultra</td>\n",
       "    </tr>\n",
       "    <tr>\n",
       "      <th>4</th>\n",
       "      <td>5</td>\n",
       "      <td>Адель</td>\n",
       "      <td>28</td>\n",
       "      <td>Омск</td>\n",
       "      <td>ultra</td>\n",
       "    </tr>\n",
       "  </tbody>\n",
       "</table>\n",
       "</div>"
      ],
      "text/plain": [
       "   user_id        name  age            city subscription_type\n",
       "0        1        Кира   22          Тюмень             ultra\n",
       "1        2   Станислав   31            Омск             ultra\n",
       "2        3     Алексей   20          Москва             ultra\n",
       "3        4  Константин   26  Ростов-на-Дону             ultra\n",
       "4        5       Адель   28            Омск             ultra"
      ]
     },
     "metadata": {},
     "output_type": "display_data"
    },
    {
     "name": "stdout",
     "output_type": "stream",
     "text": [
      "<class 'pandas.core.frame.DataFrame'>\n",
      "RangeIndex: 1565 entries, 0 to 1564\n",
      "Data columns (total 5 columns):\n",
      " #   Column             Non-Null Count  Dtype \n",
      "---  ------             --------------  ----- \n",
      " 0   user_id            1565 non-null   int64 \n",
      " 1   name               1565 non-null   object\n",
      " 2   age                1565 non-null   int64 \n",
      " 3   city               1565 non-null   object\n",
      " 4   subscription_type  1565 non-null   object\n",
      "dtypes: int64(2), object(3)\n",
      "memory usage: 61.3+ KB\n"
     ]
    }
   ],
   "source": [
    "users = pd.read_csv('/datasets/users_go.csv')\n",
    "display(users.head())\n",
    "users.info()"
   ]
  },
  {
   "cell_type": "code",
   "execution_count": 4,
   "id": "f54b5214",
   "metadata": {},
   "outputs": [
    {
     "data": {
      "text/html": [
       "<div>\n",
       "<style scoped>\n",
       "    .dataframe tbody tr th:only-of-type {\n",
       "        vertical-align: middle;\n",
       "    }\n",
       "\n",
       "    .dataframe tbody tr th {\n",
       "        vertical-align: top;\n",
       "    }\n",
       "\n",
       "    .dataframe thead th {\n",
       "        text-align: right;\n",
       "    }\n",
       "</style>\n",
       "<table border=\"1\" class=\"dataframe\">\n",
       "  <thead>\n",
       "    <tr style=\"text-align: right;\">\n",
       "      <th></th>\n",
       "      <th>user_id</th>\n",
       "      <th>distance</th>\n",
       "      <th>duration</th>\n",
       "      <th>date</th>\n",
       "    </tr>\n",
       "  </thead>\n",
       "  <tbody>\n",
       "    <tr>\n",
       "      <th>0</th>\n",
       "      <td>1</td>\n",
       "      <td>4409.919140</td>\n",
       "      <td>25.599769</td>\n",
       "      <td>2021-01-01</td>\n",
       "    </tr>\n",
       "    <tr>\n",
       "      <th>1</th>\n",
       "      <td>1</td>\n",
       "      <td>2617.592153</td>\n",
       "      <td>15.816871</td>\n",
       "      <td>2021-01-18</td>\n",
       "    </tr>\n",
       "    <tr>\n",
       "      <th>2</th>\n",
       "      <td>1</td>\n",
       "      <td>754.159807</td>\n",
       "      <td>6.232113</td>\n",
       "      <td>2021-04-20</td>\n",
       "    </tr>\n",
       "    <tr>\n",
       "      <th>3</th>\n",
       "      <td>1</td>\n",
       "      <td>2694.783254</td>\n",
       "      <td>18.511000</td>\n",
       "      <td>2021-08-11</td>\n",
       "    </tr>\n",
       "    <tr>\n",
       "      <th>4</th>\n",
       "      <td>1</td>\n",
       "      <td>4028.687306</td>\n",
       "      <td>26.265803</td>\n",
       "      <td>2021-08-28</td>\n",
       "    </tr>\n",
       "  </tbody>\n",
       "</table>\n",
       "</div>"
      ],
      "text/plain": [
       "   user_id     distance   duration        date\n",
       "0        1  4409.919140  25.599769  2021-01-01\n",
       "1        1  2617.592153  15.816871  2021-01-18\n",
       "2        1   754.159807   6.232113  2021-04-20\n",
       "3        1  2694.783254  18.511000  2021-08-11\n",
       "4        1  4028.687306  26.265803  2021-08-28"
      ]
     },
     "metadata": {},
     "output_type": "display_data"
    },
    {
     "name": "stdout",
     "output_type": "stream",
     "text": [
      "<class 'pandas.core.frame.DataFrame'>\n",
      "RangeIndex: 18068 entries, 0 to 18067\n",
      "Data columns (total 4 columns):\n",
      " #   Column    Non-Null Count  Dtype  \n",
      "---  ------    --------------  -----  \n",
      " 0   user_id   18068 non-null  int64  \n",
      " 1   distance  18068 non-null  float64\n",
      " 2   duration  18068 non-null  float64\n",
      " 3   date      18068 non-null  object \n",
      "dtypes: float64(2), int64(1), object(1)\n",
      "memory usage: 564.8+ KB\n"
     ]
    }
   ],
   "source": [
    "rides = pd.read_csv('/datasets/rides_go.csv')\n",
    "display(rides.head())\n",
    "rides.info()"
   ]
  },
  {
   "cell_type": "code",
   "execution_count": 5,
   "id": "583dd805",
   "metadata": {},
   "outputs": [
    {
     "data": {
      "text/html": [
       "<div>\n",
       "<style scoped>\n",
       "    .dataframe tbody tr th:only-of-type {\n",
       "        vertical-align: middle;\n",
       "    }\n",
       "\n",
       "    .dataframe tbody tr th {\n",
       "        vertical-align: top;\n",
       "    }\n",
       "\n",
       "    .dataframe thead th {\n",
       "        text-align: right;\n",
       "    }\n",
       "</style>\n",
       "<table border=\"1\" class=\"dataframe\">\n",
       "  <thead>\n",
       "    <tr style=\"text-align: right;\">\n",
       "      <th></th>\n",
       "      <th>subscription_type</th>\n",
       "      <th>minute_price</th>\n",
       "      <th>start_ride_price</th>\n",
       "      <th>subscription_fee</th>\n",
       "    </tr>\n",
       "  </thead>\n",
       "  <tbody>\n",
       "    <tr>\n",
       "      <th>0</th>\n",
       "      <td>free</td>\n",
       "      <td>8</td>\n",
       "      <td>50</td>\n",
       "      <td>0</td>\n",
       "    </tr>\n",
       "    <tr>\n",
       "      <th>1</th>\n",
       "      <td>ultra</td>\n",
       "      <td>6</td>\n",
       "      <td>0</td>\n",
       "      <td>199</td>\n",
       "    </tr>\n",
       "  </tbody>\n",
       "</table>\n",
       "</div>"
      ],
      "text/plain": [
       "  subscription_type  minute_price  start_ride_price  subscription_fee\n",
       "0              free             8                50                 0\n",
       "1             ultra             6                 0               199"
      ]
     },
     "metadata": {},
     "output_type": "display_data"
    },
    {
     "name": "stdout",
     "output_type": "stream",
     "text": [
      "<class 'pandas.core.frame.DataFrame'>\n",
      "RangeIndex: 2 entries, 0 to 1\n",
      "Data columns (total 4 columns):\n",
      " #   Column             Non-Null Count  Dtype \n",
      "---  ------             --------------  ----- \n",
      " 0   subscription_type  2 non-null      object\n",
      " 1   minute_price       2 non-null      int64 \n",
      " 2   start_ride_price   2 non-null      int64 \n",
      " 3   subscription_fee   2 non-null      int64 \n",
      "dtypes: int64(3), object(1)\n",
      "memory usage: 192.0+ bytes\n"
     ]
    }
   ],
   "source": [
    "subscriptions = pd.read_csv('/datasets/subscriptions_go.csv')\n",
    "display(subscriptions.head())\n",
    "subscriptions.info()"
   ]
  },
  {
   "cell_type": "markdown",
   "id": "1131a495",
   "metadata": {},
   "source": [
    "На первый взгляд данные в порядке. Отсутствуют пропущенные значения, типы данных корректные. "
   ]
  },
  {
   "cell_type": "markdown",
   "id": "90914dbb",
   "metadata": {},
   "source": [
    "## Предобработка данных"
   ]
  },
  {
   "cell_type": "markdown",
   "id": "3ac7f10f",
   "metadata": {},
   "source": [
    "### Обработка даты\n",
    "\n",
    "\n",
    "Чтобы удобнее было производить вычисления, приведем колонку с датами к типу данных date и выделим месяц."
   ]
  },
  {
   "cell_type": "code",
   "execution_count": 6,
   "id": "7c3d23bf",
   "metadata": {},
   "outputs": [
    {
     "data": {
      "text/html": [
       "<div>\n",
       "<style scoped>\n",
       "    .dataframe tbody tr th:only-of-type {\n",
       "        vertical-align: middle;\n",
       "    }\n",
       "\n",
       "    .dataframe tbody tr th {\n",
       "        vertical-align: top;\n",
       "    }\n",
       "\n",
       "    .dataframe thead th {\n",
       "        text-align: right;\n",
       "    }\n",
       "</style>\n",
       "<table border=\"1\" class=\"dataframe\">\n",
       "  <thead>\n",
       "    <tr style=\"text-align: right;\">\n",
       "      <th></th>\n",
       "      <th>user_id</th>\n",
       "      <th>distance</th>\n",
       "      <th>duration</th>\n",
       "      <th>date</th>\n",
       "      <th>month</th>\n",
       "    </tr>\n",
       "  </thead>\n",
       "  <tbody>\n",
       "    <tr>\n",
       "      <th>0</th>\n",
       "      <td>1</td>\n",
       "      <td>4409.919140</td>\n",
       "      <td>25.599769</td>\n",
       "      <td>2021-01-01</td>\n",
       "      <td>1</td>\n",
       "    </tr>\n",
       "    <tr>\n",
       "      <th>1</th>\n",
       "      <td>1</td>\n",
       "      <td>2617.592153</td>\n",
       "      <td>15.816871</td>\n",
       "      <td>2021-01-18</td>\n",
       "      <td>1</td>\n",
       "    </tr>\n",
       "    <tr>\n",
       "      <th>2</th>\n",
       "      <td>1</td>\n",
       "      <td>754.159807</td>\n",
       "      <td>6.232113</td>\n",
       "      <td>2021-04-20</td>\n",
       "      <td>4</td>\n",
       "    </tr>\n",
       "    <tr>\n",
       "      <th>3</th>\n",
       "      <td>1</td>\n",
       "      <td>2694.783254</td>\n",
       "      <td>18.511000</td>\n",
       "      <td>2021-08-11</td>\n",
       "      <td>8</td>\n",
       "    </tr>\n",
       "    <tr>\n",
       "      <th>4</th>\n",
       "      <td>1</td>\n",
       "      <td>4028.687306</td>\n",
       "      <td>26.265803</td>\n",
       "      <td>2021-08-28</td>\n",
       "      <td>8</td>\n",
       "    </tr>\n",
       "  </tbody>\n",
       "</table>\n",
       "</div>"
      ],
      "text/plain": [
       "   user_id     distance   duration       date  month\n",
       "0        1  4409.919140  25.599769 2021-01-01      1\n",
       "1        1  2617.592153  15.816871 2021-01-18      1\n",
       "2        1   754.159807   6.232113 2021-04-20      4\n",
       "3        1  2694.783254  18.511000 2021-08-11      8\n",
       "4        1  4028.687306  26.265803 2021-08-28      8"
      ]
     },
     "metadata": {},
     "output_type": "display_data"
    },
    {
     "name": "stdout",
     "output_type": "stream",
     "text": [
      "Имеем данные за период 2021-01-01 - 2021-12-30\n"
     ]
    }
   ],
   "source": [
    "rides['date'] = pd.to_datetime(rides['date'])\n",
    "rides['month'] = rides['date'].dt.month\n",
    "rides_min = rides['date'].min().date()\n",
    "rides_max = rides['date'].max().date()\n",
    "display(rides.head())\n",
    "print(f'Имеем данные за период {rides_min} - {rides_max}')"
   ]
  },
  {
   "cell_type": "markdown",
   "id": "d1ce2355",
   "metadata": {},
   "source": [
    "### Обработка дубликатов\n",
    "\n",
    "Посмотрим, есть ли в таблицах явные и неявные дубли и избавимся от них в случае необходимости"
   ]
  },
  {
   "cell_type": "code",
   "execution_count": 7,
   "id": "96f89516",
   "metadata": {},
   "outputs": [
    {
     "name": "stdout",
     "output_type": "stream",
     "text": [
      "Явных дублей в таблицах:\n",
      "users - 31\n",
      "rides - 0\n",
      "subscriptions - 0\n"
     ]
    }
   ],
   "source": [
    "print(f\"\"\"Явных дублей в таблицах:\n",
    "users - {users.duplicated().sum()}\n",
    "rides - {rides.duplicated().sum()}\n",
    "subscriptions - {subscriptions.duplicated().sum()}\"\"\")"
   ]
  },
  {
   "cell_type": "code",
   "execution_count": 8,
   "id": "231606cd",
   "metadata": {},
   "outputs": [
    {
     "name": "stdout",
     "output_type": "stream",
     "text": [
      "В таблице users мы обнаружили несколько дублей. Лучше от них избавиться\n",
      "\n",
      "Проверка:\n",
      "users - 0\n",
      "rides - 0\n",
      "subscriptions - 0\n"
     ]
    }
   ],
   "source": [
    "users = users.drop_duplicates()\n",
    "print('В таблице users мы обнаружили несколько дублей. Лучше от них избавиться\\n')\n",
    "print(f\"\"\"Проверка:\n",
    "users - {users.duplicated().sum()}\n",
    "rides - {rides.duplicated().sum()}\n",
    "subscriptions - {subscriptions.duplicated().sum()}\"\"\")"
   ]
  },
  {
   "cell_type": "code",
   "execution_count": 9,
   "id": "87ae7129",
   "metadata": {},
   "outputs": [
    {
     "data": {
      "text/plain": [
       "array(['Тюмень', 'Омск', 'Москва', 'Ростов-на-Дону', 'Краснодар',\n",
       "       'Пятигорск', 'Екатеринбург', 'Сочи'], dtype=object)"
      ]
     },
     "execution_count": 9,
     "metadata": {},
     "output_type": "execute_result"
    }
   ],
   "source": [
    "users['city'].unique()"
   ]
  },
  {
   "cell_type": "markdown",
   "id": "58b15667",
   "metadata": {},
   "source": [
    "<strong>Вывод:</strong> \n",
    "- В таблице <i>users</i> мы обнаружили несколько дублирующихся строк, и избавились от них.\n",
    "- Неявные дубли в названий городов не обнаружены."
   ]
  },
  {
   "cell_type": "markdown",
   "id": "c2e671ac",
   "metadata": {},
   "source": [
    "## Исследовательский анализ данных\n",
    "\n",
    "Посмотрим на данные, удастся ли найти какие-то особенности и закономерности"
   ]
  },
  {
   "cell_type": "markdown",
   "id": "74d010e7",
   "metadata": {},
   "source": [
    "### Города"
   ]
  },
  {
   "cell_type": "code",
   "execution_count": 10,
   "id": "7dbc68e5",
   "metadata": {},
   "outputs": [
    {
     "data": {
      "text/html": [
       "<div>\n",
       "<style scoped>\n",
       "    .dataframe tbody tr th:only-of-type {\n",
       "        vertical-align: middle;\n",
       "    }\n",
       "\n",
       "    .dataframe tbody tr th {\n",
       "        vertical-align: top;\n",
       "    }\n",
       "\n",
       "    .dataframe thead th {\n",
       "        text-align: right;\n",
       "    }\n",
       "</style>\n",
       "<table border=\"1\" class=\"dataframe\">\n",
       "  <thead>\n",
       "    <tr style=\"text-align: right;\">\n",
       "      <th></th>\n",
       "      <th>city</th>\n",
       "      <th>user_id</th>\n",
       "    </tr>\n",
       "  </thead>\n",
       "  <tbody>\n",
       "    <tr>\n",
       "      <th>0</th>\n",
       "      <td>Пятигорск</td>\n",
       "      <td>219</td>\n",
       "    </tr>\n",
       "    <tr>\n",
       "      <th>1</th>\n",
       "      <td>Екатеринбург</td>\n",
       "      <td>204</td>\n",
       "    </tr>\n",
       "    <tr>\n",
       "      <th>2</th>\n",
       "      <td>Ростов-на-Дону</td>\n",
       "      <td>198</td>\n",
       "    </tr>\n",
       "    <tr>\n",
       "      <th>3</th>\n",
       "      <td>Краснодар</td>\n",
       "      <td>193</td>\n",
       "    </tr>\n",
       "    <tr>\n",
       "      <th>4</th>\n",
       "      <td>Сочи</td>\n",
       "      <td>189</td>\n",
       "    </tr>\n",
       "    <tr>\n",
       "      <th>5</th>\n",
       "      <td>Омск</td>\n",
       "      <td>183</td>\n",
       "    </tr>\n",
       "    <tr>\n",
       "      <th>6</th>\n",
       "      <td>Тюмень</td>\n",
       "      <td>180</td>\n",
       "    </tr>\n",
       "    <tr>\n",
       "      <th>7</th>\n",
       "      <td>Москва</td>\n",
       "      <td>168</td>\n",
       "    </tr>\n",
       "  </tbody>\n",
       "</table>\n",
       "</div>"
      ],
      "text/plain": [
       "             city  user_id\n",
       "0       Пятигорск      219\n",
       "1    Екатеринбург      204\n",
       "2  Ростов-на-Дону      198\n",
       "3       Краснодар      193\n",
       "4            Сочи      189\n",
       "5            Омск      183\n",
       "6          Тюмень      180\n",
       "7          Москва      168"
      ]
     },
     "execution_count": 10,
     "metadata": {},
     "output_type": "execute_result"
    }
   ],
   "source": [
    "users.groupby('city')['user_id'].count().sort_values(ascending=False).reset_index()"
   ]
  },
  {
   "cell_type": "code",
   "execution_count": 11,
   "id": "dfb81e60",
   "metadata": {
    "scrolled": true
   },
   "outputs": [
    {
     "data": {
      "image/png": "[encoded data removed]",
      "text/plain": [
       "<Figure size 1440x360 with 1 Axes>"
      ]
     },
     "metadata": {
      "needs_background": "light"
     },
     "output_type": "display_data"
    },
    {
     "name": "stdout",
     "output_type": "stream",
     "text": [
      "В целом распределение пользователей по городам довольно равномерно. \n",
      "Город-лидер по количеству пользоватетей - Пятигорск. \n",
      "Меньше всего пользователей в Москве.\n"
     ]
    }
   ],
   "source": [
    "cities_chart_data = users['city'].value_counts().sort_values()\n",
    "cities_chart_data.plot.barh(figsize=(20, 5))\n",
    "plt.title('Распределение городов')\n",
    "plt.show()\n",
    "print('''В целом распределение пользователей по городам довольно равномерно. \n",
    "Город-лидер по количеству пользоватетей - Пятигорск. \n",
    "Меньше всего пользователей в Москве.''')"
   ]
  },
  {
   "cell_type": "code",
   "execution_count": 12,
   "id": "2a5ceb9f",
   "metadata": {},
   "outputs": [
    {
     "data": {
      "image/png": "[encoded data removed]",
      "text/plain": [
       "<Figure size 432x288 with 1 Axes>"
      ]
     },
     "metadata": {},
     "output_type": "display_data"
    },
    {
     "name": "stdout",
     "output_type": "stream",
     "text": [
      "Ситуация с подписками очень похожа. Бесплатной подпиской пользуются незначительно больше пользователей\n"
     ]
    }
   ],
   "source": [
    "ax = users.groupby('subscription_type')['user_id'].count().sort_values().plot(kind='pie', autopct = '%.0f');\n",
    "ax.set(ylabel=None)\n",
    "plt.title('Распределение подписок')\n",
    "plt.show()\n",
    "print('''Ситуация с подписками очень похожа. Бесплатной подпиской пользуются незначительно больше пользователей''')"
   ]
  },
  {
   "cell_type": "code",
   "execution_count": 13,
   "id": "cf02d0ee",
   "metadata": {},
   "outputs": [
    {
     "data": {
      "image/png": "[encoded data removed]",
      "text/plain": [
       "<Figure size 1440x360 with 1 Axes>"
      ]
     },
     "metadata": {
      "needs_background": "light"
     },
     "output_type": "display_data"
    },
    {
     "name": "stdout",
     "output_type": "stream",
     "text": [
      "Расределение возрастов похоже на нормальное вокруг среднего 25 лет, что логично\n",
      "\n",
      "Статистика возраста:\n"
     ]
    },
    {
     "data": {
      "text/plain": [
       "count    1534.0\n",
       "mean       24.9\n",
       "std         4.6\n",
       "min        12.0\n",
       "25%        22.0\n",
       "50%        25.0\n",
       "75%        28.0\n",
       "max        43.0\n",
       "Name: age, dtype: float64"
      ]
     },
     "execution_count": 13,
     "metadata": {},
     "output_type": "execute_result"
    }
   ],
   "source": [
    "ax = users.groupby('age')['user_id'].count().plot(kind='bar', figsize=(20, 5));\n",
    "ax.set(xlabel='Возраст')\n",
    "ax.set(ylabel='Количество пользователей')\n",
    "plt.title('Распределение возрастов')\n",
    "plt.show()\n",
    "print('''Расределение возрастов похоже на нормальное вокруг среднего 25 лет, что логично\\n''')\n",
    "print('Статистика возраста:')\n",
    "users['age'].describe().round(1)"
   ]
  },
  {
   "cell_type": "code",
   "execution_count": 13,
   "id": "db26d2ed",
   "metadata": {},
   "outputs": [
    {
     "data": {
      "image/png": "[encoded data removed]",
      "text/plain": [
       "<Figure size 1440x360 with 1 Axes>"
      ]
     },
     "metadata": {
      "needs_background": "light"
     },
     "output_type": "display_data"
    },
    {
     "name": "stdout",
     "output_type": "stream",
     "text": [
      "Длительность поездки тоже распределена нормально вокруг среднего в районе 17 минут.\n",
      "Есть странный пик в районе нуля, нужно посмотреть на него повнимательнее\n"
     ]
    }
   ],
   "source": [
    "ax = rides['duration'].hist(bins=50, figsize=(20, 5));\n",
    "plt.title('Распределение длительности поездки')\n",
    "ax.set(xlabel='Длительность поездки в минутах', ylabel='Количество пользователей')\n",
    "plt.show()\n",
    "print('''Длительность поездки тоже распределена нормально вокруг среднего в районе 17 минут.\n",
    "Есть странный пик в районе нуля, нужно посмотреть на него повнимательнее''')"
   ]
  },
  {
   "cell_type": "code",
   "execution_count": 14,
   "id": "9276db6c",
   "metadata": {},
   "outputs": [
    {
     "data": {
      "text/html": [
       "<div>\n",
       "<style scoped>\n",
       "    .dataframe tbody tr th:only-of-type {\n",
       "        vertical-align: middle;\n",
       "    }\n",
       "\n",
       "    .dataframe tbody tr th {\n",
       "        vertical-align: top;\n",
       "    }\n",
       "\n",
       "    .dataframe thead th {\n",
       "        text-align: right;\n",
       "    }\n",
       "</style>\n",
       "<table border=\"1\" class=\"dataframe\">\n",
       "  <thead>\n",
       "    <tr style=\"text-align: right;\">\n",
       "      <th></th>\n",
       "      <th>user_id</th>\n",
       "      <th>distance</th>\n",
       "      <th>duration</th>\n",
       "      <th>date</th>\n",
       "      <th>month</th>\n",
       "    </tr>\n",
       "  </thead>\n",
       "  <tbody>\n",
       "    <tr>\n",
       "      <th>6531</th>\n",
       "      <td>701</td>\n",
       "      <td>4196.445201</td>\n",
       "      <td>0.5</td>\n",
       "      <td>2021-08-31</td>\n",
       "      <td>8</td>\n",
       "    </tr>\n",
       "    <tr>\n",
       "      <th>6570</th>\n",
       "      <td>704</td>\n",
       "      <td>4830.824371</td>\n",
       "      <td>0.5</td>\n",
       "      <td>2021-10-14</td>\n",
       "      <td>10</td>\n",
       "    </tr>\n",
       "    <tr>\n",
       "      <th>6680</th>\n",
       "      <td>712</td>\n",
       "      <td>4684.004397</td>\n",
       "      <td>0.5</td>\n",
       "      <td>2021-03-04</td>\n",
       "      <td>3</td>\n",
       "    </tr>\n",
       "    <tr>\n",
       "      <th>6695</th>\n",
       "      <td>713</td>\n",
       "      <td>5215.642710</td>\n",
       "      <td>0.5</td>\n",
       "      <td>2021-02-25</td>\n",
       "      <td>2</td>\n",
       "    </tr>\n",
       "    <tr>\n",
       "      <th>6768</th>\n",
       "      <td>718</td>\n",
       "      <td>5197.436649</td>\n",
       "      <td>0.5</td>\n",
       "      <td>2021-02-11</td>\n",
       "      <td>2</td>\n",
       "    </tr>\n",
       "  </tbody>\n",
       "</table>\n",
       "</div>"
      ],
      "text/plain": [
       "      user_id     distance  duration       date  month\n",
       "6531      701  4196.445201       0.5 2021-08-31      8\n",
       "6570      704  4830.824371       0.5 2021-10-14     10\n",
       "6680      712  4684.004397       0.5 2021-03-04      3\n",
       "6695      713  5215.642710       0.5 2021-02-25      2\n",
       "6768      718  5197.436649       0.5 2021-02-11      2"
      ]
     },
     "metadata": {},
     "output_type": "display_data"
    },
    {
     "name": "stdout",
     "output_type": "stream",
     "text": [
      "95 странных поездок по полминуты. Во время которых проехали по 4-5 км.\n",
      "Это аномалии, от которых следует избавиться\n"
     ]
    }
   ],
   "source": [
    "display(rides[rides['duration'] < 1].head())\n",
    "print(len(rides[rides['duration'] < 1]), 'странных поездок по полминуты. Во время которых проехали по 4-5 км.')\n",
    "print('Это аномалии, от которых следует избавиться')"
   ]
  },
  {
   "cell_type": "code",
   "execution_count": 15,
   "id": "024c65ef",
   "metadata": {},
   "outputs": [
    {
     "data": {
      "image/png": "[encoded data removed]",
      "text/plain": [
       "<Figure size 1440x360 with 1 Axes>"
      ]
     },
     "metadata": {
      "needs_background": "light"
     },
     "output_type": "display_data"
    },
    {
     "name": "stdout",
     "output_type": "stream",
     "text": [
      "Расстояния поездок имеют два пика - возможно стоит рассмотреть их отдельно\n"
     ]
    }
   ],
   "source": [
    "ax = rides['distance'].hist(bins=100, figsize=(20, 5));\n",
    "plt.title('Распределение расстояния поездки')\n",
    "ax.set(xlabel='Расстояние поездки в метрах', ylabel='Количество пользователей')\n",
    "plt.show()\n",
    "print('''Расстояния поездок имеют два пика - возможно стоит рассмотреть их отдельно''')"
   ]
  },
  {
   "cell_type": "markdown",
   "id": "96300a8c",
   "metadata": {},
   "source": [
    "## Объединение данных\n",
    "\n",
    "Объединим данные из всех датасетов в один, после разделим на разные подписки."
   ]
  },
  {
   "cell_type": "code",
   "execution_count": 16,
   "id": "13884469",
   "metadata": {},
   "outputs": [
    {
     "data": {
      "text/plain": [
       "True"
      ]
     },
     "execution_count": 16,
     "metadata": {},
     "output_type": "execute_result"
    }
   ],
   "source": [
    "total_df = (rides\n",
    "            .merge(users, how='left', on='user_id')\n",
    "            .merge(subscriptions, how='left', on='subscription_type'))\n",
    "\n",
    "ultra = total_df[total_df['subscription_type'] == 'ultra']\n",
    "free = total_df[total_df['subscription_type'] == 'free']\n",
    "\n",
    "# Проверим, не задублировались ли строки\n",
    "total_df.shape[0] == rides.shape[0]"
   ]
  },
  {
   "cell_type": "code",
   "execution_count": 17,
   "id": "21e43de0",
   "metadata": {},
   "outputs": [
    {
     "data": {
      "image/png": "[encoded data removed]",
      "text/plain": [
       "<Figure size 1440x360 with 1 Axes>"
      ]
     },
     "metadata": {
      "needs_background": "light"
     },
     "output_type": "display_data"
    },
    {
     "name": "stdout",
     "output_type": "stream",
     "text": [
      "Распределения очень похожи. В подписке free больше пользователей и аномалия в районе нуля\n"
     ]
    }
   ],
   "source": [
    "fig, ax = plt.subplots(figsize=(20, 5))\n",
    "plt.title('Время поездки по подпискам')\n",
    "ax.hist(free['duration'], bins=50, alpha=0.5, label='free')\n",
    "ax.hist(ultra['duration'], bins=50, alpha=0.5, label='ultra')\n",
    "ax.set(xlabel='Время в минутах', ylabel='Количество пользователей')\n",
    "ax.legend()\n",
    "plt.show()\n",
    "print('Распределения очень похожи. В подписке free больше пользователей и аномалия в районе нуля')"
   ]
  },
  {
   "cell_type": "code",
   "execution_count": 18,
   "id": "0a5b2475",
   "metadata": {},
   "outputs": [
    {
     "data": {
      "image/png": "[encoded data removed]",
      "text/plain": [
       "<Figure size 1440x360 with 1 Axes>"
      ]
     },
     "metadata": {
      "needs_background": "light"
     },
     "output_type": "display_data"
    },
    {
     "name": "stdout",
     "output_type": "stream",
     "text": [
      "Видно, что дисперсии распределений сильно различаются. Оба имеют два пика\n"
     ]
    }
   ],
   "source": [
    "fig, ax = plt.subplots(figsize=(20, 5))\n",
    "plt.title('Расстояние по подпискам')\n",
    "ax.hist(free['distance'], bins=50, alpha=0.5, label='free')\n",
    "ax.hist(ultra['distance'], bins=50, alpha=0.5, label='ultra')\n",
    "ax.set(xlabel='Расстояние в метрах', ylabel='Количество пользователей')\n",
    "ax.legend()\n",
    "plt.show()\n",
    "print('Видно, что дисперсии распределений сильно различаются. Оба имеют два пика')"
   ]
  },
  {
   "cell_type": "markdown",
   "id": "8d826e32",
   "metadata": {},
   "source": [
    "## Подсчёт выручки\n",
    "\n",
    "Найдём суммарное время поездки, расстояние, количество поездок и выручке, полученную за каждого пользователя в каждом месяце."
   ]
  },
  {
   "cell_type": "code",
   "execution_count": 19,
   "id": "535cd387",
   "metadata": {},
   "outputs": [
    {
     "data": {
      "text/html": [
       "<div>\n",
       "<style scoped>\n",
       "    .dataframe tbody tr th:only-of-type {\n",
       "        vertical-align: middle;\n",
       "    }\n",
       "\n",
       "    .dataframe tbody tr th {\n",
       "        vertical-align: top;\n",
       "    }\n",
       "\n",
       "    .dataframe thead th {\n",
       "        text-align: right;\n",
       "    }\n",
       "</style>\n",
       "<table border=\"1\" class=\"dataframe\">\n",
       "  <thead>\n",
       "    <tr style=\"text-align: right;\">\n",
       "      <th></th>\n",
       "      <th>user_id</th>\n",
       "      <th>month</th>\n",
       "      <th>subscription_type</th>\n",
       "      <th>distance</th>\n",
       "      <th>duration</th>\n",
       "      <th>rides</th>\n",
       "      <th>revenue</th>\n",
       "    </tr>\n",
       "  </thead>\n",
       "  <tbody>\n",
       "    <tr>\n",
       "      <th>0</th>\n",
       "      <td>1</td>\n",
       "      <td>1</td>\n",
       "      <td>ultra</td>\n",
       "      <td>7027.511294</td>\n",
       "      <td>41.416640</td>\n",
       "      <td>2</td>\n",
       "      <td>451.0</td>\n",
       "    </tr>\n",
       "    <tr>\n",
       "      <th>1</th>\n",
       "      <td>1</td>\n",
       "      <td>4</td>\n",
       "      <td>ultra</td>\n",
       "      <td>754.159807</td>\n",
       "      <td>6.232113</td>\n",
       "      <td>1</td>\n",
       "      <td>241.0</td>\n",
       "    </tr>\n",
       "    <tr>\n",
       "      <th>2</th>\n",
       "      <td>1</td>\n",
       "      <td>8</td>\n",
       "      <td>ultra</td>\n",
       "      <td>6723.470560</td>\n",
       "      <td>44.776802</td>\n",
       "      <td>2</td>\n",
       "      <td>475.0</td>\n",
       "    </tr>\n",
       "    <tr>\n",
       "      <th>3</th>\n",
       "      <td>1</td>\n",
       "      <td>10</td>\n",
       "      <td>ultra</td>\n",
       "      <td>5809.911100</td>\n",
       "      <td>31.578017</td>\n",
       "      <td>2</td>\n",
       "      <td>391.0</td>\n",
       "    </tr>\n",
       "    <tr>\n",
       "      <th>4</th>\n",
       "      <td>1</td>\n",
       "      <td>11</td>\n",
       "      <td>ultra</td>\n",
       "      <td>7003.499363</td>\n",
       "      <td>53.397424</td>\n",
       "      <td>3</td>\n",
       "      <td>535.0</td>\n",
       "    </tr>\n",
       "  </tbody>\n",
       "</table>\n",
       "</div>"
      ],
      "text/plain": [
       "   user_id  month subscription_type     distance   duration  rides  revenue\n",
       "0        1      1             ultra  7027.511294  41.416640      2    451.0\n",
       "1        1      4             ultra   754.159807   6.232113      1    241.0\n",
       "2        1      8             ultra  6723.470560  44.776802      2    475.0\n",
       "3        1     10             ultra  5809.911100  31.578017      2    391.0\n",
       "4        1     11             ultra  7003.499363  53.397424      3    535.0"
      ]
     },
     "execution_count": 19,
     "metadata": {},
     "output_type": "execute_result"
    }
   ],
   "source": [
    "# Одна строчка в датасете - это одна поездка. Можем посчитать её стоимость без учета подписки\n",
    "# Подписка оплачивается раз в месяц, её посчитаем после агрегации данных\n",
    "total_df['ex_fee_revenue'] = (np.ceil(total_df['duration']) \n",
    "                              * total_df['minute_price'] \n",
    "                              + total_df['start_ride_price'])\n",
    "\n",
    "user_stat = (total_df.pivot_table(index=['user_id', 'month', 'subscription_type'], \n",
    "                     aggfunc={'distance': 'sum', \n",
    "                              'duration': 'sum',\n",
    "                              'ex_fee_revenue': 'sum',\n",
    "                              'user_id': 'count'})\n",
    "             .rename(columns={'user_id': 'rides'})\n",
    "             .reset_index())\n",
    "\n",
    "ultra_fee = subscriptions.query('subscription_type == \"ultra\"')['subscription_fee']\n",
    "\n",
    "user_stat['revenue'] = user_stat.apply(lambda x: x['ex_fee_revenue'] + ultra_fee\n",
    "                                       if x['subscription_type'] == 'ultra' \n",
    "                                       else x['ex_fee_revenue'], \n",
    "                                       axis=1)\n",
    "user_stat = user_stat.drop('ex_fee_revenue', axis=1)\n",
    "\n",
    "user_stat.head()"
   ]
  },
  {
   "cell_type": "markdown",
   "id": "515589d9",
   "metadata": {},
   "source": [
    "## Проверка гипотез\n",
    "\n",
    "Продакт-менеджеры сервиса хотят увеличить количество пользователей с подпиской. Для этого они будут проводить различные акции, но сначала нужно выяснить несколько важных моментов."
   ]
  },
  {
   "cell_type": "markdown",
   "id": "b245ade5",
   "metadata": {},
   "source": [
    "### Тратят ли пользователи с подпиской больше времени на поездки?\n",
    "\n",
    "Сравним средние двух выборок, чтобы ответить на этот вопрос.\n",
    "\n",
    "<strong>Нулевая гипотеза:</strong> в среднем длительность поездок пользователей с подпиской и без не различаются<br>\n",
    "<strong>Альтернативная гипотеза:</strong> в среднем длительность поездок пользователей с подпиской выше, чем у пользователей без подписки.\n",
    "\n",
    "Прежде, чем проводить исследование, нужно обработать несколько особенностей данных:\n",
    "1. Поскольку размеры датасетов различаются, возьмём из них случайные выборки одинакового размера. \n",
    "2. Также, исходя из графиков, мы можем увидеть, что дисперсии датасетов различаются, укажем это.\n",
    "3. В датасете *free* есть аномалии с длительностью поездки в полминуты. Избавимся от них."
   ]
  },
  {
   "cell_type": "code",
   "execution_count": 20,
   "id": "2707a1a4",
   "metadata": {},
   "outputs": [
    {
     "name": "stdout",
     "output_type": "stream",
     "text": [
      "Среднее время поездки:\n",
      "free: 17.0\n",
      "ultra: 19.0\n",
      "\n",
      "p-значение: 3.869950729014655e-23 \n",
      "\n",
      "Отвергаем нулевую гипотезу. Пользователи с подпиской действительно тратят больше времени на поездки.\n",
      "Такие пользователи выгоднее для компании. Следует популяризировать подписку ultra среди пользователей без подписки,\n",
      "а пользователей с подпиской стараться максимально удерживать\n"
     ]
    }
   ],
   "source": [
    "free_duration = free[free['duration'] > 0.5]['duration'].sample(n=6000, random_state=random_state)\n",
    "ultra_duration = ultra['duration'].sample(n=6000, random_state=random_state)\n",
    "\n",
    "results = st.ttest_ind(ultra_duration, \n",
    "                       free_duration, \n",
    "                       alternative='greater', \n",
    "                       equal_var=False)\n",
    "alpha = 0.05 \n",
    "\n",
    "print(f'''Среднее время поездки:\n",
    "free: {free_duration.mean().round()}\n",
    "ultra: {ultra_duration.mean().round()}\\n''')\n",
    "\n",
    "print('p-значение:', results.pvalue, '\\n')\n",
    "\n",
    "if results.pvalue < alpha:\n",
    "    print('''Отвергаем нулевую гипотезу. Пользователи с подпиской действительно тратят больше времени на поездки.\n",
    "Такие пользователи выгоднее для компании. Следует популяризировать подписку ultra среди пользователей без подписки,\n",
    "а пользователей с подпиской стараться максимально удерживать''')\n",
    "else:\n",
    "    print('Не получилось отвергнуть нулевую гипотезу') "
   ]
  },
  {
   "cell_type": "markdown",
   "id": "fcf8754c",
   "metadata": {},
   "source": [
    "### Расстояние одной поездки в 3130 метров — оптимальное с точки зрения износа самоката?\n",
    "\n",
    "Сравним среднее выборки *ultra* с целевым показателем, чтобы ответить на этот вопрос.\n",
    "\n",
    "<strong>Нулевая гипотеза:</strong> среднее расстояние, которое проезжают пользователи с подпиской за одну поездку, не превышает 3130 метров<br>\n",
    "<strong>Альтернативная гипотеза:</strong> среднее расстояние, которое проезжают пользователи с подпиской за одну поездку, превышает 3130 метров"
   ]
  },
  {
   "cell_type": "code",
   "execution_count": 21,
   "id": "0fbbe41d",
   "metadata": {},
   "outputs": [
    {
     "name": "stdout",
     "output_type": "stream",
     "text": [
      "Среднее расстояние поездки:\n",
      "ultra: 3115.0\n",
      "\n",
      "p-значение: 0.9195368847849785 \n",
      "\n",
      "Не получилось отвергнуть нулевую гипотезу. \n",
      "Среднее расстояние, которое пользователи проезжают за одну поездку действительно не превышает 3130 метров.\n"
     ]
    }
   ],
   "source": [
    "ultra_distance = ultra['distance']\n",
    "\n",
    "interested_value = 3130\n",
    "\n",
    "results = st.ttest_1samp(ultra_distance, \n",
    "                         interested_value, \n",
    "                         alternative='greater')\n",
    "alpha = 0.05 \n",
    "\n",
    "print(f'''Среднее расстояние поездки:\n",
    "ultra: {ultra_distance.mean().round()}\\n''')\n",
    "\n",
    "print('p-значение:', results.pvalue, '\\n')\n",
    "\n",
    "if results.pvalue < alpha:\n",
    "    print('''Отвергаем нулевую гипотезу. Среднее расстояние, которое пользователи проезжают за одну поездку, \n",
    "превышает 3130 метров. Расстояние, выбранное как оптимальное для износа самоката, стоит увеличить.''')\n",
    "else:\n",
    "    print('''Не получилось отвергнуть нулевую гипотезу. \n",
    "Среднее расстояние, которое пользователи проезжают за одну поездку действительно не превышает 3130 метров.''') "
   ]
  },
  {
   "cell_type": "markdown",
   "id": "135e0d82",
   "metadata": {},
   "source": [
    "### Какие пользователи приносят больше выручки?\n",
    "\n",
    "Сравним средние двух выборок, чтобы ответить на этот вопрос.\n",
    "\n",
    "<strong>Нулевая гипотеза:</strong> в среднем помесячная выручка от пользователей с подпиской не отличаются от пользователей без неё<br>\n",
    "<strong>Альтернативная гипотеза:</strong> помесячная выручка от пользователей с подпиской по месяцам выше, чем выручка от пользователей без подписки"
   ]
  },
  {
   "cell_type": "code",
   "execution_count": 22,
   "id": "b3c84b33",
   "metadata": {},
   "outputs": [
    {
     "name": "stdout",
     "output_type": "stream",
     "text": [
      "Средняя выручка:\n",
      "free: 326.0\n",
      "ultra: 363.0\n",
      "\n",
      "p-значение: 2.6754923673120238e-34 \n",
      "\n",
      "Отвергаем нулевую гипотезу. Помесячная выручка пользователей с подпиской выше, чем пользователей без неё.\n",
      "Нам следует максимально удерживать пользователей с подпиской и популяризировать её среди пользователей без неё.\n"
     ]
    }
   ],
   "source": [
    "free_revenue = user_stat[user_stat['subscription_type'] == 'free']['revenue'].sample(n=4500, \n",
    "                                                                                     random_state=random_state)\n",
    "ultra_revenue = user_stat[user_stat['subscription_type'] == 'ultra']['revenue'].sample(n=4500, \n",
    "                                                                                       random_state=random_state)\n",
    "\n",
    "results = st.ttest_ind(ultra_revenue, \n",
    "                       free_revenue, \n",
    "                       alternative='greater', \n",
    "                       equal_var=False)\n",
    "alpha = 0.05 \n",
    "\n",
    "print(f'''Средняя выручка:\n",
    "free: {free_revenue.mean().round()}\n",
    "ultra: {ultra_revenue.mean().round()}\\n''')\n",
    "\n",
    "print('p-значение:', results.pvalue, '\\n')\n",
    "\n",
    "if results.pvalue < alpha:\n",
    "    print('''Отвергаем нулевую гипотезу. Помесячная выручка пользователей с подпиской выше, чем пользователей без неё.\n",
    "Нам следует максимально удерживать пользователей с подпиской и популяризировать её среди пользователей без неё.''')\n",
    "else:\n",
    "    print('Не получилось отвергнуть нулевую гипотезу') "
   ]
  },
  {
   "cell_type": "markdown",
   "id": "34d912e3",
   "metadata": {},
   "source": [
    "## Распределения"
   ]
  },
  {
   "cell_type": "markdown",
   "id": "023484e6",
   "metadata": {},
   "source": [
    "### Промокоды\n",
    "\n",
    "Отделу маркетинга GoFast поставили задачу: нужно провести акцию с раздачей промокодов на один бесплатный месяц подписки, в рамках которой как минимум <strong>100</strong> существующих клиентов должны продлить эту подписку. То есть по завершении периода действия подписки пользователь может либо отказаться от неё, либо продлить, совершив соответствующий платёж. Эта акция уже проводилась ранее и по итогу выяснилось, что после бесплатного пробного периода подписку продлевают <strong>10%</strong> пользователей. \n",
    "\n",
    "Необходимо выяснить, какое минимальное количество промокодов нужно разослать, чтобы вероятность не выполнить план была примерно <strong>5%</strong>.\n",
    "\n",
    "Чтобы решить эту задачу, можно воспользоваться свойством биномиального распределения, согласно которому оно приближается к нормальному в случае большого количества экспериментов. Далее останется подобрать такое значение, при котором вероятность получить менее 100 клиентов, составляет менее 5%."
   ]
  },
  {
   "cell_type": "code",
   "execution_count": 23,
   "id": "42aba888",
   "metadata": {},
   "outputs": [
    {
     "name": "stdout",
     "output_type": "stream",
     "text": [
      "Нам необходимо предложить 1169 пользователю бесплатную подписку, чтобы вероятность получить менее 100 клиентов составляла 5.0%\n"
     ]
    },
    {
     "data": {
      "image/png": "[encoded data removed]",
      "text/plain": [
       "<Figure size 432x288 with 1 Axes>"
      ]
     },
     "metadata": {
      "needs_background": "light"
     },
     "output_type": "display_data"
    }
   ],
   "source": [
    "n = 1169 # количество бесплатных подписок\n",
    "p = 0.1 # вероятность того, что пользователь продолжит подписку\n",
    "x = 100 # целевое значение клиентов\n",
    "\n",
    "# зададим параметры нормального распределения равными\n",
    "# мат.ожиданию и дисперсии биномиального распределения\n",
    "mu = n * p\n",
    "sigma = sqrt(n * p * (1 - p))\n",
    "\n",
    "distr = st.norm(mu, sigma)\n",
    "\n",
    "print(f'''Нам необходимо предложить {n} пользователю бесплатную подписку, \\\n",
    "чтобы вероятность получить менее 100 клиентов составляла {distr.cdf(x).round(3) * 100}%''')\n",
    "\n",
    "distr_plot = np.random.normal(mu, sigma, 1000) \n",
    "plt.hist(distr_plot, 10) \n",
    "plt.title('Распределение вероятности подписаться после бесплатного периода')\n",
    "plt.xlabel('Количество пользователей')\n",
    "\n",
    "plt.show()"
   ]
  },
  {
   "cell_type": "markdown",
   "id": "07475fcb",
   "metadata": {},
   "source": [
    "### Уведомления\n",
    "\n",
    "Отдел маркетинга рассылает клиентам push-уведомления в мобильном приложении. Клиенты могут открыть его или не открывать. Известно, что уведомления открывают около 40% получивших клиентов. Отдел планирует разослать 1 млн уведомлений. С помощью аппроксимации нужно построить примерный график распределения и оцените вероятность того, что уведомление откроют не более 399,5 тыс. пользователей."
   ]
  },
  {
   "cell_type": "code",
   "execution_count": 24,
   "id": "0bfeb00b",
   "metadata": {},
   "outputs": [
    {
     "name": "stdout",
     "output_type": "stream",
     "text": [
      "Вероятность того, что письмо откроют не более 399500 пользователей составляет 15.4%\n"
     ]
    },
    {
     "data": {
      "image/png": "[encoded data removed]",
      "text/plain": [
       "<Figure size 432x288 with 1 Axes>"
      ]
     },
     "metadata": {
      "needs_background": "light"
     },
     "output_type": "display_data"
    }
   ],
   "source": [
    "n = 1000000 # количество уведомлений\n",
    "p = 0.4 # вероятность того, что пользователь откроет уведомление\n",
    "x = 399500 # целевое значение открытий\n",
    "\n",
    "# зададим параметры нормального распределения равными\n",
    "# мат.ожиданию и дисперсии биномиального распределения\n",
    "mu = n * p\n",
    "sigma = sqrt(n * p * (1 - p))\n",
    "\n",
    "distr = st.norm(mu, sigma) \n",
    "\n",
    "print(f'''Вероятность того, что письмо откроют не более {x} пользователей составляет {distr.cdf(x).round(3) * 100}%''')\n",
    "\n",
    "distr_plot = np.random.normal(mu, sigma, 1000) \n",
    "plt.hist(distr_plot, 10) \n",
    "plt.title('Распределение вероятности открыть уведомление')\n",
    "plt.xlabel('Количество пользователей')\n",
    "plt.show()"
   ]
  },
  {
   "cell_type": "markdown",
   "id": "fa5c990d",
   "metadata": {},
   "source": [
    "## Общий вывод"
   ]
  },
  {
   "cell_type": "markdown",
   "id": "183d8842",
   "metadata": {},
   "source": [
    "**Что мы сделали:**\n",
    "- Визуально оценили распределение данных в различных срезах;\n",
    "- Удалили аномалии, которые могли бы повлиять на корректность выводов;\n",
    "- Проверили несколько гипотез и оценили запросы отдела маркетинга;\n",
    "\n",
    "**Выводы:**\n",
    "- Средний возраст пользователей 25 лет;\n",
    "- Пользователей с подпиской чуть меньше, чем пользователей без неё;\n",
    "- В среднем поездка польователей поставляет от 15 до 25 минут;\n",
    "- У части поездок наблюдаются ошибки с отслеживанием времени поездки. Время поездки - полминуты, при этом большие расстояния;\n",
    "- Распределение расстояния имеет два пика - один в районе 1000 м. второй - 3000 м. Это наблюдается как у пользователей с подпиской, так и у пользователей без неё;\n",
    "- Удивительно, но Москва - наименее популярный город среди наших клиентов, а самый популярный - Пятигорск;\n",
    "- Пользователи с подпиской тратят больше времени на поездки и, как следствие, приносят больше выручки. Такие пользователи выгоднее для компании.\n",
    "- Среднее расстояние, которое пользователи проезжают за одну поездку действительно не превышает 3130 метров;\n",
    "\n",
    "**Рекомендации:**\n",
    "- Следует популяризировать подписку ultra среди пользователей без подписки, а пользователей с подпиской стараться максимально удерживать;\n",
    "- Нужно выяснить причину ошибки оценки времени поездки и исправить её;\n",
    "- Нам необходимо предложить 1169 пользователю бесплатную подписку, чтобы вероятность получить менее 100 клиентов составляла 5.0%;\n",
    "- Вероятность того, что письмо откроют не более 399500 пользователей составляет 15.4%;"
   ]
  }
 ],
 "metadata": {
  "ExecuteTimeLog": [
   {
    "duration": 50,
    "start_time": "2023-09-13T09:27:45.106Z"
   },
   {
    "duration": 658,
    "start_time": "2023-09-13T09:27:47.277Z"
   },
   {
    "duration": 196,
    "start_time": "2023-09-13T09:27:48.894Z"
   },
   {
    "duration": 39,
    "start_time": "2023-09-13T09:29:09.573Z"
   },
   {
    "duration": 11,
    "start_time": "2023-09-13T09:29:14.147Z"
   },
   {
    "duration": 9,
    "start_time": "2023-09-13T09:29:18.479Z"
   },
   {
    "duration": 10,
    "start_time": "2023-09-13T09:29:20.054Z"
   },
   {
    "duration": 10,
    "start_time": "2023-09-13T09:29:36.622Z"
   },
   {
    "duration": 11,
    "start_time": "2023-09-13T09:30:03.205Z"
   },
   {
    "duration": 46,
    "start_time": "2023-09-13T09:30:05.505Z"
   },
   {
    "duration": 52,
    "start_time": "2023-09-13T09:30:14.282Z"
   },
   {
    "duration": 41,
    "start_time": "2023-09-13T09:30:28.652Z"
   },
   {
    "duration": 54,
    "start_time": "2023-09-13T09:30:36.382Z"
   },
   {
    "duration": 37,
    "start_time": "2023-09-13T09:30:57.727Z"
   },
   {
    "duration": 11,
    "start_time": "2023-09-13T09:39:13.266Z"
   },
   {
    "duration": 20,
    "start_time": "2023-09-13T09:39:15.846Z"
   },
   {
    "duration": 56,
    "start_time": "2023-09-13T09:39:24.664Z"
   },
   {
    "duration": 10,
    "start_time": "2023-09-13T09:41:42.811Z"
   },
   {
    "duration": 10,
    "start_time": "2023-09-13T09:42:09.152Z"
   },
   {
    "duration": 13,
    "start_time": "2023-09-13T09:42:27.090Z"
   },
   {
    "duration": 14,
    "start_time": "2023-09-13T09:42:29.689Z"
   },
   {
    "duration": 13,
    "start_time": "2023-09-13T09:42:34.832Z"
   },
   {
    "duration": 5,
    "start_time": "2023-09-13T09:42:41.543Z"
   },
   {
    "duration": 12,
    "start_time": "2023-09-13T09:42:51.429Z"
   },
   {
    "duration": 8,
    "start_time": "2023-09-13T09:43:06.791Z"
   },
   {
    "duration": 15,
    "start_time": "2023-09-13T11:24:42.356Z"
   },
   {
    "duration": 30,
    "start_time": "2023-09-13T11:24:56.005Z"
   },
   {
    "duration": 9,
    "start_time": "2023-09-13T11:25:00.604Z"
   },
   {
    "duration": 8,
    "start_time": "2023-09-13T11:25:09.320Z"
   },
   {
    "duration": 7,
    "start_time": "2023-09-13T11:25:16.627Z"
   },
   {
    "duration": 16,
    "start_time": "2023-09-13T11:25:22.382Z"
   },
   {
    "duration": 11,
    "start_time": "2023-09-13T11:25:40.013Z"
   },
   {
    "duration": 799,
    "start_time": "2023-09-13T11:25:49.326Z"
   },
   {
    "duration": 153,
    "start_time": "2023-09-13T11:26:04.186Z"
   },
   {
    "duration": 207,
    "start_time": "2023-09-13T11:26:06.862Z"
   },
   {
    "duration": 9,
    "start_time": "2023-09-13T11:27:23.409Z"
   },
   {
    "duration": 188,
    "start_time": "2023-09-13T11:28:21.113Z"
   },
   {
    "duration": 145,
    "start_time": "2023-09-13T11:28:26.935Z"
   },
   {
    "duration": 126,
    "start_time": "2023-09-13T11:29:14.108Z"
   },
   {
    "duration": 78,
    "start_time": "2023-09-13T11:30:22.745Z"
   },
   {
    "duration": 85,
    "start_time": "2023-09-13T11:32:18.247Z"
   },
   {
    "duration": 157,
    "start_time": "2023-09-13T11:32:24.630Z"
   },
   {
    "duration": 139,
    "start_time": "2023-09-13T11:32:28.008Z"
   },
   {
    "duration": 80,
    "start_time": "2023-09-13T11:32:29.961Z"
   },
   {
    "duration": 86,
    "start_time": "2023-09-13T11:32:39.669Z"
   },
   {
    "duration": 149,
    "start_time": "2023-09-13T11:32:52.105Z"
   },
   {
    "duration": 155,
    "start_time": "2023-09-13T11:32:58.449Z"
   },
   {
    "duration": 77,
    "start_time": "2023-09-13T13:36:36.412Z"
   },
   {
    "duration": 144,
    "start_time": "2023-09-13T13:36:45.736Z"
   },
   {
    "duration": 85,
    "start_time": "2023-09-13T13:36:48.415Z"
   },
   {
    "duration": 80,
    "start_time": "2023-09-13T13:37:08.965Z"
   },
   {
    "duration": 269,
    "start_time": "2023-09-13T13:37:28.474Z"
   },
   {
    "duration": 273,
    "start_time": "2023-09-13T13:37:39.959Z"
   },
   {
    "duration": 243,
    "start_time": "2023-09-14T04:13:41.871Z"
   },
   {
    "duration": 480,
    "start_time": "2023-09-14T04:14:24.176Z"
   },
   {
    "duration": 3,
    "start_time": "2023-09-14T04:14:36.549Z"
   },
   {
    "duration": 240,
    "start_time": "2023-09-14T04:14:41.819Z"
   },
   {
    "duration": 119,
    "start_time": "2023-09-14T04:15:04.895Z"
   },
   {
    "duration": 245,
    "start_time": "2023-09-14T04:15:08.593Z"
   },
   {
    "duration": 236,
    "start_time": "2023-09-14T04:15:21.701Z"
   },
   {
    "duration": 78,
    "start_time": "2023-09-14T04:15:42.726Z"
   },
   {
    "duration": 80,
    "start_time": "2023-09-14T04:15:48.826Z"
   },
   {
    "duration": 143,
    "start_time": "2023-09-14T04:16:06.688Z"
   },
   {
    "duration": 240,
    "start_time": "2023-09-14T04:24:38.038Z"
   },
   {
    "duration": 203,
    "start_time": "2023-09-14T04:24:43.256Z"
   },
   {
    "duration": 17,
    "start_time": "2023-09-14T04:31:00.747Z"
   },
   {
    "duration": 197,
    "start_time": "2023-09-14T04:41:39.916Z"
   },
   {
    "duration": 190,
    "start_time": "2023-09-14T04:41:52.142Z"
   },
   {
    "duration": 235,
    "start_time": "2023-09-14T04:42:25.916Z"
   },
   {
    "duration": 231,
    "start_time": "2023-09-14T04:42:30.165Z"
   },
   {
    "duration": 292,
    "start_time": "2023-09-14T04:42:40.246Z"
   },
   {
    "duration": 171,
    "start_time": "2023-09-14T04:42:50.496Z"
   },
   {
    "duration": 20,
    "start_time": "2023-09-14T04:52:03.810Z"
   },
   {
    "duration": 15,
    "start_time": "2023-09-14T04:53:56.903Z"
   },
   {
    "duration": 13,
    "start_time": "2023-09-14T04:54:40.209Z"
   },
   {
    "duration": 23,
    "start_time": "2023-09-14T04:55:38.478Z"
   },
   {
    "duration": 183,
    "start_time": "2023-09-14T04:56:07.979Z"
   },
   {
    "duration": 633,
    "start_time": "2023-09-14T04:56:25.862Z"
   },
   {
    "duration": 94,
    "start_time": "2023-09-14T04:56:47.401Z"
   },
   {
    "duration": 266,
    "start_time": "2023-09-14T04:56:55.994Z"
   },
   {
    "duration": 392,
    "start_time": "2023-09-14T04:58:24.545Z"
   },
   {
    "duration": 334,
    "start_time": "2023-09-14T04:58:40.267Z"
   },
   {
    "duration": 349,
    "start_time": "2023-09-14T04:58:43.838Z"
   },
   {
    "duration": 334,
    "start_time": "2023-09-14T04:58:57.061Z"
   },
   {
    "duration": 354,
    "start_time": "2023-09-14T04:59:21.826Z"
   },
   {
    "duration": 382,
    "start_time": "2023-09-14T04:59:39.010Z"
   },
   {
    "duration": 634,
    "start_time": "2023-09-14T05:00:46.933Z"
   },
   {
    "duration": 374,
    "start_time": "2023-09-14T05:01:21.656Z"
   },
   {
    "duration": 371,
    "start_time": "2023-09-14T05:02:17.049Z"
   },
   {
    "duration": 360,
    "start_time": "2023-09-14T05:02:49.467Z"
   },
   {
    "duration": 349,
    "start_time": "2023-09-14T05:03:18.914Z"
   },
   {
    "duration": 355,
    "start_time": "2023-09-14T05:03:34.203Z"
   },
   {
    "duration": 17,
    "start_time": "2023-09-14T05:17:13.509Z"
   },
   {
    "duration": 33,
    "start_time": "2023-09-14T05:19:36.762Z"
   },
   {
    "duration": 23,
    "start_time": "2023-09-14T05:19:57.021Z"
   },
   {
    "duration": 24,
    "start_time": "2023-09-14T05:20:08.121Z"
   },
   {
    "duration": 27,
    "start_time": "2023-09-14T05:20:49.968Z"
   },
   {
    "duration": 23,
    "start_time": "2023-09-14T05:21:25.017Z"
   },
   {
    "duration": 25,
    "start_time": "2023-09-14T05:21:30.446Z"
   },
   {
    "duration": 17,
    "start_time": "2023-09-14T05:51:20.914Z"
   },
   {
    "duration": 7,
    "start_time": "2023-09-14T05:51:24.394Z"
   },
   {
    "duration": 18,
    "start_time": "2023-09-14T05:51:29.111Z"
   },
   {
    "duration": 8,
    "start_time": "2023-09-14T05:52:20.357Z"
   },
   {
    "duration": 3,
    "start_time": "2023-09-14T05:52:51.414Z"
   },
   {
    "duration": 6,
    "start_time": "2023-09-14T05:53:06.835Z"
   },
   {
    "duration": 16,
    "start_time": "2023-09-14T05:53:14.009Z"
   },
   {
    "duration": 6,
    "start_time": "2023-09-14T05:53:47.001Z"
   },
   {
    "duration": 8,
    "start_time": "2023-09-14T05:54:25.330Z"
   },
   {
    "duration": 26,
    "start_time": "2023-09-14T05:56:37.970Z"
   },
   {
    "duration": 398,
    "start_time": "2023-09-14T05:56:38.831Z"
   },
   {
    "duration": 359,
    "start_time": "2023-09-14T05:56:50.794Z"
   },
   {
    "duration": 20,
    "start_time": "2023-09-14T05:57:07.910Z"
   },
   {
    "duration": 14,
    "start_time": "2023-09-14T05:57:12.994Z"
   },
   {
    "duration": 314,
    "start_time": "2023-09-14T05:58:26.406Z"
   },
   {
    "duration": 18,
    "start_time": "2023-09-14T05:58:27.195Z"
   },
   {
    "duration": 18,
    "start_time": "2023-09-14T05:59:46.530Z"
   },
   {
    "duration": 15,
    "start_time": "2023-09-14T05:59:59.151Z"
   },
   {
    "duration": 16,
    "start_time": "2023-09-14T06:00:05.930Z"
   },
   {
    "duration": 293,
    "start_time": "2023-09-14T06:00:19.639Z"
   },
   {
    "duration": 21,
    "start_time": "2023-09-14T06:00:34.570Z"
   },
   {
    "duration": 109,
    "start_time": "2023-09-14T06:00:50.142Z"
   },
   {
    "duration": 112,
    "start_time": "2023-09-14T06:01:46.075Z"
   },
   {
    "duration": 18,
    "start_time": "2023-09-14T06:01:47.594Z"
   },
   {
    "duration": 114,
    "start_time": "2023-09-14T06:02:04.770Z"
   },
   {
    "duration": 126,
    "start_time": "2023-09-14T06:02:08.112Z"
   },
   {
    "duration": 122,
    "start_time": "2023-09-14T06:02:20.254Z"
   },
   {
    "duration": 125,
    "start_time": "2023-09-14T06:02:30.076Z"
   },
   {
    "duration": 105,
    "start_time": "2023-09-14T06:02:40.628Z"
   },
   {
    "duration": 17,
    "start_time": "2023-09-14T06:02:43.048Z"
   },
   {
    "duration": 14,
    "start_time": "2023-09-14T06:02:48.764Z"
   },
   {
    "duration": 18,
    "start_time": "2023-09-14T06:02:52.188Z"
   },
   {
    "duration": 110,
    "start_time": "2023-09-14T06:03:02.355Z"
   },
   {
    "duration": 102,
    "start_time": "2023-09-14T06:03:38.176Z"
   },
   {
    "duration": 26,
    "start_time": "2023-09-14T06:03:54.322Z"
   },
   {
    "duration": 27,
    "start_time": "2023-09-14T06:06:40.446Z"
   },
   {
    "duration": 7,
    "start_time": "2023-09-14T06:06:46.423Z"
   },
   {
    "duration": 8,
    "start_time": "2023-09-14T06:06:56.532Z"
   },
   {
    "duration": 12,
    "start_time": "2023-09-14T06:06:58.483Z"
   },
   {
    "duration": 10,
    "start_time": "2023-09-14T06:07:03.101Z"
   },
   {
    "duration": 13,
    "start_time": "2023-09-14T06:07:04.572Z"
   },
   {
    "duration": 7,
    "start_time": "2023-09-14T06:07:05.694Z"
   },
   {
    "duration": 8093,
    "start_time": "2023-09-14T06:07:14.005Z"
   },
   {
    "duration": 1082,
    "start_time": "2023-09-14T06:07:36.261Z"
   },
   {
    "duration": 15,
    "start_time": "2023-09-14T06:07:41.713Z"
   },
   {
    "duration": 469,
    "start_time": "2023-09-14T06:21:56.923Z"
   },
   {
    "duration": 35,
    "start_time": "2023-09-14T06:23:34.331Z"
   },
   {
    "duration": 6,
    "start_time": "2023-09-14T06:23:59.760Z"
   },
   {
    "duration": 3,
    "start_time": "2023-09-14T06:24:15.314Z"
   },
   {
    "duration": 4,
    "start_time": "2023-09-14T06:24:54.894Z"
   },
   {
    "duration": 4,
    "start_time": "2023-09-14T06:25:00.958Z"
   },
   {
    "duration": 5,
    "start_time": "2023-09-14T06:27:07.041Z"
   },
   {
    "duration": 4,
    "start_time": "2023-09-14T06:27:13.358Z"
   },
   {
    "duration": 6,
    "start_time": "2023-09-14T06:27:30.664Z"
   },
   {
    "duration": 10,
    "start_time": "2023-09-14T06:28:32.484Z"
   },
   {
    "duration": 3,
    "start_time": "2023-09-14T06:29:10.574Z"
   },
   {
    "duration": 7,
    "start_time": "2023-09-14T06:32:43.194Z"
   },
   {
    "duration": 7,
    "start_time": "2023-09-14T06:33:04.510Z"
   },
   {
    "duration": 8,
    "start_time": "2023-09-14T06:33:12.056Z"
   },
   {
    "duration": 7,
    "start_time": "2023-09-14T06:34:52.594Z"
   },
   {
    "duration": 7,
    "start_time": "2023-09-14T06:47:24.600Z"
   },
   {
    "duration": 14,
    "start_time": "2023-09-14T07:10:56.594Z"
   },
   {
    "duration": 8,
    "start_time": "2023-09-14T07:11:11.266Z"
   },
   {
    "duration": 3,
    "start_time": "2023-09-14T07:11:23.970Z"
   },
   {
    "duration": 6,
    "start_time": "2023-09-14T07:11:48.850Z"
   },
   {
    "duration": 8,
    "start_time": "2023-09-14T07:15:00.757Z"
   },
   {
    "duration": 8,
    "start_time": "2023-09-14T07:15:01.494Z"
   },
   {
    "duration": 16,
    "start_time": "2023-09-14T07:15:47.935Z"
   },
   {
    "duration": 8,
    "start_time": "2023-09-14T07:16:00.194Z"
   },
   {
    "duration": 6,
    "start_time": "2023-09-14T07:16:04.294Z"
   },
   {
    "duration": 6,
    "start_time": "2023-09-14T07:16:07.328Z"
   },
   {
    "duration": 536,
    "start_time": "2023-09-14T07:18:34.096Z"
   },
   {
    "duration": 11,
    "start_time": "2023-09-14T07:18:48.794Z"
   },
   {
    "duration": 10,
    "start_time": "2023-09-14T07:19:38.000Z"
   },
   {
    "duration": 10,
    "start_time": "2023-09-14T07:20:00.946Z"
   },
   {
    "duration": 7,
    "start_time": "2023-09-14T07:20:09.896Z"
   },
   {
    "duration": 8,
    "start_time": "2023-09-14T07:20:13.966Z"
   },
   {
    "duration": 7,
    "start_time": "2023-09-14T07:20:19.309Z"
   },
   {
    "duration": 13,
    "start_time": "2023-09-14T07:20:22.493Z"
   },
   {
    "duration": 3,
    "start_time": "2023-09-14T07:24:10.358Z"
   },
   {
    "duration": 1284,
    "start_time": "2023-09-14T15:38:21.507Z"
   },
   {
    "duration": 92,
    "start_time": "2023-09-14T15:38:22.794Z"
   },
   {
    "duration": 85,
    "start_time": "2023-09-14T15:38:22.887Z"
   },
   {
    "duration": 63,
    "start_time": "2023-09-14T15:38:22.974Z"
   },
   {
    "duration": 16,
    "start_time": "2023-09-14T15:38:23.041Z"
   },
   {
    "duration": 14,
    "start_time": "2023-09-14T15:38:23.059Z"
   },
   {
    "duration": 31,
    "start_time": "2023-09-14T15:38:23.075Z"
   },
   {
    "duration": 8,
    "start_time": "2023-09-14T15:38:23.108Z"
   },
   {
    "duration": 196,
    "start_time": "2023-09-14T15:38:23.118Z"
   },
   {
    "duration": 79,
    "start_time": "2023-09-14T15:38:23.317Z"
   },
   {
    "duration": 264,
    "start_time": "2023-09-14T15:38:23.398Z"
   },
   {
    "duration": 208,
    "start_time": "2023-09-14T15:38:23.664Z"
   },
   {
    "duration": 19,
    "start_time": "2023-09-14T15:38:23.874Z"
   },
   {
    "duration": 355,
    "start_time": "2023-09-14T15:38:23.896Z"
   },
   {
    "duration": 425,
    "start_time": "2023-09-14T15:38:24.252Z"
   },
   {
    "duration": 1092,
    "start_time": "2023-09-14T15:38:24.678Z"
   },
   {
    "duration": 8,
    "start_time": "2023-09-14T15:38:25.771Z"
   },
   {
    "duration": 22,
    "start_time": "2023-09-14T15:38:25.781Z"
   },
   {
    "duration": 25,
    "start_time": "2023-09-14T15:38:25.805Z"
   },
   {
    "duration": 6,
    "start_time": "2023-09-14T15:43:37.721Z"
   },
   {
    "duration": 1145,
    "start_time": "2023-09-14T15:48:26.545Z"
   },
   {
    "duration": 47,
    "start_time": "2023-09-14T15:48:27.692Z"
   },
   {
    "duration": 59,
    "start_time": "2023-09-14T15:48:27.740Z"
   },
   {
    "duration": 26,
    "start_time": "2023-09-14T15:48:27.801Z"
   },
   {
    "duration": 17,
    "start_time": "2023-09-14T15:48:27.829Z"
   },
   {
    "duration": 24,
    "start_time": "2023-09-14T15:48:27.847Z"
   },
   {
    "duration": 38,
    "start_time": "2023-09-14T15:48:27.873Z"
   },
   {
    "duration": 27,
    "start_time": "2023-09-14T15:48:27.912Z"
   },
   {
    "duration": 207,
    "start_time": "2023-09-14T15:48:27.941Z"
   },
   {
    "duration": 75,
    "start_time": "2023-09-14T15:48:28.151Z"
   },
   {
    "duration": 275,
    "start_time": "2023-09-14T15:48:28.228Z"
   },
   {
    "duration": 221,
    "start_time": "2023-09-14T15:48:28.504Z"
   },
   {
    "duration": 20,
    "start_time": "2023-09-14T15:48:28.726Z"
   },
   {
    "duration": 387,
    "start_time": "2023-09-14T15:48:28.747Z"
   },
   {
    "duration": 423,
    "start_time": "2023-09-14T15:48:29.136Z"
   },
   {
    "duration": 1086,
    "start_time": "2023-09-14T15:48:29.560Z"
   },
   {
    "duration": 7,
    "start_time": "2023-09-14T15:48:30.647Z"
   },
   {
    "duration": 129,
    "start_time": "2023-09-14T15:48:30.656Z"
   },
   {
    "duration": 132,
    "start_time": "2023-09-14T15:48:30.786Z"
   },
   {
    "duration": 143,
    "start_time": "2023-09-15T04:49:14.308Z"
   },
   {
    "duration": 1344,
    "start_time": "2023-09-15T04:49:32.940Z"
   },
   {
    "duration": 125,
    "start_time": "2023-09-15T04:49:35.052Z"
   },
   {
    "duration": 102,
    "start_time": "2023-09-15T04:49:37.670Z"
   },
   {
    "duration": 78,
    "start_time": "2023-09-15T04:49:39.786Z"
   },
   {
    "duration": 88,
    "start_time": "2023-09-15T04:49:51.680Z"
   },
   {
    "duration": 18,
    "start_time": "2023-09-15T04:50:24.731Z"
   },
   {
    "duration": 140,
    "start_time": "2023-09-15T04:50:34.522Z"
   },
   {
    "duration": 27,
    "start_time": "2023-09-15T04:50:39.705Z"
   },
   {
    "duration": 31,
    "start_time": "2023-09-15T04:50:45.679Z"
   },
   {
    "duration": 35,
    "start_time": "2023-09-15T04:50:52.753Z"
   },
   {
    "duration": 19,
    "start_time": "2023-09-15T04:51:10.376Z"
   },
   {
    "duration": 32,
    "start_time": "2023-09-15T04:51:15.962Z"
   },
   {
    "duration": 125,
    "start_time": "2023-09-15T04:51:32.363Z"
   },
   {
    "duration": 79,
    "start_time": "2023-09-15T04:51:36.719Z"
   },
   {
    "duration": 33,
    "start_time": "2023-09-15T04:51:40.696Z"
   },
   {
    "duration": 45,
    "start_time": "2023-09-15T04:52:43.478Z"
   },
   {
    "duration": 17,
    "start_time": "2023-09-15T04:55:32.876Z"
   },
   {
    "duration": 6,
    "start_time": "2023-09-15T04:55:42.608Z"
   },
   {
    "duration": 8,
    "start_time": "2023-09-15T04:55:47.978Z"
   },
   {
    "duration": 13,
    "start_time": "2023-09-15T04:56:05.474Z"
   },
   {
    "duration": 13,
    "start_time": "2023-09-15T04:56:17.258Z"
   },
   {
    "duration": 12,
    "start_time": "2023-09-15T04:56:18.087Z"
   },
   {
    "duration": 5,
    "start_time": "2023-09-15T04:56:19.385Z"
   },
   {
    "duration": 19,
    "start_time": "2023-09-15T04:58:02.427Z"
   },
   {
    "duration": 12,
    "start_time": "2023-09-15T04:58:08.480Z"
   },
   {
    "duration": 17,
    "start_time": "2023-09-15T04:59:17.295Z"
   },
   {
    "duration": 212,
    "start_time": "2023-09-15T04:59:20.293Z"
   },
   {
    "duration": 248,
    "start_time": "2023-09-15T05:10:09.731Z"
   },
   {
    "duration": 9,
    "start_time": "2023-09-15T05:10:27.153Z"
   },
   {
    "duration": 10,
    "start_time": "2023-09-15T05:13:01.570Z"
   },
   {
    "duration": 27,
    "start_time": "2023-09-15T05:13:25.689Z"
   },
   {
    "duration": 9,
    "start_time": "2023-09-15T05:13:47.014Z"
   },
   {
    "duration": 9,
    "start_time": "2023-09-15T05:13:49.976Z"
   },
   {
    "duration": 149,
    "start_time": "2023-09-15T05:14:16.616Z"
   },
   {
    "duration": 138,
    "start_time": "2023-09-15T05:14:23.624Z"
   },
   {
    "duration": 170,
    "start_time": "2023-09-15T05:14:48.884Z"
   },
   {
    "duration": 180,
    "start_time": "2023-09-15T05:15:31.103Z"
   },
   {
    "duration": 129,
    "start_time": "2023-09-15T05:19:28.338Z"
   },
   {
    "duration": 99,
    "start_time": "2023-09-15T05:19:37.895Z"
   },
   {
    "duration": 9,
    "start_time": "2023-09-15T05:21:15.931Z"
   },
   {
    "duration": 8,
    "start_time": "2023-09-15T05:21:19.591Z"
   },
   {
    "duration": 12,
    "start_time": "2023-09-15T05:21:27.025Z"
   },
   {
    "duration": 16,
    "start_time": "2023-09-15T05:21:55.716Z"
   },
   {
    "duration": 13,
    "start_time": "2023-09-15T05:21:58.761Z"
   },
   {
    "duration": 8,
    "start_time": "2023-09-15T05:22:44.399Z"
   },
   {
    "duration": 11,
    "start_time": "2023-09-15T05:22:48.371Z"
   },
   {
    "duration": 153,
    "start_time": "2023-09-15T05:23:37.136Z"
   },
   {
    "duration": 437,
    "start_time": "2023-09-15T05:24:52.519Z"
   },
   {
    "duration": 316,
    "start_time": "2023-09-15T05:25:15.417Z"
   },
   {
    "duration": 511,
    "start_time": "2023-09-15T05:26:10.457Z"
   },
   {
    "duration": 383,
    "start_time": "2023-09-15T05:26:32.885Z"
   },
   {
    "duration": 354,
    "start_time": "2023-09-15T05:26:39.240Z"
   },
   {
    "duration": 459,
    "start_time": "2023-09-15T05:27:04.173Z"
   },
   {
    "duration": 376,
    "start_time": "2023-09-15T05:27:13.707Z"
   },
   {
    "duration": 231,
    "start_time": "2023-09-15T11:09:57.884Z"
   },
   {
    "duration": 259,
    "start_time": "2023-09-15T11:10:04.555Z"
   },
   {
    "duration": 247,
    "start_time": "2023-09-15T11:10:46.984Z"
   },
   {
    "duration": 16,
    "start_time": "2023-09-15T11:11:06.118Z"
   },
   {
    "duration": 411,
    "start_time": "2023-09-15T11:12:27.532Z"
   },
   {
    "duration": 322,
    "start_time": "2023-09-15T11:12:33.513Z"
   },
   {
    "duration": 345,
    "start_time": "2023-09-15T13:08:32.880Z"
   },
   {
    "duration": 19,
    "start_time": "2023-09-15T13:08:57.858Z"
   },
   {
    "duration": 255,
    "start_time": "2023-09-15T13:09:24.497Z"
   },
   {
    "duration": 18,
    "start_time": "2023-09-15T13:09:27.085Z"
   },
   {
    "duration": 11,
    "start_time": "2023-09-15T13:09:39.994Z"
   },
   {
    "duration": 12,
    "start_time": "2023-09-15T13:09:45.568Z"
   },
   {
    "duration": 29,
    "start_time": "2023-09-15T13:09:52.993Z"
   },
   {
    "duration": 14,
    "start_time": "2023-09-15T13:09:58.912Z"
   },
   {
    "duration": 13,
    "start_time": "2023-09-15T13:10:34.023Z"
   },
   {
    "duration": 13,
    "start_time": "2023-09-15T13:12:00.162Z"
   },
   {
    "duration": 322,
    "start_time": "2023-09-15T13:14:04.210Z"
   },
   {
    "duration": 12,
    "start_time": "2023-09-15T13:15:11.423Z"
   },
   {
    "duration": 29,
    "start_time": "2023-09-15T13:15:13.374Z"
   },
   {
    "duration": 5,
    "start_time": "2023-09-15T13:15:13.809Z"
   },
   {
    "duration": 24,
    "start_time": "2023-09-15T13:15:42.871Z"
   },
   {
    "duration": 390,
    "start_time": "2023-09-15T13:19:44.619Z"
   },
   {
    "duration": 393,
    "start_time": "2023-09-15T13:19:57.902Z"
   },
   {
    "duration": 388,
    "start_time": "2023-09-15T13:20:04.198Z"
   },
   {
    "duration": 427,
    "start_time": "2023-09-15T13:20:20.885Z"
   },
   {
    "duration": 330,
    "start_time": "2023-09-15T13:20:24.867Z"
   },
   {
    "duration": 381,
    "start_time": "2023-09-15T13:20:28.613Z"
   },
   {
    "duration": 365,
    "start_time": "2023-09-15T13:20:39.333Z"
   },
   {
    "duration": 395,
    "start_time": "2023-09-15T13:20:50.458Z"
   },
   {
    "duration": 136,
    "start_time": "2023-09-15T13:21:35.969Z"
   },
   {
    "duration": 258,
    "start_time": "2023-09-15T13:21:59.401Z"
   },
   {
    "duration": 313,
    "start_time": "2023-09-15T13:22:15.222Z"
   },
   {
    "duration": 295,
    "start_time": "2023-09-15T13:22:25.345Z"
   },
   {
    "duration": 364,
    "start_time": "2023-09-15T13:22:34.423Z"
   },
   {
    "duration": 350,
    "start_time": "2023-09-15T13:23:09.466Z"
   },
   {
    "duration": 342,
    "start_time": "2023-09-15T13:23:40.635Z"
   },
   {
    "duration": 451,
    "start_time": "2023-09-15T13:24:30.647Z"
   },
   {
    "duration": 340,
    "start_time": "2023-09-15T13:25:15.964Z"
   },
   {
    "duration": 312,
    "start_time": "2023-09-15T13:26:00.753Z"
   },
   {
    "duration": 320,
    "start_time": "2023-09-15T13:26:08.369Z"
   },
   {
    "duration": 303,
    "start_time": "2023-09-15T13:26:26.193Z"
   },
   {
    "duration": 452,
    "start_time": "2023-09-15T13:26:51.682Z"
   },
   {
    "duration": 236,
    "start_time": "2023-09-15T13:27:07.459Z"
   },
   {
    "duration": 13,
    "start_time": "2023-09-15T13:27:09.655Z"
   },
   {
    "duration": 299,
    "start_time": "2023-09-15T13:27:11.013Z"
   },
   {
    "duration": 146,
    "start_time": "2023-09-15T13:27:49.178Z"
   },
   {
    "duration": 366,
    "start_time": "2023-09-15T13:27:52.669Z"
   },
   {
    "duration": 348,
    "start_time": "2023-09-15T13:28:04.688Z"
   },
   {
    "duration": 464,
    "start_time": "2023-09-15T13:28:25.800Z"
   },
   {
    "duration": 1171,
    "start_time": "2023-09-15T13:30:43.789Z"
   },
   {
    "duration": 10,
    "start_time": "2023-09-15T13:36:02.058Z"
   },
   {
    "duration": 20,
    "start_time": "2023-09-15T13:36:19.538Z"
   },
   {
    "duration": 7,
    "start_time": "2023-09-15T13:36:23.165Z"
   },
   {
    "duration": 10,
    "start_time": "2023-09-15T13:38:08.587Z"
   },
   {
    "duration": 10,
    "start_time": "2023-09-15T13:38:18.701Z"
   },
   {
    "duration": 12,
    "start_time": "2023-09-15T13:38:26.160Z"
   },
   {
    "duration": 12,
    "start_time": "2023-09-15T13:39:20.762Z"
   },
   {
    "duration": 7,
    "start_time": "2023-09-15T13:45:12.028Z"
   },
   {
    "duration": 7,
    "start_time": "2023-09-15T13:46:57.842Z"
   },
   {
    "duration": 7,
    "start_time": "2023-09-15T13:47:06.595Z"
   },
   {
    "duration": 8,
    "start_time": "2023-09-15T13:47:11.503Z"
   },
   {
    "duration": 9,
    "start_time": "2023-09-15T13:47:49.114Z"
   },
   {
    "duration": 8,
    "start_time": "2023-09-15T13:47:59.352Z"
   },
   {
    "duration": 9,
    "start_time": "2023-09-15T13:48:02.401Z"
   },
   {
    "duration": 9,
    "start_time": "2023-09-15T13:48:12.060Z"
   },
   {
    "duration": 14,
    "start_time": "2023-09-15T13:48:22.459Z"
   },
   {
    "duration": 8,
    "start_time": "2023-09-15T14:01:25.053Z"
   },
   {
    "duration": 6,
    "start_time": "2023-09-15T14:02:17.692Z"
   },
   {
    "duration": 6,
    "start_time": "2023-09-15T14:02:21.176Z"
   },
   {
    "duration": 10,
    "start_time": "2023-09-15T14:04:20.320Z"
   },
   {
    "duration": 13,
    "start_time": "2023-09-15T14:04:32.504Z"
   },
   {
    "duration": 11,
    "start_time": "2023-09-15T14:04:45.512Z"
   },
   {
    "duration": 12,
    "start_time": "2023-09-15T14:13:47.560Z"
   },
   {
    "duration": 12,
    "start_time": "2023-09-15T14:27:44.228Z"
   },
   {
    "duration": 12,
    "start_time": "2023-09-15T14:27:52.076Z"
   },
   {
    "duration": 7,
    "start_time": "2023-09-15T14:28:20.744Z"
   },
   {
    "duration": 7,
    "start_time": "2023-09-15T14:28:28.160Z"
   },
   {
    "duration": 13,
    "start_time": "2023-09-15T14:29:00.103Z"
   },
   {
    "duration": 3,
    "start_time": "2023-09-15T15:10:49.996Z"
   },
   {
    "duration": 85,
    "start_time": "2023-09-15T15:10:50.490Z"
   },
   {
    "duration": 71,
    "start_time": "2023-09-15T15:10:50.644Z"
   },
   {
    "duration": 29,
    "start_time": "2023-09-15T15:10:50.792Z"
   },
   {
    "duration": 19,
    "start_time": "2023-09-15T15:10:51.581Z"
   },
   {
    "duration": 11,
    "start_time": "2023-09-15T15:10:52.076Z"
   },
   {
    "duration": 14,
    "start_time": "2023-09-15T15:10:52.253Z"
   },
   {
    "duration": 6,
    "start_time": "2023-09-15T15:10:52.398Z"
   },
   {
    "duration": 10,
    "start_time": "2023-09-15T15:10:53.243Z"
   },
   {
    "duration": 232,
    "start_time": "2023-09-15T15:10:53.401Z"
   },
   {
    "duration": 9,
    "start_time": "2023-09-15T15:10:54.056Z"
   },
   {
    "duration": 78,
    "start_time": "2023-09-15T15:10:54.414Z"
   },
   {
    "duration": 291,
    "start_time": "2023-09-15T15:10:54.751Z"
   },
   {
    "duration": 255,
    "start_time": "2023-09-15T15:10:55.408Z"
   },
   {
    "duration": 13,
    "start_time": "2023-09-15T15:10:55.665Z"
   },
   {
    "duration": 302,
    "start_time": "2023-09-15T15:10:55.755Z"
   },
   {
    "duration": 24,
    "start_time": "2023-09-15T15:10:57.246Z"
   },
   {
    "duration": 351,
    "start_time": "2023-09-15T15:10:57.601Z"
   },
   {
    "duration": 361,
    "start_time": "2023-09-15T15:10:57.955Z"
   },
   {
    "duration": 1204,
    "start_time": "2023-09-15T15:10:58.786Z"
   },
   {
    "duration": 12,
    "start_time": "2023-09-15T15:11:00.276Z"
   },
   {
    "duration": 7,
    "start_time": "2023-09-15T15:11:01.692Z"
   },
   {
    "duration": 12,
    "start_time": "2023-09-15T15:11:02.948Z"
   },
   {
    "duration": 75,
    "start_time": "2023-09-15T15:12:10.733Z"
   },
   {
    "duration": 9,
    "start_time": "2023-09-15T15:12:16.353Z"
   },
   {
    "duration": 4,
    "start_time": "2023-09-15T15:12:20.744Z"
   },
   {
    "duration": 74,
    "start_time": "2023-09-15T15:12:27.427Z"
   },
   {
    "duration": 4,
    "start_time": "2023-09-15T15:12:28.018Z"
   },
   {
    "duration": 677,
    "start_time": "2023-09-15T15:12:45.749Z"
   },
   {
    "duration": 74,
    "start_time": "2023-09-15T15:12:53.194Z"
   },
   {
    "duration": 3,
    "start_time": "2023-09-15T15:12:54.693Z"
   },
   {
    "duration": 159,
    "start_time": "2023-09-15T15:13:31.444Z"
   },
   {
    "duration": 224,
    "start_time": "2023-09-15T15:13:36.887Z"
   },
   {
    "duration": 1638,
    "start_time": "2023-09-15T15:13:42.123Z"
   },
   {
    "duration": 641,
    "start_time": "2023-09-15T15:13:50.235Z"
   },
   {
    "duration": 1644,
    "start_time": "2023-09-15T15:13:54.375Z"
   },
   {
    "duration": 1755,
    "start_time": "2023-09-15T15:14:11.376Z"
   },
   {
    "duration": 1739,
    "start_time": "2023-09-15T15:14:17.636Z"
   },
   {
    "duration": 1759,
    "start_time": "2023-09-15T15:14:39.702Z"
   },
   {
    "duration": 1736,
    "start_time": "2023-09-15T15:14:49.576Z"
   },
   {
    "duration": 554,
    "start_time": "2023-09-15T15:14:56.405Z"
   },
   {
    "duration": 1573,
    "start_time": "2023-09-15T15:15:01.889Z"
   },
   {
    "duration": 11,
    "start_time": "2023-09-15T15:15:50.401Z"
   },
   {
    "duration": 8,
    "start_time": "2023-09-15T15:16:03.999Z"
   },
   {
    "duration": 7,
    "start_time": "2023-09-15T15:16:11.839Z"
   },
   {
    "duration": 5,
    "start_time": "2023-09-15T15:16:15.952Z"
   },
   {
    "duration": 7,
    "start_time": "2023-09-15T15:16:25.085Z"
   },
   {
    "duration": 9,
    "start_time": "2023-09-15T15:16:57.578Z"
   },
   {
    "duration": 5,
    "start_time": "2023-09-15T15:16:59.690Z"
   },
   {
    "duration": 3,
    "start_time": "2023-09-15T15:17:00.073Z"
   },
   {
    "duration": 5,
    "start_time": "2023-09-15T15:17:17.492Z"
   },
   {
    "duration": 697,
    "start_time": "2023-09-15T15:17:22.645Z"
   },
   {
    "duration": 1444,
    "start_time": "2023-09-15T15:17:26.798Z"
   },
   {
    "duration": 1894,
    "start_time": "2023-09-15T15:21:12.867Z"
   },
   {
    "duration": 780,
    "start_time": "2023-09-15T15:21:21.269Z"
   },
   {
    "duration": 357,
    "start_time": "2023-09-15T15:21:30.674Z"
   },
   {
    "duration": 1963,
    "start_time": "2023-09-15T15:21:50.219Z"
   },
   {
    "duration": 1986,
    "start_time": "2023-09-15T15:21:54.108Z"
   },
   {
    "duration": 1736,
    "start_time": "2023-09-15T15:22:03.377Z"
   },
   {
    "duration": 2089,
    "start_time": "2023-09-15T15:22:10.045Z"
   },
   {
    "duration": 1543,
    "start_time": "2023-09-15T15:22:22.588Z"
   },
   {
    "duration": 1932,
    "start_time": "2023-09-15T15:29:37.788Z"
   },
   {
    "duration": 1872,
    "start_time": "2023-09-15T15:30:05.510Z"
   },
   {
    "duration": 1431,
    "start_time": "2023-09-15T15:30:36.492Z"
   },
   {
    "duration": 1963,
    "start_time": "2023-09-15T15:30:55.294Z"
   },
   {
    "duration": 61,
    "start_time": "2023-09-15T15:31:01.812Z"
   },
   {
    "duration": 488,
    "start_time": "2023-09-15T15:31:21.653Z"
   },
   {
    "duration": 1164,
    "start_time": "2023-09-15T15:31:25.083Z"
   },
   {
    "duration": 1710,
    "start_time": "2023-09-15T15:31:37.002Z"
   },
   {
    "duration": 1689,
    "start_time": "2023-09-15T15:32:00.239Z"
   },
   {
    "duration": 1235,
    "start_time": "2023-09-15T15:32:20.877Z"
   },
   {
    "duration": 45,
    "start_time": "2023-09-15T15:32:33.959Z"
   },
   {
    "duration": 1974,
    "start_time": "2023-09-15T15:33:45.114Z"
   },
   {
    "duration": 5,
    "start_time": "2023-09-15T15:33:57.193Z"
   },
   {
    "duration": 6,
    "start_time": "2023-09-15T15:34:42.546Z"
   },
   {
    "duration": 5,
    "start_time": "2023-09-15T15:34:45.947Z"
   },
   {
    "duration": 4,
    "start_time": "2023-09-15T15:34:50.953Z"
   },
   {
    "duration": 4,
    "start_time": "2023-09-15T15:34:53.911Z"
   },
   {
    "duration": 5,
    "start_time": "2023-09-15T15:35:10.361Z"
   },
   {
    "duration": 4,
    "start_time": "2023-09-15T15:35:13.923Z"
   },
   {
    "duration": 5,
    "start_time": "2023-09-15T15:35:16.259Z"
   },
   {
    "duration": 4,
    "start_time": "2023-09-15T15:35:20.617Z"
   },
   {
    "duration": 5,
    "start_time": "2023-09-15T15:35:23.226Z"
   },
   {
    "duration": 5,
    "start_time": "2023-09-15T15:35:26.265Z"
   },
   {
    "duration": 5,
    "start_time": "2023-09-15T15:35:31.576Z"
   },
   {
    "duration": 5,
    "start_time": "2023-09-15T15:36:46.544Z"
   },
   {
    "duration": 6,
    "start_time": "2023-09-15T15:36:52.624Z"
   },
   {
    "duration": 4,
    "start_time": "2023-09-15T15:37:11.259Z"
   },
   {
    "duration": 132,
    "start_time": "2023-09-15T15:38:54.215Z"
   },
   {
    "duration": 86,
    "start_time": "2023-09-15T15:38:59.868Z"
   },
   {
    "duration": 79,
    "start_time": "2023-09-15T15:39:06.138Z"
   },
   {
    "duration": 74,
    "start_time": "2023-09-15T15:39:12.951Z"
   },
   {
    "duration": 106,
    "start_time": "2023-09-15T15:39:18.475Z"
   },
   {
    "duration": 4,
    "start_time": "2023-09-15T15:39:26.903Z"
   },
   {
    "duration": 4,
    "start_time": "2023-09-15T15:39:31.494Z"
   },
   {
    "duration": 4,
    "start_time": "2023-09-15T15:39:39.879Z"
   },
   {
    "duration": 157,
    "start_time": "2023-09-15T15:42:24.337Z"
   },
   {
    "duration": 134,
    "start_time": "2023-09-15T15:42:58.013Z"
   },
   {
    "duration": 142,
    "start_time": "2023-09-15T15:43:10.912Z"
   },
   {
    "duration": 150,
    "start_time": "2023-09-15T15:43:17.144Z"
   },
   {
    "duration": 149,
    "start_time": "2023-09-15T15:43:50.296Z"
   },
   {
    "duration": 3,
    "start_time": "2023-09-15T15:44:10.192Z"
   },
   {
    "duration": 10,
    "start_time": "2023-09-15T15:44:24.700Z"
   },
   {
    "duration": 144,
    "start_time": "2023-09-15T15:44:28.616Z"
   },
   {
    "duration": 144,
    "start_time": "2023-09-15T15:44:44.229Z"
   },
   {
    "duration": 142,
    "start_time": "2023-09-15T15:45:04.722Z"
   },
   {
    "duration": 116,
    "start_time": "2023-09-15T15:45:43.169Z"
   },
   {
    "duration": 144,
    "start_time": "2023-09-15T15:45:59.665Z"
   },
   {
    "duration": 161,
    "start_time": "2023-09-15T15:46:56.114Z"
   },
   {
    "duration": 221,
    "start_time": "2023-09-15T15:47:13.378Z"
   },
   {
    "duration": 181,
    "start_time": "2023-09-15T15:47:25.752Z"
   },
   {
    "duration": 12,
    "start_time": "2023-09-15T15:48:20.504Z"
   },
   {
    "duration": 166,
    "start_time": "2023-09-15T15:48:29.313Z"
   },
   {
    "duration": 156,
    "start_time": "2023-09-15T15:48:46.129Z"
   },
   {
    "duration": 158,
    "start_time": "2023-09-15T15:48:57.988Z"
   },
   {
    "duration": 178,
    "start_time": "2023-09-15T15:49:05.808Z"
   },
   {
    "duration": 137,
    "start_time": "2023-09-15T15:49:09.748Z"
   },
   {
    "duration": 4,
    "start_time": "2023-09-15T15:49:48.693Z"
   },
   {
    "duration": 12,
    "start_time": "2023-09-15T15:55:19.772Z"
   },
   {
    "duration": 7,
    "start_time": "2023-09-15T15:55:25.095Z"
   },
   {
    "duration": 6,
    "start_time": "2023-09-15T15:56:16.863Z"
   },
   {
    "duration": 5,
    "start_time": "2023-09-15T15:56:34.022Z"
   },
   {
    "duration": 5,
    "start_time": "2023-09-15T15:56:42.870Z"
   },
   {
    "duration": 4,
    "start_time": "2023-09-15T15:56:50.074Z"
   },
   {
    "duration": 5,
    "start_time": "2023-09-15T15:56:54.789Z"
   },
   {
    "duration": 5,
    "start_time": "2023-09-15T15:56:57.116Z"
   },
   {
    "duration": 6,
    "start_time": "2023-09-15T15:57:24.338Z"
   },
   {
    "duration": 6,
    "start_time": "2023-09-15T15:57:31.816Z"
   },
   {
    "duration": 6,
    "start_time": "2023-09-15T15:57:35.933Z"
   },
   {
    "duration": 6,
    "start_time": "2023-09-15T15:57:40.309Z"
   },
   {
    "duration": 11,
    "start_time": "2023-09-15T15:57:53.014Z"
   },
   {
    "duration": 5,
    "start_time": "2023-09-15T15:59:00.438Z"
   },
   {
    "duration": 5,
    "start_time": "2023-09-15T16:03:53.856Z"
   },
   {
    "duration": 6,
    "start_time": "2023-09-15T16:04:00.474Z"
   },
   {
    "duration": 8,
    "start_time": "2023-09-15T16:04:02.643Z"
   },
   {
    "duration": 1279,
    "start_time": "2023-09-15T16:04:51.917Z"
   },
   {
    "duration": 50,
    "start_time": "2023-09-15T16:04:53.198Z"
   },
   {
    "duration": 48,
    "start_time": "2023-09-15T16:04:53.251Z"
   },
   {
    "duration": 27,
    "start_time": "2023-09-15T16:04:53.301Z"
   },
   {
    "duration": 18,
    "start_time": "2023-09-15T16:04:53.331Z"
   },
   {
    "duration": 30,
    "start_time": "2023-09-15T16:04:53.351Z"
   },
   {
    "duration": 16,
    "start_time": "2023-09-15T16:04:53.383Z"
   },
   {
    "duration": 19,
    "start_time": "2023-09-15T16:04:53.401Z"
   },
   {
    "duration": 31,
    "start_time": "2023-09-15T16:04:53.421Z"
   },
   {
    "duration": 204,
    "start_time": "2023-09-15T16:04:53.454Z"
   },
   {
    "duration": 9,
    "start_time": "2023-09-15T16:04:53.660Z"
   },
   {
    "duration": 99,
    "start_time": "2023-09-15T16:04:53.670Z"
   },
   {
    "duration": 316,
    "start_time": "2023-09-15T16:04:53.771Z"
   },
   {
    "duration": 270,
    "start_time": "2023-09-15T16:04:54.089Z"
   },
   {
    "duration": 14,
    "start_time": "2023-09-15T16:04:54.362Z"
   },
   {
    "duration": 341,
    "start_time": "2023-09-15T16:04:54.378Z"
   },
   {
    "duration": 23,
    "start_time": "2023-09-15T16:04:54.721Z"
   },
   {
    "duration": 381,
    "start_time": "2023-09-15T16:04:54.746Z"
   },
   {
    "duration": 503,
    "start_time": "2023-09-15T16:04:55.130Z"
   },
   {
    "duration": 1286,
    "start_time": "2023-09-15T16:04:55.635Z"
   },
   {
    "duration": 11,
    "start_time": "2023-09-15T16:04:56.923Z"
   },
   {
    "duration": 6,
    "start_time": "2023-09-15T16:04:56.936Z"
   },
   {
    "duration": 18,
    "start_time": "2023-09-15T16:04:56.944Z"
   },
   {
    "duration": 132,
    "start_time": "2023-09-15T16:04:56.963Z"
   },
   {
    "duration": 0,
    "start_time": "2023-09-15T16:04:57.096Z"
   },
   {
    "duration": 3,
    "start_time": "2023-09-15T16:05:18.076Z"
   },
   {
    "duration": 1221,
    "start_time": "2023-09-15T16:05:23.186Z"
   },
   {
    "duration": 49,
    "start_time": "2023-09-15T16:05:24.409Z"
   },
   {
    "duration": 44,
    "start_time": "2023-09-15T16:05:24.460Z"
   },
   {
    "duration": 28,
    "start_time": "2023-09-15T16:05:24.505Z"
   },
   {
    "duration": 19,
    "start_time": "2023-09-15T16:05:24.535Z"
   },
   {
    "duration": 10,
    "start_time": "2023-09-15T16:05:24.556Z"
   },
   {
    "duration": 14,
    "start_time": "2023-09-15T16:05:24.569Z"
   },
   {
    "duration": 30,
    "start_time": "2023-09-15T16:05:24.585Z"
   },
   {
    "duration": 13,
    "start_time": "2023-09-15T16:05:24.616Z"
   },
   {
    "duration": 213,
    "start_time": "2023-09-15T16:05:24.631Z"
   },
   {
    "duration": 9,
    "start_time": "2023-09-15T16:05:24.846Z"
   },
   {
    "duration": 100,
    "start_time": "2023-09-15T16:05:24.856Z"
   },
   {
    "duration": 326,
    "start_time": "2023-09-15T16:05:24.958Z"
   },
   {
    "duration": 288,
    "start_time": "2023-09-15T16:05:25.288Z"
   },
   {
    "duration": 13,
    "start_time": "2023-09-15T16:05:25.578Z"
   },
   {
    "duration": 362,
    "start_time": "2023-09-15T16:05:25.593Z"
   },
   {
    "duration": 24,
    "start_time": "2023-09-15T16:05:25.956Z"
   },
   {
    "duration": 493,
    "start_time": "2023-09-15T16:05:25.982Z"
   },
   {
    "duration": 368,
    "start_time": "2023-09-15T16:05:26.477Z"
   },
   {
    "duration": 1305,
    "start_time": "2023-09-15T16:05:26.846Z"
   },
   {
    "duration": 11,
    "start_time": "2023-09-15T16:05:28.153Z"
   },
   {
    "duration": 51,
    "start_time": "2023-09-15T16:05:28.165Z"
   },
   {
    "duration": 54,
    "start_time": "2023-09-15T16:05:28.218Z"
   },
   {
    "duration": 15,
    "start_time": "2023-09-15T16:05:28.274Z"
   },
   {
    "duration": 54,
    "start_time": "2023-09-15T16:05:28.290Z"
   },
   {
    "duration": 1305,
    "start_time": "2023-09-15T17:47:28.702Z"
   },
   {
    "duration": 66,
    "start_time": "2023-09-15T17:47:30.009Z"
   },
   {
    "duration": 53,
    "start_time": "2023-09-15T17:47:30.077Z"
   },
   {
    "duration": 42,
    "start_time": "2023-09-15T17:47:30.133Z"
   },
   {
    "duration": 44,
    "start_time": "2023-09-15T17:47:30.177Z"
   },
   {
    "duration": 44,
    "start_time": "2023-09-15T17:47:30.223Z"
   },
   {
    "duration": 91,
    "start_time": "2023-09-15T17:47:30.268Z"
   },
   {
    "duration": 27,
    "start_time": "2023-09-15T17:47:30.362Z"
   },
   {
    "duration": 280,
    "start_time": "2023-09-15T17:47:30.392Z"
   },
   {
    "duration": 337,
    "start_time": "2023-09-15T17:47:30.675Z"
   },
   {
    "duration": 27,
    "start_time": "2023-09-15T17:47:31.013Z"
   },
   {
    "duration": 92,
    "start_time": "2023-09-15T17:47:31.042Z"
   },
   {
    "duration": 420,
    "start_time": "2023-09-15T17:47:31.138Z"
   },
   {
    "duration": 264,
    "start_time": "2023-09-15T17:47:31.561Z"
   },
   {
    "duration": 16,
    "start_time": "2023-09-15T17:47:31.827Z"
   },
   {
    "duration": 408,
    "start_time": "2023-09-15T17:47:31.845Z"
   },
   {
    "duration": 28,
    "start_time": "2023-09-15T17:47:32.255Z"
   },
   {
    "duration": 533,
    "start_time": "2023-09-15T17:47:32.285Z"
   },
   {
    "duration": 486,
    "start_time": "2023-09-15T17:47:32.823Z"
   },
   {
    "duration": 1371,
    "start_time": "2023-09-15T17:47:33.310Z"
   },
   {
    "duration": 10,
    "start_time": "2023-09-15T17:47:34.682Z"
   },
   {
    "duration": 197,
    "start_time": "2023-09-15T17:47:34.693Z"
   },
   {
    "duration": 71,
    "start_time": "2023-09-15T17:47:34.892Z"
   },
   {
    "duration": 44,
    "start_time": "2023-09-15T17:47:34.965Z"
   },
   {
    "duration": 66,
    "start_time": "2023-09-15T17:47:35.010Z"
   },
   {
    "duration": 187,
    "start_time": "2023-09-15T17:53:41.177Z"
   },
   {
    "duration": 186,
    "start_time": "2023-09-15T17:54:28.226Z"
   },
   {
    "duration": 1170,
    "start_time": "2023-09-15T17:55:26.608Z"
   },
   {
    "duration": 53,
    "start_time": "2023-09-15T17:55:27.780Z"
   },
   {
    "duration": 48,
    "start_time": "2023-09-15T17:55:27.837Z"
   },
   {
    "duration": 27,
    "start_time": "2023-09-15T17:55:27.887Z"
   },
   {
    "duration": 29,
    "start_time": "2023-09-15T17:55:27.915Z"
   },
   {
    "duration": 13,
    "start_time": "2023-09-15T17:55:27.948Z"
   },
   {
    "duration": 90,
    "start_time": "2023-09-15T17:55:27.963Z"
   },
   {
    "duration": 35,
    "start_time": "2023-09-15T17:55:28.054Z"
   },
   {
    "duration": 52,
    "start_time": "2023-09-15T17:55:28.091Z"
   },
   {
    "duration": 195,
    "start_time": "2023-09-15T17:55:28.145Z"
   },
   {
    "duration": 9,
    "start_time": "2023-09-15T17:55:28.353Z"
   },
   {
    "duration": 198,
    "start_time": "2023-09-15T17:55:28.363Z"
   },
   {
    "duration": 306,
    "start_time": "2023-09-15T17:55:28.563Z"
   },
   {
    "duration": 283,
    "start_time": "2023-09-15T17:55:28.870Z"
   },
   {
    "duration": 12,
    "start_time": "2023-09-15T17:55:29.155Z"
   },
   {
    "duration": 382,
    "start_time": "2023-09-15T17:55:29.168Z"
   },
   {
    "duration": 24,
    "start_time": "2023-09-15T17:55:29.552Z"
   },
   {
    "duration": 390,
    "start_time": "2023-09-15T17:55:29.579Z"
   },
   {
    "duration": 490,
    "start_time": "2023-09-15T17:55:29.971Z"
   },
   {
    "duration": 1309,
    "start_time": "2023-09-15T17:55:30.466Z"
   },
   {
    "duration": 9,
    "start_time": "2023-09-15T17:55:31.778Z"
   },
   {
    "duration": 31,
    "start_time": "2023-09-15T17:55:31.788Z"
   },
   {
    "duration": 41,
    "start_time": "2023-09-15T17:55:31.821Z"
   },
   {
    "duration": 28,
    "start_time": "2023-09-15T17:55:31.863Z"
   },
   {
    "duration": 26,
    "start_time": "2023-09-15T17:55:31.893Z"
   },
   {
    "duration": 181,
    "start_time": "2023-09-15T17:55:31.920Z"
   },
   {
    "duration": 1344,
    "start_time": "2023-09-17T05:30:04.765Z"
   },
   {
    "duration": 106,
    "start_time": "2023-09-17T05:30:06.118Z"
   },
   {
    "duration": 92,
    "start_time": "2023-09-17T05:30:06.226Z"
   },
   {
    "duration": 63,
    "start_time": "2023-09-17T05:30:06.320Z"
   },
   {
    "duration": 32,
    "start_time": "2023-09-17T05:30:06.385Z"
   },
   {
    "duration": 11,
    "start_time": "2023-09-17T05:30:06.419Z"
   },
   {
    "duration": 13,
    "start_time": "2023-09-17T05:30:06.432Z"
   },
   {
    "duration": 6,
    "start_time": "2023-09-17T05:30:06.447Z"
   },
   {
    "duration": 30,
    "start_time": "2023-09-17T05:30:06.454Z"
   },
   {
    "duration": 234,
    "start_time": "2023-09-17T05:30:06.485Z"
   },
   {
    "duration": 11,
    "start_time": "2023-09-17T05:30:06.721Z"
   },
   {
    "duration": 103,
    "start_time": "2023-09-17T05:30:06.733Z"
   },
   {
    "duration": 325,
    "start_time": "2023-09-17T05:30:06.838Z"
   },
   {
    "duration": 286,
    "start_time": "2023-09-17T05:30:07.167Z"
   },
   {
    "duration": 15,
    "start_time": "2023-09-17T05:30:07.454Z"
   },
   {
    "duration": 353,
    "start_time": "2023-09-17T05:30:07.471Z"
   },
   {
    "duration": 25,
    "start_time": "2023-09-17T05:30:07.826Z"
   },
   {
    "duration": 465,
    "start_time": "2023-09-17T05:30:07.853Z"
   },
   {
    "duration": 407,
    "start_time": "2023-09-17T05:30:08.320Z"
   },
   {
    "duration": 1327,
    "start_time": "2023-09-17T05:30:08.729Z"
   },
   {
    "duration": 10,
    "start_time": "2023-09-17T05:30:10.058Z"
   },
   {
    "duration": 148,
    "start_time": "2023-09-17T05:30:10.070Z"
   },
   {
    "duration": 33,
    "start_time": "2023-09-17T05:30:10.220Z"
   },
   {
    "duration": 123,
    "start_time": "2023-09-17T05:30:10.255Z"
   },
   {
    "duration": 0,
    "start_time": "2023-09-17T05:30:10.380Z"
   },
   {
    "duration": 0,
    "start_time": "2023-09-17T05:30:10.381Z"
   },
   {
    "duration": 181,
    "start_time": "2023-09-17T05:30:19.864Z"
   },
   {
    "duration": 170,
    "start_time": "2023-09-17T05:30:57.467Z"
   },
   {
    "duration": 148,
    "start_time": "2023-09-17T05:31:10.215Z"
   },
   {
    "duration": 194,
    "start_time": "2023-09-17T05:31:14.592Z"
   },
   {
    "duration": 164,
    "start_time": "2023-09-17T05:31:43.568Z"
   },
   {
    "duration": 157,
    "start_time": "2023-09-17T05:31:49.868Z"
   },
   {
    "duration": 1207,
    "start_time": "2023-09-17T06:13:56.177Z"
   },
   {
    "duration": 47,
    "start_time": "2023-09-17T06:13:57.387Z"
   },
   {
    "duration": 42,
    "start_time": "2023-09-17T06:13:57.436Z"
   },
   {
    "duration": 28,
    "start_time": "2023-09-17T06:13:57.480Z"
   },
   {
    "duration": 18,
    "start_time": "2023-09-17T06:13:57.509Z"
   },
   {
    "duration": 10,
    "start_time": "2023-09-17T06:13:57.529Z"
   },
   {
    "duration": 12,
    "start_time": "2023-09-17T06:13:57.540Z"
   },
   {
    "duration": 5,
    "start_time": "2023-09-17T06:13:57.554Z"
   },
   {
    "duration": 46,
    "start_time": "2023-09-17T06:13:57.561Z"
   },
   {
    "duration": 199,
    "start_time": "2023-09-17T06:13:57.610Z"
   },
   {
    "duration": 74,
    "start_time": "2023-09-17T06:13:57.810Z"
   },
   {
    "duration": 312,
    "start_time": "2023-09-17T06:13:57.902Z"
   },
   {
    "duration": 257,
    "start_time": "2023-09-17T06:13:58.216Z"
   },
   {
    "duration": 30,
    "start_time": "2023-09-17T06:13:58.475Z"
   },
   {
    "duration": 350,
    "start_time": "2023-09-17T06:13:58.507Z"
   },
   {
    "duration": 23,
    "start_time": "2023-09-17T06:13:58.859Z"
   },
   {
    "duration": 467,
    "start_time": "2023-09-17T06:13:58.884Z"
   },
   {
    "duration": 361,
    "start_time": "2023-09-17T06:13:59.352Z"
   },
   {
    "duration": 1249,
    "start_time": "2023-09-17T06:13:59.715Z"
   },
   {
    "duration": 9,
    "start_time": "2023-09-17T06:14:00.966Z"
   },
   {
    "duration": 329,
    "start_time": "2023-09-17T06:14:00.976Z"
   },
   {
    "duration": 78,
    "start_time": "2023-09-17T06:14:01.307Z"
   },
   {
    "duration": 214,
    "start_time": "2023-09-17T06:14:01.387Z"
   },
   {
    "duration": 162,
    "start_time": "2023-09-17T06:14:01.603Z"
   },
   {
    "duration": 177,
    "start_time": "2023-09-17T06:14:01.766Z"
   },
   {
    "duration": 1182,
    "start_time": "2023-09-17T17:14:05.194Z"
   },
   {
    "duration": 45,
    "start_time": "2023-09-17T17:14:06.378Z"
   },
   {
    "duration": 44,
    "start_time": "2023-09-17T17:14:06.425Z"
   },
   {
    "duration": 27,
    "start_time": "2023-09-17T17:14:06.472Z"
   },
   {
    "duration": 24,
    "start_time": "2023-09-17T17:14:06.500Z"
   },
   {
    "duration": 23,
    "start_time": "2023-09-17T17:14:06.527Z"
   },
   {
    "duration": 45,
    "start_time": "2023-09-17T17:14:06.552Z"
   },
   {
    "duration": 50,
    "start_time": "2023-09-17T17:14:06.599Z"
   },
   {
    "duration": 38,
    "start_time": "2023-09-17T17:14:06.651Z"
   },
   {
    "duration": 207,
    "start_time": "2023-09-17T17:14:06.691Z"
   },
   {
    "duration": 75,
    "start_time": "2023-09-17T17:14:06.899Z"
   },
   {
    "duration": 291,
    "start_time": "2023-09-17T17:14:06.976Z"
   },
   {
    "duration": 225,
    "start_time": "2023-09-17T17:14:07.268Z"
   },
   {
    "duration": 11,
    "start_time": "2023-09-17T17:14:07.495Z"
   },
   {
    "duration": 295,
    "start_time": "2023-09-17T17:14:07.508Z"
   },
   {
    "duration": 28,
    "start_time": "2023-09-17T17:14:07.804Z"
   },
   {
    "duration": 400,
    "start_time": "2023-09-17T17:14:07.834Z"
   },
   {
    "duration": 323,
    "start_time": "2023-09-17T17:14:08.236Z"
   },
   {
    "duration": 1152,
    "start_time": "2023-09-17T17:14:08.561Z"
   },
   {
    "duration": 15,
    "start_time": "2023-09-17T17:14:09.714Z"
   },
   {
    "duration": 97,
    "start_time": "2023-09-17T17:14:09.730Z"
   },
   {
    "duration": 30,
    "start_time": "2023-09-17T17:14:09.829Z"
   },
   {
    "duration": 152,
    "start_time": "2023-09-17T17:14:09.861Z"
   },
   {
    "duration": 152,
    "start_time": "2023-09-17T17:14:10.015Z"
   },
   {
    "duration": 177,
    "start_time": "2023-09-17T17:14:10.169Z"
   },
   {
    "duration": 60,
    "start_time": "2023-09-18T10:40:35.336Z"
   },
   {
    "duration": 1146,
    "start_time": "2023-09-18T10:40:38.223Z"
   },
   {
    "duration": 103,
    "start_time": "2023-09-18T11:16:45.485Z"
   },
   {
    "duration": 82,
    "start_time": "2023-09-18T11:16:46.447Z"
   },
   {
    "duration": 76,
    "start_time": "2023-09-18T11:16:46.699Z"
   },
   {
    "duration": 18,
    "start_time": "2023-09-18T11:16:48.058Z"
   },
   {
    "duration": 9,
    "start_time": "2023-09-18T11:16:48.783Z"
   },
   {
    "duration": 12,
    "start_time": "2023-09-18T11:16:49.088Z"
   },
   {
    "duration": 5,
    "start_time": "2023-09-18T11:16:49.474Z"
   },
   {
    "duration": 9,
    "start_time": "2023-09-18T11:16:50.977Z"
   },
   {
    "duration": 189,
    "start_time": "2023-09-18T11:16:51.588Z"
   },
   {
    "duration": 70,
    "start_time": "2023-09-18T11:16:52.442Z"
   },
   {
    "duration": 289,
    "start_time": "2023-09-18T11:16:52.893Z"
   }
  ],
  "kernelspec": {
   "display_name": "Python 3 (ipykernel)",
   "language": "python",
   "name": "python3"
  },
  "language_info": {
   "codemirror_mode": {
    "name": "ipython",
    "version": 3
   },
   "file_extension": ".py",
   "mimetype": "text/x-python",
   "name": "python",
   "nbconvert_exporter": "python",
   "pygments_lexer": "ipython3",
   "version": "3.9.5"
  },
  "toc": {
   "base_numbering": 1,
   "nav_menu": {},
   "number_sections": true,
   "sideBar": true,
   "skip_h1_title": true,
   "title_cell": "Table of Contents",
   "title_sidebar": "Contents",
   "toc_cell": false,
   "toc_position": {},
   "toc_section_display": true,
   "toc_window_display": false
  }
 },
 "nbformat": 4,
 "nbformat_minor": 5
}
