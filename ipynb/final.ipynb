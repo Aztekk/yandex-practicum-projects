{
 "cells": [
  {
   "cell_type": "markdown",
   "id": "c743ad61",
   "metadata": {},
   "source": [
    "# «Стальная птица»: уменьшение потребления электроэнергии\n",
    "\n",
    "Чтобы оптимизировать производственные расходы, металлургический комбинат «Стальная птица» решил уменьшить потребление электроэнергии на этапе обработки стали. Для этого комбинату нужно контролировать температуру сплава. Наша задача — построить модель, которая будет её предсказывать. Заказчик хочет использовать разработанную модель для имитации технологического процесса.\n",
    "\n",
    "**Описание этапа обработки**\n",
    "\n",
    "Сталь обрабатывают в металлическом ковше вместимостью около 100 тонн. Чтобы ковш выдерживал высокие температуры, изнутри его облицовывают огнеупорным кирпичом. Расплавленную сталь заливают в ковш и подогревают до нужной температуры графитовыми электродами. Они установлены в крышке ковша. \n",
    "\n",
    "Из сплава выводится сера (этот процесс — десульфурация), добавлением примесей корректируется химический состав и отбираются пробы. Сталь легируют — изменяют её состав — подавая куски сплава из бункера для сыпучих материалов или проволоку через специальный трайб-аппарат (от англ. tribe — «масса»).\n",
    "\n",
    "Перед тем как первый раз ввести легирующие добавки, измеряют температуру стали и производят её химический анализ. Потом температуру на несколько минут повышают, добавляют легирующие материалы и продувают сплав инертным газом. Затем его перемешивают и снова проводят измерения. Такой цикл повторяется до достижения целевого химического состава и оптимальной температуры плавки.\n",
    "\n",
    "Тогда расплавленная сталь отправляется на доводку металла или поступает в машину непрерывной разливки. Оттуда готовый продукт выходит в виде заготовок-слябов (от англ. slab — «плита»).\n",
    "\n",
    "**Описание данных**\n",
    "\n",
    "Данные состоят из нескольких файлов, полученных из разных источников:\n",
    "\n",
    "- data_arc_new.csv — данные об электродах;\n",
    "- data_bulk_new.csv — данные о подаче сыпучих материалов (объём);\n",
    "- data_bulk_time_new.csv — данные о подаче сыпучих материалов (время);\n",
    "- data_gas_new.csv — данные о продувке сплава газом;\n",
    "- data_temp_new.csv — результаты измерения температуры;\n",
    "- data_wire_new.csv — данные о проволочных материалах (объём);\n",
    "- data_wire_time_new.csv — данные о проволочных материалах (время).\n",
    "\n",
    "**Файл `Файл data_arc_new.csv`**\n",
    "- key — номер партии;\n",
    "- Начало нагрева дугой — время начала нагрева;\n",
    "- Конец нагрева дугой — время окончания нагрева;\n",
    "- Активная мощность — значение активной мощности;\n",
    "- Реактивная мощность — значение реактивной мощности.\n",
    "\n",
    "**Файл `Файл data_bulk_new.csv`**\n",
    "- key — номер партии;\n",
    "- Bulk 1 … Bulk 15 — объём подаваемого материала.\n",
    "\n",
    "**Файл `data_bulk_time_new.csv`**\n",
    "- key — номер партии;\n",
    "- Bulk 1 … Bulk 15 — время подачи материала.\n",
    "\n",
    "**Файл `data_gas_new.csv`**\n",
    "- key — номер партии;\n",
    "- Газ 1 — объём подаваемого газа.\n",
    "\n",
    "**Файл `data_temp_new.csv`**\n",
    "- key — номер партии;\n",
    "- Время замера — время замера;\n",
    "- Температура — значение температуры.\n",
    "\n",
    "**Файл `data_wire_new.csv`**\n",
    "- key — номер партии;\n",
    "- Wire 1 … Wire 15 — объём подаваемых проволочных материалов.\n",
    "\n",
    "**Файл `data_wire_time_new.csv`**\n",
    "- key — номер партии;\n",
    "- Wire 1 … Wire 15 — время подачи проволочных материалов.\n",
    "\n",
    "Во всех файлах столбец key содержит номер партии. В файлах может быть несколько строк с одинаковым значением key: они соответствуют разным итерациям обработки."
   ]
  },
  {
   "cell_type": "markdown",
   "id": "b07f491d",
   "metadata": {},
   "source": [
    "## Подготовка"
   ]
  },
  {
   "cell_type": "markdown",
   "id": "d7db00eb",
   "metadata": {},
   "source": [
    "### Загрузка библиотек"
   ]
  },
  {
   "cell_type": "code",
   "execution_count": 2,
   "id": "934245c6",
   "metadata": {},
   "outputs": [],
   "source": [
    "import pandas as pd\n",
    "import numpy as np\n",
    "import matplotlib.pyplot as plt\n",
    "import seaborn as sns\n",
    "from sklearn.model_selection import (\n",
    "    train_test_split,\n",
    "    GridSearchCV,\n",
    "    RandomizedSearchCV,\n",
    "    cross_val_score,\n",
    ")\n",
    "from sklearn.linear_model import LinearRegression\n",
    "from sklearn.ensemble import RandomForestRegressor\n",
    "from sklearn.metrics import mean_absolute_error\n",
    "from sklearn.preprocessing import MinMaxScaler, StandardScaler, RobustScaler\n",
    "from sklearn.pipeline import Pipeline\n",
    "from sklearn.compose import ColumnTransformer\n",
    "from catboost import CatBoostRegressor\n",
    "\n",
    "import tensorflow as tf\n",
    "from tensorflow import keras\n",
    "from tensorflow.keras import layers\n",
    "\n",
    "import phik\n",
    "\n",
    "\n",
    "RANDOM_STATE = 40324\n",
    "TEST_SIZE = 0.25\n",
    "\n",
    "datasets_directory = 'https://code.s3.yandex.net/datasets/'"
   ]
  },
  {
   "cell_type": "markdown",
   "id": "1cf88881",
   "metadata": {},
   "source": [
    "## Вспомогательные функции"
   ]
  },
  {
   "cell_type": "code",
   "execution_count": 3,
   "id": "e4e38c98",
   "metadata": {},
   "outputs": [],
   "source": [
    "def transform_columns_values(df):\n",
    "    '''\n",
    "    Функция приводит значения колонок и значений к единому формату\n",
    "    Заменяет пробелы на _, приводит к нижнему регистру\n",
    "    Проверяет явные дубли и пропущенные значения\n",
    "    '''\n",
    "    df.columns = df.columns.str.replace(' ', '_', regex=True).str.lower()\n",
    "    object_columns = df.select_dtypes('object').columns\n",
    "    df[object_columns] = df.select_dtypes('object').apply(\n",
    "        lambda x: x.str.replace(' ', '_', regex=True).str.lower()\n",
    "    )\n",
    "    # Обработка дублей\n",
    "    print(f'''Явных дублей: {df.duplicated().sum()}\\n\\n''')\n",
    "\n",
    "    # Обработка пропущенных значений\n",
    "    print('Пропущенных значений:\\n')\n",
    "    display(\n",
    "        (\n",
    "            pd.DataFrame(\n",
    "                round(df.isna().mean() * 100, 1).sort_values(ascending=False)\n",
    "            ).style.background_gradient('coolwarm')\n",
    "        )\n",
    "    )\n",
    "    print('INFO')\n",
    "    display(df.info())\n",
    "    print('\\n')\n",
    "    print('DESCRIBE')\n",
    "    display(df.describe())\n",
    "    print('\\n')\n",
    "    print('HEAD')\n",
    "    display(df.head())\n",
    "\n",
    "    return df"
   ]
  },
  {
   "cell_type": "code",
   "execution_count": 4,
   "id": "a1824713",
   "metadata": {},
   "outputs": [],
   "source": [
    "def plot_numeric(df, variable, title, xlabel, bins):\n",
    "    '''Рисует графики распределения количественных переменных'''\n",
    "    f, (ax1, ax2) = plt.subplots(\n",
    "        2, 1, figsize=(20, 7), gridspec_kw={'height_ratios': [4, 1]}\n",
    "    )\n",
    "    f.suptitle(title, fontsize=20)\n",
    "\n",
    "    ax1.hist(df[variable], bins=bins)\n",
    "    ax1.set_ylabel('Количество измерений')\n",
    "\n",
    "    ax2.boxplot(df[variable], vert=False)\n",
    "    ax2.set_xlabel(xlabel)\n",
    "    ax2.set_xticks([])\n",
    "    ax2.set_yticks([])\n",
    "\n",
    "    plt.show()"
   ]
  },
  {
   "cell_type": "markdown",
   "id": "5b110875",
   "metadata": {},
   "source": [
    "### Загрузка данных"
   ]
  },
  {
   "cell_type": "code",
   "execution_count": 5,
   "id": "5b21d7e3",
   "metadata": {},
   "outputs": [],
   "source": [
    "# Нагрев дугой\n",
    "arc = pd.read_csv(\n",
    "    datasets_directory + 'data_arc_new.csv',\n",
    "    parse_dates=['Начало нагрева дугой', 'Конец нагрева дугой'],\n",
    ")\n",
    "\n",
    "# Подача сыпучих материалов\n",
    "bulk = pd.read_csv(datasets_directory + 'data_bulk_new.csv')\n",
    "\n",
    "# Время подачи сыпучих материалов\n",
    "bulk_time = pd.read_csv(\n",
    "    datasets_directory + 'data_bulk_time_new.csv',\n",
    "    parse_dates=[f'Bulk {x}' for x in range(1, 16)],\n",
    ")\n",
    "\n",
    "# Данные о продувке сплава газом\n",
    "gas = pd.read_csv(datasets_directory + 'data_gas_new.csv')\n",
    "\n",
    "# Результаты измерения температуры\n",
    "temperature = pd.read_csv(\n",
    "    datasets_directory + 'data_temp_new.csv', parse_dates=['Время замера']\n",
    ")\n",
    "\n",
    "# Данные о проволочных материалах (объём);\n",
    "wire = pd.read_csv(datasets_directory + 'data_wire_new.csv')\n",
    "\n",
    "# Данные о проволочных материалах (время);\n",
    "wire_time = pd.read_csv(\n",
    "    datasets_directory + 'data_wire_time_new.csv',\n",
    "    parse_dates=[f'Wire {x}' for x in range(1, 10)],\n",
    ")"
   ]
  },
  {
   "cell_type": "markdown",
   "id": "b7b41dfd",
   "metadata": {},
   "source": [
    "## Исследовательский анализ данных"
   ]
  },
  {
   "cell_type": "markdown",
   "id": "68244479",
   "metadata": {},
   "source": [
    "### Нагрев дугой"
   ]
  },
  {
   "cell_type": "code",
   "execution_count": 6,
   "id": "ce7a6bbf",
   "metadata": {},
   "outputs": [
    {
     "name": "stdout",
     "output_type": "stream",
     "text": [
      "Явных дублей: 0\n",
      "\n",
      "\n",
      "Пропущенных значений:\n",
      "\n"
     ]
    },
    {
     "data": {
      "text/html": [
       "<style  type=\"text/css\" >\n",
       "#T_b5b3e_row0_col0,#T_b5b3e_row1_col0,#T_b5b3e_row2_col0,#T_b5b3e_row3_col0,#T_b5b3e_row4_col0{\n",
       "            background-color:  #3b4cc0;\n",
       "            color:  #f1f1f1;\n",
       "        }</style><table id=\"T_b5b3e_\" ><thead>    <tr>        <th class=\"blank level0\" ></th>        <th class=\"col_heading level0 col0\" >0</th>    </tr></thead><tbody>\n",
       "                <tr>\n",
       "                        <th id=\"T_b5b3e_level0_row0\" class=\"row_heading level0 row0\" >key</th>\n",
       "                        <td id=\"T_b5b3e_row0_col0\" class=\"data row0 col0\" >0.000000</td>\n",
       "            </tr>\n",
       "            <tr>\n",
       "                        <th id=\"T_b5b3e_level0_row1\" class=\"row_heading level0 row1\" >начало_нагрева_дугой</th>\n",
       "                        <td id=\"T_b5b3e_row1_col0\" class=\"data row1 col0\" >0.000000</td>\n",
       "            </tr>\n",
       "            <tr>\n",
       "                        <th id=\"T_b5b3e_level0_row2\" class=\"row_heading level0 row2\" >конец_нагрева_дугой</th>\n",
       "                        <td id=\"T_b5b3e_row2_col0\" class=\"data row2 col0\" >0.000000</td>\n",
       "            </tr>\n",
       "            <tr>\n",
       "                        <th id=\"T_b5b3e_level0_row3\" class=\"row_heading level0 row3\" >активная_мощность</th>\n",
       "                        <td id=\"T_b5b3e_row3_col0\" class=\"data row3 col0\" >0.000000</td>\n",
       "            </tr>\n",
       "            <tr>\n",
       "                        <th id=\"T_b5b3e_level0_row4\" class=\"row_heading level0 row4\" >реактивная_мощность</th>\n",
       "                        <td id=\"T_b5b3e_row4_col0\" class=\"data row4 col0\" >0.000000</td>\n",
       "            </tr>\n",
       "    </tbody></table>"
      ],
      "text/plain": [
       "<pandas.io.formats.style.Styler at 0x7fec7db9db20>"
      ]
     },
     "metadata": {},
     "output_type": "display_data"
    },
    {
     "name": "stdout",
     "output_type": "stream",
     "text": [
      "INFO\n",
      "<class 'pandas.core.frame.DataFrame'>\n",
      "RangeIndex: 14876 entries, 0 to 14875\n",
      "Data columns (total 5 columns):\n",
      " #   Column                Non-Null Count  Dtype         \n",
      "---  ------                --------------  -----         \n",
      " 0   key                   14876 non-null  int64         \n",
      " 1   начало_нагрева_дугой  14876 non-null  datetime64[ns]\n",
      " 2   конец_нагрева_дугой   14876 non-null  datetime64[ns]\n",
      " 3   активная_мощность     14876 non-null  float64       \n",
      " 4   реактивная_мощность   14876 non-null  float64       \n",
      "dtypes: datetime64[ns](2), float64(2), int64(1)\n",
      "memory usage: 581.2 KB\n"
     ]
    },
    {
     "data": {
      "text/plain": [
       "None"
      ]
     },
     "metadata": {},
     "output_type": "display_data"
    },
    {
     "name": "stdout",
     "output_type": "stream",
     "text": [
      "\n",
      "\n",
      "DESCRIBE\n"
     ]
    },
    {
     "data": {
      "text/html": [
       "<div>\n",
       "<style scoped>\n",
       "    .dataframe tbody tr th:only-of-type {\n",
       "        vertical-align: middle;\n",
       "    }\n",
       "\n",
       "    .dataframe tbody tr th {\n",
       "        vertical-align: top;\n",
       "    }\n",
       "\n",
       "    .dataframe thead th {\n",
       "        text-align: right;\n",
       "    }\n",
       "</style>\n",
       "<table border=\"1\" class=\"dataframe\">\n",
       "  <thead>\n",
       "    <tr style=\"text-align: right;\">\n",
       "      <th></th>\n",
       "      <th>key</th>\n",
       "      <th>активная_мощность</th>\n",
       "      <th>реактивная_мощность</th>\n",
       "    </tr>\n",
       "  </thead>\n",
       "  <tbody>\n",
       "    <tr>\n",
       "      <th>count</th>\n",
       "      <td>14876.000000</td>\n",
       "      <td>14876.000000</td>\n",
       "      <td>14876.000000</td>\n",
       "    </tr>\n",
       "    <tr>\n",
       "      <th>mean</th>\n",
       "      <td>1615.220422</td>\n",
       "      <td>0.662752</td>\n",
       "      <td>0.438986</td>\n",
       "    </tr>\n",
       "    <tr>\n",
       "      <th>std</th>\n",
       "      <td>934.571502</td>\n",
       "      <td>0.258885</td>\n",
       "      <td>5.873485</td>\n",
       "    </tr>\n",
       "    <tr>\n",
       "      <th>min</th>\n",
       "      <td>1.000000</td>\n",
       "      <td>0.223120</td>\n",
       "      <td>-715.479924</td>\n",
       "    </tr>\n",
       "    <tr>\n",
       "      <th>25%</th>\n",
       "      <td>806.000000</td>\n",
       "      <td>0.467115</td>\n",
       "      <td>0.337175</td>\n",
       "    </tr>\n",
       "    <tr>\n",
       "      <th>50%</th>\n",
       "      <td>1617.000000</td>\n",
       "      <td>0.599587</td>\n",
       "      <td>0.441639</td>\n",
       "    </tr>\n",
       "    <tr>\n",
       "      <th>75%</th>\n",
       "      <td>2429.000000</td>\n",
       "      <td>0.830070</td>\n",
       "      <td>0.608201</td>\n",
       "    </tr>\n",
       "    <tr>\n",
       "      <th>max</th>\n",
       "      <td>3241.000000</td>\n",
       "      <td>1.463773</td>\n",
       "      <td>1.270284</td>\n",
       "    </tr>\n",
       "  </tbody>\n",
       "</table>\n",
       "</div>"
      ],
      "text/plain": [
       "                key  активная_мощность  реактивная_мощность\n",
       "count  14876.000000       14876.000000         14876.000000\n",
       "mean    1615.220422           0.662752             0.438986\n",
       "std      934.571502           0.258885             5.873485\n",
       "min        1.000000           0.223120          -715.479924\n",
       "25%      806.000000           0.467115             0.337175\n",
       "50%     1617.000000           0.599587             0.441639\n",
       "75%     2429.000000           0.830070             0.608201\n",
       "max     3241.000000           1.463773             1.270284"
      ]
     },
     "metadata": {},
     "output_type": "display_data"
    },
    {
     "name": "stdout",
     "output_type": "stream",
     "text": [
      "\n",
      "\n",
      "HEAD\n"
     ]
    },
    {
     "data": {
      "text/html": [
       "<div>\n",
       "<style scoped>\n",
       "    .dataframe tbody tr th:only-of-type {\n",
       "        vertical-align: middle;\n",
       "    }\n",
       "\n",
       "    .dataframe tbody tr th {\n",
       "        vertical-align: top;\n",
       "    }\n",
       "\n",
       "    .dataframe thead th {\n",
       "        text-align: right;\n",
       "    }\n",
       "</style>\n",
       "<table border=\"1\" class=\"dataframe\">\n",
       "  <thead>\n",
       "    <tr style=\"text-align: right;\">\n",
       "      <th></th>\n",
       "      <th>key</th>\n",
       "      <th>начало_нагрева_дугой</th>\n",
       "      <th>конец_нагрева_дугой</th>\n",
       "      <th>активная_мощность</th>\n",
       "      <th>реактивная_мощность</th>\n",
       "    </tr>\n",
       "  </thead>\n",
       "  <tbody>\n",
       "    <tr>\n",
       "      <th>0</th>\n",
       "      <td>1</td>\n",
       "      <td>2019-05-03 11:02:14</td>\n",
       "      <td>2019-05-03 11:06:02</td>\n",
       "      <td>0.305130</td>\n",
       "      <td>0.211253</td>\n",
       "    </tr>\n",
       "    <tr>\n",
       "      <th>1</th>\n",
       "      <td>1</td>\n",
       "      <td>2019-05-03 11:07:28</td>\n",
       "      <td>2019-05-03 11:10:33</td>\n",
       "      <td>0.765658</td>\n",
       "      <td>0.477438</td>\n",
       "    </tr>\n",
       "    <tr>\n",
       "      <th>2</th>\n",
       "      <td>1</td>\n",
       "      <td>2019-05-03 11:11:44</td>\n",
       "      <td>2019-05-03 11:14:36</td>\n",
       "      <td>0.580313</td>\n",
       "      <td>0.430460</td>\n",
       "    </tr>\n",
       "    <tr>\n",
       "      <th>3</th>\n",
       "      <td>1</td>\n",
       "      <td>2019-05-03 11:18:14</td>\n",
       "      <td>2019-05-03 11:24:19</td>\n",
       "      <td>0.518496</td>\n",
       "      <td>0.379979</td>\n",
       "    </tr>\n",
       "    <tr>\n",
       "      <th>4</th>\n",
       "      <td>1</td>\n",
       "      <td>2019-05-03 11:26:09</td>\n",
       "      <td>2019-05-03 11:28:37</td>\n",
       "      <td>0.867133</td>\n",
       "      <td>0.643691</td>\n",
       "    </tr>\n",
       "  </tbody>\n",
       "</table>\n",
       "</div>"
      ],
      "text/plain": [
       "   key начало_нагрева_дугой конец_нагрева_дугой  активная_мощность  \\\n",
       "0    1  2019-05-03 11:02:14 2019-05-03 11:06:02           0.305130   \n",
       "1    1  2019-05-03 11:07:28 2019-05-03 11:10:33           0.765658   \n",
       "2    1  2019-05-03 11:11:44 2019-05-03 11:14:36           0.580313   \n",
       "3    1  2019-05-03 11:18:14 2019-05-03 11:24:19           0.518496   \n",
       "4    1  2019-05-03 11:26:09 2019-05-03 11:28:37           0.867133   \n",
       "\n",
       "   реактивная_мощность  \n",
       "0             0.211253  \n",
       "1             0.477438  \n",
       "2             0.430460  \n",
       "3             0.379979  \n",
       "4             0.643691  "
      ]
     },
     "metadata": {},
     "output_type": "display_data"
    }
   ],
   "source": [
    "arc = transform_columns_values(arc)"
   ]
  },
  {
   "cell_type": "code",
   "execution_count": 7,
   "id": "071bb3d1",
   "metadata": {},
   "outputs": [],
   "source": [
    "# Колонки стоит перевести в латиницу\n",
    "arc.columns = [\n",
    "    'key',\n",
    "    'arc_start',\n",
    "    'arc_finish',\n",
    "    'active_power',\n",
    "    'reactive_power',\n",
    "]"
   ]
  },
  {
   "cell_type": "code",
   "execution_count": 8,
   "id": "3d1eb406",
   "metadata": {},
   "outputs": [
    {
     "data": {
      "image/png": "[encoded data removed]",
      "text/plain": [
       "<Figure size 1440x504 with 2 Axes>"
      ]
     },
     "metadata": {
      "needs_background": "light"
     },
     "output_type": "display_data"
    }
   ],
   "source": [
    "plot_numeric(arc, 'active_power', 'Активная мощность', 'Активная мощность', 50)"
   ]
  },
  {
   "cell_type": "code",
   "execution_count": 9,
   "id": "0491b941",
   "metadata": {
    "scrolled": true
   },
   "outputs": [
    {
     "data": {
      "image/png": "[encoded data removed]",
      "text/plain": [
       "<Figure size 1440x504 with 2 Axes>"
      ]
     },
     "metadata": {
      "needs_background": "light"
     },
     "output_type": "display_data"
    }
   ],
   "source": [
    "plot_numeric(\n",
    "    arc, 'reactive_power', 'Реактивная мощность', 'Реактивная мощность', 50\n",
    ")"
   ]
  },
  {
   "cell_type": "markdown",
   "id": "e856de09",
   "metadata": {},
   "source": [
    "Тут явная ошибка с огромной отрицательной мощностью. От неё стоит избавиться. Причем лучше сделать это во всех датафреймах."
   ]
  },
  {
   "cell_type": "code",
   "execution_count": 10,
   "id": "0934cd15",
   "metadata": {},
   "outputs": [],
   "source": [
    "# Партия\n",
    "key_to_drop = arc[arc['reactive_power'] < 0]['key'].iloc[0]\n",
    "# Убираем из всех датафреймов\n",
    "arc = arc[arc['key'] != key_to_drop]\n",
    "bulk = bulk[bulk['key'] != key_to_drop]\n",
    "bulk_time = bulk_time[bulk_time['key'] != key_to_drop]\n",
    "gas = gas[gas['key'] != key_to_drop]\n",
    "temperature = temperature[temperature['key'] != key_to_drop]\n",
    "wire = wire[wire['key'] != key_to_drop]\n",
    "wire_time = wire_time[wire_time['key'] != key_to_drop]"
   ]
  },
  {
   "cell_type": "code",
   "execution_count": 11,
   "id": "f2948474",
   "metadata": {
    "scrolled": false
   },
   "outputs": [
    {
     "data": {
      "image/png": "[encoded data removed]",
      "text/plain": [
       "<Figure size 1440x504 with 2 Axes>"
      ]
     },
     "metadata": {
      "needs_background": "light"
     },
     "output_type": "display_data"
    }
   ],
   "source": [
    "plot_numeric(\n",
    "    arc, 'reactive_power', 'Реактивная мощность', 'Реактивная мощность', 50\n",
    ")"
   ]
  },
  {
   "cell_type": "markdown",
   "id": "726544ea",
   "metadata": {},
   "source": [
    "### Подача сыпучих материалов"
   ]
  },
  {
   "cell_type": "code",
   "execution_count": 12,
   "id": "3eab1ca2",
   "metadata": {},
   "outputs": [
    {
     "name": "stdout",
     "output_type": "stream",
     "text": [
      "Явных дублей: 0\n",
      "\n",
      "\n",
      "Пропущенных значений:\n",
      "\n"
     ]
    },
    {
     "data": {
      "text/html": [
       "<style  type=\"text/css\" >\n",
       "#T_f649c_row0_col0{\n",
       "            background-color:  #b40426;\n",
       "            color:  #f1f1f1;\n",
       "        }#T_f649c_row1_col0,#T_f649c_row2_col0,#T_f649c_row3_col0{\n",
       "            background-color:  #b50927;\n",
       "            color:  #f1f1f1;\n",
       "        }#T_f649c_row4_col0{\n",
       "            background-color:  #b70d28;\n",
       "            color:  #f1f1f1;\n",
       "        }#T_f649c_row5_col0{\n",
       "            background-color:  #bd1f2d;\n",
       "            color:  #f1f1f1;\n",
       "        }#T_f649c_row6_col0,#T_f649c_row7_col0{\n",
       "            background-color:  #c83836;\n",
       "            color:  #f1f1f1;\n",
       "        }#T_f649c_row8_col0{\n",
       "            background-color:  #d0473d;\n",
       "            color:  #f1f1f1;\n",
       "        }#T_f649c_row9_col0{\n",
       "            background-color:  #eb7d62;\n",
       "            color:  #000000;\n",
       "        }#T_f649c_row10_col0{\n",
       "            background-color:  #f7b497;\n",
       "            color:  #000000;\n",
       "        }#T_f649c_row11_col0{\n",
       "            background-color:  #efcebd;\n",
       "            color:  #000000;\n",
       "        }#T_f649c_row12_col0{\n",
       "            background-color:  #97b8ff;\n",
       "            color:  #000000;\n",
       "        }#T_f649c_row13_col0{\n",
       "            background-color:  #81a4fb;\n",
       "            color:  #000000;\n",
       "        }#T_f649c_row14_col0{\n",
       "            background-color:  #5a78e4;\n",
       "            color:  #000000;\n",
       "        }#T_f649c_row15_col0{\n",
       "            background-color:  #3b4cc0;\n",
       "            color:  #f1f1f1;\n",
       "        }</style><table id=\"T_f649c_\" ><thead>    <tr>        <th class=\"blank level0\" ></th>        <th class=\"col_heading level0 col0\" >0</th>    </tr></thead><tbody>\n",
       "                <tr>\n",
       "                        <th id=\"T_f649c_level0_row0\" class=\"row_heading level0 row0\" >bulk_8</th>\n",
       "                        <td id=\"T_f649c_row0_col0\" class=\"data row0 col0\" >100.000000</td>\n",
       "            </tr>\n",
       "            <tr>\n",
       "                        <th id=\"T_f649c_level0_row1\" class=\"row_heading level0 row1\" >bulk_9</th>\n",
       "                        <td id=\"T_f649c_row1_col0\" class=\"data row1 col0\" >99.400000</td>\n",
       "            </tr>\n",
       "            <tr>\n",
       "                        <th id=\"T_f649c_level0_row2\" class=\"row_heading level0 row2\" >bulk_13</th>\n",
       "                        <td id=\"T_f649c_row2_col0\" class=\"data row2 col0\" >99.400000</td>\n",
       "            </tr>\n",
       "            <tr>\n",
       "                        <th id=\"T_f649c_level0_row3\" class=\"row_heading level0 row3\" >bulk_2</th>\n",
       "                        <td id=\"T_f649c_row3_col0\" class=\"data row3 col0\" >99.300000</td>\n",
       "            </tr>\n",
       "            <tr>\n",
       "                        <th id=\"T_f649c_level0_row4\" class=\"row_heading level0 row4\" >bulk_7</th>\n",
       "                        <td id=\"T_f649c_row4_col0\" class=\"data row4 col0\" >99.200000</td>\n",
       "            </tr>\n",
       "            <tr>\n",
       "                        <th id=\"T_f649c_level0_row5\" class=\"row_heading level0 row5\" >bulk_5</th>\n",
       "                        <td id=\"T_f649c_row5_col0\" class=\"data row5 col0\" >97.500000</td>\n",
       "            </tr>\n",
       "            <tr>\n",
       "                        <th id=\"T_f649c_level0_row6\" class=\"row_heading level0 row6\" >bulk_10</th>\n",
       "                        <td id=\"T_f649c_row6_col0\" class=\"data row6 col0\" >94.400000</td>\n",
       "            </tr>\n",
       "            <tr>\n",
       "                        <th id=\"T_f649c_level0_row7\" class=\"row_heading level0 row7\" >bulk_11</th>\n",
       "                        <td id=\"T_f649c_row7_col0\" class=\"data row7 col0\" >94.300000</td>\n",
       "            </tr>\n",
       "            <tr>\n",
       "                        <th id=\"T_f649c_level0_row8\" class=\"row_heading level0 row8\" >bulk_1</th>\n",
       "                        <td id=\"T_f649c_row8_col0\" class=\"data row8 col0\" >91.900000</td>\n",
       "            </tr>\n",
       "            <tr>\n",
       "                        <th id=\"T_f649c_level0_row9\" class=\"row_heading level0 row9\" >bulk_6</th>\n",
       "                        <td id=\"T_f649c_row9_col0\" class=\"data row9 col0\" >81.600000</td>\n",
       "            </tr>\n",
       "            <tr>\n",
       "                        <th id=\"T_f649c_level0_row10\" class=\"row_heading level0 row10\" >bulk_4</th>\n",
       "                        <td id=\"T_f649c_row10_col0\" class=\"data row10 col0\" >67.600000</td>\n",
       "            </tr>\n",
       "            <tr>\n",
       "                        <th id=\"T_f649c_level0_row11\" class=\"row_heading level0 row11\" >bulk_3</th>\n",
       "                        <td id=\"T_f649c_row11_col0\" class=\"data row11 col0\" >58.500000</td>\n",
       "            </tr>\n",
       "            <tr>\n",
       "                        <th id=\"T_f649c_level0_row12\" class=\"row_heading level0 row12\" >bulk_15</th>\n",
       "                        <td id=\"T_f649c_row12_col0\" class=\"data row12 col0\" >28.100000</td>\n",
       "            </tr>\n",
       "            <tr>\n",
       "                        <th id=\"T_f649c_level0_row13\" class=\"row_heading level0 row13\" >bulk_12</th>\n",
       "                        <td id=\"T_f649c_row13_col0\" class=\"data row13 col0\" >21.700000</td>\n",
       "            </tr>\n",
       "            <tr>\n",
       "                        <th id=\"T_f649c_level0_row14\" class=\"row_heading level0 row14\" >bulk_14</th>\n",
       "                        <td id=\"T_f649c_row14_col0\" class=\"data row14 col0\" >10.300000</td>\n",
       "            </tr>\n",
       "            <tr>\n",
       "                        <th id=\"T_f649c_level0_row15\" class=\"row_heading level0 row15\" >key</th>\n",
       "                        <td id=\"T_f649c_row15_col0\" class=\"data row15 col0\" >0.000000</td>\n",
       "            </tr>\n",
       "    </tbody></table>"
      ],
      "text/plain": [
       "<pandas.io.formats.style.Styler at 0x7fec7d700a30>"
      ]
     },
     "metadata": {},
     "output_type": "display_data"
    },
    {
     "name": "stdout",
     "output_type": "stream",
     "text": [
      "INFO\n",
      "<class 'pandas.core.frame.DataFrame'>\n",
      "Int64Index: 3128 entries, 0 to 3128\n",
      "Data columns (total 16 columns):\n",
      " #   Column   Non-Null Count  Dtype  \n",
      "---  ------   --------------  -----  \n",
      " 0   key      3128 non-null   int64  \n",
      " 1   bulk_1   252 non-null    float64\n",
      " 2   bulk_2   22 non-null     float64\n",
      " 3   bulk_3   1298 non-null   float64\n",
      " 4   bulk_4   1014 non-null   float64\n",
      " 5   bulk_5   77 non-null     float64\n",
      " 6   bulk_6   575 non-null    float64\n",
      " 7   bulk_7   25 non-null     float64\n",
      " 8   bulk_8   1 non-null      float64\n",
      " 9   bulk_9   19 non-null     float64\n",
      " 10  bulk_10  176 non-null    float64\n",
      " 11  bulk_11  177 non-null    float64\n",
      " 12  bulk_12  2450 non-null   float64\n",
      " 13  bulk_13  18 non-null     float64\n",
      " 14  bulk_14  2805 non-null   float64\n",
      " 15  bulk_15  2248 non-null   float64\n",
      "dtypes: float64(15), int64(1)\n",
      "memory usage: 415.4 KB\n"
     ]
    },
    {
     "data": {
      "text/plain": [
       "None"
      ]
     },
     "metadata": {},
     "output_type": "display_data"
    },
    {
     "name": "stdout",
     "output_type": "stream",
     "text": [
      "\n",
      "\n",
      "DESCRIBE\n"
     ]
    },
    {
     "data": {
      "text/html": [
       "<div>\n",
       "<style scoped>\n",
       "    .dataframe tbody tr th:only-of-type {\n",
       "        vertical-align: middle;\n",
       "    }\n",
       "\n",
       "    .dataframe tbody tr th {\n",
       "        vertical-align: top;\n",
       "    }\n",
       "\n",
       "    .dataframe thead th {\n",
       "        text-align: right;\n",
       "    }\n",
       "</style>\n",
       "<table border=\"1\" class=\"dataframe\">\n",
       "  <thead>\n",
       "    <tr style=\"text-align: right;\">\n",
       "      <th></th>\n",
       "      <th>key</th>\n",
       "      <th>bulk_1</th>\n",
       "      <th>bulk_2</th>\n",
       "      <th>bulk_3</th>\n",
       "      <th>bulk_4</th>\n",
       "      <th>bulk_5</th>\n",
       "      <th>bulk_6</th>\n",
       "      <th>bulk_7</th>\n",
       "      <th>bulk_8</th>\n",
       "      <th>bulk_9</th>\n",
       "      <th>bulk_10</th>\n",
       "      <th>bulk_11</th>\n",
       "      <th>bulk_12</th>\n",
       "      <th>bulk_13</th>\n",
       "      <th>bulk_14</th>\n",
       "      <th>bulk_15</th>\n",
       "    </tr>\n",
       "  </thead>\n",
       "  <tbody>\n",
       "    <tr>\n",
       "      <th>count</th>\n",
       "      <td>3128.000000</td>\n",
       "      <td>252.000000</td>\n",
       "      <td>22.000000</td>\n",
       "      <td>1298.000000</td>\n",
       "      <td>1014.000000</td>\n",
       "      <td>77.000000</td>\n",
       "      <td>575.000000</td>\n",
       "      <td>25.000000</td>\n",
       "      <td>1.0</td>\n",
       "      <td>19.000000</td>\n",
       "      <td>176.000000</td>\n",
       "      <td>177.000000</td>\n",
       "      <td>2450.000000</td>\n",
       "      <td>18.000000</td>\n",
       "      <td>2805.000000</td>\n",
       "      <td>2248.000000</td>\n",
       "    </tr>\n",
       "    <tr>\n",
       "      <th>mean</th>\n",
       "      <td>1624.226343</td>\n",
       "      <td>39.242063</td>\n",
       "      <td>253.045455</td>\n",
       "      <td>113.879045</td>\n",
       "      <td>104.394477</td>\n",
       "      <td>107.025974</td>\n",
       "      <td>118.893913</td>\n",
       "      <td>305.600000</td>\n",
       "      <td>49.0</td>\n",
       "      <td>76.315789</td>\n",
       "      <td>83.284091</td>\n",
       "      <td>76.819209</td>\n",
       "      <td>260.471020</td>\n",
       "      <td>181.111111</td>\n",
       "      <td>170.274866</td>\n",
       "      <td>160.513345</td>\n",
       "    </tr>\n",
       "    <tr>\n",
       "      <th>std</th>\n",
       "      <td>933.445456</td>\n",
       "      <td>18.277654</td>\n",
       "      <td>21.180578</td>\n",
       "      <td>75.483494</td>\n",
       "      <td>48.184126</td>\n",
       "      <td>81.790646</td>\n",
       "      <td>72.116564</td>\n",
       "      <td>191.022904</td>\n",
       "      <td>NaN</td>\n",
       "      <td>21.720581</td>\n",
       "      <td>26.060347</td>\n",
       "      <td>59.655365</td>\n",
       "      <td>120.649269</td>\n",
       "      <td>46.088009</td>\n",
       "      <td>65.878317</td>\n",
       "      <td>51.765319</td>\n",
       "    </tr>\n",
       "    <tr>\n",
       "      <th>min</th>\n",
       "      <td>1.000000</td>\n",
       "      <td>10.000000</td>\n",
       "      <td>228.000000</td>\n",
       "      <td>6.000000</td>\n",
       "      <td>12.000000</td>\n",
       "      <td>11.000000</td>\n",
       "      <td>17.000000</td>\n",
       "      <td>47.000000</td>\n",
       "      <td>49.0</td>\n",
       "      <td>63.000000</td>\n",
       "      <td>24.000000</td>\n",
       "      <td>8.000000</td>\n",
       "      <td>53.000000</td>\n",
       "      <td>151.000000</td>\n",
       "      <td>16.000000</td>\n",
       "      <td>1.000000</td>\n",
       "    </tr>\n",
       "    <tr>\n",
       "      <th>25%</th>\n",
       "      <td>815.750000</td>\n",
       "      <td>27.000000</td>\n",
       "      <td>242.000000</td>\n",
       "      <td>58.000000</td>\n",
       "      <td>72.000000</td>\n",
       "      <td>70.000000</td>\n",
       "      <td>69.500000</td>\n",
       "      <td>155.000000</td>\n",
       "      <td>49.0</td>\n",
       "      <td>66.000000</td>\n",
       "      <td>64.000000</td>\n",
       "      <td>25.000000</td>\n",
       "      <td>204.000000</td>\n",
       "      <td>153.250000</td>\n",
       "      <td>119.000000</td>\n",
       "      <td>105.000000</td>\n",
       "    </tr>\n",
       "    <tr>\n",
       "      <th>50%</th>\n",
       "      <td>1621.500000</td>\n",
       "      <td>31.000000</td>\n",
       "      <td>251.500000</td>\n",
       "      <td>97.500000</td>\n",
       "      <td>102.000000</td>\n",
       "      <td>86.000000</td>\n",
       "      <td>100.000000</td>\n",
       "      <td>298.000000</td>\n",
       "      <td>49.0</td>\n",
       "      <td>68.000000</td>\n",
       "      <td>86.500000</td>\n",
       "      <td>64.000000</td>\n",
       "      <td>208.000000</td>\n",
       "      <td>155.500000</td>\n",
       "      <td>151.000000</td>\n",
       "      <td>160.000000</td>\n",
       "    </tr>\n",
       "    <tr>\n",
       "      <th>75%</th>\n",
       "      <td>2431.250000</td>\n",
       "      <td>46.000000</td>\n",
       "      <td>257.750000</td>\n",
       "      <td>152.000000</td>\n",
       "      <td>133.000000</td>\n",
       "      <td>132.000000</td>\n",
       "      <td>157.000000</td>\n",
       "      <td>406.000000</td>\n",
       "      <td>49.0</td>\n",
       "      <td>70.500000</td>\n",
       "      <td>102.000000</td>\n",
       "      <td>106.000000</td>\n",
       "      <td>316.000000</td>\n",
       "      <td>203.500000</td>\n",
       "      <td>206.000000</td>\n",
       "      <td>205.000000</td>\n",
       "    </tr>\n",
       "    <tr>\n",
       "      <th>max</th>\n",
       "      <td>3241.000000</td>\n",
       "      <td>185.000000</td>\n",
       "      <td>325.000000</td>\n",
       "      <td>454.000000</td>\n",
       "      <td>281.000000</td>\n",
       "      <td>603.000000</td>\n",
       "      <td>503.000000</td>\n",
       "      <td>772.000000</td>\n",
       "      <td>49.0</td>\n",
       "      <td>147.000000</td>\n",
       "      <td>159.000000</td>\n",
       "      <td>313.000000</td>\n",
       "      <td>1849.000000</td>\n",
       "      <td>305.000000</td>\n",
       "      <td>636.000000</td>\n",
       "      <td>405.000000</td>\n",
       "    </tr>\n",
       "  </tbody>\n",
       "</table>\n",
       "</div>"
      ],
      "text/plain": [
       "               key      bulk_1      bulk_2       bulk_3       bulk_4  \\\n",
       "count  3128.000000  252.000000   22.000000  1298.000000  1014.000000   \n",
       "mean   1624.226343   39.242063  253.045455   113.879045   104.394477   \n",
       "std     933.445456   18.277654   21.180578    75.483494    48.184126   \n",
       "min       1.000000   10.000000  228.000000     6.000000    12.000000   \n",
       "25%     815.750000   27.000000  242.000000    58.000000    72.000000   \n",
       "50%    1621.500000   31.000000  251.500000    97.500000   102.000000   \n",
       "75%    2431.250000   46.000000  257.750000   152.000000   133.000000   \n",
       "max    3241.000000  185.000000  325.000000   454.000000   281.000000   \n",
       "\n",
       "           bulk_5      bulk_6      bulk_7  bulk_8      bulk_9     bulk_10  \\\n",
       "count   77.000000  575.000000   25.000000     1.0   19.000000  176.000000   \n",
       "mean   107.025974  118.893913  305.600000    49.0   76.315789   83.284091   \n",
       "std     81.790646   72.116564  191.022904     NaN   21.720581   26.060347   \n",
       "min     11.000000   17.000000   47.000000    49.0   63.000000   24.000000   \n",
       "25%     70.000000   69.500000  155.000000    49.0   66.000000   64.000000   \n",
       "50%     86.000000  100.000000  298.000000    49.0   68.000000   86.500000   \n",
       "75%    132.000000  157.000000  406.000000    49.0   70.500000  102.000000   \n",
       "max    603.000000  503.000000  772.000000    49.0  147.000000  159.000000   \n",
       "\n",
       "          bulk_11      bulk_12     bulk_13      bulk_14      bulk_15  \n",
       "count  177.000000  2450.000000   18.000000  2805.000000  2248.000000  \n",
       "mean    76.819209   260.471020  181.111111   170.274866   160.513345  \n",
       "std     59.655365   120.649269   46.088009    65.878317    51.765319  \n",
       "min      8.000000    53.000000  151.000000    16.000000     1.000000  \n",
       "25%     25.000000   204.000000  153.250000   119.000000   105.000000  \n",
       "50%     64.000000   208.000000  155.500000   151.000000   160.000000  \n",
       "75%    106.000000   316.000000  203.500000   206.000000   205.000000  \n",
       "max    313.000000  1849.000000  305.000000   636.000000   405.000000  "
      ]
     },
     "metadata": {},
     "output_type": "display_data"
    },
    {
     "name": "stdout",
     "output_type": "stream",
     "text": [
      "\n",
      "\n",
      "HEAD\n"
     ]
    },
    {
     "data": {
      "text/html": [
       "<div>\n",
       "<style scoped>\n",
       "    .dataframe tbody tr th:only-of-type {\n",
       "        vertical-align: middle;\n",
       "    }\n",
       "\n",
       "    .dataframe tbody tr th {\n",
       "        vertical-align: top;\n",
       "    }\n",
       "\n",
       "    .dataframe thead th {\n",
       "        text-align: right;\n",
       "    }\n",
       "</style>\n",
       "<table border=\"1\" class=\"dataframe\">\n",
       "  <thead>\n",
       "    <tr style=\"text-align: right;\">\n",
       "      <th></th>\n",
       "      <th>key</th>\n",
       "      <th>bulk_1</th>\n",
       "      <th>bulk_2</th>\n",
       "      <th>bulk_3</th>\n",
       "      <th>bulk_4</th>\n",
       "      <th>bulk_5</th>\n",
       "      <th>bulk_6</th>\n",
       "      <th>bulk_7</th>\n",
       "      <th>bulk_8</th>\n",
       "      <th>bulk_9</th>\n",
       "      <th>bulk_10</th>\n",
       "      <th>bulk_11</th>\n",
       "      <th>bulk_12</th>\n",
       "      <th>bulk_13</th>\n",
       "      <th>bulk_14</th>\n",
       "      <th>bulk_15</th>\n",
       "    </tr>\n",
       "  </thead>\n",
       "  <tbody>\n",
       "    <tr>\n",
       "      <th>0</th>\n",
       "      <td>1</td>\n",
       "      <td>NaN</td>\n",
       "      <td>NaN</td>\n",
       "      <td>NaN</td>\n",
       "      <td>43.0</td>\n",
       "      <td>NaN</td>\n",
       "      <td>NaN</td>\n",
       "      <td>NaN</td>\n",
       "      <td>NaN</td>\n",
       "      <td>NaN</td>\n",
       "      <td>NaN</td>\n",
       "      <td>NaN</td>\n",
       "      <td>206.0</td>\n",
       "      <td>NaN</td>\n",
       "      <td>150.0</td>\n",
       "      <td>154.0</td>\n",
       "    </tr>\n",
       "    <tr>\n",
       "      <th>1</th>\n",
       "      <td>2</td>\n",
       "      <td>NaN</td>\n",
       "      <td>NaN</td>\n",
       "      <td>NaN</td>\n",
       "      <td>73.0</td>\n",
       "      <td>NaN</td>\n",
       "      <td>NaN</td>\n",
       "      <td>NaN</td>\n",
       "      <td>NaN</td>\n",
       "      <td>NaN</td>\n",
       "      <td>NaN</td>\n",
       "      <td>NaN</td>\n",
       "      <td>206.0</td>\n",
       "      <td>NaN</td>\n",
       "      <td>149.0</td>\n",
       "      <td>154.0</td>\n",
       "    </tr>\n",
       "    <tr>\n",
       "      <th>2</th>\n",
       "      <td>3</td>\n",
       "      <td>NaN</td>\n",
       "      <td>NaN</td>\n",
       "      <td>NaN</td>\n",
       "      <td>34.0</td>\n",
       "      <td>NaN</td>\n",
       "      <td>NaN</td>\n",
       "      <td>NaN</td>\n",
       "      <td>NaN</td>\n",
       "      <td>NaN</td>\n",
       "      <td>NaN</td>\n",
       "      <td>NaN</td>\n",
       "      <td>205.0</td>\n",
       "      <td>NaN</td>\n",
       "      <td>152.0</td>\n",
       "      <td>153.0</td>\n",
       "    </tr>\n",
       "    <tr>\n",
       "      <th>3</th>\n",
       "      <td>4</td>\n",
       "      <td>NaN</td>\n",
       "      <td>NaN</td>\n",
       "      <td>NaN</td>\n",
       "      <td>81.0</td>\n",
       "      <td>NaN</td>\n",
       "      <td>NaN</td>\n",
       "      <td>NaN</td>\n",
       "      <td>NaN</td>\n",
       "      <td>NaN</td>\n",
       "      <td>NaN</td>\n",
       "      <td>NaN</td>\n",
       "      <td>207.0</td>\n",
       "      <td>NaN</td>\n",
       "      <td>153.0</td>\n",
       "      <td>154.0</td>\n",
       "    </tr>\n",
       "    <tr>\n",
       "      <th>4</th>\n",
       "      <td>5</td>\n",
       "      <td>NaN</td>\n",
       "      <td>NaN</td>\n",
       "      <td>NaN</td>\n",
       "      <td>78.0</td>\n",
       "      <td>NaN</td>\n",
       "      <td>NaN</td>\n",
       "      <td>NaN</td>\n",
       "      <td>NaN</td>\n",
       "      <td>NaN</td>\n",
       "      <td>NaN</td>\n",
       "      <td>NaN</td>\n",
       "      <td>203.0</td>\n",
       "      <td>NaN</td>\n",
       "      <td>151.0</td>\n",
       "      <td>152.0</td>\n",
       "    </tr>\n",
       "  </tbody>\n",
       "</table>\n",
       "</div>"
      ],
      "text/plain": [
       "   key  bulk_1  bulk_2  bulk_3  bulk_4  bulk_5  bulk_6  bulk_7  bulk_8  \\\n",
       "0    1     NaN     NaN     NaN    43.0     NaN     NaN     NaN     NaN   \n",
       "1    2     NaN     NaN     NaN    73.0     NaN     NaN     NaN     NaN   \n",
       "2    3     NaN     NaN     NaN    34.0     NaN     NaN     NaN     NaN   \n",
       "3    4     NaN     NaN     NaN    81.0     NaN     NaN     NaN     NaN   \n",
       "4    5     NaN     NaN     NaN    78.0     NaN     NaN     NaN     NaN   \n",
       "\n",
       "   bulk_9  bulk_10  bulk_11  bulk_12  bulk_13  bulk_14  bulk_15  \n",
       "0     NaN      NaN      NaN    206.0      NaN    150.0    154.0  \n",
       "1     NaN      NaN      NaN    206.0      NaN    149.0    154.0  \n",
       "2     NaN      NaN      NaN    205.0      NaN    152.0    153.0  \n",
       "3     NaN      NaN      NaN    207.0      NaN    153.0    154.0  \n",
       "4     NaN      NaN      NaN    203.0      NaN    151.0    152.0  "
      ]
     },
     "metadata": {},
     "output_type": "display_data"
    }
   ],
   "source": [
    "bulk = transform_columns_values(bulk)"
   ]
  },
  {
   "cell_type": "markdown",
   "id": "bfbae91b",
   "metadata": {},
   "source": [
    "Если материал не подавался, значит его было 0. Справедливо будет заполнить пропущенные значения нулями."
   ]
  },
  {
   "cell_type": "code",
   "execution_count": 13,
   "id": "6218bfc8",
   "metadata": {},
   "outputs": [
    {
     "data": {
      "text/html": [
       "<div>\n",
       "<style scoped>\n",
       "    .dataframe tbody tr th:only-of-type {\n",
       "        vertical-align: middle;\n",
       "    }\n",
       "\n",
       "    .dataframe tbody tr th {\n",
       "        vertical-align: top;\n",
       "    }\n",
       "\n",
       "    .dataframe thead th {\n",
       "        text-align: right;\n",
       "    }\n",
       "</style>\n",
       "<table border=\"1\" class=\"dataframe\">\n",
       "  <thead>\n",
       "    <tr style=\"text-align: right;\">\n",
       "      <th></th>\n",
       "      <th>key</th>\n",
       "      <th>bulk_1</th>\n",
       "      <th>bulk_2</th>\n",
       "      <th>bulk_3</th>\n",
       "      <th>bulk_4</th>\n",
       "      <th>bulk_5</th>\n",
       "      <th>bulk_6</th>\n",
       "      <th>bulk_7</th>\n",
       "      <th>bulk_8</th>\n",
       "      <th>bulk_9</th>\n",
       "      <th>bulk_10</th>\n",
       "      <th>bulk_11</th>\n",
       "      <th>bulk_12</th>\n",
       "      <th>bulk_13</th>\n",
       "      <th>bulk_14</th>\n",
       "      <th>bulk_15</th>\n",
       "    </tr>\n",
       "  </thead>\n",
       "  <tbody>\n",
       "    <tr>\n",
       "      <th>0</th>\n",
       "      <td>1</td>\n",
       "      <td>0.0</td>\n",
       "      <td>0.0</td>\n",
       "      <td>0.0</td>\n",
       "      <td>43.0</td>\n",
       "      <td>0.0</td>\n",
       "      <td>0.0</td>\n",
       "      <td>0.0</td>\n",
       "      <td>0.0</td>\n",
       "      <td>0.0</td>\n",
       "      <td>0.0</td>\n",
       "      <td>0.0</td>\n",
       "      <td>206.0</td>\n",
       "      <td>0.0</td>\n",
       "      <td>150.0</td>\n",
       "      <td>154.0</td>\n",
       "    </tr>\n",
       "    <tr>\n",
       "      <th>1</th>\n",
       "      <td>2</td>\n",
       "      <td>0.0</td>\n",
       "      <td>0.0</td>\n",
       "      <td>0.0</td>\n",
       "      <td>73.0</td>\n",
       "      <td>0.0</td>\n",
       "      <td>0.0</td>\n",
       "      <td>0.0</td>\n",
       "      <td>0.0</td>\n",
       "      <td>0.0</td>\n",
       "      <td>0.0</td>\n",
       "      <td>0.0</td>\n",
       "      <td>206.0</td>\n",
       "      <td>0.0</td>\n",
       "      <td>149.0</td>\n",
       "      <td>154.0</td>\n",
       "    </tr>\n",
       "    <tr>\n",
       "      <th>2</th>\n",
       "      <td>3</td>\n",
       "      <td>0.0</td>\n",
       "      <td>0.0</td>\n",
       "      <td>0.0</td>\n",
       "      <td>34.0</td>\n",
       "      <td>0.0</td>\n",
       "      <td>0.0</td>\n",
       "      <td>0.0</td>\n",
       "      <td>0.0</td>\n",
       "      <td>0.0</td>\n",
       "      <td>0.0</td>\n",
       "      <td>0.0</td>\n",
       "      <td>205.0</td>\n",
       "      <td>0.0</td>\n",
       "      <td>152.0</td>\n",
       "      <td>153.0</td>\n",
       "    </tr>\n",
       "    <tr>\n",
       "      <th>3</th>\n",
       "      <td>4</td>\n",
       "      <td>0.0</td>\n",
       "      <td>0.0</td>\n",
       "      <td>0.0</td>\n",
       "      <td>81.0</td>\n",
       "      <td>0.0</td>\n",
       "      <td>0.0</td>\n",
       "      <td>0.0</td>\n",
       "      <td>0.0</td>\n",
       "      <td>0.0</td>\n",
       "      <td>0.0</td>\n",
       "      <td>0.0</td>\n",
       "      <td>207.0</td>\n",
       "      <td>0.0</td>\n",
       "      <td>153.0</td>\n",
       "      <td>154.0</td>\n",
       "    </tr>\n",
       "    <tr>\n",
       "      <th>4</th>\n",
       "      <td>5</td>\n",
       "      <td>0.0</td>\n",
       "      <td>0.0</td>\n",
       "      <td>0.0</td>\n",
       "      <td>78.0</td>\n",
       "      <td>0.0</td>\n",
       "      <td>0.0</td>\n",
       "      <td>0.0</td>\n",
       "      <td>0.0</td>\n",
       "      <td>0.0</td>\n",
       "      <td>0.0</td>\n",
       "      <td>0.0</td>\n",
       "      <td>203.0</td>\n",
       "      <td>0.0</td>\n",
       "      <td>151.0</td>\n",
       "      <td>152.0</td>\n",
       "    </tr>\n",
       "  </tbody>\n",
       "</table>\n",
       "</div>"
      ],
      "text/plain": [
       "   key  bulk_1  bulk_2  bulk_3  bulk_4  bulk_5  bulk_6  bulk_7  bulk_8  \\\n",
       "0    1     0.0     0.0     0.0    43.0     0.0     0.0     0.0     0.0   \n",
       "1    2     0.0     0.0     0.0    73.0     0.0     0.0     0.0     0.0   \n",
       "2    3     0.0     0.0     0.0    34.0     0.0     0.0     0.0     0.0   \n",
       "3    4     0.0     0.0     0.0    81.0     0.0     0.0     0.0     0.0   \n",
       "4    5     0.0     0.0     0.0    78.0     0.0     0.0     0.0     0.0   \n",
       "\n",
       "   bulk_9  bulk_10  bulk_11  bulk_12  bulk_13  bulk_14  bulk_15  \n",
       "0     0.0      0.0      0.0    206.0      0.0    150.0    154.0  \n",
       "1     0.0      0.0      0.0    206.0      0.0    149.0    154.0  \n",
       "2     0.0      0.0      0.0    205.0      0.0    152.0    153.0  \n",
       "3     0.0      0.0      0.0    207.0      0.0    153.0    154.0  \n",
       "4     0.0      0.0      0.0    203.0      0.0    151.0    152.0  "
      ]
     },
     "execution_count": 13,
     "metadata": {},
     "output_type": "execute_result"
    }
   ],
   "source": [
    "bulk = bulk.fillna(0)\n",
    "\n",
    "bulk.head()"
   ]
  },
  {
   "cell_type": "markdown",
   "id": "04578d68",
   "metadata": {},
   "source": [
    "### Время подачи сыпучих материалов"
   ]
  },
  {
   "cell_type": "code",
   "execution_count": 14,
   "id": "d03c1bba",
   "metadata": {
    "scrolled": false
   },
   "outputs": [
    {
     "name": "stdout",
     "output_type": "stream",
     "text": [
      "Явных дублей: 0\n",
      "\n",
      "\n",
      "Пропущенных значений:\n",
      "\n"
     ]
    },
    {
     "data": {
      "text/html": [
       "<style  type=\"text/css\" >\n",
       "#T_3e8cb_row0_col0{\n",
       "            background-color:  #b40426;\n",
       "            color:  #f1f1f1;\n",
       "        }#T_3e8cb_row1_col0,#T_3e8cb_row2_col0,#T_3e8cb_row3_col0{\n",
       "            background-color:  #b50927;\n",
       "            color:  #f1f1f1;\n",
       "        }#T_3e8cb_row4_col0{\n",
       "            background-color:  #b70d28;\n",
       "            color:  #f1f1f1;\n",
       "        }#T_3e8cb_row5_col0{\n",
       "            background-color:  #bd1f2d;\n",
       "            color:  #f1f1f1;\n",
       "        }#T_3e8cb_row6_col0,#T_3e8cb_row7_col0{\n",
       "            background-color:  #c83836;\n",
       "            color:  #f1f1f1;\n",
       "        }#T_3e8cb_row8_col0{\n",
       "            background-color:  #d0473d;\n",
       "            color:  #f1f1f1;\n",
       "        }#T_3e8cb_row9_col0{\n",
       "            background-color:  #eb7d62;\n",
       "            color:  #000000;\n",
       "        }#T_3e8cb_row10_col0{\n",
       "            background-color:  #f7b497;\n",
       "            color:  #000000;\n",
       "        }#T_3e8cb_row11_col0{\n",
       "            background-color:  #efcebd;\n",
       "            color:  #000000;\n",
       "        }#T_3e8cb_row12_col0{\n",
       "            background-color:  #97b8ff;\n",
       "            color:  #000000;\n",
       "        }#T_3e8cb_row13_col0{\n",
       "            background-color:  #81a4fb;\n",
       "            color:  #000000;\n",
       "        }#T_3e8cb_row14_col0{\n",
       "            background-color:  #5a78e4;\n",
       "            color:  #000000;\n",
       "        }#T_3e8cb_row15_col0{\n",
       "            background-color:  #3b4cc0;\n",
       "            color:  #f1f1f1;\n",
       "        }</style><table id=\"T_3e8cb_\" ><thead>    <tr>        <th class=\"blank level0\" ></th>        <th class=\"col_heading level0 col0\" >0</th>    </tr></thead><tbody>\n",
       "                <tr>\n",
       "                        <th id=\"T_3e8cb_level0_row0\" class=\"row_heading level0 row0\" >bulk_8</th>\n",
       "                        <td id=\"T_3e8cb_row0_col0\" class=\"data row0 col0\" >100.000000</td>\n",
       "            </tr>\n",
       "            <tr>\n",
       "                        <th id=\"T_3e8cb_level0_row1\" class=\"row_heading level0 row1\" >bulk_9</th>\n",
       "                        <td id=\"T_3e8cb_row1_col0\" class=\"data row1 col0\" >99.400000</td>\n",
       "            </tr>\n",
       "            <tr>\n",
       "                        <th id=\"T_3e8cb_level0_row2\" class=\"row_heading level0 row2\" >bulk_13</th>\n",
       "                        <td id=\"T_3e8cb_row2_col0\" class=\"data row2 col0\" >99.400000</td>\n",
       "            </tr>\n",
       "            <tr>\n",
       "                        <th id=\"T_3e8cb_level0_row3\" class=\"row_heading level0 row3\" >bulk_2</th>\n",
       "                        <td id=\"T_3e8cb_row3_col0\" class=\"data row3 col0\" >99.300000</td>\n",
       "            </tr>\n",
       "            <tr>\n",
       "                        <th id=\"T_3e8cb_level0_row4\" class=\"row_heading level0 row4\" >bulk_7</th>\n",
       "                        <td id=\"T_3e8cb_row4_col0\" class=\"data row4 col0\" >99.200000</td>\n",
       "            </tr>\n",
       "            <tr>\n",
       "                        <th id=\"T_3e8cb_level0_row5\" class=\"row_heading level0 row5\" >bulk_5</th>\n",
       "                        <td id=\"T_3e8cb_row5_col0\" class=\"data row5 col0\" >97.500000</td>\n",
       "            </tr>\n",
       "            <tr>\n",
       "                        <th id=\"T_3e8cb_level0_row6\" class=\"row_heading level0 row6\" >bulk_10</th>\n",
       "                        <td id=\"T_3e8cb_row6_col0\" class=\"data row6 col0\" >94.400000</td>\n",
       "            </tr>\n",
       "            <tr>\n",
       "                        <th id=\"T_3e8cb_level0_row7\" class=\"row_heading level0 row7\" >bulk_11</th>\n",
       "                        <td id=\"T_3e8cb_row7_col0\" class=\"data row7 col0\" >94.300000</td>\n",
       "            </tr>\n",
       "            <tr>\n",
       "                        <th id=\"T_3e8cb_level0_row8\" class=\"row_heading level0 row8\" >bulk_1</th>\n",
       "                        <td id=\"T_3e8cb_row8_col0\" class=\"data row8 col0\" >91.900000</td>\n",
       "            </tr>\n",
       "            <tr>\n",
       "                        <th id=\"T_3e8cb_level0_row9\" class=\"row_heading level0 row9\" >bulk_6</th>\n",
       "                        <td id=\"T_3e8cb_row9_col0\" class=\"data row9 col0\" >81.600000</td>\n",
       "            </tr>\n",
       "            <tr>\n",
       "                        <th id=\"T_3e8cb_level0_row10\" class=\"row_heading level0 row10\" >bulk_4</th>\n",
       "                        <td id=\"T_3e8cb_row10_col0\" class=\"data row10 col0\" >67.600000</td>\n",
       "            </tr>\n",
       "            <tr>\n",
       "                        <th id=\"T_3e8cb_level0_row11\" class=\"row_heading level0 row11\" >bulk_3</th>\n",
       "                        <td id=\"T_3e8cb_row11_col0\" class=\"data row11 col0\" >58.500000</td>\n",
       "            </tr>\n",
       "            <tr>\n",
       "                        <th id=\"T_3e8cb_level0_row12\" class=\"row_heading level0 row12\" >bulk_15</th>\n",
       "                        <td id=\"T_3e8cb_row12_col0\" class=\"data row12 col0\" >28.100000</td>\n",
       "            </tr>\n",
       "            <tr>\n",
       "                        <th id=\"T_3e8cb_level0_row13\" class=\"row_heading level0 row13\" >bulk_12</th>\n",
       "                        <td id=\"T_3e8cb_row13_col0\" class=\"data row13 col0\" >21.700000</td>\n",
       "            </tr>\n",
       "            <tr>\n",
       "                        <th id=\"T_3e8cb_level0_row14\" class=\"row_heading level0 row14\" >bulk_14</th>\n",
       "                        <td id=\"T_3e8cb_row14_col0\" class=\"data row14 col0\" >10.300000</td>\n",
       "            </tr>\n",
       "            <tr>\n",
       "                        <th id=\"T_3e8cb_level0_row15\" class=\"row_heading level0 row15\" >key</th>\n",
       "                        <td id=\"T_3e8cb_row15_col0\" class=\"data row15 col0\" >0.000000</td>\n",
       "            </tr>\n",
       "    </tbody></table>"
      ],
      "text/plain": [
       "<pandas.io.formats.style.Styler at 0x7fec7dbbba30>"
      ]
     },
     "metadata": {},
     "output_type": "display_data"
    },
    {
     "name": "stdout",
     "output_type": "stream",
     "text": [
      "INFO\n",
      "<class 'pandas.core.frame.DataFrame'>\n",
      "Int64Index: 3128 entries, 0 to 3128\n",
      "Data columns (total 16 columns):\n",
      " #   Column   Non-Null Count  Dtype         \n",
      "---  ------   --------------  -----         \n",
      " 0   key      3128 non-null   int64         \n",
      " 1   bulk_1   252 non-null    datetime64[ns]\n",
      " 2   bulk_2   22 non-null     datetime64[ns]\n",
      " 3   bulk_3   1298 non-null   datetime64[ns]\n",
      " 4   bulk_4   1014 non-null   datetime64[ns]\n",
      " 5   bulk_5   77 non-null     datetime64[ns]\n",
      " 6   bulk_6   575 non-null    datetime64[ns]\n",
      " 7   bulk_7   25 non-null     datetime64[ns]\n",
      " 8   bulk_8   1 non-null      datetime64[ns]\n",
      " 9   bulk_9   19 non-null     datetime64[ns]\n",
      " 10  bulk_10  176 non-null    datetime64[ns]\n",
      " 11  bulk_11  177 non-null    datetime64[ns]\n",
      " 12  bulk_12  2450 non-null   datetime64[ns]\n",
      " 13  bulk_13  18 non-null     datetime64[ns]\n",
      " 14  bulk_14  2805 non-null   datetime64[ns]\n",
      " 15  bulk_15  2248 non-null   datetime64[ns]\n",
      "dtypes: datetime64[ns](15), int64(1)\n",
      "memory usage: 415.4 KB\n"
     ]
    },
    {
     "data": {
      "text/plain": [
       "None"
      ]
     },
     "metadata": {},
     "output_type": "display_data"
    },
    {
     "name": "stdout",
     "output_type": "stream",
     "text": [
      "\n",
      "\n",
      "DESCRIBE\n"
     ]
    },
    {
     "data": {
      "text/html": [
       "<div>\n",
       "<style scoped>\n",
       "    .dataframe tbody tr th:only-of-type {\n",
       "        vertical-align: middle;\n",
       "    }\n",
       "\n",
       "    .dataframe tbody tr th {\n",
       "        vertical-align: top;\n",
       "    }\n",
       "\n",
       "    .dataframe thead th {\n",
       "        text-align: right;\n",
       "    }\n",
       "</style>\n",
       "<table border=\"1\" class=\"dataframe\">\n",
       "  <thead>\n",
       "    <tr style=\"text-align: right;\">\n",
       "      <th></th>\n",
       "      <th>key</th>\n",
       "    </tr>\n",
       "  </thead>\n",
       "  <tbody>\n",
       "    <tr>\n",
       "      <th>count</th>\n",
       "      <td>3128.000000</td>\n",
       "    </tr>\n",
       "    <tr>\n",
       "      <th>mean</th>\n",
       "      <td>1624.226343</td>\n",
       "    </tr>\n",
       "    <tr>\n",
       "      <th>std</th>\n",
       "      <td>933.445456</td>\n",
       "    </tr>\n",
       "    <tr>\n",
       "      <th>min</th>\n",
       "      <td>1.000000</td>\n",
       "    </tr>\n",
       "    <tr>\n",
       "      <th>25%</th>\n",
       "      <td>815.750000</td>\n",
       "    </tr>\n",
       "    <tr>\n",
       "      <th>50%</th>\n",
       "      <td>1621.500000</td>\n",
       "    </tr>\n",
       "    <tr>\n",
       "      <th>75%</th>\n",
       "      <td>2431.250000</td>\n",
       "    </tr>\n",
       "    <tr>\n",
       "      <th>max</th>\n",
       "      <td>3241.000000</td>\n",
       "    </tr>\n",
       "  </tbody>\n",
       "</table>\n",
       "</div>"
      ],
      "text/plain": [
       "               key\n",
       "count  3128.000000\n",
       "mean   1624.226343\n",
       "std     933.445456\n",
       "min       1.000000\n",
       "25%     815.750000\n",
       "50%    1621.500000\n",
       "75%    2431.250000\n",
       "max    3241.000000"
      ]
     },
     "metadata": {},
     "output_type": "display_data"
    },
    {
     "name": "stdout",
     "output_type": "stream",
     "text": [
      "\n",
      "\n",
      "HEAD\n"
     ]
    },
    {
     "data": {
      "text/html": [
       "<div>\n",
       "<style scoped>\n",
       "    .dataframe tbody tr th:only-of-type {\n",
       "        vertical-align: middle;\n",
       "    }\n",
       "\n",
       "    .dataframe tbody tr th {\n",
       "        vertical-align: top;\n",
       "    }\n",
       "\n",
       "    .dataframe thead th {\n",
       "        text-align: right;\n",
       "    }\n",
       "</style>\n",
       "<table border=\"1\" class=\"dataframe\">\n",
       "  <thead>\n",
       "    <tr style=\"text-align: right;\">\n",
       "      <th></th>\n",
       "      <th>key</th>\n",
       "      <th>bulk_1</th>\n",
       "      <th>bulk_2</th>\n",
       "      <th>bulk_3</th>\n",
       "      <th>bulk_4</th>\n",
       "      <th>bulk_5</th>\n",
       "      <th>bulk_6</th>\n",
       "      <th>bulk_7</th>\n",
       "      <th>bulk_8</th>\n",
       "      <th>bulk_9</th>\n",
       "      <th>bulk_10</th>\n",
       "      <th>bulk_11</th>\n",
       "      <th>bulk_12</th>\n",
       "      <th>bulk_13</th>\n",
       "      <th>bulk_14</th>\n",
       "      <th>bulk_15</th>\n",
       "    </tr>\n",
       "  </thead>\n",
       "  <tbody>\n",
       "    <tr>\n",
       "      <th>0</th>\n",
       "      <td>1</td>\n",
       "      <td>NaT</td>\n",
       "      <td>NaT</td>\n",
       "      <td>NaT</td>\n",
       "      <td>2019-05-03 11:28:48</td>\n",
       "      <td>NaT</td>\n",
       "      <td>NaT</td>\n",
       "      <td>NaT</td>\n",
       "      <td>NaT</td>\n",
       "      <td>NaT</td>\n",
       "      <td>NaT</td>\n",
       "      <td>NaT</td>\n",
       "      <td>2019-05-03 11:24:31</td>\n",
       "      <td>NaT</td>\n",
       "      <td>2019-05-03 11:14:50</td>\n",
       "      <td>2019-05-03 11:10:43</td>\n",
       "    </tr>\n",
       "    <tr>\n",
       "      <th>1</th>\n",
       "      <td>2</td>\n",
       "      <td>NaT</td>\n",
       "      <td>NaT</td>\n",
       "      <td>NaT</td>\n",
       "      <td>2019-05-03 11:36:50</td>\n",
       "      <td>NaT</td>\n",
       "      <td>NaT</td>\n",
       "      <td>NaT</td>\n",
       "      <td>NaT</td>\n",
       "      <td>NaT</td>\n",
       "      <td>NaT</td>\n",
       "      <td>NaT</td>\n",
       "      <td>2019-05-03 11:53:30</td>\n",
       "      <td>NaT</td>\n",
       "      <td>2019-05-03 11:48:37</td>\n",
       "      <td>2019-05-03 11:44:39</td>\n",
       "    </tr>\n",
       "    <tr>\n",
       "      <th>2</th>\n",
       "      <td>3</td>\n",
       "      <td>NaT</td>\n",
       "      <td>NaT</td>\n",
       "      <td>NaT</td>\n",
       "      <td>2019-05-03 12:32:39</td>\n",
       "      <td>NaT</td>\n",
       "      <td>NaT</td>\n",
       "      <td>NaT</td>\n",
       "      <td>NaT</td>\n",
       "      <td>NaT</td>\n",
       "      <td>NaT</td>\n",
       "      <td>NaT</td>\n",
       "      <td>2019-05-03 12:27:13</td>\n",
       "      <td>NaT</td>\n",
       "      <td>2019-05-03 12:21:01</td>\n",
       "      <td>2019-05-03 12:16:16</td>\n",
       "    </tr>\n",
       "    <tr>\n",
       "      <th>3</th>\n",
       "      <td>4</td>\n",
       "      <td>NaT</td>\n",
       "      <td>NaT</td>\n",
       "      <td>NaT</td>\n",
       "      <td>2019-05-03 12:43:22</td>\n",
       "      <td>NaT</td>\n",
       "      <td>NaT</td>\n",
       "      <td>NaT</td>\n",
       "      <td>NaT</td>\n",
       "      <td>NaT</td>\n",
       "      <td>NaT</td>\n",
       "      <td>NaT</td>\n",
       "      <td>2019-05-03 12:58:00</td>\n",
       "      <td>NaT</td>\n",
       "      <td>2019-05-03 12:51:11</td>\n",
       "      <td>2019-05-03 12:46:36</td>\n",
       "    </tr>\n",
       "    <tr>\n",
       "      <th>4</th>\n",
       "      <td>5</td>\n",
       "      <td>NaT</td>\n",
       "      <td>NaT</td>\n",
       "      <td>NaT</td>\n",
       "      <td>2019-05-03 13:30:47</td>\n",
       "      <td>NaT</td>\n",
       "      <td>NaT</td>\n",
       "      <td>NaT</td>\n",
       "      <td>NaT</td>\n",
       "      <td>NaT</td>\n",
       "      <td>NaT</td>\n",
       "      <td>NaT</td>\n",
       "      <td>2019-05-03 13:30:47</td>\n",
       "      <td>NaT</td>\n",
       "      <td>2019-05-03 13:34:12</td>\n",
       "      <td>2019-05-03 13:30:47</td>\n",
       "    </tr>\n",
       "  </tbody>\n",
       "</table>\n",
       "</div>"
      ],
      "text/plain": [
       "   key bulk_1 bulk_2 bulk_3              bulk_4 bulk_5 bulk_6 bulk_7 bulk_8  \\\n",
       "0    1    NaT    NaT    NaT 2019-05-03 11:28:48    NaT    NaT    NaT    NaT   \n",
       "1    2    NaT    NaT    NaT 2019-05-03 11:36:50    NaT    NaT    NaT    NaT   \n",
       "2    3    NaT    NaT    NaT 2019-05-03 12:32:39    NaT    NaT    NaT    NaT   \n",
       "3    4    NaT    NaT    NaT 2019-05-03 12:43:22    NaT    NaT    NaT    NaT   \n",
       "4    5    NaT    NaT    NaT 2019-05-03 13:30:47    NaT    NaT    NaT    NaT   \n",
       "\n",
       "  bulk_9 bulk_10 bulk_11             bulk_12 bulk_13             bulk_14  \\\n",
       "0    NaT     NaT     NaT 2019-05-03 11:24:31     NaT 2019-05-03 11:14:50   \n",
       "1    NaT     NaT     NaT 2019-05-03 11:53:30     NaT 2019-05-03 11:48:37   \n",
       "2    NaT     NaT     NaT 2019-05-03 12:27:13     NaT 2019-05-03 12:21:01   \n",
       "3    NaT     NaT     NaT 2019-05-03 12:58:00     NaT 2019-05-03 12:51:11   \n",
       "4    NaT     NaT     NaT 2019-05-03 13:30:47     NaT 2019-05-03 13:34:12   \n",
       "\n",
       "              bulk_15  \n",
       "0 2019-05-03 11:10:43  \n",
       "1 2019-05-03 11:44:39  \n",
       "2 2019-05-03 12:16:16  \n",
       "3 2019-05-03 12:46:36  \n",
       "4 2019-05-03 13:30:47  "
      ]
     },
     "metadata": {},
     "output_type": "display_data"
    }
   ],
   "source": [
    "bulk_time = transform_columns_values(bulk_time)"
   ]
  },
  {
   "cell_type": "markdown",
   "id": "0d44eff6",
   "metadata": {},
   "source": [
    "Промущенные значения времени не будем заполнять. Эти ячейки нам вообще не понадобятся."
   ]
  },
  {
   "cell_type": "markdown",
   "id": "d87ada81",
   "metadata": {},
   "source": [
    "### Данные о продувке сплава газом"
   ]
  },
  {
   "cell_type": "code",
   "execution_count": 15,
   "id": "e9944743",
   "metadata": {},
   "outputs": [
    {
     "name": "stdout",
     "output_type": "stream",
     "text": [
      "Явных дублей: 0\n",
      "\n",
      "\n",
      "Пропущенных значений:\n",
      "\n"
     ]
    },
    {
     "data": {
      "text/html": [
       "<style  type=\"text/css\" >\n",
       "#T_42dec_row0_col0,#T_42dec_row1_col0{\n",
       "            background-color:  #3b4cc0;\n",
       "            color:  #f1f1f1;\n",
       "        }</style><table id=\"T_42dec_\" ><thead>    <tr>        <th class=\"blank level0\" ></th>        <th class=\"col_heading level0 col0\" >0</th>    </tr></thead><tbody>\n",
       "                <tr>\n",
       "                        <th id=\"T_42dec_level0_row0\" class=\"row_heading level0 row0\" >key</th>\n",
       "                        <td id=\"T_42dec_row0_col0\" class=\"data row0 col0\" >0.000000</td>\n",
       "            </tr>\n",
       "            <tr>\n",
       "                        <th id=\"T_42dec_level0_row1\" class=\"row_heading level0 row1\" >газ_1</th>\n",
       "                        <td id=\"T_42dec_row1_col0\" class=\"data row1 col0\" >0.000000</td>\n",
       "            </tr>\n",
       "    </tbody></table>"
      ],
      "text/plain": [
       "<pandas.io.formats.style.Styler at 0x7fec7d722bb0>"
      ]
     },
     "metadata": {},
     "output_type": "display_data"
    },
    {
     "name": "stdout",
     "output_type": "stream",
     "text": [
      "INFO\n",
      "<class 'pandas.core.frame.DataFrame'>\n",
      "Int64Index: 3238 entries, 0 to 3238\n",
      "Data columns (total 2 columns):\n",
      " #   Column  Non-Null Count  Dtype  \n",
      "---  ------  --------------  -----  \n",
      " 0   key     3238 non-null   int64  \n",
      " 1   газ_1   3238 non-null   float64\n",
      "dtypes: float64(1), int64(1)\n",
      "memory usage: 75.9 KB\n"
     ]
    },
    {
     "data": {
      "text/plain": [
       "None"
      ]
     },
     "metadata": {},
     "output_type": "display_data"
    },
    {
     "name": "stdout",
     "output_type": "stream",
     "text": [
      "\n",
      "\n",
      "DESCRIBE\n"
     ]
    },
    {
     "data": {
      "text/html": [
       "<div>\n",
       "<style scoped>\n",
       "    .dataframe tbody tr th:only-of-type {\n",
       "        vertical-align: middle;\n",
       "    }\n",
       "\n",
       "    .dataframe tbody tr th {\n",
       "        vertical-align: top;\n",
       "    }\n",
       "\n",
       "    .dataframe thead th {\n",
       "        text-align: right;\n",
       "    }\n",
       "</style>\n",
       "<table border=\"1\" class=\"dataframe\">\n",
       "  <thead>\n",
       "    <tr style=\"text-align: right;\">\n",
       "      <th></th>\n",
       "      <th>key</th>\n",
       "      <th>газ_1</th>\n",
       "    </tr>\n",
       "  </thead>\n",
       "  <tbody>\n",
       "    <tr>\n",
       "      <th>count</th>\n",
       "      <td>3238.000000</td>\n",
       "      <td>3238.000000</td>\n",
       "    </tr>\n",
       "    <tr>\n",
       "      <th>mean</th>\n",
       "      <td>1621.708771</td>\n",
       "      <td>11.001883</td>\n",
       "    </tr>\n",
       "    <tr>\n",
       "      <th>std</th>\n",
       "      <td>935.490478</td>\n",
       "      <td>6.221280</td>\n",
       "    </tr>\n",
       "    <tr>\n",
       "      <th>min</th>\n",
       "      <td>1.000000</td>\n",
       "      <td>0.008399</td>\n",
       "    </tr>\n",
       "    <tr>\n",
       "      <th>25%</th>\n",
       "      <td>812.250000</td>\n",
       "      <td>7.042678</td>\n",
       "    </tr>\n",
       "    <tr>\n",
       "      <th>50%</th>\n",
       "      <td>1621.500000</td>\n",
       "      <td>9.832531</td>\n",
       "    </tr>\n",
       "    <tr>\n",
       "      <th>75%</th>\n",
       "      <td>2431.750000</td>\n",
       "      <td>13.770937</td>\n",
       "    </tr>\n",
       "    <tr>\n",
       "      <th>max</th>\n",
       "      <td>3241.000000</td>\n",
       "      <td>77.995040</td>\n",
       "    </tr>\n",
       "  </tbody>\n",
       "</table>\n",
       "</div>"
      ],
      "text/plain": [
       "               key        газ_1\n",
       "count  3238.000000  3238.000000\n",
       "mean   1621.708771    11.001883\n",
       "std     935.490478     6.221280\n",
       "min       1.000000     0.008399\n",
       "25%     812.250000     7.042678\n",
       "50%    1621.500000     9.832531\n",
       "75%    2431.750000    13.770937\n",
       "max    3241.000000    77.995040"
      ]
     },
     "metadata": {},
     "output_type": "display_data"
    },
    {
     "name": "stdout",
     "output_type": "stream",
     "text": [
      "\n",
      "\n",
      "HEAD\n"
     ]
    },
    {
     "data": {
      "text/html": [
       "<div>\n",
       "<style scoped>\n",
       "    .dataframe tbody tr th:only-of-type {\n",
       "        vertical-align: middle;\n",
       "    }\n",
       "\n",
       "    .dataframe tbody tr th {\n",
       "        vertical-align: top;\n",
       "    }\n",
       "\n",
       "    .dataframe thead th {\n",
       "        text-align: right;\n",
       "    }\n",
       "</style>\n",
       "<table border=\"1\" class=\"dataframe\">\n",
       "  <thead>\n",
       "    <tr style=\"text-align: right;\">\n",
       "      <th></th>\n",
       "      <th>key</th>\n",
       "      <th>газ_1</th>\n",
       "    </tr>\n",
       "  </thead>\n",
       "  <tbody>\n",
       "    <tr>\n",
       "      <th>0</th>\n",
       "      <td>1</td>\n",
       "      <td>29.749986</td>\n",
       "    </tr>\n",
       "    <tr>\n",
       "      <th>1</th>\n",
       "      <td>2</td>\n",
       "      <td>12.555561</td>\n",
       "    </tr>\n",
       "    <tr>\n",
       "      <th>2</th>\n",
       "      <td>3</td>\n",
       "      <td>28.554793</td>\n",
       "    </tr>\n",
       "    <tr>\n",
       "      <th>3</th>\n",
       "      <td>4</td>\n",
       "      <td>18.841219</td>\n",
       "    </tr>\n",
       "    <tr>\n",
       "      <th>4</th>\n",
       "      <td>5</td>\n",
       "      <td>5.413692</td>\n",
       "    </tr>\n",
       "  </tbody>\n",
       "</table>\n",
       "</div>"
      ],
      "text/plain": [
       "   key      газ_1\n",
       "0    1  29.749986\n",
       "1    2  12.555561\n",
       "2    3  28.554793\n",
       "3    4  18.841219\n",
       "4    5   5.413692"
      ]
     },
     "metadata": {},
     "output_type": "display_data"
    }
   ],
   "source": [
    "gas = transform_columns_values(gas)"
   ]
  },
  {
   "cell_type": "code",
   "execution_count": 16,
   "id": "682fe5ac",
   "metadata": {},
   "outputs": [],
   "source": [
    "gas = gas.rename(columns={'газ_1': 'gas_1'})"
   ]
  },
  {
   "cell_type": "code",
   "execution_count": 17,
   "id": "1a358cb3",
   "metadata": {},
   "outputs": [
    {
     "data": {
      "image/png": "[encoded data removed]",
      "text/plain": [
       "<Figure size 1440x504 with 2 Axes>"
      ]
     },
     "metadata": {
      "needs_background": "light"
     },
     "output_type": "display_data"
    }
   ],
   "source": [
    "plot_numeric(gas, 'gas_1', 'Продувка газом', 'Количество газа', bins=50)"
   ]
  },
  {
   "cell_type": "markdown",
   "id": "7cf9045c",
   "metadata": {},
   "source": [
    "Данные содержат много выбросов. К тому же не указано время продувки. Возможно, этот датасет окажется для нас бесполезным."
   ]
  },
  {
   "cell_type": "code",
   "execution_count": 18,
   "id": "45e632a1",
   "metadata": {},
   "outputs": [
    {
     "name": "stdout",
     "output_type": "stream",
     "text": [
      "Явных дублей: 0\n",
      "\n",
      "\n",
      "Пропущенных значений:\n",
      "\n"
     ]
    },
    {
     "data": {
      "text/html": [
       "<style  type=\"text/css\" >\n",
       "#T_7ae30_row0_col0{\n",
       "            background-color:  #b40426;\n",
       "            color:  #f1f1f1;\n",
       "        }#T_7ae30_row1_col0,#T_7ae30_row2_col0{\n",
       "            background-color:  #3b4cc0;\n",
       "            color:  #f1f1f1;\n",
       "        }</style><table id=\"T_7ae30_\" ><thead>    <tr>        <th class=\"blank level0\" ></th>        <th class=\"col_heading level0 col0\" >0</th>    </tr></thead><tbody>\n",
       "                <tr>\n",
       "                        <th id=\"T_7ae30_level0_row0\" class=\"row_heading level0 row0\" >температура</th>\n",
       "                        <td id=\"T_7ae30_row0_col0\" class=\"data row0 col0\" >18.900000</td>\n",
       "            </tr>\n",
       "            <tr>\n",
       "                        <th id=\"T_7ae30_level0_row1\" class=\"row_heading level0 row1\" >key</th>\n",
       "                        <td id=\"T_7ae30_row1_col0\" class=\"data row1 col0\" >0.000000</td>\n",
       "            </tr>\n",
       "            <tr>\n",
       "                        <th id=\"T_7ae30_level0_row2\" class=\"row_heading level0 row2\" >время_замера</th>\n",
       "                        <td id=\"T_7ae30_row2_col0\" class=\"data row2 col0\" >0.000000</td>\n",
       "            </tr>\n",
       "    </tbody></table>"
      ],
      "text/plain": [
       "<pandas.io.formats.style.Styler at 0x7fec7d937be0>"
      ]
     },
     "metadata": {},
     "output_type": "display_data"
    },
    {
     "name": "stdout",
     "output_type": "stream",
     "text": [
      "INFO\n",
      "<class 'pandas.core.frame.DataFrame'>\n",
      "Int64Index: 18087 entries, 0 to 18091\n",
      "Data columns (total 3 columns):\n",
      " #   Column        Non-Null Count  Dtype         \n",
      "---  ------        --------------  -----         \n",
      " 0   key           18087 non-null  int64         \n",
      " 1   время_замера  18087 non-null  datetime64[ns]\n",
      " 2   температура   14660 non-null  float64       \n",
      "dtypes: datetime64[ns](1), float64(1), int64(1)\n",
      "memory usage: 565.2 KB\n"
     ]
    },
    {
     "data": {
      "text/plain": [
       "None"
      ]
     },
     "metadata": {},
     "output_type": "display_data"
    },
    {
     "name": "stdout",
     "output_type": "stream",
     "text": [
      "\n",
      "\n",
      "DESCRIBE\n"
     ]
    },
    {
     "data": {
      "text/html": [
       "<div>\n",
       "<style scoped>\n",
       "    .dataframe tbody tr th:only-of-type {\n",
       "        vertical-align: middle;\n",
       "    }\n",
       "\n",
       "    .dataframe tbody tr th {\n",
       "        vertical-align: top;\n",
       "    }\n",
       "\n",
       "    .dataframe thead th {\n",
       "        text-align: right;\n",
       "    }\n",
       "</style>\n",
       "<table border=\"1\" class=\"dataframe\">\n",
       "  <thead>\n",
       "    <tr style=\"text-align: right;\">\n",
       "      <th></th>\n",
       "      <th>key</th>\n",
       "      <th>температура</th>\n",
       "    </tr>\n",
       "  </thead>\n",
       "  <tbody>\n",
       "    <tr>\n",
       "      <th>count</th>\n",
       "      <td>18087.000000</td>\n",
       "      <td>14660.000000</td>\n",
       "    </tr>\n",
       "    <tr>\n",
       "      <th>mean</th>\n",
       "      <td>1616.322884</td>\n",
       "      <td>1590.727490</td>\n",
       "    </tr>\n",
       "    <tr>\n",
       "      <th>std</th>\n",
       "      <td>934.733659</td>\n",
       "      <td>20.396206</td>\n",
       "    </tr>\n",
       "    <tr>\n",
       "      <th>min</th>\n",
       "      <td>1.000000</td>\n",
       "      <td>1191.000000</td>\n",
       "    </tr>\n",
       "    <tr>\n",
       "      <th>25%</th>\n",
       "      <td>807.000000</td>\n",
       "      <td>1580.000000</td>\n",
       "    </tr>\n",
       "    <tr>\n",
       "      <th>50%</th>\n",
       "      <td>1617.000000</td>\n",
       "      <td>1590.000000</td>\n",
       "    </tr>\n",
       "    <tr>\n",
       "      <th>75%</th>\n",
       "      <td>2429.500000</td>\n",
       "      <td>1599.000000</td>\n",
       "    </tr>\n",
       "    <tr>\n",
       "      <th>max</th>\n",
       "      <td>3241.000000</td>\n",
       "      <td>1705.000000</td>\n",
       "    </tr>\n",
       "  </tbody>\n",
       "</table>\n",
       "</div>"
      ],
      "text/plain": [
       "                key   температура\n",
       "count  18087.000000  14660.000000\n",
       "mean    1616.322884   1590.727490\n",
       "std      934.733659     20.396206\n",
       "min        1.000000   1191.000000\n",
       "25%      807.000000   1580.000000\n",
       "50%     1617.000000   1590.000000\n",
       "75%     2429.500000   1599.000000\n",
       "max     3241.000000   1705.000000"
      ]
     },
     "metadata": {},
     "output_type": "display_data"
    },
    {
     "name": "stdout",
     "output_type": "stream",
     "text": [
      "\n",
      "\n",
      "HEAD\n"
     ]
    },
    {
     "data": {
      "text/html": [
       "<div>\n",
       "<style scoped>\n",
       "    .dataframe tbody tr th:only-of-type {\n",
       "        vertical-align: middle;\n",
       "    }\n",
       "\n",
       "    .dataframe tbody tr th {\n",
       "        vertical-align: top;\n",
       "    }\n",
       "\n",
       "    .dataframe thead th {\n",
       "        text-align: right;\n",
       "    }\n",
       "</style>\n",
       "<table border=\"1\" class=\"dataframe\">\n",
       "  <thead>\n",
       "    <tr style=\"text-align: right;\">\n",
       "      <th></th>\n",
       "      <th>key</th>\n",
       "      <th>время_замера</th>\n",
       "      <th>температура</th>\n",
       "    </tr>\n",
       "  </thead>\n",
       "  <tbody>\n",
       "    <tr>\n",
       "      <th>0</th>\n",
       "      <td>1</td>\n",
       "      <td>2019-05-03 11:02:04</td>\n",
       "      <td>1571.0</td>\n",
       "    </tr>\n",
       "    <tr>\n",
       "      <th>1</th>\n",
       "      <td>1</td>\n",
       "      <td>2019-05-03 11:07:18</td>\n",
       "      <td>1604.0</td>\n",
       "    </tr>\n",
       "    <tr>\n",
       "      <th>2</th>\n",
       "      <td>1</td>\n",
       "      <td>2019-05-03 11:11:34</td>\n",
       "      <td>1618.0</td>\n",
       "    </tr>\n",
       "    <tr>\n",
       "      <th>3</th>\n",
       "      <td>1</td>\n",
       "      <td>2019-05-03 11:18:04</td>\n",
       "      <td>1601.0</td>\n",
       "    </tr>\n",
       "    <tr>\n",
       "      <th>4</th>\n",
       "      <td>1</td>\n",
       "      <td>2019-05-03 11:25:59</td>\n",
       "      <td>1606.0</td>\n",
       "    </tr>\n",
       "  </tbody>\n",
       "</table>\n",
       "</div>"
      ],
      "text/plain": [
       "   key        время_замера  температура\n",
       "0    1 2019-05-03 11:02:04       1571.0\n",
       "1    1 2019-05-03 11:07:18       1604.0\n",
       "2    1 2019-05-03 11:11:34       1618.0\n",
       "3    1 2019-05-03 11:18:04       1601.0\n",
       "4    1 2019-05-03 11:25:59       1606.0"
      ]
     },
     "metadata": {},
     "output_type": "display_data"
    }
   ],
   "source": [
    "temperature = transform_columns_values(temperature)"
   ]
  },
  {
   "cell_type": "markdown",
   "id": "f7bdd4eb",
   "metadata": {},
   "source": [
    "Пропущенные замеры температуры нам точно не нужны, ведь именно их мы будем предсказывать."
   ]
  },
  {
   "cell_type": "code",
   "execution_count": 19,
   "id": "37e2b144",
   "metadata": {},
   "outputs": [],
   "source": [
    "temperature = temperature.dropna()"
   ]
  },
  {
   "cell_type": "code",
   "execution_count": 20,
   "id": "a6b123b7",
   "metadata": {},
   "outputs": [],
   "source": [
    "temperature.columns = ['key', 'time', 'temperature']"
   ]
  },
  {
   "cell_type": "code",
   "execution_count": 21,
   "id": "3d3d7337",
   "metadata": {},
   "outputs": [
    {
     "data": {
      "image/png": "[encoded data removed]",
      "text/plain": [
       "<Figure size 1440x504 with 2 Axes>"
      ]
     },
     "metadata": {
      "needs_background": "light"
     },
     "output_type": "display_data"
    }
   ],
   "source": [
    "plot_numeric(\n",
    "    temperature, 'temperature', 'Замеры температуры', 'Температура', bins=50\n",
    ")"
   ]
  },
  {
   "cell_type": "markdown",
   "id": "d3d0acf5",
   "metadata": {},
   "source": [
    "Температура плавления стали 1450 градусов. Соответственно, если температура упала ниже, значит, партия испорчена. Нужно найти все такие случаи во всех датафреймах и удалить."
   ]
  },
  {
   "cell_type": "code",
   "execution_count": 22,
   "id": "fb201ef1",
   "metadata": {},
   "outputs": [],
   "source": [
    "# Партии к удалению\n",
    "keys_to_drop = temperature[temperature['temperature'] <= 1450]['key'].tolist()\n",
    "\n",
    "# Убираем из всех датафреймов\n",
    "arc = arc[~arc['key'].isin(keys_to_drop)]\n",
    "bulk = bulk[~bulk['key'].isin(keys_to_drop)]\n",
    "bulk_time = bulk_time[~bulk_time['key'].isin(keys_to_drop)]\n",
    "gas = gas[~gas['key'].isin(keys_to_drop)]\n",
    "temperature = temperature[~temperature['key'].isin(keys_to_drop)]\n",
    "wire = wire[~wire['key'].isin(keys_to_drop)]\n",
    "wire_time = wire_time[~wire_time['key'].isin(keys_to_drop)]"
   ]
  },
  {
   "cell_type": "code",
   "execution_count": 23,
   "id": "7d18213f",
   "metadata": {
    "scrolled": false
   },
   "outputs": [
    {
     "data": {
      "image/png": "[encoded data removed]",
      "text/plain": [
       "<Figure size 1440x504 with 2 Axes>"
      ]
     },
     "metadata": {
      "needs_background": "light"
     },
     "output_type": "display_data"
    }
   ],
   "source": [
    "plot_numeric(\n",
    "    temperature, 'temperature', 'Замеры температуры', 'Температура', bins=50\n",
    ")"
   ]
  },
  {
   "cell_type": "markdown",
   "id": "20b2b5e3",
   "metadata": {},
   "source": [
    "### Данные о проволочных материалах"
   ]
  },
  {
   "cell_type": "code",
   "execution_count": 24,
   "id": "ad057001",
   "metadata": {},
   "outputs": [
    {
     "name": "stdout",
     "output_type": "stream",
     "text": [
      "Явных дублей: 0\n",
      "\n",
      "\n",
      "Пропущенных значений:\n",
      "\n"
     ]
    },
    {
     "data": {
      "text/html": [
       "<style  type=\"text/css\" >\n",
       "#T_740b4_row0_col0{\n",
       "            background-color:  #b40426;\n",
       "            color:  #f1f1f1;\n",
       "        }#T_740b4_row1_col0,#T_740b4_row2_col0,#T_740b4_row3_col0{\n",
       "            background-color:  #b50927;\n",
       "            color:  #f1f1f1;\n",
       "        }#T_740b4_row4_col0{\n",
       "            background-color:  #b70d28;\n",
       "            color:  #f1f1f1;\n",
       "        }#T_740b4_row5_col0{\n",
       "            background-color:  #bb1b2c;\n",
       "            color:  #f1f1f1;\n",
       "        }#T_740b4_row6_col0{\n",
       "            background-color:  #bd1f2d;\n",
       "            color:  #f1f1f1;\n",
       "        }#T_740b4_row7_col0{\n",
       "            background-color:  #f6bda2;\n",
       "            color:  #000000;\n",
       "        }#T_740b4_row8_col0{\n",
       "            background-color:  #3d50c3;\n",
       "            color:  #f1f1f1;\n",
       "        }#T_740b4_row9_col0{\n",
       "            background-color:  #3b4cc0;\n",
       "            color:  #f1f1f1;\n",
       "        }</style><table id=\"T_740b4_\" ><thead>    <tr>        <th class=\"blank level0\" ></th>        <th class=\"col_heading level0 col0\" >0</th>    </tr></thead><tbody>\n",
       "                <tr>\n",
       "                        <th id=\"T_740b4_level0_row0\" class=\"row_heading level0 row0\" >wire_5</th>\n",
       "                        <td id=\"T_740b4_row0_col0\" class=\"data row0 col0\" >100.000000</td>\n",
       "            </tr>\n",
       "            <tr>\n",
       "                        <th id=\"T_740b4_level0_row1\" class=\"row_heading level0 row1\" >wire_7</th>\n",
       "                        <td id=\"T_740b4_row1_col0\" class=\"data row1 col0\" >99.600000</td>\n",
       "            </tr>\n",
       "            <tr>\n",
       "                        <th id=\"T_740b4_level0_row2\" class=\"row_heading level0 row2\" >wire_4</th>\n",
       "                        <td id=\"T_740b4_row2_col0\" class=\"data row2 col0\" >99.500000</td>\n",
       "            </tr>\n",
       "            <tr>\n",
       "                        <th id=\"T_740b4_level0_row3\" class=\"row_heading level0 row3\" >wire_8</th>\n",
       "                        <td id=\"T_740b4_row3_col0\" class=\"data row3 col0\" >99.400000</td>\n",
       "            </tr>\n",
       "            <tr>\n",
       "                        <th id=\"T_740b4_level0_row4\" class=\"row_heading level0 row4\" >wire_9</th>\n",
       "                        <td id=\"T_740b4_row4_col0\" class=\"data row4 col0\" >99.100000</td>\n",
       "            </tr>\n",
       "            <tr>\n",
       "                        <th id=\"T_740b4_level0_row5\" class=\"row_heading level0 row5\" >wire_3</th>\n",
       "                        <td id=\"T_740b4_row5_col0\" class=\"data row5 col0\" >98.000000</td>\n",
       "            </tr>\n",
       "            <tr>\n",
       "                        <th id=\"T_740b4_level0_row6\" class=\"row_heading level0 row6\" >wire_6</th>\n",
       "                        <td id=\"T_740b4_row6_col0\" class=\"data row6 col0\" >97.600000</td>\n",
       "            </tr>\n",
       "            <tr>\n",
       "                        <th id=\"T_740b4_level0_row7\" class=\"row_heading level0 row7\" >wire_2</th>\n",
       "                        <td id=\"T_740b4_row7_col0\" class=\"data row7 col0\" >65.000000</td>\n",
       "            </tr>\n",
       "            <tr>\n",
       "                        <th id=\"T_740b4_level0_row8\" class=\"row_heading level0 row8\" >wire_1</th>\n",
       "                        <td id=\"T_740b4_row8_col0\" class=\"data row8 col0\" >0.800000</td>\n",
       "            </tr>\n",
       "            <tr>\n",
       "                        <th id=\"T_740b4_level0_row9\" class=\"row_heading level0 row9\" >key</th>\n",
       "                        <td id=\"T_740b4_row9_col0\" class=\"data row9 col0\" >0.000000</td>\n",
       "            </tr>\n",
       "    </tbody></table>"
      ],
      "text/plain": [
       "<pandas.io.formats.style.Styler at 0x7fec7d581640>"
      ]
     },
     "metadata": {},
     "output_type": "display_data"
    },
    {
     "name": "stdout",
     "output_type": "stream",
     "text": [
      "INFO\n",
      "<class 'pandas.core.frame.DataFrame'>\n",
      "Int64Index: 3075 entries, 0 to 3080\n",
      "Data columns (total 10 columns):\n",
      " #   Column  Non-Null Count  Dtype  \n",
      "---  ------  --------------  -----  \n",
      " 0   key     3075 non-null   int64  \n",
      " 1   wire_1  3049 non-null   float64\n",
      " 2   wire_2  1077 non-null   float64\n",
      " 3   wire_3  63 non-null     float64\n",
      " 4   wire_4  14 non-null     float64\n",
      " 5   wire_5  1 non-null      float64\n",
      " 6   wire_6  73 non-null     float64\n",
      " 7   wire_7  11 non-null     float64\n",
      " 8   wire_8  19 non-null     float64\n",
      " 9   wire_9  29 non-null     float64\n",
      "dtypes: float64(9), int64(1)\n",
      "memory usage: 264.3 KB\n"
     ]
    },
    {
     "data": {
      "text/plain": [
       "None"
      ]
     },
     "metadata": {},
     "output_type": "display_data"
    },
    {
     "name": "stdout",
     "output_type": "stream",
     "text": [
      "\n",
      "\n",
      "DESCRIBE\n"
     ]
    },
    {
     "data": {
      "text/html": [
       "<div>\n",
       "<style scoped>\n",
       "    .dataframe tbody tr th:only-of-type {\n",
       "        vertical-align: middle;\n",
       "    }\n",
       "\n",
       "    .dataframe tbody tr th {\n",
       "        vertical-align: top;\n",
       "    }\n",
       "\n",
       "    .dataframe thead th {\n",
       "        text-align: right;\n",
       "    }\n",
       "</style>\n",
       "<table border=\"1\" class=\"dataframe\">\n",
       "  <thead>\n",
       "    <tr style=\"text-align: right;\">\n",
       "      <th></th>\n",
       "      <th>key</th>\n",
       "      <th>wire_1</th>\n",
       "      <th>wire_2</th>\n",
       "      <th>wire_3</th>\n",
       "      <th>wire_4</th>\n",
       "      <th>wire_5</th>\n",
       "      <th>wire_6</th>\n",
       "      <th>wire_7</th>\n",
       "      <th>wire_8</th>\n",
       "      <th>wire_9</th>\n",
       "    </tr>\n",
       "  </thead>\n",
       "  <tbody>\n",
       "    <tr>\n",
       "      <th>count</th>\n",
       "      <td>3075.000000</td>\n",
       "      <td>3049.000000</td>\n",
       "      <td>1077.000000</td>\n",
       "      <td>63.000000</td>\n",
       "      <td>14.000000</td>\n",
       "      <td>1.000</td>\n",
       "      <td>73.000000</td>\n",
       "      <td>11.000000</td>\n",
       "      <td>19.000000</td>\n",
       "      <td>29.000000</td>\n",
       "    </tr>\n",
       "    <tr>\n",
       "      <th>mean</th>\n",
       "      <td>1623.202602</td>\n",
       "      <td>100.857538</td>\n",
       "      <td>50.596728</td>\n",
       "      <td>189.482681</td>\n",
       "      <td>57.442841</td>\n",
       "      <td>15.132</td>\n",
       "      <td>48.016974</td>\n",
       "      <td>10.039007</td>\n",
       "      <td>53.625193</td>\n",
       "      <td>34.155752</td>\n",
       "    </tr>\n",
       "    <tr>\n",
       "      <th>std</th>\n",
       "      <td>933.550524</td>\n",
       "      <td>42.001374</td>\n",
       "      <td>39.353556</td>\n",
       "      <td>99.513444</td>\n",
       "      <td>28.824667</td>\n",
       "      <td>NaN</td>\n",
       "      <td>33.919845</td>\n",
       "      <td>8.610584</td>\n",
       "      <td>16.881728</td>\n",
       "      <td>19.931616</td>\n",
       "    </tr>\n",
       "    <tr>\n",
       "      <th>min</th>\n",
       "      <td>1.000000</td>\n",
       "      <td>1.918800</td>\n",
       "      <td>0.030160</td>\n",
       "      <td>0.144144</td>\n",
       "      <td>24.148801</td>\n",
       "      <td>15.132</td>\n",
       "      <td>0.034320</td>\n",
       "      <td>0.234208</td>\n",
       "      <td>45.076721</td>\n",
       "      <td>4.622800</td>\n",
       "    </tr>\n",
       "    <tr>\n",
       "      <th>25%</th>\n",
       "      <td>821.500000</td>\n",
       "      <td>72.115684</td>\n",
       "      <td>20.180161</td>\n",
       "      <td>95.135044</td>\n",
       "      <td>40.807002</td>\n",
       "      <td>15.132</td>\n",
       "      <td>25.053600</td>\n",
       "      <td>6.762756</td>\n",
       "      <td>46.094879</td>\n",
       "      <td>22.058401</td>\n",
       "    </tr>\n",
       "    <tr>\n",
       "      <th>50%</th>\n",
       "      <td>1618.000000</td>\n",
       "      <td>100.152000</td>\n",
       "      <td>40.142956</td>\n",
       "      <td>235.194977</td>\n",
       "      <td>45.234282</td>\n",
       "      <td>15.132</td>\n",
       "      <td>42.076324</td>\n",
       "      <td>9.017009</td>\n",
       "      <td>46.279999</td>\n",
       "      <td>30.066399</td>\n",
       "    </tr>\n",
       "    <tr>\n",
       "      <th>75%</th>\n",
       "      <td>2434.500000</td>\n",
       "      <td>126.060479</td>\n",
       "      <td>70.242637</td>\n",
       "      <td>276.252014</td>\n",
       "      <td>76.124619</td>\n",
       "      <td>15.132</td>\n",
       "      <td>64.212723</td>\n",
       "      <td>11.886057</td>\n",
       "      <td>48.089603</td>\n",
       "      <td>43.862003</td>\n",
       "    </tr>\n",
       "    <tr>\n",
       "      <th>max</th>\n",
       "      <td>3241.000000</td>\n",
       "      <td>330.314424</td>\n",
       "      <td>282.780152</td>\n",
       "      <td>385.008668</td>\n",
       "      <td>113.231044</td>\n",
       "      <td>15.132</td>\n",
       "      <td>180.454575</td>\n",
       "      <td>32.847674</td>\n",
       "      <td>102.762401</td>\n",
       "      <td>90.053604</td>\n",
       "    </tr>\n",
       "  </tbody>\n",
       "</table>\n",
       "</div>"
      ],
      "text/plain": [
       "               key       wire_1       wire_2      wire_3      wire_4  wire_5  \\\n",
       "count  3075.000000  3049.000000  1077.000000   63.000000   14.000000   1.000   \n",
       "mean   1623.202602   100.857538    50.596728  189.482681   57.442841  15.132   \n",
       "std     933.550524    42.001374    39.353556   99.513444   28.824667     NaN   \n",
       "min       1.000000     1.918800     0.030160    0.144144   24.148801  15.132   \n",
       "25%     821.500000    72.115684    20.180161   95.135044   40.807002  15.132   \n",
       "50%    1618.000000   100.152000    40.142956  235.194977   45.234282  15.132   \n",
       "75%    2434.500000   126.060479    70.242637  276.252014   76.124619  15.132   \n",
       "max    3241.000000   330.314424   282.780152  385.008668  113.231044  15.132   \n",
       "\n",
       "           wire_6     wire_7      wire_8     wire_9  \n",
       "count   73.000000  11.000000   19.000000  29.000000  \n",
       "mean    48.016974  10.039007   53.625193  34.155752  \n",
       "std     33.919845   8.610584   16.881728  19.931616  \n",
       "min      0.034320   0.234208   45.076721   4.622800  \n",
       "25%     25.053600   6.762756   46.094879  22.058401  \n",
       "50%     42.076324   9.017009   46.279999  30.066399  \n",
       "75%     64.212723  11.886057   48.089603  43.862003  \n",
       "max    180.454575  32.847674  102.762401  90.053604  "
      ]
     },
     "metadata": {},
     "output_type": "display_data"
    },
    {
     "name": "stdout",
     "output_type": "stream",
     "text": [
      "\n",
      "\n",
      "HEAD\n"
     ]
    },
    {
     "data": {
      "text/html": [
       "<div>\n",
       "<style scoped>\n",
       "    .dataframe tbody tr th:only-of-type {\n",
       "        vertical-align: middle;\n",
       "    }\n",
       "\n",
       "    .dataframe tbody tr th {\n",
       "        vertical-align: top;\n",
       "    }\n",
       "\n",
       "    .dataframe thead th {\n",
       "        text-align: right;\n",
       "    }\n",
       "</style>\n",
       "<table border=\"1\" class=\"dataframe\">\n",
       "  <thead>\n",
       "    <tr style=\"text-align: right;\">\n",
       "      <th></th>\n",
       "      <th>key</th>\n",
       "      <th>wire_1</th>\n",
       "      <th>wire_2</th>\n",
       "      <th>wire_3</th>\n",
       "      <th>wire_4</th>\n",
       "      <th>wire_5</th>\n",
       "      <th>wire_6</th>\n",
       "      <th>wire_7</th>\n",
       "      <th>wire_8</th>\n",
       "      <th>wire_9</th>\n",
       "    </tr>\n",
       "  </thead>\n",
       "  <tbody>\n",
       "    <tr>\n",
       "      <th>0</th>\n",
       "      <td>1</td>\n",
       "      <td>60.059998</td>\n",
       "      <td>NaN</td>\n",
       "      <td>NaN</td>\n",
       "      <td>NaN</td>\n",
       "      <td>NaN</td>\n",
       "      <td>NaN</td>\n",
       "      <td>NaN</td>\n",
       "      <td>NaN</td>\n",
       "      <td>NaN</td>\n",
       "    </tr>\n",
       "    <tr>\n",
       "      <th>1</th>\n",
       "      <td>2</td>\n",
       "      <td>96.052315</td>\n",
       "      <td>NaN</td>\n",
       "      <td>NaN</td>\n",
       "      <td>NaN</td>\n",
       "      <td>NaN</td>\n",
       "      <td>NaN</td>\n",
       "      <td>NaN</td>\n",
       "      <td>NaN</td>\n",
       "      <td>NaN</td>\n",
       "    </tr>\n",
       "    <tr>\n",
       "      <th>2</th>\n",
       "      <td>3</td>\n",
       "      <td>91.160157</td>\n",
       "      <td>NaN</td>\n",
       "      <td>NaN</td>\n",
       "      <td>NaN</td>\n",
       "      <td>NaN</td>\n",
       "      <td>NaN</td>\n",
       "      <td>NaN</td>\n",
       "      <td>NaN</td>\n",
       "      <td>NaN</td>\n",
       "    </tr>\n",
       "    <tr>\n",
       "      <th>3</th>\n",
       "      <td>4</td>\n",
       "      <td>89.063515</td>\n",
       "      <td>NaN</td>\n",
       "      <td>NaN</td>\n",
       "      <td>NaN</td>\n",
       "      <td>NaN</td>\n",
       "      <td>NaN</td>\n",
       "      <td>NaN</td>\n",
       "      <td>NaN</td>\n",
       "      <td>NaN</td>\n",
       "    </tr>\n",
       "    <tr>\n",
       "      <th>4</th>\n",
       "      <td>5</td>\n",
       "      <td>89.238236</td>\n",
       "      <td>9.11456</td>\n",
       "      <td>NaN</td>\n",
       "      <td>NaN</td>\n",
       "      <td>NaN</td>\n",
       "      <td>NaN</td>\n",
       "      <td>NaN</td>\n",
       "      <td>NaN</td>\n",
       "      <td>NaN</td>\n",
       "    </tr>\n",
       "  </tbody>\n",
       "</table>\n",
       "</div>"
      ],
      "text/plain": [
       "   key     wire_1   wire_2  wire_3  wire_4  wire_5  wire_6  wire_7  wire_8  \\\n",
       "0    1  60.059998      NaN     NaN     NaN     NaN     NaN     NaN     NaN   \n",
       "1    2  96.052315      NaN     NaN     NaN     NaN     NaN     NaN     NaN   \n",
       "2    3  91.160157      NaN     NaN     NaN     NaN     NaN     NaN     NaN   \n",
       "3    4  89.063515      NaN     NaN     NaN     NaN     NaN     NaN     NaN   \n",
       "4    5  89.238236  9.11456     NaN     NaN     NaN     NaN     NaN     NaN   \n",
       "\n",
       "   wire_9  \n",
       "0     NaN  \n",
       "1     NaN  \n",
       "2     NaN  \n",
       "3     NaN  \n",
       "4     NaN  "
      ]
     },
     "metadata": {},
     "output_type": "display_data"
    }
   ],
   "source": [
    "wire = transform_columns_values(wire)"
   ]
  },
  {
   "cell_type": "markdown",
   "id": "4662124d",
   "metadata": {},
   "source": [
    "Если материал не подавался, значит его было 0. Справедливо будет заполнить пропущенные значения нулями."
   ]
  },
  {
   "cell_type": "code",
   "execution_count": 25,
   "id": "d428a8f5",
   "metadata": {},
   "outputs": [
    {
     "data": {
      "text/html": [
       "<div>\n",
       "<style scoped>\n",
       "    .dataframe tbody tr th:only-of-type {\n",
       "        vertical-align: middle;\n",
       "    }\n",
       "\n",
       "    .dataframe tbody tr th {\n",
       "        vertical-align: top;\n",
       "    }\n",
       "\n",
       "    .dataframe thead th {\n",
       "        text-align: right;\n",
       "    }\n",
       "</style>\n",
       "<table border=\"1\" class=\"dataframe\">\n",
       "  <thead>\n",
       "    <tr style=\"text-align: right;\">\n",
       "      <th></th>\n",
       "      <th>key</th>\n",
       "      <th>wire_1</th>\n",
       "      <th>wire_2</th>\n",
       "      <th>wire_3</th>\n",
       "      <th>wire_4</th>\n",
       "      <th>wire_5</th>\n",
       "      <th>wire_6</th>\n",
       "      <th>wire_7</th>\n",
       "      <th>wire_8</th>\n",
       "      <th>wire_9</th>\n",
       "    </tr>\n",
       "  </thead>\n",
       "  <tbody>\n",
       "    <tr>\n",
       "      <th>0</th>\n",
       "      <td>1</td>\n",
       "      <td>60.059998</td>\n",
       "      <td>0.00000</td>\n",
       "      <td>0.0</td>\n",
       "      <td>0.0</td>\n",
       "      <td>0.0</td>\n",
       "      <td>0.0</td>\n",
       "      <td>0.0</td>\n",
       "      <td>0.0</td>\n",
       "      <td>0.0</td>\n",
       "    </tr>\n",
       "    <tr>\n",
       "      <th>1</th>\n",
       "      <td>2</td>\n",
       "      <td>96.052315</td>\n",
       "      <td>0.00000</td>\n",
       "      <td>0.0</td>\n",
       "      <td>0.0</td>\n",
       "      <td>0.0</td>\n",
       "      <td>0.0</td>\n",
       "      <td>0.0</td>\n",
       "      <td>0.0</td>\n",
       "      <td>0.0</td>\n",
       "    </tr>\n",
       "    <tr>\n",
       "      <th>2</th>\n",
       "      <td>3</td>\n",
       "      <td>91.160157</td>\n",
       "      <td>0.00000</td>\n",
       "      <td>0.0</td>\n",
       "      <td>0.0</td>\n",
       "      <td>0.0</td>\n",
       "      <td>0.0</td>\n",
       "      <td>0.0</td>\n",
       "      <td>0.0</td>\n",
       "      <td>0.0</td>\n",
       "    </tr>\n",
       "    <tr>\n",
       "      <th>3</th>\n",
       "      <td>4</td>\n",
       "      <td>89.063515</td>\n",
       "      <td>0.00000</td>\n",
       "      <td>0.0</td>\n",
       "      <td>0.0</td>\n",
       "      <td>0.0</td>\n",
       "      <td>0.0</td>\n",
       "      <td>0.0</td>\n",
       "      <td>0.0</td>\n",
       "      <td>0.0</td>\n",
       "    </tr>\n",
       "    <tr>\n",
       "      <th>4</th>\n",
       "      <td>5</td>\n",
       "      <td>89.238236</td>\n",
       "      <td>9.11456</td>\n",
       "      <td>0.0</td>\n",
       "      <td>0.0</td>\n",
       "      <td>0.0</td>\n",
       "      <td>0.0</td>\n",
       "      <td>0.0</td>\n",
       "      <td>0.0</td>\n",
       "      <td>0.0</td>\n",
       "    </tr>\n",
       "  </tbody>\n",
       "</table>\n",
       "</div>"
      ],
      "text/plain": [
       "   key     wire_1   wire_2  wire_3  wire_4  wire_5  wire_6  wire_7  wire_8  \\\n",
       "0    1  60.059998  0.00000     0.0     0.0     0.0     0.0     0.0     0.0   \n",
       "1    2  96.052315  0.00000     0.0     0.0     0.0     0.0     0.0     0.0   \n",
       "2    3  91.160157  0.00000     0.0     0.0     0.0     0.0     0.0     0.0   \n",
       "3    4  89.063515  0.00000     0.0     0.0     0.0     0.0     0.0     0.0   \n",
       "4    5  89.238236  9.11456     0.0     0.0     0.0     0.0     0.0     0.0   \n",
       "\n",
       "   wire_9  \n",
       "0     0.0  \n",
       "1     0.0  \n",
       "2     0.0  \n",
       "3     0.0  \n",
       "4     0.0  "
      ]
     },
     "execution_count": 25,
     "metadata": {},
     "output_type": "execute_result"
    }
   ],
   "source": [
    "wire = wire.fillna(0)\n",
    "wire.head()"
   ]
  },
  {
   "cell_type": "code",
   "execution_count": 26,
   "id": "d840a7b0",
   "metadata": {
    "scrolled": true
   },
   "outputs": [
    {
     "name": "stdout",
     "output_type": "stream",
     "text": [
      "Явных дублей: 0\n",
      "\n",
      "\n",
      "Пропущенных значений:\n",
      "\n"
     ]
    },
    {
     "data": {
      "text/html": [
       "<style  type=\"text/css\" >\n",
       "#T_3a2ef_row0_col0{\n",
       "            background-color:  #b40426;\n",
       "            color:  #f1f1f1;\n",
       "        }#T_3a2ef_row1_col0,#T_3a2ef_row2_col0,#T_3a2ef_row3_col0{\n",
       "            background-color:  #b50927;\n",
       "            color:  #f1f1f1;\n",
       "        }#T_3a2ef_row4_col0{\n",
       "            background-color:  #b70d28;\n",
       "            color:  #f1f1f1;\n",
       "        }#T_3a2ef_row5_col0{\n",
       "            background-color:  #bb1b2c;\n",
       "            color:  #f1f1f1;\n",
       "        }#T_3a2ef_row6_col0{\n",
       "            background-color:  #bd1f2d;\n",
       "            color:  #f1f1f1;\n",
       "        }#T_3a2ef_row7_col0{\n",
       "            background-color:  #f6bda2;\n",
       "            color:  #000000;\n",
       "        }#T_3a2ef_row8_col0{\n",
       "            background-color:  #3d50c3;\n",
       "            color:  #f1f1f1;\n",
       "        }#T_3a2ef_row9_col0{\n",
       "            background-color:  #3b4cc0;\n",
       "            color:  #f1f1f1;\n",
       "        }</style><table id=\"T_3a2ef_\" ><thead>    <tr>        <th class=\"blank level0\" ></th>        <th class=\"col_heading level0 col0\" >0</th>    </tr></thead><tbody>\n",
       "                <tr>\n",
       "                        <th id=\"T_3a2ef_level0_row0\" class=\"row_heading level0 row0\" >wire_5</th>\n",
       "                        <td id=\"T_3a2ef_row0_col0\" class=\"data row0 col0\" >100.000000</td>\n",
       "            </tr>\n",
       "            <tr>\n",
       "                        <th id=\"T_3a2ef_level0_row1\" class=\"row_heading level0 row1\" >wire_7</th>\n",
       "                        <td id=\"T_3a2ef_row1_col0\" class=\"data row1 col0\" >99.600000</td>\n",
       "            </tr>\n",
       "            <tr>\n",
       "                        <th id=\"T_3a2ef_level0_row2\" class=\"row_heading level0 row2\" >wire_4</th>\n",
       "                        <td id=\"T_3a2ef_row2_col0\" class=\"data row2 col0\" >99.500000</td>\n",
       "            </tr>\n",
       "            <tr>\n",
       "                        <th id=\"T_3a2ef_level0_row3\" class=\"row_heading level0 row3\" >wire_8</th>\n",
       "                        <td id=\"T_3a2ef_row3_col0\" class=\"data row3 col0\" >99.400000</td>\n",
       "            </tr>\n",
       "            <tr>\n",
       "                        <th id=\"T_3a2ef_level0_row4\" class=\"row_heading level0 row4\" >wire_9</th>\n",
       "                        <td id=\"T_3a2ef_row4_col0\" class=\"data row4 col0\" >99.100000</td>\n",
       "            </tr>\n",
       "            <tr>\n",
       "                        <th id=\"T_3a2ef_level0_row5\" class=\"row_heading level0 row5\" >wire_3</th>\n",
       "                        <td id=\"T_3a2ef_row5_col0\" class=\"data row5 col0\" >98.000000</td>\n",
       "            </tr>\n",
       "            <tr>\n",
       "                        <th id=\"T_3a2ef_level0_row6\" class=\"row_heading level0 row6\" >wire_6</th>\n",
       "                        <td id=\"T_3a2ef_row6_col0\" class=\"data row6 col0\" >97.600000</td>\n",
       "            </tr>\n",
       "            <tr>\n",
       "                        <th id=\"T_3a2ef_level0_row7\" class=\"row_heading level0 row7\" >wire_2</th>\n",
       "                        <td id=\"T_3a2ef_row7_col0\" class=\"data row7 col0\" >65.000000</td>\n",
       "            </tr>\n",
       "            <tr>\n",
       "                        <th id=\"T_3a2ef_level0_row8\" class=\"row_heading level0 row8\" >wire_1</th>\n",
       "                        <td id=\"T_3a2ef_row8_col0\" class=\"data row8 col0\" >0.800000</td>\n",
       "            </tr>\n",
       "            <tr>\n",
       "                        <th id=\"T_3a2ef_level0_row9\" class=\"row_heading level0 row9\" >key</th>\n",
       "                        <td id=\"T_3a2ef_row9_col0\" class=\"data row9 col0\" >0.000000</td>\n",
       "            </tr>\n",
       "    </tbody></table>"
      ],
      "text/plain": [
       "<pandas.io.formats.style.Styler at 0x7fec7d4b0160>"
      ]
     },
     "metadata": {},
     "output_type": "display_data"
    },
    {
     "name": "stdout",
     "output_type": "stream",
     "text": [
      "INFO\n",
      "<class 'pandas.core.frame.DataFrame'>\n",
      "Int64Index: 3075 entries, 0 to 3080\n",
      "Data columns (total 10 columns):\n",
      " #   Column  Non-Null Count  Dtype         \n",
      "---  ------  --------------  -----         \n",
      " 0   key     3075 non-null   int64         \n",
      " 1   wire_1  3049 non-null   datetime64[ns]\n",
      " 2   wire_2  1077 non-null   datetime64[ns]\n",
      " 3   wire_3  63 non-null     datetime64[ns]\n",
      " 4   wire_4  14 non-null     datetime64[ns]\n",
      " 5   wire_5  1 non-null      datetime64[ns]\n",
      " 6   wire_6  73 non-null     datetime64[ns]\n",
      " 7   wire_7  11 non-null     datetime64[ns]\n",
      " 8   wire_8  19 non-null     datetime64[ns]\n",
      " 9   wire_9  29 non-null     datetime64[ns]\n",
      "dtypes: datetime64[ns](9), int64(1)\n",
      "memory usage: 264.3 KB\n"
     ]
    },
    {
     "data": {
      "text/plain": [
       "None"
      ]
     },
     "metadata": {},
     "output_type": "display_data"
    },
    {
     "name": "stdout",
     "output_type": "stream",
     "text": [
      "\n",
      "\n",
      "DESCRIBE\n"
     ]
    },
    {
     "data": {
      "text/html": [
       "<div>\n",
       "<style scoped>\n",
       "    .dataframe tbody tr th:only-of-type {\n",
       "        vertical-align: middle;\n",
       "    }\n",
       "\n",
       "    .dataframe tbody tr th {\n",
       "        vertical-align: top;\n",
       "    }\n",
       "\n",
       "    .dataframe thead th {\n",
       "        text-align: right;\n",
       "    }\n",
       "</style>\n",
       "<table border=\"1\" class=\"dataframe\">\n",
       "  <thead>\n",
       "    <tr style=\"text-align: right;\">\n",
       "      <th></th>\n",
       "      <th>key</th>\n",
       "    </tr>\n",
       "  </thead>\n",
       "  <tbody>\n",
       "    <tr>\n",
       "      <th>count</th>\n",
       "      <td>3075.000000</td>\n",
       "    </tr>\n",
       "    <tr>\n",
       "      <th>mean</th>\n",
       "      <td>1623.202602</td>\n",
       "    </tr>\n",
       "    <tr>\n",
       "      <th>std</th>\n",
       "      <td>933.550524</td>\n",
       "    </tr>\n",
       "    <tr>\n",
       "      <th>min</th>\n",
       "      <td>1.000000</td>\n",
       "    </tr>\n",
       "    <tr>\n",
       "      <th>25%</th>\n",
       "      <td>821.500000</td>\n",
       "    </tr>\n",
       "    <tr>\n",
       "      <th>50%</th>\n",
       "      <td>1618.000000</td>\n",
       "    </tr>\n",
       "    <tr>\n",
       "      <th>75%</th>\n",
       "      <td>2434.500000</td>\n",
       "    </tr>\n",
       "    <tr>\n",
       "      <th>max</th>\n",
       "      <td>3241.000000</td>\n",
       "    </tr>\n",
       "  </tbody>\n",
       "</table>\n",
       "</div>"
      ],
      "text/plain": [
       "               key\n",
       "count  3075.000000\n",
       "mean   1623.202602\n",
       "std     933.550524\n",
       "min       1.000000\n",
       "25%     821.500000\n",
       "50%    1618.000000\n",
       "75%    2434.500000\n",
       "max    3241.000000"
      ]
     },
     "metadata": {},
     "output_type": "display_data"
    },
    {
     "name": "stdout",
     "output_type": "stream",
     "text": [
      "\n",
      "\n",
      "HEAD\n"
     ]
    },
    {
     "data": {
      "text/html": [
       "<div>\n",
       "<style scoped>\n",
       "    .dataframe tbody tr th:only-of-type {\n",
       "        vertical-align: middle;\n",
       "    }\n",
       "\n",
       "    .dataframe tbody tr th {\n",
       "        vertical-align: top;\n",
       "    }\n",
       "\n",
       "    .dataframe thead th {\n",
       "        text-align: right;\n",
       "    }\n",
       "</style>\n",
       "<table border=\"1\" class=\"dataframe\">\n",
       "  <thead>\n",
       "    <tr style=\"text-align: right;\">\n",
       "      <th></th>\n",
       "      <th>key</th>\n",
       "      <th>wire_1</th>\n",
       "      <th>wire_2</th>\n",
       "      <th>wire_3</th>\n",
       "      <th>wire_4</th>\n",
       "      <th>wire_5</th>\n",
       "      <th>wire_6</th>\n",
       "      <th>wire_7</th>\n",
       "      <th>wire_8</th>\n",
       "      <th>wire_9</th>\n",
       "    </tr>\n",
       "  </thead>\n",
       "  <tbody>\n",
       "    <tr>\n",
       "      <th>0</th>\n",
       "      <td>1</td>\n",
       "      <td>2019-05-03 11:06:19</td>\n",
       "      <td>NaT</td>\n",
       "      <td>NaT</td>\n",
       "      <td>NaT</td>\n",
       "      <td>NaT</td>\n",
       "      <td>NaT</td>\n",
       "      <td>NaT</td>\n",
       "      <td>NaT</td>\n",
       "      <td>NaT</td>\n",
       "    </tr>\n",
       "    <tr>\n",
       "      <th>1</th>\n",
       "      <td>2</td>\n",
       "      <td>2019-05-03 11:36:50</td>\n",
       "      <td>NaT</td>\n",
       "      <td>NaT</td>\n",
       "      <td>NaT</td>\n",
       "      <td>NaT</td>\n",
       "      <td>NaT</td>\n",
       "      <td>NaT</td>\n",
       "      <td>NaT</td>\n",
       "      <td>NaT</td>\n",
       "    </tr>\n",
       "    <tr>\n",
       "      <th>2</th>\n",
       "      <td>3</td>\n",
       "      <td>2019-05-03 12:11:46</td>\n",
       "      <td>NaT</td>\n",
       "      <td>NaT</td>\n",
       "      <td>NaT</td>\n",
       "      <td>NaT</td>\n",
       "      <td>NaT</td>\n",
       "      <td>NaT</td>\n",
       "      <td>NaT</td>\n",
       "      <td>NaT</td>\n",
       "    </tr>\n",
       "    <tr>\n",
       "      <th>3</th>\n",
       "      <td>4</td>\n",
       "      <td>2019-05-03 12:43:22</td>\n",
       "      <td>NaT</td>\n",
       "      <td>NaT</td>\n",
       "      <td>NaT</td>\n",
       "      <td>NaT</td>\n",
       "      <td>NaT</td>\n",
       "      <td>NaT</td>\n",
       "      <td>NaT</td>\n",
       "      <td>NaT</td>\n",
       "    </tr>\n",
       "    <tr>\n",
       "      <th>4</th>\n",
       "      <td>5</td>\n",
       "      <td>2019-05-03 13:20:44</td>\n",
       "      <td>2019-05-03 13:15:34</td>\n",
       "      <td>NaT</td>\n",
       "      <td>NaT</td>\n",
       "      <td>NaT</td>\n",
       "      <td>NaT</td>\n",
       "      <td>NaT</td>\n",
       "      <td>NaT</td>\n",
       "      <td>NaT</td>\n",
       "    </tr>\n",
       "  </tbody>\n",
       "</table>\n",
       "</div>"
      ],
      "text/plain": [
       "   key              wire_1              wire_2 wire_3 wire_4 wire_5 wire_6  \\\n",
       "0    1 2019-05-03 11:06:19                 NaT    NaT    NaT    NaT    NaT   \n",
       "1    2 2019-05-03 11:36:50                 NaT    NaT    NaT    NaT    NaT   \n",
       "2    3 2019-05-03 12:11:46                 NaT    NaT    NaT    NaT    NaT   \n",
       "3    4 2019-05-03 12:43:22                 NaT    NaT    NaT    NaT    NaT   \n",
       "4    5 2019-05-03 13:20:44 2019-05-03 13:15:34    NaT    NaT    NaT    NaT   \n",
       "\n",
       "  wire_7 wire_8 wire_9  \n",
       "0    NaT    NaT    NaT  \n",
       "1    NaT    NaT    NaT  \n",
       "2    NaT    NaT    NaT  \n",
       "3    NaT    NaT    NaT  \n",
       "4    NaT    NaT    NaT  "
      ]
     },
     "metadata": {},
     "output_type": "display_data"
    }
   ],
   "source": [
    "wire_time = transform_columns_values(wire_time)"
   ]
  },
  {
   "cell_type": "markdown",
   "id": "de6bb625",
   "metadata": {},
   "source": [
    "### Адекватность данных"
   ]
  },
  {
   "cell_type": "markdown",
   "id": "308c75da",
   "metadata": {},
   "source": [
    "Важно, чтобы каждый случай нашего процесса удовлетворял двум условиям. У него должен быть первый замер, который проводится до применения сыпучих материалов и проволоки, и должен быть последний замер, который проводится после всех циклов легирования. Напишем обработку, которая позволит нам получить идентификаторы таких партий. "
   ]
  },
  {
   "cell_type": "code",
   "execution_count": 27,
   "id": "7ed9b5f4",
   "metadata": {},
   "outputs": [],
   "source": [
    "keys_ok = []\n",
    "keys_not_ok = []\n",
    "\n",
    "for key in temperature['key'].unique():\n",
    "    # Листы с метками операционного времени\n",
    "    min_operations = []\n",
    "    max_operations = []\n",
    "\n",
    "    # Замеры температур\n",
    "    min_temperature_time = temperature[temperature['key'] == key]['time'].min()\n",
    "    max_temperature_time = temperature[temperature['key'] == key]['time'].max()\n",
    "\n",
    "    # Вычисляем минимальное время старта\n",
    "    # и максимальное время финиша нагрева\n",
    "    arc_min_time = arc[arc['key'] == key]['arc_start'].min()\n",
    "    arc_max_time = arc[arc['key'] == key]['arc_finish'].min()\n",
    "\n",
    "    min_operations.append(arc_min_time)\n",
    "    max_operations.append(arc_max_time)\n",
    "    # Вычисляем минимальное и максимальное время добавки\n",
    "    # легирующих материалов\n",
    "\n",
    "    # Обработка случаев, если сыпучие материалы не добавлялись\n",
    "    try:\n",
    "        bulk_min_time = (\n",
    "            bulk_time[bulk_time['key'] == key]\n",
    "            .iloc[:, 1:]\n",
    "            .dropna(axis=1)\n",
    "            .T.min()\n",
    "            .iloc[0]\n",
    "        )\n",
    "\n",
    "        bulk_max_time = (\n",
    "            bulk_time[bulk_time['key'] == key]\n",
    "            .iloc[:, 1:]\n",
    "            .dropna(axis=1)\n",
    "            .T.max()\n",
    "            .iloc[0]\n",
    "        )\n",
    "\n",
    "        min_operations.append(bulk_min_time)\n",
    "        max_operations.append(bulk_max_time)\n",
    "    except:\n",
    "        pass\n",
    "\n",
    "    # Обработка случаев, если проволока не добавлялась\n",
    "    try:\n",
    "\n",
    "        wire_min_time = (\n",
    "            wire_time[wire_time['key'] == key]\n",
    "            .iloc[:, 1:]\n",
    "            .dropna(axis=1)\n",
    "            .T.min()\n",
    "            .iloc[0]\n",
    "        )\n",
    "\n",
    "        wire_max_time = (\n",
    "            wire_time[wire_time['key'] == key]\n",
    "            .iloc[:, 1:]\n",
    "            .dropna(axis=1)\n",
    "            .T.max()\n",
    "            .iloc[0]\n",
    "        )\n",
    "        min_operations.append(wire_min_time)\n",
    "        max_operations.append(wire_max_time)\n",
    "    except:\n",
    "        pass\n",
    "\n",
    "    # Вычисляем минимальное и максимальное время каких-либо операций\n",
    "    min_operation_time = min(min_operations)\n",
    "    max_operation_time = min(max_operations)\n",
    "\n",
    "    # Проверяем, соответствует ли партия условиям\n",
    "    if (min_temperature_time < min_operation_time) & (\n",
    "        max_temperature_time > max_operation_time\n",
    "    ):\n",
    "        keys_ok.append(key)\n",
    "    else:\n",
    "        keys_not_ok.append(key)"
   ]
  },
  {
   "cell_type": "code",
   "execution_count": 28,
   "id": "bf101ac8",
   "metadata": {},
   "outputs": [
    {
     "data": {
      "text/plain": [
       "23.1"
      ]
     },
     "execution_count": 28,
     "metadata": {},
     "output_type": "execute_result"
    }
   ],
   "source": [
    "not_ok_share = round(\n",
    "    (len(keys_not_ok) / (len(keys_not_ok) + len(keys_ok))) * 100, 1\n",
    ")\n",
    "not_ok_share"
   ]
  },
  {
   "cell_type": "markdown",
   "id": "6b018fa7",
   "metadata": {},
   "source": [
    "23.1% данных нам не подходит. Посмотрим на одну из таких партий."
   ]
  },
  {
   "cell_type": "code",
   "execution_count": 29,
   "id": "c01a5b7f",
   "metadata": {},
   "outputs": [
    {
     "data": {
      "text/html": [
       "<div>\n",
       "<style scoped>\n",
       "    .dataframe tbody tr th:only-of-type {\n",
       "        vertical-align: middle;\n",
       "    }\n",
       "\n",
       "    .dataframe tbody tr th {\n",
       "        vertical-align: top;\n",
       "    }\n",
       "\n",
       "    .dataframe thead th {\n",
       "        text-align: right;\n",
       "    }\n",
       "</style>\n",
       "<table border=\"1\" class=\"dataframe\">\n",
       "  <thead>\n",
       "    <tr style=\"text-align: right;\">\n",
       "      <th></th>\n",
       "      <th>key</th>\n",
       "      <th>time</th>\n",
       "      <th>temperature</th>\n",
       "    </tr>\n",
       "  </thead>\n",
       "  <tbody>\n",
       "    <tr>\n",
       "      <th>13948</th>\n",
       "      <td>2504</td>\n",
       "      <td>2019-08-10 17:31:43</td>\n",
       "      <td>1583.0</td>\n",
       "    </tr>\n",
       "  </tbody>\n",
       "</table>\n",
       "</div>"
      ],
      "text/plain": [
       "        key                time  temperature\n",
       "13948  2504 2019-08-10 17:31:43       1583.0"
      ]
     },
     "execution_count": 29,
     "metadata": {},
     "output_type": "execute_result"
    }
   ],
   "source": [
    "example_not_ok = keys_not_ok[6]\n",
    "\n",
    "temperature[temperature['key'] == example_not_ok]"
   ]
  },
  {
   "cell_type": "markdown",
   "id": "33e2d5de",
   "metadata": {},
   "source": [
    "Партия с единственным замером температуры."
   ]
  },
  {
   "cell_type": "markdown",
   "id": "df7bdb13",
   "metadata": {},
   "source": [
    "Исключим неподходящие `key` из наших данных"
   ]
  },
  {
   "cell_type": "code",
   "execution_count": 30,
   "id": "35059c3c",
   "metadata": {},
   "outputs": [],
   "source": [
    "# Убираем из всех датафреймов\n",
    "arc = arc[arc['key'].isin(keys_ok)]\n",
    "bulk = bulk[bulk['key'].isin(keys_ok)]\n",
    "bulk_time = bulk_time[bulk_time['key'].isin(keys_ok)]\n",
    "gas = gas[gas['key'].isin(keys_ok)]\n",
    "temperature = temperature[temperature['key'].isin(keys_ok)]\n",
    "wire = wire[wire['key'].isin(keys_ok)]\n",
    "wire_time = wire_time[wire_time['key'].isin(keys_ok)]"
   ]
  },
  {
   "cell_type": "code",
   "execution_count": 31,
   "id": "b4d69a2f",
   "metadata": {},
   "outputs": [
    {
     "data": {
      "text/html": [
       "<div>\n",
       "<style scoped>\n",
       "    .dataframe tbody tr th:only-of-type {\n",
       "        vertical-align: middle;\n",
       "    }\n",
       "\n",
       "    .dataframe tbody tr th {\n",
       "        vertical-align: top;\n",
       "    }\n",
       "\n",
       "    .dataframe thead th {\n",
       "        text-align: right;\n",
       "    }\n",
       "</style>\n",
       "<table border=\"1\" class=\"dataframe\">\n",
       "  <thead>\n",
       "    <tr style=\"text-align: right;\">\n",
       "      <th></th>\n",
       "      <th>key</th>\n",
       "      <th>time</th>\n",
       "      <th>temperature</th>\n",
       "    </tr>\n",
       "  </thead>\n",
       "  <tbody>\n",
       "    <tr>\n",
       "      <th>0</th>\n",
       "      <td>1</td>\n",
       "      <td>2019-05-03 11:02:04</td>\n",
       "      <td>1571.0</td>\n",
       "    </tr>\n",
       "    <tr>\n",
       "      <th>1</th>\n",
       "      <td>1</td>\n",
       "      <td>2019-05-03 11:07:18</td>\n",
       "      <td>1604.0</td>\n",
       "    </tr>\n",
       "    <tr>\n",
       "      <th>2</th>\n",
       "      <td>1</td>\n",
       "      <td>2019-05-03 11:11:34</td>\n",
       "      <td>1618.0</td>\n",
       "    </tr>\n",
       "    <tr>\n",
       "      <th>3</th>\n",
       "      <td>1</td>\n",
       "      <td>2019-05-03 11:18:04</td>\n",
       "      <td>1601.0</td>\n",
       "    </tr>\n",
       "    <tr>\n",
       "      <th>4</th>\n",
       "      <td>1</td>\n",
       "      <td>2019-05-03 11:25:59</td>\n",
       "      <td>1606.0</td>\n",
       "    </tr>\n",
       "    <tr>\n",
       "      <th>...</th>\n",
       "      <td>...</td>\n",
       "      <td>...</td>\n",
       "      <td>...</td>\n",
       "    </tr>\n",
       "    <tr>\n",
       "      <th>13921</th>\n",
       "      <td>2499</td>\n",
       "      <td>2019-08-10 13:33:21</td>\n",
       "      <td>1569.0</td>\n",
       "    </tr>\n",
       "    <tr>\n",
       "      <th>13922</th>\n",
       "      <td>2499</td>\n",
       "      <td>2019-08-10 13:41:34</td>\n",
       "      <td>1604.0</td>\n",
       "    </tr>\n",
       "    <tr>\n",
       "      <th>13923</th>\n",
       "      <td>2499</td>\n",
       "      <td>2019-08-10 13:46:28</td>\n",
       "      <td>1593.0</td>\n",
       "    </tr>\n",
       "    <tr>\n",
       "      <th>13924</th>\n",
       "      <td>2499</td>\n",
       "      <td>2019-08-10 13:54:56</td>\n",
       "      <td>1588.0</td>\n",
       "    </tr>\n",
       "    <tr>\n",
       "      <th>13925</th>\n",
       "      <td>2499</td>\n",
       "      <td>2019-08-10 13:58:58</td>\n",
       "      <td>1603.0</td>\n",
       "    </tr>\n",
       "  </tbody>\n",
       "</table>\n",
       "<p>13898 rows × 3 columns</p>\n",
       "</div>"
      ],
      "text/plain": [
       "        key                time  temperature\n",
       "0         1 2019-05-03 11:02:04       1571.0\n",
       "1         1 2019-05-03 11:07:18       1604.0\n",
       "2         1 2019-05-03 11:11:34       1618.0\n",
       "3         1 2019-05-03 11:18:04       1601.0\n",
       "4         1 2019-05-03 11:25:59       1606.0\n",
       "...     ...                 ...          ...\n",
       "13921  2499 2019-08-10 13:33:21       1569.0\n",
       "13922  2499 2019-08-10 13:41:34       1604.0\n",
       "13923  2499 2019-08-10 13:46:28       1593.0\n",
       "13924  2499 2019-08-10 13:54:56       1588.0\n",
       "13925  2499 2019-08-10 13:58:58       1603.0\n",
       "\n",
       "[13898 rows x 3 columns]"
      ]
     },
     "execution_count": 31,
     "metadata": {},
     "output_type": "execute_result"
    }
   ],
   "source": [
    "temperature"
   ]
  },
  {
   "cell_type": "markdown",
   "id": "356b5f31",
   "metadata": {},
   "source": [
    "### Промежуточный вывод\n",
    "\n",
    "- Загрузили данные;\n",
    "- Визуально оценили данные;\n",
    "- Избавились от выбросов;\n",
    "- Заполнили пропуски;\n",
    "- Оставили только адекватные данные;"
   ]
  },
  {
   "cell_type": "markdown",
   "id": "33775c41",
   "metadata": {},
   "source": [
    "## Feature engineering"
   ]
  },
  {
   "cell_type": "markdown",
   "id": "29a7286a",
   "metadata": {},
   "source": [
    "### Мощность и работа"
   ]
  },
  {
   "cell_type": "markdown",
   "id": "9be0c891",
   "metadata": {},
   "source": [
    "У нас есть датасет с мощностью и временем её применения. Складывать активную и реактивную мощность мы не можем. Вычислим полную мощность и работу, потом проведем агрегацию. Неизвестно, какая метрика лучше скажется на модели. "
   ]
  },
  {
   "cell_type": "code",
   "execution_count": 32,
   "id": "738dddf6",
   "metadata": {},
   "outputs": [
    {
     "data": {
      "text/html": [
       "<div>\n",
       "<style scoped>\n",
       "    .dataframe tbody tr th:only-of-type {\n",
       "        vertical-align: middle;\n",
       "    }\n",
       "\n",
       "    .dataframe tbody tr th {\n",
       "        vertical-align: top;\n",
       "    }\n",
       "\n",
       "    .dataframe thead th {\n",
       "        text-align: right;\n",
       "    }\n",
       "</style>\n",
       "<table border=\"1\" class=\"dataframe\">\n",
       "  <thead>\n",
       "    <tr style=\"text-align: right;\">\n",
       "      <th></th>\n",
       "      <th>key</th>\n",
       "      <th>arc_start</th>\n",
       "      <th>arc_finish</th>\n",
       "      <th>active_power</th>\n",
       "      <th>reactive_power</th>\n",
       "      <th>arc_total_power</th>\n",
       "      <th>arc_duration_seconds</th>\n",
       "      <th>arc_work</th>\n",
       "    </tr>\n",
       "  </thead>\n",
       "  <tbody>\n",
       "    <tr>\n",
       "      <th>0</th>\n",
       "      <td>1</td>\n",
       "      <td>2019-05-03 11:02:14</td>\n",
       "      <td>2019-05-03 11:06:02</td>\n",
       "      <td>0.305130</td>\n",
       "      <td>0.211253</td>\n",
       "      <td>0.371123</td>\n",
       "      <td>228.0</td>\n",
       "      <td>84.616003</td>\n",
       "    </tr>\n",
       "    <tr>\n",
       "      <th>1</th>\n",
       "      <td>1</td>\n",
       "      <td>2019-05-03 11:07:28</td>\n",
       "      <td>2019-05-03 11:10:33</td>\n",
       "      <td>0.765658</td>\n",
       "      <td>0.477438</td>\n",
       "      <td>0.902319</td>\n",
       "      <td>185.0</td>\n",
       "      <td>166.928978</td>\n",
       "    </tr>\n",
       "    <tr>\n",
       "      <th>2</th>\n",
       "      <td>1</td>\n",
       "      <td>2019-05-03 11:11:44</td>\n",
       "      <td>2019-05-03 11:14:36</td>\n",
       "      <td>0.580313</td>\n",
       "      <td>0.430460</td>\n",
       "      <td>0.722536</td>\n",
       "      <td>172.0</td>\n",
       "      <td>124.276277</td>\n",
       "    </tr>\n",
       "    <tr>\n",
       "      <th>3</th>\n",
       "      <td>1</td>\n",
       "      <td>2019-05-03 11:18:14</td>\n",
       "      <td>2019-05-03 11:24:19</td>\n",
       "      <td>0.518496</td>\n",
       "      <td>0.379979</td>\n",
       "      <td>0.642824</td>\n",
       "      <td>365.0</td>\n",
       "      <td>234.630603</td>\n",
       "    </tr>\n",
       "    <tr>\n",
       "      <th>4</th>\n",
       "      <td>1</td>\n",
       "      <td>2019-05-03 11:26:09</td>\n",
       "      <td>2019-05-03 11:28:37</td>\n",
       "      <td>0.867133</td>\n",
       "      <td>0.643691</td>\n",
       "      <td>1.079934</td>\n",
       "      <td>148.0</td>\n",
       "      <td>159.830252</td>\n",
       "    </tr>\n",
       "  </tbody>\n",
       "</table>\n",
       "</div>"
      ],
      "text/plain": [
       "   key           arc_start          arc_finish  active_power  reactive_power  \\\n",
       "0    1 2019-05-03 11:02:14 2019-05-03 11:06:02      0.305130        0.211253   \n",
       "1    1 2019-05-03 11:07:28 2019-05-03 11:10:33      0.765658        0.477438   \n",
       "2    1 2019-05-03 11:11:44 2019-05-03 11:14:36      0.580313        0.430460   \n",
       "3    1 2019-05-03 11:18:14 2019-05-03 11:24:19      0.518496        0.379979   \n",
       "4    1 2019-05-03 11:26:09 2019-05-03 11:28:37      0.867133        0.643691   \n",
       "\n",
       "   arc_total_power  arc_duration_seconds    arc_work  \n",
       "0         0.371123                 228.0   84.616003  \n",
       "1         0.902319                 185.0  166.928978  \n",
       "2         0.722536                 172.0  124.276277  \n",
       "3         0.642824                 365.0  234.630603  \n",
       "4         1.079934                 148.0  159.830252  "
      ]
     },
     "execution_count": 32,
     "metadata": {},
     "output_type": "execute_result"
    }
   ],
   "source": [
    "arc['arc_total_power'] = np.sqrt(\n",
    "    arc['active_power'] ** 2 + arc['reactive_power'] ** 2\n",
    ")\n",
    "\n",
    "arc['arc_duration_seconds'] = (\n",
    "    arc['arc_finish'] - arc['arc_start']\n",
    ").dt.total_seconds()\n",
    "\n",
    "arc['arc_work'] = arc['arc_total_power'] * arc['arc_duration_seconds']\n",
    "\n",
    "arc.head()"
   ]
  },
  {
   "cell_type": "code",
   "execution_count": 33,
   "id": "c3c3259a",
   "metadata": {},
   "outputs": [
    {
     "data": {
      "text/html": [
       "<div>\n",
       "<style scoped>\n",
       "    .dataframe tbody tr th:only-of-type {\n",
       "        vertical-align: middle;\n",
       "    }\n",
       "\n",
       "    .dataframe tbody tr th {\n",
       "        vertical-align: top;\n",
       "    }\n",
       "\n",
       "    .dataframe thead th {\n",
       "        text-align: right;\n",
       "    }\n",
       "</style>\n",
       "<table border=\"1\" class=\"dataframe\">\n",
       "  <thead>\n",
       "    <tr style=\"text-align: right;\">\n",
       "      <th></th>\n",
       "      <th>key</th>\n",
       "      <th>arc_total_power</th>\n",
       "      <th>arc_work</th>\n",
       "    </tr>\n",
       "  </thead>\n",
       "  <tbody>\n",
       "    <tr>\n",
       "      <th>0</th>\n",
       "      <td>1</td>\n",
       "      <td>3.718736</td>\n",
       "      <td>770.282114</td>\n",
       "    </tr>\n",
       "    <tr>\n",
       "      <th>1</th>\n",
       "      <td>2</td>\n",
       "      <td>2.588349</td>\n",
       "      <td>481.760005</td>\n",
       "    </tr>\n",
       "    <tr>\n",
       "      <th>2</th>\n",
       "      <td>3</td>\n",
       "      <td>5.019223</td>\n",
       "      <td>722.837668</td>\n",
       "    </tr>\n",
       "    <tr>\n",
       "      <th>3</th>\n",
       "      <td>4</td>\n",
       "      <td>3.400038</td>\n",
       "      <td>683.455597</td>\n",
       "    </tr>\n",
       "    <tr>\n",
       "      <th>4</th>\n",
       "      <td>5</td>\n",
       "      <td>2.816980</td>\n",
       "      <td>512.169934</td>\n",
       "    </tr>\n",
       "  </tbody>\n",
       "</table>\n",
       "</div>"
      ],
      "text/plain": [
       "   key  arc_total_power    arc_work\n",
       "0    1         3.718736  770.282114\n",
       "1    2         2.588349  481.760005\n",
       "2    3         5.019223  722.837668\n",
       "3    4         3.400038  683.455597\n",
       "4    5         2.816980  512.169934"
      ]
     },
     "execution_count": 33,
     "metadata": {},
     "output_type": "execute_result"
    }
   ],
   "source": [
    "arc_prepared = (\n",
    "    arc.groupby('key')[['arc_total_power', 'arc_work']].sum().reset_index()\n",
    ")\n",
    "\n",
    "arc_prepared.head()"
   ]
  },
  {
   "cell_type": "markdown",
   "id": "a78e3463",
   "metadata": {},
   "source": [
    "### Общее количество сыпучих материалов и проволоки"
   ]
  },
  {
   "cell_type": "markdown",
   "id": "c0548a58",
   "metadata": {},
   "source": [
    "Нельзя исключать, что модель лучше обучится, если будет видеть общее количество материалов."
   ]
  },
  {
   "cell_type": "code",
   "execution_count": 34,
   "id": "1227b55f",
   "metadata": {},
   "outputs": [],
   "source": [
    "bulk['bulk_total'] = bulk.sum(axis=1)\n",
    "wire['wire_total'] = wire.sum(axis=1)"
   ]
  },
  {
   "cell_type": "markdown",
   "id": "95e45c91",
   "metadata": {},
   "source": [
    "### Определение целевой переменной"
   ]
  },
  {
   "cell_type": "markdown",
   "id": "56b2ed21",
   "metadata": {},
   "source": [
    "Целевой переменной в нашем случае является последний замер температуры. А первый замер может быть одним из признаков. Напишем обрабтку, которая сформирует нам нужный датафрейм из источника `temperature`"
   ]
  },
  {
   "cell_type": "code",
   "execution_count": 35,
   "id": "532eea65",
   "metadata": {},
   "outputs": [
    {
     "data": {
      "text/html": [
       "<div>\n",
       "<style scoped>\n",
       "    .dataframe tbody tr th:only-of-type {\n",
       "        vertical-align: middle;\n",
       "    }\n",
       "\n",
       "    .dataframe tbody tr th {\n",
       "        vertical-align: top;\n",
       "    }\n",
       "\n",
       "    .dataframe thead th {\n",
       "        text-align: right;\n",
       "    }\n",
       "</style>\n",
       "<table border=\"1\" class=\"dataframe\">\n",
       "  <thead>\n",
       "    <tr style=\"text-align: right;\">\n",
       "      <th></th>\n",
       "      <th>key</th>\n",
       "      <th>temperature_start</th>\n",
       "      <th>temperature_finish</th>\n",
       "    </tr>\n",
       "  </thead>\n",
       "  <tbody>\n",
       "    <tr>\n",
       "      <th>0</th>\n",
       "      <td>1</td>\n",
       "      <td>1571.0</td>\n",
       "      <td>1613.0</td>\n",
       "    </tr>\n",
       "    <tr>\n",
       "      <th>1</th>\n",
       "      <td>2</td>\n",
       "      <td>1581.0</td>\n",
       "      <td>1602.0</td>\n",
       "    </tr>\n",
       "    <tr>\n",
       "      <th>2</th>\n",
       "      <td>3</td>\n",
       "      <td>1596.0</td>\n",
       "      <td>1599.0</td>\n",
       "    </tr>\n",
       "    <tr>\n",
       "      <th>3</th>\n",
       "      <td>4</td>\n",
       "      <td>1601.0</td>\n",
       "      <td>1625.0</td>\n",
       "    </tr>\n",
       "    <tr>\n",
       "      <th>4</th>\n",
       "      <td>5</td>\n",
       "      <td>1576.0</td>\n",
       "      <td>1602.0</td>\n",
       "    </tr>\n",
       "  </tbody>\n",
       "</table>\n",
       "</div>"
      ],
      "text/plain": [
       "   key  temperature_start  temperature_finish\n",
       "0    1             1571.0              1613.0\n",
       "1    2             1581.0              1602.0\n",
       "2    3             1596.0              1599.0\n",
       "3    4             1601.0              1625.0\n",
       "4    5             1576.0              1602.0"
      ]
     },
     "execution_count": 35,
     "metadata": {},
     "output_type": "execute_result"
    }
   ],
   "source": [
    "total_temp = pd.DataFrame()\n",
    "\n",
    "for key in temperature['key'].unique():\n",
    "    # Вычисляем минимальную и максимальную температуры для каждого key\n",
    "    min_temperature_time = temperature[temperature['key'] == key]['time'].min()\n",
    "    max_temperature_time = temperature[temperature['key'] == key]['time'].max()\n",
    "\n",
    "    # Фильтруем датафреймы и переименовываем колонки\n",
    "    min_temp = temperature[\n",
    "        (temperature['key'] == key)\n",
    "        & (temperature['time'] == min_temperature_time)\n",
    "    ]\n",
    "\n",
    "    min_temp = min_temp[['key', 'temperature']].rename(\n",
    "        columns={'temperature': 'temperature_start'}\n",
    "    )\n",
    "\n",
    "    max_temp = temperature[\n",
    "        (temperature['key'] == key)\n",
    "        & (temperature['time'] == max_temperature_time)\n",
    "    ]\n",
    "    max_temp = max_temp[['key', 'temperature']].rename(\n",
    "        columns={'temperature': 'temperature_finish'}\n",
    "    )\n",
    "\n",
    "    # Собираем итоговый датафрейм\n",
    "    key_temp = min_temp.merge(max_temp)\n",
    "    total_temp = pd.concat([total_temp, key_temp])\n",
    "\n",
    "total_temp.reset_index(drop=True).head()"
   ]
  },
  {
   "cell_type": "code",
   "execution_count": 36,
   "id": "4fa5adce",
   "metadata": {},
   "outputs": [
    {
     "data": {
      "text/html": [
       "<div>\n",
       "<style scoped>\n",
       "    .dataframe tbody tr th:only-of-type {\n",
       "        vertical-align: middle;\n",
       "    }\n",
       "\n",
       "    .dataframe tbody tr th {\n",
       "        vertical-align: top;\n",
       "    }\n",
       "\n",
       "    .dataframe thead th {\n",
       "        text-align: right;\n",
       "    }\n",
       "</style>\n",
       "<table border=\"1\" class=\"dataframe\">\n",
       "  <thead>\n",
       "    <tr style=\"text-align: right;\">\n",
       "      <th></th>\n",
       "      <th>key</th>\n",
       "      <th>temperature_start</th>\n",
       "      <th>temperature_finish</th>\n",
       "    </tr>\n",
       "  </thead>\n",
       "  <tbody>\n",
       "    <tr>\n",
       "      <th>0</th>\n",
       "      <td>1</td>\n",
       "      <td>1571.0</td>\n",
       "      <td>1613.0</td>\n",
       "    </tr>\n",
       "    <tr>\n",
       "      <th>0</th>\n",
       "      <td>2</td>\n",
       "      <td>1581.0</td>\n",
       "      <td>1602.0</td>\n",
       "    </tr>\n",
       "    <tr>\n",
       "      <th>0</th>\n",
       "      <td>3</td>\n",
       "      <td>1596.0</td>\n",
       "      <td>1599.0</td>\n",
       "    </tr>\n",
       "    <tr>\n",
       "      <th>0</th>\n",
       "      <td>4</td>\n",
       "      <td>1601.0</td>\n",
       "      <td>1625.0</td>\n",
       "    </tr>\n",
       "    <tr>\n",
       "      <th>0</th>\n",
       "      <td>5</td>\n",
       "      <td>1576.0</td>\n",
       "      <td>1602.0</td>\n",
       "    </tr>\n",
       "    <tr>\n",
       "      <th>...</th>\n",
       "      <td>...</td>\n",
       "      <td>...</td>\n",
       "      <td>...</td>\n",
       "    </tr>\n",
       "    <tr>\n",
       "      <th>0</th>\n",
       "      <td>2495</td>\n",
       "      <td>1570.0</td>\n",
       "      <td>1591.0</td>\n",
       "    </tr>\n",
       "    <tr>\n",
       "      <th>0</th>\n",
       "      <td>2496</td>\n",
       "      <td>1554.0</td>\n",
       "      <td>1591.0</td>\n",
       "    </tr>\n",
       "    <tr>\n",
       "      <th>0</th>\n",
       "      <td>2497</td>\n",
       "      <td>1571.0</td>\n",
       "      <td>1589.0</td>\n",
       "    </tr>\n",
       "    <tr>\n",
       "      <th>0</th>\n",
       "      <td>2498</td>\n",
       "      <td>1591.0</td>\n",
       "      <td>1594.0</td>\n",
       "    </tr>\n",
       "    <tr>\n",
       "      <th>0</th>\n",
       "      <td>2499</td>\n",
       "      <td>1569.0</td>\n",
       "      <td>1603.0</td>\n",
       "    </tr>\n",
       "  </tbody>\n",
       "</table>\n",
       "<p>2470 rows × 3 columns</p>\n",
       "</div>"
      ],
      "text/plain": [
       "     key  temperature_start  temperature_finish\n",
       "0      1             1571.0              1613.0\n",
       "0      2             1581.0              1602.0\n",
       "0      3             1596.0              1599.0\n",
       "0      4             1601.0              1625.0\n",
       "0      5             1576.0              1602.0\n",
       "..   ...                ...                 ...\n",
       "0   2495             1570.0              1591.0\n",
       "0   2496             1554.0              1591.0\n",
       "0   2497             1571.0              1589.0\n",
       "0   2498             1591.0              1594.0\n",
       "0   2499             1569.0              1603.0\n",
       "\n",
       "[2470 rows x 3 columns]"
      ]
     },
     "execution_count": 36,
     "metadata": {},
     "output_type": "execute_result"
    }
   ],
   "source": [
    "total_temp"
   ]
  },
  {
   "cell_type": "markdown",
   "id": "cc34477b",
   "metadata": {},
   "source": [
    "### Промежуточный вывод\n",
    "\n",
    "- Посчитали мощность и работу;\n",
    "- Создали общее количество материалов и проволоки;\n",
    "- Выделили целевую переменную;"
   ]
  },
  {
   "cell_type": "markdown",
   "id": "825fb831",
   "metadata": {},
   "source": [
    "## Общий датафрейм"
   ]
  },
  {
   "cell_type": "markdown",
   "id": "9c7574c5",
   "metadata": {},
   "source": [
    "### Объединение данных"
   ]
  },
  {
   "cell_type": "markdown",
   "id": "e6166a72",
   "metadata": {},
   "source": [
    "Нам нужны партии, которые присутствуют во всех датафреймах. Поэтому объедими их по ключу `key` с помощью *inner join*."
   ]
  },
  {
   "cell_type": "code",
   "execution_count": 37,
   "id": "738e2b6a",
   "metadata": {},
   "outputs": [],
   "source": [
    "total_df = (\n",
    "    total_temp.merge(arc_prepared)\n",
    "    .merge(bulk)\n",
    "    .merge(wire)\n",
    "    .merge(gas)\n",
    "    .set_index('key')\n",
    ")\n",
    "\n",
    "total_df['total_materials'] = total_df['bulk_total'] + total_df['wire_total']"
   ]
  },
  {
   "cell_type": "code",
   "execution_count": 38,
   "id": "04b98311",
   "metadata": {},
   "outputs": [
    {
     "data": {
      "text/html": [
       "<div>\n",
       "<style scoped>\n",
       "    .dataframe tbody tr th:only-of-type {\n",
       "        vertical-align: middle;\n",
       "    }\n",
       "\n",
       "    .dataframe tbody tr th {\n",
       "        vertical-align: top;\n",
       "    }\n",
       "\n",
       "    .dataframe thead th {\n",
       "        text-align: right;\n",
       "    }\n",
       "</style>\n",
       "<table border=\"1\" class=\"dataframe\">\n",
       "  <thead>\n",
       "    <tr style=\"text-align: right;\">\n",
       "      <th></th>\n",
       "      <th>temperature_start</th>\n",
       "      <th>temperature_finish</th>\n",
       "      <th>arc_total_power</th>\n",
       "      <th>arc_work</th>\n",
       "      <th>bulk_1</th>\n",
       "      <th>bulk_2</th>\n",
       "      <th>bulk_3</th>\n",
       "      <th>bulk_4</th>\n",
       "      <th>bulk_5</th>\n",
       "      <th>bulk_6</th>\n",
       "      <th>...</th>\n",
       "      <th>wire_3</th>\n",
       "      <th>wire_4</th>\n",
       "      <th>wire_5</th>\n",
       "      <th>wire_6</th>\n",
       "      <th>wire_7</th>\n",
       "      <th>wire_8</th>\n",
       "      <th>wire_9</th>\n",
       "      <th>wire_total</th>\n",
       "      <th>gas_1</th>\n",
       "      <th>total_materials</th>\n",
       "    </tr>\n",
       "    <tr>\n",
       "      <th>key</th>\n",
       "      <th></th>\n",
       "      <th></th>\n",
       "      <th></th>\n",
       "      <th></th>\n",
       "      <th></th>\n",
       "      <th></th>\n",
       "      <th></th>\n",
       "      <th></th>\n",
       "      <th></th>\n",
       "      <th></th>\n",
       "      <th></th>\n",
       "      <th></th>\n",
       "      <th></th>\n",
       "      <th></th>\n",
       "      <th></th>\n",
       "      <th></th>\n",
       "      <th></th>\n",
       "      <th></th>\n",
       "      <th></th>\n",
       "      <th></th>\n",
       "      <th></th>\n",
       "    </tr>\n",
       "  </thead>\n",
       "  <tbody>\n",
       "    <tr>\n",
       "      <th>1</th>\n",
       "      <td>1571.0</td>\n",
       "      <td>1613.0</td>\n",
       "      <td>3.718736</td>\n",
       "      <td>770.282114</td>\n",
       "      <td>0.0</td>\n",
       "      <td>0.0</td>\n",
       "      <td>0.0</td>\n",
       "      <td>43.0</td>\n",
       "      <td>0.0</td>\n",
       "      <td>0.0</td>\n",
       "      <td>...</td>\n",
       "      <td>0.0</td>\n",
       "      <td>0.0</td>\n",
       "      <td>0.0</td>\n",
       "      <td>0.0</td>\n",
       "      <td>0.0</td>\n",
       "      <td>0.0</td>\n",
       "      <td>0.0</td>\n",
       "      <td>61.059998</td>\n",
       "      <td>29.749986</td>\n",
       "      <td>615.059998</td>\n",
       "    </tr>\n",
       "    <tr>\n",
       "      <th>2</th>\n",
       "      <td>1581.0</td>\n",
       "      <td>1602.0</td>\n",
       "      <td>2.588349</td>\n",
       "      <td>481.760005</td>\n",
       "      <td>0.0</td>\n",
       "      <td>0.0</td>\n",
       "      <td>0.0</td>\n",
       "      <td>73.0</td>\n",
       "      <td>0.0</td>\n",
       "      <td>0.0</td>\n",
       "      <td>...</td>\n",
       "      <td>0.0</td>\n",
       "      <td>0.0</td>\n",
       "      <td>0.0</td>\n",
       "      <td>0.0</td>\n",
       "      <td>0.0</td>\n",
       "      <td>0.0</td>\n",
       "      <td>0.0</td>\n",
       "      <td>98.052315</td>\n",
       "      <td>12.555561</td>\n",
       "      <td>682.052315</td>\n",
       "    </tr>\n",
       "    <tr>\n",
       "      <th>3</th>\n",
       "      <td>1596.0</td>\n",
       "      <td>1599.0</td>\n",
       "      <td>5.019223</td>\n",
       "      <td>722.837668</td>\n",
       "      <td>0.0</td>\n",
       "      <td>0.0</td>\n",
       "      <td>0.0</td>\n",
       "      <td>34.0</td>\n",
       "      <td>0.0</td>\n",
       "      <td>0.0</td>\n",
       "      <td>...</td>\n",
       "      <td>0.0</td>\n",
       "      <td>0.0</td>\n",
       "      <td>0.0</td>\n",
       "      <td>0.0</td>\n",
       "      <td>0.0</td>\n",
       "      <td>0.0</td>\n",
       "      <td>0.0</td>\n",
       "      <td>94.160157</td>\n",
       "      <td>28.554793</td>\n",
       "      <td>641.160157</td>\n",
       "    </tr>\n",
       "    <tr>\n",
       "      <th>4</th>\n",
       "      <td>1601.0</td>\n",
       "      <td>1625.0</td>\n",
       "      <td>3.400038</td>\n",
       "      <td>683.455597</td>\n",
       "      <td>0.0</td>\n",
       "      <td>0.0</td>\n",
       "      <td>0.0</td>\n",
       "      <td>81.0</td>\n",
       "      <td>0.0</td>\n",
       "      <td>0.0</td>\n",
       "      <td>...</td>\n",
       "      <td>0.0</td>\n",
       "      <td>0.0</td>\n",
       "      <td>0.0</td>\n",
       "      <td>0.0</td>\n",
       "      <td>0.0</td>\n",
       "      <td>0.0</td>\n",
       "      <td>0.0</td>\n",
       "      <td>93.063515</td>\n",
       "      <td>18.841219</td>\n",
       "      <td>692.063515</td>\n",
       "    </tr>\n",
       "    <tr>\n",
       "      <th>5</th>\n",
       "      <td>1576.0</td>\n",
       "      <td>1602.0</td>\n",
       "      <td>2.816980</td>\n",
       "      <td>512.169934</td>\n",
       "      <td>0.0</td>\n",
       "      <td>0.0</td>\n",
       "      <td>0.0</td>\n",
       "      <td>78.0</td>\n",
       "      <td>0.0</td>\n",
       "      <td>0.0</td>\n",
       "      <td>...</td>\n",
       "      <td>0.0</td>\n",
       "      <td>0.0</td>\n",
       "      <td>0.0</td>\n",
       "      <td>0.0</td>\n",
       "      <td>0.0</td>\n",
       "      <td>0.0</td>\n",
       "      <td>0.0</td>\n",
       "      <td>103.352796</td>\n",
       "      <td>5.413692</td>\n",
       "      <td>692.352796</td>\n",
       "    </tr>\n",
       "    <tr>\n",
       "      <th>...</th>\n",
       "      <td>...</td>\n",
       "      <td>...</td>\n",
       "      <td>...</td>\n",
       "      <td>...</td>\n",
       "      <td>...</td>\n",
       "      <td>...</td>\n",
       "      <td>...</td>\n",
       "      <td>...</td>\n",
       "      <td>...</td>\n",
       "      <td>...</td>\n",
       "      <td>...</td>\n",
       "      <td>...</td>\n",
       "      <td>...</td>\n",
       "      <td>...</td>\n",
       "      <td>...</td>\n",
       "      <td>...</td>\n",
       "      <td>...</td>\n",
       "      <td>...</td>\n",
       "      <td>...</td>\n",
       "      <td>...</td>\n",
       "      <td>...</td>\n",
       "    </tr>\n",
       "    <tr>\n",
       "      <th>2495</th>\n",
       "      <td>1570.0</td>\n",
       "      <td>1591.0</td>\n",
       "      <td>3.868721</td>\n",
       "      <td>694.177326</td>\n",
       "      <td>0.0</td>\n",
       "      <td>0.0</td>\n",
       "      <td>21.0</td>\n",
       "      <td>0.0</td>\n",
       "      <td>0.0</td>\n",
       "      <td>0.0</td>\n",
       "      <td>...</td>\n",
       "      <td>0.0</td>\n",
       "      <td>0.0</td>\n",
       "      <td>0.0</td>\n",
       "      <td>0.0</td>\n",
       "      <td>0.0</td>\n",
       "      <td>0.0</td>\n",
       "      <td>0.0</td>\n",
       "      <td>2584.150879</td>\n",
       "      <td>7.125735</td>\n",
       "      <td>5798.150879</td>\n",
       "    </tr>\n",
       "    <tr>\n",
       "      <th>2496</th>\n",
       "      <td>1554.0</td>\n",
       "      <td>1591.0</td>\n",
       "      <td>5.070316</td>\n",
       "      <td>815.818538</td>\n",
       "      <td>0.0</td>\n",
       "      <td>0.0</td>\n",
       "      <td>0.0</td>\n",
       "      <td>63.0</td>\n",
       "      <td>0.0</td>\n",
       "      <td>0.0</td>\n",
       "      <td>...</td>\n",
       "      <td>0.0</td>\n",
       "      <td>0.0</td>\n",
       "      <td>0.0</td>\n",
       "      <td>0.0</td>\n",
       "      <td>0.0</td>\n",
       "      <td>0.0</td>\n",
       "      <td>0.0</td>\n",
       "      <td>2610.179527</td>\n",
       "      <td>9.412616</td>\n",
       "      <td>5902.179527</td>\n",
       "    </tr>\n",
       "    <tr>\n",
       "      <th>2497</th>\n",
       "      <td>1571.0</td>\n",
       "      <td>1589.0</td>\n",
       "      <td>4.360918</td>\n",
       "      <td>823.020520</td>\n",
       "      <td>0.0</td>\n",
       "      <td>0.0</td>\n",
       "      <td>0.0</td>\n",
       "      <td>85.0</td>\n",
       "      <td>0.0</td>\n",
       "      <td>0.0</td>\n",
       "      <td>...</td>\n",
       "      <td>0.0</td>\n",
       "      <td>0.0</td>\n",
       "      <td>0.0</td>\n",
       "      <td>0.0</td>\n",
       "      <td>0.0</td>\n",
       "      <td>0.0</td>\n",
       "      <td>0.0</td>\n",
       "      <td>2600.134723</td>\n",
       "      <td>6.271699</td>\n",
       "      <td>5762.134723</td>\n",
       "    </tr>\n",
       "    <tr>\n",
       "      <th>2498</th>\n",
       "      <td>1591.0</td>\n",
       "      <td>1594.0</td>\n",
       "      <td>3.909917</td>\n",
       "      <td>581.810739</td>\n",
       "      <td>0.0</td>\n",
       "      <td>0.0</td>\n",
       "      <td>90.0</td>\n",
       "      <td>0.0</td>\n",
       "      <td>0.0</td>\n",
       "      <td>0.0</td>\n",
       "      <td>...</td>\n",
       "      <td>0.0</td>\n",
       "      <td>0.0</td>\n",
       "      <td>0.0</td>\n",
       "      <td>0.0</td>\n",
       "      <td>0.0</td>\n",
       "      <td>0.0</td>\n",
       "      <td>0.0</td>\n",
       "      <td>2616.110717</td>\n",
       "      <td>14.953657</td>\n",
       "      <td>5847.110717</td>\n",
       "    </tr>\n",
       "    <tr>\n",
       "      <th>2499</th>\n",
       "      <td>1569.0</td>\n",
       "      <td>1603.0</td>\n",
       "      <td>2.169252</td>\n",
       "      <td>532.386183</td>\n",
       "      <td>0.0</td>\n",
       "      <td>0.0</td>\n",
       "      <td>47.0</td>\n",
       "      <td>0.0</td>\n",
       "      <td>0.0</td>\n",
       "      <td>0.0</td>\n",
       "      <td>...</td>\n",
       "      <td>0.0</td>\n",
       "      <td>0.0</td>\n",
       "      <td>0.0</td>\n",
       "      <td>0.0</td>\n",
       "      <td>0.0</td>\n",
       "      <td>0.0</td>\n",
       "      <td>0.0</td>\n",
       "      <td>2659.166238</td>\n",
       "      <td>11.336151</td>\n",
       "      <td>5791.166238</td>\n",
       "    </tr>\n",
       "  </tbody>\n",
       "</table>\n",
       "<p>2324 rows × 32 columns</p>\n",
       "</div>"
      ],
      "text/plain": [
       "      temperature_start  temperature_finish  arc_total_power    arc_work  \\\n",
       "key                                                                        \n",
       "1                1571.0              1613.0         3.718736  770.282114   \n",
       "2                1581.0              1602.0         2.588349  481.760005   \n",
       "3                1596.0              1599.0         5.019223  722.837668   \n",
       "4                1601.0              1625.0         3.400038  683.455597   \n",
       "5                1576.0              1602.0         2.816980  512.169934   \n",
       "...                 ...                 ...              ...         ...   \n",
       "2495             1570.0              1591.0         3.868721  694.177326   \n",
       "2496             1554.0              1591.0         5.070316  815.818538   \n",
       "2497             1571.0              1589.0         4.360918  823.020520   \n",
       "2498             1591.0              1594.0         3.909917  581.810739   \n",
       "2499             1569.0              1603.0         2.169252  532.386183   \n",
       "\n",
       "      bulk_1  bulk_2  bulk_3  bulk_4  bulk_5  bulk_6  ...  wire_3  wire_4  \\\n",
       "key                                                   ...                   \n",
       "1        0.0     0.0     0.0    43.0     0.0     0.0  ...     0.0     0.0   \n",
       "2        0.0     0.0     0.0    73.0     0.0     0.0  ...     0.0     0.0   \n",
       "3        0.0     0.0     0.0    34.0     0.0     0.0  ...     0.0     0.0   \n",
       "4        0.0     0.0     0.0    81.0     0.0     0.0  ...     0.0     0.0   \n",
       "5        0.0     0.0     0.0    78.0     0.0     0.0  ...     0.0     0.0   \n",
       "...      ...     ...     ...     ...     ...     ...  ...     ...     ...   \n",
       "2495     0.0     0.0    21.0     0.0     0.0     0.0  ...     0.0     0.0   \n",
       "2496     0.0     0.0     0.0    63.0     0.0     0.0  ...     0.0     0.0   \n",
       "2497     0.0     0.0     0.0    85.0     0.0     0.0  ...     0.0     0.0   \n",
       "2498     0.0     0.0    90.0     0.0     0.0     0.0  ...     0.0     0.0   \n",
       "2499     0.0     0.0    47.0     0.0     0.0     0.0  ...     0.0     0.0   \n",
       "\n",
       "      wire_5  wire_6  wire_7  wire_8  wire_9   wire_total      gas_1  \\\n",
       "key                                                                    \n",
       "1        0.0     0.0     0.0     0.0     0.0    61.059998  29.749986   \n",
       "2        0.0     0.0     0.0     0.0     0.0    98.052315  12.555561   \n",
       "3        0.0     0.0     0.0     0.0     0.0    94.160157  28.554793   \n",
       "4        0.0     0.0     0.0     0.0     0.0    93.063515  18.841219   \n",
       "5        0.0     0.0     0.0     0.0     0.0   103.352796   5.413692   \n",
       "...      ...     ...     ...     ...     ...          ...        ...   \n",
       "2495     0.0     0.0     0.0     0.0     0.0  2584.150879   7.125735   \n",
       "2496     0.0     0.0     0.0     0.0     0.0  2610.179527   9.412616   \n",
       "2497     0.0     0.0     0.0     0.0     0.0  2600.134723   6.271699   \n",
       "2498     0.0     0.0     0.0     0.0     0.0  2616.110717  14.953657   \n",
       "2499     0.0     0.0     0.0     0.0     0.0  2659.166238  11.336151   \n",
       "\n",
       "      total_materials  \n",
       "key                    \n",
       "1          615.059998  \n",
       "2          682.052315  \n",
       "3          641.160157  \n",
       "4          692.063515  \n",
       "5          692.352796  \n",
       "...               ...  \n",
       "2495      5798.150879  \n",
       "2496      5902.179527  \n",
       "2497      5762.134723  \n",
       "2498      5847.110717  \n",
       "2499      5791.166238  \n",
       "\n",
       "[2324 rows x 32 columns]"
      ]
     },
     "execution_count": 38,
     "metadata": {},
     "output_type": "execute_result"
    }
   ],
   "source": [
    "total_df"
   ]
  },
  {
   "cell_type": "markdown",
   "id": "954942c7",
   "metadata": {},
   "source": [
    "### Корреляционный анализ"
   ]
  },
  {
   "cell_type": "code",
   "execution_count": 39,
   "id": "970d5990",
   "metadata": {},
   "outputs": [
    {
     "name": "stderr",
     "output_type": "stream",
     "text": [
      "/opt/conda/lib/python3.9/site-packages/phik/data_quality.py:72: UserWarning: Not enough unique value for variable wire_5 for analysis 1. Dropping this column\n",
      "  warnings.warn(\n"
     ]
    },
    {
     "data": {
      "image/png": "[encoded data removed]",
      "text/plain": [
       "<Figure size 1440x720 with 2 Axes>"
      ]
     },
     "metadata": {
      "needs_background": "light"
     },
     "output_type": "display_data"
    }
   ],
   "source": [
    "plt.figure(figsize=(20, 10))\n",
    "sns.heatmap(\n",
    "    total_df.phik_matrix(interval_cols=total_df.columns),\n",
    "    cmap='coolwarm',\n",
    "    center=0,\n",
    "    annot=True,\n",
    "    linewidths=2,\n",
    "    linecolor='black',\n",
    ")"
   ]
  },
  {
   "cell_type": "markdown",
   "id": "3ac22aea",
   "metadata": {},
   "source": [
    "Обнаружилось довольно много переменных с сильной корреляцией. Часто среди них встречаются переменные с единственным значением. Например `bulk_8`. А также переменные, в которых одинаковое количество значений, например `wire_8` и `bulk_9`. Почистим их. Также интересно, что `полная мощность` лучше коррелирует с целевой переменной, чем `работа`. От `работы` придётся избавиться. Также можно избавиться от признаков, которые вообще никак не объясняют целевую переменную."
   ]
  },
  {
   "cell_type": "code",
   "execution_count": 40,
   "id": "1bb5fd7d",
   "metadata": {},
   "outputs": [],
   "source": [
    "total_df = total_df.drop(\n",
    "    [\n",
    "        'arc_work',\n",
    "        'wire_4',\n",
    "        'bulk_7',\n",
    "        'wire_total',\n",
    "        'total_materials',\n",
    "        'wire_8',\n",
    "        'bulk_2',\n",
    "        'bulk_14',\n",
    "        'wire_5',\n",
    "        'bulk_3',\n",
    "        'bulk_8',\n",
    "        'bulk_9',\n",
    "        'bulk_10',\n",
    "        'bulk_13',\n",
    "        'wire_9',\n",
    "    ],\n",
    "    axis=1,\n",
    ")"
   ]
  },
  {
   "cell_type": "code",
   "execution_count": 41,
   "id": "c0d7e0c9",
   "metadata": {},
   "outputs": [
    {
     "data": {
      "image/png": "[encoded data removed]",
      "text/plain": [
       "<Figure size 1440x720 with 2 Axes>"
      ]
     },
     "metadata": {
      "needs_background": "light"
     },
     "output_type": "display_data"
    }
   ],
   "source": [
    "plt.figure(figsize=(20, 10))\n",
    "sns.heatmap(\n",
    "    total_df.phik_matrix(interval_cols=total_df.columns),\n",
    "    cmap='coolwarm',\n",
    "    center=0,\n",
    "    annot=True,\n",
    "    linewidths=2,\n",
    "    linecolor='black',\n",
    ")"
   ]
  },
  {
   "cell_type": "markdown",
   "id": "f498cffd",
   "metadata": {},
   "source": [
    "### Промежуточный вывод\n",
    "\n",
    "- Избавились от мултиколинеарности;\n",
    "- Избавились от переменных, которые никак не объясняют целевую;"
   ]
  },
  {
   "cell_type": "markdown",
   "id": "354ad59f",
   "metadata": {},
   "source": [
    "## Обучение классических моделей"
   ]
  },
  {
   "cell_type": "markdown",
   "id": "87b86171",
   "metadata": {},
   "source": [
    "### Подготовка выборок"
   ]
  },
  {
   "cell_type": "code",
   "execution_count": 42,
   "id": "23504900",
   "metadata": {},
   "outputs": [],
   "source": [
    "X = total_df.drop('temperature_finish', axis=1)\n",
    "y = total_df['temperature_finish']"
   ]
  },
  {
   "cell_type": "code",
   "execution_count": 43,
   "id": "fa075c24",
   "metadata": {},
   "outputs": [],
   "source": [
    "X_train, X_test, y_train, y_test = train_test_split(\n",
    "    X, y, test_size=TEST_SIZE, random_state=RANDOM_STATE\n",
    ")"
   ]
  },
  {
   "cell_type": "code",
   "execution_count": 44,
   "id": "ee383271",
   "metadata": {},
   "outputs": [
    {
     "data": {
      "text/html": [
       "<div>\n",
       "<style scoped>\n",
       "    .dataframe tbody tr th:only-of-type {\n",
       "        vertical-align: middle;\n",
       "    }\n",
       "\n",
       "    .dataframe tbody tr th {\n",
       "        vertical-align: top;\n",
       "    }\n",
       "\n",
       "    .dataframe thead th {\n",
       "        text-align: right;\n",
       "    }\n",
       "</style>\n",
       "<table border=\"1\" class=\"dataframe\">\n",
       "  <thead>\n",
       "    <tr style=\"text-align: right;\">\n",
       "      <th></th>\n",
       "      <th>temperature_start</th>\n",
       "      <th>temperature_finish</th>\n",
       "      <th>arc_total_power</th>\n",
       "      <th>bulk_1</th>\n",
       "      <th>bulk_4</th>\n",
       "      <th>bulk_5</th>\n",
       "      <th>bulk_6</th>\n",
       "      <th>bulk_11</th>\n",
       "      <th>bulk_12</th>\n",
       "      <th>bulk_15</th>\n",
       "      <th>bulk_total</th>\n",
       "      <th>wire_1</th>\n",
       "      <th>wire_2</th>\n",
       "      <th>wire_3</th>\n",
       "      <th>wire_6</th>\n",
       "      <th>wire_7</th>\n",
       "      <th>gas_1</th>\n",
       "    </tr>\n",
       "    <tr>\n",
       "      <th>key</th>\n",
       "      <th></th>\n",
       "      <th></th>\n",
       "      <th></th>\n",
       "      <th></th>\n",
       "      <th></th>\n",
       "      <th></th>\n",
       "      <th></th>\n",
       "      <th></th>\n",
       "      <th></th>\n",
       "      <th></th>\n",
       "      <th></th>\n",
       "      <th></th>\n",
       "      <th></th>\n",
       "      <th></th>\n",
       "      <th></th>\n",
       "      <th></th>\n",
       "      <th></th>\n",
       "    </tr>\n",
       "  </thead>\n",
       "  <tbody>\n",
       "    <tr>\n",
       "      <th>1</th>\n",
       "      <td>1571.0</td>\n",
       "      <td>1613.0</td>\n",
       "      <td>3.718736</td>\n",
       "      <td>0.0</td>\n",
       "      <td>43.0</td>\n",
       "      <td>0.0</td>\n",
       "      <td>0.0</td>\n",
       "      <td>0.0</td>\n",
       "      <td>206.0</td>\n",
       "      <td>154.0</td>\n",
       "      <td>554.0</td>\n",
       "      <td>60.059998</td>\n",
       "      <td>0.00000</td>\n",
       "      <td>0.0</td>\n",
       "      <td>0.0</td>\n",
       "      <td>0.0</td>\n",
       "      <td>29.749986</td>\n",
       "    </tr>\n",
       "    <tr>\n",
       "      <th>2</th>\n",
       "      <td>1581.0</td>\n",
       "      <td>1602.0</td>\n",
       "      <td>2.588349</td>\n",
       "      <td>0.0</td>\n",
       "      <td>73.0</td>\n",
       "      <td>0.0</td>\n",
       "      <td>0.0</td>\n",
       "      <td>0.0</td>\n",
       "      <td>206.0</td>\n",
       "      <td>154.0</td>\n",
       "      <td>584.0</td>\n",
       "      <td>96.052315</td>\n",
       "      <td>0.00000</td>\n",
       "      <td>0.0</td>\n",
       "      <td>0.0</td>\n",
       "      <td>0.0</td>\n",
       "      <td>12.555561</td>\n",
       "    </tr>\n",
       "    <tr>\n",
       "      <th>3</th>\n",
       "      <td>1596.0</td>\n",
       "      <td>1599.0</td>\n",
       "      <td>5.019223</td>\n",
       "      <td>0.0</td>\n",
       "      <td>34.0</td>\n",
       "      <td>0.0</td>\n",
       "      <td>0.0</td>\n",
       "      <td>0.0</td>\n",
       "      <td>205.0</td>\n",
       "      <td>153.0</td>\n",
       "      <td>547.0</td>\n",
       "      <td>91.160157</td>\n",
       "      <td>0.00000</td>\n",
       "      <td>0.0</td>\n",
       "      <td>0.0</td>\n",
       "      <td>0.0</td>\n",
       "      <td>28.554793</td>\n",
       "    </tr>\n",
       "    <tr>\n",
       "      <th>4</th>\n",
       "      <td>1601.0</td>\n",
       "      <td>1625.0</td>\n",
       "      <td>3.400038</td>\n",
       "      <td>0.0</td>\n",
       "      <td>81.0</td>\n",
       "      <td>0.0</td>\n",
       "      <td>0.0</td>\n",
       "      <td>0.0</td>\n",
       "      <td>207.0</td>\n",
       "      <td>154.0</td>\n",
       "      <td>599.0</td>\n",
       "      <td>89.063515</td>\n",
       "      <td>0.00000</td>\n",
       "      <td>0.0</td>\n",
       "      <td>0.0</td>\n",
       "      <td>0.0</td>\n",
       "      <td>18.841219</td>\n",
       "    </tr>\n",
       "    <tr>\n",
       "      <th>5</th>\n",
       "      <td>1576.0</td>\n",
       "      <td>1602.0</td>\n",
       "      <td>2.816980</td>\n",
       "      <td>0.0</td>\n",
       "      <td>78.0</td>\n",
       "      <td>0.0</td>\n",
       "      <td>0.0</td>\n",
       "      <td>0.0</td>\n",
       "      <td>203.0</td>\n",
       "      <td>152.0</td>\n",
       "      <td>589.0</td>\n",
       "      <td>89.238236</td>\n",
       "      <td>9.11456</td>\n",
       "      <td>0.0</td>\n",
       "      <td>0.0</td>\n",
       "      <td>0.0</td>\n",
       "      <td>5.413692</td>\n",
       "    </tr>\n",
       "    <tr>\n",
       "      <th>...</th>\n",
       "      <td>...</td>\n",
       "      <td>...</td>\n",
       "      <td>...</td>\n",
       "      <td>...</td>\n",
       "      <td>...</td>\n",
       "      <td>...</td>\n",
       "      <td>...</td>\n",
       "      <td>...</td>\n",
       "      <td>...</td>\n",
       "      <td>...</td>\n",
       "      <td>...</td>\n",
       "      <td>...</td>\n",
       "      <td>...</td>\n",
       "      <td>...</td>\n",
       "      <td>...</td>\n",
       "      <td>...</td>\n",
       "      <td>...</td>\n",
       "    </tr>\n",
       "    <tr>\n",
       "      <th>2495</th>\n",
       "      <td>1570.0</td>\n",
       "      <td>1591.0</td>\n",
       "      <td>3.868721</td>\n",
       "      <td>0.0</td>\n",
       "      <td>0.0</td>\n",
       "      <td>0.0</td>\n",
       "      <td>0.0</td>\n",
       "      <td>0.0</td>\n",
       "      <td>256.0</td>\n",
       "      <td>223.0</td>\n",
       "      <td>3214.0</td>\n",
       "      <td>89.150879</td>\n",
       "      <td>0.00000</td>\n",
       "      <td>0.0</td>\n",
       "      <td>0.0</td>\n",
       "      <td>0.0</td>\n",
       "      <td>7.125735</td>\n",
       "    </tr>\n",
       "    <tr>\n",
       "      <th>2496</th>\n",
       "      <td>1554.0</td>\n",
       "      <td>1591.0</td>\n",
       "      <td>5.070316</td>\n",
       "      <td>0.0</td>\n",
       "      <td>63.0</td>\n",
       "      <td>0.0</td>\n",
       "      <td>0.0</td>\n",
       "      <td>0.0</td>\n",
       "      <td>256.0</td>\n",
       "      <td>226.0</td>\n",
       "      <td>3292.0</td>\n",
       "      <td>114.179527</td>\n",
       "      <td>0.00000</td>\n",
       "      <td>0.0</td>\n",
       "      <td>0.0</td>\n",
       "      <td>0.0</td>\n",
       "      <td>9.412616</td>\n",
       "    </tr>\n",
       "    <tr>\n",
       "      <th>2497</th>\n",
       "      <td>1571.0</td>\n",
       "      <td>1589.0</td>\n",
       "      <td>4.360918</td>\n",
       "      <td>0.0</td>\n",
       "      <td>85.0</td>\n",
       "      <td>0.0</td>\n",
       "      <td>0.0</td>\n",
       "      <td>0.0</td>\n",
       "      <td>230.0</td>\n",
       "      <td>226.0</td>\n",
       "      <td>3162.0</td>\n",
       "      <td>94.086723</td>\n",
       "      <td>9.04800</td>\n",
       "      <td>0.0</td>\n",
       "      <td>0.0</td>\n",
       "      <td>0.0</td>\n",
       "      <td>6.271699</td>\n",
       "    </tr>\n",
       "    <tr>\n",
       "      <th>2498</th>\n",
       "      <td>1591.0</td>\n",
       "      <td>1594.0</td>\n",
       "      <td>3.909917</td>\n",
       "      <td>0.0</td>\n",
       "      <td>0.0</td>\n",
       "      <td>0.0</td>\n",
       "      <td>0.0</td>\n",
       "      <td>0.0</td>\n",
       "      <td>206.0</td>\n",
       "      <td>207.0</td>\n",
       "      <td>3231.0</td>\n",
       "      <td>118.110717</td>\n",
       "      <td>0.00000</td>\n",
       "      <td>0.0</td>\n",
       "      <td>0.0</td>\n",
       "      <td>0.0</td>\n",
       "      <td>14.953657</td>\n",
       "    </tr>\n",
       "    <tr>\n",
       "      <th>2499</th>\n",
       "      <td>1569.0</td>\n",
       "      <td>1603.0</td>\n",
       "      <td>2.169252</td>\n",
       "      <td>0.0</td>\n",
       "      <td>0.0</td>\n",
       "      <td>0.0</td>\n",
       "      <td>0.0</td>\n",
       "      <td>0.0</td>\n",
       "      <td>233.0</td>\n",
       "      <td>227.0</td>\n",
       "      <td>3132.0</td>\n",
       "      <td>110.160958</td>\n",
       "      <td>50.00528</td>\n",
       "      <td>0.0</td>\n",
       "      <td>0.0</td>\n",
       "      <td>0.0</td>\n",
       "      <td>11.336151</td>\n",
       "    </tr>\n",
       "  </tbody>\n",
       "</table>\n",
       "<p>2324 rows × 17 columns</p>\n",
       "</div>"
      ],
      "text/plain": [
       "      temperature_start  temperature_finish  arc_total_power  bulk_1  bulk_4  \\\n",
       "key                                                                            \n",
       "1                1571.0              1613.0         3.718736     0.0    43.0   \n",
       "2                1581.0              1602.0         2.588349     0.0    73.0   \n",
       "3                1596.0              1599.0         5.019223     0.0    34.0   \n",
       "4                1601.0              1625.0         3.400038     0.0    81.0   \n",
       "5                1576.0              1602.0         2.816980     0.0    78.0   \n",
       "...                 ...                 ...              ...     ...     ...   \n",
       "2495             1570.0              1591.0         3.868721     0.0     0.0   \n",
       "2496             1554.0              1591.0         5.070316     0.0    63.0   \n",
       "2497             1571.0              1589.0         4.360918     0.0    85.0   \n",
       "2498             1591.0              1594.0         3.909917     0.0     0.0   \n",
       "2499             1569.0              1603.0         2.169252     0.0     0.0   \n",
       "\n",
       "      bulk_5  bulk_6  bulk_11  bulk_12  bulk_15  bulk_total      wire_1  \\\n",
       "key                                                                       \n",
       "1        0.0     0.0      0.0    206.0    154.0       554.0   60.059998   \n",
       "2        0.0     0.0      0.0    206.0    154.0       584.0   96.052315   \n",
       "3        0.0     0.0      0.0    205.0    153.0       547.0   91.160157   \n",
       "4        0.0     0.0      0.0    207.0    154.0       599.0   89.063515   \n",
       "5        0.0     0.0      0.0    203.0    152.0       589.0   89.238236   \n",
       "...      ...     ...      ...      ...      ...         ...         ...   \n",
       "2495     0.0     0.0      0.0    256.0    223.0      3214.0   89.150879   \n",
       "2496     0.0     0.0      0.0    256.0    226.0      3292.0  114.179527   \n",
       "2497     0.0     0.0      0.0    230.0    226.0      3162.0   94.086723   \n",
       "2498     0.0     0.0      0.0    206.0    207.0      3231.0  118.110717   \n",
       "2499     0.0     0.0      0.0    233.0    227.0      3132.0  110.160958   \n",
       "\n",
       "        wire_2  wire_3  wire_6  wire_7      gas_1  \n",
       "key                                                \n",
       "1      0.00000     0.0     0.0     0.0  29.749986  \n",
       "2      0.00000     0.0     0.0     0.0  12.555561  \n",
       "3      0.00000     0.0     0.0     0.0  28.554793  \n",
       "4      0.00000     0.0     0.0     0.0  18.841219  \n",
       "5      9.11456     0.0     0.0     0.0   5.413692  \n",
       "...        ...     ...     ...     ...        ...  \n",
       "2495   0.00000     0.0     0.0     0.0   7.125735  \n",
       "2496   0.00000     0.0     0.0     0.0   9.412616  \n",
       "2497   9.04800     0.0     0.0     0.0   6.271699  \n",
       "2498   0.00000     0.0     0.0     0.0  14.953657  \n",
       "2499  50.00528     0.0     0.0     0.0  11.336151  \n",
       "\n",
       "[2324 rows x 17 columns]"
      ]
     },
     "execution_count": 44,
     "metadata": {},
     "output_type": "execute_result"
    }
   ],
   "source": [
    "total_df"
   ]
  },
  {
   "cell_type": "markdown",
   "id": "9da66873",
   "metadata": {},
   "source": [
    "### Создание пайплайна"
   ]
  },
  {
   "cell_type": "code",
   "execution_count": 45,
   "id": "42ed1489",
   "metadata": {},
   "outputs": [],
   "source": [
    "pipeline = Pipeline(\n",
    "    # Финальный пайплайн\n",
    "    [('scaler', StandardScaler()), ('model', LinearRegression())]\n",
    ")"
   ]
  },
  {
   "cell_type": "code",
   "execution_count": 46,
   "id": "fa379db2",
   "metadata": {},
   "outputs": [],
   "source": [
    "# Параметры линейной регрессии\n",
    "linreg_params = {}\n",
    "\n",
    "linreg_params['scaler'] = [StandardScaler(), MinMaxScaler()]\n",
    "linreg_params['model'] = [LinearRegression()]\n",
    "\n",
    "# Параметры случайного леса\n",
    "\n",
    "forest_params = {}\n",
    "\n",
    "forest_params['scaler'] = [StandardScaler(), MinMaxScaler(), 'passthrough']\n",
    "forest_params['model__max_depth'] = list(range(1, 100)) + [None]\n",
    "forest_params['model__min_samples_split'] = list(range(1, 500)) + [None]\n",
    "forest_params['model__min_samples_leaf'] = list(range(1, 500)) + [None]\n",
    "forest_params['model__max_features'] = list(range(1, len(X_train.columns))) + [\n",
    "    None\n",
    "]\n",
    "forest_params['model__n_estimators'] = list(range(1, 10000))\n",
    "forest_params['model'] = [RandomForestRegressor(random_state=RANDOM_STATE)]\n",
    "\n",
    "\n",
    "catboost_params = {}\n",
    "\n",
    "catboost_params['scaler'] = [StandardScaler(), MinMaxScaler()]\n",
    "\n",
    "catboost_params['model__Iterations'] = range(10, 1000)\n",
    "catboost_params['model__depth'] = range(1, 1000)\n",
    "catboost_params['model'] = [\n",
    "    CatBoostRegressor(random_state=RANDOM_STATE, loss_function='MAE')\n",
    "]\n",
    "\n",
    "params = [linreg_params, forest_params, catboost_params]"
   ]
  },
  {
   "cell_type": "code",
   "execution_count": 48,
   "id": "47c6b838",
   "metadata": {},
   "outputs": [],
   "source": [
    "grid_randomized_reg = RandomizedSearchCV(\n",
    "    pipeline,\n",
    "    params,\n",
    "    cv=5,\n",
    "    scoring='neg_mean_absolute_error',\n",
    "    n_jobs=-1,\n",
    "    n_iter=500,\n",
    "    random_state=RANDOM_STATE,\n",
    ")"
   ]
  },
  {
   "cell_type": "code",
   "execution_count": null,
   "id": "68304e9b",
   "metadata": {},
   "outputs": [],
   "source": [
    "grid_randomized_reg.fit(X_train, y_train)"
   ]
  },
  {
   "cell_type": "code",
   "execution_count": null,
   "id": "b3cd5f49",
   "metadata": {},
   "outputs": [],
   "source": [
    "results_df_reg = pd.DataFrame(grid_randomized_reg.cv_results_)\n",
    "results_df_reg = results_df_reg.sort_values(by=[\"rank_test_score\"])\n",
    "results_df_reg = results_df_reg.set_index(\n",
    "    results_df_reg[\"params\"].apply(\n",
    "        lambda x: \"_\".join(str(val) for val in x.values())\n",
    "    )\n",
    ").rename_axis(\"kernel\")\n",
    "results_df_reg['mean_test_score'] *= -1\n",
    "results_df_reg[\n",
    "    [\"params\", \"rank_test_score\", \"mean_test_score\", \"std_test_score\"]\n",
    "].head(10)"
   ]
  },
  {
   "cell_type": "markdown",
   "id": "579baaa8",
   "metadata": {},
   "source": [
    "Чемпион среди классической модели. "
   ]
  },
  {
   "cell_type": "code",
   "execution_count": null,
   "id": "90bba5d6",
   "metadata": {
    "scrolled": true
   },
   "outputs": [],
   "source": [
    "grid_randomized_reg.best_estimator_"
   ]
  },
  {
   "cell_type": "code",
   "execution_count": null,
   "id": "0a275e18",
   "metadata": {},
   "outputs": [],
   "source": [
    "# Сохраним скейлер и модель\n",
    "scaler = grid_randomized_reg.best_estimator_[0]\n",
    "classical_model = grid_randomized_reg.best_estimator_[1]"
   ]
  },
  {
   "cell_type": "code",
   "execution_count": null,
   "id": "e0153df7",
   "metadata": {},
   "outputs": [],
   "source": [
    "# Сохраним модель\n",
    "classical_model = grid_randomized_reg.best_estimator_[1]"
   ]
  },
  {
   "cell_type": "code",
   "execution_count": null,
   "id": "b112045c",
   "metadata": {},
   "outputs": [],
   "source": [
    "feat_importances = pd.Series(\n",
    "    classical_model.feature_importances_, index=X.columns\n",
    ")\n",
    "feat_importances.sort_values().plot(kind='barh')\n",
    "plt.title(\"Топ фичей, объясняющих модель\")\n",
    "plt.show()"
   ]
  },
  {
   "cell_type": "code",
   "execution_count": null,
   "id": "15122863",
   "metadata": {},
   "outputs": [],
   "source": [
    "# Проверяем на тестовых данных\n",
    "y_pred = classical_model.predict(X_test)\n",
    "mean_absolute_error(y_test, y_pred)"
   ]
  },
  {
   "cell_type": "markdown",
   "id": "9e071438",
   "metadata": {},
   "source": [
    "## Общий вывод\n",
    "\n",
    "Перед нами стояла задача разработать модель, которая могла бы предсказать температуру сплава по операциям, которые производятся со сплавом. \n",
    "\n",
    "**Что мы сделали:**\n",
    "\n",
    "- Загрузили данные, визуально оценили их;\n",
    "- Избавились от выбросов и неадекватных данных, заполнили пропуски;\n",
    "- Разработали новые фичи, выделили целевую переменную;\n",
    "- Собрали данные в единственный датафрейм, провели корреляционный анализ, избавились от мультиколинеарности;\n",
    "- Собрали пайплайн, подготавливающий данные, протестировали несколько моделей;\n",
    "- Лучше всего себя показал случайный лес. **MAE на тестовой выборке 6.73**;\n",
    "\n",
    "**Рекомендации для бизнеса:**\n",
    "\n",
    "- Обогатить датасет данными о тех сыпучих материалах и проволоках, которых сильно не хватало в текущих наборах данных. Например bulk_8;\n",
    "- Предоставить дополнительные данные о химическом составе стали, которая подаётся на вход. Вероятно, сплавы с разным составом нагреваются по-разному;\n",
    "- Повторить цикл обучения и посмотреть на результаты"
   ]
  }
 ],
 "metadata": {
  "ExecuteTimeLog": [
   {
    "duration": 4872,
    "start_time": "2024-03-08T10:40:52.756Z"
   },
   {
    "duration": 3208,
    "start_time": "2024-03-08T10:41:20.463Z"
   },
   {
    "duration": 308,
    "start_time": "2024-03-08T10:41:30.960Z"
   },
   {
    "duration": 6,
    "start_time": "2024-03-08T10:41:40.399Z"
   },
   {
    "duration": 5,
    "start_time": "2024-03-08T10:41:41.810Z"
   },
   {
    "duration": 640,
    "start_time": "2024-03-08T10:42:00.027Z"
   },
   {
    "duration": 127,
    "start_time": "2024-03-08T10:43:30.671Z"
   },
   {
    "duration": 3,
    "start_time": "2024-03-08T10:43:38.793Z"
   },
   {
    "duration": 271,
    "start_time": "2024-03-08T10:43:57.747Z"
   },
   {
    "duration": 273,
    "start_time": "2024-03-08T10:44:09.732Z"
   },
   {
    "duration": 12,
    "start_time": "2024-03-08T10:44:31.401Z"
   },
   {
    "duration": 257,
    "start_time": "2024-03-08T10:44:32.421Z"
   },
   {
    "duration": 88,
    "start_time": "2024-03-08T10:44:50.561Z"
   },
   {
    "duration": 21,
    "start_time": "2024-03-08T10:45:19.918Z"
   },
   {
    "duration": 50,
    "start_time": "2024-03-08T10:45:23.806Z"
   },
   {
    "duration": 44,
    "start_time": "2024-03-08T10:46:00.666Z"
   },
   {
    "duration": 3,
    "start_time": "2024-03-08T10:46:01.236Z"
   },
   {
    "duration": 295,
    "start_time": "2024-03-08T10:46:01.942Z"
   },
   {
    "duration": 39,
    "start_time": "2024-03-08T10:46:03.341Z"
   },
   {
    "duration": 6,
    "start_time": "2024-03-08T10:46:30.083Z"
   },
   {
    "duration": 3,
    "start_time": "2024-03-08T10:46:30.844Z"
   },
   {
    "duration": 426,
    "start_time": "2024-03-08T10:46:31.621Z"
   },
   {
    "duration": 12,
    "start_time": "2024-03-08T10:46:48.793Z"
   },
   {
    "duration": 265,
    "start_time": "2024-03-08T10:46:52.359Z"
   },
   {
    "duration": 70,
    "start_time": "2024-03-08T10:47:02.609Z"
   },
   {
    "duration": 13,
    "start_time": "2024-03-08T10:47:04.013Z"
   },
   {
    "duration": 39,
    "start_time": "2024-03-08T10:47:04.580Z"
   },
   {
    "duration": 35224,
    "start_time": "2024-03-08T10:47:43.695Z"
   },
   {
    "duration": 4,
    "start_time": "2024-03-08T10:52:20.370Z"
   },
   {
    "duration": 16,
    "start_time": "2024-03-08T10:52:22.258Z"
   },
   {
    "duration": 11,
    "start_time": "2024-03-08T10:52:36.239Z"
   },
   {
    "duration": 16,
    "start_time": "2024-03-08T10:53:57.272Z"
   },
   {
    "duration": 13,
    "start_time": "2024-03-08T10:54:01.624Z"
   },
   {
    "duration": 6,
    "start_time": "2024-03-08T10:54:27.768Z"
   },
   {
    "duration": 15549,
    "start_time": "2024-03-08T10:58:38.330Z"
   },
   {
    "duration": 16,
    "start_time": "2024-03-08T11:00:35.941Z"
   },
   {
    "duration": 21,
    "start_time": "2024-03-08T11:01:10.553Z"
   },
   {
    "duration": 31,
    "start_time": "2024-03-08T11:01:59.188Z"
   },
   {
    "duration": 7521,
    "start_time": "2024-03-08T11:02:08.018Z"
   },
   {
    "duration": 4,
    "start_time": "2024-03-08T11:02:16.555Z"
   },
   {
    "duration": 2604,
    "start_time": "2024-03-08T11:02:17.316Z"
   },
   {
    "duration": 4,
    "start_time": "2024-03-08T11:03:26.127Z"
   },
   {
    "duration": 5,
    "start_time": "2024-03-08T11:03:26.571Z"
   },
   {
    "duration": 3,
    "start_time": "2024-03-08T11:04:05.055Z"
   },
   {
    "duration": 6,
    "start_time": "2024-03-08T11:04:39.158Z"
   },
   {
    "duration": 4,
    "start_time": "2024-03-08T11:05:50.010Z"
   },
   {
    "duration": 11724617,
    "start_time": "2024-03-08T11:05:58.901Z"
   },
   {
    "duration": 0,
    "start_time": "2024-03-08T14:21:23.520Z"
   },
   {
    "duration": 0,
    "start_time": "2024-03-08T14:21:23.521Z"
   },
   {
    "duration": 0,
    "start_time": "2024-03-08T14:21:23.522Z"
   },
   {
    "duration": 0,
    "start_time": "2024-03-08T14:21:23.523Z"
   },
   {
    "duration": 0,
    "start_time": "2024-03-08T14:21:23.524Z"
   },
   {
    "duration": 0,
    "start_time": "2024-03-08T14:21:23.525Z"
   },
   {
    "duration": 9,
    "start_time": "2024-03-08T14:24:37.390Z"
   },
   {
    "duration": 3,
    "start_time": "2024-03-08T14:24:44.908Z"
   },
   {
    "duration": 190857,
    "start_time": "2024-03-08T14:24:45.561Z"
   },
   {
    "duration": 24,
    "start_time": "2024-03-08T14:30:45.961Z"
   },
   {
    "duration": 25,
    "start_time": "2024-03-08T14:32:22.619Z"
   },
   {
    "duration": 3343,
    "start_time": "2024-03-08T15:34:38.933Z"
   },
   {
    "duration": 3355,
    "start_time": "2024-03-08T15:34:42.279Z"
   },
   {
    "duration": 6,
    "start_time": "2024-03-08T15:34:45.635Z"
   },
   {
    "duration": 29,
    "start_time": "2024-03-08T15:34:45.643Z"
   },
   {
    "duration": 668,
    "start_time": "2024-03-08T15:34:45.675Z"
   },
   {
    "duration": 104,
    "start_time": "2024-03-08T15:34:46.345Z"
   },
   {
    "duration": 3,
    "start_time": "2024-03-08T15:34:46.450Z"
   },
   {
    "duration": 309,
    "start_time": "2024-03-08T15:34:46.454Z"
   },
   {
    "duration": 323,
    "start_time": "2024-03-08T15:34:46.765Z"
   },
   {
    "duration": 10,
    "start_time": "2024-03-08T15:34:47.090Z"
   },
   {
    "duration": 268,
    "start_time": "2024-03-08T15:34:47.102Z"
   },
   {
    "duration": 94,
    "start_time": "2024-03-08T15:34:47.372Z"
   },
   {
    "duration": 19,
    "start_time": "2024-03-08T15:34:47.468Z"
   },
   {
    "duration": 132,
    "start_time": "2024-03-08T15:34:47.489Z"
   },
   {
    "duration": 41,
    "start_time": "2024-03-08T15:34:47.623Z"
   },
   {
    "duration": 55,
    "start_time": "2024-03-08T15:34:47.666Z"
   },
   {
    "duration": 366,
    "start_time": "2024-03-08T15:34:47.723Z"
   },
   {
    "duration": 45,
    "start_time": "2024-03-08T15:34:48.117Z"
   },
   {
    "duration": 55,
    "start_time": "2024-03-08T15:34:48.163Z"
   },
   {
    "duration": 4,
    "start_time": "2024-03-08T15:34:48.220Z"
   },
   {
    "duration": 536,
    "start_time": "2024-03-08T15:34:48.226Z"
   },
   {
    "duration": 12,
    "start_time": "2024-03-08T15:34:48.763Z"
   },
   {
    "duration": 278,
    "start_time": "2024-03-08T15:34:48.776Z"
   },
   {
    "duration": 79,
    "start_time": "2024-03-08T15:34:49.055Z"
   },
   {
    "duration": 13,
    "start_time": "2024-03-08T15:34:49.135Z"
   },
   {
    "duration": 38,
    "start_time": "2024-03-08T15:34:49.149Z"
   },
   {
    "duration": 35882,
    "start_time": "2024-03-08T15:34:49.189Z"
   },
   {
    "duration": 4,
    "start_time": "2024-03-08T15:35:25.072Z"
   },
   {
    "duration": 12,
    "start_time": "2024-03-08T15:35:35.487Z"
   },
   {
    "duration": 4,
    "start_time": "2024-03-08T15:35:40.002Z"
   },
   {
    "duration": 267,
    "start_time": "2024-03-08T15:39:07.883Z"
   },
   {
    "duration": 22,
    "start_time": "2024-03-08T15:39:17.010Z"
   },
   {
    "duration": 13,
    "start_time": "2024-03-08T15:39:26.724Z"
   },
   {
    "duration": 10,
    "start_time": "2024-03-08T15:39:38.559Z"
   },
   {
    "duration": 13,
    "start_time": "2024-03-08T15:40:08.491Z"
   },
   {
    "duration": 7,
    "start_time": "2024-03-08T15:40:15.853Z"
   },
   {
    "duration": 8,
    "start_time": "2024-03-08T15:40:21.511Z"
   },
   {
    "duration": 8,
    "start_time": "2024-03-08T15:40:35.690Z"
   },
   {
    "duration": 9,
    "start_time": "2024-03-08T15:40:47.964Z"
   },
   {
    "duration": 12,
    "start_time": "2024-03-08T15:41:01.703Z"
   },
   {
    "duration": 8,
    "start_time": "2024-03-08T15:41:28.895Z"
   },
   {
    "duration": 9,
    "start_time": "2024-03-08T15:41:33.096Z"
   },
   {
    "duration": 8,
    "start_time": "2024-03-08T15:41:44.890Z"
   },
   {
    "duration": 8,
    "start_time": "2024-03-08T15:41:50.438Z"
   },
   {
    "duration": 13,
    "start_time": "2024-03-08T15:41:59.099Z"
   },
   {
    "duration": 4,
    "start_time": "2024-03-08T15:42:12.546Z"
   },
   {
    "duration": 2434,
    "start_time": "2024-03-08T15:44:28.202Z"
   },
   {
    "duration": 2988,
    "start_time": "2024-03-08T15:44:30.638Z"
   },
   {
    "duration": 8,
    "start_time": "2024-03-08T15:44:33.628Z"
   },
   {
    "duration": 6,
    "start_time": "2024-03-08T15:44:33.638Z"
   },
   {
    "duration": 433,
    "start_time": "2024-03-08T15:44:33.646Z"
   },
   {
    "duration": 108,
    "start_time": "2024-03-08T15:44:34.080Z"
   },
   {
    "duration": 3,
    "start_time": "2024-03-08T15:44:34.189Z"
   },
   {
    "duration": 283,
    "start_time": "2024-03-08T15:44:34.193Z"
   },
   {
    "duration": 270,
    "start_time": "2024-03-08T15:44:34.477Z"
   },
   {
    "duration": 11,
    "start_time": "2024-03-08T15:44:34.748Z"
   },
   {
    "duration": 237,
    "start_time": "2024-03-08T15:44:34.760Z"
   },
   {
    "duration": 102,
    "start_time": "2024-03-08T15:44:34.998Z"
   },
   {
    "duration": 39,
    "start_time": "2024-03-08T15:44:35.102Z"
   },
   {
    "duration": 44,
    "start_time": "2024-03-08T15:44:35.144Z"
   },
   {
    "duration": 70,
    "start_time": "2024-03-08T15:44:35.189Z"
   },
   {
    "duration": 4,
    "start_time": "2024-03-08T15:44:35.261Z"
   },
   {
    "duration": 282,
    "start_time": "2024-03-08T15:44:35.267Z"
   },
   {
    "duration": 38,
    "start_time": "2024-03-08T15:44:35.551Z"
   },
   {
    "duration": 30,
    "start_time": "2024-03-08T15:44:35.591Z"
   },
   {
    "duration": 3,
    "start_time": "2024-03-08T15:44:35.623Z"
   },
   {
    "duration": 431,
    "start_time": "2024-03-08T15:44:35.628Z"
   },
   {
    "duration": 10,
    "start_time": "2024-03-08T15:44:36.061Z"
   },
   {
    "duration": 286,
    "start_time": "2024-03-08T15:44:36.073Z"
   },
   {
    "duration": 73,
    "start_time": "2024-03-08T15:44:36.361Z"
   },
   {
    "duration": 12,
    "start_time": "2024-03-08T15:44:36.435Z"
   },
   {
    "duration": 41,
    "start_time": "2024-03-08T15:44:36.448Z"
   },
   {
    "duration": 865,
    "start_time": "2024-03-08T15:44:36.491Z"
   },
   {
    "duration": 0,
    "start_time": "2024-03-08T15:44:37.357Z"
   },
   {
    "duration": 0,
    "start_time": "2024-03-08T15:44:37.359Z"
   },
   {
    "duration": 0,
    "start_time": "2024-03-08T15:44:37.359Z"
   },
   {
    "duration": 2365,
    "start_time": "2024-03-08T15:47:41.379Z"
   },
   {
    "duration": 13,
    "start_time": "2024-03-08T15:47:43.745Z"
   },
   {
    "duration": 7,
    "start_time": "2024-03-08T15:47:43.760Z"
   },
   {
    "duration": 12,
    "start_time": "2024-03-08T15:47:43.769Z"
   },
   {
    "duration": 489,
    "start_time": "2024-03-08T15:47:43.783Z"
   },
   {
    "duration": 54,
    "start_time": "2024-03-08T15:47:44.273Z"
   },
   {
    "duration": 4,
    "start_time": "2024-03-08T15:47:44.329Z"
   },
   {
    "duration": 315,
    "start_time": "2024-03-08T15:47:44.335Z"
   },
   {
    "duration": 503,
    "start_time": "2024-03-08T15:47:44.651Z"
   },
   {
    "duration": 11,
    "start_time": "2024-03-08T15:47:45.157Z"
   },
   {
    "duration": 296,
    "start_time": "2024-03-08T15:47:45.169Z"
   },
   {
    "duration": 91,
    "start_time": "2024-03-08T15:47:45.467Z"
   },
   {
    "duration": 17,
    "start_time": "2024-03-08T15:47:45.559Z"
   },
   {
    "duration": 68,
    "start_time": "2024-03-08T15:47:45.578Z"
   },
   {
    "duration": 36,
    "start_time": "2024-03-08T15:47:45.648Z"
   },
   {
    "duration": 3,
    "start_time": "2024-03-08T15:47:45.685Z"
   },
   {
    "duration": 296,
    "start_time": "2024-03-08T15:47:45.689Z"
   },
   {
    "duration": 57,
    "start_time": "2024-03-08T15:47:45.986Z"
   },
   {
    "duration": 5,
    "start_time": "2024-03-08T15:47:46.044Z"
   },
   {
    "duration": 16,
    "start_time": "2024-03-08T15:47:46.050Z"
   },
   {
    "duration": 302,
    "start_time": "2024-03-08T15:47:46.067Z"
   },
   {
    "duration": 12,
    "start_time": "2024-03-08T15:47:46.370Z"
   },
   {
    "duration": 263,
    "start_time": "2024-03-08T15:47:46.383Z"
   },
   {
    "duration": 78,
    "start_time": "2024-03-08T15:47:46.647Z"
   },
   {
    "duration": 14,
    "start_time": "2024-03-08T15:47:46.727Z"
   },
   {
    "duration": 38,
    "start_time": "2024-03-08T15:47:46.743Z"
   },
   {
    "duration": 7921,
    "start_time": "2024-03-08T15:47:46.783Z"
   },
   {
    "duration": 0,
    "start_time": "2024-03-08T15:47:54.705Z"
   },
   {
    "duration": 2910,
    "start_time": "2024-03-08T15:48:46.820Z"
   },
   {
    "duration": 7,
    "start_time": "2024-03-08T15:48:49.733Z"
   },
   {
    "duration": 7,
    "start_time": "2024-03-08T15:48:49.742Z"
   },
   {
    "duration": 6,
    "start_time": "2024-03-08T15:48:49.751Z"
   },
   {
    "duration": 419,
    "start_time": "2024-03-08T15:48:49.760Z"
   },
   {
    "duration": 59,
    "start_time": "2024-03-08T15:48:50.181Z"
   },
   {
    "duration": 3,
    "start_time": "2024-03-08T15:48:50.242Z"
   },
   {
    "duration": 300,
    "start_time": "2024-03-08T15:48:50.246Z"
   },
   {
    "duration": 296,
    "start_time": "2024-03-08T15:48:50.548Z"
   },
   {
    "duration": 11,
    "start_time": "2024-03-08T15:48:50.845Z"
   },
   {
    "duration": 262,
    "start_time": "2024-03-08T15:48:50.858Z"
   },
   {
    "duration": 103,
    "start_time": "2024-03-08T15:48:51.122Z"
   },
   {
    "duration": 22,
    "start_time": "2024-03-08T15:48:51.226Z"
   },
   {
    "duration": 87,
    "start_time": "2024-03-08T15:48:51.252Z"
   },
   {
    "duration": 35,
    "start_time": "2024-03-08T15:48:51.341Z"
   },
   {
    "duration": 2,
    "start_time": "2024-03-08T15:48:51.378Z"
   },
   {
    "duration": 303,
    "start_time": "2024-03-08T15:48:51.382Z"
   },
   {
    "duration": 62,
    "start_time": "2024-03-08T15:48:51.687Z"
   },
   {
    "duration": 5,
    "start_time": "2024-03-08T15:48:51.750Z"
   },
   {
    "duration": 9,
    "start_time": "2024-03-08T15:48:51.757Z"
   },
   {
    "duration": 321,
    "start_time": "2024-03-08T15:48:51.767Z"
   },
   {
    "duration": 11,
    "start_time": "2024-03-08T15:48:52.090Z"
   },
   {
    "duration": 600,
    "start_time": "2024-03-08T15:48:52.102Z"
   },
   {
    "duration": 67,
    "start_time": "2024-03-08T15:48:52.704Z"
   },
   {
    "duration": 12,
    "start_time": "2024-03-08T15:48:52.773Z"
   },
   {
    "duration": 66,
    "start_time": "2024-03-08T15:48:52.786Z"
   },
   {
    "duration": 23,
    "start_time": "2024-03-08T15:48:52.854Z"
   },
   {
    "duration": 30,
    "start_time": "2024-03-08T15:50:16.261Z"
   },
   {
    "duration": 3,
    "start_time": "2024-03-08T15:50:40.710Z"
   },
   {
    "duration": 4,
    "start_time": "2024-03-08T15:50:46.124Z"
   },
   {
    "duration": 36864,
    "start_time": "2024-03-08T15:51:03.532Z"
   },
   {
    "duration": 4,
    "start_time": "2024-03-08T15:52:00.788Z"
   },
   {
    "duration": 14,
    "start_time": "2024-03-08T15:56:37.721Z"
   },
   {
    "duration": 8,
    "start_time": "2024-03-08T15:56:45.072Z"
   },
   {
    "duration": 4,
    "start_time": "2024-03-08T15:56:46.148Z"
   },
   {
    "duration": 8,
    "start_time": "2024-03-08T15:56:50.135Z"
   },
   {
    "duration": 8,
    "start_time": "2024-03-08T15:56:54.903Z"
   },
   {
    "duration": 8,
    "start_time": "2024-03-08T15:57:02.955Z"
   },
   {
    "duration": 8,
    "start_time": "2024-03-08T15:57:05.381Z"
   },
   {
    "duration": 8,
    "start_time": "2024-03-08T15:57:08.157Z"
   },
   {
    "duration": 8,
    "start_time": "2024-03-08T15:57:14.367Z"
   },
   {
    "duration": 12,
    "start_time": "2024-03-08T15:57:55.274Z"
   },
   {
    "duration": 12,
    "start_time": "2024-03-08T15:57:56.666Z"
   },
   {
    "duration": 3536,
    "start_time": "2024-03-08T19:51:33.021Z"
   },
   {
    "duration": 4662,
    "start_time": "2024-03-08T19:51:36.559Z"
   },
   {
    "duration": 5,
    "start_time": "2024-03-08T19:51:41.223Z"
   },
   {
    "duration": 19,
    "start_time": "2024-03-08T19:51:41.230Z"
   },
   {
    "duration": 508,
    "start_time": "2024-03-08T19:51:41.251Z"
   },
   {
    "duration": 86,
    "start_time": "2024-03-08T19:51:41.761Z"
   },
   {
    "duration": 3,
    "start_time": "2024-03-08T19:51:41.848Z"
   },
   {
    "duration": 271,
    "start_time": "2024-03-08T19:51:41.852Z"
   },
   {
    "duration": 254,
    "start_time": "2024-03-08T19:51:42.124Z"
   },
   {
    "duration": 15,
    "start_time": "2024-03-08T19:51:42.380Z"
   },
   {
    "duration": 271,
    "start_time": "2024-03-08T19:51:42.396Z"
   },
   {
    "duration": 94,
    "start_time": "2024-03-08T19:51:42.668Z"
   },
   {
    "duration": 33,
    "start_time": "2024-03-08T19:51:42.763Z"
   },
   {
    "duration": 61,
    "start_time": "2024-03-08T19:51:42.797Z"
   },
   {
    "duration": 51,
    "start_time": "2024-03-08T19:51:42.859Z"
   },
   {
    "duration": 4,
    "start_time": "2024-03-08T19:51:42.912Z"
   },
   {
    "duration": 257,
    "start_time": "2024-03-08T19:51:42.918Z"
   },
   {
    "duration": 41,
    "start_time": "2024-03-08T19:51:43.176Z"
   },
   {
    "duration": 4,
    "start_time": "2024-03-08T19:51:44.397Z"
   },
   {
    "duration": 3,
    "start_time": "2024-03-08T19:51:44.885Z"
   },
   {
    "duration": 415,
    "start_time": "2024-03-08T19:51:45.065Z"
   },
   {
    "duration": 11,
    "start_time": "2024-03-08T19:51:45.588Z"
   },
   {
    "duration": 244,
    "start_time": "2024-03-08T19:51:45.735Z"
   },
   {
    "duration": 55,
    "start_time": "2024-03-08T19:51:46.084Z"
   },
   {
    "duration": 13,
    "start_time": "2024-03-08T19:51:46.374Z"
   },
   {
    "duration": 38,
    "start_time": "2024-03-08T19:51:46.539Z"
   },
   {
    "duration": 33487,
    "start_time": "2024-03-08T19:51:47.193Z"
   },
   {
    "duration": 3,
    "start_time": "2024-03-08T19:52:20.682Z"
   },
   {
    "duration": 7,
    "start_time": "2024-03-08T19:52:38.341Z"
   },
   {
    "duration": 11,
    "start_time": "2024-03-08T19:52:40.698Z"
   },
   {
    "duration": 11,
    "start_time": "2024-03-08T19:52:42.768Z"
   },
   {
    "duration": 15,
    "start_time": "2024-03-08T19:52:49.243Z"
   },
   {
    "duration": 12,
    "start_time": "2024-03-08T19:52:50.632Z"
   },
   {
    "duration": 6,
    "start_time": "2024-03-08T19:52:52.073Z"
   },
   {
    "duration": 15032,
    "start_time": "2024-03-08T19:52:54.291Z"
   },
   {
    "duration": 12,
    "start_time": "2024-03-08T19:53:09.325Z"
   },
   {
    "duration": 17,
    "start_time": "2024-03-08T19:53:17.880Z"
   },
   {
    "duration": 28,
    "start_time": "2024-03-08T19:53:18.348Z"
   },
   {
    "duration": 6971,
    "start_time": "2024-03-08T19:55:10.151Z"
   },
   {
    "duration": 4,
    "start_time": "2024-03-08T19:55:17.124Z"
   },
   {
    "duration": 2457,
    "start_time": "2024-03-08T19:55:17.129Z"
   },
   {
    "duration": 3,
    "start_time": "2024-03-08T19:55:19.588Z"
   },
   {
    "duration": 20,
    "start_time": "2024-03-08T19:55:19.593Z"
   },
   {
    "duration": 23,
    "start_time": "2024-03-08T19:55:20.583Z"
   },
   {
    "duration": 3,
    "start_time": "2024-03-08T19:55:30.894Z"
   },
   {
    "duration": 6,
    "start_time": "2024-03-08T19:55:31.667Z"
   },
   {
    "duration": 2,
    "start_time": "2024-03-08T19:55:40.262Z"
   },
   {
    "duration": 3,
    "start_time": "2024-03-08T19:57:05.678Z"
   }
  ],
  "kernelspec": {
   "display_name": "Python 3 (ipykernel)",
   "language": "python",
   "name": "python3"
  },
  "language_info": {
   "codemirror_mode": {
    "name": "ipython",
    "version": 3
   },
   "file_extension": ".py",
   "mimetype": "text/x-python",
   "name": "python",
   "nbconvert_exporter": "python",
   "pygments_lexer": "ipython3",
   "version": "3.9.5"
  },
  "toc": {
   "base_numbering": 1,
   "nav_menu": {},
   "number_sections": true,
   "sideBar": true,
   "skip_h1_title": true,
   "title_cell": "Table of Contents",
   "title_sidebar": "Contents",
   "toc_cell": false,
   "toc_position": {},
   "toc_section_display": true,
   "toc_window_display": false
  }
 },
 "nbformat": 4,
 "nbformat_minor": 5
}
