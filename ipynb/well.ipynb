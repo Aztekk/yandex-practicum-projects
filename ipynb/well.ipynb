{
 "cells": [
  {
   "cell_type": "markdown",
   "metadata": {},
   "source": [
    "# Выбор локации для скважины"
   ]
  },
  {
   "cell_type": "markdown",
   "metadata": {},
   "source": [
    "Добывающей компании «ГлавРосГосНефть» нужно решить, где бурить новую скважину.\n",
    "\n",
    "Предоставлены пробы нефти в трёх регионах: в каждом 10 000 месторождений, где измерили качество нефти и объём её запасов. Необходимо Ппостроить модель машинного обучения, которая поможет определить регион, где добыча принесёт наибольшую прибыль.\n",
    "\n",
    "Шаги для выбора локации:\n",
    "\n",
    "- В избранном регионе ищут месторождения, для каждого определяют значения признаков;\n",
    "- Строят модель и оценивают объём запасов;\n",
    "- Выбирают месторождения с самым высокими оценками значений. Количество месторождений зависит от бюджета компании и стоимости разработки одной скважины;\n",
    "- Прибыль равна суммарной прибыли отобранных месторождений."
   ]
  },
  {
   "cell_type": "markdown",
   "metadata": {},
   "source": [
    "## Импорт библиотек"
   ]
  },
  {
   "cell_type": "code",
   "execution_count": 38,
   "metadata": {},
   "outputs": [],
   "source": [
    "import pandas as pd\n",
    "import numpy as np\n",
    "\n",
    "import pandas as pd\n",
    "import numpy as np\n",
    "import matplotlib.pyplot as plt\n",
    "import seaborn as sns\n",
    "from scipy import stats\n",
    "import phik\n",
    "import plotly.express as px\n",
    "\n",
    "from sklearn.dummy import DummyRegressor\n",
    "from sklearn.model_selection import GridSearchCV, train_test_split\n",
    "from sklearn.preprocessing import StandardScaler\n",
    "from sklearn.impute import SimpleImputer\n",
    "from sklearn.linear_model import LinearRegression\n",
    "from sklearn.metrics import mean_squared_error\n",
    "\n",
    "sns.set(rc={'figure.figsize': (20, 10)})\n",
    "\n",
    "RANDOM_STATE = 42\n",
    "TEST_SIZE = 0.25"
   ]
  },
  {
   "cell_type": "markdown",
   "metadata": {},
   "source": [
    "## Вспомогательные функции"
   ]
  },
  {
   "cell_type": "code",
   "execution_count": 39,
   "metadata": {},
   "outputs": [],
   "source": [
    "def transform_columns_values(df):\n",
    "    '''\n",
    "    Функция приводит значения колонок и значений к единому формату\n",
    "    Заменяет пробелы на _, приводит к нижнему регистру\n",
    "    Проверяет явные дубли и пропущенные значения\n",
    "    '''\n",
    "    df.columns = df.columns.str.replace(' ', '_', regex=True).str.lower()\n",
    "    object_columns = df.select_dtypes('object').columns\n",
    "    df[object_columns] = df.select_dtypes('object').apply(\n",
    "        lambda x: x.str.replace(' ', '_', regex=True).str.lower()\n",
    "    )\n",
    "    # Обработка дублей\n",
    "    print(f'''Дубли в индексах: {df.index.duplicated().sum()}''')\n",
    "    df = df.reset_index().drop_duplicates(subset='id').set_index('id')\n",
    "    print(\n",
    "        f'''Дубли в индексах после обработки: {df.index.duplicated().sum()}'''\n",
    "    )\n",
    "    print(f'''Явных дублей: {df.duplicated().sum()}\\n\\n''')\n",
    "\n",
    "    # Обработка пропущенных значений\n",
    "    print('Пропущенных значений:\\n')\n",
    "    display(\n",
    "        (\n",
    "            pd.DataFrame(\n",
    "                round(df.isna().mean() * 100, 1).sort_values(ascending=False)\n",
    "            ).style.background_gradient('coolwarm')\n",
    "        )\n",
    "    )\n",
    "\n",
    "    display(df.info())\n",
    "    print('\\n')\n",
    "    display(df.describe())\n",
    "    display(df.head())\n",
    "\n",
    "    return df"
   ]
  },
  {
   "cell_type": "code",
   "execution_count": 40,
   "metadata": {},
   "outputs": [],
   "source": [
    "def plot_numeric(df, variable, title, xlabel, bins):\n",
    "    '''Рисует графики распределения количественных переменных'''\n",
    "    f, (ax1, ax2) = plt.subplots(1, 2, figsize=(20, 5))\n",
    "    f.suptitle(title, fontsize=20)\n",
    "    ax1.boxplot(df[variable])\n",
    "    ax1.set_title('Ящик с усами')\n",
    "    ax1.set_xlabel(xlabel)\n",
    "    ax1.set_xticks([])\n",
    "\n",
    "    ax2.hist(df[variable], bins=bins)\n",
    "    ax2.set_title('Гистограмма')\n",
    "    ax2.set_xlabel(xlabel)\n",
    "\n",
    "    plt.show()"
   ]
  },
  {
   "cell_type": "markdown",
   "metadata": {},
   "source": [
    "## Загрузка и подготовка данных"
   ]
  },
  {
   "cell_type": "code",
   "execution_count": 41,
   "metadata": {},
   "outputs": [],
   "source": [
    "geo_0 = pd.read_csv('/datasets/geo_data_0.csv', index_col=0)\n",
    "geo_1 = pd.read_csv('/datasets/geo_data_1.csv', index_col=0)\n",
    "geo_2 = pd.read_csv('/datasets/geo_data_2.csv', index_col=0)"
   ]
  },
  {
   "cell_type": "code",
   "execution_count": 42,
   "metadata": {},
   "outputs": [
    {
     "name": "stdout",
     "output_type": "stream",
     "text": [
      "Дубли в индексах: 10\n",
      "Дубли в индексах после обработки: 0\n",
      "Явных дублей: 0\n",
      "\n",
      "\n",
      "Пропущенных значений:\n",
      "\n"
     ]
    },
    {
     "data": {
      "text/html": [
       "<style  type=\"text/css\" >\n",
       "#T_3579c_row0_col0,#T_3579c_row1_col0,#T_3579c_row2_col0,#T_3579c_row3_col0{\n",
       "            background-color:  #3b4cc0;\n",
       "            color:  #f1f1f1;\n",
       "        }</style><table id=\"T_3579c_\" ><thead>    <tr>        <th class=\"blank level0\" ></th>        <th class=\"col_heading level0 col0\" >0</th>    </tr></thead><tbody>\n",
       "                <tr>\n",
       "                        <th id=\"T_3579c_level0_row0\" class=\"row_heading level0 row0\" >f0</th>\n",
       "                        <td id=\"T_3579c_row0_col0\" class=\"data row0 col0\" >0.000000</td>\n",
       "            </tr>\n",
       "            <tr>\n",
       "                        <th id=\"T_3579c_level0_row1\" class=\"row_heading level0 row1\" >f1</th>\n",
       "                        <td id=\"T_3579c_row1_col0\" class=\"data row1 col0\" >0.000000</td>\n",
       "            </tr>\n",
       "            <tr>\n",
       "                        <th id=\"T_3579c_level0_row2\" class=\"row_heading level0 row2\" >f2</th>\n",
       "                        <td id=\"T_3579c_row2_col0\" class=\"data row2 col0\" >0.000000</td>\n",
       "            </tr>\n",
       "            <tr>\n",
       "                        <th id=\"T_3579c_level0_row3\" class=\"row_heading level0 row3\" >product</th>\n",
       "                        <td id=\"T_3579c_row3_col0\" class=\"data row3 col0\" >0.000000</td>\n",
       "            </tr>\n",
       "    </tbody></table>"
      ],
      "text/plain": [
       "<pandas.io.formats.style.Styler at 0x7fd2b9dfb610>"
      ]
     },
     "metadata": {},
     "output_type": "display_data"
    },
    {
     "name": "stdout",
     "output_type": "stream",
     "text": [
      "<class 'pandas.core.frame.DataFrame'>\n",
      "Index: 99990 entries, txEyH to 1CWhH\n",
      "Data columns (total 4 columns):\n",
      " #   Column   Non-Null Count  Dtype  \n",
      "---  ------   --------------  -----  \n",
      " 0   f0       99990 non-null  float64\n",
      " 1   f1       99990 non-null  float64\n",
      " 2   f2       99990 non-null  float64\n",
      " 3   product  99990 non-null  float64\n",
      "dtypes: float64(4)\n",
      "memory usage: 5.8+ MB\n"
     ]
    },
    {
     "data": {
      "text/plain": [
       "None"
      ]
     },
     "metadata": {},
     "output_type": "display_data"
    },
    {
     "name": "stdout",
     "output_type": "stream",
     "text": [
      "\n",
      "\n"
     ]
    },
    {
     "data": {
      "text/html": [
       "<div>\n",
       "<style scoped>\n",
       "    .dataframe tbody tr th:only-of-type {\n",
       "        vertical-align: middle;\n",
       "    }\n",
       "\n",
       "    .dataframe tbody tr th {\n",
       "        vertical-align: top;\n",
       "    }\n",
       "\n",
       "    .dataframe thead th {\n",
       "        text-align: right;\n",
       "    }\n",
       "</style>\n",
       "<table border=\"1\" class=\"dataframe\">\n",
       "  <thead>\n",
       "    <tr style=\"text-align: right;\">\n",
       "      <th></th>\n",
       "      <th>f0</th>\n",
       "      <th>f1</th>\n",
       "      <th>f2</th>\n",
       "      <th>product</th>\n",
       "    </tr>\n",
       "  </thead>\n",
       "  <tbody>\n",
       "    <tr>\n",
       "      <th>count</th>\n",
       "      <td>99990.000000</td>\n",
       "      <td>99990.000000</td>\n",
       "      <td>99990.000000</td>\n",
       "      <td>99990.000000</td>\n",
       "    </tr>\n",
       "    <tr>\n",
       "      <th>mean</th>\n",
       "      <td>0.500454</td>\n",
       "      <td>0.250141</td>\n",
       "      <td>2.502629</td>\n",
       "      <td>92.499684</td>\n",
       "    </tr>\n",
       "    <tr>\n",
       "      <th>std</th>\n",
       "      <td>0.871844</td>\n",
       "      <td>0.504430</td>\n",
       "      <td>3.248149</td>\n",
       "      <td>44.288304</td>\n",
       "    </tr>\n",
       "    <tr>\n",
       "      <th>min</th>\n",
       "      <td>-1.408605</td>\n",
       "      <td>-0.848218</td>\n",
       "      <td>-12.088328</td>\n",
       "      <td>0.000000</td>\n",
       "    </tr>\n",
       "    <tr>\n",
       "      <th>25%</th>\n",
       "      <td>-0.072572</td>\n",
       "      <td>-0.200877</td>\n",
       "      <td>0.287784</td>\n",
       "      <td>56.497069</td>\n",
       "    </tr>\n",
       "    <tr>\n",
       "      <th>50%</th>\n",
       "      <td>0.502405</td>\n",
       "      <td>0.250252</td>\n",
       "      <td>2.515969</td>\n",
       "      <td>91.847928</td>\n",
       "    </tr>\n",
       "    <tr>\n",
       "      <th>75%</th>\n",
       "      <td>1.073626</td>\n",
       "      <td>0.700640</td>\n",
       "      <td>4.715035</td>\n",
       "      <td>128.563699</td>\n",
       "    </tr>\n",
       "    <tr>\n",
       "      <th>max</th>\n",
       "      <td>2.362331</td>\n",
       "      <td>1.343769</td>\n",
       "      <td>16.003790</td>\n",
       "      <td>185.364347</td>\n",
       "    </tr>\n",
       "  </tbody>\n",
       "</table>\n",
       "</div>"
      ],
      "text/plain": [
       "                 f0            f1            f2       product\n",
       "count  99990.000000  99990.000000  99990.000000  99990.000000\n",
       "mean       0.500454      0.250141      2.502629     92.499684\n",
       "std        0.871844      0.504430      3.248149     44.288304\n",
       "min       -1.408605     -0.848218    -12.088328      0.000000\n",
       "25%       -0.072572     -0.200877      0.287784     56.497069\n",
       "50%        0.502405      0.250252      2.515969     91.847928\n",
       "75%        1.073626      0.700640      4.715035    128.563699\n",
       "max        2.362331      1.343769     16.003790    185.364347"
      ]
     },
     "metadata": {},
     "output_type": "display_data"
    },
    {
     "data": {
      "text/html": [
       "<div>\n",
       "<style scoped>\n",
       "    .dataframe tbody tr th:only-of-type {\n",
       "        vertical-align: middle;\n",
       "    }\n",
       "\n",
       "    .dataframe tbody tr th {\n",
       "        vertical-align: top;\n",
       "    }\n",
       "\n",
       "    .dataframe thead th {\n",
       "        text-align: right;\n",
       "    }\n",
       "</style>\n",
       "<table border=\"1\" class=\"dataframe\">\n",
       "  <thead>\n",
       "    <tr style=\"text-align: right;\">\n",
       "      <th></th>\n",
       "      <th>f0</th>\n",
       "      <th>f1</th>\n",
       "      <th>f2</th>\n",
       "      <th>product</th>\n",
       "    </tr>\n",
       "    <tr>\n",
       "      <th>id</th>\n",
       "      <th></th>\n",
       "      <th></th>\n",
       "      <th></th>\n",
       "      <th></th>\n",
       "    </tr>\n",
       "  </thead>\n",
       "  <tbody>\n",
       "    <tr>\n",
       "      <th>txEyH</th>\n",
       "      <td>0.705745</td>\n",
       "      <td>-0.497823</td>\n",
       "      <td>1.221170</td>\n",
       "      <td>105.280062</td>\n",
       "    </tr>\n",
       "    <tr>\n",
       "      <th>2acmU</th>\n",
       "      <td>1.334711</td>\n",
       "      <td>-0.340164</td>\n",
       "      <td>4.365080</td>\n",
       "      <td>73.037750</td>\n",
       "    </tr>\n",
       "    <tr>\n",
       "      <th>409Wp</th>\n",
       "      <td>1.022732</td>\n",
       "      <td>0.151990</td>\n",
       "      <td>1.419926</td>\n",
       "      <td>85.265647</td>\n",
       "    </tr>\n",
       "    <tr>\n",
       "      <th>iJLyR</th>\n",
       "      <td>-0.032172</td>\n",
       "      <td>0.139033</td>\n",
       "      <td>2.978566</td>\n",
       "      <td>168.620776</td>\n",
       "    </tr>\n",
       "    <tr>\n",
       "      <th>Xdl7t</th>\n",
       "      <td>1.988431</td>\n",
       "      <td>0.155413</td>\n",
       "      <td>4.751769</td>\n",
       "      <td>154.036647</td>\n",
       "    </tr>\n",
       "  </tbody>\n",
       "</table>\n",
       "</div>"
      ],
      "text/plain": [
       "             f0        f1        f2     product\n",
       "id                                             \n",
       "txEyH  0.705745 -0.497823  1.221170  105.280062\n",
       "2acmU  1.334711 -0.340164  4.365080   73.037750\n",
       "409Wp  1.022732  0.151990  1.419926   85.265647\n",
       "iJLyR -0.032172  0.139033  2.978566  168.620776\n",
       "Xdl7t  1.988431  0.155413  4.751769  154.036647"
      ]
     },
     "metadata": {},
     "output_type": "display_data"
    }
   ],
   "source": [
    "geo_0 = transform_columns_values(geo_0)"
   ]
  },
  {
   "cell_type": "code",
   "execution_count": 43,
   "metadata": {
    "scrolled": true
   },
   "outputs": [
    {
     "name": "stdout",
     "output_type": "stream",
     "text": [
      "Дубли в индексах: 4\n",
      "Дубли в индексах после обработки: 0\n",
      "Явных дублей: 0\n",
      "\n",
      "\n",
      "Пропущенных значений:\n",
      "\n"
     ]
    },
    {
     "data": {
      "text/html": [
       "<style  type=\"text/css\" >\n",
       "#T_c4c67_row0_col0,#T_c4c67_row1_col0,#T_c4c67_row2_col0,#T_c4c67_row3_col0{\n",
       "            background-color:  #3b4cc0;\n",
       "            color:  #f1f1f1;\n",
       "        }</style><table id=\"T_c4c67_\" ><thead>    <tr>        <th class=\"blank level0\" ></th>        <th class=\"col_heading level0 col0\" >0</th>    </tr></thead><tbody>\n",
       "                <tr>\n",
       "                        <th id=\"T_c4c67_level0_row0\" class=\"row_heading level0 row0\" >f0</th>\n",
       "                        <td id=\"T_c4c67_row0_col0\" class=\"data row0 col0\" >0.000000</td>\n",
       "            </tr>\n",
       "            <tr>\n",
       "                        <th id=\"T_c4c67_level0_row1\" class=\"row_heading level0 row1\" >f1</th>\n",
       "                        <td id=\"T_c4c67_row1_col0\" class=\"data row1 col0\" >0.000000</td>\n",
       "            </tr>\n",
       "            <tr>\n",
       "                        <th id=\"T_c4c67_level0_row2\" class=\"row_heading level0 row2\" >f2</th>\n",
       "                        <td id=\"T_c4c67_row2_col0\" class=\"data row2 col0\" >0.000000</td>\n",
       "            </tr>\n",
       "            <tr>\n",
       "                        <th id=\"T_c4c67_level0_row3\" class=\"row_heading level0 row3\" >product</th>\n",
       "                        <td id=\"T_c4c67_row3_col0\" class=\"data row3 col0\" >0.000000</td>\n",
       "            </tr>\n",
       "    </tbody></table>"
      ],
      "text/plain": [
       "<pandas.io.formats.style.Styler at 0x7fd2b9dd5d90>"
      ]
     },
     "metadata": {},
     "output_type": "display_data"
    },
    {
     "name": "stdout",
     "output_type": "stream",
     "text": [
      "<class 'pandas.core.frame.DataFrame'>\n",
      "Index: 99996 entries, kBEdx to relB0\n",
      "Data columns (total 4 columns):\n",
      " #   Column   Non-Null Count  Dtype  \n",
      "---  ------   --------------  -----  \n",
      " 0   f0       99996 non-null  float64\n",
      " 1   f1       99996 non-null  float64\n",
      " 2   f2       99996 non-null  float64\n",
      " 3   product  99996 non-null  float64\n",
      "dtypes: float64(4)\n",
      "memory usage: 5.8+ MB\n"
     ]
    },
    {
     "data": {
      "text/plain": [
       "None"
      ]
     },
     "metadata": {},
     "output_type": "display_data"
    },
    {
     "name": "stdout",
     "output_type": "stream",
     "text": [
      "\n",
      "\n"
     ]
    },
    {
     "data": {
      "text/html": [
       "<div>\n",
       "<style scoped>\n",
       "    .dataframe tbody tr th:only-of-type {\n",
       "        vertical-align: middle;\n",
       "    }\n",
       "\n",
       "    .dataframe tbody tr th {\n",
       "        vertical-align: top;\n",
       "    }\n",
       "\n",
       "    .dataframe thead th {\n",
       "        text-align: right;\n",
       "    }\n",
       "</style>\n",
       "<table border=\"1\" class=\"dataframe\">\n",
       "  <thead>\n",
       "    <tr style=\"text-align: right;\">\n",
       "      <th></th>\n",
       "      <th>f0</th>\n",
       "      <th>f1</th>\n",
       "      <th>f2</th>\n",
       "      <th>product</th>\n",
       "    </tr>\n",
       "  </thead>\n",
       "  <tbody>\n",
       "    <tr>\n",
       "      <th>count</th>\n",
       "      <td>99996.000000</td>\n",
       "      <td>99996.000000</td>\n",
       "      <td>99996.000000</td>\n",
       "      <td>99996.000000</td>\n",
       "    </tr>\n",
       "    <tr>\n",
       "      <th>mean</th>\n",
       "      <td>1.141209</td>\n",
       "      <td>-4.796608</td>\n",
       "      <td>2.494501</td>\n",
       "      <td>68.823916</td>\n",
       "    </tr>\n",
       "    <tr>\n",
       "      <th>std</th>\n",
       "      <td>8.965815</td>\n",
       "      <td>5.119906</td>\n",
       "      <td>1.703579</td>\n",
       "      <td>45.944663</td>\n",
       "    </tr>\n",
       "    <tr>\n",
       "      <th>min</th>\n",
       "      <td>-31.609576</td>\n",
       "      <td>-26.358598</td>\n",
       "      <td>-0.018144</td>\n",
       "      <td>0.000000</td>\n",
       "    </tr>\n",
       "    <tr>\n",
       "      <th>25%</th>\n",
       "      <td>-6.298551</td>\n",
       "      <td>-8.267985</td>\n",
       "      <td>1.000021</td>\n",
       "      <td>26.953261</td>\n",
       "    </tr>\n",
       "    <tr>\n",
       "      <th>50%</th>\n",
       "      <td>1.153055</td>\n",
       "      <td>-4.813172</td>\n",
       "      <td>2.011475</td>\n",
       "      <td>57.085625</td>\n",
       "    </tr>\n",
       "    <tr>\n",
       "      <th>75%</th>\n",
       "      <td>8.620964</td>\n",
       "      <td>-1.332816</td>\n",
       "      <td>3.999904</td>\n",
       "      <td>107.813044</td>\n",
       "    </tr>\n",
       "    <tr>\n",
       "      <th>max</th>\n",
       "      <td>29.421755</td>\n",
       "      <td>18.734063</td>\n",
       "      <td>5.019721</td>\n",
       "      <td>137.945408</td>\n",
       "    </tr>\n",
       "  </tbody>\n",
       "</table>\n",
       "</div>"
      ],
      "text/plain": [
       "                 f0            f1            f2       product\n",
       "count  99996.000000  99996.000000  99996.000000  99996.000000\n",
       "mean       1.141209     -4.796608      2.494501     68.823916\n",
       "std        8.965815      5.119906      1.703579     45.944663\n",
       "min      -31.609576    -26.358598     -0.018144      0.000000\n",
       "25%       -6.298551     -8.267985      1.000021     26.953261\n",
       "50%        1.153055     -4.813172      2.011475     57.085625\n",
       "75%        8.620964     -1.332816      3.999904    107.813044\n",
       "max       29.421755     18.734063      5.019721    137.945408"
      ]
     },
     "metadata": {},
     "output_type": "display_data"
    },
    {
     "data": {
      "text/html": [
       "<div>\n",
       "<style scoped>\n",
       "    .dataframe tbody tr th:only-of-type {\n",
       "        vertical-align: middle;\n",
       "    }\n",
       "\n",
       "    .dataframe tbody tr th {\n",
       "        vertical-align: top;\n",
       "    }\n",
       "\n",
       "    .dataframe thead th {\n",
       "        text-align: right;\n",
       "    }\n",
       "</style>\n",
       "<table border=\"1\" class=\"dataframe\">\n",
       "  <thead>\n",
       "    <tr style=\"text-align: right;\">\n",
       "      <th></th>\n",
       "      <th>f0</th>\n",
       "      <th>f1</th>\n",
       "      <th>f2</th>\n",
       "      <th>product</th>\n",
       "    </tr>\n",
       "    <tr>\n",
       "      <th>id</th>\n",
       "      <th></th>\n",
       "      <th></th>\n",
       "      <th></th>\n",
       "      <th></th>\n",
       "    </tr>\n",
       "  </thead>\n",
       "  <tbody>\n",
       "    <tr>\n",
       "      <th>kBEdx</th>\n",
       "      <td>-15.001348</td>\n",
       "      <td>-8.276000</td>\n",
       "      <td>-0.005876</td>\n",
       "      <td>3.179103</td>\n",
       "    </tr>\n",
       "    <tr>\n",
       "      <th>62mP7</th>\n",
       "      <td>14.272088</td>\n",
       "      <td>-3.475083</td>\n",
       "      <td>0.999183</td>\n",
       "      <td>26.953261</td>\n",
       "    </tr>\n",
       "    <tr>\n",
       "      <th>vyE1P</th>\n",
       "      <td>6.263187</td>\n",
       "      <td>-5.948386</td>\n",
       "      <td>5.001160</td>\n",
       "      <td>134.766305</td>\n",
       "    </tr>\n",
       "    <tr>\n",
       "      <th>KcrkZ</th>\n",
       "      <td>-13.081196</td>\n",
       "      <td>-11.506057</td>\n",
       "      <td>4.999415</td>\n",
       "      <td>137.945408</td>\n",
       "    </tr>\n",
       "    <tr>\n",
       "      <th>AHL4O</th>\n",
       "      <td>12.702195</td>\n",
       "      <td>-8.147433</td>\n",
       "      <td>5.004363</td>\n",
       "      <td>134.766305</td>\n",
       "    </tr>\n",
       "  </tbody>\n",
       "</table>\n",
       "</div>"
      ],
      "text/plain": [
       "              f0         f1        f2     product\n",
       "id                                               \n",
       "kBEdx -15.001348  -8.276000 -0.005876    3.179103\n",
       "62mP7  14.272088  -3.475083  0.999183   26.953261\n",
       "vyE1P   6.263187  -5.948386  5.001160  134.766305\n",
       "KcrkZ -13.081196 -11.506057  4.999415  137.945408\n",
       "AHL4O  12.702195  -8.147433  5.004363  134.766305"
      ]
     },
     "metadata": {},
     "output_type": "display_data"
    }
   ],
   "source": [
    "geo_1 = transform_columns_values(geo_1)"
   ]
  },
  {
   "cell_type": "code",
   "execution_count": 44,
   "metadata": {},
   "outputs": [
    {
     "name": "stdout",
     "output_type": "stream",
     "text": [
      "Дубли в индексах: 4\n",
      "Дубли в индексах после обработки: 0\n",
      "Явных дублей: 0\n",
      "\n",
      "\n",
      "Пропущенных значений:\n",
      "\n"
     ]
    },
    {
     "data": {
      "text/html": [
       "<style  type=\"text/css\" >\n",
       "#T_f50c8_row0_col0,#T_f50c8_row1_col0,#T_f50c8_row2_col0,#T_f50c8_row3_col0{\n",
       "            background-color:  #3b4cc0;\n",
       "            color:  #f1f1f1;\n",
       "        }</style><table id=\"T_f50c8_\" ><thead>    <tr>        <th class=\"blank level0\" ></th>        <th class=\"col_heading level0 col0\" >0</th>    </tr></thead><tbody>\n",
       "                <tr>\n",
       "                        <th id=\"T_f50c8_level0_row0\" class=\"row_heading level0 row0\" >f0</th>\n",
       "                        <td id=\"T_f50c8_row0_col0\" class=\"data row0 col0\" >0.000000</td>\n",
       "            </tr>\n",
       "            <tr>\n",
       "                        <th id=\"T_f50c8_level0_row1\" class=\"row_heading level0 row1\" >f1</th>\n",
       "                        <td id=\"T_f50c8_row1_col0\" class=\"data row1 col0\" >0.000000</td>\n",
       "            </tr>\n",
       "            <tr>\n",
       "                        <th id=\"T_f50c8_level0_row2\" class=\"row_heading level0 row2\" >f2</th>\n",
       "                        <td id=\"T_f50c8_row2_col0\" class=\"data row2 col0\" >0.000000</td>\n",
       "            </tr>\n",
       "            <tr>\n",
       "                        <th id=\"T_f50c8_level0_row3\" class=\"row_heading level0 row3\" >product</th>\n",
       "                        <td id=\"T_f50c8_row3_col0\" class=\"data row3 col0\" >0.000000</td>\n",
       "            </tr>\n",
       "    </tbody></table>"
      ],
      "text/plain": [
       "<pandas.io.formats.style.Styler at 0x7fd2b9dd5190>"
      ]
     },
     "metadata": {},
     "output_type": "display_data"
    },
    {
     "name": "stdout",
     "output_type": "stream",
     "text": [
      "<class 'pandas.core.frame.DataFrame'>\n",
      "Index: 99996 entries, fwXo0 to V9kWn\n",
      "Data columns (total 4 columns):\n",
      " #   Column   Non-Null Count  Dtype  \n",
      "---  ------   --------------  -----  \n",
      " 0   f0       99996 non-null  float64\n",
      " 1   f1       99996 non-null  float64\n",
      " 2   f2       99996 non-null  float64\n",
      " 3   product  99996 non-null  float64\n",
      "dtypes: float64(4)\n",
      "memory usage: 5.8+ MB\n"
     ]
    },
    {
     "data": {
      "text/plain": [
       "None"
      ]
     },
     "metadata": {},
     "output_type": "display_data"
    },
    {
     "name": "stdout",
     "output_type": "stream",
     "text": [
      "\n",
      "\n"
     ]
    },
    {
     "data": {
      "text/html": [
       "<div>\n",
       "<style scoped>\n",
       "    .dataframe tbody tr th:only-of-type {\n",
       "        vertical-align: middle;\n",
       "    }\n",
       "\n",
       "    .dataframe tbody tr th {\n",
       "        vertical-align: top;\n",
       "    }\n",
       "\n",
       "    .dataframe thead th {\n",
       "        text-align: right;\n",
       "    }\n",
       "</style>\n",
       "<table border=\"1\" class=\"dataframe\">\n",
       "  <thead>\n",
       "    <tr style=\"text-align: right;\">\n",
       "      <th></th>\n",
       "      <th>f0</th>\n",
       "      <th>f1</th>\n",
       "      <th>f2</th>\n",
       "      <th>product</th>\n",
       "    </tr>\n",
       "  </thead>\n",
       "  <tbody>\n",
       "    <tr>\n",
       "      <th>count</th>\n",
       "      <td>99996.000000</td>\n",
       "      <td>99996.000000</td>\n",
       "      <td>99996.000000</td>\n",
       "      <td>99996.000000</td>\n",
       "    </tr>\n",
       "    <tr>\n",
       "      <th>mean</th>\n",
       "      <td>0.002002</td>\n",
       "      <td>-0.002159</td>\n",
       "      <td>2.495084</td>\n",
       "      <td>94.998342</td>\n",
       "    </tr>\n",
       "    <tr>\n",
       "      <th>std</th>\n",
       "      <td>1.732052</td>\n",
       "      <td>1.730397</td>\n",
       "      <td>3.473482</td>\n",
       "      <td>44.749573</td>\n",
       "    </tr>\n",
       "    <tr>\n",
       "      <th>min</th>\n",
       "      <td>-8.760004</td>\n",
       "      <td>-7.084020</td>\n",
       "      <td>-11.970335</td>\n",
       "      <td>0.000000</td>\n",
       "    </tr>\n",
       "    <tr>\n",
       "      <th>25%</th>\n",
       "      <td>-1.162328</td>\n",
       "      <td>-1.174841</td>\n",
       "      <td>0.130269</td>\n",
       "      <td>59.450028</td>\n",
       "    </tr>\n",
       "    <tr>\n",
       "      <th>50%</th>\n",
       "      <td>0.009424</td>\n",
       "      <td>-0.009661</td>\n",
       "      <td>2.484236</td>\n",
       "      <td>94.925026</td>\n",
       "    </tr>\n",
       "    <tr>\n",
       "      <th>75%</th>\n",
       "      <td>1.158477</td>\n",
       "      <td>1.163523</td>\n",
       "      <td>4.858720</td>\n",
       "      <td>130.586815</td>\n",
       "    </tr>\n",
       "    <tr>\n",
       "      <th>max</th>\n",
       "      <td>7.238262</td>\n",
       "      <td>7.844801</td>\n",
       "      <td>16.739402</td>\n",
       "      <td>190.029838</td>\n",
       "    </tr>\n",
       "  </tbody>\n",
       "</table>\n",
       "</div>"
      ],
      "text/plain": [
       "                 f0            f1            f2       product\n",
       "count  99996.000000  99996.000000  99996.000000  99996.000000\n",
       "mean       0.002002     -0.002159      2.495084     94.998342\n",
       "std        1.732052      1.730397      3.473482     44.749573\n",
       "min       -8.760004     -7.084020    -11.970335      0.000000\n",
       "25%       -1.162328     -1.174841      0.130269     59.450028\n",
       "50%        0.009424     -0.009661      2.484236     94.925026\n",
       "75%        1.158477      1.163523      4.858720    130.586815\n",
       "max        7.238262      7.844801     16.739402    190.029838"
      ]
     },
     "metadata": {},
     "output_type": "display_data"
    },
    {
     "data": {
      "text/html": [
       "<div>\n",
       "<style scoped>\n",
       "    .dataframe tbody tr th:only-of-type {\n",
       "        vertical-align: middle;\n",
       "    }\n",
       "\n",
       "    .dataframe tbody tr th {\n",
       "        vertical-align: top;\n",
       "    }\n",
       "\n",
       "    .dataframe thead th {\n",
       "        text-align: right;\n",
       "    }\n",
       "</style>\n",
       "<table border=\"1\" class=\"dataframe\">\n",
       "  <thead>\n",
       "    <tr style=\"text-align: right;\">\n",
       "      <th></th>\n",
       "      <th>f0</th>\n",
       "      <th>f1</th>\n",
       "      <th>f2</th>\n",
       "      <th>product</th>\n",
       "    </tr>\n",
       "    <tr>\n",
       "      <th>id</th>\n",
       "      <th></th>\n",
       "      <th></th>\n",
       "      <th></th>\n",
       "      <th></th>\n",
       "    </tr>\n",
       "  </thead>\n",
       "  <tbody>\n",
       "    <tr>\n",
       "      <th>fwXo0</th>\n",
       "      <td>-1.146987</td>\n",
       "      <td>0.963328</td>\n",
       "      <td>-0.828965</td>\n",
       "      <td>27.758673</td>\n",
       "    </tr>\n",
       "    <tr>\n",
       "      <th>WJtFt</th>\n",
       "      <td>0.262778</td>\n",
       "      <td>0.269839</td>\n",
       "      <td>-2.530187</td>\n",
       "      <td>56.069697</td>\n",
       "    </tr>\n",
       "    <tr>\n",
       "      <th>ovLUW</th>\n",
       "      <td>0.194587</td>\n",
       "      <td>0.289035</td>\n",
       "      <td>-5.586433</td>\n",
       "      <td>62.871910</td>\n",
       "    </tr>\n",
       "    <tr>\n",
       "      <th>q6cA6</th>\n",
       "      <td>2.236060</td>\n",
       "      <td>-0.553760</td>\n",
       "      <td>0.930038</td>\n",
       "      <td>114.572842</td>\n",
       "    </tr>\n",
       "    <tr>\n",
       "      <th>WPMUX</th>\n",
       "      <td>-0.515993</td>\n",
       "      <td>1.716266</td>\n",
       "      <td>5.899011</td>\n",
       "      <td>149.600746</td>\n",
       "    </tr>\n",
       "  </tbody>\n",
       "</table>\n",
       "</div>"
      ],
      "text/plain": [
       "             f0        f1        f2     product\n",
       "id                                             \n",
       "fwXo0 -1.146987  0.963328 -0.828965   27.758673\n",
       "WJtFt  0.262778  0.269839 -2.530187   56.069697\n",
       "ovLUW  0.194587  0.289035 -5.586433   62.871910\n",
       "q6cA6  2.236060 -0.553760  0.930038  114.572842\n",
       "WPMUX -0.515993  1.716266  5.899011  149.600746"
      ]
     },
     "metadata": {},
     "output_type": "display_data"
    }
   ],
   "source": [
    "geo_2 = transform_columns_values(geo_2)"
   ]
  },
  {
   "cell_type": "markdown",
   "metadata": {},
   "source": [
    "## Исследовательский анализ данных"
   ]
  },
  {
   "cell_type": "markdown",
   "metadata": {},
   "source": [
    "### geo_0"
   ]
  },
  {
   "cell_type": "markdown",
   "metadata": {},
   "source": [
    "##### Распределения и выбросы"
   ]
  },
  {
   "cell_type": "markdown",
   "metadata": {},
   "source": [
    "Проверим непрерывные переменные на предмет выбросов с помощью вычисления z-значения."
   ]
  },
  {
   "cell_type": "code",
   "execution_count": 45,
   "metadata": {},
   "outputs": [
    {
     "data": {
      "image/png": "[encoded data removed]",
      "text/plain": [
       "<Figure size 2000x500 with 2 Axes>"
      ]
     },
     "metadata": {},
     "output_type": "display_data"
    },
    {
     "data": {
      "image/png": "[encoded data removed]",
      "text/plain": [
       "<Figure size 2000x500 with 2 Axes>"
      ]
     },
     "metadata": {},
     "output_type": "display_data"
    },
    {
     "data": {
      "image/png": "[encoded data removed]",
      "text/plain": [
       "<Figure size 2000x500 with 2 Axes>"
      ]
     },
     "metadata": {},
     "output_type": "display_data"
    },
    {
     "data": {
      "image/png": "[encoded data removed]",
      "text/plain": [
       "<Figure size 2000x500 with 2 Axes>"
      ]
     },
     "metadata": {},
     "output_type": "display_data"
    }
   ],
   "source": [
    "for column in ['f0', 'f1', 'f2', 'product']:\n",
    "    plot_numeric(geo_0, column, f'Распределение {column} в geo_0', column, 20)"
   ]
  },
  {
   "cell_type": "code",
   "execution_count": 46,
   "metadata": {},
   "outputs": [
    {
     "name": "stdout",
     "output_type": "stream",
     "text": [
      "Аномальных значений f0 в регионе geo_0: 0\n",
      "Аномальных значений f1 в регионе geo_0: 0\n",
      "Аномальных значений f2 в регионе geo_0: 178\n",
      "Аномальных значений product в регионе geo_0: 0\n"
     ]
    }
   ],
   "source": [
    "# Аномальные значения в регионе geo_0\n",
    "for column in ['f0', 'f1', 'f2', 'product']:\n",
    "    anomal = geo_0[np.abs(stats.zscore(geo_0[column])) >= 3]\n",
    "    print(f'''Аномальных значений {column} в регионе geo_0: {len(anomal)}''')\n",
    "    anomal.head()"
   ]
  },
  {
   "cell_type": "markdown",
   "metadata": {},
   "source": [
    "Переменные f0 и f1 распределены ненормально - они имеют по 3 пика. Переменная f2 распределена нормально, но имеет выбросы. Мы не можем быть уверены, что выбросы нужно удалять, потому что нам неизвестен смысл переменной."
   ]
  },
  {
   "cell_type": "markdown",
   "metadata": {},
   "source": [
    "#### Корреляционный анализ"
   ]
  },
  {
   "cell_type": "code",
   "execution_count": 47,
   "metadata": {
    "scrolled": true
   },
   "outputs": [
    {
     "data": {
      "image/png": "[encoded data removed]",
      "text/plain": [
       "<Figure size 2000x1000 with 2 Axes>"
      ]
     },
     "metadata": {},
     "output_type": "display_data"
    }
   ],
   "source": [
    "plt.figure(figsize=(20, 10))\n",
    "sns.heatmap(\n",
    "    geo_0.phik_matrix(interval_cols=['f0', 'f1', 'f2', 'product']),\n",
    "    cmap='coolwarm',\n",
    "    center=0,\n",
    "    annot=True,\n",
    "    linewidths=2,\n",
    "    linecolor='black',\n",
    ")"
   ]
  },
  {
   "cell_type": "markdown",
   "metadata": {},
   "source": [
    "f0 и f1 имеют достаточно высокую корреляцию, но недостаточно высокую, чтобы отбросить одну из них"
   ]
  },
  {
   "cell_type": "markdown",
   "metadata": {},
   "source": [
    "### geo_1"
   ]
  },
  {
   "cell_type": "markdown",
   "metadata": {},
   "source": [
    "#### Распределения и выбросы"
   ]
  },
  {
   "cell_type": "code",
   "execution_count": 48,
   "metadata": {},
   "outputs": [
    {
     "data": {
      "image/png": "[encoded data removed]",
      "text/plain": [
       "<Figure size 2000x500 with 2 Axes>"
      ]
     },
     "metadata": {},
     "output_type": "display_data"
    },
    {
     "data": {
      "image/png": "[encoded data removed]",
      "text/plain": [
       "<Figure size 2000x500 with 2 Axes>"
      ]
     },
     "metadata": {},
     "output_type": "display_data"
    },
    {
     "data": {
      "image/png": "[encoded data removed]",
      "text/plain": [
       "<Figure size 2000x500 with 2 Axes>"
      ]
     },
     "metadata": {},
     "output_type": "display_data"
    },
    {
     "data": {
      "image/png": "[encoded data removed]",
      "text/plain": [
       "<Figure size 2000x500 with 2 Axes>"
      ]
     },
     "metadata": {},
     "output_type": "display_data"
    }
   ],
   "source": [
    "for column in ['f0', 'f1', 'f2', 'product']:\n",
    "    plot_numeric(geo_1, column, f'Распределение {column} в geo_1', column, 20)"
   ]
  },
  {
   "cell_type": "code",
   "execution_count": 49,
   "metadata": {},
   "outputs": [
    {
     "name": "stdout",
     "output_type": "stream",
     "text": [
      "Аномальных значений f0 в регионе geo_1: 7\n",
      "Аномальных значений f1 в регионе geo_1: 262\n",
      "Аномальных значений f2 в регионе geo_1: 0\n"
     ]
    }
   ],
   "source": [
    "# Аномальные значения в регионе geo_1\n",
    "for column in ['f0', 'f1', 'f2']:\n",
    "    anomal = geo_1[np.abs(stats.zscore(geo_1[column])) >= 3]\n",
    "    print(f'''Аномальных значений {column} в регионе geo_1: {len(anomal)}''')\n",
    "    anomal.head()"
   ]
  },
  {
   "cell_type": "markdown",
   "metadata": {},
   "source": [
    "Распределения в geo_1 еще более необычные, чем в geo_0. f1 распределен нормально с некоторым количеством выбросов, что очень похоже на распределение f2 в geo_0. Возможно, это один и тот же показатель."
   ]
  },
  {
   "cell_type": "markdown",
   "metadata": {},
   "source": [
    "#### Корреляционный анализ"
   ]
  },
  {
   "cell_type": "code",
   "execution_count": 50,
   "metadata": {},
   "outputs": [
    {
     "data": {
      "image/png": "[encoded data removed]",
      "text/plain": [
       "<Figure size 2000x1000 with 2 Axes>"
      ]
     },
     "metadata": {},
     "output_type": "display_data"
    }
   ],
   "source": [
    "plt.figure(figsize=(20, 10))\n",
    "sns.heatmap(\n",
    "    geo_1.phik_matrix(interval_cols=['f0', 'f1', 'f2', 'product']),\n",
    "    cmap='coolwarm',\n",
    "    center=0,\n",
    "    annot=True,\n",
    "    linewidths=2,\n",
    "    linecolor='black',\n",
    ")"
   ]
  },
  {
   "cell_type": "markdown",
   "metadata": {},
   "source": [
    "f2 почти идентичен целевой переменной. Возможно, лишь одного него будет достаточно, чтобы построить хорошую модель. Это предстоит проверить."
   ]
  },
  {
   "cell_type": "markdown",
   "metadata": {},
   "source": [
    "### geo_2"
   ]
  },
  {
   "cell_type": "markdown",
   "metadata": {},
   "source": [
    "#### Распределения и выбросы"
   ]
  },
  {
   "cell_type": "code",
   "execution_count": 51,
   "metadata": {},
   "outputs": [
    {
     "data": {
      "image/png": "[encoded data removed]",
      "text/plain": [
       "<Figure size 2000x500 with 2 Axes>"
      ]
     },
     "metadata": {},
     "output_type": "display_data"
    },
    {
     "data": {
      "image/png": "[encoded data removed]",
      "text/plain": [
       "<Figure size 2000x500 with 2 Axes>"
      ]
     },
     "metadata": {},
     "output_type": "display_data"
    },
    {
     "data": {
      "image/png": "[encoded data removed]",
      "text/plain": [
       "<Figure size 2000x500 with 2 Axes>"
      ]
     },
     "metadata": {},
     "output_type": "display_data"
    },
    {
     "data": {
      "image/png": "[encoded data removed]",
      "text/plain": [
       "<Figure size 2000x500 with 2 Axes>"
      ]
     },
     "metadata": {},
     "output_type": "display_data"
    }
   ],
   "source": [
    "for column in ['f0', 'f1', 'f2', 'product']:\n",
    "    plot_numeric(geo_2, column, f'Распределение {column} в geo_2', column, 20)"
   ]
  },
  {
   "cell_type": "code",
   "execution_count": 52,
   "metadata": {},
   "outputs": [
    {
     "name": "stdout",
     "output_type": "stream",
     "text": [
      "Аномальных значений f0 в регионе geo_02: 266\n",
      "Аномальных значений f1 в регионе geo_02: 281\n",
      "Аномальных значений f2 в регионе geo_02: 200\n"
     ]
    }
   ],
   "source": [
    "# Аномальные значения в регионе geo_2\n",
    "for column in ['f0', 'f1', 'f2']:\n",
    "    anomal = geo_2[np.abs(stats.zscore(geo_2[column])) >= 3]\n",
    "    print(f'''Аномальных значений {column} в регионе geo_02: {len(anomal)}''')\n",
    "    anomal.head()"
   ]
  },
  {
   "cell_type": "markdown",
   "metadata": {},
   "source": [
    "В geo_2 все независимые переменные распределены нормально и имеют выбросы."
   ]
  },
  {
   "cell_type": "markdown",
   "metadata": {},
   "source": [
    "#### Корреляционный анализ"
   ]
  },
  {
   "cell_type": "code",
   "execution_count": 53,
   "metadata": {},
   "outputs": [
    {
     "data": {
      "image/png": "[encoded data removed]",
      "text/plain": [
       "<Figure size 2000x1000 with 2 Axes>"
      ]
     },
     "metadata": {},
     "output_type": "display_data"
    }
   ],
   "source": [
    "plt.figure(figsize=(20, 10))\n",
    "sns.heatmap(\n",
    "    geo_2.phik_matrix(interval_cols=['f0', 'f1', 'f2', 'product']),\n",
    "    cmap='coolwarm',\n",
    "    center=0,\n",
    "    annot=True,\n",
    "    linewidths=2,\n",
    "    linecolor='black',\n",
    ")"
   ]
  },
  {
   "cell_type": "markdown",
   "metadata": {},
   "source": [
    "Данные в трех регионах сильно различаются. Нам нужно будет обучить три разных модели по одной для каждого региона."
   ]
  },
  {
   "cell_type": "markdown",
   "metadata": {},
   "source": [
    "## Обучение и проверка модели\n",
    "\n",
    "Для всех моделей нам нужен идентичный порядок действий. Будет удобно описать функцию, которую мы будем применять для всех датасетов."
   ]
  },
  {
   "cell_type": "code",
   "execution_count": 54,
   "metadata": {},
   "outputs": [],
   "source": [
    "def oil_linear_model(df):\n",
    "    '''\n",
    "    Обучает модель делает предсказания.\n",
    "    Печатает RMSE на тренировочной и тестовой выборках.\n",
    "    Возвращает обученную модель и предсказания по валидационной выборке.\n",
    "    '''\n",
    "    X = df.drop('product', axis=1)\n",
    "    y = df['product']\n",
    "\n",
    "    X_train, X_val, y_train, y_val = train_test_split(\n",
    "        X, y, test_size=TEST_SIZE, random_state=RANDOM_STATE\n",
    "    )\n",
    "    scaler = StandardScaler()\n",
    "\n",
    "    # Стандартизация train\n",
    "    X_train_scaled = scaler.fit_transform(X_train)\n",
    "    X_train = pd.DataFrame(\n",
    "        X_train_scaled, columns=X_train.columns, index=X_train.index\n",
    "    )\n",
    "\n",
    "    # Стандартизация test\n",
    "\n",
    "    X_val_scaled = scaler.transform(X_val)\n",
    "    X_val = pd.DataFrame(\n",
    "        X_val_scaled, columns=X_val.columns, index=X_val.index\n",
    "    )\n",
    "\n",
    "    # Обучение модели\n",
    "    linear = LinearRegression()\n",
    "    linear.fit(X_train, y_train)\n",
    "\n",
    "    predict_train = linear.predict(X_train)\n",
    "\n",
    "    # Собираем полную выборку\n",
    "    predict_total = linear.predict(X)\n",
    "    total_df = X.merge(y, left_index=True, right_index=True)\n",
    "    total_df['product_predicted'] = predict_total\n",
    "\n",
    "    # Собираем валидационную выборку\n",
    "\n",
    "    predict_val = linear.predict(X_val)\n",
    "    val_df = X_val.merge(y_val, left_index=True, right_index=True)\n",
    "    val_df['product_predicted'] = predict_val\n",
    "\n",
    "    # RMSE на тренировочной выборке\n",
    "    train_score = np.sqrt(mean_squared_error(y_train, predict_train))\n",
    "    # RMSE на тестовой выборке\n",
    "    val_score = np.sqrt(mean_squared_error(y_val, predict_val))\n",
    "\n",
    "    print(f'''RMSE на тренировочной выборке: {train_score}''')\n",
    "    print(f'''RMSE на валидационной выборке: {val_score}''')\n",
    "    print(f'''Средний запас предсказанного сырья: {predict_total.mean()}''')\n",
    "\n",
    "    return linear, total_df, val_df"
   ]
  },
  {
   "cell_type": "markdown",
   "metadata": {},
   "source": [
    "### geo_0"
   ]
  },
  {
   "cell_type": "code",
   "execution_count": 55,
   "metadata": {},
   "outputs": [
    {
     "name": "stdout",
     "output_type": "stream",
     "text": [
      "RMSE на тренировочной выборке: 37.69478548062988\n",
      "RMSE на валидационной выборке: 37.68508926201444\n",
      "Средний запас предсказанного сырья: 145.99905031814467\n"
     ]
    }
   ],
   "source": [
    "linear_0, geo_0, geo_0_pred = oil_linear_model(geo_0)"
   ]
  },
  {
   "cell_type": "markdown",
   "metadata": {},
   "source": [
    "### geo_1"
   ]
  },
  {
   "cell_type": "code",
   "execution_count": 56,
   "metadata": {},
   "outputs": [
    {
     "name": "stdout",
     "output_type": "stream",
     "text": [
      "RMSE на тренировочной выборке: 0.8895714959041909\n",
      "RMSE на валидационной выборке: 0.8928265978121422\n",
      "Средний запас предсказанного сырья: 182.47465854043904\n"
     ]
    }
   ],
   "source": [
    "linear_1, geo_1, geo_1_pred = oil_linear_model(geo_1)"
   ]
  },
  {
   "cell_type": "markdown",
   "metadata": {},
   "source": [
    "### geo_2"
   ]
  },
  {
   "cell_type": "code",
   "execution_count": 57,
   "metadata": {},
   "outputs": [
    {
     "name": "stdout",
     "output_type": "stream",
     "text": [
      "RMSE на тренировочной выборке: 40.046602415967584\n",
      "RMSE на валидационной выборке: 40.080822438088305\n",
      "Средний запас предсказанного сырья: 144.88480057520331\n"
     ]
    }
   ],
   "source": [
    "linear_2, geo_2, geo_2_pred = oil_linear_model(geo_2)"
   ]
  },
  {
   "cell_type": "markdown",
   "metadata": {},
   "source": [
    "### Промежуточный вывод"
   ]
  },
  {
   "cell_type": "markdown",
   "metadata": {},
   "source": [
    "- Лучше всех показал себя датасет geo_1, поскольку там присутствовала переменная, практически совпадающая с целевой. Если мы предполагаем, что можно раздобыть аналогичные данные в регионах geo_0 и geo_2, у нас получатся отличные прогнозы и по ним тоже.\n",
    "- Можно увидеть, что чем меньше RMSE, тем больше объем предсказанного сырья."
   ]
  },
  {
   "cell_type": "markdown",
   "metadata": {},
   "source": [
    "## Подготовка к расчёту прибыли"
   ]
  },
  {
   "cell_type": "code",
   "execution_count": 58,
   "metadata": {},
   "outputs": [
    {
     "name": "stdout",
     "output_type": "stream",
     "text": [
      "Объем безубыточного производства: 112\n"
     ]
    }
   ],
   "source": [
    "# Прибыль с единицы продукта\n",
    "BARREL_REVENUE = 450\n",
    "PRODUCT_REVENUE = BARREL_REVENUE * 1000\n",
    "\n",
    "# Стоимость разработки двухсот лучших скважин\n",
    "OIL_WELL_COST = 10_000_000_000\n",
    "TOP_WELLS_AMOUNT = 200\n",
    "\n",
    "# Граница вероятности убыточности\n",
    "THRESHOLD = 0.025\n",
    "\n",
    "# Безубыточный средний объем среди двухсот скважин\n",
    "NON_LOSS_PRODUCT_AMOUNT = OIL_WELL_COST / PRODUCT_REVENUE\n",
    "TOP_200_WELLS_AMOUNT = round(NON_LOSS_PRODUCT_AMOUNT / TOP_WELLS_AMOUNT) + 1\n",
    "print(f'Объем безубыточного производства: {TOP_200_WELLS_AMOUNT}')"
   ]
  },
  {
   "cell_type": "code",
   "execution_count": 59,
   "metadata": {},
   "outputs": [
    {
     "name": "stdout",
     "output_type": "stream",
     "text": [
      "Средний объем в регионе geo_0: 92.49968421774354\n",
      "Отличается от целевого на: -19.500315782256465\n",
      "\n",
      "Средний объем в регионе geo_1: 68.82391591804064\n",
      "Отличается от целевого на: -43.17608408195936\n",
      "\n",
      "Средний объем в регионе geo_2: 94.99834211933378\n",
      "Отличается от целевого на: -17.001657880666215\n",
      "\n"
     ]
    }
   ],
   "source": [
    "geo_num = 0\n",
    "for geo in [geo_0, geo_1, geo_2]:\n",
    "    geo_mean = geo['product'].mean()\n",
    "    print(f'Средний объем в регионе geo_{geo_num}: {geo_mean}')\n",
    "    print(f'Отличается от целевого на: {geo_mean - top_200_wells_amount}\\n')\n",
    "    geo_num += 1"
   ]
  },
  {
   "cell_type": "markdown",
   "metadata": {},
   "source": [
    "### Промежуточный вывод\n",
    "\n",
    "Средний объем сырья в каждом регионе меньше целевого, поэтому нам нужно тщательно отобрать 200 точек, которые мы будем рекомендовать к разработке."
   ]
  },
  {
   "cell_type": "markdown",
   "metadata": {},
   "source": [
    "## Расчёт прибыли и рисков "
   ]
  },
  {
   "cell_type": "code",
   "execution_count": 60,
   "metadata": {},
   "outputs": [],
   "source": [
    "def profit_calc(df, top_amount, product_revenue, oil_well_cost):\n",
    "    '''\n",
    "    Функция для расчета прибыли в регионе.\n",
    "    df - датасет с объемом сырья\n",
    "    top_amount - сколько скважин хотим посчитать\n",
    "    product_revenue - доход с единицы продукта\n",
    "    oil_well_cost - стоимость разработки в регионе\n",
    "    '''\n",
    "    top_200_pred = df.sort_values('product_predicted', ascending=False).iloc[\n",
    "        :top_amount\n",
    "    ]\n",
    "    top_200_product = top_200_pred['product'].sum()\n",
    "    return top_200_product * product_revenue - oil_well_cost"
   ]
  },
  {
   "cell_type": "code",
   "execution_count": 61,
   "metadata": {},
   "outputs": [
    {
     "name": "stdout",
     "output_type": "stream",
     "text": [
      "Прогнозируемая прибыль с лучших 200 скважин в регионе geo_0: 2948960411.773096\n",
      "Прогнозируемая прибыль с лучших 200 скважин в регионе geo_1: 2415086696.681511\n",
      "Прогнозируемая прибыль с лучших 200 скважин в регионе geo_2: 2583659790.712284\n"
     ]
    }
   ],
   "source": [
    "geo_num = 0\n",
    "for geo in [geo_0, geo_1, geo_2]:\n",
    "    profit = profit_calc(geo, 200, PRODUCT_REVENUE, OIL_WELL_COST)\n",
    "    print(\n",
    "        f'Прогнозируемая прибыль с лучших 200 скважин в регионе geo_{geo_num}: {profit}'\n",
    "    )\n",
    "    geo_num += 1"
   ]
  },
  {
   "cell_type": "markdown",
   "metadata": {},
   "source": [
    "### Прибыли и риски для каждого региона"
   ]
  },
  {
   "cell_type": "code",
   "execution_count": 66,
   "metadata": {},
   "outputs": [],
   "source": [
    "state = np.random.RandomState(RANDOM_STATE)\n",
    "\n",
    "\n",
    "def estimated_profit(df, geo_num):\n",
    "    bootstrap_values = []\n",
    "    for i in range(1000):\n",
    "        subsample = df.sample(500, replace=True, random_state=state)\n",
    "        bootstrap_values.append(\n",
    "            profit_calc(subsample, 200, PRODUCT_REVENUE, OIL_WELL_COST)\n",
    "        )\n",
    "    bootstrap_values = pd.Series(bootstrap_values)\n",
    "\n",
    "    # Расчет метрик\n",
    "    average_profit = round(bootstrap_values.mean())\n",
    "    quant_high = round(np.quantile(bootstrap_values, 0.975))\n",
    "    quant_low = round(np.quantile(bootstrap_values, 0.025))\n",
    "\n",
    "    # Вывод\n",
    "    print(f'geo_{geo_num}')\n",
    "    print(f'Средняя ожидаемая прибыль в регионе:      {average_profit}')\n",
    "    print(f'Минимальная ожидаемая прибыль в регионе:  {quant_low}')\n",
    "    print(f'Максимальная ожидаемая прибыль в регионе: {quant_high}\\n')"
   ]
  },
  {
   "cell_type": "code",
   "execution_count": 68,
   "metadata": {},
   "outputs": [
    {
     "name": "stdout",
     "output_type": "stream",
     "text": [
      "geo_0\n",
      "Средняя ожидаемая прибыль в регионе:      418755929\n",
      "Минимальная ожидаемая прибыль в регионе:  -64013593\n",
      "Максимальная ожидаемая прибыль в регионе: 898298106\n",
      "\n",
      "geo_1\n",
      "Средняя ожидаемая прибыль в регионе:      432886180\n",
      "Минимальная ожидаемая прибыль в регионе:  17497718\n",
      "Максимальная ожидаемая прибыль в регионе: 830225618\n",
      "\n",
      "geo_2\n",
      "Средняя ожидаемая прибыль в регионе:      366703212\n",
      "Минимальная ожидаемая прибыль в регионе:  -120332584\n",
      "Максимальная ожидаемая прибыль в регионе: 872509639\n",
      "\n"
     ]
    }
   ],
   "source": [
    "geo_num = 0\n",
    "for geo in [geo_0_pred, geo_1_pred, geo_2_pred]:\n",
    "    estimated_profit(geo, geo_num)\n",
    "    geo_num += 1"
   ]
  },
  {
   "cell_type": "markdown",
   "metadata": {},
   "source": [
    "### Промежуточный вывод\n",
    "\n",
    "Стоит начать разработку в регионе geo_1, поскольку именно в нём самая высокая средняя оценка прибыли, а также минимальная ожидаемая оценка тоже не убыточна, в отличии от двух других регионов."
   ]
  },
  {
   "cell_type": "markdown",
   "metadata": {},
   "source": [
    "## Общий вывод"
   ]
  },
  {
   "cell_type": "markdown",
   "metadata": {},
   "source": [
    "**Перед нами стояла задача:**\n",
    "\n",
    "Определить регион, где стоит начать разработку новых месторождений.\n",
    "\n",
    "**Что мы сделали:**\n",
    "\n",
    "<ol>\n",
    "    <li>\n",
    "        Проверили данные на предмет пропущенных значений и дубликатов:\n",
    "        <ul>\n",
    "            <li>Пропущенных значений не было обнаружено</li>\n",
    "            <li>Некоторые скважины попали в датасет несколько раз. Мы удалили их, чтобы не навредить будущей модели</li>\n",
    "        </ul>\n",
    "    </li>\n",
    "    <li>\n",
    "        Провели исследовательский анализ данных:\n",
    "        <ul>\n",
    "            <li>Обнаружили выбросы, но оставили их. Решение об удалении следовало бы принять со специалистом со стороны бизнеса</li>\n",
    "            <li>Визуально оценили распределения данных. В разных регионах были зашифрованы разные признаки</li>\n",
    "            <li>В регионе geo_1 обнаружили признак, очень похожий на зависимую переменную</li>\n",
    "        </ul>\n",
    "    </li>\n",
    "    <li>\n",
    "        Провели корреляционный анализ:\n",
    "        <ul>\n",
    "            <li>Мультиколлинеартности не было обнаружено</li>\n",
    "            <li>В регионе geo_1 действительно обнаружился признак, почти полностью объясняющий целевую переменную</li>\n",
    "        </ul>\n",
    "    </li>\n",
    "    <li>\n",
    "        Обучили три модели машинного обучения - по подной для каждого региона\n",
    "    </li>\n",
    "    <li>\n",
    "        Создали функцию расчета ожидаемой прибыли\n",
    "    </li>\n",
    "    <li>\n",
    "        С помощью техники *bootstrap* смоделировали ситуацию разработки новых месторождений в регионе и оценили возможную прибыль\n",
    "    </li>\n",
    "    <li>\n",
    "        Выбрали лучший регион для разработки\n",
    "    </li>\n",
    "</ol>\n",
    "\n",
    "**Рекомендации для бизнеса:**\n",
    "<ul>\n",
    "    <li>\n",
    "        Начать разработку в регионе *geo_1*, несмотря на то, что средняя прибыль двухсот уже разработанных вышек кажется ниже, чем в регионах *geo_0* и *geo_2*\n",
    "    </li>\n",
    "    <li>\n",
    "        Обеспечить данные из других регионов признаком *f2* региона *geo_1*. Он почти полностью объясняет целевую переменную. Возможно, картина вновь изменится, если мы будем обладать им на всех трех датасетах\n",
    "    </li>\n",
    "</ul>"
   ]
  }
 ],
 "metadata": {
  "ExecuteTimeLog": [
   {
    "duration": 377,
    "start_time": "2023-11-24T17:35:31.237Z"
   },
   {
    "duration": 772,
    "start_time": "2023-11-24T17:36:03.533Z"
   },
   {
    "duration": 17,
    "start_time": "2023-11-24T17:36:09.768Z"
   },
   {
    "duration": 448,
    "start_time": "2023-11-24T17:36:32.574Z"
   },
   {
    "duration": 10,
    "start_time": "2023-11-24T17:36:33.566Z"
   },
   {
    "duration": 0,
    "start_time": "2023-11-27T07:37:16.576Z"
   },
   {
    "duration": 0,
    "start_time": "2023-11-27T07:37:16.577Z"
   },
   {
    "duration": 0,
    "start_time": "2023-11-27T07:37:16.577Z"
   },
   {
    "duration": 0,
    "start_time": "2023-11-27T07:37:16.582Z"
   },
   {
    "duration": 9,
    "start_time": "2023-11-27T07:37:31.458Z"
   },
   {
    "duration": 256,
    "start_time": "2023-11-27T07:37:39.426Z"
   },
   {
    "duration": 5,
    "start_time": "2023-11-27T07:37:43.678Z"
   },
   {
    "duration": 783,
    "start_time": "2023-11-27T07:37:46.461Z"
   },
   {
    "duration": 276,
    "start_time": "2023-11-27T07:37:52.739Z"
   },
   {
    "duration": 13,
    "start_time": "2023-11-27T07:38:26.586Z"
   },
   {
    "duration": 179,
    "start_time": "2023-11-27T07:38:31.643Z"
   },
   {
    "duration": 10,
    "start_time": "2023-11-27T07:38:57.672Z"
   },
   {
    "duration": 6,
    "start_time": "2023-11-27T07:40:19.758Z"
   },
   {
    "duration": 4,
    "start_time": "2023-11-27T07:40:42.032Z"
   },
   {
    "duration": 109,
    "start_time": "2023-11-27T07:41:46.932Z"
   },
   {
    "duration": 93,
    "start_time": "2023-11-27T07:41:48.588Z"
   },
   {
    "duration": 9,
    "start_time": "2023-11-27T07:42:02.642Z"
   },
   {
    "duration": 3,
    "start_time": "2023-11-27T07:43:34.319Z"
   },
   {
    "duration": 3,
    "start_time": "2023-11-27T07:47:40.818Z"
   },
   {
    "duration": 3,
    "start_time": "2023-11-27T07:48:04.832Z"
   },
   {
    "duration": 3,
    "start_time": "2023-11-27T07:48:05.795Z"
   },
   {
    "duration": 2,
    "start_time": "2023-11-27T07:48:21.523Z"
   },
   {
    "duration": 1205,
    "start_time": "2023-11-27T07:48:30.753Z"
   },
   {
    "duration": 6066,
    "start_time": "2023-11-27T07:49:19.800Z"
   },
   {
    "duration": 5,
    "start_time": "2023-11-27T07:49:27.016Z"
   },
   {
    "duration": 5,
    "start_time": "2023-11-27T07:49:27.854Z"
   },
   {
    "duration": 438,
    "start_time": "2023-11-27T07:49:28.459Z"
   },
   {
    "duration": 13,
    "start_time": "2023-11-27T07:49:28.898Z"
   },
   {
    "duration": 174,
    "start_time": "2023-11-27T07:49:29.021Z"
   },
   {
    "duration": 5,
    "start_time": "2023-11-27T07:49:30.193Z"
   },
   {
    "duration": 131,
    "start_time": "2023-11-27T07:49:30.572Z"
   },
   {
    "duration": 3,
    "start_time": "2023-11-27T07:49:31.012Z"
   },
   {
    "duration": 3,
    "start_time": "2023-11-27T07:49:31.412Z"
   },
   {
    "duration": 2,
    "start_time": "2023-11-27T07:49:31.942Z"
   },
   {
    "duration": 1517,
    "start_time": "2023-11-27T07:49:32.482Z"
   },
   {
    "duration": 9,
    "start_time": "2023-11-27T07:52:24.385Z"
   },
   {
    "duration": 3,
    "start_time": "2023-11-27T07:52:38.490Z"
   },
   {
    "duration": 94,
    "start_time": "2023-11-27T07:53:14.685Z"
   },
   {
    "duration": 3,
    "start_time": "2023-11-27T07:53:14.935Z"
   },
   {
    "duration": 3,
    "start_time": "2023-11-27T07:53:15.316Z"
   },
   {
    "duration": 2,
    "start_time": "2023-11-27T07:53:15.853Z"
   },
   {
    "duration": 3,
    "start_time": "2023-11-27T07:53:16.918Z"
   },
   {
    "duration": 3,
    "start_time": "2023-11-27T07:53:22.547Z"
   },
   {
    "duration": 3366,
    "start_time": "2023-11-27T07:53:23.425Z"
   },
   {
    "duration": 9,
    "start_time": "2023-11-27T07:53:37.981Z"
   },
   {
    "duration": 9,
    "start_time": "2023-11-27T07:54:19.747Z"
   },
   {
    "duration": 5,
    "start_time": "2023-11-27T07:54:24.607Z"
   },
   {
    "duration": 74,
    "start_time": "2023-11-27T07:54:42.633Z"
   },
   {
    "duration": 2,
    "start_time": "2023-11-27T07:54:42.854Z"
   },
   {
    "duration": 3,
    "start_time": "2023-11-27T07:54:43.214Z"
   },
   {
    "duration": 3,
    "start_time": "2023-11-27T07:54:43.725Z"
   },
   {
    "duration": 2,
    "start_time": "2023-11-27T07:54:44.264Z"
   },
   {
    "duration": 2,
    "start_time": "2023-11-27T07:54:44.742Z"
   },
   {
    "duration": 3234,
    "start_time": "2023-11-27T07:54:45.353Z"
   },
   {
    "duration": 8,
    "start_time": "2023-11-27T07:55:48.873Z"
   },
   {
    "duration": 75,
    "start_time": "2023-11-27T07:55:53.288Z"
   },
   {
    "duration": 5,
    "start_time": "2023-11-27T07:55:55.890Z"
   },
   {
    "duration": 4,
    "start_time": "2023-11-27T07:55:58.217Z"
   },
   {
    "duration": 7,
    "start_time": "2023-11-27T07:56:11.705Z"
   },
   {
    "duration": 88,
    "start_time": "2023-11-27T07:56:12.114Z"
   },
   {
    "duration": 3,
    "start_time": "2023-11-27T07:56:12.529Z"
   },
   {
    "duration": 2,
    "start_time": "2023-11-27T07:56:13.194Z"
   },
   {
    "duration": 3,
    "start_time": "2023-11-27T07:56:13.918Z"
   },
   {
    "duration": 3,
    "start_time": "2023-11-27T07:56:14.640Z"
   },
   {
    "duration": 3,
    "start_time": "2023-11-27T07:56:15.233Z"
   },
   {
    "duration": 1221,
    "start_time": "2023-11-27T07:56:15.779Z"
   },
   {
    "duration": 8,
    "start_time": "2023-11-27T07:57:24.746Z"
   },
   {
    "duration": 4,
    "start_time": "2023-11-27T07:57:40.760Z"
   },
   {
    "duration": 10,
    "start_time": "2023-11-27T07:57:59.983Z"
   },
   {
    "duration": 27,
    "start_time": "2023-11-27T07:58:09.866Z"
   },
   {
    "duration": 15,
    "start_time": "2023-11-27T08:00:01.211Z"
   },
   {
    "duration": 12,
    "start_time": "2023-11-27T08:00:42.887Z"
   },
   {
    "duration": 7,
    "start_time": "2023-11-27T08:00:52.826Z"
   },
   {
    "duration": 9,
    "start_time": "2023-11-27T08:00:58.334Z"
   },
   {
    "duration": 6,
    "start_time": "2023-11-27T08:01:55.865Z"
   },
   {
    "duration": 8,
    "start_time": "2023-11-27T08:02:10.236Z"
   },
   {
    "duration": 13,
    "start_time": "2023-11-27T08:02:13.822Z"
   },
   {
    "duration": 3,
    "start_time": "2023-11-27T08:02:30.202Z"
   },
   {
    "duration": 3,
    "start_time": "2023-11-27T08:02:45.671Z"
   },
   {
    "duration": 17,
    "start_time": "2023-11-27T08:02:55.220Z"
   },
   {
    "duration": 6,
    "start_time": "2023-11-27T08:03:27.676Z"
   },
   {
    "duration": 3,
    "start_time": "2023-11-27T08:03:28.257Z"
   },
   {
    "duration": 2,
    "start_time": "2023-11-27T08:03:29.873Z"
   },
   {
    "duration": 18,
    "start_time": "2023-11-27T08:03:30.164Z"
   },
   {
    "duration": 5,
    "start_time": "2023-11-27T08:03:56.097Z"
   },
   {
    "duration": 8,
    "start_time": "2023-11-27T08:03:57.812Z"
   },
   {
    "duration": 8,
    "start_time": "2023-11-27T08:04:06.845Z"
   },
   {
    "duration": 3,
    "start_time": "2023-11-27T08:05:04.607Z"
   },
   {
    "duration": 3,
    "start_time": "2023-11-27T08:05:46.008Z"
   },
   {
    "duration": 2,
    "start_time": "2023-11-27T08:05:57.709Z"
   },
   {
    "duration": 3196,
    "start_time": "2023-11-27T08:06:04.416Z"
   },
   {
    "duration": 3,
    "start_time": "2023-11-27T08:06:18.544Z"
   },
   {
    "duration": 3,
    "start_time": "2023-11-27T08:06:48.967Z"
   },
   {
    "duration": 1084,
    "start_time": "2023-11-27T08:06:49.874Z"
   },
   {
    "duration": 76,
    "start_time": "2023-11-27T08:09:30.299Z"
   },
   {
    "duration": 128,
    "start_time": "2023-11-27T08:09:33.517Z"
   },
   {
    "duration": 3,
    "start_time": "2023-11-27T11:06:28.286Z"
   },
   {
    "duration": 8,
    "start_time": "2023-11-27T11:06:29.503Z"
   },
   {
    "duration": 8,
    "start_time": "2023-11-27T11:06:40.592Z"
   },
   {
    "duration": 231,
    "start_time": "2023-11-27T11:08:47.556Z"
   },
   {
    "duration": 4,
    "start_time": "2023-11-27T11:09:32.643Z"
   },
   {
    "duration": 33,
    "start_time": "2023-11-27T11:09:33.929Z"
   },
   {
    "duration": 75,
    "start_time": "2023-11-27T11:09:35.865Z"
   },
   {
    "duration": 2,
    "start_time": "2023-11-27T11:10:53.170Z"
   },
   {
    "duration": 2,
    "start_time": "2023-11-27T11:11:36.865Z"
   },
   {
    "duration": 4,
    "start_time": "2023-11-27T11:11:54.792Z"
   },
   {
    "duration": 3,
    "start_time": "2023-11-27T11:11:59.645Z"
   },
   {
    "duration": 3,
    "start_time": "2023-11-27T11:12:12.062Z"
   },
   {
    "duration": 3,
    "start_time": "2023-11-27T11:12:16.896Z"
   },
   {
    "duration": 3,
    "start_time": "2023-11-27T11:12:17.099Z"
   },
   {
    "duration": 21,
    "start_time": "2023-11-27T11:12:17.632Z"
   },
   {
    "duration": 315,
    "start_time": "2023-11-27T11:12:27.921Z"
   },
   {
    "duration": 96,
    "start_time": "2023-11-27T11:13:02.271Z"
   },
   {
    "duration": 88,
    "start_time": "2023-11-27T11:13:21.976Z"
   },
   {
    "duration": 4,
    "start_time": "2023-11-27T11:13:32.611Z"
   },
   {
    "duration": 2,
    "start_time": "2023-11-27T11:13:33.975Z"
   },
   {
    "duration": 385,
    "start_time": "2023-11-27T11:13:34.411Z"
   },
   {
    "duration": 6670,
    "start_time": "2023-11-29T12:25:23.481Z"
   },
   {
    "duration": 1447,
    "start_time": "2023-11-29T12:25:30.153Z"
   },
   {
    "duration": 5,
    "start_time": "2023-11-29T12:25:31.602Z"
   },
   {
    "duration": 1730,
    "start_time": "2023-11-29T12:25:31.615Z"
   },
   {
    "duration": 309,
    "start_time": "2023-11-29T12:25:33.346Z"
   },
   {
    "duration": 2982,
    "start_time": "2023-11-30T06:31:33.989Z"
   },
   {
    "duration": 7,
    "start_time": "2023-11-30T06:31:36.973Z"
   },
   {
    "duration": 21,
    "start_time": "2023-11-30T06:31:36.981Z"
   },
   {
    "duration": 475,
    "start_time": "2023-11-30T06:31:37.004Z"
   },
   {
    "duration": 281,
    "start_time": "2023-11-30T06:31:37.480Z"
   },
   {
    "duration": 11,
    "start_time": "2023-11-30T06:32:04.727Z"
   },
   {
    "duration": 121,
    "start_time": "2023-11-30T06:32:58.309Z"
   },
   {
    "duration": 14,
    "start_time": "2023-11-30T06:33:06.131Z"
   },
   {
    "duration": 13,
    "start_time": "2023-11-30T06:34:41.040Z"
   },
   {
    "duration": 13,
    "start_time": "2023-11-30T06:35:09.120Z"
   },
   {
    "duration": 13,
    "start_time": "2023-11-30T06:35:22.450Z"
   },
   {
    "duration": 13,
    "start_time": "2023-11-30T06:35:34.810Z"
   },
   {
    "duration": 4,
    "start_time": "2023-11-30T06:37:35.728Z"
   },
   {
    "duration": 294,
    "start_time": "2023-11-30T06:38:41.968Z"
   },
   {
    "duration": 299,
    "start_time": "2023-11-30T06:38:56.183Z"
   },
   {
    "duration": 248,
    "start_time": "2023-11-30T06:39:08.143Z"
   },
   {
    "duration": 257,
    "start_time": "2023-11-30T06:39:11.790Z"
   },
   {
    "duration": 302,
    "start_time": "2023-11-30T06:39:15.426Z"
   },
   {
    "duration": 267,
    "start_time": "2023-11-30T06:39:28.576Z"
   },
   {
    "duration": 262,
    "start_time": "2023-11-30T06:39:30.622Z"
   },
   {
    "duration": 277,
    "start_time": "2023-11-30T06:39:36.863Z"
   },
   {
    "duration": 963,
    "start_time": "2023-11-30T07:01:13.621Z"
   },
   {
    "duration": 6186,
    "start_time": "2023-11-30T08:28:02.994Z"
   },
   {
    "duration": 15,
    "start_time": "2023-11-30T08:28:17.655Z"
   },
   {
    "duration": 14,
    "start_time": "2023-11-30T08:29:04.250Z"
   },
   {
    "duration": 723,
    "start_time": "2023-11-30T08:29:10.574Z"
   },
   {
    "duration": 1121,
    "start_time": "2023-11-30T08:31:27.299Z"
   },
   {
    "duration": 16,
    "start_time": "2023-11-30T08:31:50.845Z"
   },
   {
    "duration": 664,
    "start_time": "2023-11-30T08:31:59.207Z"
   },
   {
    "duration": 1231,
    "start_time": "2023-11-30T08:32:10.661Z"
   },
   {
    "duration": 15,
    "start_time": "2023-11-30T08:32:42.887Z"
   },
   {
    "duration": 644,
    "start_time": "2023-11-30T08:34:05.812Z"
   },
   {
    "duration": 1147,
    "start_time": "2023-11-30T08:35:20.963Z"
   },
   {
    "duration": 14,
    "start_time": "2023-11-30T08:35:35.531Z"
   },
   {
    "duration": 770,
    "start_time": "2023-11-30T08:36:25.096Z"
   },
   {
    "duration": 4,
    "start_time": "2023-11-30T08:48:43.957Z"
   },
   {
    "duration": 34,
    "start_time": "2023-11-30T08:48:45.128Z"
   },
   {
    "duration": 2,
    "start_time": "2023-11-30T08:48:54.305Z"
   },
   {
    "duration": 18,
    "start_time": "2023-11-30T08:48:58.096Z"
   },
   {
    "duration": 2,
    "start_time": "2023-11-30T08:49:12.640Z"
   },
   {
    "duration": 11,
    "start_time": "2023-11-30T08:49:14.651Z"
   },
   {
    "duration": 9,
    "start_time": "2023-11-30T08:49:25.565Z"
   },
   {
    "duration": 9,
    "start_time": "2023-11-30T08:51:36.518Z"
   },
   {
    "duration": 4,
    "start_time": "2023-11-30T08:56:12.503Z"
   },
   {
    "duration": 12,
    "start_time": "2023-11-30T08:56:14.562Z"
   },
   {
    "duration": 9,
    "start_time": "2023-11-30T08:56:16.298Z"
   },
   {
    "duration": 4,
    "start_time": "2023-11-30T08:56:17.914Z"
   },
   {
    "duration": 108,
    "start_time": "2023-11-30T09:14:29.839Z"
   },
   {
    "duration": 4,
    "start_time": "2023-11-30T09:14:55.346Z"
   },
   {
    "duration": 4,
    "start_time": "2023-11-30T09:15:58.851Z"
   },
   {
    "duration": 31,
    "start_time": "2023-11-30T09:15:59.279Z"
   },
   {
    "duration": 2,
    "start_time": "2023-11-30T09:16:02.002Z"
   },
   {
    "duration": 12,
    "start_time": "2023-11-30T09:16:53.955Z"
   },
   {
    "duration": 10,
    "start_time": "2023-11-30T09:17:18.659Z"
   },
   {
    "duration": 3,
    "start_time": "2023-11-30T09:17:32.637Z"
   },
   {
    "duration": 27,
    "start_time": "2023-11-30T09:18:59.998Z"
   },
   {
    "duration": 13,
    "start_time": "2023-11-30T09:19:08.570Z"
   },
   {
    "duration": 3,
    "start_time": "2023-11-30T09:19:16.758Z"
   },
   {
    "duration": 12,
    "start_time": "2023-11-30T09:19:17.842Z"
   },
   {
    "duration": 6,
    "start_time": "2023-11-30T09:20:23.968Z"
   },
   {
    "duration": 6,
    "start_time": "2023-11-30T09:20:24.914Z"
   },
   {
    "duration": 5317,
    "start_time": "2023-11-30T09:30:15.254Z"
   },
   {
    "duration": 1346,
    "start_time": "2023-11-30T09:30:20.574Z"
   },
   {
    "duration": 6,
    "start_time": "2023-11-30T09:30:21.922Z"
   },
   {
    "duration": 24,
    "start_time": "2023-11-30T09:30:21.929Z"
   },
   {
    "duration": 494,
    "start_time": "2023-11-30T09:30:21.956Z"
   },
   {
    "duration": 320,
    "start_time": "2023-11-30T09:30:22.451Z"
   },
   {
    "duration": 2367,
    "start_time": "2023-11-30T09:30:22.772Z"
   },
   {
    "duration": 16,
    "start_time": "2023-11-30T09:30:25.140Z"
   },
   {
    "duration": 685,
    "start_time": "2023-11-30T09:30:25.158Z"
   },
   {
    "duration": 1154,
    "start_time": "2023-11-30T09:30:25.845Z"
   },
   {
    "duration": 17,
    "start_time": "2023-11-30T09:30:27.000Z"
   },
   {
    "duration": 761,
    "start_time": "2023-11-30T09:30:27.019Z"
   },
   {
    "duration": 1183,
    "start_time": "2023-11-30T09:30:27.781Z"
   },
   {
    "duration": 14,
    "start_time": "2023-11-30T09:30:28.966Z"
   },
   {
    "duration": 674,
    "start_time": "2023-11-30T09:30:28.981Z"
   },
   {
    "duration": 4,
    "start_time": "2023-11-30T09:30:29.657Z"
   },
   {
    "duration": 37,
    "start_time": "2023-11-30T09:30:29.662Z"
   },
   {
    "duration": 24,
    "start_time": "2023-11-30T09:30:29.700Z"
   },
   {
    "duration": 3,
    "start_time": "2023-11-30T09:30:29.725Z"
   },
   {
    "duration": 32,
    "start_time": "2023-11-30T09:30:29.729Z"
   },
   {
    "duration": 57,
    "start_time": "2023-11-30T09:30:29.762Z"
   },
   {
    "duration": 296,
    "start_time": "2023-11-30T09:30:29.821Z"
   },
   {
    "duration": 8,
    "start_time": "2023-11-30T09:30:36.277Z"
   },
   {
    "duration": 9,
    "start_time": "2023-11-30T09:30:41.819Z"
   },
   {
    "duration": 16,
    "start_time": "2023-11-30T09:31:05.271Z"
   },
   {
    "duration": 5,
    "start_time": "2023-11-30T09:36:45.298Z"
   },
   {
    "duration": 99,
    "start_time": "2023-11-30T09:36:59.523Z"
   },
   {
    "duration": 6,
    "start_time": "2023-11-30T09:37:15.398Z"
   },
   {
    "duration": 210,
    "start_time": "2023-11-30T09:37:16.213Z"
   },
   {
    "duration": 6,
    "start_time": "2023-11-30T09:37:40.841Z"
   },
   {
    "duration": 210,
    "start_time": "2023-11-30T09:37:41.514Z"
   },
   {
    "duration": 5,
    "start_time": "2023-11-30T09:38:12.255Z"
   },
   {
    "duration": 210,
    "start_time": "2023-11-30T09:38:20.211Z"
   },
   {
    "duration": 265,
    "start_time": "2023-11-30T09:38:52.051Z"
   },
   {
    "duration": 222,
    "start_time": "2023-11-30T09:39:18.895Z"
   },
   {
    "duration": 5,
    "start_time": "2023-11-30T09:40:58.554Z"
   },
   {
    "duration": 194,
    "start_time": "2023-11-30T09:40:59.126Z"
   },
   {
    "duration": 5,
    "start_time": "2023-11-30T09:41:52.795Z"
   },
   {
    "duration": 192,
    "start_time": "2023-11-30T09:41:53.529Z"
   },
   {
    "duration": 241,
    "start_time": "2023-11-30T09:42:00.374Z"
   },
   {
    "duration": 197,
    "start_time": "2023-11-30T09:42:03.919Z"
   },
   {
    "duration": 5,
    "start_time": "2023-11-30T09:42:39.016Z"
   },
   {
    "duration": 190,
    "start_time": "2023-11-30T09:42:39.633Z"
   },
   {
    "duration": 6,
    "start_time": "2023-11-30T09:44:06.122Z"
   },
   {
    "duration": 43,
    "start_time": "2023-11-30T09:44:06.682Z"
   },
   {
    "duration": 5,
    "start_time": "2023-11-30T09:44:21.662Z"
   },
   {
    "duration": 233,
    "start_time": "2023-11-30T09:44:22.492Z"
   },
   {
    "duration": 9,
    "start_time": "2023-11-30T09:44:38.383Z"
   },
   {
    "duration": 235,
    "start_time": "2023-11-30T09:44:38.983Z"
   },
   {
    "duration": 231,
    "start_time": "2023-11-30T09:44:53.584Z"
   },
   {
    "duration": 206,
    "start_time": "2023-11-30T09:44:58.716Z"
   },
   {
    "duration": 6,
    "start_time": "2023-11-30T09:45:32.437Z"
   },
   {
    "duration": 188,
    "start_time": "2023-11-30T09:45:33.133Z"
   },
   {
    "duration": 219,
    "start_time": "2023-11-30T09:45:34.298Z"
   },
   {
    "duration": 204,
    "start_time": "2023-11-30T09:45:35.219Z"
   },
   {
    "duration": 6,
    "start_time": "2023-11-30T10:01:17.436Z"
   },
   {
    "duration": 261,
    "start_time": "2023-11-30T10:01:18.367Z"
   },
   {
    "duration": 326,
    "start_time": "2023-11-30T10:01:22.800Z"
   },
   {
    "duration": 300,
    "start_time": "2023-11-30T10:01:25.016Z"
   },
   {
    "duration": 6,
    "start_time": "2023-11-30T10:02:35.105Z"
   },
   {
    "duration": 197,
    "start_time": "2023-11-30T10:02:41.632Z"
   },
   {
    "duration": 245,
    "start_time": "2023-11-30T10:02:49.170Z"
   },
   {
    "duration": 160,
    "start_time": "2023-11-30T10:02:54.263Z"
   },
   {
    "duration": 6,
    "start_time": "2023-11-30T10:03:26.264Z"
   },
   {
    "duration": 3,
    "start_time": "2023-11-30T11:22:53.761Z"
   },
   {
    "duration": 3,
    "start_time": "2023-11-30T11:22:56.640Z"
   },
   {
    "duration": 4,
    "start_time": "2023-11-30T11:23:12.002Z"
   },
   {
    "duration": 4,
    "start_time": "2023-11-30T11:23:50.963Z"
   },
   {
    "duration": 3,
    "start_time": "2023-11-30T11:24:56.354Z"
   },
   {
    "duration": 5,
    "start_time": "2023-11-30T11:25:16.640Z"
   },
   {
    "duration": 4,
    "start_time": "2023-11-30T11:25:55.628Z"
   },
   {
    "duration": 12,
    "start_time": "2023-11-30T11:26:22.361Z"
   },
   {
    "duration": 4,
    "start_time": "2023-11-30T11:35:53.802Z"
   },
   {
    "duration": 3,
    "start_time": "2023-11-30T11:35:57.662Z"
   },
   {
    "duration": 4,
    "start_time": "2023-11-30T11:40:55.098Z"
   },
   {
    "duration": 74,
    "start_time": "2023-11-30T11:42:32.153Z"
   },
   {
    "duration": 81,
    "start_time": "2023-11-30T11:42:54.301Z"
   },
   {
    "duration": 7,
    "start_time": "2023-11-30T11:43:01.096Z"
   },
   {
    "duration": 6,
    "start_time": "2023-11-30T11:45:06.304Z"
   },
   {
    "duration": 6,
    "start_time": "2023-11-30T11:45:34.327Z"
   },
   {
    "duration": 7,
    "start_time": "2023-11-30T11:45:51.247Z"
   },
   {
    "duration": 5,
    "start_time": "2023-11-30T11:46:08.055Z"
   },
   {
    "duration": 6,
    "start_time": "2023-11-30T11:49:36.480Z"
   },
   {
    "duration": 237,
    "start_time": "2023-11-30T11:49:37.498Z"
   },
   {
    "duration": 6,
    "start_time": "2023-11-30T11:49:54.665Z"
   },
   {
    "duration": 249,
    "start_time": "2023-11-30T11:49:55.668Z"
   },
   {
    "duration": 5,
    "start_time": "2023-11-30T11:50:47.040Z"
   },
   {
    "duration": 243,
    "start_time": "2023-11-30T11:50:47.872Z"
   },
   {
    "duration": 194,
    "start_time": "2023-11-30T11:50:57.123Z"
   },
   {
    "duration": 262,
    "start_time": "2023-11-30T11:51:03.753Z"
   },
   {
    "duration": 6,
    "start_time": "2023-11-30T11:51:12.271Z"
   },
   {
    "duration": 233,
    "start_time": "2023-11-30T11:51:13.188Z"
   },
   {
    "duration": 211,
    "start_time": "2023-11-30T11:51:14.408Z"
   },
   {
    "duration": 247,
    "start_time": "2023-11-30T11:51:17.275Z"
   },
   {
    "duration": 192,
    "start_time": "2023-11-30T11:51:25.429Z"
   },
   {
    "duration": 211,
    "start_time": "2023-11-30T11:51:26.507Z"
   },
   {
    "duration": 237,
    "start_time": "2023-11-30T11:51:27.786Z"
   },
   {
    "duration": 12,
    "start_time": "2023-11-30T11:51:42.898Z"
   },
   {
    "duration": 7,
    "start_time": "2023-11-30T11:52:07.211Z"
   },
   {
    "duration": 246,
    "start_time": "2023-11-30T11:52:07.770Z"
   },
   {
    "duration": 210,
    "start_time": "2023-11-30T11:52:09.608Z"
   },
   {
    "duration": 249,
    "start_time": "2023-11-30T11:52:10.967Z"
   },
   {
    "duration": 5520,
    "start_time": "2023-11-30T11:52:17.856Z"
   },
   {
    "duration": 1330,
    "start_time": "2023-11-30T11:52:23.378Z"
   },
   {
    "duration": 9,
    "start_time": "2023-11-30T11:52:24.709Z"
   },
   {
    "duration": 12,
    "start_time": "2023-11-30T11:52:24.720Z"
   },
   {
    "duration": 497,
    "start_time": "2023-11-30T11:52:24.733Z"
   },
   {
    "duration": 346,
    "start_time": "2023-11-30T11:52:25.232Z"
   },
   {
    "duration": 1253,
    "start_time": "2023-11-30T11:52:25.580Z"
   },
   {
    "duration": 17,
    "start_time": "2023-11-30T11:52:26.835Z"
   },
   {
    "duration": 672,
    "start_time": "2023-11-30T11:52:26.854Z"
   },
   {
    "duration": 1150,
    "start_time": "2023-11-30T11:52:27.530Z"
   },
   {
    "duration": 13,
    "start_time": "2023-11-30T11:52:28.681Z"
   },
   {
    "duration": 793,
    "start_time": "2023-11-30T11:52:28.696Z"
   },
   {
    "duration": 1166,
    "start_time": "2023-11-30T11:52:29.491Z"
   },
   {
    "duration": 14,
    "start_time": "2023-11-30T11:52:30.659Z"
   },
   {
    "duration": 685,
    "start_time": "2023-11-30T11:52:30.675Z"
   },
   {
    "duration": 6,
    "start_time": "2023-11-30T11:52:31.362Z"
   },
   {
    "duration": 247,
    "start_time": "2023-11-30T11:52:31.369Z"
   },
   {
    "duration": 301,
    "start_time": "2023-11-30T11:52:31.617Z"
   },
   {
    "duration": 299,
    "start_time": "2023-11-30T11:52:31.920Z"
   },
   {
    "duration": 4,
    "start_time": "2023-11-30T11:52:32.221Z"
   },
   {
    "duration": 40,
    "start_time": "2023-11-30T11:52:32.227Z"
   },
   {
    "duration": 19,
    "start_time": "2023-11-30T11:59:32.974Z"
   },
   {
    "duration": 4,
    "start_time": "2023-11-30T12:00:44.621Z"
   },
   {
    "duration": 6,
    "start_time": "2023-11-30T12:00:49.297Z"
   },
   {
    "duration": 6,
    "start_time": "2023-11-30T12:00:55.240Z"
   },
   {
    "duration": 4,
    "start_time": "2023-11-30T12:03:19.842Z"
   },
   {
    "duration": 88,
    "start_time": "2023-11-30T12:04:47.620Z"
   },
   {
    "duration": 74,
    "start_time": "2023-11-30T12:05:47.388Z"
   },
   {
    "duration": 3,
    "start_time": "2023-11-30T12:11:03.933Z"
   },
   {
    "duration": 75,
    "start_time": "2023-11-30T12:11:04.991Z"
   },
   {
    "duration": 73,
    "start_time": "2023-11-30T12:11:32.100Z"
   },
   {
    "duration": 4,
    "start_time": "2023-11-30T12:26:01.798Z"
   },
   {
    "duration": 111,
    "start_time": "2023-11-30T12:26:02.157Z"
   },
   {
    "duration": 73,
    "start_time": "2023-11-30T12:26:15.233Z"
   },
   {
    "duration": 88,
    "start_time": "2023-11-30T13:10:13.104Z"
   },
   {
    "duration": 10,
    "start_time": "2023-11-30T13:10:34.681Z"
   },
   {
    "duration": 6,
    "start_time": "2023-11-30T13:10:38.352Z"
   },
   {
    "duration": 5,
    "start_time": "2023-11-30T13:11:57.349Z"
   },
   {
    "duration": 4,
    "start_time": "2023-11-30T13:11:59.891Z"
   },
   {
    "duration": 106,
    "start_time": "2023-11-30T13:34:56.945Z"
   },
   {
    "duration": 5,
    "start_time": "2023-11-30T13:35:17.082Z"
   },
   {
    "duration": 4,
    "start_time": "2023-11-30T13:35:21.694Z"
   },
   {
    "duration": 6,
    "start_time": "2023-11-30T13:36:19.032Z"
   },
   {
    "duration": 7,
    "start_time": "2023-11-30T13:36:33.803Z"
   },
   {
    "duration": 7,
    "start_time": "2023-11-30T13:36:41.021Z"
   },
   {
    "duration": 4,
    "start_time": "2023-11-30T13:37:11.216Z"
   },
   {
    "duration": 4,
    "start_time": "2023-11-30T13:37:14.092Z"
   },
   {
    "duration": 6,
    "start_time": "2023-11-30T13:37:26.734Z"
   },
   {
    "duration": 5,
    "start_time": "2023-11-30T13:37:27.031Z"
   },
   {
    "duration": 4,
    "start_time": "2023-11-30T13:37:27.339Z"
   },
   {
    "duration": 4,
    "start_time": "2023-11-30T13:37:32.238Z"
   },
   {
    "duration": 6,
    "start_time": "2023-11-30T13:37:48.081Z"
   },
   {
    "duration": 4,
    "start_time": "2023-11-30T13:37:48.416Z"
   },
   {
    "duration": 4,
    "start_time": "2023-11-30T13:37:48.772Z"
   },
   {
    "duration": 7,
    "start_time": "2023-11-30T13:39:05.589Z"
   },
   {
    "duration": 4,
    "start_time": "2023-11-30T13:39:14.290Z"
   },
   {
    "duration": 7,
    "start_time": "2023-11-30T13:39:28.280Z"
   },
   {
    "duration": 4,
    "start_time": "2023-11-30T13:39:28.551Z"
   },
   {
    "duration": 4,
    "start_time": "2023-11-30T13:39:28.981Z"
   },
   {
    "duration": 4,
    "start_time": "2023-11-30T13:39:29.583Z"
   },
   {
    "duration": 8,
    "start_time": "2023-11-30T13:39:31.836Z"
   },
   {
    "duration": 4,
    "start_time": "2023-11-30T13:39:32.038Z"
   },
   {
    "duration": 3,
    "start_time": "2023-11-30T13:39:32.191Z"
   },
   {
    "duration": 4,
    "start_time": "2023-11-30T13:39:32.622Z"
   },
   {
    "duration": 5,
    "start_time": "2023-11-30T13:41:58.105Z"
   },
   {
    "duration": 16,
    "start_time": "2023-11-30T13:42:37.080Z"
   },
   {
    "duration": 4,
    "start_time": "2023-11-30T13:42:41.235Z"
   },
   {
    "duration": 13,
    "start_time": "2023-11-30T13:42:41.455Z"
   },
   {
    "duration": 5,
    "start_time": "2023-11-30T13:43:31.658Z"
   },
   {
    "duration": 10,
    "start_time": "2023-11-30T13:43:31.963Z"
   },
   {
    "duration": 5,
    "start_time": "2023-11-30T13:44:44.871Z"
   },
   {
    "duration": 9,
    "start_time": "2023-11-30T13:44:45.308Z"
   },
   {
    "duration": 5,
    "start_time": "2023-11-30T13:45:10.735Z"
   },
   {
    "duration": 9,
    "start_time": "2023-11-30T13:45:11.643Z"
   },
   {
    "duration": 4,
    "start_time": "2023-11-30T13:45:21.178Z"
   },
   {
    "duration": 4,
    "start_time": "2023-11-30T13:45:47.129Z"
   },
   {
    "duration": 9,
    "start_time": "2023-11-30T13:45:47.509Z"
   },
   {
    "duration": 5,
    "start_time": "2023-11-30T13:46:15.312Z"
   },
   {
    "duration": 9,
    "start_time": "2023-11-30T13:46:15.691Z"
   },
   {
    "duration": 4,
    "start_time": "2023-11-30T13:47:13.213Z"
   },
   {
    "duration": 9,
    "start_time": "2023-11-30T13:47:13.478Z"
   },
   {
    "duration": 5269,
    "start_time": "2023-12-01T16:32:20.024Z"
   },
   {
    "duration": 6,
    "start_time": "2023-12-01T16:32:25.296Z"
   },
   {
    "duration": 16,
    "start_time": "2023-12-01T16:32:25.303Z"
   },
   {
    "duration": 8,
    "start_time": "2023-12-01T16:32:25.321Z"
   },
   {
    "duration": 446,
    "start_time": "2023-12-01T16:32:25.330Z"
   },
   {
    "duration": 278,
    "start_time": "2023-12-01T16:32:25.778Z"
   },
   {
    "duration": 1134,
    "start_time": "2023-12-01T16:32:26.057Z"
   },
   {
    "duration": 22,
    "start_time": "2023-12-01T16:32:27.193Z"
   },
   {
    "duration": 689,
    "start_time": "2023-12-01T16:32:27.216Z"
   },
   {
    "duration": 1142,
    "start_time": "2023-12-01T16:32:27.908Z"
   },
   {
    "duration": 17,
    "start_time": "2023-12-01T16:32:29.052Z"
   },
   {
    "duration": 686,
    "start_time": "2023-12-01T16:32:29.071Z"
   },
   {
    "duration": 1522,
    "start_time": "2023-12-01T16:32:29.759Z"
   },
   {
    "duration": 32,
    "start_time": "2023-12-01T16:32:31.283Z"
   },
   {
    "duration": 639,
    "start_time": "2023-12-01T16:32:31.317Z"
   },
   {
    "duration": 6,
    "start_time": "2023-12-01T16:32:31.958Z"
   },
   {
    "duration": 375,
    "start_time": "2023-12-01T16:32:31.966Z"
   },
   {
    "duration": 0,
    "start_time": "2023-12-01T16:32:32.342Z"
   },
   {
    "duration": 0,
    "start_time": "2023-12-01T16:32:32.343Z"
   },
   {
    "duration": 6,
    "start_time": "2023-12-01T16:32:58.888Z"
   },
   {
    "duration": 245,
    "start_time": "2023-12-01T16:33:00.196Z"
   },
   {
    "duration": 297,
    "start_time": "2023-12-01T16:33:02.128Z"
   },
   {
    "duration": 258,
    "start_time": "2023-12-01T16:33:03.477Z"
   },
   {
    "duration": 4,
    "start_time": "2023-12-01T16:33:32.814Z"
   },
   {
    "duration": 5186,
    "start_time": "2023-12-01T16:33:38.382Z"
   },
   {
    "duration": 1248,
    "start_time": "2023-12-01T16:33:43.570Z"
   },
   {
    "duration": 5,
    "start_time": "2023-12-01T16:33:44.819Z"
   },
   {
    "duration": 12,
    "start_time": "2023-12-01T16:33:44.826Z"
   },
   {
    "duration": 480,
    "start_time": "2023-12-01T16:33:44.839Z"
   },
   {
    "duration": 334,
    "start_time": "2023-12-01T16:33:45.321Z"
   },
   {
    "duration": 1213,
    "start_time": "2023-12-01T16:33:45.656Z"
   },
   {
    "duration": 15,
    "start_time": "2023-12-01T16:33:46.871Z"
   },
   {
    "duration": 668,
    "start_time": "2023-12-01T16:33:46.887Z"
   },
   {
    "duration": 1098,
    "start_time": "2023-12-01T16:33:47.559Z"
   },
   {
    "duration": 15,
    "start_time": "2023-12-01T16:33:48.658Z"
   },
   {
    "duration": 779,
    "start_time": "2023-12-01T16:33:48.675Z"
   },
   {
    "duration": 1160,
    "start_time": "2023-12-01T16:33:49.456Z"
   },
   {
    "duration": 14,
    "start_time": "2023-12-01T16:33:50.618Z"
   },
   {
    "duration": 629,
    "start_time": "2023-12-01T16:33:50.633Z"
   },
   {
    "duration": 6,
    "start_time": "2023-12-01T16:33:51.263Z"
   },
   {
    "duration": 261,
    "start_time": "2023-12-01T16:33:51.271Z"
   },
   {
    "duration": 300,
    "start_time": "2023-12-01T16:33:51.534Z"
   },
   {
    "duration": 290,
    "start_time": "2023-12-01T16:33:51.835Z"
   },
   {
    "duration": 4,
    "start_time": "2023-12-01T16:33:52.127Z"
   },
   {
    "duration": 10,
    "start_time": "2023-12-01T16:33:52.132Z"
   },
   {
    "duration": 4,
    "start_time": "2023-12-01T16:33:52.143Z"
   },
   {
    "duration": 141,
    "start_time": "2023-12-01T16:33:52.148Z"
   },
   {
    "duration": 0,
    "start_time": "2023-12-01T16:33:52.291Z"
   },
   {
    "duration": 0,
    "start_time": "2023-12-01T16:33:52.292Z"
   },
   {
    "duration": 0,
    "start_time": "2023-12-01T16:33:52.293Z"
   },
   {
    "duration": 0,
    "start_time": "2023-12-01T16:33:52.294Z"
   },
   {
    "duration": 10,
    "start_time": "2023-12-01T16:36:50.471Z"
   },
   {
    "duration": 22,
    "start_time": "2023-12-01T16:37:06.752Z"
   },
   {
    "duration": 3,
    "start_time": "2023-12-01T16:39:14.756Z"
   },
   {
    "duration": 21,
    "start_time": "2023-12-01T16:39:15.124Z"
   },
   {
    "duration": 3,
    "start_time": "2023-12-01T16:40:53.481Z"
   },
   {
    "duration": 22,
    "start_time": "2023-12-01T16:40:54.075Z"
   },
   {
    "duration": 6,
    "start_time": "2023-12-01T16:47:41.980Z"
   },
   {
    "duration": 426,
    "start_time": "2023-12-01T16:47:42.544Z"
   },
   {
    "duration": 6,
    "start_time": "2023-12-01T16:50:02.088Z"
   },
   {
    "duration": 5,
    "start_time": "2023-12-01T16:50:02.518Z"
   },
   {
    "duration": 451,
    "start_time": "2023-12-01T16:50:04.668Z"
   },
   {
    "duration": 315,
    "start_time": "2023-12-01T16:50:05.558Z"
   },
   {
    "duration": 6,
    "start_time": "2023-12-01T16:52:04.497Z"
   },
   {
    "duration": 5,
    "start_time": "2023-12-01T16:52:05.452Z"
   },
   {
    "duration": 439,
    "start_time": "2023-12-01T16:52:06.301Z"
   },
   {
    "duration": 86,
    "start_time": "2023-12-01T16:52:06.790Z"
   },
   {
    "duration": 10,
    "start_time": "2023-12-01T16:52:22.050Z"
   },
   {
    "duration": 11,
    "start_time": "2023-12-01T16:52:36.255Z"
   },
   {
    "duration": 5,
    "start_time": "2023-12-01T16:53:40.048Z"
   },
   {
    "duration": 4,
    "start_time": "2023-12-01T16:53:40.733Z"
   },
   {
    "duration": 443,
    "start_time": "2023-12-01T16:53:41.551Z"
   },
   {
    "duration": 482,
    "start_time": "2023-12-01T16:53:41.996Z"
   },
   {
    "duration": 5283,
    "start_time": "2023-12-01T16:54:26.764Z"
   },
   {
    "duration": 6,
    "start_time": "2023-12-01T16:54:32.049Z"
   },
   {
    "duration": 23,
    "start_time": "2023-12-01T16:54:32.056Z"
   },
   {
    "duration": 28,
    "start_time": "2023-12-01T16:54:32.081Z"
   },
   {
    "duration": 474,
    "start_time": "2023-12-01T16:54:32.111Z"
   },
   {
    "duration": 485,
    "start_time": "2023-12-01T16:54:32.587Z"
   },
   {
    "duration": 1249,
    "start_time": "2023-12-01T16:54:33.074Z"
   },
   {
    "duration": 18,
    "start_time": "2023-12-01T16:54:34.325Z"
   },
   {
    "duration": 674,
    "start_time": "2023-12-01T16:54:34.345Z"
   },
   {
    "duration": 1202,
    "start_time": "2023-12-01T16:54:35.021Z"
   },
   {
    "duration": 13,
    "start_time": "2023-12-01T16:54:36.224Z"
   },
   {
    "duration": 644,
    "start_time": "2023-12-01T16:54:36.239Z"
   },
   {
    "duration": 1157,
    "start_time": "2023-12-01T16:54:36.884Z"
   },
   {
    "duration": 13,
    "start_time": "2023-12-01T16:54:38.042Z"
   },
   {
    "duration": 619,
    "start_time": "2023-12-01T16:54:38.178Z"
   },
   {
    "duration": 102,
    "start_time": "2023-12-01T16:54:39.419Z"
   },
   {
    "duration": 487,
    "start_time": "2023-12-01T16:54:41.307Z"
   },
   {
    "duration": 6,
    "start_time": "2023-12-01T16:55:52.040Z"
   },
   {
    "duration": 4,
    "start_time": "2023-12-01T16:55:52.815Z"
   },
   {
    "duration": 416,
    "start_time": "2023-12-01T16:55:54.132Z"
   },
   {
    "duration": 564,
    "start_time": "2023-12-01T16:56:00.553Z"
   },
   {
    "duration": 11,
    "start_time": "2023-12-01T16:56:19.736Z"
   },
   {
    "duration": 4,
    "start_time": "2023-12-01T16:56:20.310Z"
   },
   {
    "duration": 407,
    "start_time": "2023-12-01T16:56:20.936Z"
   },
   {
    "duration": 424,
    "start_time": "2023-12-01T16:56:21.344Z"
   },
   {
    "duration": 1129,
    "start_time": "2023-12-01T16:56:34.975Z"
   },
   {
    "duration": 17,
    "start_time": "2023-12-01T16:56:36.480Z"
   },
   {
    "duration": 645,
    "start_time": "2023-12-01T16:56:39.712Z"
   },
   {
    "duration": 1179,
    "start_time": "2023-12-01T16:56:43.775Z"
   },
   {
    "duration": 14,
    "start_time": "2023-12-01T16:56:45.573Z"
   },
   {
    "duration": 640,
    "start_time": "2023-12-01T16:56:47.516Z"
   },
   {
    "duration": 1147,
    "start_time": "2023-12-01T16:56:50.181Z"
   },
   {
    "duration": 12,
    "start_time": "2023-12-01T16:56:51.815Z"
   },
   {
    "duration": 736,
    "start_time": "2023-12-01T16:57:01.798Z"
   },
   {
    "duration": 7,
    "start_time": "2023-12-01T16:57:04.976Z"
   },
   {
    "duration": 417,
    "start_time": "2023-12-01T16:57:06.212Z"
   },
   {
    "duration": 10,
    "start_time": "2023-12-01T16:57:44.655Z"
   },
   {
    "duration": 14,
    "start_time": "2023-12-01T16:57:52.120Z"
   },
   {
    "duration": 6,
    "start_time": "2023-12-01T16:58:09.252Z"
   },
   {
    "duration": 5,
    "start_time": "2023-12-01T16:58:09.977Z"
   },
   {
    "duration": 439,
    "start_time": "2023-12-01T16:58:10.848Z"
   },
   {
    "duration": 422,
    "start_time": "2023-12-01T16:58:11.829Z"
   },
   {
    "duration": 11,
    "start_time": "2023-12-01T16:58:21.281Z"
   },
   {
    "duration": 14,
    "start_time": "2023-12-01T16:58:33.655Z"
   },
   {
    "duration": 50,
    "start_time": "2023-12-01T16:58:56.316Z"
   },
   {
    "duration": 26,
    "start_time": "2023-12-01T16:59:03.555Z"
   },
   {
    "duration": 29,
    "start_time": "2023-12-01T16:59:22.238Z"
   },
   {
    "duration": 31,
    "start_time": "2023-12-01T16:59:37.695Z"
   },
   {
    "duration": 25,
    "start_time": "2023-12-01T16:59:44.223Z"
   },
   {
    "duration": 15,
    "start_time": "2023-12-01T16:59:48.853Z"
   },
   {
    "duration": 37,
    "start_time": "2023-12-01T16:59:53.733Z"
   },
   {
    "duration": 54,
    "start_time": "2023-12-01T17:00:08.176Z"
   },
   {
    "duration": 47,
    "start_time": "2023-12-01T17:00:10.965Z"
   },
   {
    "duration": 6,
    "start_time": "2023-12-01T17:00:26.348Z"
   },
   {
    "duration": 4,
    "start_time": "2023-12-01T17:00:27.163Z"
   },
   {
    "duration": 446,
    "start_time": "2023-12-01T17:00:28.049Z"
   },
   {
    "duration": 454,
    "start_time": "2023-12-01T17:00:28.561Z"
   },
   {
    "duration": 11,
    "start_time": "2023-12-01T17:00:38.439Z"
   },
   {
    "duration": 14,
    "start_time": "2023-12-01T17:00:48.466Z"
   },
   {
    "duration": 4,
    "start_time": "2023-12-01T17:01:13.941Z"
   },
   {
    "duration": 128,
    "start_time": "2023-12-01T17:01:22.759Z"
   },
   {
    "duration": 144,
    "start_time": "2023-12-01T17:01:30.197Z"
   },
   {
    "duration": 4,
    "start_time": "2023-12-01T17:01:44.291Z"
   },
   {
    "duration": 145,
    "start_time": "2023-12-01T17:02:00.816Z"
   },
   {
    "duration": 5261,
    "start_time": "2023-12-01T17:02:22.474Z"
   },
   {
    "duration": 1301,
    "start_time": "2023-12-01T17:02:27.737Z"
   },
   {
    "duration": 6,
    "start_time": "2023-12-01T17:02:29.042Z"
   },
   {
    "duration": 16,
    "start_time": "2023-12-01T17:02:29.050Z"
   },
   {
    "duration": 469,
    "start_time": "2023-12-01T17:02:29.068Z"
   },
   {
    "duration": 205,
    "start_time": "2023-12-01T17:02:29.539Z"
   },
   {
    "duration": 149,
    "start_time": "2023-12-01T17:02:29.746Z"
   },
   {
    "duration": 152,
    "start_time": "2023-12-01T17:02:29.914Z"
   },
   {
    "duration": 1249,
    "start_time": "2023-12-01T17:02:30.069Z"
   },
   {
    "duration": 17,
    "start_time": "2023-12-01T17:02:31.320Z"
   },
   {
    "duration": 626,
    "start_time": "2023-12-01T17:02:31.339Z"
   },
   {
    "duration": 1104,
    "start_time": "2023-12-01T17:02:31.967Z"
   },
   {
    "duration": 15,
    "start_time": "2023-12-01T17:02:33.073Z"
   },
   {
    "duration": 758,
    "start_time": "2023-12-01T17:02:33.090Z"
   },
   {
    "duration": 1202,
    "start_time": "2023-12-01T17:02:33.850Z"
   },
   {
    "duration": 15,
    "start_time": "2023-12-01T17:02:35.054Z"
   },
   {
    "duration": 648,
    "start_time": "2023-12-01T17:02:35.071Z"
   },
   {
    "duration": 6,
    "start_time": "2023-12-01T17:02:35.721Z"
   },
   {
    "duration": 303,
    "start_time": "2023-12-01T17:02:35.729Z"
   },
   {
    "duration": 412,
    "start_time": "2023-12-01T17:02:36.034Z"
   },
   {
    "duration": 0,
    "start_time": "2023-12-01T17:02:36.448Z"
   },
   {
    "duration": 0,
    "start_time": "2023-12-01T17:02:36.449Z"
   },
   {
    "duration": 0,
    "start_time": "2023-12-01T17:02:36.451Z"
   },
   {
    "duration": 0,
    "start_time": "2023-12-01T17:02:36.452Z"
   },
   {
    "duration": 0,
    "start_time": "2023-12-01T17:02:36.453Z"
   },
   {
    "duration": 0,
    "start_time": "2023-12-01T17:02:36.454Z"
   },
   {
    "duration": 0,
    "start_time": "2023-12-01T17:02:36.455Z"
   },
   {
    "duration": 0,
    "start_time": "2023-12-01T17:02:36.456Z"
   },
   {
    "duration": 0,
    "start_time": "2023-12-01T17:02:36.457Z"
   },
   {
    "duration": 223,
    "start_time": "2023-12-01T17:02:52.407Z"
   },
   {
    "duration": 306,
    "start_time": "2023-12-01T17:02:57.523Z"
   },
   {
    "duration": 4,
    "start_time": "2023-12-01T17:03:07.122Z"
   },
   {
    "duration": 8,
    "start_time": "2023-12-01T17:03:14.987Z"
   },
   {
    "duration": 3,
    "start_time": "2023-12-01T17:03:25.362Z"
   },
   {
    "duration": 87,
    "start_time": "2023-12-01T17:03:32.908Z"
   },
   {
    "duration": 71,
    "start_time": "2023-12-01T17:08:42.855Z"
   },
   {
    "duration": 3,
    "start_time": "2023-12-01T17:09:57.149Z"
   },
   {
    "duration": 6,
    "start_time": "2023-12-01T17:09:59.550Z"
   },
   {
    "duration": 3,
    "start_time": "2023-12-01T17:10:07.357Z"
   },
   {
    "duration": 71,
    "start_time": "2023-12-01T17:10:10.298Z"
   },
   {
    "duration": 82,
    "start_time": "2023-12-01T17:17:00.020Z"
   },
   {
    "duration": 5,
    "start_time": "2023-12-01T17:17:16.937Z"
   },
   {
    "duration": 936,
    "start_time": "2023-12-01T17:17:29.171Z"
   },
   {
    "duration": 5,
    "start_time": "2023-12-01T17:18:11.244Z"
   },
   {
    "duration": 2809,
    "start_time": "2023-12-01T17:18:11.941Z"
   },
   {
    "duration": 6,
    "start_time": "2023-12-01T17:18:53.036Z"
   },
   {
    "duration": 2825,
    "start_time": "2023-12-01T17:18:53.468Z"
   },
   {
    "duration": 10,
    "start_time": "2023-12-01T17:19:09.056Z"
   },
   {
    "duration": 936,
    "start_time": "2023-12-01T17:19:51.826Z"
   },
   {
    "duration": 5,
    "start_time": "2023-12-01T17:19:56.272Z"
   },
   {
    "duration": 11,
    "start_time": "2023-12-01T17:21:05.381Z"
   },
   {
    "duration": 13,
    "start_time": "2023-12-01T17:21:17.235Z"
   },
   {
    "duration": 955,
    "start_time": "2023-12-01T17:22:10.682Z"
   },
   {
    "duration": 6,
    "start_time": "2023-12-01T17:22:14.127Z"
   },
   {
    "duration": 4,
    "start_time": "2023-12-01T17:24:08.402Z"
   },
   {
    "duration": 2339,
    "start_time": "2023-12-01T17:24:13.584Z"
   },
   {
    "duration": 20270,
    "start_time": "2023-12-01T19:51:32.427Z"
   },
   {
    "duration": 2296,
    "start_time": "2023-12-01T19:51:52.700Z"
   },
   {
    "duration": 5,
    "start_time": "2023-12-01T19:51:54.998Z"
   },
   {
    "duration": 20,
    "start_time": "2023-12-01T19:51:55.005Z"
   },
   {
    "duration": 889,
    "start_time": "2023-12-01T19:51:55.026Z"
   },
   {
    "duration": 394,
    "start_time": "2023-12-01T19:51:55.916Z"
   },
   {
    "duration": 305,
    "start_time": "2023-12-01T19:51:56.312Z"
   },
   {
    "duration": 363,
    "start_time": "2023-12-01T19:51:56.619Z"
   },
   {
    "duration": 1492,
    "start_time": "2023-12-01T19:51:56.984Z"
   },
   {
    "duration": 15,
    "start_time": "2023-12-01T19:51:58.478Z"
   },
   {
    "duration": 616,
    "start_time": "2023-12-01T19:51:58.494Z"
   },
   {
    "duration": 1036,
    "start_time": "2023-12-01T19:51:59.111Z"
   },
   {
    "duration": 11,
    "start_time": "2023-12-01T19:52:00.149Z"
   },
   {
    "duration": 680,
    "start_time": "2023-12-01T19:52:00.161Z"
   },
   {
    "duration": 1112,
    "start_time": "2023-12-01T19:52:00.843Z"
   },
   {
    "duration": 13,
    "start_time": "2023-12-01T19:52:01.956Z"
   },
   {
    "duration": 681,
    "start_time": "2023-12-01T19:52:01.971Z"
   },
   {
    "duration": 5,
    "start_time": "2023-12-01T19:52:02.654Z"
   },
   {
    "duration": 250,
    "start_time": "2023-12-01T19:52:02.661Z"
   },
   {
    "duration": 282,
    "start_time": "2023-12-01T19:52:02.913Z"
   },
   {
    "duration": 317,
    "start_time": "2023-12-01T19:52:03.197Z"
   },
   {
    "duration": 4,
    "start_time": "2023-12-01T19:52:03.582Z"
   },
   {
    "duration": 18,
    "start_time": "2023-12-01T19:52:03.588Z"
   },
   {
    "duration": 6,
    "start_time": "2023-12-01T19:52:03.607Z"
   },
   {
    "duration": 87,
    "start_time": "2023-12-01T19:52:03.615Z"
   },
   {
    "duration": 5,
    "start_time": "2023-12-01T19:52:03.703Z"
   },
   {
    "duration": 2151,
    "start_time": "2023-12-01T19:52:03.710Z"
   },
   {
    "duration": 4,
    "start_time": "2023-12-01T19:55:48.602Z"
   },
   {
    "duration": 2590,
    "start_time": "2023-12-01T19:55:50.060Z"
   },
   {
    "duration": 4,
    "start_time": "2023-12-01T19:56:05.830Z"
   },
   {
    "duration": 3,
    "start_time": "2023-12-01T19:56:10.483Z"
   },
   {
    "duration": 3,
    "start_time": "2023-12-01T19:56:13.034Z"
   },
   {
    "duration": 5,
    "start_time": "2023-12-01T19:56:16.672Z"
   },
   {
    "duration": 106,
    "start_time": "2023-12-01T19:56:18.418Z"
   },
   {
    "duration": 5,
    "start_time": "2023-12-01T19:56:24.020Z"
   },
   {
    "duration": 2104,
    "start_time": "2023-12-01T19:56:25.533Z"
   },
   {
    "duration": 4,
    "start_time": "2023-12-01T19:57:19.783Z"
   },
   {
    "duration": 2410,
    "start_time": "2023-12-01T19:57:21.232Z"
   },
   {
    "duration": 5,
    "start_time": "2023-12-02T04:40:49.571Z"
   },
   {
    "duration": 2784,
    "start_time": "2023-12-02T04:41:06.347Z"
   },
   {
    "duration": 11207,
    "start_time": "2023-12-02T04:47:03.417Z"
   },
   {
    "duration": 366,
    "start_time": "2023-12-02T04:47:18.246Z"
   },
   {
    "duration": 3544,
    "start_time": "2023-12-02T04:48:10.124Z"
   },
   {
    "duration": 3763,
    "start_time": "2023-12-02T04:48:18.895Z"
   },
   {
    "duration": 5400,
    "start_time": "2023-12-02T04:50:41.351Z"
   },
   {
    "duration": 4,
    "start_time": "2023-12-02T04:56:28.261Z"
   },
   {
    "duration": 16,
    "start_time": "2023-12-02T04:56:59.745Z"
   },
   {
    "duration": 5265,
    "start_time": "2023-12-02T04:57:09.130Z"
   },
   {
    "duration": 6,
    "start_time": "2023-12-02T04:57:14.397Z"
   },
   {
    "duration": 18,
    "start_time": "2023-12-02T04:57:14.405Z"
   },
   {
    "duration": 8,
    "start_time": "2023-12-02T04:57:14.424Z"
   },
   {
    "duration": 452,
    "start_time": "2023-12-02T04:57:14.434Z"
   },
   {
    "duration": 166,
    "start_time": "2023-12-02T04:57:14.888Z"
   },
   {
    "duration": 166,
    "start_time": "2023-12-02T04:57:15.056Z"
   },
   {
    "duration": 155,
    "start_time": "2023-12-02T04:57:15.223Z"
   },
   {
    "duration": 1312,
    "start_time": "2023-12-02T04:57:15.379Z"
   },
   {
    "duration": 28,
    "start_time": "2023-12-02T04:57:16.693Z"
   },
   {
    "duration": 743,
    "start_time": "2023-12-02T04:57:16.723Z"
   },
   {
    "duration": 1288,
    "start_time": "2023-12-02T04:57:17.467Z"
   },
   {
    "duration": 13,
    "start_time": "2023-12-02T04:57:18.757Z"
   },
   {
    "duration": 1042,
    "start_time": "2023-12-02T04:57:18.773Z"
   },
   {
    "duration": 1338,
    "start_time": "2023-12-02T04:57:19.817Z"
   },
   {
    "duration": 12,
    "start_time": "2023-12-02T04:57:21.157Z"
   },
   {
    "duration": 699,
    "start_time": "2023-12-02T04:57:21.171Z"
   },
   {
    "duration": 7,
    "start_time": "2023-12-02T04:57:21.871Z"
   },
   {
    "duration": 441,
    "start_time": "2023-12-02T04:57:21.880Z"
   },
   {
    "duration": 300,
    "start_time": "2023-12-02T04:57:22.322Z"
   },
   {
    "duration": 309,
    "start_time": "2023-12-02T04:57:22.623Z"
   },
   {
    "duration": 4,
    "start_time": "2023-12-02T04:57:22.934Z"
   },
   {
    "duration": 17,
    "start_time": "2023-12-02T04:57:22.939Z"
   },
   {
    "duration": 8,
    "start_time": "2023-12-02T04:57:22.957Z"
   },
   {
    "duration": 108,
    "start_time": "2023-12-02T04:57:22.967Z"
   },
   {
    "duration": 5,
    "start_time": "2023-12-02T04:57:57.724Z"
   },
   {
    "duration": 17,
    "start_time": "2023-12-02T04:58:01.404Z"
   },
   {
    "duration": 5,
    "start_time": "2023-12-02T04:58:37.521Z"
   },
   {
    "duration": 2800,
    "start_time": "2023-12-02T04:58:40.451Z"
   },
   {
    "duration": 6,
    "start_time": "2023-12-02T05:00:35.649Z"
   },
   {
    "duration": 2362,
    "start_time": "2023-12-02T05:00:37.771Z"
   },
   {
    "duration": 2367,
    "start_time": "2023-12-02T05:01:13.322Z"
   },
   {
    "duration": 86,
    "start_time": "2023-12-02T09:10:51.410Z"
   }
  ],
  "kernelspec": {
   "display_name": "Python 3 (ipykernel)",
   "language": "python",
   "name": "python3"
  },
  "language_info": {
   "codemirror_mode": {
    "name": "ipython",
    "version": 3
   },
   "file_extension": ".py",
   "mimetype": "text/x-python",
   "name": "python",
   "nbconvert_exporter": "python",
   "pygments_lexer": "ipython3",
   "version": "3.9.5"
  },
  "toc": {
   "base_numbering": 1,
   "nav_menu": {},
   "number_sections": true,
   "sideBar": true,
   "skip_h1_title": true,
   "title_cell": "Table of Contents",
   "title_sidebar": "Contents",
   "toc_cell": false,
   "toc_position": {},
   "toc_section_display": true,
   "toc_window_display": false
  }
 },
 "nbformat": 4,
 "nbformat_minor": 2
}
