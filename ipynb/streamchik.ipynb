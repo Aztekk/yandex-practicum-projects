{
 "cells": [
  {
   "cell_type": "markdown",
   "metadata": {},
   "source": [
    "# \"Стримчик\". План на 2017 год\n",
    "\n",
    "**Цели исследования:**\n",
    "\n",
    "Проанализировать данные, найти возможные ошибки, составить портрети пользователей, проверить несколько гипотез, и выяснить, в каких регионах каким образом планировать продажи.\n",
    "\n",
    "**Гипотезы:**\n",
    "\n",
    "- Оценки пользователей игр Xbox One и PC значимо не отличаются.\n",
    "- Оценки пользователей игр Action и Sports значимо отличаются.\n",
    "\n",
    "**Ход исследования:**\n",
    "\n",
    "Полученные данные необходимо проверить на качество - привести данные к необходимому типу, заполнить пропуски. После этого можно будет провести исследовательский анализ данных и проверить несколько статистических гипотез.\n",
    "\n",
    "**Этапы:**\n",
    "\n",
    "- [Получение данных](#getting)\n",
    "- [Предобработка данных](#processing)\n",
    "- [Исследование данных](#research)\n",
    "- [Конструирование портретов пользователей](#users)\n",
    "- [Проверка гипотез](#hypothesis)\n",
    "- [Общий вывод](#resume)"
   ]
  },
  {
   "cell_type": "code",
   "execution_count": 1,
   "metadata": {},
   "outputs": [],
   "source": [
    "import pandas as pd\n",
    "import numpy as np\n",
    "import matplotlib.pyplot as plt\n",
    "import seaborn as sns\n",
    "from scipy import stats as st\n",
    "\n",
    "random_state = 42"
   ]
  },
  {
   "cell_type": "markdown",
   "metadata": {},
   "source": [
    "<a id='getting'></a>\n",
    "## Загрузка и подготовка данных\n",
    "\n",
    "\n",
    "Считаем данные, приведём их в порядок, начнем исследование"
   ]
  },
  {
   "cell_type": "code",
   "execution_count": 2,
   "metadata": {},
   "outputs": [
    {
     "data": {
      "text/html": [
       "<div>\n",
       "<style scoped>\n",
       "    .dataframe tbody tr th:only-of-type {\n",
       "        vertical-align: middle;\n",
       "    }\n",
       "\n",
       "    .dataframe tbody tr th {\n",
       "        vertical-align: top;\n",
       "    }\n",
       "\n",
       "    .dataframe thead th {\n",
       "        text-align: right;\n",
       "    }\n",
       "</style>\n",
       "<table border=\"1\" class=\"dataframe\">\n",
       "  <thead>\n",
       "    <tr style=\"text-align: right;\">\n",
       "      <th></th>\n",
       "      <th>Name</th>\n",
       "      <th>Platform</th>\n",
       "      <th>Year_of_Release</th>\n",
       "      <th>Genre</th>\n",
       "      <th>NA_sales</th>\n",
       "      <th>EU_sales</th>\n",
       "      <th>JP_sales</th>\n",
       "      <th>Other_sales</th>\n",
       "      <th>Critic_Score</th>\n",
       "      <th>User_Score</th>\n",
       "      <th>Rating</th>\n",
       "    </tr>\n",
       "  </thead>\n",
       "  <tbody>\n",
       "    <tr>\n",
       "      <th>0</th>\n",
       "      <td>Wii Sports</td>\n",
       "      <td>Wii</td>\n",
       "      <td>2006.0</td>\n",
       "      <td>Sports</td>\n",
       "      <td>41.36</td>\n",
       "      <td>28.96</td>\n",
       "      <td>3.77</td>\n",
       "      <td>8.45</td>\n",
       "      <td>76.0</td>\n",
       "      <td>8</td>\n",
       "      <td>E</td>\n",
       "    </tr>\n",
       "    <tr>\n",
       "      <th>1</th>\n",
       "      <td>Super Mario Bros.</td>\n",
       "      <td>NES</td>\n",
       "      <td>1985.0</td>\n",
       "      <td>Platform</td>\n",
       "      <td>29.08</td>\n",
       "      <td>3.58</td>\n",
       "      <td>6.81</td>\n",
       "      <td>0.77</td>\n",
       "      <td>NaN</td>\n",
       "      <td>NaN</td>\n",
       "      <td>NaN</td>\n",
       "    </tr>\n",
       "    <tr>\n",
       "      <th>2</th>\n",
       "      <td>Mario Kart Wii</td>\n",
       "      <td>Wii</td>\n",
       "      <td>2008.0</td>\n",
       "      <td>Racing</td>\n",
       "      <td>15.68</td>\n",
       "      <td>12.76</td>\n",
       "      <td>3.79</td>\n",
       "      <td>3.29</td>\n",
       "      <td>82.0</td>\n",
       "      <td>8.3</td>\n",
       "      <td>E</td>\n",
       "    </tr>\n",
       "    <tr>\n",
       "      <th>3</th>\n",
       "      <td>Wii Sports Resort</td>\n",
       "      <td>Wii</td>\n",
       "      <td>2009.0</td>\n",
       "      <td>Sports</td>\n",
       "      <td>15.61</td>\n",
       "      <td>10.93</td>\n",
       "      <td>3.28</td>\n",
       "      <td>2.95</td>\n",
       "      <td>80.0</td>\n",
       "      <td>8</td>\n",
       "      <td>E</td>\n",
       "    </tr>\n",
       "    <tr>\n",
       "      <th>4</th>\n",
       "      <td>Pokemon Red/Pokemon Blue</td>\n",
       "      <td>GB</td>\n",
       "      <td>1996.0</td>\n",
       "      <td>Role-Playing</td>\n",
       "      <td>11.27</td>\n",
       "      <td>8.89</td>\n",
       "      <td>10.22</td>\n",
       "      <td>1.00</td>\n",
       "      <td>NaN</td>\n",
       "      <td>NaN</td>\n",
       "      <td>NaN</td>\n",
       "    </tr>\n",
       "  </tbody>\n",
       "</table>\n",
       "</div>"
      ],
      "text/plain": [
       "                       Name Platform  Year_of_Release         Genre  NA_sales  \\\n",
       "0                Wii Sports      Wii           2006.0        Sports     41.36   \n",
       "1         Super Mario Bros.      NES           1985.0      Platform     29.08   \n",
       "2            Mario Kart Wii      Wii           2008.0        Racing     15.68   \n",
       "3         Wii Sports Resort      Wii           2009.0        Sports     15.61   \n",
       "4  Pokemon Red/Pokemon Blue       GB           1996.0  Role-Playing     11.27   \n",
       "\n",
       "   EU_sales  JP_sales  Other_sales  Critic_Score User_Score Rating  \n",
       "0     28.96      3.77         8.45          76.0          8      E  \n",
       "1      3.58      6.81         0.77           NaN        NaN    NaN  \n",
       "2     12.76      3.79         3.29          82.0        8.3      E  \n",
       "3     10.93      3.28         2.95          80.0          8      E  \n",
       "4      8.89     10.22         1.00           NaN        NaN    NaN  "
      ]
     },
     "execution_count": 2,
     "metadata": {},
     "output_type": "execute_result"
    }
   ],
   "source": [
    "data = pd.read_csv('/datasets/games.csv')\n",
    "data.head()"
   ]
  },
  {
   "cell_type": "code",
   "execution_count": 3,
   "metadata": {},
   "outputs": [],
   "source": [
    "data.columns = data.columns.str.lower()"
   ]
  },
  {
   "cell_type": "markdown",
   "metadata": {},
   "source": [
    "<a id='processing'></a>\n",
    "## Обработка данных"
   ]
  },
  {
   "cell_type": "markdown",
   "metadata": {},
   "source": [
    "### Пропущенные значения"
   ]
  },
  {
   "cell_type": "code",
   "execution_count": 4,
   "metadata": {},
   "outputs": [
    {
     "data": {
      "text/html": [
       "<style  type=\"text/css\" >\n",
       "#T_b91ab_row0_col0{\n",
       "            background-color:  #b40426;\n",
       "            color:  #f1f1f1;\n",
       "        }#T_b91ab_row1_col0{\n",
       "            background-color:  #ef886b;\n",
       "            color:  #000000;\n",
       "        }#T_b91ab_row2_col0{\n",
       "            background-color:  #f08b6e;\n",
       "            color:  #000000;\n",
       "        }#T_b91ab_row3_col0{\n",
       "            background-color:  #4358cb;\n",
       "            color:  #f1f1f1;\n",
       "        }#T_b91ab_row4_col0,#T_b91ab_row5_col0,#T_b91ab_row6_col0,#T_b91ab_row7_col0,#T_b91ab_row8_col0,#T_b91ab_row9_col0,#T_b91ab_row10_col0{\n",
       "            background-color:  #3b4cc0;\n",
       "            color:  #f1f1f1;\n",
       "        }</style><table id=\"T_b91ab_\" ><thead>    <tr>        <th class=\"blank level0\" ></th>        <th class=\"col_heading level0 col0\" >0</th>    </tr></thead><tbody>\n",
       "                <tr>\n",
       "                        <th id=\"T_b91ab_level0_row0\" class=\"row_heading level0 row0\" >critic_score</th>\n",
       "                        <td id=\"T_b91ab_row0_col0\" class=\"data row0 col0\" >51.300000</td>\n",
       "            </tr>\n",
       "            <tr>\n",
       "                        <th id=\"T_b91ab_level0_row1\" class=\"row_heading level0 row1\" >rating</th>\n",
       "                        <td id=\"T_b91ab_row1_col0\" class=\"data row1 col0\" >40.500000</td>\n",
       "            </tr>\n",
       "            <tr>\n",
       "                        <th id=\"T_b91ab_level0_row2\" class=\"row_heading level0 row2\" >user_score</th>\n",
       "                        <td id=\"T_b91ab_row2_col0\" class=\"data row2 col0\" >40.100000</td>\n",
       "            </tr>\n",
       "            <tr>\n",
       "                        <th id=\"T_b91ab_level0_row3\" class=\"row_heading level0 row3\" >year_of_release</th>\n",
       "                        <td id=\"T_b91ab_row3_col0\" class=\"data row3 col0\" >1.600000</td>\n",
       "            </tr>\n",
       "            <tr>\n",
       "                        <th id=\"T_b91ab_level0_row4\" class=\"row_heading level0 row4\" >name</th>\n",
       "                        <td id=\"T_b91ab_row4_col0\" class=\"data row4 col0\" >0.000000</td>\n",
       "            </tr>\n",
       "            <tr>\n",
       "                        <th id=\"T_b91ab_level0_row5\" class=\"row_heading level0 row5\" >platform</th>\n",
       "                        <td id=\"T_b91ab_row5_col0\" class=\"data row5 col0\" >0.000000</td>\n",
       "            </tr>\n",
       "            <tr>\n",
       "                        <th id=\"T_b91ab_level0_row6\" class=\"row_heading level0 row6\" >genre</th>\n",
       "                        <td id=\"T_b91ab_row6_col0\" class=\"data row6 col0\" >0.000000</td>\n",
       "            </tr>\n",
       "            <tr>\n",
       "                        <th id=\"T_b91ab_level0_row7\" class=\"row_heading level0 row7\" >na_sales</th>\n",
       "                        <td id=\"T_b91ab_row7_col0\" class=\"data row7 col0\" >0.000000</td>\n",
       "            </tr>\n",
       "            <tr>\n",
       "                        <th id=\"T_b91ab_level0_row8\" class=\"row_heading level0 row8\" >eu_sales</th>\n",
       "                        <td id=\"T_b91ab_row8_col0\" class=\"data row8 col0\" >0.000000</td>\n",
       "            </tr>\n",
       "            <tr>\n",
       "                        <th id=\"T_b91ab_level0_row9\" class=\"row_heading level0 row9\" >jp_sales</th>\n",
       "                        <td id=\"T_b91ab_row9_col0\" class=\"data row9 col0\" >0.000000</td>\n",
       "            </tr>\n",
       "            <tr>\n",
       "                        <th id=\"T_b91ab_level0_row10\" class=\"row_heading level0 row10\" >other_sales</th>\n",
       "                        <td id=\"T_b91ab_row10_col0\" class=\"data row10 col0\" >0.000000</td>\n",
       "            </tr>\n",
       "    </tbody></table>"
      ],
      "text/plain": [
       "<pandas.io.formats.style.Styler at 0x7f0eae3f54f0>"
      ]
     },
     "execution_count": 4,
     "metadata": {},
     "output_type": "execute_result"
    }
   ],
   "source": [
    "pd.DataFrame(round(data.isna().mean()*100,1).sort_values(ascending=False)).style.background_gradient('coolwarm')"
   ]
  },
  {
   "cell_type": "markdown",
   "metadata": {},
   "source": [
    "В датасете довольно много пропущенных значений, связанных с рейтингами. Это могло произойти, потому что:\n",
    "1. Игра может быть свежей, и не успеть набрать достаточно рейтинга\n",
    "2. Игра может быть просто непопулярной"
   ]
  },
  {
   "cell_type": "markdown",
   "metadata": {},
   "source": [
    "Пропущенных имен, годов выпуска и жанров совсем мало, от них лучше сразу избавиться. На рейтинши стоит посмотреть повнимательнее и подумать, как их заполнить."
   ]
  },
  {
   "cell_type": "code",
   "execution_count": 5,
   "metadata": {},
   "outputs": [
    {
     "data": {
      "text/plain": [
       "name                0.000000\n",
       "platform            0.000000\n",
       "year_of_release     0.000000\n",
       "genre               0.000000\n",
       "na_sales            0.000000\n",
       "eu_sales            0.000000\n",
       "jp_sales            0.000000\n",
       "other_sales         0.000000\n",
       "critic_score       51.453418\n",
       "user_score         40.166626\n",
       "rating             40.598395\n",
       "dtype: float64"
      ]
     },
     "execution_count": 5,
     "metadata": {},
     "output_type": "execute_result"
    }
   ],
   "source": [
    "data = data.dropna(subset=['name', 'genre', 'year_of_release'])\n",
    "# после очистки данных года можно заменить его тип на целое число. Не бывает годов с дробной частью\n",
    "data['year_of_release'] = data['year_of_release'].astype('int')\n",
    "data.isna().sum() / data.shape[0] * 100"
   ]
  },
  {
   "cell_type": "code",
   "execution_count": 6,
   "metadata": {},
   "outputs": [
    {
     "name": "stdout",
     "output_type": "stream",
     "text": [
      "Распределение похоже на нормальное, но с несколькими аномальными пиками.\n"
     ]
    },
    {
     "data": {
      "image/png": "[encoded data removed]",
      "text/plain": [
       "<Figure size 1440x360 with 1 Axes>"
      ]
     },
     "metadata": {
      "needs_background": "light"
     },
     "output_type": "display_data"
    }
   ],
   "source": [
    "data['critic_score'].hist(figsize=(20, 5), bins=40)\n",
    "plt.title('Распределение оценок критиков')\n",
    "plt.xlabel('Оценка')\n",
    "plt.ylabel('Количество оценок');\n",
    "print('''Распределение похоже на нормальное, но с несколькими аномальными пиками.''')"
   ]
  },
  {
   "cell_type": "code",
   "execution_count": 7,
   "metadata": {},
   "outputs": [
    {
     "name": "stdout",
     "output_type": "stream",
     "text": [
      "Оценки пользователей больше похожи на распределение Пуассона. Также много оценок tbd.\n",
      "Рейтинг TBD (To Be Determined — «будет определено») — это способ оценки проектов или задач, \n",
      "которые еще не были выполнены, но вынуждены быть оценены.\n"
     ]
    },
    {
     "data": {
      "image/png": "[encoded data removed]",
      "text/plain": [
       "<Figure size 1440x360 with 1 Axes>"
      ]
     },
     "metadata": {
      "needs_background": "light"
     },
     "output_type": "display_data"
    }
   ],
   "source": [
    "data['user_score'].value_counts().plot(kind='bar', figsize=(20, 5))\n",
    "plt.title('Распределение оценок пользователей')\n",
    "plt.xlabel('Оценка')\n",
    "plt.ylabel('Количество оценок')\n",
    "plt.xticks(rotation=90);\n",
    "print('''Оценки пользователей больше похожи на распределение Пуассона. Также много оценок tbd.\n",
    "Рейтинг TBD (To Be Determined — «будет определено») — это способ оценки проектов или задач, \n",
    "которые еще не были выполнены, но вынуждены быть оценены.''')"
   ]
  },
  {
   "cell_type": "code",
   "execution_count": 8,
   "metadata": {},
   "outputs": [
    {
     "data": {
      "image/png": "[encoded data removed]",
      "text/plain": [
       "<Figure size 1440x360 with 1 Axes>"
      ]
     },
     "metadata": {
      "needs_background": "light"
     },
     "output_type": "display_data"
    }
   ],
   "source": [
    "data['rating'].value_counts().plot(kind='bar', figsize=(20, 5))\n",
    "plt.title('Распределение рейтинга')\n",
    "plt.xlabel('Рейтинг')\n",
    "plt.ylabel('Количество игр');"
   ]
  },
  {
   "cell_type": "markdown",
   "metadata": {},
   "source": [
    "Не проставленный рейтинг может нести определенную информацию о данных. Возможно, его ставят не на все типы игр. Вместо пропусков поставим заглушку \"U\" - unknown.\n",
    "\n",
    "Оценки пользователей и критиков тоже можно заглушить нулями, чтобы они не влияли на расчеты"
   ]
  },
  {
   "cell_type": "code",
   "execution_count": 9,
   "metadata": {},
   "outputs": [],
   "source": [
    "data['user_score'] = data['user_score'].fillna(0.0)\n",
    "data.loc[data['user_score'] == 'tbd', 'user_score'] = 0.0\n",
    "\n",
    "data['user_score'] = data['user_score'].astype('float')\n",
    "data['critic_score'] = data['critic_score'].fillna(0)\n",
    "\n",
    "data.loc[:, 'rating'] = data['rating'].fillna('U')"
   ]
  },
  {
   "cell_type": "code",
   "execution_count": 10,
   "metadata": {},
   "outputs": [
    {
     "name": "stdout",
     "output_type": "stream",
     "text": [
      "Появился один большой пик в нуле. Его можно будет отфильтровать при вычислениях. \n",
      "В любом случае, когда критик оценивает игру, он не ставит ноль баллов\n"
     ]
    },
    {
     "data": {
      "image/png": "[encoded data removed]",
      "text/plain": [
       "<Figure size 1440x360 with 1 Axes>"
      ]
     },
     "metadata": {
      "needs_background": "light"
     },
     "output_type": "display_data"
    }
   ],
   "source": [
    "data['critic_score'].hist(figsize=(20, 5), bins=40)\n",
    "plt.title('Распределение оценок критиков')\n",
    "plt.xlabel('Оценка')\n",
    "plt.ylabel('Количество оценок');\n",
    "print('''Появился один большой пик в нуле. Его можно будет отфильтровать при вычислениях. \n",
    "В любом случае, когда критик оценивает игру, он не ставит ноль баллов''')"
   ]
  },
  {
   "cell_type": "code",
   "execution_count": 11,
   "metadata": {},
   "outputs": [
    {
     "name": "stdout",
     "output_type": "stream",
     "text": [
      "Оценки пользователей тоже обзавелись пиком в нуле. \n",
      "Его тоже можно отфильтровать. Пользователи не ставят ноль при оценке\n"
     ]
    },
    {
     "data": {
      "image/png": "[encoded data removed]",
      "text/plain": [
       "<Figure size 1440x360 with 1 Axes>"
      ]
     },
     "metadata": {
      "needs_background": "light"
     },
     "output_type": "display_data"
    }
   ],
   "source": [
    "data['user_score'].value_counts().plot(kind='bar', figsize=(20, 5))\n",
    "plt.title('Распределение оценок пользователей')\n",
    "plt.xlabel('Оценка')\n",
    "plt.ylabel('Количество оценок')\n",
    "plt.xticks(rotation=90);\n",
    "print('''Оценки пользователей тоже обзавелись пиком в нуле. \n",
    "Его тоже можно отфильтровать. Пользователи не ставят ноль при оценке''')"
   ]
  },
  {
   "cell_type": "code",
   "execution_count": 12,
   "metadata": {},
   "outputs": [
    {
     "data": {
      "text/html": [
       "<div>\n",
       "<style scoped>\n",
       "    .dataframe tbody tr th:only-of-type {\n",
       "        vertical-align: middle;\n",
       "    }\n",
       "\n",
       "    .dataframe tbody tr th {\n",
       "        vertical-align: top;\n",
       "    }\n",
       "\n",
       "    .dataframe thead th {\n",
       "        text-align: right;\n",
       "    }\n",
       "</style>\n",
       "<table border=\"1\" class=\"dataframe\">\n",
       "  <thead>\n",
       "    <tr style=\"text-align: right;\">\n",
       "      <th></th>\n",
       "      <th>name</th>\n",
       "      <th>platform</th>\n",
       "      <th>year_of_release</th>\n",
       "      <th>genre</th>\n",
       "      <th>na_sales</th>\n",
       "      <th>eu_sales</th>\n",
       "      <th>jp_sales</th>\n",
       "      <th>other_sales</th>\n",
       "      <th>critic_score</th>\n",
       "      <th>user_score</th>\n",
       "      <th>rating</th>\n",
       "      <th>total_sales</th>\n",
       "    </tr>\n",
       "  </thead>\n",
       "  <tbody>\n",
       "    <tr>\n",
       "      <th>0</th>\n",
       "      <td>Wii Sports</td>\n",
       "      <td>Wii</td>\n",
       "      <td>2006</td>\n",
       "      <td>Sports</td>\n",
       "      <td>41.36</td>\n",
       "      <td>28.96</td>\n",
       "      <td>3.77</td>\n",
       "      <td>8.45</td>\n",
       "      <td>76.0</td>\n",
       "      <td>8.0</td>\n",
       "      <td>E</td>\n",
       "      <td>82.54</td>\n",
       "    </tr>\n",
       "    <tr>\n",
       "      <th>1</th>\n",
       "      <td>Super Mario Bros.</td>\n",
       "      <td>NES</td>\n",
       "      <td>1985</td>\n",
       "      <td>Platform</td>\n",
       "      <td>29.08</td>\n",
       "      <td>3.58</td>\n",
       "      <td>6.81</td>\n",
       "      <td>0.77</td>\n",
       "      <td>0.0</td>\n",
       "      <td>0.0</td>\n",
       "      <td>U</td>\n",
       "      <td>40.24</td>\n",
       "    </tr>\n",
       "    <tr>\n",
       "      <th>2</th>\n",
       "      <td>Mario Kart Wii</td>\n",
       "      <td>Wii</td>\n",
       "      <td>2008</td>\n",
       "      <td>Racing</td>\n",
       "      <td>15.68</td>\n",
       "      <td>12.76</td>\n",
       "      <td>3.79</td>\n",
       "      <td>3.29</td>\n",
       "      <td>82.0</td>\n",
       "      <td>8.3</td>\n",
       "      <td>E</td>\n",
       "      <td>35.52</td>\n",
       "    </tr>\n",
       "    <tr>\n",
       "      <th>3</th>\n",
       "      <td>Wii Sports Resort</td>\n",
       "      <td>Wii</td>\n",
       "      <td>2009</td>\n",
       "      <td>Sports</td>\n",
       "      <td>15.61</td>\n",
       "      <td>10.93</td>\n",
       "      <td>3.28</td>\n",
       "      <td>2.95</td>\n",
       "      <td>80.0</td>\n",
       "      <td>8.0</td>\n",
       "      <td>E</td>\n",
       "      <td>32.77</td>\n",
       "    </tr>\n",
       "    <tr>\n",
       "      <th>4</th>\n",
       "      <td>Pokemon Red/Pokemon Blue</td>\n",
       "      <td>GB</td>\n",
       "      <td>1996</td>\n",
       "      <td>Role-Playing</td>\n",
       "      <td>11.27</td>\n",
       "      <td>8.89</td>\n",
       "      <td>10.22</td>\n",
       "      <td>1.00</td>\n",
       "      <td>0.0</td>\n",
       "      <td>0.0</td>\n",
       "      <td>U</td>\n",
       "      <td>31.38</td>\n",
       "    </tr>\n",
       "  </tbody>\n",
       "</table>\n",
       "</div>"
      ],
      "text/plain": [
       "                       name platform  year_of_release         genre  na_sales  \\\n",
       "0                Wii Sports      Wii             2006        Sports     41.36   \n",
       "1         Super Mario Bros.      NES             1985      Platform     29.08   \n",
       "2            Mario Kart Wii      Wii             2008        Racing     15.68   \n",
       "3         Wii Sports Resort      Wii             2009        Sports     15.61   \n",
       "4  Pokemon Red/Pokemon Blue       GB             1996  Role-Playing     11.27   \n",
       "\n",
       "   eu_sales  jp_sales  other_sales  critic_score  user_score rating  \\\n",
       "0     28.96      3.77         8.45          76.0         8.0      E   \n",
       "1      3.58      6.81         0.77           0.0         0.0      U   \n",
       "2     12.76      3.79         3.29          82.0         8.3      E   \n",
       "3     10.93      3.28         2.95          80.0         8.0      E   \n",
       "4      8.89     10.22         1.00           0.0         0.0      U   \n",
       "\n",
       "   total_sales  \n",
       "0        82.54  \n",
       "1        40.24  \n",
       "2        35.52  \n",
       "3        32.77  \n",
       "4        31.38  "
      ]
     },
     "execution_count": 12,
     "metadata": {},
     "output_type": "execute_result"
    }
   ],
   "source": [
    "# Посчитаем общие продажи игры во всех регионах\n",
    "data['total_sales'] = data['na_sales'] + data['eu_sales'] +data['jp_sales'] + data['other_sales']\n",
    "data.head()"
   ]
  },
  {
   "cell_type": "markdown",
   "metadata": {},
   "source": [
    "### Дубли"
   ]
  },
  {
   "cell_type": "code",
   "execution_count": 13,
   "metadata": {},
   "outputs": [
    {
     "name": "stdout",
     "output_type": "stream",
     "text": [
      "Явных дублей в датасете нет. Могут быть неявные\n"
     ]
    }
   ],
   "source": [
    "data.duplicated().sum()\n",
    "print('Явных дублей в датасете нет. Могут быть неявные')"
   ]
  },
  {
   "cell_type": "code",
   "execution_count": 14,
   "metadata": {},
   "outputs": [
    {
     "data": {
      "text/html": [
       "<div>\n",
       "<style scoped>\n",
       "    .dataframe tbody tr th:only-of-type {\n",
       "        vertical-align: middle;\n",
       "    }\n",
       "\n",
       "    .dataframe tbody tr th {\n",
       "        vertical-align: top;\n",
       "    }\n",
       "\n",
       "    .dataframe thead th {\n",
       "        text-align: right;\n",
       "    }\n",
       "</style>\n",
       "<table border=\"1\" class=\"dataframe\">\n",
       "  <thead>\n",
       "    <tr style=\"text-align: right;\">\n",
       "      <th></th>\n",
       "      <th>name</th>\n",
       "      <th>platform</th>\n",
       "      <th>year_of_release</th>\n",
       "      <th>genre</th>\n",
       "      <th>na_sales</th>\n",
       "      <th>eu_sales</th>\n",
       "      <th>jp_sales</th>\n",
       "      <th>other_sales</th>\n",
       "      <th>critic_score</th>\n",
       "      <th>user_score</th>\n",
       "      <th>rating</th>\n",
       "      <th>total_sales</th>\n",
       "    </tr>\n",
       "  </thead>\n",
       "  <tbody>\n",
       "    <tr>\n",
       "      <th>16230</th>\n",
       "      <td>Madden NFL 13</td>\n",
       "      <td>PS3</td>\n",
       "      <td>2012</td>\n",
       "      <td>Sports</td>\n",
       "      <td>0.0</td>\n",
       "      <td>0.01</td>\n",
       "      <td>0.0</td>\n",
       "      <td>0.0</td>\n",
       "      <td>83.0</td>\n",
       "      <td>5.5</td>\n",
       "      <td>E</td>\n",
       "      <td>0.01</td>\n",
       "    </tr>\n",
       "  </tbody>\n",
       "</table>\n",
       "</div>"
      ],
      "text/plain": [
       "                name platform  year_of_release   genre  na_sales  eu_sales  \\\n",
       "16230  Madden NFL 13      PS3             2012  Sports       0.0      0.01   \n",
       "\n",
       "       jp_sales  other_sales  critic_score  user_score rating  total_sales  \n",
       "16230       0.0          0.0          83.0         5.5      E         0.01  "
      ]
     },
     "execution_count": 14,
     "metadata": {},
     "output_type": "execute_result"
    }
   ],
   "source": [
    "data[data.duplicated(['name', 'platform', 'year_of_release'])]"
   ]
  },
  {
   "cell_type": "code",
   "execution_count": 15,
   "metadata": {},
   "outputs": [
    {
     "data": {
      "text/html": [
       "<div>\n",
       "<style scoped>\n",
       "    .dataframe tbody tr th:only-of-type {\n",
       "        vertical-align: middle;\n",
       "    }\n",
       "\n",
       "    .dataframe tbody tr th {\n",
       "        vertical-align: top;\n",
       "    }\n",
       "\n",
       "    .dataframe thead th {\n",
       "        text-align: right;\n",
       "    }\n",
       "</style>\n",
       "<table border=\"1\" class=\"dataframe\">\n",
       "  <thead>\n",
       "    <tr style=\"text-align: right;\">\n",
       "      <th></th>\n",
       "      <th>name</th>\n",
       "      <th>platform</th>\n",
       "      <th>year_of_release</th>\n",
       "      <th>genre</th>\n",
       "      <th>na_sales</th>\n",
       "      <th>eu_sales</th>\n",
       "      <th>jp_sales</th>\n",
       "      <th>other_sales</th>\n",
       "      <th>critic_score</th>\n",
       "      <th>user_score</th>\n",
       "      <th>rating</th>\n",
       "      <th>total_sales</th>\n",
       "    </tr>\n",
       "  </thead>\n",
       "  <tbody>\n",
       "    <tr>\n",
       "      <th>604</th>\n",
       "      <td>Madden NFL 13</td>\n",
       "      <td>PS3</td>\n",
       "      <td>2012</td>\n",
       "      <td>Sports</td>\n",
       "      <td>2.11</td>\n",
       "      <td>0.22</td>\n",
       "      <td>0.0</td>\n",
       "      <td>0.23</td>\n",
       "      <td>83.0</td>\n",
       "      <td>5.5</td>\n",
       "      <td>E</td>\n",
       "      <td>2.56</td>\n",
       "    </tr>\n",
       "    <tr>\n",
       "      <th>16230</th>\n",
       "      <td>Madden NFL 13</td>\n",
       "      <td>PS3</td>\n",
       "      <td>2012</td>\n",
       "      <td>Sports</td>\n",
       "      <td>0.00</td>\n",
       "      <td>0.01</td>\n",
       "      <td>0.0</td>\n",
       "      <td>0.00</td>\n",
       "      <td>83.0</td>\n",
       "      <td>5.5</td>\n",
       "      <td>E</td>\n",
       "      <td>0.01</td>\n",
       "    </tr>\n",
       "  </tbody>\n",
       "</table>\n",
       "</div>"
      ],
      "text/plain": [
       "                name platform  year_of_release   genre  na_sales  eu_sales  \\\n",
       "604    Madden NFL 13      PS3             2012  Sports      2.11      0.22   \n",
       "16230  Madden NFL 13      PS3             2012  Sports      0.00      0.01   \n",
       "\n",
       "       jp_sales  other_sales  critic_score  user_score rating  total_sales  \n",
       "604         0.0         0.23          83.0         5.5      E         2.56  \n",
       "16230       0.0         0.00          83.0         5.5      E         0.01  "
      ]
     },
     "execution_count": 15,
     "metadata": {},
     "output_type": "execute_result"
    }
   ],
   "source": [
    "data[(data['name'] == 'Madden NFL 13') & (data['platform'] == 'PS3') & (data['year_of_release'] == 2012)]"
   ]
  },
  {
   "cell_type": "markdown",
   "metadata": {},
   "source": [
    "Нашелся один дубликат. Избавимся от него, а данные по продажам в Европе можно просто прибавить."
   ]
  },
  {
   "cell_type": "code",
   "execution_count": 16,
   "metadata": {},
   "outputs": [],
   "source": [
    "data = data.drop(16230)\n",
    "data.loc[604, 'eu_sales'] += 0.01"
   ]
  },
  {
   "cell_type": "code",
   "execution_count": 17,
   "metadata": {},
   "outputs": [
    {
     "data": {
      "text/html": [
       "<div>\n",
       "<style scoped>\n",
       "    .dataframe tbody tr th:only-of-type {\n",
       "        vertical-align: middle;\n",
       "    }\n",
       "\n",
       "    .dataframe tbody tr th {\n",
       "        vertical-align: top;\n",
       "    }\n",
       "\n",
       "    .dataframe thead th {\n",
       "        text-align: right;\n",
       "    }\n",
       "</style>\n",
       "<table border=\"1\" class=\"dataframe\">\n",
       "  <thead>\n",
       "    <tr style=\"text-align: right;\">\n",
       "      <th></th>\n",
       "      <th>name</th>\n",
       "      <th>platform</th>\n",
       "      <th>year_of_release</th>\n",
       "      <th>genre</th>\n",
       "      <th>na_sales</th>\n",
       "      <th>eu_sales</th>\n",
       "      <th>jp_sales</th>\n",
       "      <th>other_sales</th>\n",
       "      <th>critic_score</th>\n",
       "      <th>user_score</th>\n",
       "      <th>rating</th>\n",
       "      <th>total_sales</th>\n",
       "    </tr>\n",
       "  </thead>\n",
       "  <tbody>\n",
       "    <tr>\n",
       "      <th>604</th>\n",
       "      <td>Madden NFL 13</td>\n",
       "      <td>PS3</td>\n",
       "      <td>2012</td>\n",
       "      <td>Sports</td>\n",
       "      <td>2.11</td>\n",
       "      <td>0.23</td>\n",
       "      <td>0.0</td>\n",
       "      <td>0.23</td>\n",
       "      <td>83.0</td>\n",
       "      <td>5.5</td>\n",
       "      <td>E</td>\n",
       "      <td>2.56</td>\n",
       "    </tr>\n",
       "  </tbody>\n",
       "</table>\n",
       "</div>"
      ],
      "text/plain": [
       "              name platform  year_of_release   genre  na_sales  eu_sales  \\\n",
       "604  Madden NFL 13      PS3             2012  Sports      2.11      0.23   \n",
       "\n",
       "     jp_sales  other_sales  critic_score  user_score rating  total_sales  \n",
       "604       0.0         0.23          83.0         5.5      E         2.56  "
      ]
     },
     "execution_count": 17,
     "metadata": {},
     "output_type": "execute_result"
    }
   ],
   "source": [
    "data[(data['name'] == 'Madden NFL 13') & (data['platform'] == 'PS3') & (data['year_of_release'] == 2012)]"
   ]
  },
  {
   "cell_type": "markdown",
   "metadata": {},
   "source": [
    "**Вывод:**\n",
    "\n",
    "В данных достаточно много пропусков. Нужно будет учесть это при дальнейшем исследовании и проверке гипотез. Также есть дубликат, от него удалось избавиться."
   ]
  },
  {
   "cell_type": "markdown",
   "metadata": {},
   "source": [
    "<a id='research'></a>\n",
    "## Исследовательский анализ данных"
   ]
  },
  {
   "cell_type": "markdown",
   "metadata": {},
   "source": [
    "### Выпуск игр в разные годы"
   ]
  },
  {
   "cell_type": "code",
   "execution_count": 18,
   "metadata": {},
   "outputs": [
    {
     "data": {
      "image/png": "[encoded data removed]",
      "text/plain": [
       "<Figure size 1440x360 with 1 Axes>"
      ]
     },
     "metadata": {
      "needs_background": "light"
     },
     "output_type": "display_data"
    }
   ],
   "source": [
    "data.groupby('year_of_release')['name'].count().plot(figsize=(20,5))\n",
    "plt.title('Выпуск игр в разные годы')\n",
    "plt.xlabel('Год выпуска')\n",
    "plt.ylabel('Количество игр')\n",
    "plt.annotate('Не все данные\\nза 2016\\nдостуны', (2015, 320));"
   ]
  },
  {
   "cell_type": "markdown",
   "metadata": {},
   "source": [
    "На графике видно, что выпуск видеоигр сильно рос в период с 1995 по 2009 годы. После игр стало выходить гораздо меньше. Это может быть связано как с тем, что некоторые платформы стали уходить с рынка, так и с тем, что игры становились более технически сложными и на их выпуск стало требоваться больше времени."
   ]
  },
  {
   "cell_type": "markdown",
   "metadata": {},
   "source": [
    "### Изменение продаж по платформам"
   ]
  },
  {
   "cell_type": "code",
   "execution_count": 19,
   "metadata": {},
   "outputs": [],
   "source": [
    "max_sales_platforms = data.groupby('platform')['total_sales'].sum().sort_values(ascending=False).index[:7]\n",
    "max_sales_platforms_by_year = (data[data['platform'].isin(max_sales_platforms)]\n",
    "                               .pivot_table(index=['platform', 'year_of_release']\n",
    "                                            ,values='total_sales'\n",
    "                                            ,aggfunc='sum')\n",
    "                               .reset_index())"
   ]
  },
  {
   "cell_type": "code",
   "execution_count": 20,
   "metadata": {},
   "outputs": [
    {
     "data": {
      "image/png": "[encoded data removed]",
      "text/plain": [
       "<Figure size 1440x360 with 1 Axes>"
      ]
     },
     "metadata": {
      "needs_background": "light"
     },
     "output_type": "display_data"
    }
   ],
   "source": [
    "fig, ax = plt.subplots(figsize=(20,5))\n",
    "sns.lineplot(ax=ax,\n",
    "             data=max_sales_platforms_by_year,\n",
    "             x='year_of_release',\n",
    "             y='total_sales',\n",
    "             hue='platform')\n",
    "plt.legend(loc='best')\n",
    "plt.xlabel('Год')\n",
    "plt.ylabel('Суммарные продажи (млн.)')\n",
    "plt.title('Суммарные продажи по годам у разных платформ')\n",
    "plt.show()"
   ]
  },
  {
   "cell_type": "markdown",
   "metadata": {},
   "source": [
    "Стоит обратить внимание на платформу DS. Там есть странная точка в 1985 году. Она станна тем, что платформа вышла в 2004 году. Посмотрим на неё повнимательнее."
   ]
  },
  {
   "cell_type": "code",
   "execution_count": 21,
   "metadata": {},
   "outputs": [
    {
     "data": {
      "text/html": [
       "<div>\n",
       "<style scoped>\n",
       "    .dataframe tbody tr th:only-of-type {\n",
       "        vertical-align: middle;\n",
       "    }\n",
       "\n",
       "    .dataframe tbody tr th {\n",
       "        vertical-align: top;\n",
       "    }\n",
       "\n",
       "    .dataframe thead th {\n",
       "        text-align: right;\n",
       "    }\n",
       "</style>\n",
       "<table border=\"1\" class=\"dataframe\">\n",
       "  <thead>\n",
       "    <tr style=\"text-align: right;\">\n",
       "      <th></th>\n",
       "      <th>name</th>\n",
       "      <th>platform</th>\n",
       "      <th>year_of_release</th>\n",
       "      <th>genre</th>\n",
       "      <th>na_sales</th>\n",
       "      <th>eu_sales</th>\n",
       "      <th>jp_sales</th>\n",
       "      <th>other_sales</th>\n",
       "      <th>critic_score</th>\n",
       "      <th>user_score</th>\n",
       "      <th>rating</th>\n",
       "      <th>total_sales</th>\n",
       "    </tr>\n",
       "  </thead>\n",
       "  <tbody>\n",
       "    <tr>\n",
       "      <th>15957</th>\n",
       "      <td>Strongest Tokyo University Shogi DS</td>\n",
       "      <td>DS</td>\n",
       "      <td>1985</td>\n",
       "      <td>Action</td>\n",
       "      <td>0.0</td>\n",
       "      <td>0.0</td>\n",
       "      <td>0.02</td>\n",
       "      <td>0.0</td>\n",
       "      <td>0.0</td>\n",
       "      <td>0.0</td>\n",
       "      <td>U</td>\n",
       "      <td>0.02</td>\n",
       "    </tr>\n",
       "  </tbody>\n",
       "</table>\n",
       "</div>"
      ],
      "text/plain": [
       "                                      name platform  year_of_release   genre  \\\n",
       "15957  Strongest Tokyo University Shogi DS       DS             1985  Action   \n",
       "\n",
       "       na_sales  eu_sales  jp_sales  other_sales  critic_score  user_score  \\\n",
       "15957       0.0       0.0      0.02          0.0           0.0         0.0   \n",
       "\n",
       "      rating  total_sales  \n",
       "15957      U         0.02  "
      ]
     },
     "execution_count": 21,
     "metadata": {},
     "output_type": "execute_result"
    }
   ],
   "source": [
    "data[(data['platform'] == 'DS') \n",
    "     &\n",
    "     (data['year_of_release'] == 1985)]"
   ]
  },
  {
   "cell_type": "markdown",
   "metadata": {},
   "source": [
    "Удивительно, но игра действительно была выпущена в 1985 году. Наверное, она была портирована на DS. Значение можно переписать. \n",
    "\n",
    "https://arcadetemple.com/strongest-tokyo-university-shogi-ds-sales-numbers/"
   ]
  },
  {
   "cell_type": "code",
   "execution_count": 22,
   "metadata": {},
   "outputs": [],
   "source": [
    "data.loc[data['name'] == 'Strongest Tokyo University Shogi DS', 'year_of_release'] = 2004"
   ]
  },
  {
   "cell_type": "code",
   "execution_count": 23,
   "metadata": {},
   "outputs": [],
   "source": [
    "max_sales_platforms = data.groupby('platform')['total_sales'].sum().sort_values(ascending=False).index[:7]\n",
    "max_sales_platforms_by_year = (data[data['platform'].isin(max_sales_platforms)]\n",
    "                               .pivot_table(index=['platform', 'year_of_release']\n",
    "                                            ,values='total_sales'\n",
    "                                            ,aggfunc='sum')\n",
    "                               .reset_index())"
   ]
  },
  {
   "cell_type": "code",
   "execution_count": 24,
   "metadata": {},
   "outputs": [
    {
     "data": {
      "image/png": "[encoded data removed]",
      "text/plain": [
       "<Figure size 1440x360 with 1 Axes>"
      ]
     },
     "metadata": {
      "needs_background": "light"
     },
     "output_type": "display_data"
    }
   ],
   "source": [
    "fig, ax = plt.subplots(figsize=(20,5))\n",
    "sns.lineplot(ax=ax,\n",
    "             data=max_sales_platforms_by_year,\n",
    "             x='year_of_release',\n",
    "             y='total_sales',\n",
    "             hue='platform')\n",
    "plt.legend(loc='best')\n",
    "plt.xlabel('Год')\n",
    "plt.ylabel('Суммарные продажи (млн.)')\n",
    "plt.title('Суммарные продажи по годам у разных платформ')\n",
    "plt.show()"
   ]
  },
  {
   "cell_type": "code",
   "execution_count": 25,
   "metadata": {},
   "outputs": [
    {
     "name": "stdout",
     "output_type": "stream",
     "text": [
      "В среднем платформы живут 7 лет\n"
     ]
    }
   ],
   "source": [
    "# Определим средний жизненный цикл платформы\n",
    "lifecycles = []\n",
    "for platform in data['platform'].unique():\n",
    "    if platform in ('PS4', 'XOne'):\n",
    "        pass\n",
    "    else:\n",
    "        lifecycles.append(data[data['platform'] == platform]['year_of_release'].max() \\\n",
    "        - data[data['platform'] == platform]['year_of_release'].min())\n",
    "import statistics\n",
    "\n",
    "print(f'В среднем платформы живут {statistics.mean(lifecycles)} лет')"
   ]
  },
  {
   "cell_type": "markdown",
   "metadata": {},
   "source": [
    "Как долго будет жить платформа, зависит в первую очередь от самрй платформы. Можно увидеть, как платформы, вышедшие примерно в одно время, показывают разный жизненный цикл. Например, PS3 и X360 похожи друг на друга, вышли примерно в одно время и показали похожую динамику. При этом Wii, вышедшая даже чуть позже них, продемонстрировала гораздо более резкий пик и спад. \n",
    "\n",
    "Что касается платформы PS2, видно, как разко изменились продажи, когда вышла модель нового поколения - PS3, они стали падать менее интенсивно. Можно прежположить, что с выходом PS3 стоимость PS2 резко упала, и её начали покупать те, кто не был готов платить за неё полную стоимость.\n",
    "\n",
    "Также видно, что чем дальше в будущее, тем более мощные устройства появляются на рынке и тем медленнее они устаревают. Жизненные циклы платформ становятся дольше.\n",
    "\n",
    "В среднем платформы живут 7 лет."
   ]
  },
  {
   "cell_type": "markdown",
   "metadata": {},
   "source": [
    "### Лидеры продаж за актуальный период"
   ]
  },
  {
   "cell_type": "code",
   "execution_count": 26,
   "metadata": {},
   "outputs": [],
   "source": [
    "# Актуальный период можно взять с 2015 года. Взяв период раньше, мы можем начать анализировать отжившие тренды\n",
    "actual_data = data[data['year_of_release'] >= 2013]"
   ]
  },
  {
   "cell_type": "code",
   "execution_count": 27,
   "metadata": {},
   "outputs": [
    {
     "data": {
      "text/plain": [
       "platform\n",
       "PS4     314.14\n",
       "PS3     181.43\n",
       "XOne    159.32\n",
       "3DS     143.25\n",
       "X360    136.80\n",
       "WiiU     64.63\n",
       "PC       39.43\n",
       "PSV      32.99\n",
       "Wii      13.66\n",
       "PSP       3.50\n",
       "DS        1.54\n",
       "Name: total_sales, dtype: float64"
      ]
     },
     "execution_count": 27,
     "metadata": {},
     "output_type": "execute_result"
    }
   ],
   "source": [
    "actual_data.groupby('platform')['total_sales'].sum().sort_values(ascending=False)"
   ]
  },
  {
   "cell_type": "code",
   "execution_count": 28,
   "metadata": {},
   "outputs": [
    {
     "data": {
      "image/png": "[encoded data removed]",
      "text/plain": [
       "<Figure size 1440x360 with 1 Axes>"
      ]
     },
     "metadata": {
      "needs_background": "light"
     },
     "output_type": "display_data"
    }
   ],
   "source": [
    "fig, ax = plt.subplots(figsize=(20,5))\n",
    "sns.boxplot(ax=ax,\n",
    "            y='total_sales', \n",
    "            x='platform', \n",
    "            data=actual_data)\n",
    "plt.title('Глобальные продажи в разбивке по платформам')\n",
    "plt.xlabel('Платформы')\n",
    "plt.ylabel('Продажи (млн.)')\n",
    "plt.show()"
   ]
  },
  {
   "cell_type": "markdown",
   "metadata": {},
   "source": [
    "Видно, что в данных много выбросов. Прежде, чем продолжать анализ, следует избавиться от них."
   ]
  },
  {
   "cell_type": "code",
   "execution_count": 29,
   "metadata": {},
   "outputs": [
    {
     "data": {
      "image/png": "[encoded data removed]",
      "text/plain": [
       "<Figure size 1440x360 with 1 Axes>"
      ]
     },
     "metadata": {
      "needs_background": "light"
     },
     "output_type": "display_data"
    }
   ],
   "source": [
    "fig, ax = plt.subplots(figsize=(20,5))\n",
    "sns.boxplot(ax=ax,\n",
    "            y='total_sales', \n",
    "            x='platform', \n",
    "            data=actual_data[actual_data['total_sales'] <= 0.7])\n",
    "plt.title('Распределение продаж по платформам-лидерам')\n",
    "plt.xlabel('Платформа')\n",
    "plt.ylabel('Продажи (млн.)');"
   ]
  },
  {
   "cell_type": "markdown",
   "metadata": {},
   "source": [
    "X360 и XOne лидируютпоказывает более высокую медиану. Это платформы одной компании, они - прямые конкуренты. Хотя XOne более новая платформа, X360 не спешит сдавать ей позиции. Также высокие продажи показывают PlayStation с платформами PS4 и PS3 и Nintendo с платформами Wii, WiiU и DS. PC держит неплохую позицию.    "
   ]
  },
  {
   "cell_type": "markdown",
   "metadata": {},
   "source": [
    "### Влияние отзывов на продажи\n",
    "\n",
    "Возьмём несколько популярных в актуальном периоде платформ и исследуем, как отзывы влияют на продажи."
   ]
  },
  {
   "cell_type": "code",
   "execution_count": 30,
   "metadata": {},
   "outputs": [],
   "source": [
    "data_critic = actual_data[(actual_data['critic_score'] > 0)]\n",
    "actual_popular_platforms_c = data_critic.groupby('platform')['total_sales'].sum().sort_values(ascending=False).index[:3]\n",
    "actual_popular_data_c = data_critic[data_critic['platform'].isin(actual_popular_platforms_c)]"
   ]
  },
  {
   "cell_type": "code",
   "execution_count": 31,
   "metadata": {},
   "outputs": [
    {
     "data": {
      "image/png": "[encoded data removed]",
      "text/plain": [
       "<Figure size 1440x432 with 1 Axes>"
      ]
     },
     "metadata": {
      "needs_background": "light"
     },
     "output_type": "display_data"
    },
    {
     "name": "stdout",
     "output_type": "stream",
     "text": [
      "Коэффициент корреляции платформы PS4: 41.0 %\n"
     ]
    },
    {
     "data": {
      "image/png": "[encoded data removed]",
      "text/plain": [
       "<Figure size 1440x432 with 1 Axes>"
      ]
     },
     "metadata": {
      "needs_background": "light"
     },
     "output_type": "display_data"
    },
    {
     "name": "stdout",
     "output_type": "stream",
     "text": [
      "Коэффициент корреляции платформы XOne: 42.0 %\n"
     ]
    },
    {
     "data": {
      "image/png": "[encoded data removed]",
      "text/plain": [
       "<Figure size 1440x432 with 1 Axes>"
      ]
     },
     "metadata": {
      "needs_background": "light"
     },
     "output_type": "display_data"
    },
    {
     "name": "stdout",
     "output_type": "stream",
     "text": [
      "Коэффициент корреляции платформы PS3: 33.0 %\n"
     ]
    }
   ],
   "source": [
    "for platform in actual_popular_platforms_c:\n",
    "    fig, ax = plt.subplots(figsize=(20,6))\n",
    "    plt.scatter(x=actual_popular_data_c[actual_popular_data_c['platform'] == platform]['critic_score'], \n",
    "                y=actual_popular_data_c[actual_popular_data_c['platform'] == platform]['total_sales'])\n",
    "    plt.xticks([x for x in range(10, 100, 5)])\n",
    "    plt.title(f'Влияние оценок критиков на продажи игр {platform}')\n",
    "    plt.xlabel('Оценка критика')\n",
    "    plt.ylabel('Продажи (млн.)')\n",
    "    plt.show();\n",
    "    corr_critic = actual_popular_data_c[actual_popular_data_c['platform'] == platform][['critic_score', 'total_sales']].corr()\n",
    "    print(f'''Коэффициент корреляции платформы {platform}: {corr_critic.iloc[0, 1].round(2) * 100} %''')"
   ]
  },
  {
   "cell_type": "code",
   "execution_count": 32,
   "metadata": {},
   "outputs": [],
   "source": [
    "# Проведем аналогичное с оценкой пользователей\n",
    "\n",
    "data_user = actual_data[(actual_data['user_score'] > 0)]\n",
    "actual_popular_platforms_u = data_critic.groupby('platform')['total_sales'].sum().sort_values(ascending=False).index[:3]\n",
    "actual_popular_data_u = data_critic[data_critic['platform'].isin(actual_popular_platforms_u)]"
   ]
  },
  {
   "cell_type": "code",
   "execution_count": 33,
   "metadata": {},
   "outputs": [
    {
     "data": {
      "image/png": "[encoded data removed]",
      "text/plain": [
       "<Figure size 1440x432 with 1 Axes>"
      ]
     },
     "metadata": {
      "needs_background": "light"
     },
     "output_type": "display_data"
    },
    {
     "name": "stdout",
     "output_type": "stream",
     "text": [
      "Коэффициент корреляции платформы PS4: -0.0 %\n"
     ]
    },
    {
     "data": {
      "image/png": "[encoded data removed]",
      "text/plain": [
       "<Figure size 1440x432 with 1 Axes>"
      ]
     },
     "metadata": {
      "needs_background": "light"
     },
     "output_type": "display_data"
    },
    {
     "name": "stdout",
     "output_type": "stream",
     "text": [
      "Коэффициент корреляции платформы XOne: -1.0 %\n"
     ]
    },
    {
     "data": {
      "image/png": "[encoded data removed]",
      "text/plain": [
       "<Figure size 1440x432 with 1 Axes>"
      ]
     },
     "metadata": {
      "needs_background": "light"
     },
     "output_type": "display_data"
    },
    {
     "name": "stdout",
     "output_type": "stream",
     "text": [
      "Коэффициент корреляции платформы PS3: 3.0 %\n"
     ]
    }
   ],
   "source": [
    "for platform in actual_popular_platforms_u:\n",
    "    fig, ax = plt.subplots(figsize=(20,6))\n",
    "    plt.scatter(x=actual_popular_data_u[actual_popular_data_u['platform'] == platform]['critic_score'], \n",
    "                y=actual_popular_data_u[actual_popular_data_u['platform'] == platform]['total_sales'])\n",
    "    plt.xticks([x for x in range(10, 100, 5)])\n",
    "    plt.title(f'Влияние оценок пользователей на продажи игр {platform}')\n",
    "    plt.xlabel('Оценка критика')\n",
    "    plt.ylabel('Продажи (млн.)')\n",
    "    plt.show();\n",
    "    corr_critic = actual_popular_data_u[actual_popular_data_u['platform'] == platform][['user_score', 'total_sales']].corr()\n",
    "    print(f'''Коэффициент корреляции платформы {platform}: {corr_critic.iloc[0, 1].round(2) * 100} %''')"
   ]
  },
  {
   "cell_type": "markdown",
   "metadata": {},
   "source": [
    "**Вывод об оценках**\n",
    "\n",
    "В целом можно увидеть, что оценки критиков сильно влияют на продажи трех популярных платформ. Влияние оценок пользователей близко к нулю."
   ]
  },
  {
   "cell_type": "markdown",
   "metadata": {},
   "source": [
    "### Жанры"
   ]
  },
  {
   "cell_type": "code",
   "execution_count": 34,
   "metadata": {},
   "outputs": [
    {
     "data": {
      "image/png": "[encoded data removed]",
      "text/plain": [
       "<Figure size 1440x360 with 1 Axes>"
      ]
     },
     "metadata": {
      "needs_background": "light"
     },
     "output_type": "display_data"
    }
   ],
   "source": [
    "fig, ax = plt.subplots(figsize=(20,5))\n",
    "sns.boxplot(ax=ax,\n",
    "            y='total_sales', \n",
    "            x='genre', \n",
    "            data=actual_data[actual_data['total_sales'] <= 0.6])\n",
    "plt.title('Распределение продаж по платформам-лидерам')\n",
    "plt.xlabel('Платформа')\n",
    "plt.ylabel('Продажи (млн.)');"
   ]
  },
  {
   "cell_type": "markdown",
   "metadata": {},
   "source": [
    "**Вывод о жанрах**\n",
    "\n",
    "*Shooter, Racing и Sports* - более популярны. Возможно, потому что они во-первых, более простые и понятные, во-вторых, более динамичные.\n",
    "\n",
    "*Strategy, Puzzle и Adventure* - в принципе выпускается мало игр всех трёх типов, а у *Strategy* ещё и порог входа очень высокий. Эти игры более медленные, они требуют большего умственного напряжения, а мозг не любит напрягаться."
   ]
  },
  {
   "cell_type": "markdown",
   "metadata": {},
   "source": [
    "<a id='users'></a>\n",
    "## Портреты пользователей"
   ]
  },
  {
   "cell_type": "markdown",
   "metadata": {},
   "source": [
    "### Платформы"
   ]
  },
  {
   "cell_type": "code",
   "execution_count": 35,
   "metadata": {},
   "outputs": [
    {
     "name": "stdout",
     "output_type": "stream",
     "text": [
      "Популярные платформы в разных регионах:\n",
      "\n",
      "Северная Америка: ['PS4' 'XOne' 'X360' 'PS3' '3DS']\n",
      "Европа:           ['PS4' 'PS3' 'XOne' 'X360' '3DS']\n",
      "Япония:           ['3DS' 'PS3' 'PSV' 'PS4' 'WiiU']\n"
     ]
    }
   ],
   "source": [
    "leaders_na = actual_data.groupby('platform')['na_sales'].sum().sort_values(ascending=False).index[:5]\n",
    "leaders_eu = actual_data.groupby('platform')['eu_sales'].sum().sort_values(ascending=False).index[:5]\n",
    "leaders_jp = actual_data.groupby('platform')['jp_sales'].sum().sort_values(ascending=False).index[:5]\n",
    "\n",
    "print(f'''Популярные платформы в разных регионах:\n",
    "\n",
    "Северная Америка: {leaders_na.values}\n",
    "Европа:           {leaders_eu.values}\n",
    "Япония:           {leaders_jp.values}''')"
   ]
  },
  {
   "cell_type": "code",
   "execution_count": 36,
   "metadata": {},
   "outputs": [
    {
     "data": {
      "image/png": "[encoded data removed]",
      "text/plain": [
       "<Figure size 1440x360 with 1 Axes>"
      ]
     },
     "metadata": {
      "needs_background": "light"
     },
     "output_type": "display_data"
    }
   ],
   "source": [
    "actual_data.groupby('platform')['na_sales'].sum().sort_values(ascending=False).plot(kind='bar', figsize=(20,5))\n",
    "plt.title('Популярные платформы в Северной Америке')\n",
    "plt.xlabel('Платформа')\n",
    "plt.ylabel('Продажи (млн.)');"
   ]
  },
  {
   "cell_type": "code",
   "execution_count": 37,
   "metadata": {},
   "outputs": [
    {
     "data": {
      "image/png": "[encoded data removed]",
      "text/plain": [
       "<Figure size 1440x360 with 1 Axes>"
      ]
     },
     "metadata": {
      "needs_background": "light"
     },
     "output_type": "display_data"
    }
   ],
   "source": [
    "actual_data.groupby('platform')['eu_sales'].sum().sort_values(ascending=False).plot(kind='bar', figsize=(20,5))\n",
    "plt.title('Популярные платформы в Европе')\n",
    "plt.xlabel('Платформа')\n",
    "plt.ylabel('Продажи (млн.)');"
   ]
  },
  {
   "cell_type": "code",
   "execution_count": 38,
   "metadata": {},
   "outputs": [
    {
     "data": {
      "image/png": "[encoded data removed]",
      "text/plain": [
       "<Figure size 1440x360 with 1 Axes>"
      ]
     },
     "metadata": {
      "needs_background": "light"
     },
     "output_type": "display_data"
    }
   ],
   "source": [
    "actual_data.groupby('platform')['jp_sales'].sum().sort_values(ascending=False).plot(kind='bar', figsize=(20,5))\n",
    "plt.title('Популярные платформы в Японии')\n",
    "plt.xlabel('Платформа')\n",
    "plt.ylabel('Продажи (млн.)');"
   ]
  },
  {
   "cell_type": "markdown",
   "metadata": {},
   "source": [
    "В Америке и Европе лидируют - *PS4* и *XOne*. В целом топы западных стран очень похожи.\n",
    "\n",
    "В Японии самая популярная платформа - *Nintento*. Весь остальной топ занимает PlayStation."
   ]
  },
  {
   "cell_type": "markdown",
   "metadata": {},
   "source": [
    "### Жанры"
   ]
  },
  {
   "cell_type": "code",
   "execution_count": 39,
   "metadata": {},
   "outputs": [
    {
     "name": "stdout",
     "output_type": "stream",
     "text": [
      "Популярные жанры в разных регионах:\n",
      "\n",
      "Северная Америка: ['Action' 'Shooter' 'Sports' 'Role-Playing' 'Misc']\n",
      "Европа:           ['Action' 'Shooter' 'Sports' 'Role-Playing' 'Racing']\n",
      "Япония:           ['Role-Playing' 'Action' 'Misc' 'Fighting' 'Shooter']\n"
     ]
    }
   ],
   "source": [
    "genres_na = actual_data.groupby('genre')['na_sales'].sum().sort_values(ascending=False).index[:5]\n",
    "genres_eu = actual_data.groupby('genre')['eu_sales'].sum().sort_values(ascending=False).index[:5]\n",
    "genres_jp = actual_data.groupby('genre')['jp_sales'].sum().sort_values(ascending=False).index[:5]\n",
    "\n",
    "print(f'''Популярные жанры в разных регионах:\n",
    "\n",
    "Северная Америка: {genres_na.values}\n",
    "Европа:           {genres_eu.values}\n",
    "Япония:           {genres_jp.values}''')"
   ]
  },
  {
   "cell_type": "markdown",
   "metadata": {},
   "source": [
    "Жанры в Америке и Европе почти идентичны поп популярности. В Японии уже довольно сильно отличаются. Скорее всего это связано с менталитетом и культурой. Европа и Америка в целом очень похожи друг на друга, Япония же несколько отличается. В целом все регионы любят Action, Shooter и RPG. Есть и незначительные местные отличия. В Европе больше любят Racing, в Японии Fighting и Misc. "
   ]
  },
  {
   "cell_type": "markdown",
   "metadata": {},
   "source": [
    "### Влияние ESRB на продажи"
   ]
  },
  {
   "cell_type": "code",
   "execution_count": 40,
   "metadata": {},
   "outputs": [],
   "source": [
    "rating_na = actual_data.groupby('rating')['na_sales'].sum().sort_values(ascending=False)\n",
    "rating_eu = actual_data.groupby('rating')['eu_sales'].sum().sort_values(ascending=False)\n",
    "rating_jp = actual_data.groupby('rating')['jp_sales'].sum().sort_values(ascending=False)"
   ]
  },
  {
   "cell_type": "code",
   "execution_count": 41,
   "metadata": {},
   "outputs": [
    {
     "data": {
      "text/plain": [
       "rating\n",
       "M       165.21\n",
       "U        89.42\n",
       "E        79.05\n",
       "E10+     54.24\n",
       "T        49.79\n",
       "Name: na_sales, dtype: float64"
      ]
     },
     "execution_count": 41,
     "metadata": {},
     "output_type": "execute_result"
    }
   ],
   "source": [
    "rating_na"
   ]
  },
  {
   "cell_type": "code",
   "execution_count": 42,
   "metadata": {},
   "outputs": [
    {
     "data": {
      "text/plain": [
       "rating\n",
       "M       145.32\n",
       "E        83.36\n",
       "U        78.91\n",
       "E10+     42.69\n",
       "T        41.95\n",
       "Name: eu_sales, dtype: float64"
      ]
     },
     "execution_count": 42,
     "metadata": {},
     "output_type": "execute_result"
    }
   ],
   "source": [
    "rating_eu"
   ]
  },
  {
   "cell_type": "code",
   "execution_count": 43,
   "metadata": {},
   "outputs": [
    {
     "data": {
      "text/plain": [
       "rating\n",
       "U       85.05\n",
       "T       20.59\n",
       "E       15.14\n",
       "M       14.11\n",
       "E10+     5.89\n",
       "Name: jp_sales, dtype: float64"
      ]
     },
     "execution_count": 43,
     "metadata": {},
     "output_type": "execute_result"
    }
   ],
   "source": [
    "rating_jp"
   ]
  },
  {
   "cell_type": "markdown",
   "metadata": {},
   "source": [
    "Можно заметить, что в США и Европе более популярны игры *M* - для взрослых. Далее следуют игры *E* - для всех. В Японии не так много игр в принципе имеют рейтинг. Специфика рейтинга ESRB, такова, что он применяется главным образом для игр, реализуемых в США и Канаде. Отсюда и отсутствие рейтинга для игр в других регионах. Данных о Японии не так много, чтобы делать выводы о том, что рейтинги их игр сильно отличаются от западных."
   ]
  },
  {
   "cell_type": "markdown",
   "metadata": {},
   "source": [
    "<a id='hypothesis'></a>\n",
    "## Проверка гипотез"
   ]
  },
  {
   "cell_type": "markdown",
   "metadata": {},
   "source": [
    "### Одинаковы ли средние рейтинги пользователей Xbox One и PC?\n",
    "\n",
    "<strong>Нулевая гипотеза:</strong> в среднем рейтинги пользователей Xbox One не отличаются от рейтингов пользователей PC<br>\n",
    "<strong>Альтернативная гипотеза:</strong> в среднем рейтинги пользователей Xbox One отличаются от рейтингов пользователей PC\n",
    "\n",
    "Чтобы проверить эту гипотезу, понадобится двустороннее сравнение средних двух выборок."
   ]
  },
  {
   "cell_type": "code",
   "execution_count": 44,
   "metadata": {},
   "outputs": [
    {
     "name": "stdout",
     "output_type": "stream",
     "text": [
      "Средние оценки пользователей:\n",
      "Xbox One: 7.0\n",
      "PC: 6.0\n",
      "\n",
      "p-значение: 0.14759594013430463 \n",
      "\n",
      "Не получилось отвергнуть нулевую гипотезу. \n",
      "Средние оценки пользователей Xbox One не отличаются от средних оценок пользователей PC.\n"
     ]
    }
   ],
   "source": [
    "xone_user_score = actual_data[(actual_data['platform'] == 'XOne')\n",
    "                              &\n",
    "                              (actual_data['user_score'] > 0)]['user_score']\n",
    "pc_user_score = actual_data[(actual_data['platform'] == 'PC')\n",
    "                            &\n",
    "                            (actual_data['user_score'] > 0)]['user_score']\n",
    "results = st.ttest_ind(pc_user_score, \n",
    "                       xone_user_score, \n",
    "                       alternative='two-sided', \n",
    "                       equal_var=False)\n",
    "alpha = 0.05 \n",
    "\n",
    "print(f'''Средние оценки пользователей:\n",
    "Xbox One: {xone_user_score.mean().round()}\n",
    "PC: {pc_user_score.mean().round()}\\n''')\n",
    "\n",
    "print('p-значение:', results.pvalue, '\\n')\n",
    "\n",
    "if results.pvalue < alpha:\n",
    "    print('''Отвергаем нулевую гипотезу. \n",
    "Средние оценки пользователей Xbox One отличаются от средних оценок пользователей PC.''')\n",
    "else:\n",
    "    print('''Не получилось отвергнуть нулевую гипотезу. \n",
    "Средние оценки пользователей Xbox One не отличаются от средних оценок пользователей PC.''') "
   ]
  },
  {
   "cell_type": "markdown",
   "metadata": {},
   "source": [
    "### Разные ли средние пользовательские рейтинги у жанров Action и Sports?\n",
    "\n",
    "<strong>Нулевая гипотеза:</strong> в среднем пользовательские рейтинги жанра Action не отличаются от рейтингов жанра Sports<br>\n",
    "<strong>Альтернативная гипотеза:</strong> в среднем пользовательские рейтинги жанра Action отличаются от рейтингов жанра Sports\n",
    "\n",
    "Чтобы проверить эту гипотезу, также понадобится двустороннее сравнение средних двух выборок. Поскольку данных по *Action* сильно больше, возьмём оттуда рандомизированную выборку размера 389. Именно столько данных есть в выборке *Sports*"
   ]
  },
  {
   "cell_type": "code",
   "execution_count": 45,
   "metadata": {},
   "outputs": [
    {
     "name": "stdout",
     "output_type": "stream",
     "text": [
      "Средние оценки пользователей:\n",
      "Action: 7.0\n",
      "Sports: 5.0\n",
      "\n",
      "p-значение: 1.4460039700704315e-20 \n",
      "\n",
      "Отвергаем нулевую гипотезу. \n",
      "Средние пользовательские оценки Action отличаются от средних оценок Sports.\n"
     ]
    }
   ],
   "source": [
    "action_user_score = actual_data[(actual_data['genre'] == 'Action')\n",
    "                                &\n",
    "                                (actual_data['user_score'] > 0)]['user_score']\n",
    "sports_user_score = actual_data[(actual_data['genre'] == 'Sports')\n",
    "                                &\n",
    "                                (actual_data['user_score'] > 0)]['user_score']\n",
    "\n",
    "results = st.ttest_ind(sports_user_score, \n",
    "                       action_user_score, \n",
    "                       alternative='two-sided', \n",
    "                       equal_var=False)\n",
    "alpha = 0.05 \n",
    "\n",
    "print(f'''Средние оценки пользователей:\n",
    "Action: {action_user_score.mean().round()}\n",
    "Sports: {sports_user_score.mean().round()}\\n''')\n",
    "\n",
    "print('p-значение:', results.pvalue, '\\n')\n",
    "\n",
    "if results.pvalue < alpha:\n",
    "    print('''Отвергаем нулевую гипотезу. \n",
    "Средние пользовательские оценки Action отличаются от средних оценок Sports.''')\n",
    "else:\n",
    "    print('''Не получилось отвергнуть нулевую гипотезу. \n",
    "Средние пользовательские оценки Action отличаются от средних оценок Sports.''') "
   ]
  },
  {
   "cell_type": "markdown",
   "metadata": {},
   "source": [
    "<a id='resume'></a>\n",
    "## Общий вывод\n",
    "\n",
    "**Что мы сделали:**\n",
    "- Заполнили пропуски в данных;\n",
    "- Удалили неявные дубликаты;\n",
    "- Визуально оценили распределение данных в различных срезах;\n",
    "- Составили портреты пользователей из разных стран;\n",
    "- Проверили несколько гипотез;\n",
    "\n",
    "**Выводы:**\n",
    "- Чаще всего встречаются игры с рейтингом M, если рейтинг вообще заполнен, что происходит далеко не всегда;\n",
    "- Период жизни игровой платформы около 7 лет;\n",
    "- Самые популярные платформы: PlayStation, Xbox, Nintendo;\n",
    "- Оценки критиков распределены вокруг 70 баллов. Это говорит о том, что выходящие игры в основном как минимум неплохие;\n",
    "- Пользователи более тепло оценивают игры. Чаще встречаются оценки 7.0-8.0;\n",
    "- Доверяют же пользователи больше оценкам критиков, чем оценкам других пользователей. Оценки критиков влияют на продажи, оценки пользователей - почти нет;\n",
    "- В разных регионах популярны разные платформы и жанры. В Японии больше любят платформу Nintendo и жанры Action и RPG, в США и Европе - PlayStation, чаще играют в Shooter и Action;\n",
    "- Несмотря на высокую популярность жанров Sports и Action, оценки этих жанров значимо отличаются;\n",
    "- Что касается PC, то его оценки значимо не отличаются от оценок Xbox; \n",
    "\n",
    "\n",
    "**Рекомендации:**\n",
    "- Общие:\n",
    "-- Следить за оценками критиков в первую очередь и пользователей - во вторую. Закупать игры с высокими оценками;\n",
    "-- Action, Shooter и RPG популярны во всех регионах. Их надо завозить в большом количестве;\n",
    "-- PlayStation популярна во всех регионах. Игры для неё обязательно нужны везде;\n",
    "\n",
    "- Америка и Европа\n",
    "-- Очень похожи друг на друга. Помимо Action, Shooter и RPG они любят игры жанра Sports.\n",
    "-- В Американских филиалах стоит представить чуть больше инди-игр, а в Европейских - гоночных.\n",
    "\n",
    "- В Японии \n",
    "-- Доминирует Nintendo, нужно обеспечить игры этой платформы в первую очередь, а PlayStation уже во вторую;\n",
    "-- Здесь популярны игры жанра Adventure;\n",
    "-- Рейтинг в Японии мало что значит;"
   ]
  }
 ],
 "metadata": {
  "ExecuteTimeLog": [
   {
    "duration": 857,
    "start_time": "2023-09-18T07:18:56.314Z"
   },
   {
    "duration": 95,
    "start_time": "2023-09-18T07:19:08.294Z"
   },
   {
    "duration": 51,
    "start_time": "2023-09-18T07:20:38.724Z"
   },
   {
    "duration": 25,
    "start_time": "2023-09-18T07:20:42.360Z"
   },
   {
    "duration": 4,
    "start_time": "2023-09-18T07:20:51.511Z"
   },
   {
    "duration": 66,
    "start_time": "2023-09-18T07:20:55.410Z"
   },
   {
    "duration": 7,
    "start_time": "2023-09-18T07:21:03.789Z"
   },
   {
    "duration": 3,
    "start_time": "2023-09-18T07:21:09.363Z"
   },
   {
    "duration": 71,
    "start_time": "2023-09-18T07:21:34.477Z"
   },
   {
    "duration": 3,
    "start_time": "2023-09-18T07:21:34.702Z"
   },
   {
    "duration": 6,
    "start_time": "2023-09-18T07:21:35.299Z"
   },
   {
    "duration": 22,
    "start_time": "2023-09-18T07:21:42.228Z"
   },
   {
    "duration": 6,
    "start_time": "2023-09-18T07:23:26.340Z"
   },
   {
    "duration": 19,
    "start_time": "2023-09-18T07:23:29.091Z"
   },
   {
    "duration": 61,
    "start_time": "2023-09-18T07:23:39.744Z"
   },
   {
    "duration": 3,
    "start_time": "2023-09-18T07:23:40.732Z"
   },
   {
    "duration": 4,
    "start_time": "2023-09-18T07:23:41.268Z"
   },
   {
    "duration": 5,
    "start_time": "2023-09-18T07:23:42.266Z"
   },
   {
    "duration": 20,
    "start_time": "2023-09-18T07:23:42.830Z"
   },
   {
    "duration": 70,
    "start_time": "2023-09-18T07:24:25.524Z"
   },
   {
    "duration": 18,
    "start_time": "2023-09-18T07:24:25.875Z"
   },
   {
    "duration": 6,
    "start_time": "2023-09-18T07:24:30.712Z"
   },
   {
    "duration": 567,
    "start_time": "2023-09-18T07:24:58.480Z"
   },
   {
    "duration": 0,
    "start_time": "2023-09-18T07:24:59.048Z"
   },
   {
    "duration": 60,
    "start_time": "2023-09-18T07:25:02.448Z"
   },
   {
    "duration": 3,
    "start_time": "2023-09-18T07:25:02.981Z"
   },
   {
    "duration": 5,
    "start_time": "2023-09-18T07:25:03.208Z"
   },
   {
    "duration": 11,
    "start_time": "2023-09-18T07:25:03.481Z"
   },
   {
    "duration": 20,
    "start_time": "2023-09-18T07:25:37.957Z"
   },
   {
    "duration": 59,
    "start_time": "2023-09-18T07:26:27.291Z"
   },
   {
    "duration": 3,
    "start_time": "2023-09-18T07:26:27.675Z"
   },
   {
    "duration": 21,
    "start_time": "2023-09-18T07:26:35.669Z"
   },
   {
    "duration": 9,
    "start_time": "2023-09-18T07:26:39.543Z"
   },
   {
    "duration": 8,
    "start_time": "2023-09-18T07:27:34.510Z"
   },
   {
    "duration": 13,
    "start_time": "2023-09-18T07:27:38.557Z"
   },
   {
    "duration": 13,
    "start_time": "2023-09-18T07:28:38.386Z"
   },
   {
    "duration": 23,
    "start_time": "2023-09-18T07:28:53.147Z"
   },
   {
    "duration": 66,
    "start_time": "2023-09-18T07:33:20.713Z"
   },
   {
    "duration": 17,
    "start_time": "2023-09-18T07:33:28.589Z"
   },
   {
    "duration": 2894,
    "start_time": "2023-09-18T07:33:42.090Z"
   },
   {
    "duration": 20,
    "start_time": "2023-09-18T07:33:53.487Z"
   },
   {
    "duration": 18,
    "start_time": "2023-09-18T07:34:24.673Z"
   },
   {
    "duration": 19,
    "start_time": "2023-09-18T07:35:26.408Z"
   },
   {
    "duration": 6,
    "start_time": "2023-09-18T07:37:11.811Z"
   },
   {
    "duration": 13,
    "start_time": "2023-09-18T07:37:18.352Z"
   },
   {
    "duration": 28,
    "start_time": "2023-09-18T07:37:39.286Z"
   },
   {
    "duration": 3,
    "start_time": "2023-09-18T07:39:44.423Z"
   },
   {
    "duration": 3833,
    "start_time": "2023-09-18T07:40:00.866Z"
   },
   {
    "duration": 22,
    "start_time": "2023-09-18T07:40:10.084Z"
   },
   {
    "duration": 28,
    "start_time": "2023-09-18T07:40:20.426Z"
   },
   {
    "duration": 13,
    "start_time": "2023-09-18T07:41:12.666Z"
   },
   {
    "duration": 12,
    "start_time": "2023-09-18T07:41:18.317Z"
   },
   {
    "duration": 13,
    "start_time": "2023-09-18T07:41:21.250Z"
   },
   {
    "duration": 23,
    "start_time": "2023-09-18T07:41:37.120Z"
   },
   {
    "duration": 47,
    "start_time": "2023-09-18T07:41:42.107Z"
   },
   {
    "duration": 13,
    "start_time": "2023-09-18T07:42:30.640Z"
   },
   {
    "duration": 28,
    "start_time": "2023-09-18T07:42:36.613Z"
   },
   {
    "duration": 37,
    "start_time": "2023-09-18T07:42:41.220Z"
   },
   {
    "duration": 22,
    "start_time": "2023-09-18T07:42:48.039Z"
   },
   {
    "duration": 42,
    "start_time": "2023-09-18T07:42:53.754Z"
   },
   {
    "duration": 27,
    "start_time": "2023-09-18T07:42:58.283Z"
   },
   {
    "duration": 13,
    "start_time": "2023-09-18T07:44:42.997Z"
   },
   {
    "duration": 12,
    "start_time": "2023-09-18T07:44:58.031Z"
   },
   {
    "duration": 5,
    "start_time": "2023-09-18T07:45:09.408Z"
   },
   {
    "duration": 8,
    "start_time": "2023-09-18T07:45:14.692Z"
   },
   {
    "duration": 7,
    "start_time": "2023-09-18T07:45:16.397Z"
   },
   {
    "duration": 4,
    "start_time": "2023-09-18T07:45:18.581Z"
   },
   {
    "duration": 11,
    "start_time": "2023-09-18T07:45:23.665Z"
   },
   {
    "duration": 30,
    "start_time": "2023-09-18T07:45:34.787Z"
   },
   {
    "duration": 6,
    "start_time": "2023-09-18T07:45:42.891Z"
   },
   {
    "duration": 8,
    "start_time": "2023-09-18T07:45:49.336Z"
   },
   {
    "duration": 7,
    "start_time": "2023-09-18T07:46:11.435Z"
   },
   {
    "duration": 7,
    "start_time": "2023-09-18T07:46:19.925Z"
   },
   {
    "duration": 8,
    "start_time": "2023-09-18T07:46:27.974Z"
   },
   {
    "duration": 5,
    "start_time": "2023-09-18T07:46:58.959Z"
   },
   {
    "duration": 25,
    "start_time": "2023-09-18T07:47:08.352Z"
   },
   {
    "duration": 15,
    "start_time": "2023-09-18T07:47:36.629Z"
   },
   {
    "duration": 26,
    "start_time": "2023-09-18T07:47:59.260Z"
   },
   {
    "duration": 34,
    "start_time": "2023-09-18T07:48:37.690Z"
   },
   {
    "duration": 32,
    "start_time": "2023-09-18T07:48:47.393Z"
   },
   {
    "duration": 45,
    "start_time": "2023-09-18T07:48:58.703Z"
   },
   {
    "duration": 610,
    "start_time": "2023-09-18T07:49:01.399Z"
   },
   {
    "duration": 109,
    "start_time": "2023-09-18T07:49:02.064Z"
   },
   {
    "duration": 4,
    "start_time": "2023-09-18T07:49:02.476Z"
   },
   {
    "duration": 9,
    "start_time": "2023-09-18T07:49:03.190Z"
   },
   {
    "duration": 20,
    "start_time": "2023-09-18T07:49:04.052Z"
   },
   {
    "duration": 17,
    "start_time": "2023-09-18T07:49:04.530Z"
   },
   {
    "duration": 16,
    "start_time": "2023-09-18T07:49:05.052Z"
   },
   {
    "duration": 44,
    "start_time": "2023-09-18T07:49:39.957Z"
   },
   {
    "duration": 598,
    "start_time": "2023-09-18T07:49:43.405Z"
   },
   {
    "duration": 106,
    "start_time": "2023-09-18T07:49:44.005Z"
   },
   {
    "duration": 3,
    "start_time": "2023-09-18T07:49:44.112Z"
   },
   {
    "duration": 11,
    "start_time": "2023-09-18T07:49:44.574Z"
   },
   {
    "duration": 19,
    "start_time": "2023-09-18T07:49:45.103Z"
   },
   {
    "duration": 15,
    "start_time": "2023-09-18T07:49:45.484Z"
   },
   {
    "duration": 14,
    "start_time": "2023-09-18T07:49:46.012Z"
   },
   {
    "duration": 3422,
    "start_time": "2023-09-18T07:49:46.648Z"
   },
   {
    "duration": 3175,
    "start_time": "2023-09-18T07:50:02.494Z"
   },
   {
    "duration": 16,
    "start_time": "2023-09-18T07:50:13.596Z"
   },
   {
    "duration": 15,
    "start_time": "2023-09-18T07:50:25.854Z"
   },
   {
    "duration": 30,
    "start_time": "2023-09-18T07:50:44.527Z"
   },
   {
    "duration": 11,
    "start_time": "2023-09-18T07:51:02.882Z"
   },
   {
    "duration": 11,
    "start_time": "2023-09-18T07:51:05.141Z"
   },
   {
    "duration": 3,
    "start_time": "2023-09-18T07:51:10.377Z"
   },
   {
    "duration": 3,
    "start_time": "2023-09-18T07:51:13.134Z"
   },
   {
    "duration": 4,
    "start_time": "2023-09-18T07:51:15.428Z"
   },
   {
    "duration": 8,
    "start_time": "2023-09-18T07:51:22.254Z"
   },
   {
    "duration": 22,
    "start_time": "2023-09-18T07:51:24.406Z"
   },
   {
    "duration": 7,
    "start_time": "2023-09-18T07:52:08.350Z"
   },
   {
    "duration": 19,
    "start_time": "2023-09-18T07:52:11.982Z"
   },
   {
    "duration": 17,
    "start_time": "2023-09-18T07:52:33.650Z"
   },
   {
    "duration": 16,
    "start_time": "2023-09-18T07:52:34.796Z"
   },
   {
    "duration": 1573,
    "start_time": "2023-09-18T07:52:58.416Z"
   },
   {
    "duration": 12,
    "start_time": "2023-09-18T07:53:07.134Z"
   },
   {
    "duration": 11,
    "start_time": "2023-09-18T07:53:52.365Z"
   },
   {
    "duration": 11,
    "start_time": "2023-09-18T07:54:05.696Z"
   },
   {
    "duration": 4,
    "start_time": "2023-09-18T07:54:30.858Z"
   },
   {
    "duration": 25,
    "start_time": "2023-09-18T07:54:50.758Z"
   },
   {
    "duration": 3,
    "start_time": "2023-09-18T07:55:05.047Z"
   },
   {
    "duration": 62,
    "start_time": "2023-09-18T07:55:05.520Z"
   },
   {
    "duration": 3,
    "start_time": "2023-09-18T07:55:05.907Z"
   },
   {
    "duration": 9,
    "start_time": "2023-09-18T07:55:06.890Z"
   },
   {
    "duration": 18,
    "start_time": "2023-09-18T07:55:14.896Z"
   },
   {
    "duration": 18,
    "start_time": "2023-09-18T07:55:26.186Z"
   },
   {
    "duration": 60,
    "start_time": "2023-09-18T07:55:31.847Z"
   },
   {
    "duration": 3,
    "start_time": "2023-09-18T07:55:32.175Z"
   },
   {
    "duration": 9,
    "start_time": "2023-09-18T07:55:32.945Z"
   },
   {
    "duration": 24,
    "start_time": "2023-09-18T07:55:34.069Z"
   },
   {
    "duration": 107,
    "start_time": "2023-09-18T07:56:17.164Z"
   },
   {
    "duration": 77,
    "start_time": "2023-09-18T07:56:26.090Z"
   },
   {
    "duration": 5,
    "start_time": "2023-09-18T07:56:40.284Z"
   },
   {
    "duration": 74,
    "start_time": "2023-09-18T07:56:45.798Z"
   },
   {
    "duration": 14,
    "start_time": "2023-09-18T07:56:58.843Z"
   },
   {
    "duration": 2,
    "start_time": "2023-09-18T07:57:19.067Z"
   },
   {
    "duration": 61,
    "start_time": "2023-09-18T07:57:19.435Z"
   },
   {
    "duration": 3,
    "start_time": "2023-09-18T07:57:19.588Z"
   },
   {
    "duration": 9,
    "start_time": "2023-09-18T07:57:20.140Z"
   },
   {
    "duration": 19,
    "start_time": "2023-09-18T07:57:21.707Z"
   },
   {
    "duration": 18,
    "start_time": "2023-09-18T07:57:24.428Z"
   },
   {
    "duration": 16,
    "start_time": "2023-09-18T07:57:26.221Z"
   },
   {
    "duration": 27,
    "start_time": "2023-09-18T07:57:29.231Z"
   },
   {
    "duration": 26,
    "start_time": "2023-09-18T07:57:47.495Z"
   },
   {
    "duration": 11,
    "start_time": "2023-09-18T07:58:17.184Z"
   },
   {
    "duration": 7,
    "start_time": "2023-09-18T07:58:48.407Z"
   },
   {
    "duration": 16,
    "start_time": "2023-09-18T07:59:02.640Z"
   },
   {
    "duration": 62,
    "start_time": "2023-09-18T07:59:53.230Z"
   },
   {
    "duration": 2,
    "start_time": "2023-09-18T07:59:53.555Z"
   },
   {
    "duration": 9,
    "start_time": "2023-09-18T07:59:54.343Z"
   },
   {
    "duration": 19,
    "start_time": "2023-09-18T07:59:55.586Z"
   },
   {
    "duration": 14,
    "start_time": "2023-09-18T07:59:56.639Z"
   },
   {
    "duration": 15,
    "start_time": "2023-09-18T08:01:05.405Z"
   },
   {
    "duration": 3,
    "start_time": "2023-09-18T10:40:41.906Z"
   },
   {
    "duration": 64,
    "start_time": "2023-09-18T10:40:42.499Z"
   },
   {
    "duration": 5,
    "start_time": "2023-09-18T10:40:46.684Z"
   },
   {
    "duration": 10,
    "start_time": "2023-09-18T10:40:49.302Z"
   },
   {
    "duration": 22,
    "start_time": "2023-09-18T10:40:53.995Z"
   },
   {
    "duration": 19,
    "start_time": "2023-09-18T10:40:58.435Z"
   },
   {
    "duration": 21,
    "start_time": "2023-09-18T10:41:20.449Z"
   },
   {
    "duration": 7,
    "start_time": "2023-09-18T10:41:25.267Z"
   },
   {
    "duration": 1942,
    "start_time": "2023-09-18T10:42:35.876Z"
   },
   {
    "duration": 24,
    "start_time": "2023-09-18T10:42:40.559Z"
   },
   {
    "duration": 14,
    "start_time": "2023-09-18T10:43:11.771Z"
   },
   {
    "duration": 24,
    "start_time": "2023-09-18T10:43:15.215Z"
   },
   {
    "duration": 17,
    "start_time": "2023-09-18T10:43:28.798Z"
   },
   {
    "duration": 14,
    "start_time": "2023-09-18T10:43:41.742Z"
   },
   {
    "duration": 17,
    "start_time": "2023-09-18T10:43:59.002Z"
   },
   {
    "duration": 20,
    "start_time": "2023-09-18T10:44:46.570Z"
   },
   {
    "duration": 5,
    "start_time": "2023-09-18T10:44:51.707Z"
   },
   {
    "duration": 5,
    "start_time": "2023-09-18T10:44:57.387Z"
   },
   {
    "duration": 5,
    "start_time": "2023-09-18T10:45:01.254Z"
   },
   {
    "duration": 5,
    "start_time": "2023-09-18T10:45:07.026Z"
   },
   {
    "duration": 19,
    "start_time": "2023-09-18T10:45:58.649Z"
   },
   {
    "duration": 16,
    "start_time": "2023-09-18T10:46:15.108Z"
   },
   {
    "duration": 15,
    "start_time": "2023-09-18T10:46:19.869Z"
   },
   {
    "duration": 20,
    "start_time": "2023-09-18T10:46:58.379Z"
   },
   {
    "duration": 11,
    "start_time": "2023-09-18T10:48:28.210Z"
   },
   {
    "duration": 9,
    "start_time": "2023-09-18T10:48:31.602Z"
   },
   {
    "duration": 3,
    "start_time": "2023-09-18T10:48:35.830Z"
   },
   {
    "duration": 64,
    "start_time": "2023-09-18T10:48:36.174Z"
   },
   {
    "duration": 4,
    "start_time": "2023-09-18T10:48:36.322Z"
   },
   {
    "duration": 11,
    "start_time": "2023-09-18T10:48:45.204Z"
   },
   {
    "duration": 2,
    "start_time": "2023-09-18T10:48:59.456Z"
   },
   {
    "duration": 62,
    "start_time": "2023-09-18T10:49:00.045Z"
   },
   {
    "duration": 4,
    "start_time": "2023-09-18T10:49:00.675Z"
   },
   {
    "duration": 11,
    "start_time": "2023-09-18T10:49:03.134Z"
   },
   {
    "duration": 10,
    "start_time": "2023-09-18T10:49:18.553Z"
   },
   {
    "duration": 1519,
    "start_time": "2023-09-18T10:51:07.187Z"
   },
   {
    "duration": 32,
    "start_time": "2023-09-18T10:51:26.723Z"
   },
   {
    "duration": 16,
    "start_time": "2023-09-18T10:51:44.228Z"
   },
   {
    "duration": 131,
    "start_time": "2023-09-18T10:52:02.800Z"
   },
   {
    "duration": 121,
    "start_time": "2023-09-18T10:52:20.754Z"
   },
   {
    "duration": 126,
    "start_time": "2023-09-18T10:52:34.220Z"
   },
   {
    "duration": 151,
    "start_time": "2023-09-18T10:52:50.453Z"
   },
   {
    "duration": 214,
    "start_time": "2023-09-18T10:53:16.331Z"
   },
   {
    "duration": 6,
    "start_time": "2023-09-18T10:53:35.011Z"
   },
   {
    "duration": 4,
    "start_time": "2023-09-18T10:53:38.520Z"
   },
   {
    "duration": 154,
    "start_time": "2023-09-18T10:54:25.762Z"
   },
   {
    "duration": 247,
    "start_time": "2023-09-18T10:54:28.516Z"
   },
   {
    "duration": 5,
    "start_time": "2023-09-18T10:54:48.570Z"
   },
   {
    "duration": 5,
    "start_time": "2023-09-18T10:54:57.555Z"
   },
   {
    "duration": 6,
    "start_time": "2023-09-18T10:55:02.037Z"
   },
   {
    "duration": 7,
    "start_time": "2023-09-18T10:55:09.056Z"
   },
   {
    "duration": 6,
    "start_time": "2023-09-18T10:55:11.278Z"
   },
   {
    "duration": 247,
    "start_time": "2023-09-18T10:55:18.473Z"
   },
   {
    "duration": 6,
    "start_time": "2023-09-18T10:55:29.647Z"
   },
   {
    "duration": 6,
    "start_time": "2023-09-18T10:55:33.382Z"
   },
   {
    "duration": 6,
    "start_time": "2023-09-18T10:55:36.228Z"
   },
   {
    "duration": 6,
    "start_time": "2023-09-18T10:55:40.081Z"
   },
   {
    "duration": 5,
    "start_time": "2023-09-18T10:55:43.309Z"
   },
   {
    "duration": 6,
    "start_time": "2023-09-18T10:55:46.234Z"
   },
   {
    "duration": 7,
    "start_time": "2023-09-18T10:55:48.344Z"
   },
   {
    "duration": 193,
    "start_time": "2023-09-18T10:55:55.378Z"
   },
   {
    "duration": 191,
    "start_time": "2023-09-18T10:56:08.714Z"
   },
   {
    "duration": 201,
    "start_time": "2023-09-18T10:56:17.868Z"
   },
   {
    "duration": 184,
    "start_time": "2023-09-18T10:56:26.856Z"
   },
   {
    "duration": 197,
    "start_time": "2023-09-18T10:57:01.769Z"
   },
   {
    "duration": 332,
    "start_time": "2023-09-18T10:58:14.448Z"
   },
   {
    "duration": 7,
    "start_time": "2023-09-18T10:58:27.940Z"
   },
   {
    "duration": 7,
    "start_time": "2023-09-18T10:58:35.177Z"
   },
   {
    "duration": 7,
    "start_time": "2023-09-18T10:58:49.817Z"
   },
   {
    "duration": 203,
    "start_time": "2023-09-18T10:59:00.307Z"
   },
   {
    "duration": 205,
    "start_time": "2023-09-18T10:59:58.365Z"
   },
   {
    "duration": 210,
    "start_time": "2023-09-18T11:00:24.037Z"
   },
   {
    "duration": 10,
    "start_time": "2023-09-18T11:00:35.383Z"
   },
   {
    "duration": 1164,
    "start_time": "2023-09-18T11:01:02.813Z"
   },
   {
    "duration": 1109,
    "start_time": "2023-09-18T11:06:44.972Z"
   },
   {
    "duration": 1242,
    "start_time": "2023-09-18T11:06:52.772Z"
   },
   {
    "duration": 201,
    "start_time": "2023-09-18T11:07:15.619Z"
   },
   {
    "duration": 8,
    "start_time": "2023-09-18T11:08:20.585Z"
   },
   {
    "duration": 11,
    "start_time": "2023-09-18T11:08:50.170Z"
   },
   {
    "duration": 1119,
    "start_time": "2023-09-18T11:08:56.362Z"
   },
   {
    "duration": 1128,
    "start_time": "2023-09-18T11:09:08.591Z"
   },
   {
    "duration": 1286,
    "start_time": "2023-09-18T11:18:39.233Z"
   },
   {
    "duration": 1154,
    "start_time": "2023-09-18T11:18:55.334Z"
   },
   {
    "duration": 1170,
    "start_time": "2023-09-18T11:19:29.792Z"
   },
   {
    "duration": 110,
    "start_time": "2023-09-18T11:19:50.387Z"
   },
   {
    "duration": 1245,
    "start_time": "2023-09-18T11:19:55.209Z"
   },
   {
    "duration": 9,
    "start_time": "2023-09-18T11:20:13.344Z"
   },
   {
    "duration": 4,
    "start_time": "2023-09-18T11:20:44.702Z"
   },
   {
    "duration": 76,
    "start_time": "2023-09-18T11:20:45.007Z"
   },
   {
    "duration": 3,
    "start_time": "2023-09-18T11:20:45.141Z"
   },
   {
    "duration": 10,
    "start_time": "2023-09-18T11:20:45.436Z"
   },
   {
    "duration": 16,
    "start_time": "2023-09-18T11:20:45.724Z"
   },
   {
    "duration": 206,
    "start_time": "2023-09-18T11:20:45.856Z"
   },
   {
    "duration": 1311,
    "start_time": "2023-09-18T11:20:46.064Z"
   },
   {
    "duration": 9,
    "start_time": "2023-09-18T11:20:47.377Z"
   },
   {
    "duration": 21,
    "start_time": "2023-09-18T11:21:08.016Z"
   },
   {
    "duration": 1179,
    "start_time": "2023-09-18T11:21:58.604Z"
   },
   {
    "duration": 1152,
    "start_time": "2023-09-18T11:22:25.459Z"
   },
   {
    "duration": 7,
    "start_time": "2023-09-18T11:22:34.101Z"
   },
   {
    "duration": 1304,
    "start_time": "2023-09-18T11:26:39.458Z"
   },
   {
    "duration": 3,
    "start_time": "2023-09-18T11:27:31.869Z"
   },
   {
    "duration": 68,
    "start_time": "2023-09-18T11:27:32.173Z"
   },
   {
    "duration": 3,
    "start_time": "2023-09-18T11:27:32.303Z"
   },
   {
    "duration": 11,
    "start_time": "2023-09-18T11:27:32.567Z"
   },
   {
    "duration": 17,
    "start_time": "2023-09-18T11:27:32.846Z"
   },
   {
    "duration": 203,
    "start_time": "2023-09-18T11:27:32.981Z"
   },
   {
    "duration": 1210,
    "start_time": "2023-09-18T11:27:33.187Z"
   },
   {
    "duration": 29,
    "start_time": "2023-09-18T11:27:34.400Z"
   },
   {
    "duration": 1162,
    "start_time": "2023-09-18T11:27:48.946Z"
   },
   {
    "duration": 3,
    "start_time": "2023-09-18T11:28:31.985Z"
   },
   {
    "duration": 65,
    "start_time": "2023-09-18T11:28:32.305Z"
   },
   {
    "duration": 5,
    "start_time": "2023-09-18T11:28:32.453Z"
   },
   {
    "duration": 12,
    "start_time": "2023-09-18T11:28:32.842Z"
   },
   {
    "duration": 16,
    "start_time": "2023-09-18T11:28:33.314Z"
   },
   {
    "duration": 213,
    "start_time": "2023-09-18T11:28:35.419Z"
   },
   {
    "duration": 1314,
    "start_time": "2023-09-18T11:28:39.328Z"
   },
   {
    "duration": 20,
    "start_time": "2023-09-18T11:28:47.935Z"
   },
   {
    "duration": 8,
    "start_time": "2023-09-18T11:28:50.847Z"
   },
   {
    "duration": 9,
    "start_time": "2023-09-18T11:28:55.600Z"
   },
   {
    "duration": 264,
    "start_time": "2023-09-18T11:28:58.666Z"
   },
   {
    "duration": 27,
    "start_time": "2023-09-18T11:29:03.782Z"
   },
   {
    "duration": 31,
    "start_time": "2023-09-18T11:29:33.997Z"
   },
   {
    "duration": 9,
    "start_time": "2023-09-18T11:29:38.461Z"
   },
   {
    "duration": 9,
    "start_time": "2023-09-18T11:29:48.749Z"
   },
   {
    "duration": 59,
    "start_time": "2023-09-18T11:29:52.341Z"
   },
   {
    "duration": 10,
    "start_time": "2023-09-18T11:30:09.056Z"
   },
   {
    "duration": 11,
    "start_time": "2023-09-18T11:30:20.093Z"
   },
   {
    "duration": 13,
    "start_time": "2023-09-18T11:30:23.201Z"
   },
   {
    "duration": 10,
    "start_time": "2023-09-18T11:30:31.131Z"
   },
   {
    "duration": 11,
    "start_time": "2023-09-18T11:52:25.536Z"
   },
   {
    "duration": 18,
    "start_time": "2023-09-18T11:52:28.276Z"
   },
   {
    "duration": 193,
    "start_time": "2023-09-18T11:52:30.591Z"
   },
   {
    "duration": 3,
    "start_time": "2023-09-18T11:52:35.522Z"
   },
   {
    "duration": 63,
    "start_time": "2023-09-18T11:52:36.153Z"
   },
   {
    "duration": 4,
    "start_time": "2023-09-18T11:52:36.492Z"
   },
   {
    "duration": 11,
    "start_time": "2023-09-18T11:52:37.171Z"
   },
   {
    "duration": 16,
    "start_time": "2023-09-18T11:52:38.284Z"
   },
   {
    "duration": 203,
    "start_time": "2023-09-18T11:52:38.745Z"
   },
   {
    "duration": 1139,
    "start_time": "2023-09-18T12:13:30.724Z"
   },
   {
    "duration": 1117,
    "start_time": "2023-09-18T12:14:18.980Z"
   },
   {
    "duration": 222,
    "start_time": "2023-09-18T12:14:58.524Z"
   },
   {
    "duration": 13,
    "start_time": "2023-09-18T12:15:16.994Z"
   },
   {
    "duration": 182,
    "start_time": "2023-09-18T12:15:29.494Z"
   },
   {
    "duration": 287,
    "start_time": "2023-09-18T14:01:29.662Z"
   },
   {
    "duration": 29,
    "start_time": "2023-09-18T14:06:46.494Z"
   },
   {
    "duration": 18,
    "start_time": "2023-09-18T14:08:06.165Z"
   },
   {
    "duration": 181,
    "start_time": "2023-09-18T14:16:00.166Z"
   },
   {
    "duration": 3,
    "start_time": "2023-09-18T14:16:04.930Z"
   },
   {
    "duration": 65,
    "start_time": "2023-09-18T14:16:05.316Z"
   },
   {
    "duration": 3,
    "start_time": "2023-09-18T14:16:05.618Z"
   },
   {
    "duration": 11,
    "start_time": "2023-09-18T14:16:06.166Z"
   },
   {
    "duration": 18,
    "start_time": "2023-09-18T14:16:07.355Z"
   },
   {
    "duration": 194,
    "start_time": "2023-09-18T14:16:08.166Z"
   },
   {
    "duration": 1196,
    "start_time": "2023-09-18T14:16:13.235Z"
   },
   {
    "duration": 172,
    "start_time": "2023-09-18T14:16:20.085Z"
   },
   {
    "duration": 19,
    "start_time": "2023-09-18T14:16:25.707Z"
   },
   {
    "duration": 9,
    "start_time": "2023-09-18T14:18:19.971Z"
   },
   {
    "duration": 10,
    "start_time": "2023-09-18T14:18:24.142Z"
   },
   {
    "duration": 13,
    "start_time": "2023-09-18T14:18:42.303Z"
   },
   {
    "duration": 5,
    "start_time": "2023-09-18T14:19:10.836Z"
   },
   {
    "duration": 47,
    "start_time": "2023-09-18T14:22:48.908Z"
   },
   {
    "duration": 19,
    "start_time": "2023-09-18T14:22:58.548Z"
   },
   {
    "duration": 19,
    "start_time": "2023-09-18T14:23:30.103Z"
   },
   {
    "duration": 22,
    "start_time": "2023-09-18T14:23:43.752Z"
   },
   {
    "duration": 15,
    "start_time": "2023-09-18T14:23:46.268Z"
   },
   {
    "duration": 19,
    "start_time": "2023-09-18T14:23:52.369Z"
   },
   {
    "duration": 8,
    "start_time": "2023-09-18T14:24:01.127Z"
   },
   {
    "duration": 113,
    "start_time": "2023-09-18T14:24:31.058Z"
   },
   {
    "duration": 20,
    "start_time": "2023-09-18T14:24:33.483Z"
   },
   {
    "duration": 180,
    "start_time": "2023-09-18T14:24:43.992Z"
   },
   {
    "duration": 11,
    "start_time": "2023-09-18T14:25:15.052Z"
   },
   {
    "duration": 9,
    "start_time": "2023-09-18T14:25:19.318Z"
   },
   {
    "duration": 13,
    "start_time": "2023-09-18T14:25:24.490Z"
   },
   {
    "duration": 9,
    "start_time": "2023-09-18T14:25:50.707Z"
   },
   {
    "duration": 4,
    "start_time": "2023-09-18T14:26:11.293Z"
   },
   {
    "duration": 11,
    "start_time": "2023-09-18T14:26:30.068Z"
   },
   {
    "duration": 6,
    "start_time": "2023-09-18T14:26:36.379Z"
   },
   {
    "duration": 9,
    "start_time": "2023-09-18T14:26:42.102Z"
   },
   {
    "duration": 6,
    "start_time": "2023-09-18T14:26:59.737Z"
   },
   {
    "duration": 5,
    "start_time": "2023-09-18T14:27:04.104Z"
   },
   {
    "duration": 5,
    "start_time": "2023-09-18T14:27:16.720Z"
   },
   {
    "duration": 5,
    "start_time": "2023-09-18T14:27:30.768Z"
   },
   {
    "duration": 25,
    "start_time": "2023-09-18T14:28:34.084Z"
   },
   {
    "duration": 24,
    "start_time": "2023-09-18T14:28:51.213Z"
   },
   {
    "duration": 52018,
    "start_time": "2023-09-18T14:29:37.073Z"
   },
   {
    "duration": 5,
    "start_time": "2023-09-18T14:30:36.170Z"
   },
   {
    "duration": 5,
    "start_time": "2023-09-18T14:30:45.464Z"
   },
   {
    "duration": 6,
    "start_time": "2023-09-18T14:30:48.782Z"
   },
   {
    "duration": 12,
    "start_time": "2023-09-18T14:30:58.844Z"
   },
   {
    "duration": 3,
    "start_time": "2023-09-18T14:32:05.236Z"
   },
   {
    "duration": 63,
    "start_time": "2023-09-18T14:32:05.812Z"
   },
   {
    "duration": 4,
    "start_time": "2023-09-18T14:32:06.112Z"
   },
   {
    "duration": 12,
    "start_time": "2023-09-18T14:32:06.710Z"
   },
   {
    "duration": 17,
    "start_time": "2023-09-18T14:32:07.534Z"
   },
   {
    "duration": 192,
    "start_time": "2023-09-18T14:32:07.854Z"
   },
   {
    "duration": 1287,
    "start_time": "2023-09-18T14:32:08.135Z"
   },
   {
    "duration": 183,
    "start_time": "2023-09-18T14:32:09.424Z"
   },
   {
    "duration": 40,
    "start_time": "2023-09-18T14:32:09.609Z"
   },
   {
    "duration": 0,
    "start_time": "2023-09-18T14:32:09.650Z"
   },
   {
    "duration": 22,
    "start_time": "2023-09-18T14:32:33.305Z"
   },
   {
    "duration": 23,
    "start_time": "2023-09-18T14:32:44.319Z"
   },
   {
    "duration": 205136,
    "start_time": "2023-09-18T14:32:55.253Z"
   },
   {
    "duration": 198,
    "start_time": "2023-09-18T14:58:43.043Z"
   },
   {
    "duration": 10,
    "start_time": "2023-09-18T14:58:56.881Z"
   },
   {
    "duration": 3,
    "start_time": "2023-09-18T14:59:07.159Z"
   },
   {
    "duration": 223978,
    "start_time": "2023-09-18T15:01:06.088Z"
   },
   {
    "duration": 3,
    "start_time": "2023-09-18T15:05:00.204Z"
   },
   {
    "duration": 193,
    "start_time": "2023-09-18T15:05:01.424Z"
   },
   {
    "duration": 11,
    "start_time": "2023-09-18T15:05:20.969Z"
   },
   {
    "duration": 8,
    "start_time": "2023-09-18T15:05:42.138Z"
   },
   {
    "duration": 8,
    "start_time": "2023-09-18T15:05:52.909Z"
   },
   {
    "duration": 9,
    "start_time": "2023-09-18T15:06:01.244Z"
   },
   {
    "duration": 141,
    "start_time": "2023-09-18T15:07:08.476Z"
   },
   {
    "duration": 11,
    "start_time": "2023-09-18T15:07:19.059Z"
   },
   {
    "duration": 185,
    "start_time": "2023-09-18T15:07:34.722Z"
   },
   {
    "duration": 139,
    "start_time": "2023-09-18T15:07:59.352Z"
   },
   {
    "duration": 1237,
    "start_time": "2023-09-18T15:08:17.267Z"
   },
   {
    "duration": 4,
    "start_time": "2023-09-18T15:09:01.953Z"
   },
   {
    "duration": 200,
    "start_time": "2023-09-18T15:09:16.986Z"
   },
   {
    "duration": 6,
    "start_time": "2023-09-18T15:09:18.444Z"
   },
   {
    "duration": 1389,
    "start_time": "2023-09-18T15:09:22.596Z"
   },
   {
    "duration": 2,
    "start_time": "2023-09-18T15:09:29.302Z"
   },
   {
    "duration": 61,
    "start_time": "2023-09-18T15:09:29.612Z"
   },
   {
    "duration": 4,
    "start_time": "2023-09-18T15:09:29.755Z"
   },
   {
    "duration": 11,
    "start_time": "2023-09-18T15:09:30.047Z"
   },
   {
    "duration": 16,
    "start_time": "2023-09-18T15:09:30.464Z"
   },
   {
    "duration": 189,
    "start_time": "2023-09-18T15:09:30.612Z"
   },
   {
    "duration": 1154,
    "start_time": "2023-09-18T15:09:30.803Z"
   },
   {
    "duration": 167,
    "start_time": "2023-09-18T15:09:31.959Z"
   },
   {
    "duration": 148,
    "start_time": "2023-09-18T15:09:32.128Z"
   },
   {
    "duration": 1207,
    "start_time": "2023-09-18T15:09:32.278Z"
   },
   {
    "duration": 286,
    "start_time": "2023-09-18T15:10:05.501Z"
   },
   {
    "duration": 180,
    "start_time": "2023-09-18T15:11:14.164Z"
   },
   {
    "duration": 197,
    "start_time": "2023-09-18T15:11:51.687Z"
   },
   {
    "duration": 181,
    "start_time": "2023-09-18T15:11:52.803Z"
   },
   {
    "duration": 1285,
    "start_time": "2023-09-18T15:11:53.425Z"
   },
   {
    "duration": 1279,
    "start_time": "2023-09-18T15:12:41.787Z"
   },
   {
    "duration": 14,
    "start_time": "2023-09-18T15:12:49.550Z"
   },
   {
    "duration": 210,
    "start_time": "2023-09-18T15:13:58.196Z"
   },
   {
    "duration": 207,
    "start_time": "2023-09-18T15:14:02.126Z"
   },
   {
    "duration": 1342,
    "start_time": "2023-09-18T15:14:03.140Z"
   },
   {
    "duration": 12,
    "start_time": "2023-09-18T15:14:05.332Z"
   },
   {
    "duration": 3,
    "start_time": "2023-09-18T15:14:22.534Z"
   },
   {
    "duration": 62,
    "start_time": "2023-09-18T15:14:23.153Z"
   },
   {
    "duration": 4,
    "start_time": "2023-09-18T15:14:23.305Z"
   },
   {
    "duration": 11,
    "start_time": "2023-09-18T15:14:23.604Z"
   },
   {
    "duration": 17,
    "start_time": "2023-09-18T15:14:24.045Z"
   },
   {
    "duration": 191,
    "start_time": "2023-09-18T15:14:24.191Z"
   },
   {
    "duration": 1241,
    "start_time": "2023-09-18T15:14:24.384Z"
   },
   {
    "duration": 174,
    "start_time": "2023-09-18T15:14:25.627Z"
   },
   {
    "duration": 160,
    "start_time": "2023-09-18T15:14:25.802Z"
   },
   {
    "duration": 183,
    "start_time": "2023-09-18T15:14:25.964Z"
   },
   {
    "duration": 1190,
    "start_time": "2023-09-18T15:14:26.149Z"
   },
   {
    "duration": 12,
    "start_time": "2023-09-18T15:14:27.341Z"
   },
   {
    "duration": 19,
    "start_time": "2023-09-18T15:14:47.683Z"
   },
   {
    "duration": 6,
    "start_time": "2023-09-18T15:15:24.472Z"
   },
   {
    "duration": 24,
    "start_time": "2023-09-18T15:15:26.189Z"
   },
   {
    "duration": 16,
    "start_time": "2023-09-18T15:17:52.512Z"
   },
   {
    "duration": 43,
    "start_time": "2023-09-19T10:59:21.209Z"
   },
   {
    "duration": 875,
    "start_time": "2023-09-19T10:59:29.751Z"
   },
   {
    "duration": 123,
    "start_time": "2023-09-19T10:59:30.628Z"
   },
   {
    "duration": 97,
    "start_time": "2023-09-19T10:59:30.752Z"
   },
   {
    "duration": 206,
    "start_time": "2023-09-19T10:59:30.851Z"
   },
   {
    "duration": 150,
    "start_time": "2023-09-19T10:59:31.059Z"
   },
   {
    "duration": 261,
    "start_time": "2023-09-19T10:59:31.210Z"
   },
   {
    "duration": 1150,
    "start_time": "2023-09-19T10:59:31.472Z"
   },
   {
    "duration": 211,
    "start_time": "2023-09-19T10:59:32.623Z"
   },
   {
    "duration": 75,
    "start_time": "2023-09-19T10:59:32.836Z"
   },
   {
    "duration": 0,
    "start_time": "2023-09-19T10:59:32.913Z"
   },
   {
    "duration": 0,
    "start_time": "2023-09-19T10:59:32.914Z"
   },
   {
    "duration": 0,
    "start_time": "2023-09-19T10:59:32.915Z"
   },
   {
    "duration": 0,
    "start_time": "2023-09-19T10:59:32.917Z"
   },
   {
    "duration": 167,
    "start_time": "2023-09-19T11:00:19.777Z"
   },
   {
    "duration": 173,
    "start_time": "2023-09-19T11:00:21.598Z"
   },
   {
    "duration": 1104,
    "start_time": "2023-09-19T11:00:27.027Z"
   },
   {
    "duration": 15,
    "start_time": "2023-09-19T11:00:32.852Z"
   },
   {
    "duration": 21,
    "start_time": "2023-09-19T11:00:37.855Z"
   },
   {
    "duration": 24,
    "start_time": "2023-09-19T11:00:46.812Z"
   },
   {
    "duration": 7,
    "start_time": "2023-09-19T11:00:54.329Z"
   },
   {
    "duration": 136,
    "start_time": "2023-09-19T11:01:51.019Z"
   },
   {
    "duration": 153,
    "start_time": "2023-09-19T11:02:01.002Z"
   },
   {
    "duration": 163,
    "start_time": "2023-09-19T11:03:18.378Z"
   },
   {
    "duration": 1734,
    "start_time": "2023-09-19T11:05:08.722Z"
   },
   {
    "duration": 1140,
    "start_time": "2023-09-19T11:05:15.103Z"
   },
   {
    "duration": 178,
    "start_time": "2023-09-19T11:05:23.404Z"
   },
   {
    "duration": 233,
    "start_time": "2023-09-19T11:05:33.328Z"
   },
   {
    "duration": 162,
    "start_time": "2023-09-19T11:05:41.808Z"
   },
   {
    "duration": 175,
    "start_time": "2023-09-19T11:05:51.394Z"
   },
   {
    "duration": 161,
    "start_time": "2023-09-19T11:05:56.607Z"
   },
   {
    "duration": 174,
    "start_time": "2023-09-19T11:06:20.470Z"
   },
   {
    "duration": 173,
    "start_time": "2023-09-19T11:06:37.145Z"
   },
   {
    "duration": 176,
    "start_time": "2023-09-19T11:06:42.689Z"
   },
   {
    "duration": 166,
    "start_time": "2023-09-19T11:06:47.945Z"
   },
   {
    "duration": 19,
    "start_time": "2023-09-19T11:09:47.525Z"
   },
   {
    "duration": 8,
    "start_time": "2023-09-19T11:10:15.971Z"
   },
   {
    "duration": 7,
    "start_time": "2023-09-19T11:10:19.823Z"
   },
   {
    "duration": 8,
    "start_time": "2023-09-19T11:10:37.190Z"
   },
   {
    "duration": 6,
    "start_time": "2023-09-19T11:10:50.016Z"
   },
   {
    "duration": 603,
    "start_time": "2023-09-20T02:55:12.547Z"
   },
   {
    "duration": 66,
    "start_time": "2023-09-20T02:55:13.151Z"
   },
   {
    "duration": 3,
    "start_time": "2023-09-20T02:55:13.218Z"
   },
   {
    "duration": 12,
    "start_time": "2023-09-20T02:55:13.222Z"
   },
   {
    "duration": 16,
    "start_time": "2023-09-20T02:55:13.236Z"
   },
   {
    "duration": 192,
    "start_time": "2023-09-20T02:55:13.253Z"
   },
   {
    "duration": 1040,
    "start_time": "2023-09-20T02:55:13.449Z"
   },
   {
    "duration": 207,
    "start_time": "2023-09-20T02:55:14.490Z"
   },
   {
    "duration": 156,
    "start_time": "2023-09-20T02:55:14.698Z"
   },
   {
    "duration": 166,
    "start_time": "2023-09-20T02:55:14.856Z"
   },
   {
    "duration": 1117,
    "start_time": "2023-09-20T02:55:15.024Z"
   },
   {
    "duration": 19,
    "start_time": "2023-09-20T02:55:16.142Z"
   },
   {
    "duration": 170,
    "start_time": "2023-09-20T02:55:16.162Z"
   },
   {
    "duration": 6,
    "start_time": "2023-09-20T02:55:16.335Z"
   },
   {
    "duration": 4,
    "start_time": "2023-09-20T02:55:21.307Z"
   },
   {
    "duration": 7,
    "start_time": "2023-09-20T02:58:07.456Z"
   },
   {
    "duration": 7,
    "start_time": "2023-09-20T02:58:14.738Z"
   },
   {
    "duration": 5,
    "start_time": "2023-09-20T02:58:26.965Z"
   },
   {
    "duration": 4,
    "start_time": "2023-09-20T02:58:43.143Z"
   },
   {
    "duration": 1412,
    "start_time": "2023-09-20T02:58:50.904Z"
   },
   {
    "duration": 4,
    "start_time": "2023-09-20T02:59:01.691Z"
   },
   {
    "duration": 5,
    "start_time": "2023-09-20T02:59:05.563Z"
   },
   {
    "duration": 5,
    "start_time": "2023-09-20T02:59:45.354Z"
   },
   {
    "duration": 4,
    "start_time": "2023-09-20T02:59:47.782Z"
   },
   {
    "duration": 73,
    "start_time": "2023-09-20T03:00:51.182Z"
   },
   {
    "duration": 9,
    "start_time": "2023-09-20T03:01:02.473Z"
   },
   {
    "duration": 9,
    "start_time": "2023-09-20T03:01:07.544Z"
   },
   {
    "duration": 6,
    "start_time": "2023-09-20T03:01:09.968Z"
   },
   {
    "duration": 10,
    "start_time": "2023-09-20T03:01:28.105Z"
   },
   {
    "duration": 7,
    "start_time": "2023-09-20T03:01:31.337Z"
   },
   {
    "duration": 9,
    "start_time": "2023-09-20T03:01:51.785Z"
   },
   {
    "duration": 6,
    "start_time": "2023-09-20T03:01:57.649Z"
   },
   {
    "duration": 14508,
    "start_time": "2023-09-20T03:02:02.102Z"
   },
   {
    "duration": 2419,
    "start_time": "2023-09-20T03:02:18.070Z"
   },
   {
    "duration": 2569,
    "start_time": "2023-09-20T03:02:34.642Z"
   },
   {
    "duration": 98,
    "start_time": "2023-09-20T03:03:19.432Z"
   },
   {
    "duration": 102,
    "start_time": "2023-09-20T03:03:31.819Z"
   },
   {
    "duration": 88,
    "start_time": "2023-09-20T03:03:34.054Z"
   },
   {
    "duration": 111,
    "start_time": "2023-09-20T03:03:49.293Z"
   },
   {
    "duration": 14,
    "start_time": "2023-09-20T03:04:11.869Z"
   },
   {
    "duration": 14,
    "start_time": "2023-09-20T03:04:28.288Z"
   },
   {
    "duration": 12,
    "start_time": "2023-09-20T03:04:32.069Z"
   },
   {
    "duration": 14,
    "start_time": "2023-09-20T03:04:47.303Z"
   },
   {
    "duration": 11,
    "start_time": "2023-09-20T03:04:51.061Z"
   },
   {
    "duration": 8,
    "start_time": "2023-09-20T03:05:06.398Z"
   },
   {
    "duration": 8,
    "start_time": "2023-09-20T03:05:20.383Z"
   },
   {
    "duration": 418,
    "start_time": "2023-09-20T03:05:33.738Z"
   },
   {
    "duration": 7,
    "start_time": "2023-09-20T03:05:45.551Z"
   },
   {
    "duration": 16,
    "start_time": "2023-09-20T03:05:55.196Z"
   },
   {
    "duration": 2455,
    "start_time": "2023-09-20T03:05:55.462Z"
   },
   {
    "duration": 4437,
    "start_time": "2023-09-20T03:06:03.296Z"
   },
   {
    "duration": 8,
    "start_time": "2023-09-20T03:06:17.230Z"
   },
   {
    "duration": 136,
    "start_time": "2023-09-20T03:06:40.353Z"
   },
   {
    "duration": 131,
    "start_time": "2023-09-20T03:06:51.320Z"
   },
   {
    "duration": 670,
    "start_time": "2023-09-20T03:07:11.269Z"
   },
   {
    "duration": 711,
    "start_time": "2023-09-20T03:07:50.723Z"
   },
   {
    "duration": 690,
    "start_time": "2023-09-20T03:08:00.626Z"
   },
   {
    "duration": 701,
    "start_time": "2023-09-20T03:08:11.294Z"
   },
   {
    "duration": 802,
    "start_time": "2023-09-20T03:09:49.306Z"
   },
   {
    "duration": 132,
    "start_time": "2023-09-20T03:11:05.826Z"
   },
   {
    "duration": 117,
    "start_time": "2023-09-20T03:12:11.052Z"
   },
   {
    "duration": 102,
    "start_time": "2023-09-20T03:12:47.315Z"
   },
   {
    "duration": 531,
    "start_time": "2023-09-20T03:13:39.321Z"
   },
   {
    "duration": 84,
    "start_time": "2023-09-20T03:13:58.515Z"
   },
   {
    "duration": 138,
    "start_time": "2023-09-20T03:14:14.156Z"
   },
   {
    "duration": 128,
    "start_time": "2023-09-20T03:14:32.026Z"
   },
   {
    "duration": 39,
    "start_time": "2023-09-20T03:15:00.617Z"
   },
   {
    "duration": 197,
    "start_time": "2023-09-20T03:15:14.525Z"
   },
   {
    "duration": 107,
    "start_time": "2023-09-20T03:15:26.551Z"
   },
   {
    "duration": 8,
    "start_time": "2023-09-20T03:16:27.847Z"
   },
   {
    "duration": 235,
    "start_time": "2023-09-20T03:16:32.653Z"
   },
   {
    "duration": 319,
    "start_time": "2023-09-20T03:18:52.234Z"
   },
   {
    "duration": 241,
    "start_time": "2023-09-20T03:19:17.167Z"
   },
   {
    "duration": 15,
    "start_time": "2023-09-20T03:30:16.103Z"
   },
   {
    "duration": 232,
    "start_time": "2023-09-20T03:30:16.120Z"
   },
   {
    "duration": 3,
    "start_time": "2023-09-20T03:30:19.034Z"
   },
   {
    "duration": 62,
    "start_time": "2023-09-20T03:30:19.362Z"
   },
   {
    "duration": 3,
    "start_time": "2023-09-20T03:30:19.500Z"
   },
   {
    "duration": 10,
    "start_time": "2023-09-20T03:30:19.763Z"
   },
   {
    "duration": 17,
    "start_time": "2023-09-20T03:30:20.194Z"
   },
   {
    "duration": 179,
    "start_time": "2023-09-20T03:30:20.336Z"
   },
   {
    "duration": 1137,
    "start_time": "2023-09-20T03:30:20.517Z"
   },
   {
    "duration": 183,
    "start_time": "2023-09-20T03:30:21.656Z"
   },
   {
    "duration": 156,
    "start_time": "2023-09-20T03:30:21.840Z"
   },
   {
    "duration": 175,
    "start_time": "2023-09-20T03:30:21.998Z"
   },
   {
    "duration": 1185,
    "start_time": "2023-09-20T03:30:22.174Z"
   },
   {
    "duration": 14,
    "start_time": "2023-09-20T03:30:23.360Z"
   },
   {
    "duration": 164,
    "start_time": "2023-09-20T03:30:23.376Z"
   },
   {
    "duration": 19,
    "start_time": "2023-09-20T03:30:23.542Z"
   },
   {
    "duration": 261,
    "start_time": "2023-09-20T03:30:23.562Z"
   },
   {
    "duration": 5,
    "start_time": "2023-09-20T03:36:17.739Z"
   },
   {
    "duration": 19,
    "start_time": "2023-09-20T03:36:20.121Z"
   },
   {
    "duration": 8,
    "start_time": "2023-09-20T03:36:52.799Z"
   },
   {
    "duration": 5,
    "start_time": "2023-09-20T03:37:16.057Z"
   },
   {
    "duration": 8,
    "start_time": "2023-09-20T03:37:16.452Z"
   },
   {
    "duration": 5,
    "start_time": "2023-09-20T03:37:23.822Z"
   },
   {
    "duration": 7,
    "start_time": "2023-09-20T03:37:24.033Z"
   },
   {
    "duration": 4,
    "start_time": "2023-09-20T03:37:51.135Z"
   },
   {
    "duration": 7,
    "start_time": "2023-09-20T03:37:51.488Z"
   },
   {
    "duration": 4,
    "start_time": "2023-09-20T03:38:10.176Z"
   },
   {
    "duration": 7,
    "start_time": "2023-09-20T03:38:10.594Z"
   },
   {
    "duration": 15,
    "start_time": "2023-09-20T03:38:29.742Z"
   },
   {
    "duration": 237,
    "start_time": "2023-09-20T03:38:30.118Z"
   },
   {
    "duration": 5,
    "start_time": "2023-09-20T03:39:21.207Z"
   },
   {
    "duration": 7,
    "start_time": "2023-09-20T03:39:21.410Z"
   },
   {
    "duration": 4,
    "start_time": "2023-09-20T03:39:55.640Z"
   },
   {
    "duration": 8,
    "start_time": "2023-09-20T03:39:56.358Z"
   },
   {
    "duration": 5,
    "start_time": "2023-09-20T03:54:10.864Z"
   },
   {
    "duration": 4,
    "start_time": "2023-09-20T03:54:26.194Z"
   },
   {
    "duration": 19,
    "start_time": "2023-09-20T03:54:42.701Z"
   },
   {
    "duration": 79,
    "start_time": "2023-09-20T03:56:00.059Z"
   },
   {
    "duration": 274,
    "start_time": "2023-09-20T03:56:40.106Z"
   },
   {
    "duration": 5,
    "start_time": "2023-09-20T03:57:24.343Z"
   },
   {
    "duration": 290,
    "start_time": "2023-09-20T03:57:24.891Z"
   },
   {
    "duration": 126,
    "start_time": "2023-09-20T03:58:24.926Z"
   },
   {
    "duration": 157,
    "start_time": "2023-09-20T03:58:54.388Z"
   },
   {
    "duration": 253,
    "start_time": "2023-09-20T03:59:43.900Z"
   },
   {
    "duration": 109,
    "start_time": "2023-09-20T04:00:47.289Z"
   },
   {
    "duration": 5,
    "start_time": "2023-09-20T04:00:48.826Z"
   },
   {
    "duration": 151,
    "start_time": "2023-09-20T04:00:49.141Z"
   },
   {
    "duration": 19,
    "start_time": "2023-09-20T04:00:53.871Z"
   },
   {
    "duration": 22,
    "start_time": "2023-09-20T04:01:21.658Z"
   },
   {
    "duration": 28,
    "start_time": "2023-09-20T04:01:34.149Z"
   },
   {
    "duration": 136,
    "start_time": "2023-09-20T04:01:57.306Z"
   },
   {
    "duration": 163,
    "start_time": "2023-09-20T04:02:06.269Z"
   },
   {
    "duration": 142,
    "start_time": "2023-09-20T04:02:10.838Z"
   },
   {
    "duration": 135,
    "start_time": "2023-09-20T04:02:17.829Z"
   },
   {
    "duration": 156,
    "start_time": "2023-09-20T04:02:21.822Z"
   },
   {
    "duration": 148,
    "start_time": "2023-09-20T04:02:25.205Z"
   },
   {
    "duration": 150,
    "start_time": "2023-09-20T04:02:31.215Z"
   },
   {
    "duration": 146,
    "start_time": "2023-09-20T04:02:35.534Z"
   },
   {
    "duration": 166,
    "start_time": "2023-09-20T04:02:39.530Z"
   },
   {
    "duration": 154,
    "start_time": "2023-09-20T04:02:42.136Z"
   },
   {
    "duration": 258,
    "start_time": "2023-09-20T04:02:48.036Z"
   },
   {
    "duration": 145,
    "start_time": "2023-09-20T04:02:51.269Z"
   },
   {
    "duration": 149,
    "start_time": "2023-09-20T05:59:07.528Z"
   },
   {
    "duration": 157,
    "start_time": "2023-09-20T05:59:12.143Z"
   },
   {
    "duration": 161,
    "start_time": "2023-09-20T05:59:19.518Z"
   },
   {
    "duration": 272,
    "start_time": "2023-09-20T05:59:26.940Z"
   },
   {
    "duration": 4,
    "start_time": "2023-09-20T06:03:00.051Z"
   },
   {
    "duration": 6,
    "start_time": "2023-09-20T06:03:08.760Z"
   },
   {
    "duration": 8,
    "start_time": "2023-09-20T06:03:14.056Z"
   },
   {
    "duration": 16,
    "start_time": "2023-09-20T06:03:24.315Z"
   },
   {
    "duration": 292,
    "start_time": "2023-09-20T06:03:25.182Z"
   },
   {
    "duration": 81,
    "start_time": "2023-09-20T10:42:40.198Z"
   },
   {
    "duration": 5,
    "start_time": "2023-09-20T10:42:43.498Z"
   },
   {
    "duration": 19,
    "start_time": "2023-09-20T10:42:46.781Z"
   },
   {
    "duration": 147,
    "start_time": "2023-09-20T10:43:16.780Z"
   },
   {
    "duration": 133,
    "start_time": "2023-09-20T10:43:27.690Z"
   },
   {
    "duration": 99,
    "start_time": "2023-09-20T10:43:56.715Z"
   },
   {
    "duration": 168,
    "start_time": "2023-09-20T10:44:20.114Z"
   },
   {
    "duration": 178,
    "start_time": "2023-09-20T10:44:56.808Z"
   },
   {
    "duration": 207,
    "start_time": "2023-09-20T10:45:04.973Z"
   },
   {
    "duration": 1467,
    "start_time": "2023-09-21T04:32:08.890Z"
   },
   {
    "duration": 133,
    "start_time": "2023-09-21T04:32:10.360Z"
   },
   {
    "duration": 3,
    "start_time": "2023-09-21T04:32:10.495Z"
   },
   {
    "duration": 68,
    "start_time": "2023-09-21T04:32:10.500Z"
   },
   {
    "duration": 26,
    "start_time": "2023-09-21T04:32:10.570Z"
   },
   {
    "duration": 223,
    "start_time": "2023-09-21T04:32:10.598Z"
   },
   {
    "duration": 1262,
    "start_time": "2023-09-21T04:32:10.823Z"
   },
   {
    "duration": 199,
    "start_time": "2023-09-21T04:32:12.087Z"
   },
   {
    "duration": 221,
    "start_time": "2023-09-21T04:32:12.288Z"
   },
   {
    "duration": 256,
    "start_time": "2023-09-21T04:32:12.512Z"
   },
   {
    "duration": 1451,
    "start_time": "2023-09-21T04:32:12.770Z"
   },
   {
    "duration": 17,
    "start_time": "2023-09-21T04:32:14.223Z"
   },
   {
    "duration": 218,
    "start_time": "2023-09-21T04:32:14.242Z"
   },
   {
    "duration": 18,
    "start_time": "2023-09-21T04:32:14.463Z"
   },
   {
    "duration": 408,
    "start_time": "2023-09-21T04:32:14.483Z"
   },
   {
    "duration": 4,
    "start_time": "2023-09-21T04:32:14.893Z"
   },
   {
    "duration": 16,
    "start_time": "2023-09-21T04:32:14.899Z"
   },
   {
    "duration": 26,
    "start_time": "2023-09-21T04:32:14.916Z"
   },
   {
    "duration": 199,
    "start_time": "2023-09-21T04:32:14.943Z"
   },
   {
    "duration": 200,
    "start_time": "2023-09-21T04:32:15.143Z"
   },
   {
    "duration": 5,
    "start_time": "2023-09-21T04:32:15.345Z"
   },
   {
    "duration": 260,
    "start_time": "2023-09-21T04:32:15.351Z"
   },
   {
    "duration": 226,
    "start_time": "2023-09-21T04:32:36.791Z"
   },
   {
    "duration": 255,
    "start_time": "2023-09-21T04:33:26.229Z"
   },
   {
    "duration": 252,
    "start_time": "2023-09-21T04:35:27.899Z"
   },
   {
    "duration": 294,
    "start_time": "2023-09-21T04:35:46.595Z"
   },
   {
    "duration": 279,
    "start_time": "2023-09-21T04:35:53.130Z"
   },
   {
    "duration": 369,
    "start_time": "2023-09-21T04:36:11.440Z"
   },
   {
    "duration": 259,
    "start_time": "2023-09-21T04:36:20.101Z"
   },
   {
    "duration": 269,
    "start_time": "2023-09-21T04:36:36.109Z"
   },
   {
    "duration": 23,
    "start_time": "2023-09-21T04:36:41.354Z"
   },
   {
    "duration": 8,
    "start_time": "2023-09-21T04:36:52.790Z"
   },
   {
    "duration": 37,
    "start_time": "2023-09-21T04:38:40.533Z"
   },
   {
    "duration": 131,
    "start_time": "2023-09-21T04:38:40.573Z"
   },
   {
    "duration": 4,
    "start_time": "2023-09-21T04:38:40.706Z"
   },
   {
    "duration": 46,
    "start_time": "2023-09-21T04:38:40.715Z"
   },
   {
    "duration": 64,
    "start_time": "2023-09-21T04:38:40.763Z"
   },
   {
    "duration": 230,
    "start_time": "2023-09-21T04:38:40.828Z"
   },
   {
    "duration": 1437,
    "start_time": "2023-09-21T04:38:41.060Z"
   },
   {
    "duration": 342,
    "start_time": "2023-09-21T04:38:42.499Z"
   },
   {
    "duration": 189,
    "start_time": "2023-09-21T04:38:42.843Z"
   },
   {
    "duration": 211,
    "start_time": "2023-09-21T04:38:43.033Z"
   },
   {
    "duration": 1295,
    "start_time": "2023-09-21T04:38:43.246Z"
   },
   {
    "duration": 18,
    "start_time": "2023-09-21T04:38:44.543Z"
   },
   {
    "duration": 226,
    "start_time": "2023-09-21T04:38:44.562Z"
   },
   {
    "duration": 29,
    "start_time": "2023-09-21T04:38:44.790Z"
   },
   {
    "duration": 330,
    "start_time": "2023-09-21T04:38:44.821Z"
   },
   {
    "duration": 5,
    "start_time": "2023-09-21T04:38:45.153Z"
   },
   {
    "duration": 22,
    "start_time": "2023-09-21T04:38:45.160Z"
   },
   {
    "duration": 6,
    "start_time": "2023-09-21T04:38:45.183Z"
   },
   {
    "duration": 216,
    "start_time": "2023-09-21T04:38:45.210Z"
   },
   {
    "duration": 181,
    "start_time": "2023-09-21T04:38:45.428Z"
   },
   {
    "duration": 5,
    "start_time": "2023-09-21T04:38:45.611Z"
   },
   {
    "duration": 269,
    "start_time": "2023-09-21T04:38:45.618Z"
   },
   {
    "duration": 270,
    "start_time": "2023-09-21T04:38:45.889Z"
   },
   {
    "duration": 6,
    "start_time": "2023-09-21T04:38:46.161Z"
   },
   {
    "duration": 425,
    "start_time": "2023-09-21T04:39:02.611Z"
   },
   {
    "duration": 191,
    "start_time": "2023-09-21T04:39:13.184Z"
   },
   {
    "duration": 215,
    "start_time": "2023-09-21T04:39:22.158Z"
   },
   {
    "duration": 237,
    "start_time": "2023-09-21T04:40:00.330Z"
   },
   {
    "duration": 218,
    "start_time": "2023-09-21T04:40:15.462Z"
   },
   {
    "duration": 67983,
    "start_time": "2023-09-21T04:46:04.590Z"
   },
   {
    "duration": 407,
    "start_time": "2023-09-21T04:47:35.965Z"
   },
   {
    "duration": 410,
    "start_time": "2023-09-21T04:47:54.782Z"
   },
   {
    "duration": 8,
    "start_time": "2023-09-21T04:49:42.052Z"
   },
   {
    "duration": 9,
    "start_time": "2023-09-21T04:50:00.033Z"
   },
   {
    "duration": 11,
    "start_time": "2023-09-21T04:50:04.389Z"
   },
   {
    "duration": 153,
    "start_time": "2023-09-21T04:50:27.451Z"
   },
   {
    "duration": 338,
    "start_time": "2023-09-21T04:50:31.225Z"
   },
   {
    "duration": 160,
    "start_time": "2023-09-21T04:50:37.340Z"
   },
   {
    "duration": 165,
    "start_time": "2023-09-21T04:50:40.152Z"
   },
   {
    "duration": 347,
    "start_time": "2023-09-21T04:50:45.972Z"
   },
   {
    "duration": 12,
    "start_time": "2023-09-21T04:50:56.221Z"
   },
   {
    "duration": 9,
    "start_time": "2023-09-21T05:16:46.281Z"
   },
   {
    "duration": 24,
    "start_time": "2023-09-21T05:16:48.931Z"
   },
   {
    "duration": 13,
    "start_time": "2023-09-21T05:29:03.646Z"
   },
   {
    "duration": 14,
    "start_time": "2023-09-21T05:29:30.187Z"
   },
   {
    "duration": 4,
    "start_time": "2023-09-21T05:29:33.687Z"
   },
   {
    "duration": 4,
    "start_time": "2023-09-21T05:29:38.875Z"
   },
   {
    "duration": 5,
    "start_time": "2023-09-21T05:29:42.826Z"
   },
   {
    "duration": 3,
    "start_time": "2023-09-21T05:31:54.226Z"
   },
   {
    "duration": 4,
    "start_time": "2023-09-21T05:32:06.446Z"
   },
   {
    "duration": 5,
    "start_time": "2023-09-21T05:32:38.324Z"
   },
   {
    "duration": 4,
    "start_time": "2023-09-21T05:32:50.257Z"
   },
   {
    "duration": 3,
    "start_time": "2023-09-21T05:32:54.013Z"
   },
   {
    "duration": 4,
    "start_time": "2023-09-21T05:32:55.796Z"
   },
   {
    "duration": 1358,
    "start_time": "2023-09-21T06:24:04.438Z"
   },
   {
    "duration": 121,
    "start_time": "2023-09-21T06:24:05.801Z"
   },
   {
    "duration": 8,
    "start_time": "2023-09-21T06:24:05.927Z"
   },
   {
    "duration": 34,
    "start_time": "2023-09-21T06:24:05.938Z"
   },
   {
    "duration": 34,
    "start_time": "2023-09-21T06:24:05.975Z"
   },
   {
    "duration": 384,
    "start_time": "2023-09-21T06:24:06.015Z"
   },
   {
    "duration": 1501,
    "start_time": "2023-09-21T06:24:06.401Z"
   },
   {
    "duration": 216,
    "start_time": "2023-09-21T06:24:07.904Z"
   },
   {
    "duration": 200,
    "start_time": "2023-09-21T06:24:08.123Z"
   },
   {
    "duration": 226,
    "start_time": "2023-09-21T06:24:08.329Z"
   },
   {
    "duration": 1525,
    "start_time": "2023-09-21T06:24:08.562Z"
   },
   {
    "duration": 40,
    "start_time": "2023-09-21T06:24:10.089Z"
   },
   {
    "duration": 297,
    "start_time": "2023-09-21T06:24:10.133Z"
   },
   {
    "duration": 24,
    "start_time": "2023-09-21T06:24:10.433Z"
   },
   {
    "duration": 523,
    "start_time": "2023-09-21T06:24:10.460Z"
   },
   {
    "duration": 6,
    "start_time": "2023-09-21T06:24:10.985Z"
   },
   {
    "duration": 34,
    "start_time": "2023-09-21T06:24:10.992Z"
   },
   {
    "duration": 44,
    "start_time": "2023-09-21T06:24:11.028Z"
   },
   {
    "duration": 245,
    "start_time": "2023-09-21T06:24:11.075Z"
   },
   {
    "duration": 206,
    "start_time": "2023-09-21T06:24:11.322Z"
   },
   {
    "duration": 9,
    "start_time": "2023-09-21T06:24:11.535Z"
   },
   {
    "duration": 320,
    "start_time": "2023-09-21T06:24:11.545Z"
   },
   {
    "duration": 275,
    "start_time": "2023-09-21T06:24:11.867Z"
   },
   {
    "duration": 482,
    "start_time": "2023-09-21T06:24:12.144Z"
   },
   {
    "duration": 18,
    "start_time": "2023-09-21T06:24:12.627Z"
   },
   {
    "duration": 48,
    "start_time": "2023-09-21T06:24:12.648Z"
   },
   {
    "duration": 318,
    "start_time": "2023-09-21T06:29:01.187Z"
   },
   {
    "duration": 411,
    "start_time": "2023-09-21T06:29:08.468Z"
   },
   {
    "duration": 399,
    "start_time": "2023-09-21T06:29:37.265Z"
   },
   {
    "duration": 11,
    "start_time": "2023-09-21T06:29:39.452Z"
   },
   {
    "duration": 14,
    "start_time": "2023-09-21T06:29:40.127Z"
   },
   {
    "duration": 11,
    "start_time": "2023-09-21T06:30:05.283Z"
   },
   {
    "duration": 1636,
    "start_time": "2023-09-21T06:31:01.736Z"
   },
   {
    "duration": 20,
    "start_time": "2023-09-21T06:31:14.001Z"
   },
   {
    "duration": 37,
    "start_time": "2023-09-21T06:31:17.691Z"
   },
   {
    "duration": 43,
    "start_time": "2023-09-21T06:31:23.352Z"
   },
   {
    "duration": 144,
    "start_time": "2023-09-21T06:31:52.899Z"
   },
   {
    "duration": 7,
    "start_time": "2023-09-21T06:32:03.786Z"
   },
   {
    "duration": 6,
    "start_time": "2023-09-21T06:32:08.950Z"
   },
   {
    "duration": 134,
    "start_time": "2023-09-21T06:32:28.145Z"
   },
   {
    "duration": 132,
    "start_time": "2023-09-21T06:32:33.837Z"
   },
   {
    "duration": 12,
    "start_time": "2023-09-21T06:33:05.501Z"
   },
   {
    "duration": 7,
    "start_time": "2023-09-21T06:33:08.431Z"
   },
   {
    "duration": 6,
    "start_time": "2023-09-21T06:33:12.072Z"
   },
   {
    "duration": 6,
    "start_time": "2023-09-21T06:33:16.745Z"
   },
   {
    "duration": 110,
    "start_time": "2023-09-21T07:01:54.078Z"
   },
   {
    "duration": 14,
    "start_time": "2023-09-21T07:05:13.289Z"
   },
   {
    "duration": 3,
    "start_time": "2023-09-21T07:05:28.937Z"
   },
   {
    "duration": 20,
    "start_time": "2023-09-21T07:05:34.432Z"
   },
   {
    "duration": 3,
    "start_time": "2023-09-21T07:07:29.840Z"
   },
   {
    "duration": 15,
    "start_time": "2023-09-21T07:07:34.049Z"
   },
   {
    "duration": 9,
    "start_time": "2023-09-21T07:07:46.832Z"
   },
   {
    "duration": 11,
    "start_time": "2023-09-21T07:08:05.666Z"
   },
   {
    "duration": 13,
    "start_time": "2023-09-21T07:08:24.588Z"
   },
   {
    "duration": 10,
    "start_time": "2023-09-21T07:09:15.800Z"
   },
   {
    "duration": 13,
    "start_time": "2023-09-21T07:09:18.900Z"
   },
   {
    "duration": 12,
    "start_time": "2023-09-21T07:09:22.176Z"
   },
   {
    "duration": 12,
    "start_time": "2023-09-21T07:09:34.200Z"
   },
   {
    "duration": 10,
    "start_time": "2023-09-21T07:12:28.804Z"
   },
   {
    "duration": 6,
    "start_time": "2023-09-21T07:12:46.035Z"
   },
   {
    "duration": 6,
    "start_time": "2023-09-21T07:12:50.302Z"
   },
   {
    "duration": 4,
    "start_time": "2023-09-21T07:13:00.700Z"
   },
   {
    "duration": 8,
    "start_time": "2023-09-21T07:13:03.402Z"
   },
   {
    "duration": 6,
    "start_time": "2023-09-21T07:13:21.750Z"
   },
   {
    "duration": 14,
    "start_time": "2023-09-21T07:16:44.265Z"
   },
   {
    "duration": 10,
    "start_time": "2023-09-21T07:16:51.607Z"
   },
   {
    "duration": 12,
    "start_time": "2023-09-21T07:16:57.266Z"
   },
   {
    "duration": 199,
    "start_time": "2023-09-21T07:18:45.448Z"
   },
   {
    "duration": 199,
    "start_time": "2023-09-21T07:18:52.765Z"
   },
   {
    "duration": 4,
    "start_time": "2023-09-21T07:21:03.193Z"
   },
   {
    "duration": 75,
    "start_time": "2023-09-21T07:21:03.859Z"
   },
   {
    "duration": 4,
    "start_time": "2023-09-21T07:21:06.997Z"
   },
   {
    "duration": 18,
    "start_time": "2023-09-21T07:21:15.649Z"
   },
   {
    "duration": 1323,
    "start_time": "2023-09-21T07:49:03.581Z"
   },
   {
    "duration": 99,
    "start_time": "2023-09-21T07:49:04.908Z"
   },
   {
    "duration": 4,
    "start_time": "2023-09-21T07:49:05.010Z"
   },
   {
    "duration": 14,
    "start_time": "2023-09-21T07:49:05.018Z"
   },
   {
    "duration": 30,
    "start_time": "2023-09-21T07:49:05.036Z"
   },
   {
    "duration": 327,
    "start_time": "2023-09-21T07:49:05.069Z"
   },
   {
    "duration": 1382,
    "start_time": "2023-09-21T07:49:05.398Z"
   },
   {
    "duration": 221,
    "start_time": "2023-09-21T07:49:06.782Z"
   },
   {
    "duration": 208,
    "start_time": "2023-09-21T07:49:07.005Z"
   },
   {
    "duration": 238,
    "start_time": "2023-09-21T07:49:07.215Z"
   },
   {
    "duration": 1563,
    "start_time": "2023-09-21T07:49:07.455Z"
   },
   {
    "duration": 28,
    "start_time": "2023-09-21T07:49:09.020Z"
   },
   {
    "duration": 230,
    "start_time": "2023-09-21T07:49:09.050Z"
   },
   {
    "duration": 36,
    "start_time": "2023-09-21T07:49:09.285Z"
   },
   {
    "duration": 391,
    "start_time": "2023-09-21T07:49:09.324Z"
   },
   {
    "duration": 6,
    "start_time": "2023-09-21T07:49:09.717Z"
   },
   {
    "duration": 10,
    "start_time": "2023-09-21T07:49:09.725Z"
   },
   {
    "duration": 9,
    "start_time": "2023-09-21T07:49:09.737Z"
   },
   {
    "duration": 219,
    "start_time": "2023-09-21T07:49:09.748Z"
   },
   {
    "duration": 206,
    "start_time": "2023-09-21T07:49:09.970Z"
   },
   {
    "duration": 8,
    "start_time": "2023-09-21T07:49:10.179Z"
   },
   {
    "duration": 304,
    "start_time": "2023-09-21T07:49:10.189Z"
   },
   {
    "duration": 257,
    "start_time": "2023-09-21T07:49:10.497Z"
   },
   {
    "duration": 345,
    "start_time": "2023-09-21T07:49:10.757Z"
   },
   {
    "duration": 12,
    "start_time": "2023-09-21T07:49:11.109Z"
   },
   {
    "duration": 16,
    "start_time": "2023-09-21T07:49:11.123Z"
   },
   {
    "duration": 11,
    "start_time": "2023-09-21T07:49:11.141Z"
   },
   {
    "duration": 10,
    "start_time": "2023-09-21T07:49:11.154Z"
   },
   {
    "duration": 15,
    "start_time": "2023-09-21T07:49:11.166Z"
   },
   {
    "duration": 31,
    "start_time": "2023-09-21T07:49:11.183Z"
   },
   {
    "duration": 14,
    "start_time": "2023-09-21T07:49:11.216Z"
   },
   {
    "duration": 17,
    "start_time": "2023-09-21T07:49:11.232Z"
   },
   {
    "duration": 1452,
    "start_time": "2023-09-21T08:13:47.020Z"
   },
   {
    "duration": 154,
    "start_time": "2023-09-21T08:13:48.474Z"
   },
   {
    "duration": 5,
    "start_time": "2023-09-21T08:13:48.630Z"
   },
   {
    "duration": 38,
    "start_time": "2023-09-21T08:13:48.637Z"
   },
   {
    "duration": 30,
    "start_time": "2023-09-21T08:13:48.679Z"
   },
   {
    "duration": 272,
    "start_time": "2023-09-21T08:13:48.718Z"
   },
   {
    "duration": 1433,
    "start_time": "2023-09-21T08:13:48.992Z"
   },
   {
    "duration": 260,
    "start_time": "2023-09-21T08:13:50.428Z"
   },
   {
    "duration": 246,
    "start_time": "2023-09-21T08:13:50.690Z"
   },
   {
    "duration": 256,
    "start_time": "2023-09-21T08:13:50.938Z"
   },
   {
    "duration": 1550,
    "start_time": "2023-09-21T08:13:51.196Z"
   },
   {
    "duration": 19,
    "start_time": "2023-09-21T08:13:52.748Z"
   },
   {
    "duration": 232,
    "start_time": "2023-09-21T08:13:52.770Z"
   },
   {
    "duration": 19,
    "start_time": "2023-09-21T08:13:53.008Z"
   },
   {
    "duration": 391,
    "start_time": "2023-09-21T08:13:53.029Z"
   },
   {
    "duration": 6,
    "start_time": "2023-09-21T08:13:53.423Z"
   },
   {
    "duration": 13,
    "start_time": "2023-09-21T08:13:53.431Z"
   },
   {
    "duration": 12,
    "start_time": "2023-09-21T08:13:53.446Z"
   },
   {
    "duration": 252,
    "start_time": "2023-09-21T08:13:53.460Z"
   },
   {
    "duration": 203,
    "start_time": "2023-09-21T08:13:53.714Z"
   },
   {
    "duration": 21,
    "start_time": "2023-09-21T08:13:53.919Z"
   },
   {
    "duration": 434,
    "start_time": "2023-09-21T08:13:53.946Z"
   },
   {
    "duration": 272,
    "start_time": "2023-09-21T08:13:54.382Z"
   },
   {
    "duration": 426,
    "start_time": "2023-09-21T08:13:54.656Z"
   },
   {
    "duration": 14,
    "start_time": "2023-09-21T08:13:55.084Z"
   },
   {
    "duration": 16,
    "start_time": "2023-09-21T08:13:55.111Z"
   },
   {
    "duration": 11,
    "start_time": "2023-09-21T08:13:55.130Z"
   },
   {
    "duration": 12,
    "start_time": "2023-09-21T08:13:55.143Z"
   },
   {
    "duration": 9,
    "start_time": "2023-09-21T08:13:55.157Z"
   },
   {
    "duration": 11,
    "start_time": "2023-09-21T08:13:55.168Z"
   },
   {
    "duration": 11,
    "start_time": "2023-09-21T08:13:55.210Z"
   },
   {
    "duration": 20,
    "start_time": "2023-09-21T08:13:55.223Z"
   },
   {
    "duration": 109,
    "start_time": "2023-09-21T11:52:49.144Z"
   },
   {
    "duration": 64,
    "start_time": "2023-09-21T11:52:55.177Z"
   },
   {
    "duration": 11,
    "start_time": "2023-09-21T11:53:01.782Z"
   },
   {
    "duration": 3,
    "start_time": "2023-09-21T11:53:07.591Z"
   },
   {
    "duration": 72,
    "start_time": "2023-09-21T11:53:09.172Z"
   },
   {
    "duration": 3,
    "start_time": "2023-09-21T11:53:09.813Z"
   },
   {
    "duration": 23,
    "start_time": "2023-09-21T11:53:12.389Z"
   },
   {
    "duration": 19,
    "start_time": "2023-09-21T11:53:18.656Z"
   },
   {
    "duration": 18,
    "start_time": "2023-09-21T11:53:41.247Z"
   },
   {
    "duration": 19,
    "start_time": "2023-09-21T11:53:50.948Z"
   },
   {
    "duration": 311,
    "start_time": "2023-09-21T11:53:55.566Z"
   },
   {
    "duration": 1292,
    "start_time": "2023-09-21T11:53:58.437Z"
   },
   {
    "duration": 193,
    "start_time": "2023-09-21T11:53:59.872Z"
   },
   {
    "duration": 19,
    "start_time": "2023-09-21T11:59:03.213Z"
   },
   {
    "duration": 225,
    "start_time": "2023-09-21T11:59:24.121Z"
   },
   {
    "duration": 216,
    "start_time": "2023-09-21T12:00:17.886Z"
   },
   {
    "duration": 1275,
    "start_time": "2023-09-21T12:00:20.201Z"
   },
   {
    "duration": 1389,
    "start_time": "2023-09-21T12:01:50.830Z"
   },
   {
    "duration": 21,
    "start_time": "2023-09-21T12:01:58.506Z"
   },
   {
    "duration": 15,
    "start_time": "2023-09-21T12:02:46.234Z"
   },
   {
    "duration": 14,
    "start_time": "2023-09-21T12:03:06.431Z"
   },
   {
    "duration": 25,
    "start_time": "2023-09-21T12:03:10.680Z"
   },
   {
    "duration": 7,
    "start_time": "2023-09-21T12:03:21.268Z"
   },
   {
    "duration": 108,
    "start_time": "2023-09-21T12:04:30.240Z"
   },
   {
    "duration": 19,
    "start_time": "2023-09-21T12:04:34.884Z"
   },
   {
    "duration": 14,
    "start_time": "2023-09-21T12:06:01.323Z"
   },
   {
    "duration": 20,
    "start_time": "2023-09-21T12:06:05.415Z"
   },
   {
    "duration": 31,
    "start_time": "2023-09-21T12:07:05.601Z"
   },
   {
    "duration": 6,
    "start_time": "2023-09-21T12:08:38.191Z"
   },
   {
    "duration": 22,
    "start_time": "2023-09-21T12:08:42.574Z"
   },
   {
    "duration": 18,
    "start_time": "2023-09-21T12:09:25.954Z"
   },
   {
    "duration": 37,
    "start_time": "2023-09-21T12:10:07.166Z"
   },
   {
    "duration": 30,
    "start_time": "2023-09-21T12:10:18.212Z"
   },
   {
    "duration": 36,
    "start_time": "2023-09-21T12:10:26.061Z"
   },
   {
    "duration": 30,
    "start_time": "2023-09-21T12:10:37.029Z"
   },
   {
    "duration": 19,
    "start_time": "2023-09-21T12:11:06.922Z"
   },
   {
    "duration": 28,
    "start_time": "2023-09-21T12:11:25.020Z"
   },
   {
    "duration": 206,
    "start_time": "2023-09-21T12:15:26.831Z"
   },
   {
    "duration": 18,
    "start_time": "2023-09-21T12:15:43.530Z"
   },
   {
    "duration": 306,
    "start_time": "2023-09-21T12:15:47.065Z"
   },
   {
    "duration": 26,
    "start_time": "2023-09-21T12:17:25.170Z"
   },
   {
    "duration": 16,
    "start_time": "2023-09-21T12:18:17.668Z"
   },
   {
    "duration": 17,
    "start_time": "2023-09-21T12:20:47.373Z"
   },
   {
    "duration": 15,
    "start_time": "2023-09-21T12:21:44.239Z"
   },
   {
    "duration": 7,
    "start_time": "2023-09-21T12:21:57.390Z"
   },
   {
    "duration": 5,
    "start_time": "2023-09-21T12:22:03.790Z"
   },
   {
    "duration": 300,
    "start_time": "2023-09-21T12:22:26.740Z"
   },
   {
    "duration": 5,
    "start_time": "2023-09-21T12:22:34.515Z"
   },
   {
    "duration": 338,
    "start_time": "2023-09-21T12:22:35.120Z"
   },
   {
    "duration": 15,
    "start_time": "2023-09-21T12:22:51.723Z"
   },
   {
    "duration": 12,
    "start_time": "2023-09-21T12:23:11.387Z"
   },
   {
    "duration": 28,
    "start_time": "2023-09-21T12:23:32.021Z"
   },
   {
    "duration": 387,
    "start_time": "2023-09-21T12:23:32.450Z"
   },
   {
    "duration": 115,
    "start_time": "2023-09-21T12:27:18.451Z"
   },
   {
    "duration": 5,
    "start_time": "2023-09-21T12:27:30.963Z"
   },
   {
    "duration": 8,
    "start_time": "2023-09-21T12:27:41.181Z"
   },
   {
    "duration": 112,
    "start_time": "2023-09-21T12:27:53.200Z"
   },
   {
    "duration": 125,
    "start_time": "2023-09-21T12:27:58.601Z"
   },
   {
    "duration": 5,
    "start_time": "2023-09-21T12:28:04.980Z"
   },
   {
    "duration": 6,
    "start_time": "2023-09-21T12:30:12.512Z"
   },
   {
    "duration": 7,
    "start_time": "2023-09-21T12:30:16.646Z"
   },
   {
    "duration": 290,
    "start_time": "2023-09-21T12:31:23.673Z"
   },
   {
    "duration": 268,
    "start_time": "2023-09-21T12:31:37.123Z"
   },
   {
    "duration": 283,
    "start_time": "2023-09-21T12:31:41.477Z"
   },
   {
    "duration": 307,
    "start_time": "2023-09-21T12:31:45.711Z"
   },
   {
    "duration": 631,
    "start_time": "2023-09-21T12:31:55.246Z"
   },
   {
    "duration": 293,
    "start_time": "2023-09-21T12:32:03.773Z"
   },
   {
    "duration": 292,
    "start_time": "2023-09-21T12:32:09.043Z"
   },
   {
    "duration": 25,
    "start_time": "2023-09-21T12:32:36.538Z"
   },
   {
    "duration": 11,
    "start_time": "2023-09-21T12:33:03.917Z"
   },
   {
    "duration": 9,
    "start_time": "2023-09-21T12:33:14.778Z"
   },
   {
    "duration": 262,
    "start_time": "2023-09-21T12:33:47.266Z"
   },
   {
    "duration": 304,
    "start_time": "2023-09-21T12:34:14.574Z"
   },
   {
    "duration": 283,
    "start_time": "2023-09-21T12:34:36.211Z"
   },
   {
    "duration": 6,
    "start_time": "2023-09-21T12:37:23.309Z"
   },
   {
    "duration": 245,
    "start_time": "2023-09-21T12:37:25.365Z"
   },
   {
    "duration": 6,
    "start_time": "2023-09-21T12:38:03.288Z"
   },
   {
    "duration": 239,
    "start_time": "2023-09-21T12:38:03.808Z"
   },
   {
    "duration": 5,
    "start_time": "2023-09-21T12:38:28.901Z"
   },
   {
    "duration": 241,
    "start_time": "2023-09-21T12:38:52.258Z"
   },
   {
    "duration": 249,
    "start_time": "2023-09-21T12:39:12.418Z"
   },
   {
    "duration": 191,
    "start_time": "2023-09-21T12:39:19.591Z"
   },
   {
    "duration": 6,
    "start_time": "2023-09-21T12:40:14.938Z"
   },
   {
    "duration": 149,
    "start_time": "2023-09-21T12:41:35.506Z"
   },
   {
    "duration": 7,
    "start_time": "2023-09-21T12:41:38.240Z"
   },
   {
    "duration": 218,
    "start_time": "2023-09-21T12:41:38.740Z"
   },
   {
    "duration": 243,
    "start_time": "2023-09-21T12:41:57.786Z"
   },
   {
    "duration": 6,
    "start_time": "2023-09-21T12:42:23.977Z"
   },
   {
    "duration": 230,
    "start_time": "2023-09-21T12:42:24.428Z"
   },
   {
    "duration": 6,
    "start_time": "2023-09-21T12:47:07.007Z"
   },
   {
    "duration": 212,
    "start_time": "2023-09-21T12:47:07.374Z"
   },
   {
    "duration": 6,
    "start_time": "2023-09-21T12:47:18.352Z"
   },
   {
    "duration": 185,
    "start_time": "2023-09-21T12:47:19.037Z"
   },
   {
    "duration": 192,
    "start_time": "2023-09-21T12:48:13.766Z"
   },
   {
    "duration": 144,
    "start_time": "2023-09-21T12:53:29.070Z"
   },
   {
    "duration": 6,
    "start_time": "2023-09-21T12:53:31.687Z"
   },
   {
    "duration": 1043,
    "start_time": "2023-09-21T12:53:32.000Z"
   },
   {
    "duration": 930,
    "start_time": "2023-09-21T12:53:45.990Z"
   },
   {
    "duration": 793,
    "start_time": "2023-09-21T12:53:54.463Z"
   },
   {
    "duration": 509,
    "start_time": "2023-09-21T12:54:41.770Z"
   },
   {
    "duration": 7,
    "start_time": "2023-09-21T12:54:45.596Z"
   },
   {
    "duration": 932,
    "start_time": "2023-09-21T12:54:46.083Z"
   },
   {
    "duration": 708,
    "start_time": "2023-09-21T12:56:02.783Z"
   },
   {
    "duration": 804,
    "start_time": "2023-09-21T12:56:11.935Z"
   },
   {
    "duration": 331,
    "start_time": "2023-09-21T12:58:15.556Z"
   },
   {
    "duration": 10,
    "start_time": "2023-09-21T12:58:20.509Z"
   },
   {
    "duration": 10,
    "start_time": "2023-09-21T12:59:14.166Z"
   },
   {
    "duration": 4,
    "start_time": "2023-09-21T12:59:17.348Z"
   },
   {
    "duration": 8,
    "start_time": "2023-09-21T12:59:24.946Z"
   },
   {
    "duration": 15,
    "start_time": "2023-09-21T12:59:29.441Z"
   },
   {
    "duration": 133,
    "start_time": "2023-09-21T12:59:33.198Z"
   },
   {
    "duration": 167,
    "start_time": "2023-09-21T12:59:38.483Z"
   },
   {
    "duration": 157,
    "start_time": "2023-09-21T13:00:31.193Z"
   },
   {
    "duration": 166,
    "start_time": "2023-09-21T13:00:34.937Z"
   },
   {
    "duration": 104,
    "start_time": "2023-09-21T13:00:43.558Z"
   },
   {
    "duration": 194,
    "start_time": "2023-09-21T13:00:46.490Z"
   },
   {
    "duration": 190,
    "start_time": "2023-09-21T13:01:08.676Z"
   },
   {
    "duration": 266,
    "start_time": "2023-09-21T13:01:12.507Z"
   },
   {
    "duration": 180,
    "start_time": "2023-09-21T13:02:14.759Z"
   },
   {
    "duration": 12,
    "start_time": "2023-09-21T13:11:36.239Z"
   },
   {
    "duration": 12,
    "start_time": "2023-09-21T13:12:24.521Z"
   },
   {
    "duration": 8,
    "start_time": "2023-09-21T13:12:25.225Z"
   },
   {
    "duration": 5,
    "start_time": "2023-09-21T13:12:41.774Z"
   },
   {
    "duration": 6,
    "start_time": "2023-09-21T13:12:46.199Z"
   },
   {
    "duration": 1395,
    "start_time": "2023-09-21T13:13:35.115Z"
   },
   {
    "duration": 102,
    "start_time": "2023-09-21T13:13:36.512Z"
   },
   {
    "duration": 4,
    "start_time": "2023-09-21T13:13:36.616Z"
   },
   {
    "duration": 86,
    "start_time": "2023-09-21T13:13:36.624Z"
   },
   {
    "duration": 30,
    "start_time": "2023-09-21T13:13:36.712Z"
   },
   {
    "duration": 311,
    "start_time": "2023-09-21T13:13:36.744Z"
   },
   {
    "duration": 1348,
    "start_time": "2023-09-21T13:13:37.058Z"
   },
   {
    "duration": 242,
    "start_time": "2023-09-21T13:13:38.408Z"
   },
   {
    "duration": 16,
    "start_time": "2023-09-21T13:13:38.652Z"
   },
   {
    "duration": 257,
    "start_time": "2023-09-21T13:13:38.671Z"
   },
   {
    "duration": 1632,
    "start_time": "2023-09-21T13:13:38.930Z"
   },
   {
    "duration": 34,
    "start_time": "2023-09-21T13:13:40.565Z"
   },
   {
    "duration": 52,
    "start_time": "2023-09-21T13:13:40.609Z"
   },
   {
    "duration": 28,
    "start_time": "2023-09-21T13:13:40.663Z"
   },
   {
    "duration": 23,
    "start_time": "2023-09-21T13:13:40.694Z"
   },
   {
    "duration": 38,
    "start_time": "2023-09-21T13:13:40.719Z"
   },
   {
    "duration": 25,
    "start_time": "2023-09-21T13:13:40.759Z"
   },
   {
    "duration": 232,
    "start_time": "2023-09-21T13:13:40.786Z"
   },
   {
    "duration": 24,
    "start_time": "2023-09-21T13:13:41.020Z"
   },
   {
    "duration": 393,
    "start_time": "2023-09-21T13:13:41.046Z"
   },
   {
    "duration": 24,
    "start_time": "2023-09-21T13:13:41.442Z"
   },
   {
    "duration": 28,
    "start_time": "2023-09-21T13:13:41.468Z"
   },
   {
    "duration": 33,
    "start_time": "2023-09-21T13:13:41.498Z"
   },
   {
    "duration": 356,
    "start_time": "2023-09-21T13:13:41.533Z"
   },
   {
    "duration": 172,
    "start_time": "2023-09-21T13:13:41.892Z"
   },
   {
    "duration": 5,
    "start_time": "2023-09-21T13:13:42.067Z"
   },
   {
    "duration": 24,
    "start_time": "2023-09-21T13:13:42.074Z"
   },
   {
    "duration": 406,
    "start_time": "2023-09-21T13:13:42.110Z"
   },
   {
    "duration": 462,
    "start_time": "2023-09-21T13:13:42.519Z"
   },
   {
    "duration": 13,
    "start_time": "2023-09-21T13:13:42.984Z"
   },
   {
    "duration": 939,
    "start_time": "2023-09-21T13:13:42.999Z"
   },
   {
    "duration": 6,
    "start_time": "2023-09-21T13:13:43.941Z"
   },
   {
    "duration": 876,
    "start_time": "2023-09-21T13:13:43.949Z"
   },
   {
    "duration": 550,
    "start_time": "2023-09-21T13:13:44.828Z"
   },
   {
    "duration": 14,
    "start_time": "2023-09-21T13:13:45.383Z"
   },
   {
    "duration": 541,
    "start_time": "2023-09-21T13:13:45.400Z"
   },
   {
    "duration": 276,
    "start_time": "2023-09-21T13:13:45.944Z"
   },
   {
    "duration": 217,
    "start_time": "2023-09-21T13:13:46.222Z"
   },
   {
    "duration": 14,
    "start_time": "2023-09-21T13:13:46.441Z"
   },
   {
    "duration": 39,
    "start_time": "2023-09-21T13:13:46.457Z"
   },
   {
    "duration": 230,
    "start_time": "2023-09-21T13:13:46.497Z"
   },
   {
    "duration": 141,
    "start_time": "2023-09-21T13:13:46.729Z"
   },
   {
    "duration": 17,
    "start_time": "2023-09-21T13:13:46.872Z"
   },
   {
    "duration": 26,
    "start_time": "2023-09-21T13:13:46.891Z"
   },
   {
    "duration": 15,
    "start_time": "2023-09-21T13:13:46.919Z"
   },
   {
    "duration": 133,
    "start_time": "2023-09-21T13:16:59.497Z"
   },
   {
    "duration": 13,
    "start_time": "2023-09-21T13:17:05.662Z"
   },
   {
    "duration": 14,
    "start_time": "2023-09-21T13:17:12.069Z"
   },
   {
    "duration": 11,
    "start_time": "2023-09-21T13:17:31.526Z"
   },
   {
    "duration": 11,
    "start_time": "2023-09-21T13:17:34.596Z"
   },
   {
    "duration": 93,
    "start_time": "2023-09-21T13:27:37.623Z"
   },
   {
    "duration": 1215,
    "start_time": "2023-09-21T13:28:00.259Z"
   },
   {
    "duration": 77,
    "start_time": "2023-09-21T13:28:01.476Z"
   },
   {
    "duration": 5,
    "start_time": "2023-09-21T13:28:01.555Z"
   },
   {
    "duration": 129,
    "start_time": "2023-09-21T13:28:01.562Z"
   },
   {
    "duration": 20,
    "start_time": "2023-09-21T13:28:01.692Z"
   },
   {
    "duration": 334,
    "start_time": "2023-09-21T13:28:01.714Z"
   },
   {
    "duration": 1470,
    "start_time": "2023-09-21T13:28:02.050Z"
   },
   {
    "duration": 201,
    "start_time": "2023-09-21T13:28:03.523Z"
   },
   {
    "duration": 13,
    "start_time": "2023-09-21T13:28:03.726Z"
   },
   {
    "duration": 257,
    "start_time": "2023-09-21T13:28:03.742Z"
   },
   {
    "duration": 1448,
    "start_time": "2023-09-21T13:28:04.000Z"
   },
   {
    "duration": 18,
    "start_time": "2023-09-21T13:28:05.451Z"
   },
   {
    "duration": 17,
    "start_time": "2023-09-21T13:28:05.472Z"
   },
   {
    "duration": 21,
    "start_time": "2023-09-21T13:28:05.509Z"
   },
   {
    "duration": 20,
    "start_time": "2023-09-21T13:28:05.531Z"
   },
   {
    "duration": 11,
    "start_time": "2023-09-21T13:28:05.553Z"
   },
   {
    "duration": 19,
    "start_time": "2023-09-21T13:28:05.566Z"
   },
   {
    "duration": 212,
    "start_time": "2023-09-21T13:28:05.610Z"
   },
   {
    "duration": 17,
    "start_time": "2023-09-21T13:28:05.825Z"
   },
   {
    "duration": 371,
    "start_time": "2023-09-21T13:28:05.844Z"
   },
   {
    "duration": 16,
    "start_time": "2023-09-21T13:28:06.217Z"
   },
   {
    "duration": 23,
    "start_time": "2023-09-21T13:28:06.235Z"
   },
   {
    "duration": 33,
    "start_time": "2023-09-21T13:28:06.260Z"
   },
   {
    "duration": 411,
    "start_time": "2023-09-21T13:28:06.295Z"
   },
   {
    "duration": 122,
    "start_time": "2023-09-21T13:28:06.709Z"
   },
   {
    "duration": 6,
    "start_time": "2023-09-21T13:28:06.833Z"
   },
   {
    "duration": 13,
    "start_time": "2023-09-21T13:28:06.841Z"
   },
   {
    "duration": 320,
    "start_time": "2023-09-21T13:28:06.859Z"
   },
   {
    "duration": 300,
    "start_time": "2023-09-21T13:28:07.181Z"
   },
   {
    "duration": 6,
    "start_time": "2023-09-21T13:28:07.483Z"
   },
   {
    "duration": 833,
    "start_time": "2023-09-21T13:28:07.490Z"
   },
   {
    "duration": 6,
    "start_time": "2023-09-21T13:28:08.325Z"
   },
   {
    "duration": 769,
    "start_time": "2023-09-21T13:28:08.334Z"
   },
   {
    "duration": 447,
    "start_time": "2023-09-21T13:28:09.105Z"
   },
   {
    "duration": 12,
    "start_time": "2023-09-21T13:28:09.555Z"
   },
   {
    "duration": 218,
    "start_time": "2023-09-21T13:28:09.569Z"
   },
   {
    "duration": 210,
    "start_time": "2023-09-21T13:28:09.789Z"
   },
   {
    "duration": 201,
    "start_time": "2023-09-21T13:28:10.001Z"
   },
   {
    "duration": 13,
    "start_time": "2023-09-21T13:28:10.204Z"
   },
   {
    "duration": 16,
    "start_time": "2023-09-21T13:28:10.218Z"
   },
   {
    "duration": 10,
    "start_time": "2023-09-21T13:28:10.236Z"
   },
   {
    "duration": 8,
    "start_time": "2023-09-21T13:28:10.247Z"
   },
   {
    "duration": 15,
    "start_time": "2023-09-21T13:28:10.257Z"
   },
   {
    "duration": 15,
    "start_time": "2023-09-21T13:28:10.273Z"
   },
   {
    "duration": 10,
    "start_time": "2023-09-21T13:28:10.311Z"
   },
   {
    "duration": 1303,
    "start_time": "2023-09-21T13:34:08.056Z"
   },
   {
    "duration": 76,
    "start_time": "2023-09-21T13:34:09.362Z"
   },
   {
    "duration": 6,
    "start_time": "2023-09-21T13:34:09.440Z"
   },
   {
    "duration": 77,
    "start_time": "2023-09-21T13:34:09.448Z"
   },
   {
    "duration": 22,
    "start_time": "2023-09-21T13:34:09.527Z"
   },
   {
    "duration": 260,
    "start_time": "2023-09-21T13:34:09.551Z"
   },
   {
    "duration": 1359,
    "start_time": "2023-09-21T13:34:09.813Z"
   },
   {
    "duration": 209,
    "start_time": "2023-09-21T13:34:11.174Z"
   },
   {
    "duration": 24,
    "start_time": "2023-09-21T13:34:11.385Z"
   },
   {
    "duration": 252,
    "start_time": "2023-09-21T13:34:11.412Z"
   },
   {
    "duration": 1544,
    "start_time": "2023-09-21T13:34:11.667Z"
   },
   {
    "duration": 19,
    "start_time": "2023-09-21T13:34:13.213Z"
   },
   {
    "duration": 25,
    "start_time": "2023-09-21T13:34:13.234Z"
   },
   {
    "duration": 19,
    "start_time": "2023-09-21T13:34:13.261Z"
   },
   {
    "duration": 38,
    "start_time": "2023-09-21T13:34:13.282Z"
   },
   {
    "duration": 10,
    "start_time": "2023-09-21T13:34:13.321Z"
   },
   {
    "duration": 18,
    "start_time": "2023-09-21T13:34:13.333Z"
   },
   {
    "duration": 226,
    "start_time": "2023-09-21T13:34:13.353Z"
   },
   {
    "duration": 18,
    "start_time": "2023-09-21T13:34:13.580Z"
   },
   {
    "duration": 363,
    "start_time": "2023-09-21T13:34:13.600Z"
   },
   {
    "duration": 16,
    "start_time": "2023-09-21T13:34:13.965Z"
   },
   {
    "duration": 64,
    "start_time": "2023-09-21T13:34:13.983Z"
   },
   {
    "duration": 41,
    "start_time": "2023-09-21T13:34:14.050Z"
   },
   {
    "duration": 337,
    "start_time": "2023-09-21T13:34:14.093Z"
   },
   {
    "duration": 128,
    "start_time": "2023-09-21T13:34:14.432Z"
   },
   {
    "duration": 5,
    "start_time": "2023-09-21T13:34:14.563Z"
   },
   {
    "duration": 35,
    "start_time": "2023-09-21T13:34:14.570Z"
   },
   {
    "duration": 300,
    "start_time": "2023-09-21T13:34:14.609Z"
   },
   {
    "duration": 320,
    "start_time": "2023-09-21T13:34:14.911Z"
   },
   {
    "duration": 7,
    "start_time": "2023-09-21T13:34:15.234Z"
   },
   {
    "duration": 842,
    "start_time": "2023-09-21T13:34:15.242Z"
   },
   {
    "duration": 6,
    "start_time": "2023-09-21T13:34:16.085Z"
   },
   {
    "duration": 735,
    "start_time": "2023-09-21T13:34:16.092Z"
   },
   {
    "duration": 425,
    "start_time": "2023-09-21T13:34:16.828Z"
   },
   {
    "duration": 11,
    "start_time": "2023-09-21T13:34:17.255Z"
   },
   {
    "duration": 208,
    "start_time": "2023-09-21T13:34:17.268Z"
   },
   {
    "duration": 212,
    "start_time": "2023-09-21T13:34:17.478Z"
   },
   {
    "duration": 192,
    "start_time": "2023-09-21T13:34:17.692Z"
   },
   {
    "duration": 10,
    "start_time": "2023-09-21T13:34:17.886Z"
   },
   {
    "duration": 12,
    "start_time": "2023-09-21T13:34:17.910Z"
   },
   {
    "duration": 10,
    "start_time": "2023-09-21T13:34:17.923Z"
   },
   {
    "duration": 10,
    "start_time": "2023-09-21T13:34:17.934Z"
   },
   {
    "duration": 25,
    "start_time": "2023-09-21T13:34:17.946Z"
   },
   {
    "duration": 13,
    "start_time": "2023-09-21T13:34:17.972Z"
   },
   {
    "duration": 21,
    "start_time": "2023-09-21T13:34:17.987Z"
   },
   {
    "duration": 1455,
    "start_time": "2023-09-21T17:33:04.982Z"
   },
   {
    "duration": 272,
    "start_time": "2023-09-21T17:33:06.440Z"
   },
   {
    "duration": 4,
    "start_time": "2023-09-21T17:33:06.714Z"
   },
   {
    "duration": 100,
    "start_time": "2023-09-21T17:33:06.720Z"
   },
   {
    "duration": 23,
    "start_time": "2023-09-21T17:33:06.822Z"
   },
   {
    "duration": 329,
    "start_time": "2023-09-21T17:33:06.847Z"
   },
   {
    "duration": 1544,
    "start_time": "2023-09-21T17:33:07.179Z"
   },
   {
    "duration": 295,
    "start_time": "2023-09-21T17:33:08.725Z"
   },
   {
    "duration": 20,
    "start_time": "2023-09-21T17:33:09.023Z"
   },
   {
    "duration": 367,
    "start_time": "2023-09-21T17:33:09.045Z"
   },
   {
    "duration": 1581,
    "start_time": "2023-09-21T17:33:09.414Z"
   },
   {
    "duration": 18,
    "start_time": "2023-09-21T17:33:10.997Z"
   },
   {
    "duration": 39,
    "start_time": "2023-09-21T17:33:11.017Z"
   },
   {
    "duration": 28,
    "start_time": "2023-09-21T17:33:11.072Z"
   },
   {
    "duration": 18,
    "start_time": "2023-09-21T17:33:11.102Z"
   },
   {
    "duration": 11,
    "start_time": "2023-09-21T17:33:11.121Z"
   },
   {
    "duration": 48,
    "start_time": "2023-09-21T17:33:11.134Z"
   },
   {
    "duration": 236,
    "start_time": "2023-09-21T17:33:11.185Z"
   },
   {
    "duration": 17,
    "start_time": "2023-09-21T17:33:11.424Z"
   },
   {
    "duration": 433,
    "start_time": "2023-09-21T17:33:11.443Z"
   },
   {
    "duration": 19,
    "start_time": "2023-09-21T17:33:11.884Z"
   },
   {
    "duration": 17,
    "start_time": "2023-09-21T17:33:11.905Z"
   },
   {
    "duration": 48,
    "start_time": "2023-09-21T17:33:11.924Z"
   },
   {
    "duration": 344,
    "start_time": "2023-09-21T17:33:11.975Z"
   },
   {
    "duration": 146,
    "start_time": "2023-09-21T17:33:12.321Z"
   },
   {
    "duration": 11,
    "start_time": "2023-09-21T17:33:12.470Z"
   },
   {
    "duration": 54,
    "start_time": "2023-09-21T17:33:12.483Z"
   },
   {
    "duration": 365,
    "start_time": "2023-09-21T17:33:12.539Z"
   },
   {
    "duration": 329,
    "start_time": "2023-09-21T17:33:12.906Z"
   },
   {
    "duration": 5,
    "start_time": "2023-09-21T17:33:13.237Z"
   },
   {
    "duration": 946,
    "start_time": "2023-09-21T17:33:13.244Z"
   },
   {
    "duration": 5,
    "start_time": "2023-09-21T17:33:14.192Z"
   },
   {
    "duration": 813,
    "start_time": "2023-09-21T17:33:14.199Z"
   },
   {
    "duration": 506,
    "start_time": "2023-09-21T17:33:15.014Z"
   },
   {
    "duration": 13,
    "start_time": "2023-09-21T17:33:15.522Z"
   },
   {
    "duration": 256,
    "start_time": "2023-09-21T17:33:15.538Z"
   },
   {
    "duration": 236,
    "start_time": "2023-09-21T17:33:15.796Z"
   },
   {
    "duration": 212,
    "start_time": "2023-09-21T17:33:16.034Z"
   },
   {
    "duration": 23,
    "start_time": "2023-09-21T17:33:16.248Z"
   },
   {
    "duration": 15,
    "start_time": "2023-09-21T17:33:16.273Z"
   },
   {
    "duration": 5,
    "start_time": "2023-09-21T17:33:16.294Z"
   },
   {
    "duration": 19,
    "start_time": "2023-09-21T17:33:16.301Z"
   },
   {
    "duration": 6,
    "start_time": "2023-09-21T17:33:16.322Z"
   },
   {
    "duration": 9,
    "start_time": "2023-09-21T17:33:16.329Z"
   },
   {
    "duration": 34,
    "start_time": "2023-09-21T17:33:16.340Z"
   },
   {
    "duration": 1367,
    "start_time": "2023-09-21T17:42:11.672Z"
   },
   {
    "duration": 83,
    "start_time": "2023-09-21T17:42:13.041Z"
   },
   {
    "duration": 4,
    "start_time": "2023-09-21T17:42:13.126Z"
   },
   {
    "duration": 79,
    "start_time": "2023-09-21T17:42:13.131Z"
   },
   {
    "duration": 19,
    "start_time": "2023-09-21T17:42:13.212Z"
   },
   {
    "duration": 303,
    "start_time": "2023-09-21T17:42:13.233Z"
   },
   {
    "duration": 1414,
    "start_time": "2023-09-21T17:42:13.537Z"
   },
   {
    "duration": 214,
    "start_time": "2023-09-21T17:42:14.958Z"
   },
   {
    "duration": 13,
    "start_time": "2023-09-21T17:42:15.175Z"
   },
   {
    "duration": 249,
    "start_time": "2023-09-21T17:42:15.190Z"
   },
   {
    "duration": 1487,
    "start_time": "2023-09-21T17:42:15.441Z"
   },
   {
    "duration": 37,
    "start_time": "2023-09-21T17:42:16.929Z"
   },
   {
    "duration": 22,
    "start_time": "2023-09-21T17:42:16.968Z"
   },
   {
    "duration": 27,
    "start_time": "2023-09-21T17:42:16.993Z"
   },
   {
    "duration": 51,
    "start_time": "2023-09-21T17:42:17.022Z"
   },
   {
    "duration": 6,
    "start_time": "2023-09-21T17:42:17.075Z"
   },
   {
    "duration": 30,
    "start_time": "2023-09-21T17:42:17.083Z"
   },
   {
    "duration": 219,
    "start_time": "2023-09-21T17:42:17.115Z"
   },
   {
    "duration": 36,
    "start_time": "2023-09-21T17:42:17.336Z"
   },
   {
    "duration": 363,
    "start_time": "2023-09-21T17:42:17.374Z"
   },
   {
    "duration": 15,
    "start_time": "2023-09-21T17:42:17.739Z"
   },
   {
    "duration": 13,
    "start_time": "2023-09-21T17:42:17.755Z"
   },
   {
    "duration": 21,
    "start_time": "2023-09-21T17:42:17.770Z"
   },
   {
    "duration": 345,
    "start_time": "2023-09-21T17:42:17.793Z"
   },
   {
    "duration": 138,
    "start_time": "2023-09-21T17:42:18.139Z"
   },
   {
    "duration": 5,
    "start_time": "2023-09-21T17:42:18.278Z"
   },
   {
    "duration": 12,
    "start_time": "2023-09-21T17:42:18.285Z"
   },
   {
    "duration": 308,
    "start_time": "2023-09-21T17:42:18.299Z"
   },
   {
    "duration": 358,
    "start_time": "2023-09-21T17:42:18.609Z"
   },
   {
    "duration": 6,
    "start_time": "2023-09-21T17:42:18.975Z"
   },
   {
    "duration": 981,
    "start_time": "2023-09-21T17:42:18.983Z"
   },
   {
    "duration": 7,
    "start_time": "2023-09-21T17:42:19.966Z"
   },
   {
    "duration": 753,
    "start_time": "2023-09-21T17:42:19.975Z"
   },
   {
    "duration": 470,
    "start_time": "2023-09-21T17:42:20.731Z"
   },
   {
    "duration": 11,
    "start_time": "2023-09-21T17:42:21.203Z"
   },
   {
    "duration": 221,
    "start_time": "2023-09-21T17:42:21.216Z"
   },
   {
    "duration": 206,
    "start_time": "2023-09-21T17:42:21.439Z"
   },
   {
    "duration": 198,
    "start_time": "2023-09-21T17:42:21.647Z"
   },
   {
    "duration": 18,
    "start_time": "2023-09-21T17:42:21.847Z"
   },
   {
    "duration": 23,
    "start_time": "2023-09-21T17:42:21.867Z"
   },
   {
    "duration": 20,
    "start_time": "2023-09-21T17:42:21.895Z"
   },
   {
    "duration": 53,
    "start_time": "2023-09-21T17:42:21.917Z"
   },
   {
    "duration": 34,
    "start_time": "2023-09-21T17:42:21.972Z"
   },
   {
    "duration": 27,
    "start_time": "2023-09-21T17:42:22.008Z"
   },
   {
    "duration": 22,
    "start_time": "2023-09-21T17:42:22.038Z"
   },
   {
    "duration": 1345,
    "start_time": "2023-09-21T17:42:37.177Z"
   },
   {
    "duration": 82,
    "start_time": "2023-09-21T17:42:38.525Z"
   },
   {
    "duration": 3,
    "start_time": "2023-09-21T17:42:38.609Z"
   },
   {
    "duration": 81,
    "start_time": "2023-09-21T17:42:38.614Z"
   },
   {
    "duration": 21,
    "start_time": "2023-09-21T17:42:38.698Z"
   },
   {
    "duration": 365,
    "start_time": "2023-09-21T17:42:38.721Z"
   },
   {
    "duration": 1557,
    "start_time": "2023-09-21T17:42:39.090Z"
   },
   {
    "duration": 234,
    "start_time": "2023-09-21T17:42:40.649Z"
   },
   {
    "duration": 18,
    "start_time": "2023-09-21T17:42:40.886Z"
   },
   {
    "duration": 323,
    "start_time": "2023-09-21T17:42:40.906Z"
   },
   {
    "duration": 1503,
    "start_time": "2023-09-21T17:42:41.231Z"
   },
   {
    "duration": 37,
    "start_time": "2023-09-21T17:42:42.735Z"
   },
   {
    "duration": 23,
    "start_time": "2023-09-21T17:42:42.774Z"
   },
   {
    "duration": 41,
    "start_time": "2023-09-21T17:42:42.801Z"
   },
   {
    "duration": 44,
    "start_time": "2023-09-21T17:42:42.845Z"
   },
   {
    "duration": 6,
    "start_time": "2023-09-21T17:42:42.892Z"
   },
   {
    "duration": 25,
    "start_time": "2023-09-21T17:42:42.900Z"
   },
   {
    "duration": 236,
    "start_time": "2023-09-21T17:42:42.927Z"
   },
   {
    "duration": 29,
    "start_time": "2023-09-21T17:42:43.167Z"
   },
   {
    "duration": 402,
    "start_time": "2023-09-21T17:42:43.199Z"
   },
   {
    "duration": 18,
    "start_time": "2023-09-21T17:42:43.604Z"
   },
   {
    "duration": 16,
    "start_time": "2023-09-21T17:42:43.624Z"
   },
   {
    "duration": 37,
    "start_time": "2023-09-21T17:42:43.643Z"
   },
   {
    "duration": 368,
    "start_time": "2023-09-21T17:42:43.683Z"
   },
   {
    "duration": 129,
    "start_time": "2023-09-21T17:42:44.055Z"
   },
   {
    "duration": 5,
    "start_time": "2023-09-21T17:42:44.186Z"
   },
   {
    "duration": 35,
    "start_time": "2023-09-21T17:42:44.192Z"
   },
   {
    "duration": 299,
    "start_time": "2023-09-21T17:42:44.229Z"
   },
   {
    "duration": 358,
    "start_time": "2023-09-21T17:42:44.531Z"
   },
   {
    "duration": 10,
    "start_time": "2023-09-21T17:42:44.895Z"
   },
   {
    "duration": 947,
    "start_time": "2023-09-21T17:42:44.909Z"
   },
   {
    "duration": 7,
    "start_time": "2023-09-21T17:42:45.860Z"
   },
   {
    "duration": 743,
    "start_time": "2023-09-21T17:42:45.869Z"
   },
   {
    "duration": 514,
    "start_time": "2023-09-21T17:42:46.614Z"
   },
   {
    "duration": 12,
    "start_time": "2023-09-21T17:42:47.130Z"
   },
   {
    "duration": 231,
    "start_time": "2023-09-21T17:42:47.156Z"
   },
   {
    "duration": 227,
    "start_time": "2023-09-21T17:42:47.389Z"
   },
   {
    "duration": 208,
    "start_time": "2023-09-21T17:42:47.618Z"
   },
   {
    "duration": 10,
    "start_time": "2023-09-21T17:42:47.828Z"
   },
   {
    "duration": 23,
    "start_time": "2023-09-21T17:42:47.840Z"
   },
   {
    "duration": 7,
    "start_time": "2023-09-21T17:42:47.879Z"
   },
   {
    "duration": 9,
    "start_time": "2023-09-21T17:42:47.888Z"
   },
   {
    "duration": 7,
    "start_time": "2023-09-21T17:42:47.898Z"
   },
   {
    "duration": 12,
    "start_time": "2023-09-21T17:42:47.907Z"
   },
   {
    "duration": 36,
    "start_time": "2023-09-21T17:42:47.921Z"
   },
   {
    "duration": 1390,
    "start_time": "2023-09-22T03:17:06.042Z"
   },
   {
    "duration": 208,
    "start_time": "2023-09-22T03:17:07.434Z"
   },
   {
    "duration": 4,
    "start_time": "2023-09-22T03:17:07.765Z"
   },
   {
    "duration": 58,
    "start_time": "2023-09-22T03:17:09.058Z"
   },
   {
    "duration": 22,
    "start_time": "2023-09-22T03:17:11.087Z"
   },
   {
    "duration": 223,
    "start_time": "2023-09-22T03:17:11.782Z"
   },
   {
    "duration": 1228,
    "start_time": "2023-09-22T03:17:12.596Z"
   },
   {
    "duration": 202,
    "start_time": "2023-09-22T03:17:13.826Z"
   },
   {
    "duration": 30,
    "start_time": "2023-09-22T03:17:14.031Z"
   },
   {
    "duration": 217,
    "start_time": "2023-09-22T03:17:18.982Z"
   },
   {
    "duration": 1286,
    "start_time": "2023-09-22T03:17:19.870Z"
   },
   {
    "duration": 18,
    "start_time": "2023-09-22T03:17:21.158Z"
   },
   {
    "duration": 14,
    "start_time": "2023-09-22T03:17:21.291Z"
   },
   {
    "duration": 22,
    "start_time": "2023-09-22T03:17:21.782Z"
   },
   {
    "duration": 19,
    "start_time": "2023-09-22T03:17:23.720Z"
   },
   {
    "duration": 7,
    "start_time": "2023-09-22T03:17:27.513Z"
   },
   {
    "duration": 18,
    "start_time": "2023-09-22T03:17:28.106Z"
   },
   {
    "duration": 188,
    "start_time": "2023-09-22T03:17:34.649Z"
   },
   {
    "duration": 17,
    "start_time": "2023-09-22T03:17:40.550Z"
   },
   {
    "duration": 302,
    "start_time": "2023-09-22T03:17:41.219Z"
   },
   {
    "duration": 15,
    "start_time": "2023-09-22T03:17:41.948Z"
   },
   {
    "duration": 6,
    "start_time": "2023-09-22T03:17:43.798Z"
   },
   {
    "duration": 17,
    "start_time": "2023-09-22T03:17:44.189Z"
   },
   {
    "duration": 284,
    "start_time": "2023-09-22T03:17:45.098Z"
   },
   {
    "duration": 106,
    "start_time": "2023-09-22T03:17:46.232Z"
   },
   {
    "duration": 5,
    "start_time": "2023-09-22T03:17:53.771Z"
   },
   {
    "duration": 8,
    "start_time": "2023-09-22T03:18:08.488Z"
   },
   {
    "duration": 255,
    "start_time": "2023-09-22T03:18:12.580Z"
   },
   {
    "duration": 273,
    "start_time": "2023-09-22T03:18:21.785Z"
   },
   {
    "duration": 18,
    "start_time": "2023-09-22T03:19:28.167Z"
   },
   {
    "duration": 369,
    "start_time": "2023-09-22T03:19:28.619Z"
   },
   {
    "duration": 17,
    "start_time": "2023-09-22T03:19:40.148Z"
   },
   {
    "duration": 528,
    "start_time": "2023-09-22T03:19:40.437Z"
   },
   {
    "duration": 17,
    "start_time": "2023-09-22T03:20:09.545Z"
   },
   {
    "duration": 269,
    "start_time": "2023-09-22T03:20:10.160Z"
   },
   {
    "duration": 98,
    "start_time": "2023-09-22T03:20:10.817Z"
   },
   {
    "duration": 6,
    "start_time": "2023-09-22T03:21:08.210Z"
   },
   {
    "duration": 8,
    "start_time": "2023-09-22T03:21:11.837Z"
   },
   {
    "duration": 264,
    "start_time": "2023-09-22T03:21:13.439Z"
   },
   {
    "duration": 288,
    "start_time": "2023-09-22T03:21:15.544Z"
   },
   {
    "duration": 99,
    "start_time": "2023-09-22T03:23:22.829Z"
   },
   {
    "duration": 5,
    "start_time": "2023-09-22T03:23:29.624Z"
   },
   {
    "duration": 9,
    "start_time": "2023-09-22T03:23:33.604Z"
   },
   {
    "duration": 254,
    "start_time": "2023-09-22T03:23:33.897Z"
   },
   {
    "duration": 5,
    "start_time": "2023-09-22T03:25:33.669Z"
   },
   {
    "duration": 729,
    "start_time": "2023-09-22T03:25:34.290Z"
   },
   {
    "duration": 5,
    "start_time": "2023-09-22T03:26:57.955Z"
   },
   {
    "duration": 22,
    "start_time": "2023-09-22T03:27:09.487Z"
   },
   {
    "duration": 8,
    "start_time": "2023-09-22T03:27:39.956Z"
   },
   {
    "duration": 7,
    "start_time": "2023-09-22T03:27:50.243Z"
   },
   {
    "duration": 7,
    "start_time": "2023-09-22T03:28:54.505Z"
   },
   {
    "duration": 1728,
    "start_time": "2023-09-22T06:12:48.919Z"
   },
   {
    "duration": 123,
    "start_time": "2023-09-22T06:12:51.522Z"
   },
   {
    "duration": 5,
    "start_time": "2023-09-22T06:12:51.745Z"
   },
   {
    "duration": 84,
    "start_time": "2023-09-22T06:12:52.509Z"
   },
   {
    "duration": 20,
    "start_time": "2023-09-22T06:12:53.474Z"
   },
   {
    "duration": 251,
    "start_time": "2023-09-22T06:12:53.886Z"
   },
   {
    "duration": 1485,
    "start_time": "2023-09-22T06:12:54.148Z"
   },
   {
    "duration": 227,
    "start_time": "2023-09-22T06:12:55.636Z"
   },
   {
    "duration": 16,
    "start_time": "2023-09-22T06:12:55.865Z"
   },
   {
    "duration": 269,
    "start_time": "2023-09-22T06:12:57.967Z"
   },
   {
    "duration": 1527,
    "start_time": "2023-09-22T06:12:58.389Z"
   },
   {
    "duration": 30,
    "start_time": "2023-09-22T06:12:59.918Z"
   },
   {
    "duration": 42,
    "start_time": "2023-09-22T06:12:59.951Z"
   },
   {
    "duration": 26,
    "start_time": "2023-09-22T06:12:59.995Z"
   },
   {
    "duration": 85,
    "start_time": "2023-09-22T06:13:00.023Z"
   },
   {
    "duration": 8,
    "start_time": "2023-09-22T06:13:00.284Z"
   },
   {
    "duration": 27,
    "start_time": "2023-09-22T06:13:00.574Z"
   },
   {
    "duration": 254,
    "start_time": "2023-09-22T06:13:02.219Z"
   },
   {
    "duration": 24,
    "start_time": "2023-09-22T06:13:03.883Z"
   },
   {
    "duration": 412,
    "start_time": "2023-09-22T06:13:04.234Z"
   },
   {
    "duration": 19,
    "start_time": "2023-09-22T06:13:04.907Z"
   },
   {
    "duration": 6,
    "start_time": "2023-09-22T06:13:05.977Z"
   },
   {
    "duration": 27,
    "start_time": "2023-09-22T06:13:06.441Z"
   },
   {
    "duration": 333,
    "start_time": "2023-09-22T06:13:07.088Z"
   },
   {
    "duration": 177,
    "start_time": "2023-09-22T06:13:08.123Z"
   },
   {
    "duration": 8,
    "start_time": "2023-09-22T06:13:10.266Z"
   },
   {
    "duration": 10,
    "start_time": "2023-09-22T06:13:12.442Z"
   },
   {
    "duration": 337,
    "start_time": "2023-09-22T06:13:12.921Z"
   },
   {
    "duration": 397,
    "start_time": "2023-09-22T06:13:14.010Z"
   },
   {
    "duration": 4,
    "start_time": "2023-09-22T06:13:16.903Z"
   },
   {
    "duration": 10,
    "start_time": "2023-09-22T06:13:17.459Z"
   },
   {
    "duration": 261,
    "start_time": "2023-09-22T06:13:17.979Z"
   },
   {
    "duration": 251,
    "start_time": "2023-09-22T06:14:25.569Z"
   },
   {
    "duration": 753,
    "start_time": "2023-09-22T06:14:40.897Z"
   },
   {
    "duration": 762,
    "start_time": "2023-09-22T06:14:52.624Z"
   },
   {
    "duration": 838,
    "start_time": "2023-09-22T06:15:15.900Z"
   },
   {
    "duration": 789,
    "start_time": "2023-09-22T06:15:19.539Z"
   },
   {
    "duration": 151,
    "start_time": "2023-09-22T06:17:20.021Z"
   },
   {
    "duration": 7,
    "start_time": "2023-09-22T06:17:22.700Z"
   },
   {
    "duration": 752,
    "start_time": "2023-09-22T06:17:23.327Z"
   },
   {
    "duration": 12,
    "start_time": "2023-09-22T06:17:53.227Z"
   },
   {
    "duration": 10,
    "start_time": "2023-09-22T06:17:56.084Z"
   },
   {
    "duration": 784,
    "start_time": "2023-09-22T06:17:56.494Z"
   },
   {
    "duration": 7,
    "start_time": "2023-09-22T06:18:02.817Z"
   },
   {
    "duration": 752,
    "start_time": "2023-09-22T06:18:12.935Z"
   },
   {
    "duration": 883,
    "start_time": "2023-09-22T06:18:23.690Z"
   },
   {
    "duration": 357,
    "start_time": "2023-09-22T06:20:19.539Z"
   },
   {
    "duration": 10,
    "start_time": "2023-09-22T06:20:22.818Z"
   },
   {
    "duration": 212,
    "start_time": "2023-09-22T06:20:23.911Z"
   },
   {
    "duration": 280,
    "start_time": "2023-09-22T06:20:25.186Z"
   },
   {
    "duration": 223,
    "start_time": "2023-09-22T06:20:25.816Z"
   },
   {
    "duration": 10,
    "start_time": "2023-09-22T06:20:28.007Z"
   },
   {
    "duration": 9,
    "start_time": "2023-09-22T06:24:25.586Z"
   },
   {
    "duration": 11,
    "start_time": "2023-09-22T06:24:26.050Z"
   },
   {
    "duration": 5,
    "start_time": "2023-09-22T06:24:26.907Z"
   },
   {
    "duration": 6,
    "start_time": "2023-09-22T06:24:27.373Z"
   },
   {
    "duration": 10,
    "start_time": "2023-09-22T06:24:30.188Z"
   },
   {
    "duration": 704,
    "start_time": "2023-09-22T06:25:35.017Z"
   },
   {
    "duration": 6,
    "start_time": "2023-09-22T06:25:57.281Z"
   },
   {
    "duration": 7,
    "start_time": "2023-09-22T06:26:01.094Z"
   },
   {
    "duration": 6,
    "start_time": "2023-09-22T06:26:14.910Z"
   },
   {
    "duration": 7,
    "start_time": "2023-09-22T06:26:27.867Z"
   },
   {
    "duration": 818,
    "start_time": "2023-09-22T06:26:52.131Z"
   },
   {
    "duration": 898,
    "start_time": "2023-09-22T06:27:22.783Z"
   },
   {
    "duration": 6,
    "start_time": "2023-09-22T06:27:41.002Z"
   },
   {
    "duration": 18,
    "start_time": "2023-09-22T06:27:48.737Z"
   },
   {
    "duration": 10,
    "start_time": "2023-09-22T06:29:06.402Z"
   },
   {
    "duration": 10,
    "start_time": "2023-09-22T06:29:22.424Z"
   },
   {
    "duration": 10,
    "start_time": "2023-09-22T06:29:29.819Z"
   },
   {
    "duration": 9,
    "start_time": "2023-09-22T06:34:53.191Z"
   },
   {
    "duration": 8,
    "start_time": "2023-09-22T06:35:01.125Z"
   },
   {
    "duration": 7,
    "start_time": "2023-09-22T06:35:01.526Z"
   },
   {
    "duration": 5,
    "start_time": "2023-09-22T06:35:04.433Z"
   },
   {
    "duration": 8,
    "start_time": "2023-09-22T06:35:05.198Z"
   },
   {
    "duration": 6,
    "start_time": "2023-09-22T06:35:09.506Z"
   },
   {
    "duration": 16,
    "start_time": "2023-09-22T06:35:13.461Z"
   },
   {
    "duration": 12,
    "start_time": "2023-09-22T06:35:16.190Z"
   },
   {
    "duration": 1455,
    "start_time": "2023-09-22T07:55:09.594Z"
   },
   {
    "duration": 113,
    "start_time": "2023-09-22T07:55:11.051Z"
   },
   {
    "duration": 4,
    "start_time": "2023-09-22T07:55:11.165Z"
   },
   {
    "duration": 76,
    "start_time": "2023-09-22T07:55:11.170Z"
   },
   {
    "duration": 18,
    "start_time": "2023-09-22T07:55:11.248Z"
   },
   {
    "duration": 252,
    "start_time": "2023-09-22T07:55:11.268Z"
   },
   {
    "duration": 1285,
    "start_time": "2023-09-22T07:55:11.522Z"
   },
   {
    "duration": 212,
    "start_time": "2023-09-22T07:55:12.809Z"
   },
   {
    "duration": 13,
    "start_time": "2023-09-22T07:55:13.023Z"
   },
   {
    "duration": 244,
    "start_time": "2023-09-22T07:55:13.038Z"
   },
   {
    "duration": 1400,
    "start_time": "2023-09-22T07:55:13.284Z"
   },
   {
    "duration": 33,
    "start_time": "2023-09-22T07:55:14.686Z"
   },
   {
    "duration": 18,
    "start_time": "2023-09-22T07:55:14.721Z"
   },
   {
    "duration": 24,
    "start_time": "2023-09-22T07:55:14.744Z"
   },
   {
    "duration": 49,
    "start_time": "2023-09-22T07:55:14.770Z"
   },
   {
    "duration": 13,
    "start_time": "2023-09-22T07:55:14.821Z"
   },
   {
    "duration": 25,
    "start_time": "2023-09-22T07:55:14.836Z"
   },
   {
    "duration": 201,
    "start_time": "2023-09-22T07:55:14.864Z"
   },
   {
    "duration": 17,
    "start_time": "2023-09-22T07:55:15.067Z"
   },
   {
    "duration": 377,
    "start_time": "2023-09-22T07:55:15.085Z"
   },
   {
    "duration": 16,
    "start_time": "2023-09-22T07:55:15.464Z"
   },
   {
    "duration": 119,
    "start_time": "2023-09-22T07:55:15.482Z"
   },
   {
    "duration": 22,
    "start_time": "2023-09-22T07:55:15.603Z"
   },
   {
    "duration": 303,
    "start_time": "2023-09-22T07:55:15.627Z"
   },
   {
    "duration": 118,
    "start_time": "2023-09-22T07:55:15.931Z"
   },
   {
    "duration": 4,
    "start_time": "2023-09-22T07:55:16.051Z"
   },
   {
    "duration": 34,
    "start_time": "2023-09-22T07:55:16.056Z"
   },
   {
    "duration": 305,
    "start_time": "2023-09-22T07:55:16.092Z"
   },
   {
    "duration": 321,
    "start_time": "2023-09-22T07:55:16.401Z"
   },
   {
    "duration": 118,
    "start_time": "2023-09-22T07:55:16.724Z"
   },
   {
    "duration": 0,
    "start_time": "2023-09-22T07:55:16.844Z"
   },
   {
    "duration": 0,
    "start_time": "2023-09-22T07:55:16.845Z"
   },
   {
    "duration": 0,
    "start_time": "2023-09-22T07:55:16.846Z"
   },
   {
    "duration": 0,
    "start_time": "2023-09-22T07:55:16.847Z"
   },
   {
    "duration": 0,
    "start_time": "2023-09-22T07:55:16.848Z"
   },
   {
    "duration": 0,
    "start_time": "2023-09-22T07:55:16.849Z"
   },
   {
    "duration": 0,
    "start_time": "2023-09-22T07:55:16.850Z"
   },
   {
    "duration": 0,
    "start_time": "2023-09-22T07:55:16.851Z"
   },
   {
    "duration": 0,
    "start_time": "2023-09-22T07:55:16.852Z"
   },
   {
    "duration": 0,
    "start_time": "2023-09-22T07:55:16.853Z"
   },
   {
    "duration": 0,
    "start_time": "2023-09-22T07:55:16.854Z"
   },
   {
    "duration": 0,
    "start_time": "2023-09-22T07:55:16.855Z"
   },
   {
    "duration": 0,
    "start_time": "2023-09-22T07:55:16.856Z"
   },
   {
    "duration": 0,
    "start_time": "2023-09-22T07:55:16.857Z"
   },
   {
    "duration": 0,
    "start_time": "2023-09-22T07:55:16.858Z"
   },
   {
    "duration": 14,
    "start_time": "2023-09-22T07:58:15.675Z"
   },
   {
    "duration": 8,
    "start_time": "2023-09-22T07:58:29.275Z"
   },
   {
    "duration": 1289,
    "start_time": "2023-09-22T07:58:35.460Z"
   },
   {
    "duration": 72,
    "start_time": "2023-09-22T07:58:36.750Z"
   },
   {
    "duration": 39,
    "start_time": "2023-09-22T07:58:36.824Z"
   },
   {
    "duration": 154,
    "start_time": "2023-09-22T07:58:36.865Z"
   },
   {
    "duration": 20,
    "start_time": "2023-09-22T07:58:37.021Z"
   },
   {
    "duration": 306,
    "start_time": "2023-09-22T07:58:37.042Z"
   },
   {
    "duration": 1329,
    "start_time": "2023-09-22T07:58:37.350Z"
   },
   {
    "duration": 204,
    "start_time": "2023-09-22T07:58:38.681Z"
   },
   {
    "duration": 32,
    "start_time": "2023-09-22T07:58:38.887Z"
   },
   {
    "duration": 280,
    "start_time": "2023-09-22T07:58:38.921Z"
   },
   {
    "duration": 1343,
    "start_time": "2023-09-22T07:58:39.203Z"
   },
   {
    "duration": 19,
    "start_time": "2023-09-22T07:58:40.548Z"
   },
   {
    "duration": 36,
    "start_time": "2023-09-22T07:58:40.569Z"
   },
   {
    "duration": 98,
    "start_time": "2023-09-22T07:58:40.608Z"
   },
   {
    "duration": 29,
    "start_time": "2023-09-22T07:58:40.708Z"
   },
   {
    "duration": 19,
    "start_time": "2023-09-22T07:58:40.740Z"
   },
   {
    "duration": 49,
    "start_time": "2023-09-22T07:58:40.761Z"
   },
   {
    "duration": 202,
    "start_time": "2023-09-22T07:58:40.812Z"
   },
   {
    "duration": 18,
    "start_time": "2023-09-22T07:58:41.016Z"
   },
   {
    "duration": 366,
    "start_time": "2023-09-22T07:58:41.036Z"
   },
   {
    "duration": 16,
    "start_time": "2023-09-22T07:58:41.404Z"
   },
   {
    "duration": 17,
    "start_time": "2023-09-22T07:58:41.422Z"
   },
   {
    "duration": 51,
    "start_time": "2023-09-22T07:58:41.441Z"
   },
   {
    "duration": 304,
    "start_time": "2023-09-22T07:58:41.494Z"
   },
   {
    "duration": 117,
    "start_time": "2023-09-22T07:58:41.799Z"
   },
   {
    "duration": 5,
    "start_time": "2023-09-22T07:58:41.919Z"
   },
   {
    "duration": 34,
    "start_time": "2023-09-22T07:58:41.927Z"
   },
   {
    "duration": 309,
    "start_time": "2023-09-22T07:58:41.964Z"
   },
   {
    "duration": 333,
    "start_time": "2023-09-22T07:58:42.275Z"
   },
   {
    "duration": 10,
    "start_time": "2023-09-22T07:58:42.610Z"
   },
   {
    "duration": 801,
    "start_time": "2023-09-22T07:58:42.622Z"
   },
   {
    "duration": 119,
    "start_time": "2023-09-22T07:58:43.425Z"
   },
   {
    "duration": 0,
    "start_time": "2023-09-22T07:58:43.545Z"
   },
   {
    "duration": 0,
    "start_time": "2023-09-22T07:58:43.547Z"
   },
   {
    "duration": 0,
    "start_time": "2023-09-22T07:58:43.548Z"
   },
   {
    "duration": 0,
    "start_time": "2023-09-22T07:58:43.549Z"
   },
   {
    "duration": 0,
    "start_time": "2023-09-22T07:58:43.551Z"
   },
   {
    "duration": 0,
    "start_time": "2023-09-22T07:58:43.552Z"
   },
   {
    "duration": 0,
    "start_time": "2023-09-22T07:58:43.553Z"
   },
   {
    "duration": 0,
    "start_time": "2023-09-22T07:58:43.554Z"
   },
   {
    "duration": 0,
    "start_time": "2023-09-22T07:58:43.555Z"
   },
   {
    "duration": 0,
    "start_time": "2023-09-22T07:58:43.556Z"
   },
   {
    "duration": 0,
    "start_time": "2023-09-22T07:58:43.557Z"
   },
   {
    "duration": 0,
    "start_time": "2023-09-22T07:58:43.558Z"
   },
   {
    "duration": 0,
    "start_time": "2023-09-22T07:58:43.559Z"
   },
   {
    "duration": 10,
    "start_time": "2023-09-22T08:02:08.418Z"
   },
   {
    "duration": 664,
    "start_time": "2023-09-22T08:02:11.310Z"
   },
   {
    "duration": 1274,
    "start_time": "2023-09-22T08:02:17.163Z"
   },
   {
    "duration": 74,
    "start_time": "2023-09-22T08:02:18.440Z"
   },
   {
    "duration": 3,
    "start_time": "2023-09-22T08:02:18.516Z"
   },
   {
    "duration": 109,
    "start_time": "2023-09-22T08:02:18.520Z"
   },
   {
    "duration": 23,
    "start_time": "2023-09-22T08:02:18.632Z"
   },
   {
    "duration": 255,
    "start_time": "2023-09-22T08:02:18.659Z"
   },
   {
    "duration": 1313,
    "start_time": "2023-09-22T08:02:18.916Z"
   },
   {
    "duration": 196,
    "start_time": "2023-09-22T08:02:20.232Z"
   },
   {
    "duration": 13,
    "start_time": "2023-09-22T08:02:20.429Z"
   },
   {
    "duration": 264,
    "start_time": "2023-09-22T08:02:20.444Z"
   },
   {
    "duration": 1406,
    "start_time": "2023-09-22T08:02:20.710Z"
   },
   {
    "duration": 17,
    "start_time": "2023-09-22T08:02:22.118Z"
   },
   {
    "duration": 47,
    "start_time": "2023-09-22T08:02:22.137Z"
   },
   {
    "duration": 39,
    "start_time": "2023-09-22T08:02:22.188Z"
   },
   {
    "duration": 44,
    "start_time": "2023-09-22T08:02:22.228Z"
   },
   {
    "duration": 70,
    "start_time": "2023-09-22T08:02:22.274Z"
   },
   {
    "duration": 65,
    "start_time": "2023-09-22T08:02:22.346Z"
   },
   {
    "duration": 233,
    "start_time": "2023-09-22T08:02:22.412Z"
   },
   {
    "duration": 18,
    "start_time": "2023-09-22T08:02:22.647Z"
   },
   {
    "duration": 331,
    "start_time": "2023-09-22T08:02:22.667Z"
   },
   {
    "duration": 15,
    "start_time": "2023-09-22T08:02:23.001Z"
   },
   {
    "duration": 69,
    "start_time": "2023-09-22T08:02:23.018Z"
   },
   {
    "duration": 53,
    "start_time": "2023-09-22T08:02:23.089Z"
   },
   {
    "duration": 328,
    "start_time": "2023-09-22T08:02:23.143Z"
   },
   {
    "duration": 150,
    "start_time": "2023-09-22T08:02:23.473Z"
   },
   {
    "duration": 5,
    "start_time": "2023-09-22T08:02:23.625Z"
   },
   {
    "duration": 53,
    "start_time": "2023-09-22T08:02:23.631Z"
   },
   {
    "duration": 303,
    "start_time": "2023-09-22T08:02:23.686Z"
   },
   {
    "duration": 329,
    "start_time": "2023-09-22T08:02:23.991Z"
   },
   {
    "duration": 10,
    "start_time": "2023-09-22T08:02:24.322Z"
   },
   {
    "duration": 882,
    "start_time": "2023-09-22T08:02:24.334Z"
   },
   {
    "duration": 9,
    "start_time": "2023-09-22T08:02:25.218Z"
   },
   {
    "duration": 752,
    "start_time": "2023-09-22T08:02:25.229Z"
   },
   {
    "duration": 327,
    "start_time": "2023-09-22T08:02:25.983Z"
   },
   {
    "duration": 10,
    "start_time": "2023-09-22T08:02:26.312Z"
   },
   {
    "duration": 350,
    "start_time": "2023-09-22T08:02:26.323Z"
   },
   {
    "duration": 228,
    "start_time": "2023-09-22T08:02:26.675Z"
   },
   {
    "duration": 197,
    "start_time": "2023-09-22T08:02:26.905Z"
   },
   {
    "duration": 9,
    "start_time": "2023-09-22T08:02:27.104Z"
   },
   {
    "duration": 65,
    "start_time": "2023-09-22T08:02:27.115Z"
   },
   {
    "duration": 55,
    "start_time": "2023-09-22T08:02:27.184Z"
   },
   {
    "duration": 55,
    "start_time": "2023-09-22T08:02:27.241Z"
   },
   {
    "duration": 39,
    "start_time": "2023-09-22T08:02:27.298Z"
   },
   {
    "duration": 46,
    "start_time": "2023-09-22T08:02:27.339Z"
   },
   {
    "duration": 84,
    "start_time": "2023-09-22T08:02:27.387Z"
   }
  ],
  "kernelspec": {
   "display_name": "Python 3 (ipykernel)",
   "language": "python",
   "name": "python3"
  },
  "language_info": {
   "codemirror_mode": {
    "name": "ipython",
    "version": 3
   },
   "file_extension": ".py",
   "mimetype": "text/x-python",
   "name": "python",
   "nbconvert_exporter": "python",
   "pygments_lexer": "ipython3",
   "version": "3.9.5"
  },
  "toc": {
   "base_numbering": 1,
   "nav_menu": {},
   "number_sections": true,
   "sideBar": true,
   "skip_h1_title": true,
   "title_cell": "Table of Contents",
   "title_sidebar": "Contents",
   "toc_cell": false,
   "toc_position": {},
   "toc_section_display": true,
   "toc_window_display": false
  }
 },
 "nbformat": 4,
 "nbformat_minor": 2
}
