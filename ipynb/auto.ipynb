{
 "cells": [
  {
   "cell_type": "markdown",
   "metadata": {},
   "source": [
    "# Определение стоимости автомобилей"
   ]
  },
  {
   "cell_type": "markdown",
   "metadata": {},
   "source": [
    "Сервис по продаже автомобилей с пробегом «Не бит, не крашен» разрабатывает приложение для привлечения новых клиентов. В нём можно быстро узнать рыночную стоимость своего автомобиля. В вашем распоряжении исторические данные: технические характеристики, комплектации и цены автомобилей. Вам нужно построить модель для определения стоимости. \n",
    "\n",
    "Заказчику важны:\n",
    "\n",
    "- качество предсказания;\n",
    "- скорость предсказания;\n",
    "- время обучения."
   ]
  },
  {
   "cell_type": "code",
   "execution_count": 1,
   "metadata": {},
   "outputs": [],
   "source": [
    "import pandas as pd\n",
    "import numpy as np\n",
    "import sweetviz as sv\n",
    "import matplotlib.pyplot as plt\n",
    "from sklearn.model_selection import GridSearchCV, train_test_split\n",
    "from sklearn.preprocessing import StandardScaler, OrdinalEncoder\n",
    "from sklearn.impute import SimpleImputer\n",
    "from sklearn.pipeline import Pipeline\n",
    "from sklearn.compose import ColumnTransformer\n",
    "from sklearn.metrics import make_scorer, mean_squared_error\n",
    "import lightgbm as lgb\n",
    "from sklearn.tree import DecisionTreeRegressor\n",
    "\n",
    "RANDOM_STATE = 42\n",
    "TEST_SIZE = 0.25"
   ]
  },
  {
   "cell_type": "code",
   "execution_count": 4,
   "metadata": {},
   "outputs": [],
   "source": [
    "def plot_numeric(df, variable, title, xlabel, bins):\n",
    "    '''Рисует графики распределения количественных переменных'''\n",
    "    f, (ax1, ax2) = plt.subplots(1, 2, figsize=(20, 5))\n",
    "    f.suptitle(title, fontsize=20)\n",
    "    ax1.boxplot(df[variable])\n",
    "    ax1.set_title('Ящик с усами')\n",
    "    ax1.set_xlabel(xlabel)\n",
    "    ax1.set_xticks([])\n",
    "\n",
    "    ax2.hist(df[variable], bins=bins)\n",
    "    ax2.set_title('Гистограмма')\n",
    "    ax2.set_xlabel(xlabel)\n",
    "\n",
    "    plt.show()"
   ]
  },
  {
   "cell_type": "code",
   "execution_count": 5,
   "metadata": {},
   "outputs": [],
   "source": [
    "df = pd.read_csv('/datasets/autos.csv')"
   ]
  },
  {
   "cell_type": "markdown",
   "metadata": {},
   "source": [
    "## Исследовательский анализ данных"
   ]
  },
  {
   "cell_type": "markdown",
   "metadata": {},
   "source": [
    "<a href='https://k8s.jupyterhub.praktikum-services.ru/user/user-0-122161133/view/eda.html'>Посмотреть EDA отчет</a>"
   ]
  },
  {
   "cell_type": "markdown",
   "metadata": {},
   "source": [
    "### Промежуточный вывод\n",
    "\n",
    "1. Подозрительно выглядят цены и мощности двигателя равные нулям. Стоит исплючить их из датасета. Мы не хотим прогнозировать бесплатные автомобили.\n",
    "2. 11% пропусков в VehicleType можно заменить на (Other)\n",
    "3. В годах выпуска присутствуют аномалии - слишком маленькие (1000) и слишком большие (6500) значения. Стоит избавиться от них, оставив наиболее часто встречающиеся > 1900 и < 2020, поскольку год выпуска автомобиля довольно сильно связан со стоимостью на него\n",
    "4. Колонка Repaired содержит много пропущенных значений - 20%. Не очень понятно, что значит эта колонка. Любая машина когда-то была в ремонте, но плановый ремонт и ремонт после ДТП - это не одно и то же\n",
    "5. LastSeen, DateCrawled, RegistrationMonth, NumberOfPictures, DateCreated - неинформативные признаки. PostalCode тоже сомнительно информативен. В теории, в разных городах цены на авто могут незначительно различаться, но с другой стороны учет этого признака может внести больше шума, чем пользы."
   ]
  },
  {
   "cell_type": "code",
   "execution_count": 8,
   "metadata": {},
   "outputs": [
    {
     "data": {
      "text/html": [
       "<div>\n",
       "<style scoped>\n",
       "    .dataframe tbody tr th:only-of-type {\n",
       "        vertical-align: middle;\n",
       "    }\n",
       "\n",
       "    .dataframe tbody tr th {\n",
       "        vertical-align: top;\n",
       "    }\n",
       "\n",
       "    .dataframe thead th {\n",
       "        text-align: right;\n",
       "    }\n",
       "</style>\n",
       "<table border=\"1\" class=\"dataframe\">\n",
       "  <thead>\n",
       "    <tr style=\"text-align: right;\">\n",
       "      <th></th>\n",
       "      <th>Price</th>\n",
       "      <th>VehicleType</th>\n",
       "      <th>RegistrationYear</th>\n",
       "      <th>Gearbox</th>\n",
       "      <th>Power</th>\n",
       "      <th>Model</th>\n",
       "      <th>Kilometer</th>\n",
       "      <th>FuelType</th>\n",
       "      <th>Brand</th>\n",
       "      <th>Repaired</th>\n",
       "    </tr>\n",
       "  </thead>\n",
       "  <tbody>\n",
       "    <tr>\n",
       "      <th>0</th>\n",
       "      <td>480</td>\n",
       "      <td>NaN</td>\n",
       "      <td>1993</td>\n",
       "      <td>manual</td>\n",
       "      <td>0</td>\n",
       "      <td>golf</td>\n",
       "      <td>150000</td>\n",
       "      <td>petrol</td>\n",
       "      <td>volkswagen</td>\n",
       "      <td>NaN</td>\n",
       "    </tr>\n",
       "    <tr>\n",
       "      <th>1</th>\n",
       "      <td>18300</td>\n",
       "      <td>coupe</td>\n",
       "      <td>2011</td>\n",
       "      <td>manual</td>\n",
       "      <td>190</td>\n",
       "      <td>NaN</td>\n",
       "      <td>125000</td>\n",
       "      <td>gasoline</td>\n",
       "      <td>audi</td>\n",
       "      <td>yes</td>\n",
       "    </tr>\n",
       "    <tr>\n",
       "      <th>2</th>\n",
       "      <td>9800</td>\n",
       "      <td>suv</td>\n",
       "      <td>2004</td>\n",
       "      <td>auto</td>\n",
       "      <td>163</td>\n",
       "      <td>grand</td>\n",
       "      <td>125000</td>\n",
       "      <td>gasoline</td>\n",
       "      <td>jeep</td>\n",
       "      <td>NaN</td>\n",
       "    </tr>\n",
       "    <tr>\n",
       "      <th>3</th>\n",
       "      <td>1500</td>\n",
       "      <td>small</td>\n",
       "      <td>2001</td>\n",
       "      <td>manual</td>\n",
       "      <td>75</td>\n",
       "      <td>golf</td>\n",
       "      <td>150000</td>\n",
       "      <td>petrol</td>\n",
       "      <td>volkswagen</td>\n",
       "      <td>no</td>\n",
       "    </tr>\n",
       "    <tr>\n",
       "      <th>4</th>\n",
       "      <td>3600</td>\n",
       "      <td>small</td>\n",
       "      <td>2008</td>\n",
       "      <td>manual</td>\n",
       "      <td>69</td>\n",
       "      <td>fabia</td>\n",
       "      <td>90000</td>\n",
       "      <td>gasoline</td>\n",
       "      <td>skoda</td>\n",
       "      <td>no</td>\n",
       "    </tr>\n",
       "  </tbody>\n",
       "</table>\n",
       "</div>"
      ],
      "text/plain": [
       "   Price VehicleType  RegistrationYear Gearbox  Power  Model  Kilometer  \\\n",
       "0    480         NaN              1993  manual      0   golf     150000   \n",
       "1  18300       coupe              2011  manual    190    NaN     125000   \n",
       "2   9800         suv              2004    auto    163  grand     125000   \n",
       "3   1500       small              2001  manual     75   golf     150000   \n",
       "4   3600       small              2008  manual     69  fabia      90000   \n",
       "\n",
       "   FuelType       Brand Repaired  \n",
       "0    petrol  volkswagen      NaN  \n",
       "1  gasoline        audi      yes  \n",
       "2  gasoline        jeep      NaN  \n",
       "3    petrol  volkswagen       no  \n",
       "4  gasoline       skoda       no  "
      ]
     },
     "metadata": {},
     "output_type": "display_data"
    },
    {
     "data": {
      "text/plain": [
       "(354369, 10)"
      ]
     },
     "execution_count": 8,
     "metadata": {},
     "output_type": "execute_result"
    }
   ],
   "source": [
    "# Удаляем неинформативные признаки\n",
    "df = df.drop(\n",
    "    [\n",
    "        'LastSeen',\n",
    "        'DateCrawled',\n",
    "        'RegistrationMonth',\n",
    "        'NumberOfPictures',\n",
    "        'PostalCode',\n",
    "        'DateCreated',\n",
    "    ],\n",
    "    axis=1,\n",
    ")\n",
    "display(df.head())\n",
    "df.shape"
   ]
  },
  {
   "cell_type": "code",
   "execution_count": 9,
   "metadata": {},
   "outputs": [
    {
     "data": {
      "text/html": [
       "<div>\n",
       "<style scoped>\n",
       "    .dataframe tbody tr th:only-of-type {\n",
       "        vertical-align: middle;\n",
       "    }\n",
       "\n",
       "    .dataframe tbody tr th {\n",
       "        vertical-align: top;\n",
       "    }\n",
       "\n",
       "    .dataframe thead th {\n",
       "        text-align: right;\n",
       "    }\n",
       "</style>\n",
       "<table border=\"1\" class=\"dataframe\">\n",
       "  <thead>\n",
       "    <tr style=\"text-align: right;\">\n",
       "      <th></th>\n",
       "      <th>Price</th>\n",
       "      <th>VehicleType</th>\n",
       "      <th>RegistrationYear</th>\n",
       "      <th>Gearbox</th>\n",
       "      <th>Power</th>\n",
       "      <th>Model</th>\n",
       "      <th>Kilometer</th>\n",
       "      <th>FuelType</th>\n",
       "      <th>Brand</th>\n",
       "      <th>Repaired</th>\n",
       "    </tr>\n",
       "  </thead>\n",
       "  <tbody>\n",
       "    <tr>\n",
       "      <th>0</th>\n",
       "      <td>480</td>\n",
       "      <td>NaN</td>\n",
       "      <td>1993</td>\n",
       "      <td>manual</td>\n",
       "      <td>0</td>\n",
       "      <td>golf</td>\n",
       "      <td>150000</td>\n",
       "      <td>petrol</td>\n",
       "      <td>volkswagen</td>\n",
       "      <td>NaN</td>\n",
       "    </tr>\n",
       "    <tr>\n",
       "      <th>1</th>\n",
       "      <td>18300</td>\n",
       "      <td>coupe</td>\n",
       "      <td>2011</td>\n",
       "      <td>manual</td>\n",
       "      <td>190</td>\n",
       "      <td>NaN</td>\n",
       "      <td>125000</td>\n",
       "      <td>gasoline</td>\n",
       "      <td>audi</td>\n",
       "      <td>yes</td>\n",
       "    </tr>\n",
       "    <tr>\n",
       "      <th>2</th>\n",
       "      <td>9800</td>\n",
       "      <td>suv</td>\n",
       "      <td>2004</td>\n",
       "      <td>auto</td>\n",
       "      <td>163</td>\n",
       "      <td>grand</td>\n",
       "      <td>125000</td>\n",
       "      <td>gasoline</td>\n",
       "      <td>jeep</td>\n",
       "      <td>NaN</td>\n",
       "    </tr>\n",
       "    <tr>\n",
       "      <th>3</th>\n",
       "      <td>1500</td>\n",
       "      <td>small</td>\n",
       "      <td>2001</td>\n",
       "      <td>manual</td>\n",
       "      <td>75</td>\n",
       "      <td>golf</td>\n",
       "      <td>150000</td>\n",
       "      <td>petrol</td>\n",
       "      <td>volkswagen</td>\n",
       "      <td>no</td>\n",
       "    </tr>\n",
       "    <tr>\n",
       "      <th>4</th>\n",
       "      <td>3600</td>\n",
       "      <td>small</td>\n",
       "      <td>2008</td>\n",
       "      <td>manual</td>\n",
       "      <td>69</td>\n",
       "      <td>fabia</td>\n",
       "      <td>90000</td>\n",
       "      <td>gasoline</td>\n",
       "      <td>skoda</td>\n",
       "      <td>no</td>\n",
       "    </tr>\n",
       "  </tbody>\n",
       "</table>\n",
       "</div>"
      ],
      "text/plain": [
       "   Price VehicleType  RegistrationYear Gearbox  Power  Model  Kilometer  \\\n",
       "0    480         NaN              1993  manual      0   golf     150000   \n",
       "1  18300       coupe              2011  manual    190    NaN     125000   \n",
       "2   9800         suv              2004    auto    163  grand     125000   \n",
       "3   1500       small              2001  manual     75   golf     150000   \n",
       "4   3600       small              2008  manual     69  fabia      90000   \n",
       "\n",
       "   FuelType       Brand Repaired  \n",
       "0    petrol  volkswagen      NaN  \n",
       "1  gasoline        audi      yes  \n",
       "2  gasoline        jeep      NaN  \n",
       "3    petrol  volkswagen       no  \n",
       "4  gasoline       skoda       no  "
      ]
     },
     "metadata": {},
     "output_type": "display_data"
    },
    {
     "data": {
      "text/plain": [
       "(343597, 10)"
      ]
     },
     "execution_count": 9,
     "metadata": {},
     "output_type": "execute_result"
    }
   ],
   "source": [
    "# Удаляем нулевые цены\n",
    "df = df[df['Price'] > 0]\n",
    "display(df.head())\n",
    "df.shape"
   ]
  },
  {
   "cell_type": "markdown",
   "metadata": {},
   "source": [
    "Посмотрим на мощности внимательнее."
   ]
  },
  {
   "cell_type": "code",
   "execution_count": 10,
   "metadata": {},
   "outputs": [
    {
     "data": {
      "image/png": "[encoded data removed]",
      "text/plain": [
       "<Figure size 2000x500 with 2 Axes>"
      ]
     },
     "metadata": {},
     "output_type": "display_data"
    }
   ],
   "source": [
    "plot_numeric(df, 'Power', 'Распределение мощности в л.с.', 'л.с.', 100)"
   ]
  },
  {
   "cell_type": "markdown",
   "metadata": {},
   "source": [
    "В датасете большое количество выбросов. Поскольку нас интересуют автомобили, установим верхнюю границу датасет в 225 л.с., а нижнюю в 71 л.с."
   ]
  },
  {
   "cell_type": "code",
   "execution_count": 11,
   "metadata": {},
   "outputs": [
    {
     "data": {
      "image/png": "[encoded data removed]",
      "text/plain": [
       "<Figure size 2000x500 with 2 Axes>"
      ]
     },
     "metadata": {},
     "output_type": "display_data"
    }
   ],
   "source": [
    "plot_numeric(\n",
    "    df[(df['Power'] <= 225) & (df['Power'] >= 71)],\n",
    "    'Power',\n",
    "    'Распределение мощности в л.с.',\n",
    "    'л.с.',\n",
    "    100,\n",
    ")"
   ]
  },
  {
   "cell_type": "code",
   "execution_count": 12,
   "metadata": {},
   "outputs": [
    {
     "data": {
      "text/html": [
       "<div>\n",
       "<style scoped>\n",
       "    .dataframe tbody tr th:only-of-type {\n",
       "        vertical-align: middle;\n",
       "    }\n",
       "\n",
       "    .dataframe tbody tr th {\n",
       "        vertical-align: top;\n",
       "    }\n",
       "\n",
       "    .dataframe thead th {\n",
       "        text-align: right;\n",
       "    }\n",
       "</style>\n",
       "<table border=\"1\" class=\"dataframe\">\n",
       "  <thead>\n",
       "    <tr style=\"text-align: right;\">\n",
       "      <th></th>\n",
       "      <th>Price</th>\n",
       "      <th>VehicleType</th>\n",
       "      <th>RegistrationYear</th>\n",
       "      <th>Gearbox</th>\n",
       "      <th>Power</th>\n",
       "      <th>Model</th>\n",
       "      <th>Kilometer</th>\n",
       "      <th>FuelType</th>\n",
       "      <th>Brand</th>\n",
       "      <th>Repaired</th>\n",
       "    </tr>\n",
       "  </thead>\n",
       "  <tbody>\n",
       "    <tr>\n",
       "      <th>1</th>\n",
       "      <td>18300</td>\n",
       "      <td>coupe</td>\n",
       "      <td>2011</td>\n",
       "      <td>manual</td>\n",
       "      <td>190</td>\n",
       "      <td>NaN</td>\n",
       "      <td>125000</td>\n",
       "      <td>gasoline</td>\n",
       "      <td>audi</td>\n",
       "      <td>yes</td>\n",
       "    </tr>\n",
       "    <tr>\n",
       "      <th>2</th>\n",
       "      <td>9800</td>\n",
       "      <td>suv</td>\n",
       "      <td>2004</td>\n",
       "      <td>auto</td>\n",
       "      <td>163</td>\n",
       "      <td>grand</td>\n",
       "      <td>125000</td>\n",
       "      <td>gasoline</td>\n",
       "      <td>jeep</td>\n",
       "      <td>NaN</td>\n",
       "    </tr>\n",
       "    <tr>\n",
       "      <th>3</th>\n",
       "      <td>1500</td>\n",
       "      <td>small</td>\n",
       "      <td>2001</td>\n",
       "      <td>manual</td>\n",
       "      <td>75</td>\n",
       "      <td>golf</td>\n",
       "      <td>150000</td>\n",
       "      <td>petrol</td>\n",
       "      <td>volkswagen</td>\n",
       "      <td>no</td>\n",
       "    </tr>\n",
       "    <tr>\n",
       "      <th>5</th>\n",
       "      <td>650</td>\n",
       "      <td>sedan</td>\n",
       "      <td>1995</td>\n",
       "      <td>manual</td>\n",
       "      <td>102</td>\n",
       "      <td>3er</td>\n",
       "      <td>150000</td>\n",
       "      <td>petrol</td>\n",
       "      <td>bmw</td>\n",
       "      <td>yes</td>\n",
       "    </tr>\n",
       "    <tr>\n",
       "      <th>6</th>\n",
       "      <td>2200</td>\n",
       "      <td>convertible</td>\n",
       "      <td>2004</td>\n",
       "      <td>manual</td>\n",
       "      <td>109</td>\n",
       "      <td>2_reihe</td>\n",
       "      <td>150000</td>\n",
       "      <td>petrol</td>\n",
       "      <td>peugeot</td>\n",
       "      <td>no</td>\n",
       "    </tr>\n",
       "  </tbody>\n",
       "</table>\n",
       "</div>"
      ],
      "text/plain": [
       "   Price  VehicleType  RegistrationYear Gearbox  Power    Model  Kilometer  \\\n",
       "1  18300        coupe              2011  manual    190      NaN     125000   \n",
       "2   9800          suv              2004    auto    163    grand     125000   \n",
       "3   1500        small              2001  manual     75     golf     150000   \n",
       "5    650        sedan              1995  manual    102      3er     150000   \n",
       "6   2200  convertible              2004  manual    109  2_reihe     150000   \n",
       "\n",
       "   FuelType       Brand Repaired  \n",
       "1  gasoline        audi      yes  \n",
       "2  gasoline        jeep      NaN  \n",
       "3    petrol  volkswagen       no  \n",
       "5    petrol         bmw      yes  \n",
       "6    petrol     peugeot       no  "
      ]
     },
     "metadata": {},
     "output_type": "display_data"
    },
    {
     "data": {
      "text/plain": [
       "(242122, 10)"
      ]
     },
     "execution_count": 12,
     "metadata": {},
     "output_type": "execute_result"
    }
   ],
   "source": [
    "# Удаляем нулевые мощности\n",
    "df = df[(df['Power'] <= 225) & (df['Power'] >= 71)]\n",
    "display(df.head())\n",
    "df.shape"
   ]
  },
  {
   "cell_type": "code",
   "execution_count": 13,
   "metadata": {},
   "outputs": [
    {
     "data": {
      "text/html": [
       "<div>\n",
       "<style scoped>\n",
       "    .dataframe tbody tr th:only-of-type {\n",
       "        vertical-align: middle;\n",
       "    }\n",
       "\n",
       "    .dataframe tbody tr th {\n",
       "        vertical-align: top;\n",
       "    }\n",
       "\n",
       "    .dataframe thead th {\n",
       "        text-align: right;\n",
       "    }\n",
       "</style>\n",
       "<table border=\"1\" class=\"dataframe\">\n",
       "  <thead>\n",
       "    <tr style=\"text-align: right;\">\n",
       "      <th></th>\n",
       "      <th>Price</th>\n",
       "      <th>VehicleType</th>\n",
       "      <th>RegistrationYear</th>\n",
       "      <th>Gearbox</th>\n",
       "      <th>Power</th>\n",
       "      <th>Model</th>\n",
       "      <th>Kilometer</th>\n",
       "      <th>FuelType</th>\n",
       "      <th>Brand</th>\n",
       "      <th>Repaired</th>\n",
       "    </tr>\n",
       "  </thead>\n",
       "  <tbody>\n",
       "    <tr>\n",
       "      <th>0</th>\n",
       "      <td>18300</td>\n",
       "      <td>coupe</td>\n",
       "      <td>2011</td>\n",
       "      <td>manual</td>\n",
       "      <td>190</td>\n",
       "      <td>NaN</td>\n",
       "      <td>125000</td>\n",
       "      <td>gasoline</td>\n",
       "      <td>audi</td>\n",
       "      <td>yes</td>\n",
       "    </tr>\n",
       "    <tr>\n",
       "      <th>1</th>\n",
       "      <td>9800</td>\n",
       "      <td>suv</td>\n",
       "      <td>2004</td>\n",
       "      <td>auto</td>\n",
       "      <td>163</td>\n",
       "      <td>grand</td>\n",
       "      <td>125000</td>\n",
       "      <td>gasoline</td>\n",
       "      <td>jeep</td>\n",
       "      <td>NaN</td>\n",
       "    </tr>\n",
       "    <tr>\n",
       "      <th>2</th>\n",
       "      <td>1500</td>\n",
       "      <td>small</td>\n",
       "      <td>2001</td>\n",
       "      <td>manual</td>\n",
       "      <td>75</td>\n",
       "      <td>golf</td>\n",
       "      <td>150000</td>\n",
       "      <td>petrol</td>\n",
       "      <td>volkswagen</td>\n",
       "      <td>no</td>\n",
       "    </tr>\n",
       "    <tr>\n",
       "      <th>3</th>\n",
       "      <td>650</td>\n",
       "      <td>sedan</td>\n",
       "      <td>1995</td>\n",
       "      <td>manual</td>\n",
       "      <td>102</td>\n",
       "      <td>3er</td>\n",
       "      <td>150000</td>\n",
       "      <td>petrol</td>\n",
       "      <td>bmw</td>\n",
       "      <td>yes</td>\n",
       "    </tr>\n",
       "    <tr>\n",
       "      <th>4</th>\n",
       "      <td>2200</td>\n",
       "      <td>convertible</td>\n",
       "      <td>2004</td>\n",
       "      <td>manual</td>\n",
       "      <td>109</td>\n",
       "      <td>2_reihe</td>\n",
       "      <td>150000</td>\n",
       "      <td>petrol</td>\n",
       "      <td>peugeot</td>\n",
       "      <td>no</td>\n",
       "    </tr>\n",
       "  </tbody>\n",
       "</table>\n",
       "</div>"
      ],
      "text/plain": [
       "   Price  VehicleType  RegistrationYear Gearbox  Power    Model  Kilometer  \\\n",
       "0  18300        coupe              2011  manual    190      NaN     125000   \n",
       "1   9800          suv              2004    auto    163    grand     125000   \n",
       "2   1500        small              2001  manual     75     golf     150000   \n",
       "3    650        sedan              1995  manual    102      3er     150000   \n",
       "4   2200  convertible              2004  manual    109  2_reihe     150000   \n",
       "\n",
       "   FuelType       Brand Repaired  \n",
       "0  gasoline        audi      yes  \n",
       "1  gasoline        jeep      NaN  \n",
       "2    petrol  volkswagen       no  \n",
       "3    petrol         bmw      yes  \n",
       "4    petrol     peugeot       no  "
      ]
     },
     "metadata": {},
     "output_type": "display_data"
    },
    {
     "data": {
      "text/plain": [
       "(234189, 10)"
      ]
     },
     "execution_count": 13,
     "metadata": {},
     "output_type": "execute_result"
    }
   ],
   "source": [
    "# Удаляем аномальные года регистрации\n",
    "df = df[(df['RegistrationYear'] > 1930) & (df['RegistrationYear'] <= 2016)]\n",
    "\n",
    "df = df.reset_index(drop=True)\n",
    "display(df.head())\n",
    "df.shape"
   ]
  },
  {
   "cell_type": "markdown",
   "metadata": {},
   "source": [
    "## Подготовка данных"
   ]
  },
  {
   "cell_type": "code",
   "execution_count": 14,
   "metadata": {},
   "outputs": [],
   "source": [
    "X = df.drop('Price', axis=1)\n",
    "y = df['Price']\n",
    "\n",
    "X_train, X_test, y_train, y_test = train_test_split(\n",
    "    X, y, random_state=RANDOM_STATE, test_size=TEST_SIZE\n",
    ")"
   ]
  },
  {
   "cell_type": "code",
   "execution_count": 15,
   "metadata": {},
   "outputs": [],
   "source": [
    "cat_cols = ['VehicleType', 'Gearbox', 'Model', 'FuelType', 'Brand', 'Repaired']\n",
    "num_cols = ['RegistrationYear', 'Power', 'Kilometer']\n",
    "\n",
    "oe_processor = Pipeline(\n",
    "    # Обработка категориальных признаков\n",
    "    [\n",
    "        (\n",
    "            'imputer',\n",
    "            SimpleImputer(\n",
    "                missing_values=np.nan,\n",
    "                strategy='constant',\n",
    "                fill_value='unknown',\n",
    "            ),\n",
    "        ),\n",
    "        (\n",
    "            'encoder',\n",
    "            OrdinalEncoder(\n",
    "                handle_unknown='use_encoded_value', unknown_value=-1\n",
    "            ),\n",
    "        ),\n",
    "    ]\n",
    ")\n",
    "\n",
    "data_preprocessor = ColumnTransformer(\n",
    "    # Пайплайн обработки\n",
    "    [('cat', oe_processor, cat_cols), ('num', StandardScaler(), num_cols)],\n",
    "    remainder='passthrough',\n",
    ")\n",
    "\n",
    "pipe_final = Pipeline(\n",
    "    # Финальный пайплайн\n",
    "    [('preprocessor', data_preprocessor), ('model', lgb.LGBMRegressor())]\n",
    ")"
   ]
  },
  {
   "cell_type": "markdown",
   "metadata": {},
   "source": [
    "Нам нужно создать метрику rmse, чтобы оценить её на кросс-валидации"
   ]
  },
  {
   "cell_type": "code",
   "execution_count": 16,
   "metadata": {},
   "outputs": [],
   "source": [
    "def rmse(predict, actual):\n",
    "    predict = np.array(predict)\n",
    "    actual = np.array(actual)\n",
    "\n",
    "    distance = predict - actual\n",
    "\n",
    "    square_distance = distance**2\n",
    "\n",
    "    mean_square_distance = square_distance.mean()\n",
    "\n",
    "    score = np.sqrt(mean_square_distance)\n",
    "\n",
    "    return score\n",
    "\n",
    "\n",
    "rmse_score = make_scorer(rmse, greater_is_better=False)"
   ]
  },
  {
   "cell_type": "code",
   "execution_count": 17,
   "metadata": {},
   "outputs": [],
   "source": [
    "# Параметры LGBM регрессии\n",
    "lgbm_params = {}\n",
    "\n",
    "lgbm_params['model__n_estimators'] = [1000, 20000]\n",
    "lgbm_params['model__max_depth'] = [10, 5000]\n",
    "lgbm_params['model'] = [\n",
    "    lgb.LGBMRegressor(random_state=RANDOM_STATE, metric='rmse')\n",
    "]\n",
    "\n",
    "# Параметры дерева решений\n",
    "\n",
    "tree_params = {}\n",
    "\n",
    "tree_params['model__max_depth'] = [2]\n",
    "tree_params['model__min_samples_split'] = [500, 1000]\n",
    "tree_params['model'] = [DecisionTreeRegressor()]\n",
    "\n",
    "params = [tree_params, lgbm_params]"
   ]
  },
  {
   "cell_type": "code",
   "execution_count": 18,
   "metadata": {},
   "outputs": [],
   "source": [
    "grid_reg = GridSearchCV(\n",
    "    pipe_final, params, cv=5, scoring=rmse_score, n_jobs=-1\n",
    ")"
   ]
  },
  {
   "cell_type": "code",
   "execution_count": 19,
   "metadata": {},
   "outputs": [
    {
     "data": {
      "text/html": [
       "<style>#sk-container-id-1 {\n",
       "  /* Definition of color scheme common for light and dark mode */\n",
       "  --sklearn-color-text: black;\n",
       "  --sklearn-color-line: gray;\n",
       "  /* Definition of color scheme for unfitted estimators */\n",
       "  --sklearn-color-unfitted-level-0: #fff5e6;\n",
       "  --sklearn-color-unfitted-level-1: #f6e4d2;\n",
       "  --sklearn-color-unfitted-level-2: #ffe0b3;\n",
       "  --sklearn-color-unfitted-level-3: chocolate;\n",
       "  /* Definition of color scheme for fitted estimators */\n",
       "  --sklearn-color-fitted-level-0: #f0f8ff;\n",
       "  --sklearn-color-fitted-level-1: #d4ebff;\n",
       "  --sklearn-color-fitted-level-2: #b3dbfd;\n",
       "  --sklearn-color-fitted-level-3: cornflowerblue;\n",
       "\n",
       "  /* Specific color for light theme */\n",
       "  --sklearn-color-text-on-default-background: var(--sg-text-color, var(--theme-code-foreground, var(--jp-content-font-color1, black)));\n",
       "  --sklearn-color-background: var(--sg-background-color, var(--theme-background, var(--jp-layout-color0, white)));\n",
       "  --sklearn-color-border-box: var(--sg-text-color, var(--theme-code-foreground, var(--jp-content-font-color1, black)));\n",
       "  --sklearn-color-icon: #696969;\n",
       "\n",
       "  @media (prefers-color-scheme: dark) {\n",
       "    /* Redefinition of color scheme for dark theme */\n",
       "    --sklearn-color-text-on-default-background: var(--sg-text-color, var(--theme-code-foreground, var(--jp-content-font-color1, white)));\n",
       "    --sklearn-color-background: var(--sg-background-color, var(--theme-background, var(--jp-layout-color0, #111)));\n",
       "    --sklearn-color-border-box: var(--sg-text-color, var(--theme-code-foreground, var(--jp-content-font-color1, white)));\n",
       "    --sklearn-color-icon: #878787;\n",
       "  }\n",
       "}\n",
       "\n",
       "#sk-container-id-1 {\n",
       "  color: var(--sklearn-color-text);\n",
       "}\n",
       "\n",
       "#sk-container-id-1 pre {\n",
       "  padding: 0;\n",
       "}\n",
       "\n",
       "#sk-container-id-1 input.sk-hidden--visually {\n",
       "  border: 0;\n",
       "  clip: rect(1px 1px 1px 1px);\n",
       "  clip: rect(1px, 1px, 1px, 1px);\n",
       "  height: 1px;\n",
       "  margin: -1px;\n",
       "  overflow: hidden;\n",
       "  padding: 0;\n",
       "  position: absolute;\n",
       "  width: 1px;\n",
       "}\n",
       "\n",
       "#sk-container-id-1 div.sk-dashed-wrapped {\n",
       "  border: 1px dashed var(--sklearn-color-line);\n",
       "  margin: 0 0.4em 0.5em 0.4em;\n",
       "  box-sizing: border-box;\n",
       "  padding-bottom: 0.4em;\n",
       "  background-color: var(--sklearn-color-background);\n",
       "}\n",
       "\n",
       "#sk-container-id-1 div.sk-container {\n",
       "  /* jupyter's `normalize.less` sets `[hidden] { display: none; }`\n",
       "     but bootstrap.min.css set `[hidden] { display: none !important; }`\n",
       "     so we also need the `!important` here to be able to override the\n",
       "     default hidden behavior on the sphinx rendered scikit-learn.org.\n",
       "     See: https://github.com/scikit-learn/scikit-learn/issues/21755 */\n",
       "  display: inline-block !important;\n",
       "  position: relative;\n",
       "}\n",
       "\n",
       "#sk-container-id-1 div.sk-text-repr-fallback {\n",
       "  display: none;\n",
       "}\n",
       "\n",
       "div.sk-parallel-item,\n",
       "div.sk-serial,\n",
       "div.sk-item {\n",
       "  /* draw centered vertical line to link estimators */\n",
       "  background-image: linear-gradient(var(--sklearn-color-text-on-default-background), var(--sklearn-color-text-on-default-background));\n",
       "  background-size: 2px 100%;\n",
       "  background-repeat: no-repeat;\n",
       "  background-position: center center;\n",
       "}\n",
       "\n",
       "/* Parallel-specific style estimator block */\n",
       "\n",
       "#sk-container-id-1 div.sk-parallel-item::after {\n",
       "  content: \"\";\n",
       "  width: 100%;\n",
       "  border-bottom: 2px solid var(--sklearn-color-text-on-default-background);\n",
       "  flex-grow: 1;\n",
       "}\n",
       "\n",
       "#sk-container-id-1 div.sk-parallel {\n",
       "  display: flex;\n",
       "  align-items: stretch;\n",
       "  justify-content: center;\n",
       "  background-color: var(--sklearn-color-background);\n",
       "  position: relative;\n",
       "}\n",
       "\n",
       "#sk-container-id-1 div.sk-parallel-item {\n",
       "  display: flex;\n",
       "  flex-direction: column;\n",
       "}\n",
       "\n",
       "#sk-container-id-1 div.sk-parallel-item:first-child::after {\n",
       "  align-self: flex-end;\n",
       "  width: 50%;\n",
       "}\n",
       "\n",
       "#sk-container-id-1 div.sk-parallel-item:last-child::after {\n",
       "  align-self: flex-start;\n",
       "  width: 50%;\n",
       "}\n",
       "\n",
       "#sk-container-id-1 div.sk-parallel-item:only-child::after {\n",
       "  width: 0;\n",
       "}\n",
       "\n",
       "/* Serial-specific style estimator block */\n",
       "\n",
       "#sk-container-id-1 div.sk-serial {\n",
       "  display: flex;\n",
       "  flex-direction: column;\n",
       "  align-items: center;\n",
       "  background-color: var(--sklearn-color-background);\n",
       "  padding-right: 1em;\n",
       "  padding-left: 1em;\n",
       "}\n",
       "\n",
       "\n",
       "/* Toggleable style: style used for estimator/Pipeline/ColumnTransformer box that is\n",
       "clickable and can be expanded/collapsed.\n",
       "- Pipeline and ColumnTransformer use this feature and define the default style\n",
       "- Estimators will overwrite some part of the style using the `sk-estimator` class\n",
       "*/\n",
       "\n",
       "/* Pipeline and ColumnTransformer style (default) */\n",
       "\n",
       "#sk-container-id-1 div.sk-toggleable {\n",
       "  /* Default theme specific background. It is overwritten whether we have a\n",
       "  specific estimator or a Pipeline/ColumnTransformer */\n",
       "  background-color: var(--sklearn-color-background);\n",
       "}\n",
       "\n",
       "/* Toggleable label */\n",
       "#sk-container-id-1 label.sk-toggleable__label {\n",
       "  cursor: pointer;\n",
       "  display: block;\n",
       "  width: 100%;\n",
       "  margin-bottom: 0;\n",
       "  padding: 0.5em;\n",
       "  box-sizing: border-box;\n",
       "  text-align: center;\n",
       "}\n",
       "\n",
       "#sk-container-id-1 label.sk-toggleable__label-arrow:before {\n",
       "  /* Arrow on the left of the label */\n",
       "  content: \"▸\";\n",
       "  float: left;\n",
       "  margin-right: 0.25em;\n",
       "  color: var(--sklearn-color-icon);\n",
       "}\n",
       "\n",
       "#sk-container-id-1 label.sk-toggleable__label-arrow:hover:before {\n",
       "  color: var(--sklearn-color-text);\n",
       "}\n",
       "\n",
       "/* Toggleable content - dropdown */\n",
       "\n",
       "#sk-container-id-1 div.sk-toggleable__content {\n",
       "  max-height: 0;\n",
       "  max-width: 0;\n",
       "  overflow: hidden;\n",
       "  text-align: left;\n",
       "  /* unfitted */\n",
       "  background-color: var(--sklearn-color-unfitted-level-0);\n",
       "}\n",
       "\n",
       "#sk-container-id-1 div.sk-toggleable__content.fitted {\n",
       "  /* fitted */\n",
       "  background-color: var(--sklearn-color-fitted-level-0);\n",
       "}\n",
       "\n",
       "#sk-container-id-1 div.sk-toggleable__content pre {\n",
       "  margin: 0.2em;\n",
       "  border-radius: 0.25em;\n",
       "  color: var(--sklearn-color-text);\n",
       "  /* unfitted */\n",
       "  background-color: var(--sklearn-color-unfitted-level-0);\n",
       "}\n",
       "\n",
       "#sk-container-id-1 div.sk-toggleable__content.fitted pre {\n",
       "  /* unfitted */\n",
       "  background-color: var(--sklearn-color-fitted-level-0);\n",
       "}\n",
       "\n",
       "#sk-container-id-1 input.sk-toggleable__control:checked~div.sk-toggleable__content {\n",
       "  /* Expand drop-down */\n",
       "  max-height: 200px;\n",
       "  max-width: 100%;\n",
       "  overflow: auto;\n",
       "}\n",
       "\n",
       "#sk-container-id-1 input.sk-toggleable__control:checked~label.sk-toggleable__label-arrow:before {\n",
       "  content: \"▾\";\n",
       "}\n",
       "\n",
       "/* Pipeline/ColumnTransformer-specific style */\n",
       "\n",
       "#sk-container-id-1 div.sk-label input.sk-toggleable__control:checked~label.sk-toggleable__label {\n",
       "  color: var(--sklearn-color-text);\n",
       "  background-color: var(--sklearn-color-unfitted-level-2);\n",
       "}\n",
       "\n",
       "#sk-container-id-1 div.sk-label.fitted input.sk-toggleable__control:checked~label.sk-toggleable__label {\n",
       "  background-color: var(--sklearn-color-fitted-level-2);\n",
       "}\n",
       "\n",
       "/* Estimator-specific style */\n",
       "\n",
       "/* Colorize estimator box */\n",
       "#sk-container-id-1 div.sk-estimator input.sk-toggleable__control:checked~label.sk-toggleable__label {\n",
       "  /* unfitted */\n",
       "  background-color: var(--sklearn-color-unfitted-level-2);\n",
       "}\n",
       "\n",
       "#sk-container-id-1 div.sk-estimator.fitted input.sk-toggleable__control:checked~label.sk-toggleable__label {\n",
       "  /* fitted */\n",
       "  background-color: var(--sklearn-color-fitted-level-2);\n",
       "}\n",
       "\n",
       "#sk-container-id-1 div.sk-label label.sk-toggleable__label,\n",
       "#sk-container-id-1 div.sk-label label {\n",
       "  /* The background is the default theme color */\n",
       "  color: var(--sklearn-color-text-on-default-background);\n",
       "}\n",
       "\n",
       "/* On hover, darken the color of the background */\n",
       "#sk-container-id-1 div.sk-label:hover label.sk-toggleable__label {\n",
       "  color: var(--sklearn-color-text);\n",
       "  background-color: var(--sklearn-color-unfitted-level-2);\n",
       "}\n",
       "\n",
       "/* Label box, darken color on hover, fitted */\n",
       "#sk-container-id-1 div.sk-label.fitted:hover label.sk-toggleable__label.fitted {\n",
       "  color: var(--sklearn-color-text);\n",
       "  background-color: var(--sklearn-color-fitted-level-2);\n",
       "}\n",
       "\n",
       "/* Estimator label */\n",
       "\n",
       "#sk-container-id-1 div.sk-label label {\n",
       "  font-family: monospace;\n",
       "  font-weight: bold;\n",
       "  display: inline-block;\n",
       "  line-height: 1.2em;\n",
       "}\n",
       "\n",
       "#sk-container-id-1 div.sk-label-container {\n",
       "  text-align: center;\n",
       "}\n",
       "\n",
       "/* Estimator-specific */\n",
       "#sk-container-id-1 div.sk-estimator {\n",
       "  font-family: monospace;\n",
       "  border: 1px dotted var(--sklearn-color-border-box);\n",
       "  border-radius: 0.25em;\n",
       "  box-sizing: border-box;\n",
       "  margin-bottom: 0.5em;\n",
       "  /* unfitted */\n",
       "  background-color: var(--sklearn-color-unfitted-level-0);\n",
       "}\n",
       "\n",
       "#sk-container-id-1 div.sk-estimator.fitted {\n",
       "  /* fitted */\n",
       "  background-color: var(--sklearn-color-fitted-level-0);\n",
       "}\n",
       "\n",
       "/* on hover */\n",
       "#sk-container-id-1 div.sk-estimator:hover {\n",
       "  /* unfitted */\n",
       "  background-color: var(--sklearn-color-unfitted-level-2);\n",
       "}\n",
       "\n",
       "#sk-container-id-1 div.sk-estimator.fitted:hover {\n",
       "  /* fitted */\n",
       "  background-color: var(--sklearn-color-fitted-level-2);\n",
       "}\n",
       "\n",
       "/* Specification for estimator info (e.g. \"i\" and \"?\") */\n",
       "\n",
       "/* Common style for \"i\" and \"?\" */\n",
       "\n",
       ".sk-estimator-doc-link,\n",
       "a:link.sk-estimator-doc-link,\n",
       "a:visited.sk-estimator-doc-link {\n",
       "  float: right;\n",
       "  font-size: smaller;\n",
       "  line-height: 1em;\n",
       "  font-family: monospace;\n",
       "  background-color: var(--sklearn-color-background);\n",
       "  border-radius: 1em;\n",
       "  height: 1em;\n",
       "  width: 1em;\n",
       "  text-decoration: none !important;\n",
       "  margin-left: 1ex;\n",
       "  /* unfitted */\n",
       "  border: var(--sklearn-color-unfitted-level-1) 1pt solid;\n",
       "  color: var(--sklearn-color-unfitted-level-1);\n",
       "}\n",
       "\n",
       ".sk-estimator-doc-link.fitted,\n",
       "a:link.sk-estimator-doc-link.fitted,\n",
       "a:visited.sk-estimator-doc-link.fitted {\n",
       "  /* fitted */\n",
       "  border: var(--sklearn-color-fitted-level-1) 1pt solid;\n",
       "  color: var(--sklearn-color-fitted-level-1);\n",
       "}\n",
       "\n",
       "/* On hover */\n",
       "div.sk-estimator:hover .sk-estimator-doc-link:hover,\n",
       ".sk-estimator-doc-link:hover,\n",
       "div.sk-label-container:hover .sk-estimator-doc-link:hover,\n",
       ".sk-estimator-doc-link:hover {\n",
       "  /* unfitted */\n",
       "  background-color: var(--sklearn-color-unfitted-level-3);\n",
       "  color: var(--sklearn-color-background);\n",
       "  text-decoration: none;\n",
       "}\n",
       "\n",
       "div.sk-estimator.fitted:hover .sk-estimator-doc-link.fitted:hover,\n",
       ".sk-estimator-doc-link.fitted:hover,\n",
       "div.sk-label-container:hover .sk-estimator-doc-link.fitted:hover,\n",
       ".sk-estimator-doc-link.fitted:hover {\n",
       "  /* fitted */\n",
       "  background-color: var(--sklearn-color-fitted-level-3);\n",
       "  color: var(--sklearn-color-background);\n",
       "  text-decoration: none;\n",
       "}\n",
       "\n",
       "/* Span, style for the box shown on hovering the info icon */\n",
       ".sk-estimator-doc-link span {\n",
       "  display: none;\n",
       "  z-index: 9999;\n",
       "  position: relative;\n",
       "  font-weight: normal;\n",
       "  right: .2ex;\n",
       "  padding: .5ex;\n",
       "  margin: .5ex;\n",
       "  width: min-content;\n",
       "  min-width: 20ex;\n",
       "  max-width: 50ex;\n",
       "  color: var(--sklearn-color-text);\n",
       "  box-shadow: 2pt 2pt 4pt #999;\n",
       "  /* unfitted */\n",
       "  background: var(--sklearn-color-unfitted-level-0);\n",
       "  border: .5pt solid var(--sklearn-color-unfitted-level-3);\n",
       "}\n",
       "\n",
       ".sk-estimator-doc-link.fitted span {\n",
       "  /* fitted */\n",
       "  background: var(--sklearn-color-fitted-level-0);\n",
       "  border: var(--sklearn-color-fitted-level-3);\n",
       "}\n",
       "\n",
       ".sk-estimator-doc-link:hover span {\n",
       "  display: block;\n",
       "}\n",
       "\n",
       "/* \"?\"-specific style due to the `<a>` HTML tag */\n",
       "\n",
       "#sk-container-id-1 a.estimator_doc_link {\n",
       "  float: right;\n",
       "  font-size: 1rem;\n",
       "  line-height: 1em;\n",
       "  font-family: monospace;\n",
       "  background-color: var(--sklearn-color-background);\n",
       "  border-radius: 1rem;\n",
       "  height: 1rem;\n",
       "  width: 1rem;\n",
       "  text-decoration: none;\n",
       "  /* unfitted */\n",
       "  color: var(--sklearn-color-unfitted-level-1);\n",
       "  border: var(--sklearn-color-unfitted-level-1) 1pt solid;\n",
       "}\n",
       "\n",
       "#sk-container-id-1 a.estimator_doc_link.fitted {\n",
       "  /* fitted */\n",
       "  border: var(--sklearn-color-fitted-level-1) 1pt solid;\n",
       "  color: var(--sklearn-color-fitted-level-1);\n",
       "}\n",
       "\n",
       "/* On hover */\n",
       "#sk-container-id-1 a.estimator_doc_link:hover {\n",
       "  /* unfitted */\n",
       "  background-color: var(--sklearn-color-unfitted-level-3);\n",
       "  color: var(--sklearn-color-background);\n",
       "  text-decoration: none;\n",
       "}\n",
       "\n",
       "#sk-container-id-1 a.estimator_doc_link.fitted:hover {\n",
       "  /* fitted */\n",
       "  background-color: var(--sklearn-color-fitted-level-3);\n",
       "}\n",
       "</style><div id=\"sk-container-id-1\" class=\"sk-top-container\"><div class=\"sk-text-repr-fallback\"><pre>GridSearchCV(cv=5,\n",
       "             estimator=Pipeline(steps=[(&#x27;preprocessor&#x27;,\n",
       "                                        ColumnTransformer(remainder=&#x27;passthrough&#x27;,\n",
       "                                                          transformers=[(&#x27;cat&#x27;,\n",
       "                                                                         Pipeline(steps=[(&#x27;imputer&#x27;,\n",
       "                                                                                          SimpleImputer(fill_value=&#x27;unknown&#x27;,\n",
       "                                                                                                        strategy=&#x27;constant&#x27;)),\n",
       "                                                                                         (&#x27;encoder&#x27;,\n",
       "                                                                                          OrdinalEncoder(handle_unknown=&#x27;use_encoded_value&#x27;,\n",
       "                                                                                                         unknown_value=-1))]),\n",
       "                                                                         [&#x27;VehicleType&#x27;,\n",
       "                                                                          &#x27;Gearbox&#x27;,\n",
       "                                                                          &#x27;Model&#x27;,\n",
       "                                                                          &#x27;FuelType&#x27;,\n",
       "                                                                          &#x27;Brand&#x27;,\n",
       "                                                                          &#x27;Repaired...\n",
       "                                                                          &#x27;Kilometer&#x27;])])),\n",
       "                                       (&#x27;model&#x27;, LGBMRegressor())]),\n",
       "             n_jobs=-1,\n",
       "             param_grid=[{&#x27;model&#x27;: [DecisionTreeRegressor()],\n",
       "                          &#x27;model__max_depth&#x27;: [2],\n",
       "                          &#x27;model__min_samples_split&#x27;: [500, 1000]},\n",
       "                         {&#x27;model&#x27;: [LGBMRegressor(metric=&#x27;rmse&#x27;,\n",
       "                                                  random_state=42)],\n",
       "                          &#x27;model__max_depth&#x27;: [10, 5000],\n",
       "                          &#x27;model__n_estimators&#x27;: [1000, 20000]}],\n",
       "             scoring=make_scorer(rmse, greater_is_better=False, response_method=&#x27;predict&#x27;))</pre><b>In a Jupyter environment, please rerun this cell to show the HTML representation or trust the notebook. <br />On GitHub, the HTML representation is unable to render, please try loading this page with nbviewer.org.</b></div><div class=\"sk-container\" hidden><div class=\"sk-item sk-dashed-wrapped\"><div class=\"sk-label-container\"><div class=\"sk-label fitted sk-toggleable\"><input class=\"sk-toggleable__control sk-hidden--visually\" id=\"sk-estimator-id-1\" type=\"checkbox\" ><label for=\"sk-estimator-id-1\" class=\"sk-toggleable__label fitted sk-toggleable__label-arrow fitted\">&nbsp;&nbsp;GridSearchCV<a class=\"sk-estimator-doc-link fitted\" rel=\"noreferrer\" target=\"_blank\" href=\"https://scikit-learn.org/1.4/modules/generated/sklearn.model_selection.GridSearchCV.html\">?<span>Documentation for GridSearchCV</span></a><span class=\"sk-estimator-doc-link fitted\">i<span>Fitted</span></span></label><div class=\"sk-toggleable__content fitted\"><pre>GridSearchCV(cv=5,\n",
       "             estimator=Pipeline(steps=[(&#x27;preprocessor&#x27;,\n",
       "                                        ColumnTransformer(remainder=&#x27;passthrough&#x27;,\n",
       "                                                          transformers=[(&#x27;cat&#x27;,\n",
       "                                                                         Pipeline(steps=[(&#x27;imputer&#x27;,\n",
       "                                                                                          SimpleImputer(fill_value=&#x27;unknown&#x27;,\n",
       "                                                                                                        strategy=&#x27;constant&#x27;)),\n",
       "                                                                                         (&#x27;encoder&#x27;,\n",
       "                                                                                          OrdinalEncoder(handle_unknown=&#x27;use_encoded_value&#x27;,\n",
       "                                                                                                         unknown_value=-1))]),\n",
       "                                                                         [&#x27;VehicleType&#x27;,\n",
       "                                                                          &#x27;Gearbox&#x27;,\n",
       "                                                                          &#x27;Model&#x27;,\n",
       "                                                                          &#x27;FuelType&#x27;,\n",
       "                                                                          &#x27;Brand&#x27;,\n",
       "                                                                          &#x27;Repaired...\n",
       "                                                                          &#x27;Kilometer&#x27;])])),\n",
       "                                       (&#x27;model&#x27;, LGBMRegressor())]),\n",
       "             n_jobs=-1,\n",
       "             param_grid=[{&#x27;model&#x27;: [DecisionTreeRegressor()],\n",
       "                          &#x27;model__max_depth&#x27;: [2],\n",
       "                          &#x27;model__min_samples_split&#x27;: [500, 1000]},\n",
       "                         {&#x27;model&#x27;: [LGBMRegressor(metric=&#x27;rmse&#x27;,\n",
       "                                                  random_state=42)],\n",
       "                          &#x27;model__max_depth&#x27;: [10, 5000],\n",
       "                          &#x27;model__n_estimators&#x27;: [1000, 20000]}],\n",
       "             scoring=make_scorer(rmse, greater_is_better=False, response_method=&#x27;predict&#x27;))</pre></div> </div></div><div class=\"sk-parallel\"><div class=\"sk-parallel-item\"><div class=\"sk-item\"><div class=\"sk-label-container\"><div class=\"sk-label fitted sk-toggleable\"><input class=\"sk-toggleable__control sk-hidden--visually\" id=\"sk-estimator-id-2\" type=\"checkbox\" ><label for=\"sk-estimator-id-2\" class=\"sk-toggleable__label fitted sk-toggleable__label-arrow fitted\">estimator: Pipeline</label><div class=\"sk-toggleable__content fitted\"><pre>Pipeline(steps=[(&#x27;preprocessor&#x27;,\n",
       "                 ColumnTransformer(remainder=&#x27;passthrough&#x27;,\n",
       "                                   transformers=[(&#x27;cat&#x27;,\n",
       "                                                  Pipeline(steps=[(&#x27;imputer&#x27;,\n",
       "                                                                   SimpleImputer(fill_value=&#x27;unknown&#x27;,\n",
       "                                                                                 strategy=&#x27;constant&#x27;)),\n",
       "                                                                  (&#x27;encoder&#x27;,\n",
       "                                                                   OrdinalEncoder(handle_unknown=&#x27;use_encoded_value&#x27;,\n",
       "                                                                                  unknown_value=-1))]),\n",
       "                                                  [&#x27;VehicleType&#x27;, &#x27;Gearbox&#x27;,\n",
       "                                                   &#x27;Model&#x27;, &#x27;FuelType&#x27;, &#x27;Brand&#x27;,\n",
       "                                                   &#x27;Repaired&#x27;]),\n",
       "                                                 (&#x27;num&#x27;, StandardScaler(),\n",
       "                                                  [&#x27;RegistrationYear&#x27;, &#x27;Power&#x27;,\n",
       "                                                   &#x27;Kilometer&#x27;])])),\n",
       "                (&#x27;model&#x27;, LGBMRegressor())])</pre></div> </div></div><div class=\"sk-serial\"><div class=\"sk-item\"><div class=\"sk-serial\"><div class=\"sk-item sk-dashed-wrapped\"><div class=\"sk-label-container\"><div class=\"sk-label fitted sk-toggleable\"><input class=\"sk-toggleable__control sk-hidden--visually\" id=\"sk-estimator-id-3\" type=\"checkbox\" ><label for=\"sk-estimator-id-3\" class=\"sk-toggleable__label fitted sk-toggleable__label-arrow fitted\">&nbsp;preprocessor: ColumnTransformer<a class=\"sk-estimator-doc-link fitted\" rel=\"noreferrer\" target=\"_blank\" href=\"https://scikit-learn.org/1.4/modules/generated/sklearn.compose.ColumnTransformer.html\">?<span>Documentation for preprocessor: ColumnTransformer</span></a></label><div class=\"sk-toggleable__content fitted\"><pre>ColumnTransformer(remainder=&#x27;passthrough&#x27;,\n",
       "                  transformers=[(&#x27;cat&#x27;,\n",
       "                                 Pipeline(steps=[(&#x27;imputer&#x27;,\n",
       "                                                  SimpleImputer(fill_value=&#x27;unknown&#x27;,\n",
       "                                                                strategy=&#x27;constant&#x27;)),\n",
       "                                                 (&#x27;encoder&#x27;,\n",
       "                                                  OrdinalEncoder(handle_unknown=&#x27;use_encoded_value&#x27;,\n",
       "                                                                 unknown_value=-1))]),\n",
       "                                 [&#x27;VehicleType&#x27;, &#x27;Gearbox&#x27;, &#x27;Model&#x27;, &#x27;FuelType&#x27;,\n",
       "                                  &#x27;Brand&#x27;, &#x27;Repaired&#x27;]),\n",
       "                                (&#x27;num&#x27;, StandardScaler(),\n",
       "                                 [&#x27;RegistrationYear&#x27;, &#x27;Power&#x27;, &#x27;Kilometer&#x27;])])</pre></div> </div></div><div class=\"sk-parallel\"><div class=\"sk-parallel-item\"><div class=\"sk-item\"><div class=\"sk-label-container\"><div class=\"sk-label fitted sk-toggleable\"><input class=\"sk-toggleable__control sk-hidden--visually\" id=\"sk-estimator-id-4\" type=\"checkbox\" ><label for=\"sk-estimator-id-4\" class=\"sk-toggleable__label fitted sk-toggleable__label-arrow fitted\">cat</label><div class=\"sk-toggleable__content fitted\"><pre>[&#x27;VehicleType&#x27;, &#x27;Gearbox&#x27;, &#x27;Model&#x27;, &#x27;FuelType&#x27;, &#x27;Brand&#x27;, &#x27;Repaired&#x27;]</pre></div> </div></div><div class=\"sk-serial\"><div class=\"sk-item\"><div class=\"sk-serial\"><div class=\"sk-item\"><div class=\"sk-estimator fitted sk-toggleable\"><input class=\"sk-toggleable__control sk-hidden--visually\" id=\"sk-estimator-id-5\" type=\"checkbox\" ><label for=\"sk-estimator-id-5\" class=\"sk-toggleable__label fitted sk-toggleable__label-arrow fitted\">&nbsp;SimpleImputer<a class=\"sk-estimator-doc-link fitted\" rel=\"noreferrer\" target=\"_blank\" href=\"https://scikit-learn.org/1.4/modules/generated/sklearn.impute.SimpleImputer.html\">?<span>Documentation for SimpleImputer</span></a></label><div class=\"sk-toggleable__content fitted\"><pre>SimpleImputer(fill_value=&#x27;unknown&#x27;, strategy=&#x27;constant&#x27;)</pre></div> </div></div><div class=\"sk-item\"><div class=\"sk-estimator fitted sk-toggleable\"><input class=\"sk-toggleable__control sk-hidden--visually\" id=\"sk-estimator-id-6\" type=\"checkbox\" ><label for=\"sk-estimator-id-6\" class=\"sk-toggleable__label fitted sk-toggleable__label-arrow fitted\">&nbsp;OrdinalEncoder<a class=\"sk-estimator-doc-link fitted\" rel=\"noreferrer\" target=\"_blank\" href=\"https://scikit-learn.org/1.4/modules/generated/sklearn.preprocessing.OrdinalEncoder.html\">?<span>Documentation for OrdinalEncoder</span></a></label><div class=\"sk-toggleable__content fitted\"><pre>OrdinalEncoder(handle_unknown=&#x27;use_encoded_value&#x27;, unknown_value=-1)</pre></div> </div></div></div></div></div></div></div><div class=\"sk-parallel-item\"><div class=\"sk-item\"><div class=\"sk-label-container\"><div class=\"sk-label fitted sk-toggleable\"><input class=\"sk-toggleable__control sk-hidden--visually\" id=\"sk-estimator-id-7\" type=\"checkbox\" ><label for=\"sk-estimator-id-7\" class=\"sk-toggleable__label fitted sk-toggleable__label-arrow fitted\">num</label><div class=\"sk-toggleable__content fitted\"><pre>[&#x27;RegistrationYear&#x27;, &#x27;Power&#x27;, &#x27;Kilometer&#x27;]</pre></div> </div></div><div class=\"sk-serial\"><div class=\"sk-item\"><div class=\"sk-estimator fitted sk-toggleable\"><input class=\"sk-toggleable__control sk-hidden--visually\" id=\"sk-estimator-id-8\" type=\"checkbox\" ><label for=\"sk-estimator-id-8\" class=\"sk-toggleable__label fitted sk-toggleable__label-arrow fitted\">&nbsp;StandardScaler<a class=\"sk-estimator-doc-link fitted\" rel=\"noreferrer\" target=\"_blank\" href=\"https://scikit-learn.org/1.4/modules/generated/sklearn.preprocessing.StandardScaler.html\">?<span>Documentation for StandardScaler</span></a></label><div class=\"sk-toggleable__content fitted\"><pre>StandardScaler()</pre></div> </div></div></div></div></div><div class=\"sk-parallel-item\"><div class=\"sk-item\"><div class=\"sk-label-container\"><div class=\"sk-label fitted sk-toggleable\"><input class=\"sk-toggleable__control sk-hidden--visually\" id=\"sk-estimator-id-9\" type=\"checkbox\" ><label for=\"sk-estimator-id-9\" class=\"sk-toggleable__label fitted sk-toggleable__label-arrow fitted\">remainder</label><div class=\"sk-toggleable__content fitted\"><pre></pre></div> </div></div><div class=\"sk-serial\"><div class=\"sk-item\"><div class=\"sk-estimator fitted sk-toggleable\"><input class=\"sk-toggleable__control sk-hidden--visually\" id=\"sk-estimator-id-10\" type=\"checkbox\" ><label for=\"sk-estimator-id-10\" class=\"sk-toggleable__label fitted sk-toggleable__label-arrow fitted\">passthrough</label><div class=\"sk-toggleable__content fitted\"><pre>passthrough</pre></div> </div></div></div></div></div></div></div><div class=\"sk-item\"><div class=\"sk-estimator fitted sk-toggleable\"><input class=\"sk-toggleable__control sk-hidden--visually\" id=\"sk-estimator-id-11\" type=\"checkbox\" ><label for=\"sk-estimator-id-11\" class=\"sk-toggleable__label fitted sk-toggleable__label-arrow fitted\">LGBMRegressor</label><div class=\"sk-toggleable__content fitted\"><pre>LGBMRegressor()</pre></div> </div></div></div></div></div></div></div></div></div></div></div>"
      ],
      "text/plain": [
       "GridSearchCV(cv=5,\n",
       "             estimator=Pipeline(steps=[('preprocessor',\n",
       "                                        ColumnTransformer(remainder='passthrough',\n",
       "                                                          transformers=[('cat',\n",
       "                                                                         Pipeline(steps=[('imputer',\n",
       "                                                                                          SimpleImputer(fill_value='unknown',\n",
       "                                                                                                        strategy='constant')),\n",
       "                                                                                         ('encoder',\n",
       "                                                                                          OrdinalEncoder(handle_unknown='use_encoded_value',\n",
       "                                                                                                         unknown_value=-1))]),\n",
       "                                                                         ['VehicleType',\n",
       "                                                                          'Gearbox',\n",
       "                                                                          'Model',\n",
       "                                                                          'FuelType',\n",
       "                                                                          'Brand',\n",
       "                                                                          'Repaired...\n",
       "                                                                          'Kilometer'])])),\n",
       "                                       ('model', LGBMRegressor())]),\n",
       "             n_jobs=-1,\n",
       "             param_grid=[{'model': [DecisionTreeRegressor()],\n",
       "                          'model__max_depth': [2],\n",
       "                          'model__min_samples_split': [500, 1000]},\n",
       "                         {'model': [LGBMRegressor(metric='rmse',\n",
       "                                                  random_state=42)],\n",
       "                          'model__max_depth': [10, 5000],\n",
       "                          'model__n_estimators': [1000, 20000]}],\n",
       "             scoring=make_scorer(rmse, greater_is_better=False, response_method='predict'))"
      ]
     },
     "execution_count": 19,
     "metadata": {},
     "output_type": "execute_result"
    }
   ],
   "source": [
    "grid_reg.fit(X_train, y_train)"
   ]
  },
  {
   "cell_type": "markdown",
   "metadata": {},
   "source": [
    "## Обучение моделей"
   ]
  },
  {
   "cell_type": "code",
   "execution_count": 20,
   "metadata": {},
   "outputs": [],
   "source": [
    "# Сохраним лучшую модель в отдельную переменную\n",
    "lgbreg = grid_reg.best_estimator_.steps[1][1]\n",
    "treereg = DecisionTreeRegressor()"
   ]
  },
  {
   "cell_type": "code",
   "execution_count": 21,
   "metadata": {},
   "outputs": [
    {
     "data": {
      "text/plain": [
       "1528.5215654300696"
      ]
     },
     "execution_count": 21,
     "metadata": {},
     "output_type": "execute_result"
    }
   ],
   "source": [
    "# Узнаем её RMSE\n",
    "grid_reg.best_score_ * -1"
   ]
  },
  {
   "cell_type": "code",
   "execution_count": 22,
   "metadata": {},
   "outputs": [],
   "source": [
    "# Сохраним преобразованные данные в отдельные переменные,\n",
    "# чтобы вычислить время обучения моделей без учета преобразования\n",
    "X_train_prepared = data_preprocessor.fit_transform(X_train)\n",
    "X_test_prepared = data_preprocessor.transform(X_test)"
   ]
  },
  {
   "cell_type": "markdown",
   "metadata": {},
   "source": [
    "Пора узнать время обучения и предсказания моделей."
   ]
  },
  {
   "cell_type": "code",
   "execution_count": 23,
   "metadata": {},
   "outputs": [
    {
     "name": "stdout",
     "output_type": "stream",
     "text": [
      "CPU times: user 34.3 s, sys: 190 ms, total: 34.5 s\n",
      "Wall time: 34.7 s\n"
     ]
    },
    {
     "data": {
      "text/html": [
       "<style>#sk-container-id-2 {\n",
       "  /* Definition of color scheme common for light and dark mode */\n",
       "  --sklearn-color-text: black;\n",
       "  --sklearn-color-line: gray;\n",
       "  /* Definition of color scheme for unfitted estimators */\n",
       "  --sklearn-color-unfitted-level-0: #fff5e6;\n",
       "  --sklearn-color-unfitted-level-1: #f6e4d2;\n",
       "  --sklearn-color-unfitted-level-2: #ffe0b3;\n",
       "  --sklearn-color-unfitted-level-3: chocolate;\n",
       "  /* Definition of color scheme for fitted estimators */\n",
       "  --sklearn-color-fitted-level-0: #f0f8ff;\n",
       "  --sklearn-color-fitted-level-1: #d4ebff;\n",
       "  --sklearn-color-fitted-level-2: #b3dbfd;\n",
       "  --sklearn-color-fitted-level-3: cornflowerblue;\n",
       "\n",
       "  /* Specific color for light theme */\n",
       "  --sklearn-color-text-on-default-background: var(--sg-text-color, var(--theme-code-foreground, var(--jp-content-font-color1, black)));\n",
       "  --sklearn-color-background: var(--sg-background-color, var(--theme-background, var(--jp-layout-color0, white)));\n",
       "  --sklearn-color-border-box: var(--sg-text-color, var(--theme-code-foreground, var(--jp-content-font-color1, black)));\n",
       "  --sklearn-color-icon: #696969;\n",
       "\n",
       "  @media (prefers-color-scheme: dark) {\n",
       "    /* Redefinition of color scheme for dark theme */\n",
       "    --sklearn-color-text-on-default-background: var(--sg-text-color, var(--theme-code-foreground, var(--jp-content-font-color1, white)));\n",
       "    --sklearn-color-background: var(--sg-background-color, var(--theme-background, var(--jp-layout-color0, #111)));\n",
       "    --sklearn-color-border-box: var(--sg-text-color, var(--theme-code-foreground, var(--jp-content-font-color1, white)));\n",
       "    --sklearn-color-icon: #878787;\n",
       "  }\n",
       "}\n",
       "\n",
       "#sk-container-id-2 {\n",
       "  color: var(--sklearn-color-text);\n",
       "}\n",
       "\n",
       "#sk-container-id-2 pre {\n",
       "  padding: 0;\n",
       "}\n",
       "\n",
       "#sk-container-id-2 input.sk-hidden--visually {\n",
       "  border: 0;\n",
       "  clip: rect(1px 1px 1px 1px);\n",
       "  clip: rect(1px, 1px, 1px, 1px);\n",
       "  height: 1px;\n",
       "  margin: -1px;\n",
       "  overflow: hidden;\n",
       "  padding: 0;\n",
       "  position: absolute;\n",
       "  width: 1px;\n",
       "}\n",
       "\n",
       "#sk-container-id-2 div.sk-dashed-wrapped {\n",
       "  border: 1px dashed var(--sklearn-color-line);\n",
       "  margin: 0 0.4em 0.5em 0.4em;\n",
       "  box-sizing: border-box;\n",
       "  padding-bottom: 0.4em;\n",
       "  background-color: var(--sklearn-color-background);\n",
       "}\n",
       "\n",
       "#sk-container-id-2 div.sk-container {\n",
       "  /* jupyter's `normalize.less` sets `[hidden] { display: none; }`\n",
       "     but bootstrap.min.css set `[hidden] { display: none !important; }`\n",
       "     so we also need the `!important` here to be able to override the\n",
       "     default hidden behavior on the sphinx rendered scikit-learn.org.\n",
       "     See: https://github.com/scikit-learn/scikit-learn/issues/21755 */\n",
       "  display: inline-block !important;\n",
       "  position: relative;\n",
       "}\n",
       "\n",
       "#sk-container-id-2 div.sk-text-repr-fallback {\n",
       "  display: none;\n",
       "}\n",
       "\n",
       "div.sk-parallel-item,\n",
       "div.sk-serial,\n",
       "div.sk-item {\n",
       "  /* draw centered vertical line to link estimators */\n",
       "  background-image: linear-gradient(var(--sklearn-color-text-on-default-background), var(--sklearn-color-text-on-default-background));\n",
       "  background-size: 2px 100%;\n",
       "  background-repeat: no-repeat;\n",
       "  background-position: center center;\n",
       "}\n",
       "\n",
       "/* Parallel-specific style estimator block */\n",
       "\n",
       "#sk-container-id-2 div.sk-parallel-item::after {\n",
       "  content: \"\";\n",
       "  width: 100%;\n",
       "  border-bottom: 2px solid var(--sklearn-color-text-on-default-background);\n",
       "  flex-grow: 1;\n",
       "}\n",
       "\n",
       "#sk-container-id-2 div.sk-parallel {\n",
       "  display: flex;\n",
       "  align-items: stretch;\n",
       "  justify-content: center;\n",
       "  background-color: var(--sklearn-color-background);\n",
       "  position: relative;\n",
       "}\n",
       "\n",
       "#sk-container-id-2 div.sk-parallel-item {\n",
       "  display: flex;\n",
       "  flex-direction: column;\n",
       "}\n",
       "\n",
       "#sk-container-id-2 div.sk-parallel-item:first-child::after {\n",
       "  align-self: flex-end;\n",
       "  width: 50%;\n",
       "}\n",
       "\n",
       "#sk-container-id-2 div.sk-parallel-item:last-child::after {\n",
       "  align-self: flex-start;\n",
       "  width: 50%;\n",
       "}\n",
       "\n",
       "#sk-container-id-2 div.sk-parallel-item:only-child::after {\n",
       "  width: 0;\n",
       "}\n",
       "\n",
       "/* Serial-specific style estimator block */\n",
       "\n",
       "#sk-container-id-2 div.sk-serial {\n",
       "  display: flex;\n",
       "  flex-direction: column;\n",
       "  align-items: center;\n",
       "  background-color: var(--sklearn-color-background);\n",
       "  padding-right: 1em;\n",
       "  padding-left: 1em;\n",
       "}\n",
       "\n",
       "\n",
       "/* Toggleable style: style used for estimator/Pipeline/ColumnTransformer box that is\n",
       "clickable and can be expanded/collapsed.\n",
       "- Pipeline and ColumnTransformer use this feature and define the default style\n",
       "- Estimators will overwrite some part of the style using the `sk-estimator` class\n",
       "*/\n",
       "\n",
       "/* Pipeline and ColumnTransformer style (default) */\n",
       "\n",
       "#sk-container-id-2 div.sk-toggleable {\n",
       "  /* Default theme specific background. It is overwritten whether we have a\n",
       "  specific estimator or a Pipeline/ColumnTransformer */\n",
       "  background-color: var(--sklearn-color-background);\n",
       "}\n",
       "\n",
       "/* Toggleable label */\n",
       "#sk-container-id-2 label.sk-toggleable__label {\n",
       "  cursor: pointer;\n",
       "  display: block;\n",
       "  width: 100%;\n",
       "  margin-bottom: 0;\n",
       "  padding: 0.5em;\n",
       "  box-sizing: border-box;\n",
       "  text-align: center;\n",
       "}\n",
       "\n",
       "#sk-container-id-2 label.sk-toggleable__label-arrow:before {\n",
       "  /* Arrow on the left of the label */\n",
       "  content: \"▸\";\n",
       "  float: left;\n",
       "  margin-right: 0.25em;\n",
       "  color: var(--sklearn-color-icon);\n",
       "}\n",
       "\n",
       "#sk-container-id-2 label.sk-toggleable__label-arrow:hover:before {\n",
       "  color: var(--sklearn-color-text);\n",
       "}\n",
       "\n",
       "/* Toggleable content - dropdown */\n",
       "\n",
       "#sk-container-id-2 div.sk-toggleable__content {\n",
       "  max-height: 0;\n",
       "  max-width: 0;\n",
       "  overflow: hidden;\n",
       "  text-align: left;\n",
       "  /* unfitted */\n",
       "  background-color: var(--sklearn-color-unfitted-level-0);\n",
       "}\n",
       "\n",
       "#sk-container-id-2 div.sk-toggleable__content.fitted {\n",
       "  /* fitted */\n",
       "  background-color: var(--sklearn-color-fitted-level-0);\n",
       "}\n",
       "\n",
       "#sk-container-id-2 div.sk-toggleable__content pre {\n",
       "  margin: 0.2em;\n",
       "  border-radius: 0.25em;\n",
       "  color: var(--sklearn-color-text);\n",
       "  /* unfitted */\n",
       "  background-color: var(--sklearn-color-unfitted-level-0);\n",
       "}\n",
       "\n",
       "#sk-container-id-2 div.sk-toggleable__content.fitted pre {\n",
       "  /* unfitted */\n",
       "  background-color: var(--sklearn-color-fitted-level-0);\n",
       "}\n",
       "\n",
       "#sk-container-id-2 input.sk-toggleable__control:checked~div.sk-toggleable__content {\n",
       "  /* Expand drop-down */\n",
       "  max-height: 200px;\n",
       "  max-width: 100%;\n",
       "  overflow: auto;\n",
       "}\n",
       "\n",
       "#sk-container-id-2 input.sk-toggleable__control:checked~label.sk-toggleable__label-arrow:before {\n",
       "  content: \"▾\";\n",
       "}\n",
       "\n",
       "/* Pipeline/ColumnTransformer-specific style */\n",
       "\n",
       "#sk-container-id-2 div.sk-label input.sk-toggleable__control:checked~label.sk-toggleable__label {\n",
       "  color: var(--sklearn-color-text);\n",
       "  background-color: var(--sklearn-color-unfitted-level-2);\n",
       "}\n",
       "\n",
       "#sk-container-id-2 div.sk-label.fitted input.sk-toggleable__control:checked~label.sk-toggleable__label {\n",
       "  background-color: var(--sklearn-color-fitted-level-2);\n",
       "}\n",
       "\n",
       "/* Estimator-specific style */\n",
       "\n",
       "/* Colorize estimator box */\n",
       "#sk-container-id-2 div.sk-estimator input.sk-toggleable__control:checked~label.sk-toggleable__label {\n",
       "  /* unfitted */\n",
       "  background-color: var(--sklearn-color-unfitted-level-2);\n",
       "}\n",
       "\n",
       "#sk-container-id-2 div.sk-estimator.fitted input.sk-toggleable__control:checked~label.sk-toggleable__label {\n",
       "  /* fitted */\n",
       "  background-color: var(--sklearn-color-fitted-level-2);\n",
       "}\n",
       "\n",
       "#sk-container-id-2 div.sk-label label.sk-toggleable__label,\n",
       "#sk-container-id-2 div.sk-label label {\n",
       "  /* The background is the default theme color */\n",
       "  color: var(--sklearn-color-text-on-default-background);\n",
       "}\n",
       "\n",
       "/* On hover, darken the color of the background */\n",
       "#sk-container-id-2 div.sk-label:hover label.sk-toggleable__label {\n",
       "  color: var(--sklearn-color-text);\n",
       "  background-color: var(--sklearn-color-unfitted-level-2);\n",
       "}\n",
       "\n",
       "/* Label box, darken color on hover, fitted */\n",
       "#sk-container-id-2 div.sk-label.fitted:hover label.sk-toggleable__label.fitted {\n",
       "  color: var(--sklearn-color-text);\n",
       "  background-color: var(--sklearn-color-fitted-level-2);\n",
       "}\n",
       "\n",
       "/* Estimator label */\n",
       "\n",
       "#sk-container-id-2 div.sk-label label {\n",
       "  font-family: monospace;\n",
       "  font-weight: bold;\n",
       "  display: inline-block;\n",
       "  line-height: 1.2em;\n",
       "}\n",
       "\n",
       "#sk-container-id-2 div.sk-label-container {\n",
       "  text-align: center;\n",
       "}\n",
       "\n",
       "/* Estimator-specific */\n",
       "#sk-container-id-2 div.sk-estimator {\n",
       "  font-family: monospace;\n",
       "  border: 1px dotted var(--sklearn-color-border-box);\n",
       "  border-radius: 0.25em;\n",
       "  box-sizing: border-box;\n",
       "  margin-bottom: 0.5em;\n",
       "  /* unfitted */\n",
       "  background-color: var(--sklearn-color-unfitted-level-0);\n",
       "}\n",
       "\n",
       "#sk-container-id-2 div.sk-estimator.fitted {\n",
       "  /* fitted */\n",
       "  background-color: var(--sklearn-color-fitted-level-0);\n",
       "}\n",
       "\n",
       "/* on hover */\n",
       "#sk-container-id-2 div.sk-estimator:hover {\n",
       "  /* unfitted */\n",
       "  background-color: var(--sklearn-color-unfitted-level-2);\n",
       "}\n",
       "\n",
       "#sk-container-id-2 div.sk-estimator.fitted:hover {\n",
       "  /* fitted */\n",
       "  background-color: var(--sklearn-color-fitted-level-2);\n",
       "}\n",
       "\n",
       "/* Specification for estimator info (e.g. \"i\" and \"?\") */\n",
       "\n",
       "/* Common style for \"i\" and \"?\" */\n",
       "\n",
       ".sk-estimator-doc-link,\n",
       "a:link.sk-estimator-doc-link,\n",
       "a:visited.sk-estimator-doc-link {\n",
       "  float: right;\n",
       "  font-size: smaller;\n",
       "  line-height: 1em;\n",
       "  font-family: monospace;\n",
       "  background-color: var(--sklearn-color-background);\n",
       "  border-radius: 1em;\n",
       "  height: 1em;\n",
       "  width: 1em;\n",
       "  text-decoration: none !important;\n",
       "  margin-left: 1ex;\n",
       "  /* unfitted */\n",
       "  border: var(--sklearn-color-unfitted-level-1) 1pt solid;\n",
       "  color: var(--sklearn-color-unfitted-level-1);\n",
       "}\n",
       "\n",
       ".sk-estimator-doc-link.fitted,\n",
       "a:link.sk-estimator-doc-link.fitted,\n",
       "a:visited.sk-estimator-doc-link.fitted {\n",
       "  /* fitted */\n",
       "  border: var(--sklearn-color-fitted-level-1) 1pt solid;\n",
       "  color: var(--sklearn-color-fitted-level-1);\n",
       "}\n",
       "\n",
       "/* On hover */\n",
       "div.sk-estimator:hover .sk-estimator-doc-link:hover,\n",
       ".sk-estimator-doc-link:hover,\n",
       "div.sk-label-container:hover .sk-estimator-doc-link:hover,\n",
       ".sk-estimator-doc-link:hover {\n",
       "  /* unfitted */\n",
       "  background-color: var(--sklearn-color-unfitted-level-3);\n",
       "  color: var(--sklearn-color-background);\n",
       "  text-decoration: none;\n",
       "}\n",
       "\n",
       "div.sk-estimator.fitted:hover .sk-estimator-doc-link.fitted:hover,\n",
       ".sk-estimator-doc-link.fitted:hover,\n",
       "div.sk-label-container:hover .sk-estimator-doc-link.fitted:hover,\n",
       ".sk-estimator-doc-link.fitted:hover {\n",
       "  /* fitted */\n",
       "  background-color: var(--sklearn-color-fitted-level-3);\n",
       "  color: var(--sklearn-color-background);\n",
       "  text-decoration: none;\n",
       "}\n",
       "\n",
       "/* Span, style for the box shown on hovering the info icon */\n",
       ".sk-estimator-doc-link span {\n",
       "  display: none;\n",
       "  z-index: 9999;\n",
       "  position: relative;\n",
       "  font-weight: normal;\n",
       "  right: .2ex;\n",
       "  padding: .5ex;\n",
       "  margin: .5ex;\n",
       "  width: min-content;\n",
       "  min-width: 20ex;\n",
       "  max-width: 50ex;\n",
       "  color: var(--sklearn-color-text);\n",
       "  box-shadow: 2pt 2pt 4pt #999;\n",
       "  /* unfitted */\n",
       "  background: var(--sklearn-color-unfitted-level-0);\n",
       "  border: .5pt solid var(--sklearn-color-unfitted-level-3);\n",
       "}\n",
       "\n",
       ".sk-estimator-doc-link.fitted span {\n",
       "  /* fitted */\n",
       "  background: var(--sklearn-color-fitted-level-0);\n",
       "  border: var(--sklearn-color-fitted-level-3);\n",
       "}\n",
       "\n",
       ".sk-estimator-doc-link:hover span {\n",
       "  display: block;\n",
       "}\n",
       "\n",
       "/* \"?\"-specific style due to the `<a>` HTML tag */\n",
       "\n",
       "#sk-container-id-2 a.estimator_doc_link {\n",
       "  float: right;\n",
       "  font-size: 1rem;\n",
       "  line-height: 1em;\n",
       "  font-family: monospace;\n",
       "  background-color: var(--sklearn-color-background);\n",
       "  border-radius: 1rem;\n",
       "  height: 1rem;\n",
       "  width: 1rem;\n",
       "  text-decoration: none;\n",
       "  /* unfitted */\n",
       "  color: var(--sklearn-color-unfitted-level-1);\n",
       "  border: var(--sklearn-color-unfitted-level-1) 1pt solid;\n",
       "}\n",
       "\n",
       "#sk-container-id-2 a.estimator_doc_link.fitted {\n",
       "  /* fitted */\n",
       "  border: var(--sklearn-color-fitted-level-1) 1pt solid;\n",
       "  color: var(--sklearn-color-fitted-level-1);\n",
       "}\n",
       "\n",
       "/* On hover */\n",
       "#sk-container-id-2 a.estimator_doc_link:hover {\n",
       "  /* unfitted */\n",
       "  background-color: var(--sklearn-color-unfitted-level-3);\n",
       "  color: var(--sklearn-color-background);\n",
       "  text-decoration: none;\n",
       "}\n",
       "\n",
       "#sk-container-id-2 a.estimator_doc_link.fitted:hover {\n",
       "  /* fitted */\n",
       "  background-color: var(--sklearn-color-fitted-level-3);\n",
       "}\n",
       "</style><div id=\"sk-container-id-2\" class=\"sk-top-container\"><div class=\"sk-text-repr-fallback\"><pre>LGBMRegressor(max_depth=5000, metric=&#x27;rmse&#x27;, n_estimators=1000, random_state=42)</pre><b>In a Jupyter environment, please rerun this cell to show the HTML representation or trust the notebook. <br />On GitHub, the HTML representation is unable to render, please try loading this page with nbviewer.org.</b></div><div class=\"sk-container\" hidden><div class=\"sk-item\"><div class=\"sk-estimator fitted sk-toggleable\"><input class=\"sk-toggleable__control sk-hidden--visually\" id=\"sk-estimator-id-12\" type=\"checkbox\" checked><label for=\"sk-estimator-id-12\" class=\"sk-toggleable__label fitted sk-toggleable__label-arrow fitted\">&nbsp;LGBMRegressor<span class=\"sk-estimator-doc-link fitted\">i<span>Fitted</span></span></label><div class=\"sk-toggleable__content fitted\"><pre>LGBMRegressor(max_depth=5000, metric=&#x27;rmse&#x27;, n_estimators=1000, random_state=42)</pre></div> </div></div></div></div>"
      ],
      "text/plain": [
       "LGBMRegressor(max_depth=5000, metric='rmse', n_estimators=1000, random_state=42)"
      ]
     },
     "execution_count": 23,
     "metadata": {},
     "output_type": "execute_result"
    }
   ],
   "source": [
    "%%time\n",
    "# LGBM - время обучения\n",
    "lgbreg.fit(X_train_prepared, y_train)"
   ]
  },
  {
   "cell_type": "code",
   "execution_count": 24,
   "metadata": {},
   "outputs": [
    {
     "name": "stdout",
     "output_type": "stream",
     "text": [
      "CPU times: user 593 ms, sys: 250 µs, total: 594 ms\n",
      "Wall time: 638 ms\n"
     ]
    },
    {
     "data": {
      "text/html": [
       "<style>#sk-container-id-3 {\n",
       "  /* Definition of color scheme common for light and dark mode */\n",
       "  --sklearn-color-text: black;\n",
       "  --sklearn-color-line: gray;\n",
       "  /* Definition of color scheme for unfitted estimators */\n",
       "  --sklearn-color-unfitted-level-0: #fff5e6;\n",
       "  --sklearn-color-unfitted-level-1: #f6e4d2;\n",
       "  --sklearn-color-unfitted-level-2: #ffe0b3;\n",
       "  --sklearn-color-unfitted-level-3: chocolate;\n",
       "  /* Definition of color scheme for fitted estimators */\n",
       "  --sklearn-color-fitted-level-0: #f0f8ff;\n",
       "  --sklearn-color-fitted-level-1: #d4ebff;\n",
       "  --sklearn-color-fitted-level-2: #b3dbfd;\n",
       "  --sklearn-color-fitted-level-3: cornflowerblue;\n",
       "\n",
       "  /* Specific color for light theme */\n",
       "  --sklearn-color-text-on-default-background: var(--sg-text-color, var(--theme-code-foreground, var(--jp-content-font-color1, black)));\n",
       "  --sklearn-color-background: var(--sg-background-color, var(--theme-background, var(--jp-layout-color0, white)));\n",
       "  --sklearn-color-border-box: var(--sg-text-color, var(--theme-code-foreground, var(--jp-content-font-color1, black)));\n",
       "  --sklearn-color-icon: #696969;\n",
       "\n",
       "  @media (prefers-color-scheme: dark) {\n",
       "    /* Redefinition of color scheme for dark theme */\n",
       "    --sklearn-color-text-on-default-background: var(--sg-text-color, var(--theme-code-foreground, var(--jp-content-font-color1, white)));\n",
       "    --sklearn-color-background: var(--sg-background-color, var(--theme-background, var(--jp-layout-color0, #111)));\n",
       "    --sklearn-color-border-box: var(--sg-text-color, var(--theme-code-foreground, var(--jp-content-font-color1, white)));\n",
       "    --sklearn-color-icon: #878787;\n",
       "  }\n",
       "}\n",
       "\n",
       "#sk-container-id-3 {\n",
       "  color: var(--sklearn-color-text);\n",
       "}\n",
       "\n",
       "#sk-container-id-3 pre {\n",
       "  padding: 0;\n",
       "}\n",
       "\n",
       "#sk-container-id-3 input.sk-hidden--visually {\n",
       "  border: 0;\n",
       "  clip: rect(1px 1px 1px 1px);\n",
       "  clip: rect(1px, 1px, 1px, 1px);\n",
       "  height: 1px;\n",
       "  margin: -1px;\n",
       "  overflow: hidden;\n",
       "  padding: 0;\n",
       "  position: absolute;\n",
       "  width: 1px;\n",
       "}\n",
       "\n",
       "#sk-container-id-3 div.sk-dashed-wrapped {\n",
       "  border: 1px dashed var(--sklearn-color-line);\n",
       "  margin: 0 0.4em 0.5em 0.4em;\n",
       "  box-sizing: border-box;\n",
       "  padding-bottom: 0.4em;\n",
       "  background-color: var(--sklearn-color-background);\n",
       "}\n",
       "\n",
       "#sk-container-id-3 div.sk-container {\n",
       "  /* jupyter's `normalize.less` sets `[hidden] { display: none; }`\n",
       "     but bootstrap.min.css set `[hidden] { display: none !important; }`\n",
       "     so we also need the `!important` here to be able to override the\n",
       "     default hidden behavior on the sphinx rendered scikit-learn.org.\n",
       "     See: https://github.com/scikit-learn/scikit-learn/issues/21755 */\n",
       "  display: inline-block !important;\n",
       "  position: relative;\n",
       "}\n",
       "\n",
       "#sk-container-id-3 div.sk-text-repr-fallback {\n",
       "  display: none;\n",
       "}\n",
       "\n",
       "div.sk-parallel-item,\n",
       "div.sk-serial,\n",
       "div.sk-item {\n",
       "  /* draw centered vertical line to link estimators */\n",
       "  background-image: linear-gradient(var(--sklearn-color-text-on-default-background), var(--sklearn-color-text-on-default-background));\n",
       "  background-size: 2px 100%;\n",
       "  background-repeat: no-repeat;\n",
       "  background-position: center center;\n",
       "}\n",
       "\n",
       "/* Parallel-specific style estimator block */\n",
       "\n",
       "#sk-container-id-3 div.sk-parallel-item::after {\n",
       "  content: \"\";\n",
       "  width: 100%;\n",
       "  border-bottom: 2px solid var(--sklearn-color-text-on-default-background);\n",
       "  flex-grow: 1;\n",
       "}\n",
       "\n",
       "#sk-container-id-3 div.sk-parallel {\n",
       "  display: flex;\n",
       "  align-items: stretch;\n",
       "  justify-content: center;\n",
       "  background-color: var(--sklearn-color-background);\n",
       "  position: relative;\n",
       "}\n",
       "\n",
       "#sk-container-id-3 div.sk-parallel-item {\n",
       "  display: flex;\n",
       "  flex-direction: column;\n",
       "}\n",
       "\n",
       "#sk-container-id-3 div.sk-parallel-item:first-child::after {\n",
       "  align-self: flex-end;\n",
       "  width: 50%;\n",
       "}\n",
       "\n",
       "#sk-container-id-3 div.sk-parallel-item:last-child::after {\n",
       "  align-self: flex-start;\n",
       "  width: 50%;\n",
       "}\n",
       "\n",
       "#sk-container-id-3 div.sk-parallel-item:only-child::after {\n",
       "  width: 0;\n",
       "}\n",
       "\n",
       "/* Serial-specific style estimator block */\n",
       "\n",
       "#sk-container-id-3 div.sk-serial {\n",
       "  display: flex;\n",
       "  flex-direction: column;\n",
       "  align-items: center;\n",
       "  background-color: var(--sklearn-color-background);\n",
       "  padding-right: 1em;\n",
       "  padding-left: 1em;\n",
       "}\n",
       "\n",
       "\n",
       "/* Toggleable style: style used for estimator/Pipeline/ColumnTransformer box that is\n",
       "clickable and can be expanded/collapsed.\n",
       "- Pipeline and ColumnTransformer use this feature and define the default style\n",
       "- Estimators will overwrite some part of the style using the `sk-estimator` class\n",
       "*/\n",
       "\n",
       "/* Pipeline and ColumnTransformer style (default) */\n",
       "\n",
       "#sk-container-id-3 div.sk-toggleable {\n",
       "  /* Default theme specific background. It is overwritten whether we have a\n",
       "  specific estimator or a Pipeline/ColumnTransformer */\n",
       "  background-color: var(--sklearn-color-background);\n",
       "}\n",
       "\n",
       "/* Toggleable label */\n",
       "#sk-container-id-3 label.sk-toggleable__label {\n",
       "  cursor: pointer;\n",
       "  display: block;\n",
       "  width: 100%;\n",
       "  margin-bottom: 0;\n",
       "  padding: 0.5em;\n",
       "  box-sizing: border-box;\n",
       "  text-align: center;\n",
       "}\n",
       "\n",
       "#sk-container-id-3 label.sk-toggleable__label-arrow:before {\n",
       "  /* Arrow on the left of the label */\n",
       "  content: \"▸\";\n",
       "  float: left;\n",
       "  margin-right: 0.25em;\n",
       "  color: var(--sklearn-color-icon);\n",
       "}\n",
       "\n",
       "#sk-container-id-3 label.sk-toggleable__label-arrow:hover:before {\n",
       "  color: var(--sklearn-color-text);\n",
       "}\n",
       "\n",
       "/* Toggleable content - dropdown */\n",
       "\n",
       "#sk-container-id-3 div.sk-toggleable__content {\n",
       "  max-height: 0;\n",
       "  max-width: 0;\n",
       "  overflow: hidden;\n",
       "  text-align: left;\n",
       "  /* unfitted */\n",
       "  background-color: var(--sklearn-color-unfitted-level-0);\n",
       "}\n",
       "\n",
       "#sk-container-id-3 div.sk-toggleable__content.fitted {\n",
       "  /* fitted */\n",
       "  background-color: var(--sklearn-color-fitted-level-0);\n",
       "}\n",
       "\n",
       "#sk-container-id-3 div.sk-toggleable__content pre {\n",
       "  margin: 0.2em;\n",
       "  border-radius: 0.25em;\n",
       "  color: var(--sklearn-color-text);\n",
       "  /* unfitted */\n",
       "  background-color: var(--sklearn-color-unfitted-level-0);\n",
       "}\n",
       "\n",
       "#sk-container-id-3 div.sk-toggleable__content.fitted pre {\n",
       "  /* unfitted */\n",
       "  background-color: var(--sklearn-color-fitted-level-0);\n",
       "}\n",
       "\n",
       "#sk-container-id-3 input.sk-toggleable__control:checked~div.sk-toggleable__content {\n",
       "  /* Expand drop-down */\n",
       "  max-height: 200px;\n",
       "  max-width: 100%;\n",
       "  overflow: auto;\n",
       "}\n",
       "\n",
       "#sk-container-id-3 input.sk-toggleable__control:checked~label.sk-toggleable__label-arrow:before {\n",
       "  content: \"▾\";\n",
       "}\n",
       "\n",
       "/* Pipeline/ColumnTransformer-specific style */\n",
       "\n",
       "#sk-container-id-3 div.sk-label input.sk-toggleable__control:checked~label.sk-toggleable__label {\n",
       "  color: var(--sklearn-color-text);\n",
       "  background-color: var(--sklearn-color-unfitted-level-2);\n",
       "}\n",
       "\n",
       "#sk-container-id-3 div.sk-label.fitted input.sk-toggleable__control:checked~label.sk-toggleable__label {\n",
       "  background-color: var(--sklearn-color-fitted-level-2);\n",
       "}\n",
       "\n",
       "/* Estimator-specific style */\n",
       "\n",
       "/* Colorize estimator box */\n",
       "#sk-container-id-3 div.sk-estimator input.sk-toggleable__control:checked~label.sk-toggleable__label {\n",
       "  /* unfitted */\n",
       "  background-color: var(--sklearn-color-unfitted-level-2);\n",
       "}\n",
       "\n",
       "#sk-container-id-3 div.sk-estimator.fitted input.sk-toggleable__control:checked~label.sk-toggleable__label {\n",
       "  /* fitted */\n",
       "  background-color: var(--sklearn-color-fitted-level-2);\n",
       "}\n",
       "\n",
       "#sk-container-id-3 div.sk-label label.sk-toggleable__label,\n",
       "#sk-container-id-3 div.sk-label label {\n",
       "  /* The background is the default theme color */\n",
       "  color: var(--sklearn-color-text-on-default-background);\n",
       "}\n",
       "\n",
       "/* On hover, darken the color of the background */\n",
       "#sk-container-id-3 div.sk-label:hover label.sk-toggleable__label {\n",
       "  color: var(--sklearn-color-text);\n",
       "  background-color: var(--sklearn-color-unfitted-level-2);\n",
       "}\n",
       "\n",
       "/* Label box, darken color on hover, fitted */\n",
       "#sk-container-id-3 div.sk-label.fitted:hover label.sk-toggleable__label.fitted {\n",
       "  color: var(--sklearn-color-text);\n",
       "  background-color: var(--sklearn-color-fitted-level-2);\n",
       "}\n",
       "\n",
       "/* Estimator label */\n",
       "\n",
       "#sk-container-id-3 div.sk-label label {\n",
       "  font-family: monospace;\n",
       "  font-weight: bold;\n",
       "  display: inline-block;\n",
       "  line-height: 1.2em;\n",
       "}\n",
       "\n",
       "#sk-container-id-3 div.sk-label-container {\n",
       "  text-align: center;\n",
       "}\n",
       "\n",
       "/* Estimator-specific */\n",
       "#sk-container-id-3 div.sk-estimator {\n",
       "  font-family: monospace;\n",
       "  border: 1px dotted var(--sklearn-color-border-box);\n",
       "  border-radius: 0.25em;\n",
       "  box-sizing: border-box;\n",
       "  margin-bottom: 0.5em;\n",
       "  /* unfitted */\n",
       "  background-color: var(--sklearn-color-unfitted-level-0);\n",
       "}\n",
       "\n",
       "#sk-container-id-3 div.sk-estimator.fitted {\n",
       "  /* fitted */\n",
       "  background-color: var(--sklearn-color-fitted-level-0);\n",
       "}\n",
       "\n",
       "/* on hover */\n",
       "#sk-container-id-3 div.sk-estimator:hover {\n",
       "  /* unfitted */\n",
       "  background-color: var(--sklearn-color-unfitted-level-2);\n",
       "}\n",
       "\n",
       "#sk-container-id-3 div.sk-estimator.fitted:hover {\n",
       "  /* fitted */\n",
       "  background-color: var(--sklearn-color-fitted-level-2);\n",
       "}\n",
       "\n",
       "/* Specification for estimator info (e.g. \"i\" and \"?\") */\n",
       "\n",
       "/* Common style for \"i\" and \"?\" */\n",
       "\n",
       ".sk-estimator-doc-link,\n",
       "a:link.sk-estimator-doc-link,\n",
       "a:visited.sk-estimator-doc-link {\n",
       "  float: right;\n",
       "  font-size: smaller;\n",
       "  line-height: 1em;\n",
       "  font-family: monospace;\n",
       "  background-color: var(--sklearn-color-background);\n",
       "  border-radius: 1em;\n",
       "  height: 1em;\n",
       "  width: 1em;\n",
       "  text-decoration: none !important;\n",
       "  margin-left: 1ex;\n",
       "  /* unfitted */\n",
       "  border: var(--sklearn-color-unfitted-level-1) 1pt solid;\n",
       "  color: var(--sklearn-color-unfitted-level-1);\n",
       "}\n",
       "\n",
       ".sk-estimator-doc-link.fitted,\n",
       "a:link.sk-estimator-doc-link.fitted,\n",
       "a:visited.sk-estimator-doc-link.fitted {\n",
       "  /* fitted */\n",
       "  border: var(--sklearn-color-fitted-level-1) 1pt solid;\n",
       "  color: var(--sklearn-color-fitted-level-1);\n",
       "}\n",
       "\n",
       "/* On hover */\n",
       "div.sk-estimator:hover .sk-estimator-doc-link:hover,\n",
       ".sk-estimator-doc-link:hover,\n",
       "div.sk-label-container:hover .sk-estimator-doc-link:hover,\n",
       ".sk-estimator-doc-link:hover {\n",
       "  /* unfitted */\n",
       "  background-color: var(--sklearn-color-unfitted-level-3);\n",
       "  color: var(--sklearn-color-background);\n",
       "  text-decoration: none;\n",
       "}\n",
       "\n",
       "div.sk-estimator.fitted:hover .sk-estimator-doc-link.fitted:hover,\n",
       ".sk-estimator-doc-link.fitted:hover,\n",
       "div.sk-label-container:hover .sk-estimator-doc-link.fitted:hover,\n",
       ".sk-estimator-doc-link.fitted:hover {\n",
       "  /* fitted */\n",
       "  background-color: var(--sklearn-color-fitted-level-3);\n",
       "  color: var(--sklearn-color-background);\n",
       "  text-decoration: none;\n",
       "}\n",
       "\n",
       "/* Span, style for the box shown on hovering the info icon */\n",
       ".sk-estimator-doc-link span {\n",
       "  display: none;\n",
       "  z-index: 9999;\n",
       "  position: relative;\n",
       "  font-weight: normal;\n",
       "  right: .2ex;\n",
       "  padding: .5ex;\n",
       "  margin: .5ex;\n",
       "  width: min-content;\n",
       "  min-width: 20ex;\n",
       "  max-width: 50ex;\n",
       "  color: var(--sklearn-color-text);\n",
       "  box-shadow: 2pt 2pt 4pt #999;\n",
       "  /* unfitted */\n",
       "  background: var(--sklearn-color-unfitted-level-0);\n",
       "  border: .5pt solid var(--sklearn-color-unfitted-level-3);\n",
       "}\n",
       "\n",
       ".sk-estimator-doc-link.fitted span {\n",
       "  /* fitted */\n",
       "  background: var(--sklearn-color-fitted-level-0);\n",
       "  border: var(--sklearn-color-fitted-level-3);\n",
       "}\n",
       "\n",
       ".sk-estimator-doc-link:hover span {\n",
       "  display: block;\n",
       "}\n",
       "\n",
       "/* \"?\"-specific style due to the `<a>` HTML tag */\n",
       "\n",
       "#sk-container-id-3 a.estimator_doc_link {\n",
       "  float: right;\n",
       "  font-size: 1rem;\n",
       "  line-height: 1em;\n",
       "  font-family: monospace;\n",
       "  background-color: var(--sklearn-color-background);\n",
       "  border-radius: 1rem;\n",
       "  height: 1rem;\n",
       "  width: 1rem;\n",
       "  text-decoration: none;\n",
       "  /* unfitted */\n",
       "  color: var(--sklearn-color-unfitted-level-1);\n",
       "  border: var(--sklearn-color-unfitted-level-1) 1pt solid;\n",
       "}\n",
       "\n",
       "#sk-container-id-3 a.estimator_doc_link.fitted {\n",
       "  /* fitted */\n",
       "  border: var(--sklearn-color-fitted-level-1) 1pt solid;\n",
       "  color: var(--sklearn-color-fitted-level-1);\n",
       "}\n",
       "\n",
       "/* On hover */\n",
       "#sk-container-id-3 a.estimator_doc_link:hover {\n",
       "  /* unfitted */\n",
       "  background-color: var(--sklearn-color-unfitted-level-3);\n",
       "  color: var(--sklearn-color-background);\n",
       "  text-decoration: none;\n",
       "}\n",
       "\n",
       "#sk-container-id-3 a.estimator_doc_link.fitted:hover {\n",
       "  /* fitted */\n",
       "  background-color: var(--sklearn-color-fitted-level-3);\n",
       "}\n",
       "</style><div id=\"sk-container-id-3\" class=\"sk-top-container\"><div class=\"sk-text-repr-fallback\"><pre>DecisionTreeRegressor()</pre><b>In a Jupyter environment, please rerun this cell to show the HTML representation or trust the notebook. <br />On GitHub, the HTML representation is unable to render, please try loading this page with nbviewer.org.</b></div><div class=\"sk-container\" hidden><div class=\"sk-item\"><div class=\"sk-estimator fitted sk-toggleable\"><input class=\"sk-toggleable__control sk-hidden--visually\" id=\"sk-estimator-id-13\" type=\"checkbox\" checked><label for=\"sk-estimator-id-13\" class=\"sk-toggleable__label fitted sk-toggleable__label-arrow fitted\">&nbsp;&nbsp;DecisionTreeRegressor<a class=\"sk-estimator-doc-link fitted\" rel=\"noreferrer\" target=\"_blank\" href=\"https://scikit-learn.org/1.4/modules/generated/sklearn.tree.DecisionTreeRegressor.html\">?<span>Documentation for DecisionTreeRegressor</span></a><span class=\"sk-estimator-doc-link fitted\">i<span>Fitted</span></span></label><div class=\"sk-toggleable__content fitted\"><pre>DecisionTreeRegressor()</pre></div> </div></div></div></div>"
      ],
      "text/plain": [
       "DecisionTreeRegressor()"
      ]
     },
     "execution_count": 24,
     "metadata": {},
     "output_type": "execute_result"
    }
   ],
   "source": [
    "%%time\n",
    "# Дерево решений - время обучения\n",
    "treereg.fit(X_train_prepared, y_train)"
   ]
  },
  {
   "cell_type": "markdown",
   "metadata": {},
   "source": [
    "## Анализ моделей"
   ]
  },
  {
   "cell_type": "code",
   "execution_count": 25,
   "metadata": {},
   "outputs": [
    {
     "name": "stdout",
     "output_type": "stream",
     "text": [
      "CPU times: user 15.1 s, sys: 11 ms, total: 15.1 s\n",
      "Wall time: 15.1 s\n"
     ]
    }
   ],
   "source": [
    "%%time\n",
    "# LGBM - время предсказания\n",
    "lgb_pred = lgbreg.predict(X_train_prepared)"
   ]
  },
  {
   "cell_type": "code",
   "execution_count": 26,
   "metadata": {},
   "outputs": [
    {
     "name": "stdout",
     "output_type": "stream",
     "text": [
      "CPU times: user 71.8 ms, sys: 36 µs, total: 71.8 ms\n",
      "Wall time: 113 ms\n"
     ]
    }
   ],
   "source": [
    "%%time\n",
    "# Дерево решений - время предсказания\n",
    "tree_pred = treereg.predict(X_train_prepared)"
   ]
  },
  {
   "cell_type": "code",
   "execution_count": 27,
   "metadata": {},
   "outputs": [
    {
     "data": {
      "text/html": [
       "<div>\n",
       "<style scoped>\n",
       "    .dataframe tbody tr th:only-of-type {\n",
       "        vertical-align: middle;\n",
       "    }\n",
       "\n",
       "    .dataframe tbody tr th {\n",
       "        vertical-align: top;\n",
       "    }\n",
       "\n",
       "    .dataframe thead th {\n",
       "        text-align: right;\n",
       "    }\n",
       "</style>\n",
       "<table border=\"1\" class=\"dataframe\">\n",
       "  <thead>\n",
       "    <tr style=\"text-align: right;\">\n",
       "      <th></th>\n",
       "      <th>params</th>\n",
       "      <th>rank_test_score</th>\n",
       "      <th>mean_test_score</th>\n",
       "      <th>std_test_score</th>\n",
       "    </tr>\n",
       "    <tr>\n",
       "      <th>kernel</th>\n",
       "      <th></th>\n",
       "      <th></th>\n",
       "      <th></th>\n",
       "      <th></th>\n",
       "    </tr>\n",
       "  </thead>\n",
       "  <tbody>\n",
       "    <tr>\n",
       "      <th>LGBMRegressor(metric='rmse', random_state=42)_5000_1000</th>\n",
       "      <td>{'model': LGBMRegressor(metric='rmse', random_...</td>\n",
       "      <td>1</td>\n",
       "      <td>1528.521565</td>\n",
       "      <td>18.608103</td>\n",
       "    </tr>\n",
       "    <tr>\n",
       "      <th>LGBMRegressor(metric='rmse', random_state=42)_10_1000</th>\n",
       "      <td>{'model': LGBMRegressor(metric='rmse', random_...</td>\n",
       "      <td>2</td>\n",
       "      <td>1530.548084</td>\n",
       "      <td>17.977037</td>\n",
       "    </tr>\n",
       "    <tr>\n",
       "      <th>LGBMRegressor(metric='rmse', random_state=42)_5000_20000</th>\n",
       "      <td>{'model': LGBMRegressor(metric='rmse', random_...</td>\n",
       "      <td>3</td>\n",
       "      <td>1559.750305</td>\n",
       "      <td>16.734459</td>\n",
       "    </tr>\n",
       "    <tr>\n",
       "      <th>LGBMRegressor(metric='rmse', random_state=42)_10_20000</th>\n",
       "      <td>{'model': LGBMRegressor(metric='rmse', random_...</td>\n",
       "      <td>4</td>\n",
       "      <td>1563.820482</td>\n",
       "      <td>14.513966</td>\n",
       "    </tr>\n",
       "    <tr>\n",
       "      <th>DecisionTreeRegressor()_2_500</th>\n",
       "      <td>{'model': DecisionTreeRegressor(), 'model__max...</td>\n",
       "      <td>5</td>\n",
       "      <td>3178.092116</td>\n",
       "      <td>15.689932</td>\n",
       "    </tr>\n",
       "    <tr>\n",
       "      <th>DecisionTreeRegressor()_2_1000</th>\n",
       "      <td>{'model': DecisionTreeRegressor(), 'model__max...</td>\n",
       "      <td>5</td>\n",
       "      <td>3178.092116</td>\n",
       "      <td>15.689932</td>\n",
       "    </tr>\n",
       "  </tbody>\n",
       "</table>\n",
       "</div>"
      ],
      "text/plain": [
       "                                                                                               params  \\\n",
       "kernel                                                                                                  \n",
       "LGBMRegressor(metric='rmse', random_state=42)_5...  {'model': LGBMRegressor(metric='rmse', random_...   \n",
       "LGBMRegressor(metric='rmse', random_state=42)_1...  {'model': LGBMRegressor(metric='rmse', random_...   \n",
       "LGBMRegressor(metric='rmse', random_state=42)_5...  {'model': LGBMRegressor(metric='rmse', random_...   \n",
       "LGBMRegressor(metric='rmse', random_state=42)_1...  {'model': LGBMRegressor(metric='rmse', random_...   \n",
       "DecisionTreeRegressor()_2_500                       {'model': DecisionTreeRegressor(), 'model__max...   \n",
       "DecisionTreeRegressor()_2_1000                      {'model': DecisionTreeRegressor(), 'model__max...   \n",
       "\n",
       "                                                    rank_test_score  \\\n",
       "kernel                                                                \n",
       "LGBMRegressor(metric='rmse', random_state=42)_5...                1   \n",
       "LGBMRegressor(metric='rmse', random_state=42)_1...                2   \n",
       "LGBMRegressor(metric='rmse', random_state=42)_5...                3   \n",
       "LGBMRegressor(metric='rmse', random_state=42)_1...                4   \n",
       "DecisionTreeRegressor()_2_500                                     5   \n",
       "DecisionTreeRegressor()_2_1000                                    5   \n",
       "\n",
       "                                                    mean_test_score  \\\n",
       "kernel                                                                \n",
       "LGBMRegressor(metric='rmse', random_state=42)_5...      1528.521565   \n",
       "LGBMRegressor(metric='rmse', random_state=42)_1...      1530.548084   \n",
       "LGBMRegressor(metric='rmse', random_state=42)_5...      1559.750305   \n",
       "LGBMRegressor(metric='rmse', random_state=42)_1...      1563.820482   \n",
       "DecisionTreeRegressor()_2_500                           3178.092116   \n",
       "DecisionTreeRegressor()_2_1000                          3178.092116   \n",
       "\n",
       "                                                    std_test_score  \n",
       "kernel                                                              \n",
       "LGBMRegressor(metric='rmse', random_state=42)_5...       18.608103  \n",
       "LGBMRegressor(metric='rmse', random_state=42)_1...       17.977037  \n",
       "LGBMRegressor(metric='rmse', random_state=42)_5...       16.734459  \n",
       "LGBMRegressor(metric='rmse', random_state=42)_1...       14.513966  \n",
       "DecisionTreeRegressor()_2_500                            15.689932  \n",
       "DecisionTreeRegressor()_2_1000                           15.689932  "
      ]
     },
     "execution_count": 27,
     "metadata": {},
     "output_type": "execute_result"
    }
   ],
   "source": [
    "results_df_reg = pd.DataFrame(grid_reg.cv_results_)\n",
    "results_df_reg = results_df_reg.sort_values(by=[\"rank_test_score\"])\n",
    "results_df_reg = results_df_reg.set_index(\n",
    "    results_df_reg[\"params\"].apply(\n",
    "        lambda x: \"_\".join(str(val) for val in x.values())\n",
    "    )\n",
    ").rename_axis(\"kernel\")\n",
    "results_df_reg['mean_test_score'] *= -1\n",
    "results_df_reg[\n",
    "    [\"params\", \"rank_test_score\", \"mean_test_score\", \"std_test_score\"]\n",
    "]"
   ]
  },
  {
   "cell_type": "markdown",
   "metadata": {},
   "source": [
    "## Лучшая модель"
   ]
  },
  {
   "cell_type": "markdown",
   "metadata": {},
   "source": [
    "Градиентный бустинг хоть и обучается сильно дольше, показывает лучший результат RMSE. Выбираем эту модель и проверим её на тестовой выборке."
   ]
  },
  {
   "cell_type": "code",
   "execution_count": 28,
   "metadata": {},
   "outputs": [],
   "source": [
    "y_test_pred = lgbreg.predict(X_test_prepared)"
   ]
  },
  {
   "cell_type": "code",
   "execution_count": 29,
   "metadata": {},
   "outputs": [
    {
     "data": {
      "text/plain": [
       "1522.0793305378"
      ]
     },
     "execution_count": 29,
     "metadata": {},
     "output_type": "execute_result"
    }
   ],
   "source": [
    "# RMSE на тестовой выборке\n",
    "mean_squared_error(y_test, y_test_pred) ** 0.5"
   ]
  },
  {
   "cell_type": "markdown",
   "metadata": {},
   "source": [
    "## Общий вывод"
   ]
  },
  {
   "cell_type": "markdown",
   "metadata": {},
   "source": [
    "**Перед нами стояла задача:**\n",
    "\n",
    "- Разработать модель, которая бы предсказывала стоимость автомобиля;\n",
    "\n",
    "**Что мы сделали:**\n",
    "\n",
    "- Загрузили и обработали данные: проверили наличие дублей и пропущенных значений;\n",
    "- Провели исследовательский анализ данных: посмотрели, как распределяются переменные в разных разрезах;\n",
    "- Избавились от неинформативных переменных и строках, которые вносят шум;\n",
    "- Создали пайплайн, заполняющий пропуски в данных и кодирующий переменные;\n",
    "- Протестировали две модели - дерево решений и градиентный бустинг, оценив время выполнения и RMSE;\n",
    "\n",
    "**Результат:**\n",
    "- Градиентный бустинг обучается и предсказывает в несколько десятков раз медленнее\n",
    "- Предсказания градиентного бустинга значительно более точные. При целевом значении RMSE = 2500, метрика градиентного бустинга получилась около 1500, а у дерева решений - чуть больше 1900;"
   ]
  }
 ],
 "metadata": {
  "ExecuteTimeLog": [
   {
    "duration": 50,
    "start_time": "2024-01-10T13:46:21.089Z"
   },
   {
    "duration": 455,
    "start_time": "2024-01-10T13:46:23.111Z"
   },
   {
    "duration": 2943,
    "start_time": "2024-01-10T13:46:23.691Z"
   },
   {
    "duration": 36,
    "start_time": "2024-01-10T13:53:17.262Z"
   },
   {
    "duration": 5,
    "start_time": "2024-01-10T13:53:41.744Z"
   },
   {
    "duration": 4307,
    "start_time": "2024-01-10T13:55:30.436Z"
   },
   {
    "duration": 1251,
    "start_time": "2024-01-10T13:55:39.698Z"
   },
   {
    "duration": 28747,
    "start_time": "2024-01-10T13:56:47.412Z"
   },
   {
    "duration": 28616,
    "start_time": "2024-01-10T13:57:38.521Z"
   },
   {
    "duration": 376,
    "start_time": "2024-01-10T13:58:15.385Z"
   },
   {
    "duration": 4651,
    "start_time": "2024-01-11T15:22:43.534Z"
   },
   {
    "duration": 1595,
    "start_time": "2024-01-11T15:22:48.187Z"
   },
   {
    "duration": 1152,
    "start_time": "2024-01-11T15:22:49.783Z"
   },
   {
    "duration": 30651,
    "start_time": "2024-01-11T15:22:50.937Z"
   },
   {
    "duration": 279,
    "start_time": "2024-01-11T15:23:21.589Z"
   },
   {
    "duration": 26,
    "start_time": "2024-01-11T15:23:21.870Z"
   },
   {
    "duration": 144,
    "start_time": "2024-01-11T15:30:00.917Z"
   },
   {
    "duration": 31,
    "start_time": "2024-01-11T15:30:23.426Z"
   },
   {
    "duration": 12,
    "start_time": "2024-01-11T15:30:43.419Z"
   },
   {
    "duration": 873,
    "start_time": "2024-01-11T15:30:50.200Z"
   },
   {
    "duration": 47,
    "start_time": "2024-01-11T15:30:54.293Z"
   },
   {
    "duration": 873,
    "start_time": "2024-01-11T15:31:46.834Z"
   },
   {
    "duration": 50,
    "start_time": "2024-01-11T15:31:48.907Z"
   },
   {
    "duration": 13,
    "start_time": "2024-01-11T15:31:53.698Z"
   },
   {
    "duration": 844,
    "start_time": "2024-01-11T15:31:57.246Z"
   },
   {
    "duration": 45,
    "start_time": "2024-01-11T15:32:00.610Z"
   },
   {
    "duration": 1222,
    "start_time": "2024-01-11T15:32:23.004Z"
   },
   {
    "duration": 43,
    "start_time": "2024-01-11T15:32:31.402Z"
   },
   {
    "duration": 41,
    "start_time": "2024-01-11T15:34:05.364Z"
   },
   {
    "duration": 6,
    "start_time": "2024-01-11T15:34:25.269Z"
   },
   {
    "duration": 31,
    "start_time": "2024-01-11T15:34:30.943Z"
   },
   {
    "duration": 4,
    "start_time": "2024-01-11T15:34:31.669Z"
   },
   {
    "duration": 10,
    "start_time": "2024-01-11T15:34:47.014Z"
   },
   {
    "duration": 17,
    "start_time": "2024-01-11T15:35:22.841Z"
   },
   {
    "duration": 8,
    "start_time": "2024-01-11T15:35:28.579Z"
   },
   {
    "duration": 17,
    "start_time": "2024-01-11T15:35:36.109Z"
   },
   {
    "duration": 25,
    "start_time": "2024-01-11T15:35:41.849Z"
   },
   {
    "duration": 18,
    "start_time": "2024-01-11T15:35:56.730Z"
   },
   {
    "duration": 12,
    "start_time": "2024-01-11T15:36:03.763Z"
   },
   {
    "duration": 32,
    "start_time": "2024-01-11T15:36:10.180Z"
   },
   {
    "duration": 5,
    "start_time": "2024-01-11T15:40:25.889Z"
   },
   {
    "duration": 4198,
    "start_time": "2024-01-12T05:58:04.427Z"
   },
   {
    "duration": 1511,
    "start_time": "2024-01-12T05:58:08.627Z"
   },
   {
    "duration": 1147,
    "start_time": "2024-01-12T05:58:10.140Z"
   },
   {
    "duration": 30385,
    "start_time": "2024-01-12T05:58:11.289Z"
   },
   {
    "duration": 248,
    "start_time": "2024-01-12T05:58:41.676Z"
   },
   {
    "duration": 39,
    "start_time": "2024-01-12T05:58:41.927Z"
   },
   {
    "duration": 50,
    "start_time": "2024-01-12T05:58:41.969Z"
   },
   {
    "duration": 29,
    "start_time": "2024-01-12T05:58:42.021Z"
   },
   {
    "duration": 3,
    "start_time": "2024-01-12T05:58:42.051Z"
   },
   {
    "duration": 76,
    "start_time": "2024-01-12T06:07:55.411Z"
   },
   {
    "duration": 3,
    "start_time": "2024-01-12T06:09:17.162Z"
   },
   {
    "duration": 110,
    "start_time": "2024-01-12T06:09:58.601Z"
   },
   {
    "duration": 86,
    "start_time": "2024-01-12T06:10:08.138Z"
   },
   {
    "duration": 16,
    "start_time": "2024-01-12T06:11:44.679Z"
   },
   {
    "duration": 4,
    "start_time": "2024-01-12T06:13:59.488Z"
   },
   {
    "duration": 36,
    "start_time": "2024-01-12T06:14:43.528Z"
   },
   {
    "duration": 5,
    "start_time": "2024-01-12T06:42:16.984Z"
   },
   {
    "duration": 808,
    "start_time": "2024-01-12T06:42:20.590Z"
   },
   {
    "duration": 27492,
    "start_time": "2024-01-12T06:42:21.400Z"
   },
   {
    "duration": 143,
    "start_time": "2024-01-12T06:42:48.894Z"
   },
   {
    "duration": 37,
    "start_time": "2024-01-12T06:42:49.039Z"
   },
   {
    "duration": 39,
    "start_time": "2024-01-12T06:42:49.077Z"
   },
   {
    "duration": 27,
    "start_time": "2024-01-12T06:42:49.117Z"
   },
   {
    "duration": 27,
    "start_time": "2024-01-12T06:42:49.146Z"
   },
   {
    "duration": 99,
    "start_time": "2024-01-12T06:42:49.174Z"
   },
   {
    "duration": 0,
    "start_time": "2024-01-12T06:42:49.274Z"
   },
   {
    "duration": 17,
    "start_time": "2024-01-12T06:42:53.780Z"
   },
   {
    "duration": 5,
    "start_time": "2024-01-12T06:43:04.860Z"
   },
   {
    "duration": 49,
    "start_time": "2024-01-12T06:44:37.241Z"
   },
   {
    "duration": 75,
    "start_time": "2024-01-12T06:44:43.317Z"
   },
   {
    "duration": 3,
    "start_time": "2024-01-12T06:45:20.110Z"
   },
   {
    "duration": 82,
    "start_time": "2024-01-12T06:45:23.753Z"
   },
   {
    "duration": 63,
    "start_time": "2024-01-12T06:45:51.993Z"
   },
   {
    "duration": 71,
    "start_time": "2024-01-12T06:45:59.779Z"
   },
   {
    "duration": 2446,
    "start_time": "2024-01-12T06:46:04.175Z"
   },
   {
    "duration": 5670,
    "start_time": "2024-01-12T06:46:07.173Z"
   },
   {
    "duration": 5,
    "start_time": "2024-01-12T06:46:14.565Z"
   },
   {
    "duration": 900,
    "start_time": "2024-01-12T06:46:14.742Z"
   },
   {
    "duration": 27837,
    "start_time": "2024-01-12T06:46:15.644Z"
   },
   {
    "duration": 140,
    "start_time": "2024-01-12T06:46:43.482Z"
   },
   {
    "duration": 43,
    "start_time": "2024-01-12T06:46:43.624Z"
   },
   {
    "duration": 46,
    "start_time": "2024-01-12T06:46:43.669Z"
   },
   {
    "duration": 29,
    "start_time": "2024-01-12T06:46:43.716Z"
   },
   {
    "duration": 40,
    "start_time": "2024-01-12T06:46:43.746Z"
   },
   {
    "duration": 98,
    "start_time": "2024-01-12T06:46:43.787Z"
   },
   {
    "duration": 85,
    "start_time": "2024-01-12T06:58:26.874Z"
   },
   {
    "duration": 78,
    "start_time": "2024-01-12T06:58:35.478Z"
   },
   {
    "duration": 67,
    "start_time": "2024-01-12T06:59:17.473Z"
   },
   {
    "duration": 11,
    "start_time": "2024-01-12T06:59:18.170Z"
   },
   {
    "duration": 25,
    "start_time": "2024-01-12T07:01:20.619Z"
   },
   {
    "duration": 13,
    "start_time": "2024-01-12T07:02:49.907Z"
   },
   {
    "duration": 10,
    "start_time": "2024-01-12T07:03:03.462Z"
   },
   {
    "duration": 5,
    "start_time": "2024-01-12T07:03:06.229Z"
   },
   {
    "duration": 15,
    "start_time": "2024-01-12T07:03:08.050Z"
   },
   {
    "duration": 4,
    "start_time": "2024-01-12T07:05:02.606Z"
   },
   {
    "duration": 368,
    "start_time": "2024-01-12T07:05:14.264Z"
   },
   {
    "duration": 8,
    "start_time": "2024-01-12T07:05:29.627Z"
   },
   {
    "duration": 3,
    "start_time": "2024-01-12T07:05:32.373Z"
   },
   {
    "duration": 162,
    "start_time": "2024-01-12T07:05:32.646Z"
   },
   {
    "duration": 223,
    "start_time": "2024-01-12T07:05:41.502Z"
   },
   {
    "duration": 218,
    "start_time": "2024-01-12T07:05:44.297Z"
   },
   {
    "duration": 17,
    "start_time": "2024-01-12T07:05:48.649Z"
   },
   {
    "duration": 220,
    "start_time": "2024-01-12T07:06:12.398Z"
   },
   {
    "duration": 216,
    "start_time": "2024-01-12T07:06:19.624Z"
   },
   {
    "duration": 249,
    "start_time": "2024-01-12T07:06:43.043Z"
   },
   {
    "duration": 16,
    "start_time": "2024-01-12T07:06:48.096Z"
   },
   {
    "duration": 2340,
    "start_time": "2024-01-12T07:07:06.689Z"
   },
   {
    "duration": 2816,
    "start_time": "2024-01-12T07:07:09.032Z"
   },
   {
    "duration": 1582,
    "start_time": "2024-01-12T07:07:11.850Z"
   },
   {
    "duration": 870,
    "start_time": "2024-01-12T07:07:13.434Z"
   },
   {
    "duration": 28821,
    "start_time": "2024-01-12T07:07:14.306Z"
   },
   {
    "duration": 295,
    "start_time": "2024-01-12T07:07:43.128Z"
   },
   {
    "duration": 45,
    "start_time": "2024-01-12T07:07:43.425Z"
   },
   {
    "duration": 48,
    "start_time": "2024-01-12T07:07:43.471Z"
   },
   {
    "duration": 29,
    "start_time": "2024-01-12T07:07:43.520Z"
   },
   {
    "duration": 38,
    "start_time": "2024-01-12T07:07:43.550Z"
   },
   {
    "duration": 92,
    "start_time": "2024-01-12T07:07:43.590Z"
   },
   {
    "duration": 3,
    "start_time": "2024-01-12T07:07:43.684Z"
   },
   {
    "duration": 285,
    "start_time": "2024-01-12T07:07:43.688Z"
   },
   {
    "duration": 16,
    "start_time": "2024-01-12T07:07:43.975Z"
   },
   {
    "duration": 17,
    "start_time": "2024-01-12T07:10:40.847Z"
   },
   {
    "duration": 16,
    "start_time": "2024-01-12T07:10:50.176Z"
   },
   {
    "duration": 124,
    "start_time": "2024-01-12T07:11:39.797Z"
   },
   {
    "duration": 12,
    "start_time": "2024-01-12T07:11:47.090Z"
   },
   {
    "duration": 4,
    "start_time": "2024-01-12T07:12:31.994Z"
   },
   {
    "duration": 4,
    "start_time": "2024-01-12T07:12:36.820Z"
   },
   {
    "duration": 17,
    "start_time": "2024-01-12T07:12:47.610Z"
   },
   {
    "duration": 16,
    "start_time": "2024-01-12T07:12:56.035Z"
   },
   {
    "duration": 16,
    "start_time": "2024-01-12T07:13:57.797Z"
   },
   {
    "duration": 3,
    "start_time": "2024-01-12T07:15:28.960Z"
   },
   {
    "duration": 20,
    "start_time": "2024-01-12T07:15:33.654Z"
   },
   {
    "duration": 23,
    "start_time": "2024-01-12T07:16:20.960Z"
   },
   {
    "duration": 3,
    "start_time": "2024-01-12T07:16:43.267Z"
   },
   {
    "duration": 36,
    "start_time": "2024-01-12T07:16:45.641Z"
   },
   {
    "duration": 7,
    "start_time": "2024-01-12T07:59:19.724Z"
   },
   {
    "duration": 7,
    "start_time": "2024-01-12T07:59:48.420Z"
   },
   {
    "duration": 10,
    "start_time": "2024-01-12T08:00:05.192Z"
   },
   {
    "duration": 759,
    "start_time": "2024-01-12T08:00:16.170Z"
   },
   {
    "duration": 517,
    "start_time": "2024-01-12T08:00:29.631Z"
   },
   {
    "duration": 493,
    "start_time": "2024-01-12T08:00:43.020Z"
   },
   {
    "duration": 7,
    "start_time": "2024-01-12T08:00:45.916Z"
   },
   {
    "duration": 18,
    "start_time": "2024-01-12T08:01:39.520Z"
   },
   {
    "duration": 71,
    "start_time": "2024-01-12T08:01:48.996Z"
   },
   {
    "duration": 4,
    "start_time": "2024-01-12T08:01:49.736Z"
   },
   {
    "duration": 751,
    "start_time": "2024-01-12T08:01:50.288Z"
   },
   {
    "duration": 1642,
    "start_time": "2024-01-12T08:02:21.361Z"
   },
   {
    "duration": 10,
    "start_time": "2024-01-12T08:03:12.200Z"
   },
   {
    "duration": 17,
    "start_time": "2024-01-12T08:03:30.782Z"
   },
   {
    "duration": 731,
    "start_time": "2024-01-12T08:03:42.439Z"
   },
   {
    "duration": 15,
    "start_time": "2024-01-12T08:03:46.946Z"
   },
   {
    "duration": 5,
    "start_time": "2024-01-12T08:05:29.909Z"
   },
   {
    "duration": 690,
    "start_time": "2024-01-12T08:05:30.422Z"
   },
   {
    "duration": 9,
    "start_time": "2024-01-12T08:05:37.673Z"
   },
   {
    "duration": 61,
    "start_time": "2024-01-12T08:06:12.627Z"
   },
   {
    "duration": 10,
    "start_time": "2024-01-12T08:06:13.099Z"
   },
   {
    "duration": 2475,
    "start_time": "2024-01-12T08:06:20.750Z"
   },
   {
    "duration": 2904,
    "start_time": "2024-01-12T08:06:23.228Z"
   },
   {
    "duration": 5,
    "start_time": "2024-01-12T08:06:26.134Z"
   },
   {
    "duration": 829,
    "start_time": "2024-01-12T08:06:26.141Z"
   },
   {
    "duration": 28250,
    "start_time": "2024-01-12T08:06:26.973Z"
   },
   {
    "duration": 149,
    "start_time": "2024-01-12T08:06:55.225Z"
   },
   {
    "duration": 39,
    "start_time": "2024-01-12T08:06:55.376Z"
   },
   {
    "duration": 40,
    "start_time": "2024-01-12T08:06:55.417Z"
   },
   {
    "duration": 30,
    "start_time": "2024-01-12T08:06:55.459Z"
   },
   {
    "duration": 40,
    "start_time": "2024-01-12T08:06:55.515Z"
   },
   {
    "duration": 86,
    "start_time": "2024-01-12T08:06:55.557Z"
   },
   {
    "duration": 13,
    "start_time": "2024-01-12T08:06:55.644Z"
   },
   {
    "duration": 11,
    "start_time": "2024-01-12T08:07:04.384Z"
   },
   {
    "duration": 18,
    "start_time": "2024-01-12T08:07:09.777Z"
   },
   {
    "duration": 282,
    "start_time": "2024-01-12T08:07:12.600Z"
   },
   {
    "duration": 18,
    "start_time": "2024-01-12T08:07:54.794Z"
   },
   {
    "duration": 2861,
    "start_time": "2024-01-12T08:07:56.029Z"
   },
   {
    "duration": 3438,
    "start_time": "2024-01-12T08:08:34.507Z"
   },
   {
    "duration": 4,
    "start_time": "2024-01-12T08:08:51.054Z"
   },
   {
    "duration": 2543,
    "start_time": "2024-01-12T08:09:51.384Z"
   },
   {
    "duration": 2898,
    "start_time": "2024-01-12T08:09:53.931Z"
   },
   {
    "duration": 2111,
    "start_time": "2024-01-12T08:09:56.831Z"
   },
   {
    "duration": 1107,
    "start_time": "2024-01-12T08:09:58.944Z"
   },
   {
    "duration": 29199,
    "start_time": "2024-01-12T08:10:00.052Z"
   },
   {
    "duration": 329,
    "start_time": "2024-01-12T08:10:29.253Z"
   },
   {
    "duration": 40,
    "start_time": "2024-01-12T08:10:29.584Z"
   },
   {
    "duration": 38,
    "start_time": "2024-01-12T08:10:29.625Z"
   },
   {
    "duration": 28,
    "start_time": "2024-01-12T08:10:29.664Z"
   },
   {
    "duration": 56,
    "start_time": "2024-01-12T08:10:29.694Z"
   },
   {
    "duration": 85,
    "start_time": "2024-01-12T08:10:29.751Z"
   },
   {
    "duration": 19,
    "start_time": "2024-01-12T08:10:29.838Z"
   },
   {
    "duration": 3658,
    "start_time": "2024-01-12T08:10:29.859Z"
   },
   {
    "duration": 3,
    "start_time": "2024-01-12T08:10:33.519Z"
   },
   {
    "duration": 112,
    "start_time": "2024-01-12T08:10:47.919Z"
   },
   {
    "duration": 4,
    "start_time": "2024-01-12T08:11:07.962Z"
   },
   {
    "duration": 4,
    "start_time": "2024-01-12T08:11:33.635Z"
   },
   {
    "duration": 5,
    "start_time": "2024-01-12T08:11:42.327Z"
   },
   {
    "duration": 6,
    "start_time": "2024-01-12T08:11:49.268Z"
   },
   {
    "duration": 6,
    "start_time": "2024-01-12T08:12:01.651Z"
   },
   {
    "duration": 5,
    "start_time": "2024-01-12T08:12:41.935Z"
   },
   {
    "duration": 4,
    "start_time": "2024-01-12T08:12:46.482Z"
   },
   {
    "duration": 5,
    "start_time": "2024-01-12T08:12:51.052Z"
   },
   {
    "duration": 113,
    "start_time": "2024-01-12T08:12:59.669Z"
   },
   {
    "duration": 5,
    "start_time": "2024-01-12T08:13:06.650Z"
   },
   {
    "duration": 6,
    "start_time": "2024-01-12T08:13:14.164Z"
   },
   {
    "duration": 127,
    "start_time": "2024-01-12T08:13:21.075Z"
   },
   {
    "duration": 618,
    "start_time": "2024-01-12T08:14:29.219Z"
   },
   {
    "duration": 621,
    "start_time": "2024-01-12T08:14:41.639Z"
   },
   {
    "duration": 79,
    "start_time": "2024-01-12T08:14:53.466Z"
   },
   {
    "duration": 110,
    "start_time": "2024-01-12T08:16:31.460Z"
   },
   {
    "duration": 2,
    "start_time": "2024-01-12T08:16:46.267Z"
   },
   {
    "duration": 2439,
    "start_time": "2024-01-12T08:17:15.055Z"
   },
   {
    "duration": 2799,
    "start_time": "2024-01-12T08:17:17.496Z"
   },
   {
    "duration": 1526,
    "start_time": "2024-01-12T08:17:20.297Z"
   },
   {
    "duration": 889,
    "start_time": "2024-01-12T08:17:21.825Z"
   },
   {
    "duration": 28810,
    "start_time": "2024-01-12T08:17:22.716Z"
   },
   {
    "duration": 298,
    "start_time": "2024-01-12T08:17:51.527Z"
   },
   {
    "duration": 42,
    "start_time": "2024-01-12T08:17:51.827Z"
   },
   {
    "duration": 51,
    "start_time": "2024-01-12T08:17:51.870Z"
   },
   {
    "duration": 27,
    "start_time": "2024-01-12T08:17:51.923Z"
   },
   {
    "duration": 37,
    "start_time": "2024-01-12T08:17:51.951Z"
   },
   {
    "duration": 69,
    "start_time": "2024-01-12T08:17:52.014Z"
   },
   {
    "duration": 40,
    "start_time": "2024-01-12T08:17:52.084Z"
   },
   {
    "duration": 3453,
    "start_time": "2024-01-12T08:17:52.126Z"
   },
   {
    "duration": 3,
    "start_time": "2024-01-12T08:17:55.581Z"
   },
   {
    "duration": 167943,
    "start_time": "2024-01-12T08:17:55.585Z"
   },
   {
    "duration": 59629,
    "start_time": "2024-01-12T08:27:55.086Z"
   },
   {
    "duration": 4,
    "start_time": "2024-01-12T08:28:54.718Z"
   },
   {
    "duration": 3,
    "start_time": "2024-01-12T08:30:17.003Z"
   },
   {
    "duration": 2579,
    "start_time": "2024-01-12T08:30:51.642Z"
   },
   {
    "duration": 3041,
    "start_time": "2024-01-12T08:30:54.224Z"
   },
   {
    "duration": 1465,
    "start_time": "2024-01-12T08:30:57.267Z"
   },
   {
    "duration": 925,
    "start_time": "2024-01-12T08:30:58.734Z"
   },
   {
    "duration": 30151,
    "start_time": "2024-01-12T08:30:59.662Z"
   },
   {
    "duration": 393,
    "start_time": "2024-01-12T08:31:29.815Z"
   },
   {
    "duration": 43,
    "start_time": "2024-01-12T08:31:30.210Z"
   },
   {
    "duration": 374,
    "start_time": "2024-01-12T08:31:30.255Z"
   },
   {
    "duration": 129,
    "start_time": "2024-01-12T08:31:30.631Z"
   },
   {
    "duration": 123,
    "start_time": "2024-01-12T08:31:30.762Z"
   },
   {
    "duration": 81,
    "start_time": "2024-01-12T08:31:30.888Z"
   },
   {
    "duration": 102,
    "start_time": "2024-01-12T08:31:30.970Z"
   },
   {
    "duration": 3937,
    "start_time": "2024-01-12T08:31:31.074Z"
   },
   {
    "duration": 3,
    "start_time": "2024-01-12T08:31:35.013Z"
   },
   {
    "duration": 61403,
    "start_time": "2024-01-12T08:31:35.017Z"
   },
   {
    "duration": 27602,
    "start_time": "2024-01-12T08:32:36.423Z"
   },
   {
    "duration": 1312,
    "start_time": "2024-01-12T09:08:36.008Z"
   },
   {
    "duration": 1002,
    "start_time": "2024-01-12T09:09:24.922Z"
   },
   {
    "duration": 112,
    "start_time": "2024-01-12T09:09:59.038Z"
   },
   {
    "duration": 3,
    "start_time": "2024-01-12T09:10:04.099Z"
   },
   {
    "duration": 3,
    "start_time": "2024-01-12T09:10:10.905Z"
   },
   {
    "duration": 995,
    "start_time": "2024-01-12T09:13:09.624Z"
   },
   {
    "duration": 2445,
    "start_time": "2024-01-12T09:13:47.573Z"
   },
   {
    "duration": 2782,
    "start_time": "2024-01-12T09:13:50.020Z"
   },
   {
    "duration": 1487,
    "start_time": "2024-01-12T09:13:52.804Z"
   },
   {
    "duration": 925,
    "start_time": "2024-01-12T09:13:54.293Z"
   },
   {
    "duration": 29097,
    "start_time": "2024-01-12T09:13:55.220Z"
   },
   {
    "duration": 278,
    "start_time": "2024-01-12T09:14:24.318Z"
   },
   {
    "duration": 47,
    "start_time": "2024-01-12T09:14:24.597Z"
   },
   {
    "duration": 42,
    "start_time": "2024-01-12T09:14:24.645Z"
   },
   {
    "duration": 39,
    "start_time": "2024-01-12T09:14:24.689Z"
   },
   {
    "duration": 38,
    "start_time": "2024-01-12T09:14:24.730Z"
   },
   {
    "duration": 91,
    "start_time": "2024-01-12T09:14:24.770Z"
   },
   {
    "duration": 20,
    "start_time": "2024-01-12T09:14:24.863Z"
   },
   {
    "duration": 3705,
    "start_time": "2024-01-12T09:14:24.884Z"
   },
   {
    "duration": 3,
    "start_time": "2024-01-12T09:14:28.590Z"
   },
   {
    "duration": 89831,
    "start_time": "2024-01-12T09:14:28.594Z"
   },
   {
    "duration": 27303,
    "start_time": "2024-01-12T09:15:58.427Z"
   },
   {
    "duration": 1133,
    "start_time": "2024-01-12T09:16:25.816Z"
   },
   {
    "duration": 267,
    "start_time": "2024-01-12T09:16:26.951Z"
   },
   {
    "duration": 94,
    "start_time": "2024-01-12T09:16:27.221Z"
   },
   {
    "duration": 9,
    "start_time": "2024-01-12T14:25:56.279Z"
   },
   {
    "duration": 79,
    "start_time": "2024-01-12T14:27:41.613Z"
   },
   {
    "duration": 46,
    "start_time": "2024-01-12T14:27:46.373Z"
   },
   {
    "duration": 4163,
    "start_time": "2024-01-12T14:27:51.415Z"
   },
   {
    "duration": 6349,
    "start_time": "2024-01-12T14:27:55.580Z"
   },
   {
    "duration": 1670,
    "start_time": "2024-01-12T14:28:01.931Z"
   },
   {
    "duration": 5,
    "start_time": "2024-01-12T14:28:03.602Z"
   },
   {
    "duration": 1132,
    "start_time": "2024-01-12T14:28:03.608Z"
   },
   {
    "duration": 29362,
    "start_time": "2024-01-12T14:28:04.742Z"
   },
   {
    "duration": 317,
    "start_time": "2024-01-12T14:28:34.106Z"
   },
   {
    "duration": 49,
    "start_time": "2024-01-12T14:28:34.425Z"
   },
   {
    "duration": 45,
    "start_time": "2024-01-12T14:28:34.476Z"
   },
   {
    "duration": 79,
    "start_time": "2024-01-12T14:28:34.522Z"
   },
   {
    "duration": 3,
    "start_time": "2024-01-12T14:29:26.919Z"
   },
   {
    "duration": 343,
    "start_time": "2024-01-12T14:29:33.808Z"
   },
   {
    "duration": 423,
    "start_time": "2024-01-12T14:29:44.399Z"
   },
   {
    "duration": 416,
    "start_time": "2024-01-12T14:30:18.695Z"
   },
   {
    "duration": 426,
    "start_time": "2024-01-12T14:30:24.967Z"
   },
   {
    "duration": 406,
    "start_time": "2024-01-12T14:30:33.523Z"
   },
   {
    "duration": 438,
    "start_time": "2024-01-12T14:30:54.326Z"
   },
   {
    "duration": 4,
    "start_time": "2024-01-12T14:33:32.799Z"
   },
   {
    "duration": 4,
    "start_time": "2024-01-12T14:33:47.257Z"
   },
   {
    "duration": 426,
    "start_time": "2024-01-12T14:33:56.691Z"
   },
   {
    "duration": 423,
    "start_time": "2024-01-12T14:34:04.481Z"
   },
   {
    "duration": 419,
    "start_time": "2024-01-12T14:35:07.472Z"
   },
   {
    "duration": 400,
    "start_time": "2024-01-12T14:35:19.100Z"
   },
   {
    "duration": 398,
    "start_time": "2024-01-12T14:35:24.222Z"
   },
   {
    "duration": 404,
    "start_time": "2024-01-12T14:35:30.130Z"
   },
   {
    "duration": 335,
    "start_time": "2024-01-12T14:35:33.359Z"
   },
   {
    "duration": 390,
    "start_time": "2024-01-12T14:35:35.618Z"
   },
   {
    "duration": 930,
    "start_time": "2024-01-12T14:35:38.503Z"
   },
   {
    "duration": 386,
    "start_time": "2024-01-12T14:35:46.363Z"
   },
   {
    "duration": 32,
    "start_time": "2024-01-12T14:36:10.827Z"
   },
   {
    "duration": 11,
    "start_time": "2024-01-12T14:58:53.082Z"
   },
   {
    "duration": 2410,
    "start_time": "2024-01-12T14:59:03.234Z"
   },
   {
    "duration": 2956,
    "start_time": "2024-01-12T14:59:05.646Z"
   },
   {
    "duration": 5,
    "start_time": "2024-01-12T14:59:08.604Z"
   },
   {
    "duration": 11,
    "start_time": "2024-01-12T14:59:08.611Z"
   },
   {
    "duration": 857,
    "start_time": "2024-01-12T14:59:08.628Z"
   },
   {
    "duration": 28998,
    "start_time": "2024-01-12T14:59:09.486Z"
   },
   {
    "duration": 141,
    "start_time": "2024-01-12T14:59:38.486Z"
   },
   {
    "duration": 40,
    "start_time": "2024-01-12T14:59:38.628Z"
   },
   {
    "duration": 38,
    "start_time": "2024-01-12T14:59:38.670Z"
   },
   {
    "duration": 430,
    "start_time": "2024-01-12T14:59:38.714Z"
   },
   {
    "duration": 397,
    "start_time": "2024-01-12T14:59:39.146Z"
   },
   {
    "duration": 35,
    "start_time": "2024-01-12T14:59:39.545Z"
   },
   {
    "duration": 48,
    "start_time": "2024-01-12T14:59:39.582Z"
   },
   {
    "duration": 46,
    "start_time": "2024-01-12T14:59:39.633Z"
   },
   {
    "duration": 8,
    "start_time": "2024-01-12T14:59:39.681Z"
   },
   {
    "duration": 136,
    "start_time": "2024-01-12T15:14:49.001Z"
   },
   {
    "duration": 100,
    "start_time": "2024-01-12T15:15:25.016Z"
   },
   {
    "duration": 2,
    "start_time": "2024-01-12T15:15:27.954Z"
   },
   {
    "duration": 105,
    "start_time": "2024-01-12T15:15:28.491Z"
   },
   {
    "duration": 3,
    "start_time": "2024-01-12T15:15:46.314Z"
   },
   {
    "duration": 114,
    "start_time": "2024-01-12T15:16:35.521Z"
   },
   {
    "duration": 2429,
    "start_time": "2024-01-12T15:17:15.143Z"
   },
   {
    "duration": 2817,
    "start_time": "2024-01-12T15:17:17.574Z"
   },
   {
    "duration": 1480,
    "start_time": "2024-01-12T15:17:20.393Z"
   },
   {
    "duration": 5,
    "start_time": "2024-01-12T15:17:21.875Z"
   },
   {
    "duration": 854,
    "start_time": "2024-01-12T15:17:21.881Z"
   },
   {
    "duration": 28502,
    "start_time": "2024-01-12T15:17:22.737Z"
   },
   {
    "duration": 248,
    "start_time": "2024-01-12T15:17:51.240Z"
   },
   {
    "duration": 42,
    "start_time": "2024-01-12T15:17:51.490Z"
   },
   {
    "duration": 41,
    "start_time": "2024-01-12T15:17:51.533Z"
   },
   {
    "duration": 432,
    "start_time": "2024-01-12T15:17:51.577Z"
   },
   {
    "duration": 380,
    "start_time": "2024-01-12T15:17:52.015Z"
   },
   {
    "duration": 32,
    "start_time": "2024-01-12T15:17:52.396Z"
   },
   {
    "duration": 30,
    "start_time": "2024-01-12T15:17:52.430Z"
   },
   {
    "duration": 65,
    "start_time": "2024-01-12T15:17:52.462Z"
   },
   {
    "duration": 9,
    "start_time": "2024-01-12T15:17:52.528Z"
   },
   {
    "duration": 137,
    "start_time": "2024-01-12T15:17:52.538Z"
   },
   {
    "duration": 3,
    "start_time": "2024-01-12T15:17:52.677Z"
   },
   {
    "duration": 189,
    "start_time": "2024-01-12T15:17:52.681Z"
   },
   {
    "duration": 16,
    "start_time": "2024-01-12T15:18:22.385Z"
   },
   {
    "duration": 2339,
    "start_time": "2024-01-12T15:18:51.983Z"
   },
   {
    "duration": 2825,
    "start_time": "2024-01-12T15:18:54.324Z"
   },
   {
    "duration": 4,
    "start_time": "2024-01-12T15:18:57.151Z"
   },
   {
    "duration": 8,
    "start_time": "2024-01-12T15:18:57.157Z"
   },
   {
    "duration": 829,
    "start_time": "2024-01-12T15:18:57.167Z"
   },
   {
    "duration": 28506,
    "start_time": "2024-01-12T15:18:57.997Z"
   },
   {
    "duration": 171,
    "start_time": "2024-01-12T15:19:26.505Z"
   },
   {
    "duration": 39,
    "start_time": "2024-01-12T15:19:26.677Z"
   },
   {
    "duration": 41,
    "start_time": "2024-01-12T15:19:26.717Z"
   },
   {
    "duration": 428,
    "start_time": "2024-01-12T15:19:26.759Z"
   },
   {
    "duration": 384,
    "start_time": "2024-01-12T15:19:27.189Z"
   },
   {
    "duration": 28,
    "start_time": "2024-01-12T15:19:27.575Z"
   },
   {
    "duration": 32,
    "start_time": "2024-01-12T15:19:27.614Z"
   },
   {
    "duration": 70,
    "start_time": "2024-01-12T15:19:27.648Z"
   },
   {
    "duration": 10,
    "start_time": "2024-01-12T15:19:27.719Z"
   },
   {
    "duration": 124,
    "start_time": "2024-01-12T15:19:27.730Z"
   },
   {
    "duration": 14,
    "start_time": "2024-01-12T15:19:27.855Z"
   },
   {
    "duration": 5,
    "start_time": "2024-01-12T15:19:51.199Z"
   },
   {
    "duration": 12,
    "start_time": "2024-01-12T15:20:02.910Z"
   },
   {
    "duration": 8,
    "start_time": "2024-01-12T15:20:06.870Z"
   },
   {
    "duration": 25,
    "start_time": "2024-01-12T15:22:24.326Z"
   },
   {
    "duration": 4,
    "start_time": "2024-01-12T15:22:35.855Z"
   },
   {
    "duration": 20,
    "start_time": "2024-01-12T15:22:41.858Z"
   },
   {
    "duration": 17,
    "start_time": "2024-01-12T15:23:18.320Z"
   },
   {
    "duration": 1177,
    "start_time": "2024-01-12T15:23:39.672Z"
   },
   {
    "duration": 15,
    "start_time": "2024-01-12T15:23:47.585Z"
   },
   {
    "duration": 1204,
    "start_time": "2024-01-12T15:24:03.167Z"
   },
   {
    "duration": 57,
    "start_time": "2024-01-12T15:24:28.484Z"
   },
   {
    "duration": 9,
    "start_time": "2024-01-12T15:24:28.543Z"
   },
   {
    "duration": 143,
    "start_time": "2024-01-12T15:24:28.553Z"
   },
   {
    "duration": 48,
    "start_time": "2024-01-12T15:24:41.974Z"
   },
   {
    "duration": 8,
    "start_time": "2024-01-12T15:24:42.024Z"
   },
   {
    "duration": 110,
    "start_time": "2024-01-12T15:24:42.034Z"
   },
   {
    "duration": 15,
    "start_time": "2024-01-12T15:24:46.752Z"
   },
   {
    "duration": 3,
    "start_time": "2024-01-12T15:25:24.099Z"
   },
   {
    "duration": 155,
    "start_time": "2024-01-12T15:25:24.578Z"
   },
   {
    "duration": 131,
    "start_time": "2024-01-12T15:30:15.592Z"
   },
   {
    "duration": 11,
    "start_time": "2024-01-12T15:30:35.027Z"
   },
   {
    "duration": 2,
    "start_time": "2024-01-12T15:30:45.221Z"
   },
   {
    "duration": 3,
    "start_time": "2024-01-12T15:34:22.929Z"
   },
   {
    "duration": 9,
    "start_time": "2024-01-12T15:34:29.842Z"
   },
   {
    "duration": 3,
    "start_time": "2024-01-12T15:34:43.153Z"
   },
   {
    "duration": 15,
    "start_time": "2024-01-12T15:34:43.496Z"
   },
   {
    "duration": 19,
    "start_time": "2024-01-12T15:37:01.591Z"
   },
   {
    "duration": 2674,
    "start_time": "2024-01-12T15:37:04.878Z"
   },
   {
    "duration": 3,
    "start_time": "2024-01-12T15:37:14.488Z"
   },
   {
    "duration": 9486,
    "start_time": "2024-01-12T15:37:37.937Z"
   },
   {
    "duration": 4,
    "start_time": "2024-01-12T15:39:34.060Z"
   },
   {
    "duration": 17,
    "start_time": "2024-01-12T15:45:15.940Z"
   },
   {
    "duration": 5,
    "start_time": "2024-01-12T15:45:16.489Z"
   },
   {
    "duration": 4,
    "start_time": "2024-01-12T15:52:29.329Z"
   },
   {
    "duration": 3,
    "start_time": "2024-01-12T15:53:18.471Z"
   },
   {
    "duration": 5,
    "start_time": "2024-01-12T15:57:55.703Z"
   },
   {
    "duration": 2565,
    "start_time": "2024-01-12T15:58:01.705Z"
   },
   {
    "duration": 2393,
    "start_time": "2024-01-12T15:58:12.429Z"
   },
   {
    "duration": 2827,
    "start_time": "2024-01-12T15:58:14.824Z"
   },
   {
    "duration": 1457,
    "start_time": "2024-01-12T15:58:17.653Z"
   },
   {
    "duration": 5,
    "start_time": "2024-01-12T15:58:19.112Z"
   },
   {
    "duration": 870,
    "start_time": "2024-01-12T15:58:19.119Z"
   },
   {
    "duration": 28980,
    "start_time": "2024-01-12T15:58:19.991Z"
   },
   {
    "duration": 263,
    "start_time": "2024-01-12T15:58:48.973Z"
   },
   {
    "duration": 43,
    "start_time": "2024-01-12T15:58:49.238Z"
   },
   {
    "duration": 42,
    "start_time": "2024-01-12T15:58:49.283Z"
   },
   {
    "duration": 425,
    "start_time": "2024-01-12T15:58:49.327Z"
   },
   {
    "duration": 439,
    "start_time": "2024-01-12T15:58:49.754Z"
   },
   {
    "duration": 39,
    "start_time": "2024-01-12T15:58:50.195Z"
   },
   {
    "duration": 33,
    "start_time": "2024-01-12T15:58:50.235Z"
   },
   {
    "duration": 132,
    "start_time": "2024-01-12T15:58:50.271Z"
   },
   {
    "duration": 0,
    "start_time": "2024-01-12T15:58:50.404Z"
   },
   {
    "duration": 0,
    "start_time": "2024-01-12T15:58:50.405Z"
   },
   {
    "duration": 0,
    "start_time": "2024-01-12T15:58:50.414Z"
   },
   {
    "duration": 0,
    "start_time": "2024-01-12T15:58:50.415Z"
   },
   {
    "duration": 4972,
    "start_time": "2024-01-14T07:35:19.588Z"
   },
   {
    "duration": 5671,
    "start_time": "2024-01-14T07:35:24.562Z"
   },
   {
    "duration": 1613,
    "start_time": "2024-01-14T07:35:30.235Z"
   },
   {
    "duration": 5,
    "start_time": "2024-01-14T07:35:31.849Z"
   },
   {
    "duration": 2818,
    "start_time": "2024-01-14T07:35:31.856Z"
   },
   {
    "duration": 27105,
    "start_time": "2024-01-14T07:35:34.675Z"
   },
   {
    "duration": 283,
    "start_time": "2024-01-14T07:36:01.782Z"
   },
   {
    "duration": 44,
    "start_time": "2024-01-14T07:36:02.066Z"
   },
   {
    "duration": 43,
    "start_time": "2024-01-14T07:36:02.112Z"
   },
   {
    "duration": 409,
    "start_time": "2024-01-14T07:36:02.157Z"
   },
   {
    "duration": 378,
    "start_time": "2024-01-14T07:36:02.567Z"
   },
   {
    "duration": 27,
    "start_time": "2024-01-14T07:36:02.946Z"
   },
   {
    "duration": 53,
    "start_time": "2024-01-14T07:36:02.975Z"
   },
   {
    "duration": 67,
    "start_time": "2024-01-14T07:36:03.031Z"
   },
   {
    "duration": 4,
    "start_time": "2024-01-14T07:39:47.836Z"
   },
   {
    "duration": 3,
    "start_time": "2024-01-14T07:40:04.286Z"
   },
   {
    "duration": 4,
    "start_time": "2024-01-14T07:40:07.186Z"
   },
   {
    "duration": 3,
    "start_time": "2024-01-14T07:51:17.295Z"
   },
   {
    "duration": 2389,
    "start_time": "2024-01-14T10:07:41.033Z"
   },
   {
    "duration": 2731,
    "start_time": "2024-01-14T10:07:43.425Z"
   },
   {
    "duration": 1430,
    "start_time": "2024-01-14T10:07:46.158Z"
   },
   {
    "duration": 4,
    "start_time": "2024-01-14T10:07:47.591Z"
   },
   {
    "duration": 882,
    "start_time": "2024-01-14T10:07:47.597Z"
   },
   {
    "duration": 27580,
    "start_time": "2024-01-14T10:07:48.481Z"
   },
   {
    "duration": 276,
    "start_time": "2024-01-14T10:08:16.063Z"
   },
   {
    "duration": 40,
    "start_time": "2024-01-14T10:08:16.341Z"
   },
   {
    "duration": 42,
    "start_time": "2024-01-14T10:08:16.383Z"
   },
   {
    "duration": 399,
    "start_time": "2024-01-14T10:08:16.427Z"
   },
   {
    "duration": 361,
    "start_time": "2024-01-14T10:08:16.828Z"
   },
   {
    "duration": 28,
    "start_time": "2024-01-14T10:08:17.191Z"
   },
   {
    "duration": 36,
    "start_time": "2024-01-14T10:08:17.220Z"
   },
   {
    "duration": 72,
    "start_time": "2024-01-14T10:08:17.257Z"
   },
   {
    "duration": 4,
    "start_time": "2024-01-14T10:08:17.331Z"
   },
   {
    "duration": 29,
    "start_time": "2024-01-14T10:08:17.337Z"
   },
   {
    "duration": 25,
    "start_time": "2024-01-14T10:08:17.368Z"
   },
   {
    "duration": 21,
    "start_time": "2024-01-14T10:08:17.394Z"
   },
   {
    "duration": 8137056,
    "start_time": "2024-01-14T10:08:17.416Z"
   },
   {
    "duration": 1319,
    "start_time": "2024-01-14T12:23:54.473Z"
   },
   {
    "duration": 3,
    "start_time": "2024-01-14T12:23:55.793Z"
   },
   {
    "duration": 5801,
    "start_time": "2024-01-14T12:23:55.797Z"
   },
   {
    "duration": 13194,
    "start_time": "2024-01-14T12:24:01.599Z"
   },
   {
    "duration": 605,
    "start_time": "2024-01-14T12:24:14.795Z"
   },
   {
    "duration": 90,
    "start_time": "2024-01-14T12:24:15.402Z"
   },
   {
    "duration": 199,
    "start_time": "2024-01-14T12:24:15.494Z"
   },
   {
    "duration": 41,
    "start_time": "2024-01-14T15:00:17.168Z"
   },
   {
    "duration": 2,
    "start_time": "2024-01-14T15:00:37.521Z"
   },
   {
    "duration": 12,
    "start_time": "2024-01-14T15:00:49.670Z"
   },
   {
    "duration": 12,
    "start_time": "2024-01-14T15:01:05.925Z"
   },
   {
    "duration": 5,
    "start_time": "2024-01-14T15:01:30.239Z"
   },
   {
    "duration": 62,
    "start_time": "2024-01-14T15:01:37.251Z"
   },
   {
    "duration": 6245,
    "start_time": "2024-01-14T15:01:44.880Z"
   },
   {
    "duration": 6213,
    "start_time": "2024-01-14T15:01:57.307Z"
   },
   {
    "duration": 5,
    "start_time": "2024-01-14T15:02:27.831Z"
   },
   {
    "duration": 4,
    "start_time": "2024-01-14T15:02:50.082Z"
   },
   {
    "duration": 3,
    "start_time": "2024-01-14T15:03:33.675Z"
   },
   {
    "duration": 32215,
    "start_time": "2024-01-14T15:03:47.519Z"
   },
   {
    "duration": 133,
    "start_time": "2024-01-14T15:04:30.770Z"
   },
   {
    "duration": 8,
    "start_time": "2024-01-14T15:05:47.010Z"
   },
   {
    "duration": 12,
    "start_time": "2024-01-14T15:05:49.866Z"
   },
   {
    "duration": 8,
    "start_time": "2024-01-14T15:06:04.252Z"
   },
   {
    "duration": 4,
    "start_time": "2024-01-14T15:06:07.748Z"
   },
   {
    "duration": 4,
    "start_time": "2024-01-14T15:06:16.835Z"
   },
   {
    "duration": 2,
    "start_time": "2024-01-14T15:06:39.704Z"
   },
   {
    "duration": 1040,
    "start_time": "2024-01-14T15:07:15.856Z"
   },
   {
    "duration": 44139,
    "start_time": "2024-01-14T15:07:23.666Z"
   },
   {
    "duration": 1335,
    "start_time": "2024-01-14T15:08:48.883Z"
   },
   {
    "duration": 33384,
    "start_time": "2024-01-14T15:08:50.220Z"
   },
   {
    "duration": 13688,
    "start_time": "2024-01-14T15:09:23.606Z"
   },
   {
    "duration": 5,
    "start_time": "2024-01-14T15:10:02.121Z"
   },
   {
    "duration": 37,
    "start_time": "2024-01-14T15:10:41.085Z"
   },
   {
    "duration": 4,
    "start_time": "2024-01-14T15:10:52.365Z"
   },
   {
    "duration": 55,
    "start_time": "2024-01-14T15:12:16.507Z"
   },
   {
    "duration": 5,
    "start_time": "2024-01-14T15:12:16.564Z"
   },
   {
    "duration": 6,
    "start_time": "2024-01-14T15:12:16.571Z"
   },
   {
    "duration": 11,
    "start_time": "2024-01-14T15:12:16.579Z"
   },
   {
    "duration": 13,
    "start_time": "2024-01-14T15:12:16.592Z"
   },
   {
    "duration": 6903175,
    "start_time": "2024-01-14T15:12:37.023Z"
   },
   {
    "duration": 3,
    "start_time": "2024-01-15T02:44:34.461Z"
   },
   {
    "duration": 4,
    "start_time": "2024-01-15T02:44:37.069Z"
   },
   {
    "duration": 4,
    "start_time": "2024-01-15T02:44:44.827Z"
   },
   {
    "duration": 4,
    "start_time": "2024-01-15T02:45:00.851Z"
   },
   {
    "duration": 1376,
    "start_time": "2024-01-15T02:45:17.507Z"
   },
   {
    "duration": 4,
    "start_time": "2024-01-15T02:46:14.487Z"
   },
   {
    "duration": 3,
    "start_time": "2024-01-15T02:46:29.181Z"
   },
   {
    "duration": 30621,
    "start_time": "2024-01-15T02:46:52.883Z"
   },
   {
    "duration": 13497,
    "start_time": "2024-01-15T02:47:37.299Z"
   },
   {
    "duration": 3,
    "start_time": "2024-01-15T02:47:52.528Z"
   },
   {
    "duration": 18510,
    "start_time": "2024-01-15T02:47:55.333Z"
   },
   {
    "duration": 156,
    "start_time": "2024-01-15T02:48:13.845Z"
   },
   {
    "duration": 11,
    "start_time": "2024-01-15T02:48:22.851Z"
   },
   {
    "duration": 10,
    "start_time": "2024-01-15T02:48:53.617Z"
   },
   {
    "duration": 2314,
    "start_time": "2024-01-15T02:49:04.480Z"
   },
   {
    "duration": 2723,
    "start_time": "2024-01-15T02:49:09.304Z"
   },
   {
    "duration": 16,
    "start_time": "2024-01-15T02:49:14.499Z"
   },
   {
    "duration": 6151,
    "start_time": "2024-01-15T02:51:45.700Z"
   },
   {
    "duration": 2351,
    "start_time": "2024-01-15T02:53:16.685Z"
   },
   {
    "duration": 2865,
    "start_time": "2024-01-15T02:53:19.038Z"
   },
   {
    "duration": 1671,
    "start_time": "2024-01-15T02:53:21.905Z"
   },
   {
    "duration": 0,
    "start_time": "2024-01-15T02:53:23.579Z"
   },
   {
    "duration": 0,
    "start_time": "2024-01-15T02:53:23.580Z"
   },
   {
    "duration": 0,
    "start_time": "2024-01-15T02:53:23.592Z"
   },
   {
    "duration": 0,
    "start_time": "2024-01-15T02:53:23.594Z"
   },
   {
    "duration": 0,
    "start_time": "2024-01-15T02:53:23.595Z"
   },
   {
    "duration": 0,
    "start_time": "2024-01-15T02:53:23.596Z"
   },
   {
    "duration": 0,
    "start_time": "2024-01-15T02:53:23.597Z"
   },
   {
    "duration": 0,
    "start_time": "2024-01-15T02:53:23.598Z"
   },
   {
    "duration": 0,
    "start_time": "2024-01-15T02:53:23.599Z"
   },
   {
    "duration": 0,
    "start_time": "2024-01-15T02:53:23.601Z"
   },
   {
    "duration": 0,
    "start_time": "2024-01-15T02:53:23.601Z"
   },
   {
    "duration": 0,
    "start_time": "2024-01-15T02:53:23.603Z"
   },
   {
    "duration": 1,
    "start_time": "2024-01-15T02:53:23.603Z"
   },
   {
    "duration": 0,
    "start_time": "2024-01-15T02:53:23.604Z"
   },
   {
    "duration": 0,
    "start_time": "2024-01-15T02:53:23.606Z"
   },
   {
    "duration": 0,
    "start_time": "2024-01-15T02:53:23.607Z"
   },
   {
    "duration": 0,
    "start_time": "2024-01-15T02:53:23.608Z"
   },
   {
    "duration": 0,
    "start_time": "2024-01-15T02:53:23.609Z"
   },
   {
    "duration": 0,
    "start_time": "2024-01-15T02:53:23.610Z"
   },
   {
    "duration": 0,
    "start_time": "2024-01-15T02:53:23.611Z"
   },
   {
    "duration": 0,
    "start_time": "2024-01-15T02:53:23.612Z"
   },
   {
    "duration": 0,
    "start_time": "2024-01-15T02:53:23.614Z"
   },
   {
    "duration": 0,
    "start_time": "2024-01-15T02:53:23.615Z"
   },
   {
    "duration": 0,
    "start_time": "2024-01-15T02:53:23.616Z"
   },
   {
    "duration": 0,
    "start_time": "2024-01-15T02:53:23.617Z"
   },
   {
    "duration": 1,
    "start_time": "2024-01-15T02:53:23.618Z"
   },
   {
    "duration": 2502,
    "start_time": "2024-01-15T04:28:16.835Z"
   },
   {
    "duration": 2919,
    "start_time": "2024-01-15T04:28:19.339Z"
   },
   {
    "duration": 1661,
    "start_time": "2024-01-15T04:28:22.261Z"
   },
   {
    "duration": 0,
    "start_time": "2024-01-15T04:28:23.925Z"
   },
   {
    "duration": 0,
    "start_time": "2024-01-15T04:28:23.926Z"
   },
   {
    "duration": 0,
    "start_time": "2024-01-15T04:28:23.927Z"
   },
   {
    "duration": 0,
    "start_time": "2024-01-15T04:28:23.929Z"
   },
   {
    "duration": 0,
    "start_time": "2024-01-15T04:28:23.930Z"
   },
   {
    "duration": 0,
    "start_time": "2024-01-15T04:28:23.932Z"
   },
   {
    "duration": 0,
    "start_time": "2024-01-15T04:28:23.933Z"
   },
   {
    "duration": 0,
    "start_time": "2024-01-15T04:28:23.935Z"
   },
   {
    "duration": 0,
    "start_time": "2024-01-15T04:28:23.936Z"
   },
   {
    "duration": 0,
    "start_time": "2024-01-15T04:28:23.937Z"
   },
   {
    "duration": 0,
    "start_time": "2024-01-15T04:28:23.939Z"
   },
   {
    "duration": 0,
    "start_time": "2024-01-15T04:28:23.940Z"
   },
   {
    "duration": 0,
    "start_time": "2024-01-15T04:28:23.941Z"
   },
   {
    "duration": 0,
    "start_time": "2024-01-15T04:28:23.942Z"
   },
   {
    "duration": 0,
    "start_time": "2024-01-15T04:28:23.944Z"
   },
   {
    "duration": 0,
    "start_time": "2024-01-15T04:28:23.945Z"
   },
   {
    "duration": 0,
    "start_time": "2024-01-15T04:28:23.946Z"
   },
   {
    "duration": 0,
    "start_time": "2024-01-15T04:28:23.947Z"
   },
   {
    "duration": 0,
    "start_time": "2024-01-15T04:28:23.949Z"
   },
   {
    "duration": 0,
    "start_time": "2024-01-15T04:28:23.950Z"
   },
   {
    "duration": 0,
    "start_time": "2024-01-15T04:28:23.951Z"
   },
   {
    "duration": 0,
    "start_time": "2024-01-15T04:28:23.993Z"
   },
   {
    "duration": 0,
    "start_time": "2024-01-15T04:28:23.994Z"
   },
   {
    "duration": 0,
    "start_time": "2024-01-15T04:28:23.996Z"
   },
   {
    "duration": 0,
    "start_time": "2024-01-15T04:28:23.997Z"
   },
   {
    "duration": 0,
    "start_time": "2024-01-15T04:28:23.999Z"
   },
   {
    "duration": 2605,
    "start_time": "2024-01-15T04:29:11.773Z"
   },
   {
    "duration": 2894,
    "start_time": "2024-01-15T04:29:14.380Z"
   },
   {
    "duration": 1716,
    "start_time": "2024-01-15T04:29:17.276Z"
   },
   {
    "duration": 6,
    "start_time": "2024-01-15T04:29:18.995Z"
   },
   {
    "duration": 902,
    "start_time": "2024-01-15T04:29:19.005Z"
   },
   {
    "duration": 30320,
    "start_time": "2024-01-15T04:29:19.909Z"
   },
   {
    "duration": 324,
    "start_time": "2024-01-15T04:29:50.230Z"
   },
   {
    "duration": 43,
    "start_time": "2024-01-15T04:29:50.556Z"
   },
   {
    "duration": 54,
    "start_time": "2024-01-15T04:29:50.601Z"
   },
   {
    "duration": 562,
    "start_time": "2024-01-15T04:29:50.657Z"
   },
   {
    "duration": 421,
    "start_time": "2024-01-15T04:29:51.221Z"
   },
   {
    "duration": 29,
    "start_time": "2024-01-15T04:29:51.644Z"
   },
   {
    "duration": 34,
    "start_time": "2024-01-15T04:29:51.692Z"
   },
   {
    "duration": 68,
    "start_time": "2024-01-15T04:29:51.729Z"
   },
   {
    "duration": 5,
    "start_time": "2024-01-15T04:29:51.799Z"
   },
   {
    "duration": 13,
    "start_time": "2024-01-15T04:29:51.805Z"
   },
   {
    "duration": 20,
    "start_time": "2024-01-15T04:29:51.820Z"
   },
   {
    "duration": 8,
    "start_time": "2024-01-15T04:29:51.842Z"
   },
   {
    "duration": 22780282,
    "start_time": "2024-01-15T04:29:51.852Z"
   },
   {
    "duration": 3,
    "start_time": "2024-01-15T10:49:32.136Z"
   },
   {
    "duration": 49,
    "start_time": "2024-01-15T10:49:32.140Z"
   },
   {
    "duration": 1435,
    "start_time": "2024-01-15T10:49:32.191Z"
   },
   {
    "duration": 38868,
    "start_time": "2024-01-15T10:49:33.627Z"
   },
   {
    "duration": 122,
    "start_time": "2024-01-15T10:50:12.497Z"
   },
   {
    "duration": 0,
    "start_time": "2024-01-15T10:50:12.621Z"
   },
   {
    "duration": 0,
    "start_time": "2024-01-15T10:50:12.622Z"
   },
   {
    "duration": 0,
    "start_time": "2024-01-15T10:50:12.623Z"
   },
   {
    "duration": 0,
    "start_time": "2024-01-15T10:50:12.624Z"
   },
   {
    "duration": 0,
    "start_time": "2024-01-15T10:50:12.625Z"
   },
   {
    "duration": 4,
    "start_time": "2024-01-15T11:58:41.094Z"
   },
   {
    "duration": 355861,
    "start_time": "2024-01-15T11:58:43.842Z"
   },
   {
    "duration": 0,
    "start_time": "2024-01-15T12:04:39.718Z"
   },
   {
    "duration": 0,
    "start_time": "2024-01-15T12:04:39.719Z"
   },
   {
    "duration": 0,
    "start_time": "2024-01-15T12:04:39.720Z"
   },
   {
    "duration": 0,
    "start_time": "2024-01-15T12:04:39.721Z"
   },
   {
    "duration": 0,
    "start_time": "2024-01-15T12:04:39.722Z"
   },
   {
    "duration": 0,
    "start_time": "2024-01-15T12:04:39.723Z"
   },
   {
    "duration": 0,
    "start_time": "2024-01-15T12:04:39.724Z"
   },
   {
    "duration": 14548,
    "start_time": "2024-01-15T12:05:08.145Z"
   },
   {
    "duration": 44993,
    "start_time": "2024-01-15T12:07:11.110Z"
   },
   {
    "duration": 2,
    "start_time": "2024-01-15T12:07:56.105Z"
   },
   {
    "duration": 13994,
    "start_time": "2024-01-15T12:08:11.199Z"
   },
   {
    "duration": 106,
    "start_time": "2024-01-15T12:08:25.195Z"
   },
   {
    "duration": 101,
    "start_time": "2024-01-15T12:08:25.393Z"
   },
   {
    "duration": 0,
    "start_time": "2024-01-15T12:08:25.496Z"
   },
   {
    "duration": 0,
    "start_time": "2024-01-15T12:08:25.498Z"
   },
   {
    "duration": 17854,
    "start_time": "2024-01-15T12:09:32.859Z"
   },
   {
    "duration": 178,
    "start_time": "2024-01-15T12:09:50.715Z"
   },
   {
    "duration": 96,
    "start_time": "2024-01-15T12:09:50.896Z"
   },
   {
    "duration": 5959,
    "start_time": "2024-01-15T12:09:50.994Z"
   },
   {
    "duration": 10,
    "start_time": "2024-01-15T12:09:56.993Z"
   },
   {
    "duration": 6,
    "start_time": "2024-01-15T12:10:04.349Z"
   },
   {
    "duration": 33,
    "start_time": "2024-01-15T12:11:42.534Z"
   },
   {
    "duration": 18,
    "start_time": "2024-01-15T12:11:51.925Z"
   },
   {
    "duration": 4,
    "start_time": "2024-01-15T12:12:03.073Z"
   },
   {
    "duration": 6,
    "start_time": "2024-01-15T12:12:26.730Z"
   },
   {
    "duration": 4174,
    "start_time": "2024-01-16T14:05:45.420Z"
   },
   {
    "duration": 6174,
    "start_time": "2024-01-16T14:05:49.596Z"
   },
   {
    "duration": 1726,
    "start_time": "2024-01-16T14:05:55.772Z"
   },
   {
    "duration": 7,
    "start_time": "2024-01-16T14:05:57.500Z"
   },
   {
    "duration": 2864,
    "start_time": "2024-01-16T14:05:57.509Z"
   },
   {
    "duration": 29085,
    "start_time": "2024-01-16T14:06:00.375Z"
   },
   {
    "duration": 270,
    "start_time": "2024-01-16T14:06:29.461Z"
   },
   {
    "duration": 39,
    "start_time": "2024-01-16T14:06:29.733Z"
   },
   {
    "duration": 40,
    "start_time": "2024-01-16T14:06:29.774Z"
   },
   {
    "duration": 440,
    "start_time": "2024-01-16T14:06:29.816Z"
   },
   {
    "duration": 403,
    "start_time": "2024-01-16T14:06:30.258Z"
   },
   {
    "duration": 28,
    "start_time": "2024-01-16T14:06:30.667Z"
   },
   {
    "duration": 45,
    "start_time": "2024-01-16T14:06:30.697Z"
   },
   {
    "duration": 69,
    "start_time": "2024-01-16T14:06:30.744Z"
   },
   {
    "duration": 118,
    "start_time": "2024-01-16T14:06:30.814Z"
   },
   {
    "duration": 0,
    "start_time": "2024-01-16T14:06:30.934Z"
   },
   {
    "duration": 0,
    "start_time": "2024-01-16T14:06:30.935Z"
   },
   {
    "duration": 0,
    "start_time": "2024-01-16T14:06:30.936Z"
   },
   {
    "duration": 0,
    "start_time": "2024-01-16T14:06:30.938Z"
   },
   {
    "duration": 0,
    "start_time": "2024-01-16T14:06:30.939Z"
   },
   {
    "duration": 0,
    "start_time": "2024-01-16T14:06:30.940Z"
   },
   {
    "duration": 0,
    "start_time": "2024-01-16T14:06:30.941Z"
   },
   {
    "duration": 0,
    "start_time": "2024-01-16T14:06:30.943Z"
   },
   {
    "duration": 0,
    "start_time": "2024-01-16T14:06:30.944Z"
   },
   {
    "duration": 0,
    "start_time": "2024-01-16T14:06:30.946Z"
   },
   {
    "duration": 1,
    "start_time": "2024-01-16T14:06:30.967Z"
   },
   {
    "duration": 0,
    "start_time": "2024-01-16T14:06:30.969Z"
   },
   {
    "duration": 0,
    "start_time": "2024-01-16T14:06:30.971Z"
   },
   {
    "duration": 0,
    "start_time": "2024-01-16T14:06:30.972Z"
   },
   {
    "duration": 2457,
    "start_time": "2024-01-16T14:07:50.524Z"
   },
   {
    "duration": 2877,
    "start_time": "2024-01-16T14:07:52.983Z"
   },
   {
    "duration": 1508,
    "start_time": "2024-01-16T14:07:55.862Z"
   },
   {
    "duration": 4,
    "start_time": "2024-01-16T14:07:57.372Z"
   },
   {
    "duration": 841,
    "start_time": "2024-01-16T14:07:57.377Z"
   },
   {
    "duration": 28726,
    "start_time": "2024-01-16T14:07:58.220Z"
   },
   {
    "duration": 357,
    "start_time": "2024-01-16T14:08:26.947Z"
   },
   {
    "duration": 39,
    "start_time": "2024-01-16T14:08:27.305Z"
   },
   {
    "duration": 42,
    "start_time": "2024-01-16T14:08:27.346Z"
   },
   {
    "duration": 444,
    "start_time": "2024-01-16T14:08:27.391Z"
   },
   {
    "duration": 402,
    "start_time": "2024-01-16T14:08:27.837Z"
   },
   {
    "duration": 35,
    "start_time": "2024-01-16T14:08:28.240Z"
   },
   {
    "duration": 39,
    "start_time": "2024-01-16T14:08:28.277Z"
   },
   {
    "duration": 61,
    "start_time": "2024-01-16T14:08:28.318Z"
   },
   {
    "duration": 118,
    "start_time": "2024-01-16T14:08:28.380Z"
   },
   {
    "duration": 0,
    "start_time": "2024-01-16T14:08:28.500Z"
   },
   {
    "duration": 0,
    "start_time": "2024-01-16T14:08:28.501Z"
   },
   {
    "duration": 0,
    "start_time": "2024-01-16T14:08:28.502Z"
   },
   {
    "duration": 0,
    "start_time": "2024-01-16T14:08:28.503Z"
   },
   {
    "duration": 0,
    "start_time": "2024-01-16T14:08:28.504Z"
   },
   {
    "duration": 0,
    "start_time": "2024-01-16T14:08:28.505Z"
   },
   {
    "duration": 0,
    "start_time": "2024-01-16T14:08:28.506Z"
   },
   {
    "duration": 0,
    "start_time": "2024-01-16T14:08:28.507Z"
   },
   {
    "duration": 0,
    "start_time": "2024-01-16T14:08:28.508Z"
   },
   {
    "duration": 0,
    "start_time": "2024-01-16T14:08:28.509Z"
   },
   {
    "duration": 0,
    "start_time": "2024-01-16T14:08:28.510Z"
   },
   {
    "duration": 0,
    "start_time": "2024-01-16T14:08:28.511Z"
   },
   {
    "duration": 0,
    "start_time": "2024-01-16T14:08:28.512Z"
   },
   {
    "duration": 0,
    "start_time": "2024-01-16T14:08:28.513Z"
   },
   {
    "duration": 2564,
    "start_time": "2024-01-16T14:08:48.181Z"
   },
   {
    "duration": 2952,
    "start_time": "2024-01-16T14:08:50.747Z"
   },
   {
    "duration": 1487,
    "start_time": "2024-01-16T14:08:53.701Z"
   },
   {
    "duration": 5,
    "start_time": "2024-01-16T14:08:55.189Z"
   },
   {
    "duration": 899,
    "start_time": "2024-01-16T14:08:55.196Z"
   },
   {
    "duration": 28443,
    "start_time": "2024-01-16T14:08:56.097Z"
   },
   {
    "duration": 260,
    "start_time": "2024-01-16T14:09:24.542Z"
   },
   {
    "duration": 38,
    "start_time": "2024-01-16T14:09:24.804Z"
   },
   {
    "duration": 49,
    "start_time": "2024-01-16T14:09:24.843Z"
   },
   {
    "duration": 429,
    "start_time": "2024-01-16T14:09:24.893Z"
   },
   {
    "duration": 408,
    "start_time": "2024-01-16T14:09:25.323Z"
   },
   {
    "duration": 37,
    "start_time": "2024-01-16T14:09:25.733Z"
   },
   {
    "duration": 31,
    "start_time": "2024-01-16T14:09:25.771Z"
   },
   {
    "duration": 63,
    "start_time": "2024-01-16T14:09:25.805Z"
   },
   {
    "duration": 5,
    "start_time": "2024-01-16T14:09:25.870Z"
   },
   {
    "duration": 30,
    "start_time": "2024-01-16T14:09:25.876Z"
   },
   {
    "duration": 21,
    "start_time": "2024-01-16T14:09:25.908Z"
   },
   {
    "duration": 16,
    "start_time": "2024-01-16T14:09:25.931Z"
   },
   {
    "duration": 438817,
    "start_time": "2024-01-16T14:09:25.949Z"
   },
   {
    "duration": 0,
    "start_time": "2024-01-16T14:16:44.768Z"
   },
   {
    "duration": 0,
    "start_time": "2024-01-16T14:16:44.769Z"
   },
   {
    "duration": 0,
    "start_time": "2024-01-16T14:16:44.770Z"
   },
   {
    "duration": 0,
    "start_time": "2024-01-16T14:16:44.771Z"
   },
   {
    "duration": 0,
    "start_time": "2024-01-16T14:16:44.772Z"
   },
   {
    "duration": 0,
    "start_time": "2024-01-16T14:16:44.774Z"
   },
   {
    "duration": 0,
    "start_time": "2024-01-16T14:16:44.775Z"
   },
   {
    "duration": 0,
    "start_time": "2024-01-16T14:16:44.776Z"
   },
   {
    "duration": 0,
    "start_time": "2024-01-16T14:16:44.777Z"
   },
   {
    "duration": 0,
    "start_time": "2024-01-16T14:16:44.778Z"
   },
   {
    "duration": 155,
    "start_time": "2024-01-16T14:18:00.458Z"
   },
   {
    "duration": 4,
    "start_time": "2024-01-16T14:18:05.451Z"
   },
   {
    "duration": 4,
    "start_time": "2024-01-16T14:18:12.136Z"
   },
   {
    "duration": 4,
    "start_time": "2024-01-16T14:18:14.887Z"
   },
   {
    "duration": 3,
    "start_time": "2024-01-16T14:18:15.937Z"
   },
   {
    "duration": 2138,
    "start_time": "2024-01-16T14:18:16.761Z"
   },
   {
    "duration": 5,
    "start_time": "2024-01-16T14:18:57.727Z"
   },
   {
    "duration": 21,
    "start_time": "2024-01-16T14:19:21.766Z"
   },
   {
    "duration": 5,
    "start_time": "2024-01-16T14:19:25.345Z"
   },
   {
    "duration": 29,
    "start_time": "2024-01-16T14:20:55.851Z"
   },
   {
    "duration": 4,
    "start_time": "2024-01-16T14:20:55.883Z"
   },
   {
    "duration": 31,
    "start_time": "2024-01-16T14:20:55.888Z"
   },
   {
    "duration": 11,
    "start_time": "2024-01-16T14:20:55.920Z"
   },
   {
    "duration": 13,
    "start_time": "2024-01-16T14:20:55.933Z"
   },
   {
    "duration": 5235,
    "start_time": "2024-01-16T14:20:55.947Z"
   },
   {
    "duration": 4,
    "start_time": "2024-01-16T14:22:30.226Z"
   },
   {
    "duration": 53,
    "start_time": "2024-01-16T14:22:30.232Z"
   },
   {
    "duration": 5427,
    "start_time": "2024-01-16T14:22:30.286Z"
   },
   {
    "duration": 422,
    "start_time": "2024-01-16T14:24:03.420Z"
   },
   {
    "duration": 8,
    "start_time": "2024-01-16T14:25:02.310Z"
   },
   {
    "duration": 2455,
    "start_time": "2024-01-16T14:26:23.967Z"
   },
   {
    "duration": 2752,
    "start_time": "2024-01-16T14:26:26.424Z"
   },
   {
    "duration": 1488,
    "start_time": "2024-01-16T14:26:29.178Z"
   },
   {
    "duration": 4,
    "start_time": "2024-01-16T14:26:30.668Z"
   },
   {
    "duration": 922,
    "start_time": "2024-01-16T14:26:30.674Z"
   },
   {
    "duration": 28264,
    "start_time": "2024-01-16T14:26:31.598Z"
   },
   {
    "duration": 293,
    "start_time": "2024-01-16T14:26:59.864Z"
   },
   {
    "duration": 41,
    "start_time": "2024-01-16T14:27:00.159Z"
   },
   {
    "duration": 41,
    "start_time": "2024-01-16T14:27:00.202Z"
   },
   {
    "duration": 455,
    "start_time": "2024-01-16T14:27:00.246Z"
   },
   {
    "duration": 411,
    "start_time": "2024-01-16T14:27:00.703Z"
   },
   {
    "duration": 29,
    "start_time": "2024-01-16T14:27:01.115Z"
   },
   {
    "duration": 128,
    "start_time": "2024-01-16T14:27:01.146Z"
   },
   {
    "duration": 88,
    "start_time": "2024-01-16T14:27:01.276Z"
   },
   {
    "duration": 16,
    "start_time": "2024-01-16T14:27:01.366Z"
   },
   {
    "duration": 115,
    "start_time": "2024-01-16T14:27:01.384Z"
   },
   {
    "duration": 51,
    "start_time": "2024-01-16T14:27:01.501Z"
   },
   {
    "duration": 66,
    "start_time": "2024-01-16T14:27:01.553Z"
   },
   {
    "duration": 6172896,
    "start_time": "2024-01-16T14:27:01.621Z"
   },
   {
    "duration": 2,
    "start_time": "2024-01-16T16:09:54.519Z"
   },
   {
    "duration": 68,
    "start_time": "2024-01-16T16:09:54.523Z"
   },
   {
    "duration": 442,
    "start_time": "2024-01-16T16:09:54.592Z"
   },
   {
    "duration": 24839,
    "start_time": "2024-01-16T16:09:55.035Z"
   },
   {
    "duration": 41,
    "start_time": "2024-01-16T16:10:19.875Z"
   },
   {
    "duration": 15850,
    "start_time": "2024-01-16T16:10:19.917Z"
   },
   {
    "duration": 7,
    "start_time": "2024-01-16T16:10:35.769Z"
   },
   {
    "duration": 95,
    "start_time": "2024-01-16T16:10:35.778Z"
   },
   {
    "duration": 5304,
    "start_time": "2024-01-16T16:10:35.878Z"
   },
   {
    "duration": 5,
    "start_time": "2024-01-16T16:10:41.193Z"
   },
   {
    "duration": 20,
    "start_time": "2024-01-16T16:29:19.332Z"
   },
   {
    "duration": 16,
    "start_time": "2024-01-16T16:29:34.352Z"
   },
   {
    "duration": 2486,
    "start_time": "2024-01-16T16:30:45.526Z"
   },
   {
    "duration": 2929,
    "start_time": "2024-01-16T16:30:48.015Z"
   },
   {
    "duration": 1531,
    "start_time": "2024-01-16T16:30:50.946Z"
   },
   {
    "duration": 5,
    "start_time": "2024-01-16T16:30:52.479Z"
   },
   {
    "duration": 842,
    "start_time": "2024-01-16T16:30:52.485Z"
   },
   {
    "duration": 29524,
    "start_time": "2024-01-16T16:30:53.329Z"
   },
   {
    "duration": 276,
    "start_time": "2024-01-16T16:31:22.855Z"
   },
   {
    "duration": 42,
    "start_time": "2024-01-16T16:31:23.132Z"
   },
   {
    "duration": 41,
    "start_time": "2024-01-16T16:31:23.175Z"
   },
   {
    "duration": 451,
    "start_time": "2024-01-16T16:31:23.218Z"
   },
   {
    "duration": 401,
    "start_time": "2024-01-16T16:31:23.671Z"
   },
   {
    "duration": 29,
    "start_time": "2024-01-16T16:31:24.074Z"
   },
   {
    "duration": 33,
    "start_time": "2024-01-16T16:31:24.104Z"
   },
   {
    "duration": 77,
    "start_time": "2024-01-16T16:31:24.139Z"
   },
   {
    "duration": 4,
    "start_time": "2024-01-16T16:31:24.218Z"
   },
   {
    "duration": 19,
    "start_time": "2024-01-16T16:31:24.224Z"
   },
   {
    "duration": 18,
    "start_time": "2024-01-16T16:31:24.244Z"
   },
   {
    "duration": 30,
    "start_time": "2024-01-16T16:31:24.264Z"
   },
   {
    "duration": 7409527,
    "start_time": "2024-01-16T16:31:24.296Z"
   },
   {
    "duration": 2,
    "start_time": "2024-01-16T18:34:53.825Z"
   },
   {
    "duration": 18,
    "start_time": "2024-01-16T18:34:53.828Z"
   },
   {
    "duration": 388,
    "start_time": "2024-01-16T18:34:53.847Z"
   },
   {
    "duration": 27646,
    "start_time": "2024-01-16T18:34:54.236Z"
   },
   {
    "duration": 108,
    "start_time": "2024-01-16T18:35:21.884Z"
   },
   {
    "duration": 15575,
    "start_time": "2024-01-16T18:35:21.993Z"
   },
   {
    "duration": 11,
    "start_time": "2024-01-16T18:35:37.570Z"
   },
   {
    "duration": 191,
    "start_time": "2024-01-16T18:35:37.583Z"
   },
   {
    "duration": 5116,
    "start_time": "2024-01-16T18:35:37.778Z"
   },
   {
    "duration": 3919,
    "start_time": "2024-01-18T02:27:38.691Z"
   },
   {
    "duration": 5251,
    "start_time": "2024-01-18T02:27:42.612Z"
   },
   {
    "duration": 1630,
    "start_time": "2024-01-18T02:27:47.865Z"
   },
   {
    "duration": 4,
    "start_time": "2024-01-18T02:27:49.496Z"
   },
   {
    "duration": 978,
    "start_time": "2024-01-18T02:27:49.502Z"
   },
   {
    "duration": 25983,
    "start_time": "2024-01-18T02:27:50.482Z"
   },
   {
    "duration": 229,
    "start_time": "2024-01-18T02:28:16.467Z"
   },
   {
    "duration": 36,
    "start_time": "2024-01-18T02:28:16.697Z"
   },
   {
    "duration": 35,
    "start_time": "2024-01-18T02:28:16.735Z"
   },
   {
    "duration": 387,
    "start_time": "2024-01-18T02:28:16.771Z"
   },
   {
    "duration": 360,
    "start_time": "2024-01-18T02:28:17.160Z"
   },
   {
    "duration": 33,
    "start_time": "2024-01-18T02:28:17.521Z"
   },
   {
    "duration": 29,
    "start_time": "2024-01-18T02:28:17.556Z"
   },
   {
    "duration": 44,
    "start_time": "2024-01-18T02:28:17.588Z"
   },
   {
    "duration": 19,
    "start_time": "2024-01-18T02:28:17.634Z"
   },
   {
    "duration": 7,
    "start_time": "2024-01-18T02:28:17.654Z"
   },
   {
    "duration": 7,
    "start_time": "2024-01-18T02:28:17.662Z"
   },
   {
    "duration": 5,
    "start_time": "2024-01-18T02:28:17.670Z"
   },
   {
    "duration": 111,
    "start_time": "2024-01-18T02:28:17.676Z"
   },
   {
    "duration": 0,
    "start_time": "2024-01-18T02:28:17.788Z"
   },
   {
    "duration": 0,
    "start_time": "2024-01-18T02:28:17.790Z"
   },
   {
    "duration": 0,
    "start_time": "2024-01-18T02:28:17.790Z"
   },
   {
    "duration": 0,
    "start_time": "2024-01-18T02:28:17.791Z"
   },
   {
    "duration": 0,
    "start_time": "2024-01-18T02:28:17.792Z"
   },
   {
    "duration": 0,
    "start_time": "2024-01-18T02:28:17.793Z"
   },
   {
    "duration": 0,
    "start_time": "2024-01-18T02:28:17.794Z"
   },
   {
    "duration": 0,
    "start_time": "2024-01-18T02:28:17.795Z"
   },
   {
    "duration": 0,
    "start_time": "2024-01-18T02:28:17.796Z"
   },
   {
    "duration": 0,
    "start_time": "2024-01-18T02:28:17.797Z"
   },
   {
    "duration": 2209,
    "start_time": "2024-01-18T02:31:19.516Z"
   },
   {
    "duration": 2580,
    "start_time": "2024-01-18T02:31:21.726Z"
   },
   {
    "duration": 1358,
    "start_time": "2024-01-18T02:31:24.307Z"
   },
   {
    "duration": 4,
    "start_time": "2024-01-18T02:31:25.667Z"
   },
   {
    "duration": 783,
    "start_time": "2024-01-18T02:31:25.672Z"
   },
   {
    "duration": 26252,
    "start_time": "2024-01-18T02:31:26.457Z"
   },
   {
    "duration": 275,
    "start_time": "2024-01-18T02:31:52.710Z"
   },
   {
    "duration": 40,
    "start_time": "2024-01-18T02:31:52.986Z"
   },
   {
    "duration": 41,
    "start_time": "2024-01-18T02:31:53.028Z"
   },
   {
    "duration": 386,
    "start_time": "2024-01-18T02:31:53.072Z"
   },
   {
    "duration": 357,
    "start_time": "2024-01-18T02:31:53.460Z"
   },
   {
    "duration": 39,
    "start_time": "2024-01-18T02:31:53.818Z"
   },
   {
    "duration": 31,
    "start_time": "2024-01-18T02:31:53.858Z"
   },
   {
    "duration": 67,
    "start_time": "2024-01-18T02:31:53.890Z"
   },
   {
    "duration": 4,
    "start_time": "2024-01-18T02:31:53.958Z"
   },
   {
    "duration": 6,
    "start_time": "2024-01-18T02:31:53.964Z"
   },
   {
    "duration": 15,
    "start_time": "2024-01-18T02:31:53.971Z"
   },
   {
    "duration": 15,
    "start_time": "2024-01-18T02:31:53.988Z"
   },
   {
    "duration": 2181,
    "start_time": "2024-01-18T02:44:55.004Z"
   },
   {
    "duration": 2540,
    "start_time": "2024-01-18T02:44:57.187Z"
   },
   {
    "duration": 1425,
    "start_time": "2024-01-18T02:44:59.729Z"
   },
   {
    "duration": 4,
    "start_time": "2024-01-18T02:45:01.156Z"
   },
   {
    "duration": 880,
    "start_time": "2024-01-18T02:45:01.161Z"
   },
   {
    "duration": 26867,
    "start_time": "2024-01-18T02:45:02.042Z"
   },
   {
    "duration": 285,
    "start_time": "2024-01-18T02:45:28.911Z"
   },
   {
    "duration": 42,
    "start_time": "2024-01-18T02:45:29.198Z"
   },
   {
    "duration": 40,
    "start_time": "2024-01-18T02:45:29.241Z"
   },
   {
    "duration": 403,
    "start_time": "2024-01-18T02:45:29.283Z"
   },
   {
    "duration": 386,
    "start_time": "2024-01-18T02:45:29.687Z"
   },
   {
    "duration": 26,
    "start_time": "2024-01-18T02:45:30.075Z"
   },
   {
    "duration": 54,
    "start_time": "2024-01-18T02:45:30.102Z"
   },
   {
    "duration": 72,
    "start_time": "2024-01-18T02:45:30.157Z"
   },
   {
    "duration": 10,
    "start_time": "2024-01-18T02:45:30.232Z"
   },
   {
    "duration": 53,
    "start_time": "2024-01-18T02:45:30.244Z"
   },
   {
    "duration": 36,
    "start_time": "2024-01-18T02:45:30.298Z"
   },
   {
    "duration": 40,
    "start_time": "2024-01-18T02:45:30.335Z"
   },
   {
    "duration": 3111,
    "start_time": "2024-01-18T02:45:30.376Z"
   },
   {
    "duration": 3,
    "start_time": "2024-01-18T02:45:33.488Z"
   },
   {
    "duration": 60,
    "start_time": "2024-01-18T02:45:33.493Z"
   },
   {
    "duration": 350,
    "start_time": "2024-01-18T02:45:33.554Z"
   },
   {
    "duration": 51,
    "start_time": "2024-01-18T02:45:33.905Z"
   },
   {
    "duration": 96,
    "start_time": "2024-01-18T02:45:33.957Z"
   },
   {
    "duration": 14,
    "start_time": "2024-01-18T02:45:34.054Z"
   },
   {
    "duration": 8,
    "start_time": "2024-01-18T02:45:34.153Z"
   },
   {
    "duration": 102,
    "start_time": "2024-01-18T02:45:34.254Z"
   },
   {
    "duration": 15,
    "start_time": "2024-01-18T02:45:34.358Z"
   },
   {
    "duration": 86,
    "start_time": "2024-01-18T02:45:34.375Z"
   },
   {
    "duration": 4,
    "start_time": "2024-01-18T02:49:10.370Z"
   },
   {
    "duration": 3,
    "start_time": "2024-01-18T02:49:29.370Z"
   },
   {
    "duration": 4,
    "start_time": "2024-01-18T02:49:30.653Z"
   },
   {
    "duration": 2,
    "start_time": "2024-01-18T02:49:32.287Z"
   },
   {
    "duration": 73701,
    "start_time": "2024-01-18T02:49:33.256Z"
   },
   {
    "duration": 4,
    "start_time": "2024-01-18T02:52:35.498Z"
   },
   {
    "duration": 4,
    "start_time": "2024-01-18T02:52:35.984Z"
   },
   {
    "duration": 3,
    "start_time": "2024-01-18T02:52:38.972Z"
   },
   {
    "duration": 74214,
    "start_time": "2024-01-18T02:52:40.243Z"
   },
   {
    "duration": 4,
    "start_time": "2024-01-18T02:55:23.427Z"
   },
   {
    "duration": 4,
    "start_time": "2024-01-18T02:55:30.703Z"
   },
   {
    "duration": 4,
    "start_time": "2024-01-18T02:55:31.528Z"
   },
   {
    "duration": 3,
    "start_time": "2024-01-18T02:55:34.417Z"
   },
   {
    "duration": 125,
    "start_time": "2024-01-18T02:55:35.051Z"
   },
   {
    "duration": 3,
    "start_time": "2024-01-18T02:55:45.806Z"
   },
   {
    "duration": 4,
    "start_time": "2024-01-18T02:55:46.282Z"
   },
   {
    "duration": 3,
    "start_time": "2024-01-18T02:55:48.895Z"
   },
   {
    "duration": 75033,
    "start_time": "2024-01-18T02:55:49.725Z"
   },
   {
    "duration": 12,
    "start_time": "2024-01-18T02:59:06.790Z"
   },
   {
    "duration": 5,
    "start_time": "2024-01-18T02:59:15.361Z"
   },
   {
    "duration": 3,
    "start_time": "2024-01-18T02:59:17.573Z"
   },
   {
    "duration": 4,
    "start_time": "2024-01-18T02:59:18.008Z"
   },
   {
    "duration": 4,
    "start_time": "2024-01-18T02:59:18.861Z"
   },
   {
    "duration": 3,
    "start_time": "2024-01-18T02:59:21.269Z"
   },
   {
    "duration": 13148,
    "start_time": "2024-01-18T02:59:22.563Z"
   },
   {
    "duration": 3,
    "start_time": "2024-01-18T03:02:29.329Z"
   },
   {
    "duration": 3,
    "start_time": "2024-01-18T03:02:30.214Z"
   },
   {
    "duration": 3,
    "start_time": "2024-01-18T03:02:32.481Z"
   },
   {
    "duration": 25,
    "start_time": "2024-01-18T03:02:33.579Z"
   },
   {
    "duration": 4,
    "start_time": "2024-01-18T03:02:54.044Z"
   },
   {
    "duration": 4,
    "start_time": "2024-01-18T03:02:55.887Z"
   },
   {
    "duration": 4,
    "start_time": "2024-01-18T03:02:56.324Z"
   },
   {
    "duration": 4,
    "start_time": "2024-01-18T03:02:56.872Z"
   },
   {
    "duration": 3,
    "start_time": "2024-01-18T03:02:57.737Z"
   },
   {
    "duration": 73959,
    "start_time": "2024-01-18T03:02:58.423Z"
   },
   {
    "duration": 4,
    "start_time": "2024-01-18T03:04:58.433Z"
   },
   {
    "duration": 3,
    "start_time": "2024-01-18T03:05:05.070Z"
   },
   {
    "duration": 74984,
    "start_time": "2024-01-18T03:05:05.576Z"
   },
   {
    "duration": 4,
    "start_time": "2024-01-18T03:07:06.700Z"
   },
   {
    "duration": 4,
    "start_time": "2024-01-18T03:07:09.448Z"
   },
   {
    "duration": 2290,
    "start_time": "2024-01-18T03:07:35.382Z"
   },
   {
    "duration": 2638,
    "start_time": "2024-01-18T03:07:37.674Z"
   },
   {
    "duration": 1409,
    "start_time": "2024-01-18T03:07:40.314Z"
   },
   {
    "duration": 4,
    "start_time": "2024-01-18T03:07:41.725Z"
   },
   {
    "duration": 829,
    "start_time": "2024-01-18T03:07:41.731Z"
   },
   {
    "duration": 26918,
    "start_time": "2024-01-18T03:07:42.561Z"
   },
   {
    "duration": 281,
    "start_time": "2024-01-18T03:08:09.480Z"
   },
   {
    "duration": 40,
    "start_time": "2024-01-18T03:08:09.763Z"
   },
   {
    "duration": 39,
    "start_time": "2024-01-18T03:08:09.804Z"
   },
   {
    "duration": 374,
    "start_time": "2024-01-18T03:08:09.845Z"
   },
   {
    "duration": 351,
    "start_time": "2024-01-18T03:08:10.221Z"
   },
   {
    "duration": 27,
    "start_time": "2024-01-18T03:08:10.574Z"
   },
   {
    "duration": 50,
    "start_time": "2024-01-18T03:08:10.603Z"
   },
   {
    "duration": 48,
    "start_time": "2024-01-18T03:08:10.655Z"
   },
   {
    "duration": 5,
    "start_time": "2024-01-18T03:08:10.705Z"
   },
   {
    "duration": 28,
    "start_time": "2024-01-18T03:08:10.711Z"
   },
   {
    "duration": 12,
    "start_time": "2024-01-18T03:08:10.741Z"
   },
   {
    "duration": 20,
    "start_time": "2024-01-18T03:08:10.755Z"
   },
   {
    "duration": 27,
    "start_time": "2024-01-18T03:08:10.776Z"
   },
   {
    "duration": 139,
    "start_time": "2024-01-18T03:08:10.805Z"
   },
   {
    "duration": 0,
    "start_time": "2024-01-18T03:08:10.946Z"
   },
   {
    "duration": 0,
    "start_time": "2024-01-18T03:08:10.947Z"
   },
   {
    "duration": 0,
    "start_time": "2024-01-18T03:08:10.952Z"
   },
   {
    "duration": 0,
    "start_time": "2024-01-18T03:08:10.953Z"
   },
   {
    "duration": 0,
    "start_time": "2024-01-18T03:08:10.954Z"
   },
   {
    "duration": 0,
    "start_time": "2024-01-18T03:08:10.954Z"
   },
   {
    "duration": 0,
    "start_time": "2024-01-18T03:08:10.955Z"
   },
   {
    "duration": 0,
    "start_time": "2024-01-18T03:08:10.957Z"
   },
   {
    "duration": 0,
    "start_time": "2024-01-18T03:08:10.957Z"
   },
   {
    "duration": 0,
    "start_time": "2024-01-18T03:08:10.958Z"
   },
   {
    "duration": 2322,
    "start_time": "2024-01-18T03:20:50.120Z"
   },
   {
    "duration": 2625,
    "start_time": "2024-01-18T03:20:52.443Z"
   },
   {
    "duration": 1409,
    "start_time": "2024-01-18T03:20:55.070Z"
   },
   {
    "duration": 4,
    "start_time": "2024-01-18T03:20:56.480Z"
   },
   {
    "duration": 805,
    "start_time": "2024-01-18T03:20:56.486Z"
   },
   {
    "duration": 27103,
    "start_time": "2024-01-18T03:20:57.293Z"
   },
   {
    "duration": 257,
    "start_time": "2024-01-18T03:21:24.397Z"
   },
   {
    "duration": 42,
    "start_time": "2024-01-18T03:21:24.655Z"
   },
   {
    "duration": 79,
    "start_time": "2024-01-18T03:21:24.698Z"
   },
   {
    "duration": 428,
    "start_time": "2024-01-18T03:21:24.778Z"
   },
   {
    "duration": 373,
    "start_time": "2024-01-18T03:21:25.208Z"
   },
   {
    "duration": 26,
    "start_time": "2024-01-18T03:21:25.583Z"
   },
   {
    "duration": 46,
    "start_time": "2024-01-18T03:21:25.610Z"
   },
   {
    "duration": 43,
    "start_time": "2024-01-18T03:21:25.659Z"
   },
   {
    "duration": 5,
    "start_time": "2024-01-18T03:21:25.703Z"
   },
   {
    "duration": 9,
    "start_time": "2024-01-18T03:21:25.709Z"
   },
   {
    "duration": 15,
    "start_time": "2024-01-18T03:21:25.719Z"
   },
   {
    "duration": 11,
    "start_time": "2024-01-18T03:21:25.735Z"
   },
   {
    "duration": 5,
    "start_time": "2024-01-18T03:21:25.747Z"
   },
   {
    "duration": 6614256,
    "start_time": "2024-01-18T03:21:25.753Z"
   },
   {
    "duration": 0,
    "start_time": "2024-01-18T05:11:40.011Z"
   },
   {
    "duration": 0,
    "start_time": "2024-01-18T05:11:40.012Z"
   },
   {
    "duration": 0,
    "start_time": "2024-01-18T05:11:40.013Z"
   },
   {
    "duration": 0,
    "start_time": "2024-01-18T05:11:40.014Z"
   },
   {
    "duration": 0,
    "start_time": "2024-01-18T05:11:40.016Z"
   },
   {
    "duration": 0,
    "start_time": "2024-01-18T05:11:40.017Z"
   },
   {
    "duration": 0,
    "start_time": "2024-01-18T05:11:40.018Z"
   },
   {
    "duration": 0,
    "start_time": "2024-01-18T05:11:40.019Z"
   },
   {
    "duration": 0,
    "start_time": "2024-01-18T05:11:40.020Z"
   },
   {
    "duration": 0,
    "start_time": "2024-01-18T05:11:40.021Z"
   },
   {
    "duration": 0,
    "start_time": "2024-01-18T05:11:40.056Z"
   },
   {
    "duration": 2429,
    "start_time": "2024-01-18T05:12:54.918Z"
   },
   {
    "duration": 2855,
    "start_time": "2024-01-18T05:12:57.350Z"
   },
   {
    "duration": 1533,
    "start_time": "2024-01-18T05:13:00.207Z"
   },
   {
    "duration": 4,
    "start_time": "2024-01-18T05:13:01.742Z"
   },
   {
    "duration": 881,
    "start_time": "2024-01-18T05:13:01.752Z"
   },
   {
    "duration": 29322,
    "start_time": "2024-01-18T05:13:02.634Z"
   },
   {
    "duration": 292,
    "start_time": "2024-01-18T05:13:31.958Z"
   },
   {
    "duration": 44,
    "start_time": "2024-01-18T05:13:32.255Z"
   },
   {
    "duration": 61,
    "start_time": "2024-01-18T05:13:32.300Z"
   },
   {
    "duration": 412,
    "start_time": "2024-01-18T05:13:32.372Z"
   },
   {
    "duration": 375,
    "start_time": "2024-01-18T05:13:32.786Z"
   },
   {
    "duration": 30,
    "start_time": "2024-01-18T05:13:33.162Z"
   },
   {
    "duration": 30,
    "start_time": "2024-01-18T05:13:33.193Z"
   },
   {
    "duration": 66,
    "start_time": "2024-01-18T05:13:33.226Z"
   },
   {
    "duration": 87,
    "start_time": "2024-01-18T05:13:33.293Z"
   },
   {
    "duration": 0,
    "start_time": "2024-01-18T05:13:33.381Z"
   },
   {
    "duration": 0,
    "start_time": "2024-01-18T05:13:33.383Z"
   },
   {
    "duration": 0,
    "start_time": "2024-01-18T05:13:33.384Z"
   },
   {
    "duration": 0,
    "start_time": "2024-01-18T05:13:33.385Z"
   },
   {
    "duration": 0,
    "start_time": "2024-01-18T05:13:33.386Z"
   },
   {
    "duration": 0,
    "start_time": "2024-01-18T05:13:33.387Z"
   },
   {
    "duration": 0,
    "start_time": "2024-01-18T05:13:33.388Z"
   },
   {
    "duration": 0,
    "start_time": "2024-01-18T05:13:33.390Z"
   },
   {
    "duration": 0,
    "start_time": "2024-01-18T05:13:33.391Z"
   },
   {
    "duration": 0,
    "start_time": "2024-01-18T05:13:33.392Z"
   },
   {
    "duration": 0,
    "start_time": "2024-01-18T05:13:33.393Z"
   },
   {
    "duration": 0,
    "start_time": "2024-01-18T05:13:33.394Z"
   },
   {
    "duration": 0,
    "start_time": "2024-01-18T05:13:33.395Z"
   },
   {
    "duration": 0,
    "start_time": "2024-01-18T05:13:33.396Z"
   },
   {
    "duration": 0,
    "start_time": "2024-01-18T05:13:33.397Z"
   },
   {
    "duration": 5,
    "start_time": "2024-01-18T05:14:47.261Z"
   },
   {
    "duration": 4,
    "start_time": "2024-01-18T05:14:49.032Z"
   },
   {
    "duration": 4,
    "start_time": "2024-01-18T05:14:49.695Z"
   },
   {
    "duration": 5,
    "start_time": "2024-01-18T05:14:50.881Z"
   },
   {
    "duration": 3,
    "start_time": "2024-01-18T05:14:55.079Z"
   },
   {
    "duration": 546,
    "start_time": "2024-01-18T05:14:55.538Z"
   },
   {
    "duration": 3,
    "start_time": "2024-01-18T05:15:17.544Z"
   },
   {
    "duration": 4,
    "start_time": "2024-01-18T05:15:24.618Z"
   },
   {
    "duration": 5,
    "start_time": "2024-01-18T05:15:25.100Z"
   },
   {
    "duration": 2,
    "start_time": "2024-01-18T05:15:26.392Z"
   },
   {
    "duration": 123727,
    "start_time": "2024-01-18T05:15:26.833Z"
   },
   {
    "duration": 5,
    "start_time": "2024-01-18T05:21:53.985Z"
   },
   {
    "duration": 4,
    "start_time": "2024-01-18T05:21:54.506Z"
   },
   {
    "duration": 2,
    "start_time": "2024-01-18T05:22:17.428Z"
   },
   {
    "duration": 113,
    "start_time": "2024-01-18T05:22:18.673Z"
   },
   {
    "duration": 5,
    "start_time": "2024-01-18T05:23:05.528Z"
   },
   {
    "duration": 6,
    "start_time": "2024-01-18T05:23:13.556Z"
   },
   {
    "duration": 4,
    "start_time": "2024-01-18T05:23:14.279Z"
   },
   {
    "duration": 2,
    "start_time": "2024-01-18T05:23:15.492Z"
   },
   {
    "duration": 110,
    "start_time": "2024-01-18T05:23:16.381Z"
   },
   {
    "duration": 73,
    "start_time": "2024-01-18T05:23:46.632Z"
   },
   {
    "duration": 4,
    "start_time": "2024-01-18T05:23:46.962Z"
   },
   {
    "duration": 10,
    "start_time": "2024-01-18T05:24:33.048Z"
   },
   {
    "duration": 4,
    "start_time": "2024-01-18T05:24:43.565Z"
   },
   {
    "duration": 4,
    "start_time": "2024-01-18T05:24:45.339Z"
   },
   {
    "duration": 2,
    "start_time": "2024-01-18T05:24:45.688Z"
   },
   {
    "duration": 67,
    "start_time": "2024-01-18T05:24:46.149Z"
   },
   {
    "duration": 4,
    "start_time": "2024-01-18T05:24:55.545Z"
   },
   {
    "duration": 3,
    "start_time": "2024-01-18T05:24:55.993Z"
   },
   {
    "duration": 3,
    "start_time": "2024-01-18T05:24:56.415Z"
   },
   {
    "duration": 70,
    "start_time": "2024-01-18T05:24:56.986Z"
   },
   {
    "duration": 5,
    "start_time": "2024-01-18T05:25:14.482Z"
   },
   {
    "duration": 3,
    "start_time": "2024-01-18T05:25:15.822Z"
   },
   {
    "duration": 2,
    "start_time": "2024-01-18T05:25:16.158Z"
   },
   {
    "duration": 74579,
    "start_time": "2024-01-18T05:25:16.721Z"
   },
   {
    "duration": 13,
    "start_time": "2024-01-18T05:26:38.584Z"
   },
   {
    "duration": 3,
    "start_time": "2024-01-18T05:26:46.091Z"
   },
   {
    "duration": 2253,
    "start_time": "2024-01-18T05:33:23.875Z"
   },
   {
    "duration": 2719,
    "start_time": "2024-01-18T05:33:26.131Z"
   },
   {
    "duration": 1400,
    "start_time": "2024-01-18T05:33:28.852Z"
   },
   {
    "duration": 4,
    "start_time": "2024-01-18T05:33:30.254Z"
   },
   {
    "duration": 877,
    "start_time": "2024-01-18T05:33:30.259Z"
   },
   {
    "duration": 26856,
    "start_time": "2024-01-18T05:33:31.137Z"
   },
   {
    "duration": 242,
    "start_time": "2024-01-18T05:33:57.995Z"
   },
   {
    "duration": 39,
    "start_time": "2024-01-18T05:33:58.239Z"
   },
   {
    "duration": 39,
    "start_time": "2024-01-18T05:33:58.280Z"
   },
   {
    "duration": 433,
    "start_time": "2024-01-18T05:33:58.321Z"
   },
   {
    "duration": 364,
    "start_time": "2024-01-18T05:33:58.756Z"
   },
   {
    "duration": 33,
    "start_time": "2024-01-18T05:33:59.121Z"
   },
   {
    "duration": 30,
    "start_time": "2024-01-18T05:33:59.156Z"
   },
   {
    "duration": 42,
    "start_time": "2024-01-18T05:33:59.187Z"
   },
   {
    "duration": 23,
    "start_time": "2024-01-18T05:33:59.231Z"
   },
   {
    "duration": 5,
    "start_time": "2024-01-18T05:33:59.256Z"
   },
   {
    "duration": 5,
    "start_time": "2024-01-18T05:33:59.262Z"
   },
   {
    "duration": 113,
    "start_time": "2024-01-18T05:33:59.268Z"
   },
   {
    "duration": 0,
    "start_time": "2024-01-18T05:33:59.383Z"
   },
   {
    "duration": 0,
    "start_time": "2024-01-18T05:33:59.384Z"
   },
   {
    "duration": 0,
    "start_time": "2024-01-18T05:33:59.385Z"
   },
   {
    "duration": 0,
    "start_time": "2024-01-18T05:33:59.387Z"
   },
   {
    "duration": 0,
    "start_time": "2024-01-18T05:33:59.388Z"
   },
   {
    "duration": 0,
    "start_time": "2024-01-18T05:33:59.389Z"
   },
   {
    "duration": 0,
    "start_time": "2024-01-18T05:33:59.391Z"
   },
   {
    "duration": 0,
    "start_time": "2024-01-18T05:33:59.392Z"
   },
   {
    "duration": 0,
    "start_time": "2024-01-18T05:33:59.393Z"
   },
   {
    "duration": 0,
    "start_time": "2024-01-18T05:33:59.394Z"
   },
   {
    "duration": 0,
    "start_time": "2024-01-18T05:33:59.396Z"
   },
   {
    "duration": 0,
    "start_time": "2024-01-18T05:33:59.397Z"
   },
   {
    "duration": 2267,
    "start_time": "2024-01-18T05:35:22.603Z"
   },
   {
    "duration": 2549,
    "start_time": "2024-01-18T05:35:24.872Z"
   },
   {
    "duration": 1416,
    "start_time": "2024-01-18T05:35:27.422Z"
   },
   {
    "duration": 5,
    "start_time": "2024-01-18T05:35:28.839Z"
   },
   {
    "duration": 781,
    "start_time": "2024-01-18T05:35:28.851Z"
   },
   {
    "duration": 26858,
    "start_time": "2024-01-18T05:35:29.634Z"
   },
   {
    "duration": 252,
    "start_time": "2024-01-18T05:35:56.493Z"
   },
   {
    "duration": 40,
    "start_time": "2024-01-18T05:35:56.747Z"
   },
   {
    "duration": 40,
    "start_time": "2024-01-18T05:35:56.788Z"
   },
   {
    "duration": 404,
    "start_time": "2024-01-18T05:35:56.829Z"
   },
   {
    "duration": 354,
    "start_time": "2024-01-18T05:35:57.235Z"
   },
   {
    "duration": 27,
    "start_time": "2024-01-18T05:35:57.591Z"
   },
   {
    "duration": 44,
    "start_time": "2024-01-18T05:35:57.619Z"
   },
   {
    "duration": 46,
    "start_time": "2024-01-18T05:35:57.665Z"
   },
   {
    "duration": 4,
    "start_time": "2024-01-18T05:35:57.712Z"
   },
   {
    "duration": 5,
    "start_time": "2024-01-18T05:35:57.718Z"
   },
   {
    "duration": 5,
    "start_time": "2024-01-18T05:35:57.724Z"
   },
   {
    "duration": 22,
    "start_time": "2024-01-18T05:35:57.730Z"
   },
   {
    "duration": 2296,
    "start_time": "2024-01-18T05:54:31.968Z"
   },
   {
    "duration": 2713,
    "start_time": "2024-01-18T05:54:34.266Z"
   },
   {
    "duration": 1439,
    "start_time": "2024-01-18T05:54:36.981Z"
   },
   {
    "duration": 5,
    "start_time": "2024-01-18T05:54:38.421Z"
   },
   {
    "duration": 856,
    "start_time": "2024-01-18T05:54:38.427Z"
   },
   {
    "duration": 28445,
    "start_time": "2024-01-18T05:54:39.285Z"
   },
   {
    "duration": 238,
    "start_time": "2024-01-18T05:55:07.732Z"
   },
   {
    "duration": 42,
    "start_time": "2024-01-18T05:55:07.971Z"
   },
   {
    "duration": 41,
    "start_time": "2024-01-18T05:55:08.014Z"
   },
   {
    "duration": 406,
    "start_time": "2024-01-18T05:55:08.057Z"
   },
   {
    "duration": 403,
    "start_time": "2024-01-18T05:55:08.464Z"
   },
   {
    "duration": 27,
    "start_time": "2024-01-18T05:55:08.868Z"
   },
   {
    "duration": 66,
    "start_time": "2024-01-18T05:55:08.897Z"
   },
   {
    "duration": 47,
    "start_time": "2024-01-18T05:55:08.966Z"
   },
   {
    "duration": 5,
    "start_time": "2024-01-18T05:55:09.015Z"
   },
   {
    "duration": 6,
    "start_time": "2024-01-18T05:55:09.021Z"
   },
   {
    "duration": 23,
    "start_time": "2024-01-18T05:55:09.030Z"
   },
   {
    "duration": 6,
    "start_time": "2024-01-18T05:55:09.055Z"
   },
   {
    "duration": 6385247,
    "start_time": "2024-01-18T05:55:09.063Z"
   },
   {
    "duration": 3,
    "start_time": "2024-01-18T07:41:34.312Z"
   },
   {
    "duration": 37,
    "start_time": "2024-01-18T07:41:34.316Z"
   },
   {
    "duration": 392,
    "start_time": "2024-01-18T07:41:34.355Z"
   },
   {
    "duration": 31223,
    "start_time": "2024-01-18T07:41:34.749Z"
   },
   {
    "duration": 114,
    "start_time": "2024-01-18T07:42:05.973Z"
   },
   {
    "duration": 14733,
    "start_time": "2024-01-18T07:42:06.089Z"
   },
   {
    "duration": 35,
    "start_time": "2024-01-18T07:42:20.824Z"
   },
   {
    "duration": 201,
    "start_time": "2024-01-18T07:42:20.861Z"
   },
   {
    "duration": 4908,
    "start_time": "2024-01-18T07:42:21.064Z"
   },
   {
    "duration": 4,
    "start_time": "2024-01-18T07:42:25.974Z"
   },
   {
    "duration": 3,
    "start_time": "2024-01-18T07:55:47.541Z"
   },
   {
    "duration": 607,
    "start_time": "2024-01-18T07:56:00.019Z"
   },
   {
    "duration": 71,
    "start_time": "2024-01-18T07:56:22.811Z"
   },
   {
    "duration": 2341,
    "start_time": "2024-01-18T07:59:07.538Z"
   },
   {
    "duration": 2820,
    "start_time": "2024-01-18T07:59:09.881Z"
   },
   {
    "duration": 1442,
    "start_time": "2024-01-18T07:59:12.703Z"
   },
   {
    "duration": 7,
    "start_time": "2024-01-18T07:59:14.147Z"
   },
   {
    "duration": 870,
    "start_time": "2024-01-18T07:59:14.156Z"
   },
   {
    "duration": 28219,
    "start_time": "2024-01-18T07:59:15.028Z"
   },
   {
    "duration": 313,
    "start_time": "2024-01-18T07:59:43.249Z"
   },
   {
    "duration": 40,
    "start_time": "2024-01-18T07:59:43.564Z"
   },
   {
    "duration": 49,
    "start_time": "2024-01-18T07:59:43.605Z"
   },
   {
    "duration": 390,
    "start_time": "2024-01-18T07:59:43.656Z"
   },
   {
    "duration": 413,
    "start_time": "2024-01-18T07:59:44.047Z"
   },
   {
    "duration": 30,
    "start_time": "2024-01-18T07:59:44.461Z"
   },
   {
    "duration": 35,
    "start_time": "2024-01-18T07:59:44.492Z"
   },
   {
    "duration": 50,
    "start_time": "2024-01-18T07:59:44.552Z"
   },
   {
    "duration": 4,
    "start_time": "2024-01-18T07:59:44.604Z"
   },
   {
    "duration": 15,
    "start_time": "2024-01-18T07:59:44.609Z"
   },
   {
    "duration": 17,
    "start_time": "2024-01-18T07:59:44.625Z"
   },
   {
    "duration": 20,
    "start_time": "2024-01-18T07:59:44.643Z"
   },
   {
    "duration": 2234,
    "start_time": "2024-01-18T09:32:11.571Z"
   },
   {
    "duration": 5301,
    "start_time": "2024-01-18T09:32:13.807Z"
   },
   {
    "duration": 1391,
    "start_time": "2024-01-18T09:32:19.110Z"
   },
   {
    "duration": 4,
    "start_time": "2024-01-18T09:32:20.502Z"
   },
   {
    "duration": 883,
    "start_time": "2024-01-18T09:32:20.509Z"
   },
   {
    "duration": 27049,
    "start_time": "2024-01-18T09:32:21.394Z"
   },
   {
    "duration": 304,
    "start_time": "2024-01-18T09:32:48.444Z"
   },
   {
    "duration": 41,
    "start_time": "2024-01-18T09:32:48.750Z"
   },
   {
    "duration": 40,
    "start_time": "2024-01-18T09:32:48.793Z"
   },
   {
    "duration": 423,
    "start_time": "2024-01-18T09:32:48.834Z"
   },
   {
    "duration": 384,
    "start_time": "2024-01-18T09:32:49.258Z"
   },
   {
    "duration": 33,
    "start_time": "2024-01-18T09:32:49.644Z"
   },
   {
    "duration": 33,
    "start_time": "2024-01-18T09:32:49.678Z"
   },
   {
    "duration": 70,
    "start_time": "2024-01-18T09:32:49.713Z"
   },
   {
    "duration": 4,
    "start_time": "2024-01-18T09:32:49.785Z"
   },
   {
    "duration": 37,
    "start_time": "2024-01-18T09:32:49.791Z"
   },
   {
    "duration": 26,
    "start_time": "2024-01-18T09:32:49.830Z"
   },
   {
    "duration": 4,
    "start_time": "2024-01-18T09:32:49.858Z"
   },
   {
    "duration": 2499,
    "start_time": "2024-01-18T13:51:01.575Z"
   },
   {
    "duration": 3262,
    "start_time": "2024-01-18T13:51:04.076Z"
   },
   {
    "duration": 1577,
    "start_time": "2024-01-18T13:51:07.340Z"
   },
   {
    "duration": 4,
    "start_time": "2024-01-18T13:51:08.919Z"
   },
   {
    "duration": 877,
    "start_time": "2024-01-18T13:51:08.925Z"
   },
   {
    "duration": 28881,
    "start_time": "2024-01-18T13:51:09.804Z"
   },
   {
    "duration": 276,
    "start_time": "2024-01-18T13:51:38.687Z"
   },
   {
    "duration": 42,
    "start_time": "2024-01-18T13:51:38.965Z"
   },
   {
    "duration": 46,
    "start_time": "2024-01-18T13:51:39.008Z"
   },
   {
    "duration": 469,
    "start_time": "2024-01-18T13:51:39.055Z"
   },
   {
    "duration": 386,
    "start_time": "2024-01-18T13:51:39.526Z"
   },
   {
    "duration": 28,
    "start_time": "2024-01-18T13:51:39.913Z"
   },
   {
    "duration": 31,
    "start_time": "2024-01-18T13:51:39.952Z"
   },
   {
    "duration": 66,
    "start_time": "2024-01-18T13:51:39.986Z"
   },
   {
    "duration": 4,
    "start_time": "2024-01-18T13:51:40.054Z"
   },
   {
    "duration": 21,
    "start_time": "2024-01-18T13:51:40.060Z"
   },
   {
    "duration": 26,
    "start_time": "2024-01-18T13:51:40.082Z"
   },
   {
    "duration": 31,
    "start_time": "2024-01-18T13:51:40.109Z"
   },
   {
    "duration": 26519642,
    "start_time": "2024-01-18T13:51:40.142Z"
   },
   {
    "duration": 3,
    "start_time": "2024-01-18T21:13:39.785Z"
   },
   {
    "duration": 21,
    "start_time": "2024-01-18T21:13:39.789Z"
   },
   {
    "duration": 369,
    "start_time": "2024-01-18T21:13:39.811Z"
   },
   {
    "duration": 34686,
    "start_time": "2024-01-18T21:13:40.182Z"
   },
   {
    "duration": 643,
    "start_time": "2024-01-18T21:14:14.870Z"
   },
   {
    "duration": 15063,
    "start_time": "2024-01-18T21:14:15.514Z"
   },
   {
    "duration": 117,
    "start_time": "2024-01-18T21:14:30.580Z"
   },
   {
    "duration": 19,
    "start_time": "2024-01-18T21:14:30.699Z"
   },
   {
    "duration": 5132,
    "start_time": "2024-01-18T21:14:30.720Z"
   },
   {
    "duration": 5,
    "start_time": "2024-01-18T21:14:35.854Z"
   },
   {
    "duration": 1125,
    "start_time": "2024-01-31T18:09:51.669Z"
   }
  ],
  "kernelspec": {
   "display_name": "Python 3 (ipykernel)",
   "language": "python",
   "name": "python3"
  },
  "language_info": {
   "codemirror_mode": {
    "name": "ipython",
    "version": 3
   },
   "file_extension": ".py",
   "mimetype": "text/x-python",
   "name": "python",
   "nbconvert_exporter": "python",
   "pygments_lexer": "ipython3",
   "version": "3.9.5"
  },
  "toc": {
   "base_numbering": 1,
   "nav_menu": {},
   "number_sections": true,
   "sideBar": true,
   "skip_h1_title": true,
   "title_cell": "Table of Contents",
   "title_sidebar": "Contents",
   "toc_cell": false,
   "toc_position": {
    "height": "calc(100% - 180px)",
    "left": "10px",
    "top": "150px",
    "width": "232px"
   },
   "toc_section_display": true,
   "toc_window_display": true
  }
 },
 "nbformat": 4,
 "nbformat_minor": 2
}
