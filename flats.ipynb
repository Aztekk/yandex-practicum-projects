{
 "cells": [
  {
   "cell_type": "markdown",
   "metadata": {},
   "source": [
    "# Исследование объявлений о продаже квартир\n",
    "\n",
    "В вашем распоряжении данные сервиса Яндекс.Недвижимость — архив объявлений о продаже квартир в Санкт-Петербурге и соседних населённых пунктов за несколько лет. Нужно научиться определять рыночную стоимость объектов недвижимости. Ваша задача — установить параметры. Это позволит построить автоматизированную систему: она отследит аномалии и мошенническую деятельность. \n",
    "\n",
    "По каждой квартире на продажу доступны два вида данных. Первые вписаны пользователем, вторые — получены автоматически на основе картографических данных. Например, расстояние до центра, аэропорта, ближайшего парка и водоёма. \n",
    "\n",
    "**Цели исследования:** \n",
    "1. Построить систему выявления и очистки данных от аномалий\n",
    "2. Определить рыночную стоимость жилья, найти факторы, влияющие на неё\n",
    "\n",
    "**Ход исследования:** \n",
    "\n",
    "Полученные данные необходимо проверить на качество - привести данные к необходимому типу, избавиться от явных и неявных дублей, избавиться от нетипичных значений, искажающих картину. После этого будет возможно приступить к исследовательскому анализу данных.\n",
    "\n",
    "**Этапы:** \n",
    "- Получение данных\n",
    "- Предобработка данных (изменение типов, удаление дубликатов и аномалий, расчет дополнительных столбцов)\n",
    "- Изучение параметров очищенных и обогащенных данных\n",
    "- Выявление корреляций и зависимостей\n",
    "- Общий вывод"
   ]
  },
  {
   "cell_type": "markdown",
   "metadata": {},
   "source": [
    "### Изучаем датасет"
   ]
  },
  {
   "cell_type": "markdown",
   "metadata": {},
   "source": [
    "#### Датасет"
   ]
  },
  {
   "cell_type": "code",
   "execution_count": 1,
   "metadata": {},
   "outputs": [],
   "source": [
    "import pandas as pd\n",
    "import datetime\n",
    "import matplotlib \n",
    "import matplotlib.pyplot as plt\n",
    "import numpy as np\n",
    "\n",
    "data = pd.read_csv('/datasets/real_estate_data.csv', sep='\\t')"
   ]
  },
  {
   "cell_type": "markdown",
   "metadata": {},
   "source": [
    "#### Общая информация"
   ]
  },
  {
   "cell_type": "code",
   "execution_count": 2,
   "metadata": {},
   "outputs": [
    {
     "name": "stdout",
     "output_type": "stream",
     "text": [
      "<class 'pandas.core.frame.DataFrame'>\n",
      "RangeIndex: 23699 entries, 0 to 23698\n",
      "Data columns (total 22 columns):\n",
      " #   Column                Non-Null Count  Dtype  \n",
      "---  ------                --------------  -----  \n",
      " 0   total_images          23699 non-null  int64  \n",
      " 1   last_price            23699 non-null  float64\n",
      " 2   total_area            23699 non-null  float64\n",
      " 3   first_day_exposition  23699 non-null  object \n",
      " 4   rooms                 23699 non-null  int64  \n",
      " 5   ceiling_height        14504 non-null  float64\n",
      " 6   floors_total          23613 non-null  float64\n",
      " 7   living_area           21796 non-null  float64\n",
      " 8   floor                 23699 non-null  int64  \n",
      " 9   is_apartment          2775 non-null   object \n",
      " 10  studio                23699 non-null  bool   \n",
      " 11  open_plan             23699 non-null  bool   \n",
      " 12  kitchen_area          21421 non-null  float64\n",
      " 13  balcony               12180 non-null  float64\n",
      " 14  locality_name         23650 non-null  object \n",
      " 15  airports_nearest      18157 non-null  float64\n",
      " 16  cityCenters_nearest   18180 non-null  float64\n",
      " 17  parks_around3000      18181 non-null  float64\n",
      " 18  parks_nearest         8079 non-null   float64\n",
      " 19  ponds_around3000      18181 non-null  float64\n",
      " 20  ponds_nearest         9110 non-null   float64\n",
      " 21  days_exposition       20518 non-null  float64\n",
      "dtypes: bool(2), float64(14), int64(3), object(3)\n",
      "memory usage: 3.7+ MB\n"
     ]
    }
   ],
   "source": [
    "data.info()"
   ]
  },
  {
   "cell_type": "code",
   "execution_count": 3,
   "metadata": {},
   "outputs": [
    {
     "data": {
      "text/html": [
       "<div>\n",
       "<style scoped>\n",
       "    .dataframe tbody tr th:only-of-type {\n",
       "        vertical-align: middle;\n",
       "    }\n",
       "\n",
       "    .dataframe tbody tr th {\n",
       "        vertical-align: top;\n",
       "    }\n",
       "\n",
       "    .dataframe thead th {\n",
       "        text-align: right;\n",
       "    }\n",
       "</style>\n",
       "<table border=\"1\" class=\"dataframe\">\n",
       "  <thead>\n",
       "    <tr style=\"text-align: right;\">\n",
       "      <th></th>\n",
       "      <th>total_images</th>\n",
       "      <th>last_price</th>\n",
       "      <th>total_area</th>\n",
       "      <th>rooms</th>\n",
       "      <th>ceiling_height</th>\n",
       "      <th>floors_total</th>\n",
       "      <th>living_area</th>\n",
       "      <th>floor</th>\n",
       "      <th>kitchen_area</th>\n",
       "      <th>balcony</th>\n",
       "      <th>airports_nearest</th>\n",
       "      <th>cityCenters_nearest</th>\n",
       "      <th>parks_around3000</th>\n",
       "      <th>parks_nearest</th>\n",
       "      <th>ponds_around3000</th>\n",
       "      <th>ponds_nearest</th>\n",
       "      <th>days_exposition</th>\n",
       "    </tr>\n",
       "  </thead>\n",
       "  <tbody>\n",
       "    <tr>\n",
       "      <th>count</th>\n",
       "      <td>23699.000000</td>\n",
       "      <td>2.369900e+04</td>\n",
       "      <td>23699.000000</td>\n",
       "      <td>23699.000000</td>\n",
       "      <td>14504.000000</td>\n",
       "      <td>23613.000000</td>\n",
       "      <td>21796.000000</td>\n",
       "      <td>23699.000000</td>\n",
       "      <td>21421.000000</td>\n",
       "      <td>12180.000000</td>\n",
       "      <td>18157.000000</td>\n",
       "      <td>18180.000000</td>\n",
       "      <td>18181.000000</td>\n",
       "      <td>8079.000000</td>\n",
       "      <td>18181.000000</td>\n",
       "      <td>9110.000000</td>\n",
       "      <td>20518.000000</td>\n",
       "    </tr>\n",
       "    <tr>\n",
       "      <th>mean</th>\n",
       "      <td>9.858475</td>\n",
       "      <td>6.541549e+06</td>\n",
       "      <td>60.348651</td>\n",
       "      <td>2.070636</td>\n",
       "      <td>2.771499</td>\n",
       "      <td>10.673824</td>\n",
       "      <td>34.457852</td>\n",
       "      <td>5.892358</td>\n",
       "      <td>10.569807</td>\n",
       "      <td>1.150082</td>\n",
       "      <td>28793.672193</td>\n",
       "      <td>14191.277833</td>\n",
       "      <td>0.611408</td>\n",
       "      <td>490.804555</td>\n",
       "      <td>0.770255</td>\n",
       "      <td>517.980900</td>\n",
       "      <td>180.888634</td>\n",
       "    </tr>\n",
       "    <tr>\n",
       "      <th>std</th>\n",
       "      <td>5.682529</td>\n",
       "      <td>1.088701e+07</td>\n",
       "      <td>35.654083</td>\n",
       "      <td>1.078405</td>\n",
       "      <td>1.261056</td>\n",
       "      <td>6.597173</td>\n",
       "      <td>22.030445</td>\n",
       "      <td>4.885249</td>\n",
       "      <td>5.905438</td>\n",
       "      <td>1.071300</td>\n",
       "      <td>12630.880622</td>\n",
       "      <td>8608.386210</td>\n",
       "      <td>0.802074</td>\n",
       "      <td>342.317995</td>\n",
       "      <td>0.938346</td>\n",
       "      <td>277.720643</td>\n",
       "      <td>219.727988</td>\n",
       "    </tr>\n",
       "    <tr>\n",
       "      <th>min</th>\n",
       "      <td>0.000000</td>\n",
       "      <td>1.219000e+04</td>\n",
       "      <td>12.000000</td>\n",
       "      <td>0.000000</td>\n",
       "      <td>1.000000</td>\n",
       "      <td>1.000000</td>\n",
       "      <td>2.000000</td>\n",
       "      <td>1.000000</td>\n",
       "      <td>1.300000</td>\n",
       "      <td>0.000000</td>\n",
       "      <td>0.000000</td>\n",
       "      <td>181.000000</td>\n",
       "      <td>0.000000</td>\n",
       "      <td>1.000000</td>\n",
       "      <td>0.000000</td>\n",
       "      <td>13.000000</td>\n",
       "      <td>1.000000</td>\n",
       "    </tr>\n",
       "    <tr>\n",
       "      <th>25%</th>\n",
       "      <td>6.000000</td>\n",
       "      <td>3.400000e+06</td>\n",
       "      <td>40.000000</td>\n",
       "      <td>1.000000</td>\n",
       "      <td>2.520000</td>\n",
       "      <td>5.000000</td>\n",
       "      <td>18.600000</td>\n",
       "      <td>2.000000</td>\n",
       "      <td>7.000000</td>\n",
       "      <td>0.000000</td>\n",
       "      <td>18585.000000</td>\n",
       "      <td>9238.000000</td>\n",
       "      <td>0.000000</td>\n",
       "      <td>288.000000</td>\n",
       "      <td>0.000000</td>\n",
       "      <td>294.000000</td>\n",
       "      <td>45.000000</td>\n",
       "    </tr>\n",
       "    <tr>\n",
       "      <th>50%</th>\n",
       "      <td>9.000000</td>\n",
       "      <td>4.650000e+06</td>\n",
       "      <td>52.000000</td>\n",
       "      <td>2.000000</td>\n",
       "      <td>2.650000</td>\n",
       "      <td>9.000000</td>\n",
       "      <td>30.000000</td>\n",
       "      <td>4.000000</td>\n",
       "      <td>9.100000</td>\n",
       "      <td>1.000000</td>\n",
       "      <td>26726.000000</td>\n",
       "      <td>13098.500000</td>\n",
       "      <td>0.000000</td>\n",
       "      <td>455.000000</td>\n",
       "      <td>1.000000</td>\n",
       "      <td>502.000000</td>\n",
       "      <td>95.000000</td>\n",
       "    </tr>\n",
       "    <tr>\n",
       "      <th>75%</th>\n",
       "      <td>14.000000</td>\n",
       "      <td>6.800000e+06</td>\n",
       "      <td>69.900000</td>\n",
       "      <td>3.000000</td>\n",
       "      <td>2.800000</td>\n",
       "      <td>16.000000</td>\n",
       "      <td>42.300000</td>\n",
       "      <td>8.000000</td>\n",
       "      <td>12.000000</td>\n",
       "      <td>2.000000</td>\n",
       "      <td>37273.000000</td>\n",
       "      <td>16293.000000</td>\n",
       "      <td>1.000000</td>\n",
       "      <td>612.000000</td>\n",
       "      <td>1.000000</td>\n",
       "      <td>729.000000</td>\n",
       "      <td>232.000000</td>\n",
       "    </tr>\n",
       "    <tr>\n",
       "      <th>max</th>\n",
       "      <td>50.000000</td>\n",
       "      <td>7.630000e+08</td>\n",
       "      <td>900.000000</td>\n",
       "      <td>19.000000</td>\n",
       "      <td>100.000000</td>\n",
       "      <td>60.000000</td>\n",
       "      <td>409.700000</td>\n",
       "      <td>33.000000</td>\n",
       "      <td>112.000000</td>\n",
       "      <td>5.000000</td>\n",
       "      <td>84869.000000</td>\n",
       "      <td>65968.000000</td>\n",
       "      <td>3.000000</td>\n",
       "      <td>3190.000000</td>\n",
       "      <td>3.000000</td>\n",
       "      <td>1344.000000</td>\n",
       "      <td>1580.000000</td>\n",
       "    </tr>\n",
       "  </tbody>\n",
       "</table>\n",
       "</div>"
      ],
      "text/plain": [
       "       total_images    last_price    total_area         rooms  ceiling_height  \\\n",
       "count  23699.000000  2.369900e+04  23699.000000  23699.000000    14504.000000   \n",
       "mean       9.858475  6.541549e+06     60.348651      2.070636        2.771499   \n",
       "std        5.682529  1.088701e+07     35.654083      1.078405        1.261056   \n",
       "min        0.000000  1.219000e+04     12.000000      0.000000        1.000000   \n",
       "25%        6.000000  3.400000e+06     40.000000      1.000000        2.520000   \n",
       "50%        9.000000  4.650000e+06     52.000000      2.000000        2.650000   \n",
       "75%       14.000000  6.800000e+06     69.900000      3.000000        2.800000   \n",
       "max       50.000000  7.630000e+08    900.000000     19.000000      100.000000   \n",
       "\n",
       "       floors_total   living_area         floor  kitchen_area       balcony  \\\n",
       "count  23613.000000  21796.000000  23699.000000  21421.000000  12180.000000   \n",
       "mean      10.673824     34.457852      5.892358     10.569807      1.150082   \n",
       "std        6.597173     22.030445      4.885249      5.905438      1.071300   \n",
       "min        1.000000      2.000000      1.000000      1.300000      0.000000   \n",
       "25%        5.000000     18.600000      2.000000      7.000000      0.000000   \n",
       "50%        9.000000     30.000000      4.000000      9.100000      1.000000   \n",
       "75%       16.000000     42.300000      8.000000     12.000000      2.000000   \n",
       "max       60.000000    409.700000     33.000000    112.000000      5.000000   \n",
       "\n",
       "       airports_nearest  cityCenters_nearest  parks_around3000  parks_nearest  \\\n",
       "count      18157.000000         18180.000000      18181.000000    8079.000000   \n",
       "mean       28793.672193         14191.277833          0.611408     490.804555   \n",
       "std        12630.880622          8608.386210          0.802074     342.317995   \n",
       "min            0.000000           181.000000          0.000000       1.000000   \n",
       "25%        18585.000000          9238.000000          0.000000     288.000000   \n",
       "50%        26726.000000         13098.500000          0.000000     455.000000   \n",
       "75%        37273.000000         16293.000000          1.000000     612.000000   \n",
       "max        84869.000000         65968.000000          3.000000    3190.000000   \n",
       "\n",
       "       ponds_around3000  ponds_nearest  days_exposition  \n",
       "count      18181.000000    9110.000000     20518.000000  \n",
       "mean           0.770255     517.980900       180.888634  \n",
       "std            0.938346     277.720643       219.727988  \n",
       "min            0.000000      13.000000         1.000000  \n",
       "25%            0.000000     294.000000        45.000000  \n",
       "50%            1.000000     502.000000        95.000000  \n",
       "75%            1.000000     729.000000       232.000000  \n",
       "max            3.000000    1344.000000      1580.000000  "
      ]
     },
     "execution_count": 3,
     "metadata": {},
     "output_type": "execute_result"
    }
   ],
   "source": [
    "data.describe()"
   ]
  },
  {
   "cell_type": "markdown",
   "metadata": {},
   "source": [
    "#### Строим общую гистограмму для всех числовых столбцов таблицы"
   ]
  },
  {
   "cell_type": "code",
   "execution_count": 4,
   "metadata": {},
   "outputs": [
    {
     "data": {
      "image/png": "[encoded data removed]",
      "text/plain": [
       "<Figure size 1080x1440 with 20 Axes>"
      ]
     },
     "metadata": {
      "needs_background": "light"
     },
     "output_type": "display_data"
    }
   ],
   "source": [
    "data.hist(figsize=(15, 20));"
   ]
  },
  {
   "cell_type": "markdown",
   "metadata": {},
   "source": [
    "В данных видны пропущенные значения и аномалии, которые могут затруднить исследование и исказить картину. Прежде, чем приступать к исследованию, нужно от них избавиться."
   ]
  },
  {
   "cell_type": "markdown",
   "metadata": {},
   "source": [
    "### Предобработка данных"
   ]
  },
  {
   "cell_type": "markdown",
   "metadata": {},
   "source": [
    "#### Работа с пропусками"
   ]
  },
  {
   "cell_type": "code",
   "execution_count": 5,
   "metadata": {},
   "outputs": [
    {
     "data": {
      "text/html": [
       "<style  type=\"text/css\" >\n",
       "#T_8f3b8_row0_col0{\n",
       "            background-color:  #b40426;\n",
       "            color:  #f1f1f1;\n",
       "        }#T_8f3b8_row1_col0{\n",
       "            background-color:  #f49a7b;\n",
       "            color:  #000000;\n",
       "        }#T_8f3b8_row2_col0{\n",
       "            background-color:  #f7ad90;\n",
       "            color:  #000000;\n",
       "        }#T_8f3b8_row3_col0{\n",
       "            background-color:  #e9d5cb;\n",
       "            color:  #000000;\n",
       "        }#T_8f3b8_row4_col0{\n",
       "            background-color:  #ccd9ed;\n",
       "            color:  #000000;\n",
       "        }#T_8f3b8_row5_col0,#T_8f3b8_row6_col0,#T_8f3b8_row7_col0,#T_8f3b8_row8_col0{\n",
       "            background-color:  #92b4fe;\n",
       "            color:  #000000;\n",
       "        }#T_8f3b8_row9_col0{\n",
       "            background-color:  #6a8bef;\n",
       "            color:  #000000;\n",
       "        }#T_8f3b8_row10_col0{\n",
       "            background-color:  #5b7ae5;\n",
       "            color:  #000000;\n",
       "        }#T_8f3b8_row11_col0{\n",
       "            background-color:  #5673e0;\n",
       "            color:  #000000;\n",
       "        }#T_8f3b8_row12_col0{\n",
       "            background-color:  #3c4ec2;\n",
       "            color:  #f1f1f1;\n",
       "        }#T_8f3b8_row13_col0,#T_8f3b8_row14_col0,#T_8f3b8_row15_col0,#T_8f3b8_row16_col0,#T_8f3b8_row17_col0,#T_8f3b8_row18_col0,#T_8f3b8_row19_col0,#T_8f3b8_row20_col0,#T_8f3b8_row21_col0{\n",
       "            background-color:  #3b4cc0;\n",
       "            color:  #f1f1f1;\n",
       "        }</style><table id=\"T_8f3b8_\" ><caption>Доля пропусков в колонках</caption><thead>    <tr>        <th class=\"blank level0\" ></th>        <th class=\"col_heading level0 col0\" >0</th>    </tr></thead><tbody>\n",
       "                <tr>\n",
       "                        <th id=\"T_8f3b8_level0_row0\" class=\"row_heading level0 row0\" >is_apartment</th>\n",
       "                        <td id=\"T_8f3b8_row0_col0\" class=\"data row0 col0\" >88%</td>\n",
       "            </tr>\n",
       "            <tr>\n",
       "                        <th id=\"T_8f3b8_level0_row1\" class=\"row_heading level0 row1\" >parks_nearest</th>\n",
       "                        <td id=\"T_8f3b8_row1_col0\" class=\"data row1 col0\" >66%</td>\n",
       "            </tr>\n",
       "            <tr>\n",
       "                        <th id=\"T_8f3b8_level0_row2\" class=\"row_heading level0 row2\" >ponds_nearest</th>\n",
       "                        <td id=\"T_8f3b8_row2_col0\" class=\"data row2 col0\" >62%</td>\n",
       "            </tr>\n",
       "            <tr>\n",
       "                        <th id=\"T_8f3b8_level0_row3\" class=\"row_heading level0 row3\" >balcony</th>\n",
       "                        <td id=\"T_8f3b8_row3_col0\" class=\"data row3 col0\" >49%</td>\n",
       "            </tr>\n",
       "            <tr>\n",
       "                        <th id=\"T_8f3b8_level0_row4\" class=\"row_heading level0 row4\" >ceiling_height</th>\n",
       "                        <td id=\"T_8f3b8_row4_col0\" class=\"data row4 col0\" >39%</td>\n",
       "            </tr>\n",
       "            <tr>\n",
       "                        <th id=\"T_8f3b8_level0_row5\" class=\"row_heading level0 row5\" >airports_nearest</th>\n",
       "                        <td id=\"T_8f3b8_row5_col0\" class=\"data row5 col0\" >23%</td>\n",
       "            </tr>\n",
       "            <tr>\n",
       "                        <th id=\"T_8f3b8_level0_row6\" class=\"row_heading level0 row6\" >cityCenters_nearest</th>\n",
       "                        <td id=\"T_8f3b8_row6_col0\" class=\"data row6 col0\" >23%</td>\n",
       "            </tr>\n",
       "            <tr>\n",
       "                        <th id=\"T_8f3b8_level0_row7\" class=\"row_heading level0 row7\" >ponds_around3000</th>\n",
       "                        <td id=\"T_8f3b8_row7_col0\" class=\"data row7 col0\" >23%</td>\n",
       "            </tr>\n",
       "            <tr>\n",
       "                        <th id=\"T_8f3b8_level0_row8\" class=\"row_heading level0 row8\" >parks_around3000</th>\n",
       "                        <td id=\"T_8f3b8_row8_col0\" class=\"data row8 col0\" >23%</td>\n",
       "            </tr>\n",
       "            <tr>\n",
       "                        <th id=\"T_8f3b8_level0_row9\" class=\"row_heading level0 row9\" >days_exposition</th>\n",
       "                        <td id=\"T_8f3b8_row9_col0\" class=\"data row9 col0\" >13%</td>\n",
       "            </tr>\n",
       "            <tr>\n",
       "                        <th id=\"T_8f3b8_level0_row10\" class=\"row_heading level0 row10\" >kitchen_area</th>\n",
       "                        <td id=\"T_8f3b8_row10_col0\" class=\"data row10 col0\" >10%</td>\n",
       "            </tr>\n",
       "            <tr>\n",
       "                        <th id=\"T_8f3b8_level0_row11\" class=\"row_heading level0 row11\" >living_area</th>\n",
       "                        <td id=\"T_8f3b8_row11_col0\" class=\"data row11 col0\" >8%</td>\n",
       "            </tr>\n",
       "            <tr>\n",
       "                        <th id=\"T_8f3b8_level0_row12\" class=\"row_heading level0 row12\" >floors_total</th>\n",
       "                        <td id=\"T_8f3b8_row12_col0\" class=\"data row12 col0\" >0%</td>\n",
       "            </tr>\n",
       "            <tr>\n",
       "                        <th id=\"T_8f3b8_level0_row13\" class=\"row_heading level0 row13\" >locality_name</th>\n",
       "                        <td id=\"T_8f3b8_row13_col0\" class=\"data row13 col0\" >0%</td>\n",
       "            </tr>\n",
       "            <tr>\n",
       "                        <th id=\"T_8f3b8_level0_row14\" class=\"row_heading level0 row14\" >total_images</th>\n",
       "                        <td id=\"T_8f3b8_row14_col0\" class=\"data row14 col0\" >0%</td>\n",
       "            </tr>\n",
       "            <tr>\n",
       "                        <th id=\"T_8f3b8_level0_row15\" class=\"row_heading level0 row15\" >last_price</th>\n",
       "                        <td id=\"T_8f3b8_row15_col0\" class=\"data row15 col0\" >0%</td>\n",
       "            </tr>\n",
       "            <tr>\n",
       "                        <th id=\"T_8f3b8_level0_row16\" class=\"row_heading level0 row16\" >studio</th>\n",
       "                        <td id=\"T_8f3b8_row16_col0\" class=\"data row16 col0\" >0%</td>\n",
       "            </tr>\n",
       "            <tr>\n",
       "                        <th id=\"T_8f3b8_level0_row17\" class=\"row_heading level0 row17\" >floor</th>\n",
       "                        <td id=\"T_8f3b8_row17_col0\" class=\"data row17 col0\" >0%</td>\n",
       "            </tr>\n",
       "            <tr>\n",
       "                        <th id=\"T_8f3b8_level0_row18\" class=\"row_heading level0 row18\" >rooms</th>\n",
       "                        <td id=\"T_8f3b8_row18_col0\" class=\"data row18 col0\" >0%</td>\n",
       "            </tr>\n",
       "            <tr>\n",
       "                        <th id=\"T_8f3b8_level0_row19\" class=\"row_heading level0 row19\" >first_day_exposition</th>\n",
       "                        <td id=\"T_8f3b8_row19_col0\" class=\"data row19 col0\" >0%</td>\n",
       "            </tr>\n",
       "            <tr>\n",
       "                        <th id=\"T_8f3b8_level0_row20\" class=\"row_heading level0 row20\" >total_area</th>\n",
       "                        <td id=\"T_8f3b8_row20_col0\" class=\"data row20 col0\" >0%</td>\n",
       "            </tr>\n",
       "            <tr>\n",
       "                        <th id=\"T_8f3b8_level0_row21\" class=\"row_heading level0 row21\" >open_plan</th>\n",
       "                        <td id=\"T_8f3b8_row21_col0\" class=\"data row21 col0\" >0%</td>\n",
       "            </tr>\n",
       "    </tbody></table>"
      ],
      "text/plain": [
       "<pandas.io.formats.style.Styler at 0x7f9e4bb63fd0>"
      ]
     },
     "execution_count": 5,
     "metadata": {},
     "output_type": "execute_result"
    }
   ],
   "source": [
    "# Посмотрим, в каких колонках есть пропуски\n",
    "(pd.DataFrame(data.isna().mean())\n",
    " .sort_values(0, ascending=False)\n",
    " .style.background_gradient('coolwarm')\n",
    " .format(formatter={0: '{0:.0%}'})\n",
    " .set_caption('Доля пропусков в колонках'))"
   ]
  },
  {
   "cell_type": "markdown",
   "metadata": {},
   "source": [
    "Если человек не указал количество балконов, скорее всего их нет. То же самое справедливо для апартамента - если не указано, что квартира является апартаментами, вероятнее всего, она ими не является."
   ]
  },
  {
   "cell_type": "code",
   "execution_count": 6,
   "metadata": {},
   "outputs": [],
   "source": [
    "data['is_apartment'].fillna(False, inplace=True)\n",
    "data['balcony'].fillna(0, inplace=True)"
   ]
  },
  {
   "cell_type": "markdown",
   "metadata": {},
   "source": [
    "Изучая данные, мы обнаружили, что существуют квартиры с количеством комнат - 0. Это странно. Стоит переписать значения этих комнат на 1."
   ]
  },
  {
   "cell_type": "code",
   "execution_count": 7,
   "metadata": {},
   "outputs": [],
   "source": [
    "data.loc[data['rooms'] == 0, 'rooms']= 1"
   ]
  },
  {
   "cell_type": "markdown",
   "metadata": {},
   "source": [
    "Чтобы  заполнить пропуски в *living_area* и *kitchen_area* можно посчитать, какую обычно долю от общей площади они занимают в квартирах с таким же количеством комнат."
   ]
  },
  {
   "cell_type": "code",
   "execution_count": 8,
   "metadata": {},
   "outputs": [],
   "source": [
    "area_share = data[(~data['kitchen_area'].isna()) \n",
    "                  & \n",
    "                  (~data['living_area'].isna())].pivot_table(index='rooms', \n",
    "                                                              values=['living_area', 'kitchen_area', 'total_area'],\n",
    "                                                              aggfunc='sum')\n",
    "area_share['kitchen_share'] = area_share['kitchen_area'] / area_share['total_area']\n",
    "area_share['living_share'] = area_share['living_area'] / area_share['total_area']"
   ]
  },
  {
   "cell_type": "markdown",
   "metadata": {},
   "source": [
    "И для пропущенных значений вычислить площадь кухни и жилых помещений."
   ]
  },
  {
   "cell_type": "code",
   "execution_count": 9,
   "metadata": {},
   "outputs": [],
   "source": [
    "for i in area_share.index:\n",
    "    data.loc[(data['living_area'].isna())\n",
    "              &\n",
    "              (data['rooms'] == i), 'living_area'] =  data.loc[(data['living_area'].isna())\n",
    "                                                               &\n",
    "                                                               (data['rooms'] == i), 'total_area'] * area_share.loc[i, 'living_share']\n",
    "    data.loc[(data['kitchen_area'].isna())\n",
    "              &\n",
    "              (data['rooms'] == i), 'kitchen_area'] =  data.loc[(data['kitchen_area'].isna())\n",
    "                                                                &\n",
    "                                                                (data['rooms'] == i), 'total_area'] * area_share.loc[i, 'kitchen_share']"
   ]
  },
  {
   "cell_type": "markdown",
   "metadata": {},
   "source": [
    "Для потолков возьмём медианное значение"
   ]
  },
  {
   "cell_type": "code",
   "execution_count": 10,
   "metadata": {},
   "outputs": [],
   "source": [
    "data['ceiling_height'].fillna(data['ceiling_height'].median(), inplace=True)"
   ]
  },
  {
   "cell_type": "code",
   "execution_count": 11,
   "metadata": {},
   "outputs": [
    {
     "data": {
      "text/html": [
       "<style  type=\"text/css\" >\n",
       "#T_baeb9_row0_col0{\n",
       "            background-color:  #b40426;\n",
       "            color:  #f1f1f1;\n",
       "        }#T_baeb9_row1_col0{\n",
       "            background-color:  #cb3e38;\n",
       "            color:  #f1f1f1;\n",
       "        }#T_baeb9_row2_col0,#T_baeb9_row3_col0,#T_baeb9_row4_col0,#T_baeb9_row5_col0{\n",
       "            background-color:  #b1cbfc;\n",
       "            color:  #000000;\n",
       "        }#T_baeb9_row6_col0{\n",
       "            background-color:  #7da0f9;\n",
       "            color:  #000000;\n",
       "        }#T_baeb9_row7_col0{\n",
       "            background-color:  #3c4ec2;\n",
       "            color:  #f1f1f1;\n",
       "        }#T_baeb9_row8_col0,#T_baeb9_row9_col0,#T_baeb9_row10_col0,#T_baeb9_row11_col0,#T_baeb9_row12_col0,#T_baeb9_row13_col0,#T_baeb9_row14_col0,#T_baeb9_row15_col0,#T_baeb9_row16_col0,#T_baeb9_row17_col0,#T_baeb9_row18_col0,#T_baeb9_row19_col0,#T_baeb9_row20_col0,#T_baeb9_row21_col0{\n",
       "            background-color:  #3b4cc0;\n",
       "            color:  #f1f1f1;\n",
       "        }</style><table id=\"T_baeb9_\" ><caption>Доля пропусков в колонках</caption><thead>    <tr>        <th class=\"blank level0\" ></th>        <th class=\"col_heading level0 col0\" >0</th>    </tr></thead><tbody>\n",
       "                <tr>\n",
       "                        <th id=\"T_baeb9_level0_row0\" class=\"row_heading level0 row0\" >parks_nearest</th>\n",
       "                        <td id=\"T_baeb9_row0_col0\" class=\"data row0 col0\" >66%</td>\n",
       "            </tr>\n",
       "            <tr>\n",
       "                        <th id=\"T_baeb9_level0_row1\" class=\"row_heading level0 row1\" >ponds_nearest</th>\n",
       "                        <td id=\"T_baeb9_row1_col0\" class=\"data row1 col0\" >62%</td>\n",
       "            </tr>\n",
       "            <tr>\n",
       "                        <th id=\"T_baeb9_level0_row2\" class=\"row_heading level0 row2\" >airports_nearest</th>\n",
       "                        <td id=\"T_baeb9_row2_col0\" class=\"data row2 col0\" >23%</td>\n",
       "            </tr>\n",
       "            <tr>\n",
       "                        <th id=\"T_baeb9_level0_row3\" class=\"row_heading level0 row3\" >cityCenters_nearest</th>\n",
       "                        <td id=\"T_baeb9_row3_col0\" class=\"data row3 col0\" >23%</td>\n",
       "            </tr>\n",
       "            <tr>\n",
       "                        <th id=\"T_baeb9_level0_row4\" class=\"row_heading level0 row4\" >ponds_around3000</th>\n",
       "                        <td id=\"T_baeb9_row4_col0\" class=\"data row4 col0\" >23%</td>\n",
       "            </tr>\n",
       "            <tr>\n",
       "                        <th id=\"T_baeb9_level0_row5\" class=\"row_heading level0 row5\" >parks_around3000</th>\n",
       "                        <td id=\"T_baeb9_row5_col0\" class=\"data row5 col0\" >23%</td>\n",
       "            </tr>\n",
       "            <tr>\n",
       "                        <th id=\"T_baeb9_level0_row6\" class=\"row_heading level0 row6\" >days_exposition</th>\n",
       "                        <td id=\"T_baeb9_row6_col0\" class=\"data row6 col0\" >13%</td>\n",
       "            </tr>\n",
       "            <tr>\n",
       "                        <th id=\"T_baeb9_level0_row7\" class=\"row_heading level0 row7\" >floors_total</th>\n",
       "                        <td id=\"T_baeb9_row7_col0\" class=\"data row7 col0\" >0%</td>\n",
       "            </tr>\n",
       "            <tr>\n",
       "                        <th id=\"T_baeb9_level0_row8\" class=\"row_heading level0 row8\" >locality_name</th>\n",
       "                        <td id=\"T_baeb9_row8_col0\" class=\"data row8 col0\" >0%</td>\n",
       "            </tr>\n",
       "            <tr>\n",
       "                        <th id=\"T_baeb9_level0_row9\" class=\"row_heading level0 row9\" >kitchen_area</th>\n",
       "                        <td id=\"T_baeb9_row9_col0\" class=\"data row9 col0\" >0%</td>\n",
       "            </tr>\n",
       "            <tr>\n",
       "                        <th id=\"T_baeb9_level0_row10\" class=\"row_heading level0 row10\" >balcony</th>\n",
       "                        <td id=\"T_baeb9_row10_col0\" class=\"data row10 col0\" >0%</td>\n",
       "            </tr>\n",
       "            <tr>\n",
       "                        <th id=\"T_baeb9_level0_row11\" class=\"row_heading level0 row11\" >total_images</th>\n",
       "                        <td id=\"T_baeb9_row11_col0\" class=\"data row11 col0\" >0%</td>\n",
       "            </tr>\n",
       "            <tr>\n",
       "                        <th id=\"T_baeb9_level0_row12\" class=\"row_heading level0 row12\" >last_price</th>\n",
       "                        <td id=\"T_baeb9_row12_col0\" class=\"data row12 col0\" >0%</td>\n",
       "            </tr>\n",
       "            <tr>\n",
       "                        <th id=\"T_baeb9_level0_row13\" class=\"row_heading level0 row13\" >studio</th>\n",
       "                        <td id=\"T_baeb9_row13_col0\" class=\"data row13 col0\" >0%</td>\n",
       "            </tr>\n",
       "            <tr>\n",
       "                        <th id=\"T_baeb9_level0_row14\" class=\"row_heading level0 row14\" >is_apartment</th>\n",
       "                        <td id=\"T_baeb9_row14_col0\" class=\"data row14 col0\" >0%</td>\n",
       "            </tr>\n",
       "            <tr>\n",
       "                        <th id=\"T_baeb9_level0_row15\" class=\"row_heading level0 row15\" >floor</th>\n",
       "                        <td id=\"T_baeb9_row15_col0\" class=\"data row15 col0\" >0%</td>\n",
       "            </tr>\n",
       "            <tr>\n",
       "                        <th id=\"T_baeb9_level0_row16\" class=\"row_heading level0 row16\" >living_area</th>\n",
       "                        <td id=\"T_baeb9_row16_col0\" class=\"data row16 col0\" >0%</td>\n",
       "            </tr>\n",
       "            <tr>\n",
       "                        <th id=\"T_baeb9_level0_row17\" class=\"row_heading level0 row17\" >ceiling_height</th>\n",
       "                        <td id=\"T_baeb9_row17_col0\" class=\"data row17 col0\" >0%</td>\n",
       "            </tr>\n",
       "            <tr>\n",
       "                        <th id=\"T_baeb9_level0_row18\" class=\"row_heading level0 row18\" >rooms</th>\n",
       "                        <td id=\"T_baeb9_row18_col0\" class=\"data row18 col0\" >0%</td>\n",
       "            </tr>\n",
       "            <tr>\n",
       "                        <th id=\"T_baeb9_level0_row19\" class=\"row_heading level0 row19\" >first_day_exposition</th>\n",
       "                        <td id=\"T_baeb9_row19_col0\" class=\"data row19 col0\" >0%</td>\n",
       "            </tr>\n",
       "            <tr>\n",
       "                        <th id=\"T_baeb9_level0_row20\" class=\"row_heading level0 row20\" >total_area</th>\n",
       "                        <td id=\"T_baeb9_row20_col0\" class=\"data row20 col0\" >0%</td>\n",
       "            </tr>\n",
       "            <tr>\n",
       "                        <th id=\"T_baeb9_level0_row21\" class=\"row_heading level0 row21\" >open_plan</th>\n",
       "                        <td id=\"T_baeb9_row21_col0\" class=\"data row21 col0\" >0%</td>\n",
       "            </tr>\n",
       "    </tbody></table>"
      ],
      "text/plain": [
       "<pandas.io.formats.style.Styler at 0x7f9e4ac7c670>"
      ]
     },
     "execution_count": 11,
     "metadata": {},
     "output_type": "execute_result"
    }
   ],
   "source": [
    "# Посмотрим, в каких колонках остались пропуски\n",
    "(pd.DataFrame(data.isna().mean())\n",
    " .sort_values(0, ascending=False)\n",
    " .style.background_gradient('coolwarm')\n",
    " .format(formatter={0: '{0:.0%}'})\n",
    " .set_caption('Доля пропусков в колонках'))"
   ]
  },
  {
   "cell_type": "markdown",
   "metadata": {},
   "source": [
    "Заполнить остальные пропуски на текущих данных было бы возможно, будь у нас в наличии географические координаты. \n",
    "\n",
    "*days_exposition* оставим с пропусками. Квартира еще в продаже, заполнять эту колонку нечем."
   ]
  },
  {
   "cell_type": "markdown",
   "metadata": {},
   "source": [
    "#### Изменение типов"
   ]
  },
  {
   "cell_type": "code",
   "execution_count": 12,
   "metadata": {},
   "outputs": [
    {
     "data": {
      "text/plain": [
       "total_images              int64\n",
       "last_price              float64\n",
       "total_area              float64\n",
       "first_day_exposition     object\n",
       "rooms                     int64\n",
       "ceiling_height          float64\n",
       "floors_total            float64\n",
       "living_area             float64\n",
       "floor                     int64\n",
       "is_apartment               bool\n",
       "studio                     bool\n",
       "open_plan                  bool\n",
       "kitchen_area            float64\n",
       "balcony                 float64\n",
       "locality_name            object\n",
       "airports_nearest        float64\n",
       "cityCenters_nearest     float64\n",
       "parks_around3000        float64\n",
       "parks_nearest           float64\n",
       "ponds_around3000        float64\n",
       "ponds_nearest           float64\n",
       "days_exposition         float64\n",
       "dtype: object"
      ]
     },
     "execution_count": 12,
     "metadata": {},
     "output_type": "execute_result"
    }
   ],
   "source": [
    "data.dtypes"
   ]
  },
  {
   "cell_type": "markdown",
   "metadata": {},
   "source": [
    "Данные в основном в порядке за некоторым исключением.\n",
    "- Имеет смысль преобразовать в дату колонку *first_day_exposition*\n",
    "- *balcony* стоит преобразовать в тип данных integer "
   ]
  },
  {
   "cell_type": "code",
   "execution_count": 13,
   "metadata": {},
   "outputs": [],
   "source": [
    "data['first_day_exposition'] = pd.to_datetime(data['first_day_exposition'])\n",
    "data['balcony'] = data['balcony'].astype('int')"
   ]
  },
  {
   "cell_type": "code",
   "execution_count": 14,
   "metadata": {},
   "outputs": [
    {
     "data": {
      "text/plain": [
       "total_images                     int64\n",
       "last_price                     float64\n",
       "total_area                     float64\n",
       "first_day_exposition    datetime64[ns]\n",
       "rooms                            int64\n",
       "ceiling_height                 float64\n",
       "floors_total                   float64\n",
       "living_area                    float64\n",
       "floor                            int64\n",
       "is_apartment                      bool\n",
       "studio                            bool\n",
       "open_plan                         bool\n",
       "kitchen_area                   float64\n",
       "balcony                          int64\n",
       "locality_name                   object\n",
       "airports_nearest               float64\n",
       "cityCenters_nearest            float64\n",
       "parks_around3000               float64\n",
       "parks_nearest                  float64\n",
       "ponds_around3000               float64\n",
       "ponds_nearest                  float64\n",
       "days_exposition                float64\n",
       "dtype: object"
      ]
     },
     "execution_count": 14,
     "metadata": {},
     "output_type": "execute_result"
    }
   ],
   "source": [
    "data.dtypes"
   ]
  },
  {
   "cell_type": "markdown",
   "metadata": {},
   "source": [
    "#### Дубликаты"
   ]
  },
  {
   "cell_type": "code",
   "execution_count": 15,
   "metadata": {},
   "outputs": [
    {
     "data": {
      "text/plain": [
       "0"
      ]
     },
     "execution_count": 15,
     "metadata": {},
     "output_type": "execute_result"
    }
   ],
   "source": [
    "data.duplicated().sum()"
   ]
  },
  {
   "cell_type": "markdown",
   "metadata": {},
   "source": [
    "Явные дубликаты отсутствуют, но присутствуют неявыне дубликаты. Встречаются как *чистые* названия населенных пунктов, например \"Мурино\", так и тип + название, например \"посёлок Мурино\". Очистим названия, чтобы удалить неявные дубликаты"
   ]
  },
  {
   "cell_type": "code",
   "execution_count": 16,
   "metadata": {},
   "outputs": [],
   "source": [
    "data['locality_name'] = (data['locality_name']\n",
    "                         .str.replace('посёлок ', '')\n",
    "                         .str.replace('деревня ', '')\n",
    "                         .str.replace('поселок ', '')\n",
    "                         .str.replace('городского типа ', '')\n",
    "                         .str.replace('село ', '')\n",
    "                         .str.replace('городской ', '')\n",
    "                         .str.replace('при железнодорожной ', '')\n",
    "                         .str.replace('имени ', '')\n",
    "                         .str.replace('станции ', '')\n",
    "                         .str.replace('садовое товарищество ', '')\n",
    "                         .str.replace('садоводческое некоммерческое товарищество ', '')\n",
    "                         .str.replace('коттеджный ', '')\n",
    "                         .str.replace('Пансионат ', '')\n",
    "                         .str.replace('Форт ', '')\n",
    "                         .str.replace('Платформа ', '')\n",
    "                        )"
   ]
  },
  {
   "cell_type": "markdown",
   "metadata": {},
   "source": [
    "#### Аномалии"
   ]
  },
  {
   "cell_type": "code",
   "execution_count": 17,
   "metadata": {},
   "outputs": [
    {
     "data": {
      "text/html": [
       "<div>\n",
       "<style scoped>\n",
       "    .dataframe tbody tr th:only-of-type {\n",
       "        vertical-align: middle;\n",
       "    }\n",
       "\n",
       "    .dataframe tbody tr th {\n",
       "        vertical-align: top;\n",
       "    }\n",
       "\n",
       "    .dataframe thead th {\n",
       "        text-align: right;\n",
       "    }\n",
       "</style>\n",
       "<table border=\"1\" class=\"dataframe\">\n",
       "  <thead>\n",
       "    <tr style=\"text-align: right;\">\n",
       "      <th></th>\n",
       "      <th>total_images</th>\n",
       "      <th>last_price</th>\n",
       "      <th>total_area</th>\n",
       "      <th>rooms</th>\n",
       "      <th>ceiling_height</th>\n",
       "      <th>floors_total</th>\n",
       "      <th>living_area</th>\n",
       "      <th>floor</th>\n",
       "      <th>kitchen_area</th>\n",
       "      <th>balcony</th>\n",
       "      <th>airports_nearest</th>\n",
       "      <th>cityCenters_nearest</th>\n",
       "      <th>parks_around3000</th>\n",
       "      <th>parks_nearest</th>\n",
       "      <th>ponds_around3000</th>\n",
       "      <th>ponds_nearest</th>\n",
       "      <th>days_exposition</th>\n",
       "    </tr>\n",
       "  </thead>\n",
       "  <tbody>\n",
       "    <tr>\n",
       "      <th>count</th>\n",
       "      <td>23699.000000</td>\n",
       "      <td>2.369900e+04</td>\n",
       "      <td>23699.000000</td>\n",
       "      <td>23699.000000</td>\n",
       "      <td>23699.000000</td>\n",
       "      <td>23613.000000</td>\n",
       "      <td>23699.000000</td>\n",
       "      <td>23699.000000</td>\n",
       "      <td>23699.000000</td>\n",
       "      <td>23699.000000</td>\n",
       "      <td>18157.000000</td>\n",
       "      <td>18180.000000</td>\n",
       "      <td>18181.000000</td>\n",
       "      <td>8079.000000</td>\n",
       "      <td>18181.000000</td>\n",
       "      <td>9110.000000</td>\n",
       "      <td>20518.000000</td>\n",
       "    </tr>\n",
       "    <tr>\n",
       "      <th>mean</th>\n",
       "      <td>9.858475</td>\n",
       "      <td>6.541549e+06</td>\n",
       "      <td>60.348651</td>\n",
       "      <td>2.078948</td>\n",
       "      <td>2.724358</td>\n",
       "      <td>10.673824</td>\n",
       "      <td>34.594319</td>\n",
       "      <td>5.892358</td>\n",
       "      <td>10.529404</td>\n",
       "      <td>0.591080</td>\n",
       "      <td>28793.672193</td>\n",
       "      <td>14191.277833</td>\n",
       "      <td>0.611408</td>\n",
       "      <td>490.804555</td>\n",
       "      <td>0.770255</td>\n",
       "      <td>517.980900</td>\n",
       "      <td>180.888634</td>\n",
       "    </tr>\n",
       "    <tr>\n",
       "      <th>std</th>\n",
       "      <td>5.682529</td>\n",
       "      <td>1.088701e+07</td>\n",
       "      <td>35.654083</td>\n",
       "      <td>1.066196</td>\n",
       "      <td>0.988298</td>\n",
       "      <td>6.597173</td>\n",
       "      <td>22.653959</td>\n",
       "      <td>4.885249</td>\n",
       "      <td>5.834812</td>\n",
       "      <td>0.959298</td>\n",
       "      <td>12630.880622</td>\n",
       "      <td>8608.386210</td>\n",
       "      <td>0.802074</td>\n",
       "      <td>342.317995</td>\n",
       "      <td>0.938346</td>\n",
       "      <td>277.720643</td>\n",
       "      <td>219.727988</td>\n",
       "    </tr>\n",
       "    <tr>\n",
       "      <th>min</th>\n",
       "      <td>0.000000</td>\n",
       "      <td>1.219000e+04</td>\n",
       "      <td>12.000000</td>\n",
       "      <td>1.000000</td>\n",
       "      <td>1.000000</td>\n",
       "      <td>1.000000</td>\n",
       "      <td>2.000000</td>\n",
       "      <td>1.000000</td>\n",
       "      <td>1.300000</td>\n",
       "      <td>0.000000</td>\n",
       "      <td>0.000000</td>\n",
       "      <td>181.000000</td>\n",
       "      <td>0.000000</td>\n",
       "      <td>1.000000</td>\n",
       "      <td>0.000000</td>\n",
       "      <td>13.000000</td>\n",
       "      <td>1.000000</td>\n",
       "    </tr>\n",
       "    <tr>\n",
       "      <th>25%</th>\n",
       "      <td>6.000000</td>\n",
       "      <td>3.400000e+06</td>\n",
       "      <td>40.000000</td>\n",
       "      <td>1.000000</td>\n",
       "      <td>2.600000</td>\n",
       "      <td>5.000000</td>\n",
       "      <td>18.700000</td>\n",
       "      <td>2.000000</td>\n",
       "      <td>7.100000</td>\n",
       "      <td>0.000000</td>\n",
       "      <td>18585.000000</td>\n",
       "      <td>9238.000000</td>\n",
       "      <td>0.000000</td>\n",
       "      <td>288.000000</td>\n",
       "      <td>0.000000</td>\n",
       "      <td>294.000000</td>\n",
       "      <td>45.000000</td>\n",
       "    </tr>\n",
       "    <tr>\n",
       "      <th>50%</th>\n",
       "      <td>9.000000</td>\n",
       "      <td>4.650000e+06</td>\n",
       "      <td>52.000000</td>\n",
       "      <td>2.000000</td>\n",
       "      <td>2.650000</td>\n",
       "      <td>9.000000</td>\n",
       "      <td>30.000000</td>\n",
       "      <td>4.000000</td>\n",
       "      <td>9.181770</td>\n",
       "      <td>0.000000</td>\n",
       "      <td>26726.000000</td>\n",
       "      <td>13098.500000</td>\n",
       "      <td>0.000000</td>\n",
       "      <td>455.000000</td>\n",
       "      <td>1.000000</td>\n",
       "      <td>502.000000</td>\n",
       "      <td>95.000000</td>\n",
       "    </tr>\n",
       "    <tr>\n",
       "      <th>75%</th>\n",
       "      <td>14.000000</td>\n",
       "      <td>6.800000e+06</td>\n",
       "      <td>69.900000</td>\n",
       "      <td>3.000000</td>\n",
       "      <td>2.700000</td>\n",
       "      <td>16.000000</td>\n",
       "      <td>42.300000</td>\n",
       "      <td>8.000000</td>\n",
       "      <td>11.927536</td>\n",
       "      <td>1.000000</td>\n",
       "      <td>37273.000000</td>\n",
       "      <td>16293.000000</td>\n",
       "      <td>1.000000</td>\n",
       "      <td>612.000000</td>\n",
       "      <td>1.000000</td>\n",
       "      <td>729.000000</td>\n",
       "      <td>232.000000</td>\n",
       "    </tr>\n",
       "    <tr>\n",
       "      <th>max</th>\n",
       "      <td>50.000000</td>\n",
       "      <td>7.630000e+08</td>\n",
       "      <td>900.000000</td>\n",
       "      <td>19.000000</td>\n",
       "      <td>100.000000</td>\n",
       "      <td>60.000000</td>\n",
       "      <td>409.700000</td>\n",
       "      <td>33.000000</td>\n",
       "      <td>124.634963</td>\n",
       "      <td>5.000000</td>\n",
       "      <td>84869.000000</td>\n",
       "      <td>65968.000000</td>\n",
       "      <td>3.000000</td>\n",
       "      <td>3190.000000</td>\n",
       "      <td>3.000000</td>\n",
       "      <td>1344.000000</td>\n",
       "      <td>1580.000000</td>\n",
       "    </tr>\n",
       "  </tbody>\n",
       "</table>\n",
       "</div>"
      ],
      "text/plain": [
       "       total_images    last_price    total_area         rooms  ceiling_height  \\\n",
       "count  23699.000000  2.369900e+04  23699.000000  23699.000000    23699.000000   \n",
       "mean       9.858475  6.541549e+06     60.348651      2.078948        2.724358   \n",
       "std        5.682529  1.088701e+07     35.654083      1.066196        0.988298   \n",
       "min        0.000000  1.219000e+04     12.000000      1.000000        1.000000   \n",
       "25%        6.000000  3.400000e+06     40.000000      1.000000        2.600000   \n",
       "50%        9.000000  4.650000e+06     52.000000      2.000000        2.650000   \n",
       "75%       14.000000  6.800000e+06     69.900000      3.000000        2.700000   \n",
       "max       50.000000  7.630000e+08    900.000000     19.000000      100.000000   \n",
       "\n",
       "       floors_total   living_area         floor  kitchen_area       balcony  \\\n",
       "count  23613.000000  23699.000000  23699.000000  23699.000000  23699.000000   \n",
       "mean      10.673824     34.594319      5.892358     10.529404      0.591080   \n",
       "std        6.597173     22.653959      4.885249      5.834812      0.959298   \n",
       "min        1.000000      2.000000      1.000000      1.300000      0.000000   \n",
       "25%        5.000000     18.700000      2.000000      7.100000      0.000000   \n",
       "50%        9.000000     30.000000      4.000000      9.181770      0.000000   \n",
       "75%       16.000000     42.300000      8.000000     11.927536      1.000000   \n",
       "max       60.000000    409.700000     33.000000    124.634963      5.000000   \n",
       "\n",
       "       airports_nearest  cityCenters_nearest  parks_around3000  parks_nearest  \\\n",
       "count      18157.000000         18180.000000      18181.000000    8079.000000   \n",
       "mean       28793.672193         14191.277833          0.611408     490.804555   \n",
       "std        12630.880622          8608.386210          0.802074     342.317995   \n",
       "min            0.000000           181.000000          0.000000       1.000000   \n",
       "25%        18585.000000          9238.000000          0.000000     288.000000   \n",
       "50%        26726.000000         13098.500000          0.000000     455.000000   \n",
       "75%        37273.000000         16293.000000          1.000000     612.000000   \n",
       "max        84869.000000         65968.000000          3.000000    3190.000000   \n",
       "\n",
       "       ponds_around3000  ponds_nearest  days_exposition  \n",
       "count      18181.000000    9110.000000     20518.000000  \n",
       "mean           0.770255     517.980900       180.888634  \n",
       "std            0.938346     277.720643       219.727988  \n",
       "min            0.000000      13.000000         1.000000  \n",
       "25%            0.000000     294.000000        45.000000  \n",
       "50%            1.000000     502.000000        95.000000  \n",
       "75%            1.000000     729.000000       232.000000  \n",
       "max            3.000000    1344.000000      1580.000000  "
      ]
     },
     "execution_count": 17,
     "metadata": {},
     "output_type": "execute_result"
    }
   ],
   "source": [
    "data.describe()"
   ]
  },
  {
   "cell_type": "markdown",
   "metadata": {},
   "source": [
    "Настораживают 19-комнатные дома в 900 кв.м. с жилой площадью 409 кв.м. и площадью кухни в 124 кв. м. Также застораживают 100-метровые потолки"
   ]
  },
  {
   "cell_type": "code",
   "execution_count": 18,
   "metadata": {},
   "outputs": [
    {
     "data": {
      "text/plain": [
       "(2.0, 3.0)"
      ]
     },
     "execution_count": 18,
     "metadata": {},
     "output_type": "execute_result"
    },
    {
     "data": {
      "image/png": "[encoded data removed]",
      "text/plain": [
       "<Figure size 432x288 with 1 Axes>"
      ]
     },
     "metadata": {
      "needs_background": "light"
     },
     "output_type": "display_data"
    }
   ],
   "source": [
    "ax = data['ceiling_height'].plot(kind='box')\n",
    "ax.set_ylim(2, 3)"
   ]
  },
  {
   "cell_type": "code",
   "execution_count": 19,
   "metadata": {},
   "outputs": [
    {
     "data": {
      "text/plain": [
       "1.3"
      ]
     },
     "execution_count": 19,
     "metadata": {},
     "output_type": "execute_result"
    }
   ],
   "source": [
    "# Доля потолков выше 3.5 метров\n",
    "round(data[data['ceiling_height'] > 3.5].shape[0] / data.shape[0] * 100, 1)"
   ]
  },
  {
   "cell_type": "markdown",
   "metadata": {},
   "source": [
    "Потолки выше, чем 3.5 метра выглядят аномально и, встречаются лишь в 1.3% случаев. Также согласно современных правил потолки не могут быть ниже 2.5 метров. Удалим эти данные из датасета"
   ]
  },
  {
   "cell_type": "code",
   "execution_count": 20,
   "metadata": {},
   "outputs": [],
   "source": [
    "data = data[(data['ceiling_height'] < 3.5) & (data['ceiling_height'] > 2.5)]"
   ]
  },
  {
   "cell_type": "code",
   "execution_count": 21,
   "metadata": {},
   "outputs": [
    {
     "data": {
      "image/png": "[encoded data removed]",
      "text/plain": [
       "<Figure size 432x288 with 1 Axes>"
      ]
     },
     "metadata": {
      "needs_background": "light"
     },
     "output_type": "display_data"
    }
   ],
   "source": [
    "ax = data['total_area'].plot(kind='box')\n",
    "ax.set_ylim(0, 200);"
   ]
  },
  {
   "cell_type": "markdown",
   "metadata": {},
   "source": [
    "Жильё, площадью больше 125 метров считается выбросами. Но всё же таие квартиры вполне могут быть, если это жильё премиум-класса. Уберем из датасета квартиры площадью больше 200 кв. м."
   ]
  },
  {
   "cell_type": "code",
   "execution_count": 22,
   "metadata": {},
   "outputs": [],
   "source": [
    "data = data.drop(data[data['total_area'] > 200].index)"
   ]
  },
  {
   "cell_type": "code",
   "execution_count": 23,
   "metadata": {
    "scrolled": true
   },
   "outputs": [
    {
     "data": {
      "image/png": "[encoded data removed]",
      "text/plain": [
       "<Figure size 432x288 with 1 Axes>"
      ]
     },
     "metadata": {
      "needs_background": "light"
     },
     "output_type": "display_data"
    }
   ],
   "source": [
    "ax = data['living_area'].plot(kind='box')\n",
    "ax.set_ylim(0, 100);"
   ]
  },
  {
   "cell_type": "markdown",
   "metadata": {},
   "source": [
    "Жилая площадь больше 80 кв. м. считается аномальной. Поскольку мы несколько подняли границу для возможной общей площади, поднимем её и для жилой. Оставим квартиры не более 100 кв. м. жилой площади"
   ]
  },
  {
   "cell_type": "code",
   "execution_count": 24,
   "metadata": {},
   "outputs": [],
   "source": [
    "data = data.drop(data[data['living_area'] > 100].index)"
   ]
  },
  {
   "cell_type": "code",
   "execution_count": 25,
   "metadata": {},
   "outputs": [
    {
     "data": {
      "image/png": "[encoded data removed]",
      "text/plain": [
       "<Figure size 432x288 with 1 Axes>"
      ]
     },
     "metadata": {
      "needs_background": "light"
     },
     "output_type": "display_data"
    }
   ],
   "source": [
    "ax = data['kitchen_area'].plot(kind='box')\n",
    "ax.set_ylim(0, 20);"
   ]
  },
  {
   "cell_type": "markdown",
   "metadata": {},
   "source": [
    "Кухни больше 18 кв. м. считаюется аномальными. Поскольку мы несколько подняли границу для возможной общей площади, поднимем её и для жилой. Оставим квартиры не более 20 кв. м. жилой площади"
   ]
  },
  {
   "cell_type": "code",
   "execution_count": 26,
   "metadata": {},
   "outputs": [],
   "source": [
    "data = data.drop(data[data['kitchen_area'] > 20].index)"
   ]
  },
  {
   "cell_type": "code",
   "execution_count": 27,
   "metadata": {},
   "outputs": [
    {
     "data": {
      "text/html": [
       "<div>\n",
       "<style scoped>\n",
       "    .dataframe tbody tr th:only-of-type {\n",
       "        vertical-align: middle;\n",
       "    }\n",
       "\n",
       "    .dataframe tbody tr th {\n",
       "        vertical-align: top;\n",
       "    }\n",
       "\n",
       "    .dataframe thead th {\n",
       "        text-align: right;\n",
       "    }\n",
       "</style>\n",
       "<table border=\"1\" class=\"dataframe\">\n",
       "  <thead>\n",
       "    <tr style=\"text-align: right;\">\n",
       "      <th></th>\n",
       "      <th>total_images</th>\n",
       "      <th>last_price</th>\n",
       "      <th>total_area</th>\n",
       "      <th>rooms</th>\n",
       "      <th>ceiling_height</th>\n",
       "      <th>floors_total</th>\n",
       "      <th>living_area</th>\n",
       "      <th>floor</th>\n",
       "      <th>kitchen_area</th>\n",
       "      <th>balcony</th>\n",
       "      <th>airports_nearest</th>\n",
       "      <th>cityCenters_nearest</th>\n",
       "      <th>parks_around3000</th>\n",
       "      <th>parks_nearest</th>\n",
       "      <th>ponds_around3000</th>\n",
       "      <th>ponds_nearest</th>\n",
       "      <th>days_exposition</th>\n",
       "    </tr>\n",
       "  </thead>\n",
       "  <tbody>\n",
       "    <tr>\n",
       "      <th>count</th>\n",
       "      <td>18564.000000</td>\n",
       "      <td>1.856400e+04</td>\n",
       "      <td>18564.000000</td>\n",
       "      <td>18564.000000</td>\n",
       "      <td>18564.000000</td>\n",
       "      <td>18482.000000</td>\n",
       "      <td>18564.000000</td>\n",
       "      <td>18564.000000</td>\n",
       "      <td>18564.000000</td>\n",
       "      <td>18564.000000</td>\n",
       "      <td>14155.000000</td>\n",
       "      <td>14174.000000</td>\n",
       "      <td>14175.000000</td>\n",
       "      <td>6076.000000</td>\n",
       "      <td>14175.000000</td>\n",
       "      <td>7118.000000</td>\n",
       "      <td>16394.000000</td>\n",
       "    </tr>\n",
       "    <tr>\n",
       "      <th>mean</th>\n",
       "      <td>9.713963</td>\n",
       "      <td>5.668644e+06</td>\n",
       "      <td>56.535898</td>\n",
       "      <td>1.978291</td>\n",
       "      <td>2.703286</td>\n",
       "      <td>11.401309</td>\n",
       "      <td>32.202939</td>\n",
       "      <td>6.219565</td>\n",
       "      <td>9.918972</td>\n",
       "      <td>0.605796</td>\n",
       "      <td>28558.887248</td>\n",
       "      <td>14283.804219</td>\n",
       "      <td>0.581235</td>\n",
       "      <td>496.758558</td>\n",
       "      <td>0.764656</td>\n",
       "      <td>522.041023</td>\n",
       "      <td>178.290106</td>\n",
       "    </tr>\n",
       "    <tr>\n",
       "      <th>std</th>\n",
       "      <td>5.630534</td>\n",
       "      <td>4.261109e+06</td>\n",
       "      <td>22.804395</td>\n",
       "      <td>0.935173</td>\n",
       "      <td>0.149196</td>\n",
       "      <td>6.865677</td>\n",
       "      <td>15.569399</td>\n",
       "      <td>5.119333</td>\n",
       "      <td>3.164090</td>\n",
       "      <td>0.968646</td>\n",
       "      <td>12470.798706</td>\n",
       "      <td>8313.897104</td>\n",
       "      <td>0.781841</td>\n",
       "      <td>354.691601</td>\n",
       "      <td>0.928246</td>\n",
       "      <td>275.462414</td>\n",
       "      <td>217.373889</td>\n",
       "    </tr>\n",
       "    <tr>\n",
       "      <th>min</th>\n",
       "      <td>0.000000</td>\n",
       "      <td>4.300000e+05</td>\n",
       "      <td>12.000000</td>\n",
       "      <td>1.000000</td>\n",
       "      <td>2.510000</td>\n",
       "      <td>1.000000</td>\n",
       "      <td>2.000000</td>\n",
       "      <td>1.000000</td>\n",
       "      <td>1.300000</td>\n",
       "      <td>0.000000</td>\n",
       "      <td>0.000000</td>\n",
       "      <td>287.000000</td>\n",
       "      <td>0.000000</td>\n",
       "      <td>1.000000</td>\n",
       "      <td>0.000000</td>\n",
       "      <td>13.000000</td>\n",
       "      <td>2.000000</td>\n",
       "    </tr>\n",
       "    <tr>\n",
       "      <th>25%</th>\n",
       "      <td>6.000000</td>\n",
       "      <td>3.478750e+06</td>\n",
       "      <td>40.000000</td>\n",
       "      <td>1.000000</td>\n",
       "      <td>2.650000</td>\n",
       "      <td>5.000000</td>\n",
       "      <td>18.336163</td>\n",
       "      <td>2.000000</td>\n",
       "      <td>7.700000</td>\n",
       "      <td>0.000000</td>\n",
       "      <td>18459.000000</td>\n",
       "      <td>9623.750000</td>\n",
       "      <td>0.000000</td>\n",
       "      <td>288.000000</td>\n",
       "      <td>0.000000</td>\n",
       "      <td>303.000000</td>\n",
       "      <td>45.000000</td>\n",
       "    </tr>\n",
       "    <tr>\n",
       "      <th>50%</th>\n",
       "      <td>9.000000</td>\n",
       "      <td>4.650000e+06</td>\n",
       "      <td>51.500000</td>\n",
       "      <td>2.000000</td>\n",
       "      <td>2.650000</td>\n",
       "      <td>9.000000</td>\n",
       "      <td>30.000000</td>\n",
       "      <td>5.000000</td>\n",
       "      <td>9.574707</td>\n",
       "      <td>0.000000</td>\n",
       "      <td>26831.000000</td>\n",
       "      <td>13200.000000</td>\n",
       "      <td>0.000000</td>\n",
       "      <td>452.000000</td>\n",
       "      <td>1.000000</td>\n",
       "      <td>505.000000</td>\n",
       "      <td>94.000000</td>\n",
       "    </tr>\n",
       "    <tr>\n",
       "      <th>75%</th>\n",
       "      <td>14.000000</td>\n",
       "      <td>6.600000e+06</td>\n",
       "      <td>68.000000</td>\n",
       "      <td>3.000000</td>\n",
       "      <td>2.700000</td>\n",
       "      <td>16.000000</td>\n",
       "      <td>41.589201</td>\n",
       "      <td>9.000000</td>\n",
       "      <td>11.610321</td>\n",
       "      <td>1.000000</td>\n",
       "      <td>36771.000000</td>\n",
       "      <td>16316.000000</td>\n",
       "      <td>1.000000</td>\n",
       "      <td>616.000000</td>\n",
       "      <td>1.000000</td>\n",
       "      <td>729.000000</td>\n",
       "      <td>227.000000</td>\n",
       "    </tr>\n",
       "    <tr>\n",
       "      <th>max</th>\n",
       "      <td>42.000000</td>\n",
       "      <td>1.240000e+08</td>\n",
       "      <td>190.000000</td>\n",
       "      <td>7.000000</td>\n",
       "      <td>3.490000</td>\n",
       "      <td>60.000000</td>\n",
       "      <td>100.000000</td>\n",
       "      <td>33.000000</td>\n",
       "      <td>20.000000</td>\n",
       "      <td>5.000000</td>\n",
       "      <td>84869.000000</td>\n",
       "      <td>65968.000000</td>\n",
       "      <td>3.000000</td>\n",
       "      <td>3190.000000</td>\n",
       "      <td>3.000000</td>\n",
       "      <td>1344.000000</td>\n",
       "      <td>1572.000000</td>\n",
       "    </tr>\n",
       "  </tbody>\n",
       "</table>\n",
       "</div>"
      ],
      "text/plain": [
       "       total_images    last_price    total_area         rooms  ceiling_height  \\\n",
       "count  18564.000000  1.856400e+04  18564.000000  18564.000000    18564.000000   \n",
       "mean       9.713963  5.668644e+06     56.535898      1.978291        2.703286   \n",
       "std        5.630534  4.261109e+06     22.804395      0.935173        0.149196   \n",
       "min        0.000000  4.300000e+05     12.000000      1.000000        2.510000   \n",
       "25%        6.000000  3.478750e+06     40.000000      1.000000        2.650000   \n",
       "50%        9.000000  4.650000e+06     51.500000      2.000000        2.650000   \n",
       "75%       14.000000  6.600000e+06     68.000000      3.000000        2.700000   \n",
       "max       42.000000  1.240000e+08    190.000000      7.000000        3.490000   \n",
       "\n",
       "       floors_total   living_area         floor  kitchen_area       balcony  \\\n",
       "count  18482.000000  18564.000000  18564.000000  18564.000000  18564.000000   \n",
       "mean      11.401309     32.202939      6.219565      9.918972      0.605796   \n",
       "std        6.865677     15.569399      5.119333      3.164090      0.968646   \n",
       "min        1.000000      2.000000      1.000000      1.300000      0.000000   \n",
       "25%        5.000000     18.336163      2.000000      7.700000      0.000000   \n",
       "50%        9.000000     30.000000      5.000000      9.574707      0.000000   \n",
       "75%       16.000000     41.589201      9.000000     11.610321      1.000000   \n",
       "max       60.000000    100.000000     33.000000     20.000000      5.000000   \n",
       "\n",
       "       airports_nearest  cityCenters_nearest  parks_around3000  parks_nearest  \\\n",
       "count      14155.000000         14174.000000      14175.000000    6076.000000   \n",
       "mean       28558.887248         14283.804219          0.581235     496.758558   \n",
       "std        12470.798706          8313.897104          0.781841     354.691601   \n",
       "min            0.000000           287.000000          0.000000       1.000000   \n",
       "25%        18459.000000          9623.750000          0.000000     288.000000   \n",
       "50%        26831.000000         13200.000000          0.000000     452.000000   \n",
       "75%        36771.000000         16316.000000          1.000000     616.000000   \n",
       "max        84869.000000         65968.000000          3.000000    3190.000000   \n",
       "\n",
       "       ponds_around3000  ponds_nearest  days_exposition  \n",
       "count      14175.000000    7118.000000     16394.000000  \n",
       "mean           0.764656     522.041023       178.290106  \n",
       "std            0.928246     275.462414       217.373889  \n",
       "min            0.000000      13.000000         2.000000  \n",
       "25%            0.000000     303.000000        45.000000  \n",
       "50%            1.000000     505.000000        94.000000  \n",
       "75%            1.000000     729.000000       227.000000  \n",
       "max            3.000000    1344.000000      1572.000000  "
      ]
     },
     "execution_count": 27,
     "metadata": {},
     "output_type": "execute_result"
    }
   ],
   "source": [
    "data.describe()"
   ]
  },
  {
   "cell_type": "markdown",
   "metadata": {},
   "source": [
    "**Вывод:** удалив аномалии нам станет проще анализировать тенденции. Снизится вероятность того, что искажения повлияют на наши выводы."
   ]
  },
  {
   "cell_type": "markdown",
   "metadata": {},
   "source": [
    "\n",
    "### Новые столбцы"
   ]
  },
  {
   "cell_type": "markdown",
   "metadata": {},
   "source": [
    "Добавим новые столбцы согласно заданию. Нам нужны: \n",
    "- цена одного квадратного метра;\n",
    "- день недели публикации объявления (0 — понедельник, 1 — вторник и так далее);\n",
    "- месяц публикации объявления;\n",
    "- год публикации объявления;\n",
    "- тип этажа квартиры (значения — «первый», «последний», «другой»);\n",
    "- расстояние до центра города в километрах (переведите из м в км и округлите до целых значений)."
   ]
  },
  {
   "cell_type": "code",
   "execution_count": 28,
   "metadata": {},
   "outputs": [
    {
     "data": {
      "text/html": [
       "<div>\n",
       "<style scoped>\n",
       "    .dataframe tbody tr th:only-of-type {\n",
       "        vertical-align: middle;\n",
       "    }\n",
       "\n",
       "    .dataframe tbody tr th {\n",
       "        vertical-align: top;\n",
       "    }\n",
       "\n",
       "    .dataframe thead th {\n",
       "        text-align: right;\n",
       "    }\n",
       "</style>\n",
       "<table border=\"1\" class=\"dataframe\">\n",
       "  <thead>\n",
       "    <tr style=\"text-align: right;\">\n",
       "      <th></th>\n",
       "      <th>first_day_exposition</th>\n",
       "      <th>exposition_weekday</th>\n",
       "      <th>exposition_month</th>\n",
       "      <th>exposition_year</th>\n",
       "    </tr>\n",
       "  </thead>\n",
       "  <tbody>\n",
       "    <tr>\n",
       "      <th>1</th>\n",
       "      <td>2018-12-04</td>\n",
       "      <td>1</td>\n",
       "      <td>12</td>\n",
       "      <td>2018</td>\n",
       "    </tr>\n",
       "    <tr>\n",
       "      <th>2</th>\n",
       "      <td>2015-08-20</td>\n",
       "      <td>3</td>\n",
       "      <td>8</td>\n",
       "      <td>2015</td>\n",
       "    </tr>\n",
       "    <tr>\n",
       "      <th>5</th>\n",
       "      <td>2018-09-10</td>\n",
       "      <td>0</td>\n",
       "      <td>9</td>\n",
       "      <td>2018</td>\n",
       "    </tr>\n",
       "    <tr>\n",
       "      <th>6</th>\n",
       "      <td>2017-11-02</td>\n",
       "      <td>3</td>\n",
       "      <td>11</td>\n",
       "      <td>2017</td>\n",
       "    </tr>\n",
       "    <tr>\n",
       "      <th>7</th>\n",
       "      <td>2019-04-18</td>\n",
       "      <td>3</td>\n",
       "      <td>4</td>\n",
       "      <td>2019</td>\n",
       "    </tr>\n",
       "  </tbody>\n",
       "</table>\n",
       "</div>"
      ],
      "text/plain": [
       "  first_day_exposition  exposition_weekday  exposition_month  exposition_year\n",
       "1           2018-12-04                   1                12             2018\n",
       "2           2015-08-20                   3                 8             2015\n",
       "5           2018-09-10                   0                 9             2018\n",
       "6           2017-11-02                   3                11             2017\n",
       "7           2019-04-18                   3                 4             2019"
      ]
     },
     "execution_count": 28,
     "metadata": {},
     "output_type": "execute_result"
    }
   ],
   "source": [
    "# Стоимость квадратного метра\n",
    "data['meter_price'] = data['last_price'] / data['total_area']\n",
    "\n",
    "# Группа колонок с датами. \n",
    "data['exposition_weekday'] = pd.to_datetime(data['first_day_exposition']).dt.weekday\n",
    "data['exposition_month'] = pd.to_datetime(data['first_day_exposition']).dt.month\n",
    "data['exposition_year'] = pd.to_datetime(data['first_day_exposition']).dt.year\n",
    "data[['first_day_exposition', 'exposition_weekday', 'exposition_month', 'exposition_year']].head()"
   ]
  },
  {
   "cell_type": "code",
   "execution_count": 29,
   "metadata": {},
   "outputs": [
    {
     "data": {
      "text/html": [
       "<div>\n",
       "<style scoped>\n",
       "    .dataframe tbody tr th:only-of-type {\n",
       "        vertical-align: middle;\n",
       "    }\n",
       "\n",
       "    .dataframe tbody tr th {\n",
       "        vertical-align: top;\n",
       "    }\n",
       "\n",
       "    .dataframe thead th {\n",
       "        text-align: right;\n",
       "    }\n",
       "</style>\n",
       "<table border=\"1\" class=\"dataframe\">\n",
       "  <thead>\n",
       "    <tr style=\"text-align: right;\">\n",
       "      <th></th>\n",
       "      <th>floor</th>\n",
       "      <th>floors_total</th>\n",
       "      <th>floor_type</th>\n",
       "    </tr>\n",
       "  </thead>\n",
       "  <tbody>\n",
       "    <tr>\n",
       "      <th>1</th>\n",
       "      <td>1</td>\n",
       "      <td>11.0</td>\n",
       "      <td>первый</td>\n",
       "    </tr>\n",
       "  </tbody>\n",
       "</table>\n",
       "</div>"
      ],
      "text/plain": [
       "   floor  floors_total floor_type\n",
       "1      1          11.0     первый"
      ]
     },
     "metadata": {},
     "output_type": "display_data"
    },
    {
     "data": {
      "text/html": [
       "<div>\n",
       "<style scoped>\n",
       "    .dataframe tbody tr th:only-of-type {\n",
       "        vertical-align: middle;\n",
       "    }\n",
       "\n",
       "    .dataframe tbody tr th {\n",
       "        vertical-align: top;\n",
       "    }\n",
       "\n",
       "    .dataframe thead th {\n",
       "        text-align: right;\n",
       "    }\n",
       "</style>\n",
       "<table border=\"1\" class=\"dataframe\">\n",
       "  <thead>\n",
       "    <tr style=\"text-align: right;\">\n",
       "      <th></th>\n",
       "      <th>floor</th>\n",
       "      <th>floors_total</th>\n",
       "      <th>floor_type</th>\n",
       "    </tr>\n",
       "  </thead>\n",
       "  <tbody>\n",
       "    <tr>\n",
       "      <th>2</th>\n",
       "      <td>4</td>\n",
       "      <td>5.0</td>\n",
       "      <td>другой</td>\n",
       "    </tr>\n",
       "  </tbody>\n",
       "</table>\n",
       "</div>"
      ],
      "text/plain": [
       "   floor  floors_total floor_type\n",
       "2      4           5.0     другой"
      ]
     },
     "metadata": {},
     "output_type": "display_data"
    },
    {
     "data": {
      "text/html": [
       "<div>\n",
       "<style scoped>\n",
       "    .dataframe tbody tr th:only-of-type {\n",
       "        vertical-align: middle;\n",
       "    }\n",
       "\n",
       "    .dataframe tbody tr th {\n",
       "        vertical-align: top;\n",
       "    }\n",
       "\n",
       "    .dataframe thead th {\n",
       "        text-align: right;\n",
       "    }\n",
       "</style>\n",
       "<table border=\"1\" class=\"dataframe\">\n",
       "  <thead>\n",
       "    <tr style=\"text-align: right;\">\n",
       "      <th></th>\n",
       "      <th>floor</th>\n",
       "      <th>floors_total</th>\n",
       "      <th>floor_type</th>\n",
       "    </tr>\n",
       "  </thead>\n",
       "  <tbody>\n",
       "    <tr>\n",
       "      <th>12</th>\n",
       "      <td>5</td>\n",
       "      <td>5.0</td>\n",
       "      <td>последний</td>\n",
       "    </tr>\n",
       "  </tbody>\n",
       "</table>\n",
       "</div>"
      ],
      "text/plain": [
       "    floor  floors_total floor_type\n",
       "12      5           5.0  последний"
      ]
     },
     "metadata": {},
     "output_type": "display_data"
    }
   ],
   "source": [
    "# Тип этажа квартиры\n",
    "def floor_type(df):\n",
    "    if df['floor'] == 1:\n",
    "        return 'первый'\n",
    "    elif df['floor'] == df['floors_total']:\n",
    "        return 'последний'\n",
    "    else:\n",
    "        return 'другой'\n",
    "    \n",
    "data['floor_type'] = data.apply(floor_type, axis=1)\n",
    "\n",
    "for floor in data['floor_type'].unique():\n",
    "    display(data[data['floor_type'] == floor][['floor', 'floors_total', 'floor_type']].head(1))"
   ]
  },
  {
   "cell_type": "code",
   "execution_count": 30,
   "metadata": {},
   "outputs": [
    {
     "data": {
      "text/html": [
       "<div>\n",
       "<style scoped>\n",
       "    .dataframe tbody tr th:only-of-type {\n",
       "        vertical-align: middle;\n",
       "    }\n",
       "\n",
       "    .dataframe tbody tr th {\n",
       "        vertical-align: top;\n",
       "    }\n",
       "\n",
       "    .dataframe thead th {\n",
       "        text-align: right;\n",
       "    }\n",
       "</style>\n",
       "<table border=\"1\" class=\"dataframe\">\n",
       "  <thead>\n",
       "    <tr style=\"text-align: right;\">\n",
       "      <th></th>\n",
       "      <th>cityCenters_nearest</th>\n",
       "      <th>cityCenters_nearest_km</th>\n",
       "    </tr>\n",
       "  </thead>\n",
       "  <tbody>\n",
       "    <tr>\n",
       "      <th>1</th>\n",
       "      <td>18603.0</td>\n",
       "      <td>19.0</td>\n",
       "    </tr>\n",
       "    <tr>\n",
       "      <th>2</th>\n",
       "      <td>13933.0</td>\n",
       "      <td>14.0</td>\n",
       "    </tr>\n",
       "    <tr>\n",
       "      <th>5</th>\n",
       "      <td>NaN</td>\n",
       "      <td>NaN</td>\n",
       "    </tr>\n",
       "    <tr>\n",
       "      <th>6</th>\n",
       "      <td>19143.0</td>\n",
       "      <td>19.0</td>\n",
       "    </tr>\n",
       "    <tr>\n",
       "      <th>7</th>\n",
       "      <td>11634.0</td>\n",
       "      <td>12.0</td>\n",
       "    </tr>\n",
       "  </tbody>\n",
       "</table>\n",
       "</div>"
      ],
      "text/plain": [
       "   cityCenters_nearest  cityCenters_nearest_km\n",
       "1              18603.0                    19.0\n",
       "2              13933.0                    14.0\n",
       "5                  NaN                     NaN\n",
       "6              19143.0                    19.0\n",
       "7              11634.0                    12.0"
      ]
     },
     "execution_count": 30,
     "metadata": {},
     "output_type": "execute_result"
    }
   ],
   "source": [
    "# расстояние до центра города в километрах \n",
    "data['cityCenters_nearest_km'] = (data['cityCenters_nearest'] / 1000).round().astype('int', errors='ignore')\n",
    "data[['cityCenters_nearest', 'cityCenters_nearest_km']].head()"
   ]
  },
  {
   "cell_type": "code",
   "execution_count": 31,
   "metadata": {},
   "outputs": [
    {
     "data": {
      "image/png": "[encoded data removed]",
      "text/plain": [
       "<Figure size 1080x1440 with 6 Axes>"
      ]
     },
     "metadata": {
      "needs_background": "light"
     },
     "output_type": "display_data"
    }
   ],
   "source": [
    "data[['meter_price', \n",
    "      'exposition_weekday', \n",
    "      'exposition_month', \n",
    "      'exposition_year', \n",
    "      'floor_type',\n",
    "      'cityCenters_nearest_km']].hist(bins=30, figsize=(15, 20));"
   ]
  },
  {
   "cell_type": "code",
   "execution_count": 32,
   "metadata": {},
   "outputs": [
    {
     "data": {
      "text/plain": [
       "66.0"
      ]
     },
     "execution_count": 32,
     "metadata": {},
     "output_type": "execute_result"
    }
   ],
   "source": [
    "data['cityCenters_nearest_km'].max()"
   ]
  },
  {
   "cell_type": "code",
   "execution_count": 33,
   "metadata": {},
   "outputs": [
    {
     "data": {
      "text/plain": [
       "7962.962962962963"
      ]
     },
     "execution_count": 33,
     "metadata": {},
     "output_type": "execute_result"
    }
   ],
   "source": [
    "data['meter_price'].min()"
   ]
  },
  {
   "cell_type": "code",
   "execution_count": 34,
   "metadata": {},
   "outputs": [
    {
     "data": {
      "text/plain": [
       "4    682\n",
       "3    609\n",
       "2    398\n",
       "1    311\n",
       "5     38\n",
       "Name: exposition_month, dtype: int64"
      ]
     },
     "execution_count": 34,
     "metadata": {},
     "output_type": "execute_result"
    }
   ],
   "source": [
    "data[(data['exposition_year'] == 2019)]['exposition_month'].value_counts()"
   ]
  },
  {
   "cell_type": "markdown",
   "metadata": {},
   "source": [
    "*meter_price* имеет пик в районе 100000 рублей. Выглядит обычно, учитывая, что много объявлений приходится на Санкт-Петербург.\n",
    "\n",
    "*exposition_weekday* демонстрирует, что в выходные люди публикуют меньше объявлений, чем в будни. Для любой интернет-активности это нормально.\n",
    "\n",
    "*exposition_month* показывает, что большее количество публикаций приходится на холодные сезоны, за исключением просадки в канун нового года и новогодние праздники, что, опять же, нормально для любой интернет активности. Также на данные по месяца сыграл тот факт, что в представленном датасете 2019 год отражен не полностью\n",
    "\n",
    "*exposition_year* демонстрирует рост количества объявлений от года к году. Снижение в 19-м году обусловлено тем, что в датасете он представлен не полностью.\n",
    "\n",
    "*cityCenters_nearest_km* самый высокий пик связан скорее всего с тем, что большинство объявлений в датасете из Санкт-Петербурга. С чем связан второй пик, сложно сказать. Возможно, популярность сервиса в одном из районов."
   ]
  },
  {
   "cell_type": "markdown",
   "metadata": {},
   "source": [
    "### Исследовательский анализ данных"
   ]
  },
  {
   "cell_type": "markdown",
   "metadata": {},
   "source": [
    "#### Изучим параметры объектов"
   ]
  },
  {
   "cell_type": "markdown",
   "metadata": {},
   "source": [
    "- общая площадь;\n",
    "- жилая площадь;\n",
    "- площадь кухни;\n",
    "- цена объекта;\n",
    "- количество комнат;\n",
    "- высота потолков;\n",
    "- этаж квартиры;\n",
    "- тип этажа квартиры («первый», «последний», «другой»);\n",
    "- общее количество этажей в доме;\n",
    "- расстояние до центра города в метрах;\n",
    "- расстояние до ближайшего аэропорта;\n",
    "- расстояние до ближайшего парка;\n",
    "- день и месяц публикации объявления."
   ]
  },
  {
   "cell_type": "code",
   "execution_count": 35,
   "metadata": {},
   "outputs": [
    {
     "data": {
      "image/png": "[encoded data removed]",
      "text/plain": [
       "<Figure size 1440x360 with 1 Axes>"
      ]
     },
     "metadata": {
      "needs_background": "light"
     },
     "output_type": "display_data"
    }
   ],
   "source": [
    "ax = data['total_area'].hist(bins=150, figsize=(20, 5))\n",
    "plt.title('Общая площадь')\n",
    "ax.set_xlim(0, 150);"
   ]
  },
  {
   "cell_type": "markdown",
   "metadata": {},
   "source": [
    "*Общая площадь* демонстрирует множественные пики. Возможно, мы наблюдаем жилые комплесы со своим стандартнами площадей."
   ]
  },
  {
   "cell_type": "code",
   "execution_count": 36,
   "metadata": {},
   "outputs": [
    {
     "data": {
      "image/png": "[encoded data removed]",
      "text/plain": [
       "<Figure size 1440x360 with 1 Axes>"
      ]
     },
     "metadata": {
      "needs_background": "light"
     },
     "output_type": "display_data"
    }
   ],
   "source": [
    "ax = data['living_area'].hist(bins=100, figsize=(20, 5))\n",
    "plt.title('Жилая площадь')\n",
    "ax.set_xlim(0, 100)\n",
    "plt.xticks(np.arange(0, 100, 10));"
   ]
  },
  {
   "cell_type": "markdown",
   "metadata": {},
   "source": [
    "У *Жилой площади* необычное распределение с двумя пиками - в районе 18 и 30 кв. м. Самый высокий пик в районе 15 кв. м. свидетельствует в пользу гипотезы, что большинство представленных квартир однокомнатные"
   ]
  },
  {
   "cell_type": "code",
   "execution_count": 37,
   "metadata": {},
   "outputs": [
    {
     "data": {
      "image/png": "[encoded data removed]",
      "text/plain": [
       "<Figure size 1440x360 with 1 Axes>"
      ]
     },
     "metadata": {
      "needs_background": "light"
     },
     "output_type": "display_data"
    }
   ],
   "source": [
    "ax = data['kitchen_area'].hist(bins=20, figsize=(20, 5))\n",
    "plt.title('Площадь кухни')\n",
    "ax.set_xlim(0, 20)\n",
    "plt.xticks(np.arange(0, 20, 5));"
   ]
  },
  {
   "cell_type": "markdown",
   "metadata": {},
   "source": [
    "*Плоощадь кухни* распределение близко к нормальному. Настораживают значения в 1, 2 и 3 кв. м. Воможно, ошибки в данных."
   ]
  },
  {
   "cell_type": "code",
   "execution_count": 38,
   "metadata": {},
   "outputs": [
    {
     "data": {
      "image/png": "[encoded data removed]",
      "text/plain": [
       "<Figure size 1440x360 with 1 Axes>"
      ]
     },
     "metadata": {
      "needs_background": "light"
     },
     "output_type": "display_data"
    }
   ],
   "source": [
    "ax = data['last_price'].hist(bins=500, figsize=(20, 5))\n",
    "plt.title('Стоимость жилья')\n",
    "ax.set_xlim(0, 15000000)\n",
    "plt.xticks(np.arange(0, 15000000, 1000000), rotation=45)\n",
    "ax.get_xaxis().set_major_formatter(\n",
    "    matplotlib.ticker.FuncFormatter(lambda x, p: format(int(x), ',')));"
   ]
  },
  {
   "cell_type": "markdown",
   "metadata": {},
   "source": [
    "Стоимость большинства квартир - до 15М, квартир дороже - сильно меньше. Распределение похоже на на нормальное с длинным хвостом справа. Пик в районе 4М. "
   ]
  },
  {
   "cell_type": "code",
   "execution_count": 39,
   "metadata": {
    "scrolled": true
   },
   "outputs": [
    {
     "data": {
      "image/png": "[encoded data removed]",
      "text/plain": [
       "<Figure size 1440x360 with 1 Axes>"
      ]
     },
     "metadata": {
      "needs_background": "light"
     },
     "output_type": "display_data"
    }
   ],
   "source": [
    "ax = data['ceiling_height'].hist(bins=30, figsize=(20, 5))\n",
    "plt.title('Высота потолков')\n",
    "ax.set_xlim(2.5, 3.5);\n",
    "plt.xticks(np.arange(2.5, 3.5, 0.5));"
   ]
  },
  {
   "cell_type": "markdown",
   "metadata": {},
   "source": [
    "Высота потолков в основном стандартная"
   ]
  },
  {
   "cell_type": "code",
   "execution_count": 40,
   "metadata": {},
   "outputs": [
    {
     "data": {
      "image/png": "[encoded data removed]",
      "text/plain": [
       "<Figure size 1440x360 with 1 Axes>"
      ]
     },
     "metadata": {
      "needs_background": "light"
     },
     "output_type": "display_data"
    }
   ],
   "source": [
    "ax = data['floor'].hist(bins=30, figsize=(20, 5))\n",
    "plt.title('Этаж')\n",
    "ax.set_xlim(0, 30);\n",
    "plt.xticks(np.arange(0, 30, 1));"
   ]
  },
  {
   "cell_type": "markdown",
   "metadata": {},
   "source": [
    "Чем выше этаж, тем реже появляются объявления. Пик на первом этаже. Жить там не очень приятно, возможно, люди стремятся избавиться от таких квартир."
   ]
  },
  {
   "cell_type": "code",
   "execution_count": 41,
   "metadata": {},
   "outputs": [
    {
     "data": {
      "image/png": "[encoded data removed]",
      "text/plain": [
       "<Figure size 1440x360 with 1 Axes>"
      ]
     },
     "metadata": {
      "needs_background": "light"
     },
     "output_type": "display_data"
    }
   ],
   "source": [
    "ax = data['floor_type'].hist(bins=3, figsize=(20, 5))\n",
    "plt.title('Тип этажа');"
   ]
  },
  {
   "cell_type": "markdown",
   "metadata": {},
   "source": [
    "Несмотря на то, что предыдущая гистограмма показала пик на первом этаже, оказалось, что таких квартир меньшинство. Это вполне логично, ведь \"других\" этажей в принципе больше, чем первых и последних."
   ]
  },
  {
   "cell_type": "code",
   "execution_count": 42,
   "metadata": {},
   "outputs": [
    {
     "data": {
      "image/png": "[encoded data removed]",
      "text/plain": [
       "<Figure size 1440x360 with 1 Axes>"
      ]
     },
     "metadata": {
      "needs_background": "light"
     },
     "output_type": "display_data"
    }
   ],
   "source": [
    "ax = data['floors_total'].hist(bins=30, figsize=(20, 5))\n",
    "plt.title('Этажей в доме')\n",
    "ax.set_xlim(1, 30);\n",
    "plt.xticks(np.arange(1, 30, 1));"
   ]
  },
  {
   "cell_type": "markdown",
   "metadata": {},
   "source": [
    "Этажность имеет несколько пиков. По всей видимости это связано со стандартами многоэтажного строительства. "
   ]
  },
  {
   "cell_type": "code",
   "execution_count": 43,
   "metadata": {},
   "outputs": [
    {
     "data": {
      "image/png": "[encoded data removed]",
      "text/plain": [
       "<Figure size 1440x360 with 1 Axes>"
      ]
     },
     "metadata": {
      "needs_background": "light"
     },
     "output_type": "display_data"
    }
   ],
   "source": [
    "ax = data['cityCenters_nearest'].hist(bins=40, figsize=(20, 5))\n",
    "plt.title('Расстояние до центра');"
   ]
  },
  {
   "cell_type": "markdown",
   "metadata": {},
   "source": [
    "Часто расстояние до центра не превышает 20 км. Это говорит о том, что большинство объявлений из довольно крупных городов. Помним, что в нашем случае это Санкт-Петербург. "
   ]
  },
  {
   "cell_type": "code",
   "execution_count": 44,
   "metadata": {},
   "outputs": [
    {
     "data": {
      "image/png": "[encoded data removed]",
      "text/plain": [
       "<Figure size 1440x360 with 1 Axes>"
      ]
     },
     "metadata": {
      "needs_background": "light"
     },
     "output_type": "display_data"
    }
   ],
   "source": [
    "ax = data['airports_nearest'].hist(bins=40, figsize=(20, 5))\n",
    "plt.title('Расстояние до аэропорта');"
   ]
  },
  {
   "cell_type": "markdown",
   "metadata": {},
   "source": [
    "Аэропорты, как правило, существенно дальше центра города, выглядит обычно. "
   ]
  },
  {
   "cell_type": "code",
   "execution_count": 45,
   "metadata": {},
   "outputs": [
    {
     "data": {
      "image/png": "[encoded data removed]",
      "text/plain": [
       "<Figure size 1440x360 with 1 Axes>"
      ]
     },
     "metadata": {
      "needs_background": "light"
     },
     "output_type": "display_data"
    }
   ],
   "source": [
    "ax = data['parks_nearest'].hist(bins=40, figsize=(20, 5))\n",
    "plt.title('Расстояние до парков');"
   ]
  },
  {
   "cell_type": "markdown",
   "metadata": {},
   "source": [
    "Многие квартиры находятся неподалеку от парка. Это радует, значит, с озеленением в Санкт-Петербурге всё в порядке."
   ]
  },
  {
   "cell_type": "code",
   "execution_count": 46,
   "metadata": {},
   "outputs": [
    {
     "data": {
      "image/png": "[encoded data removed]",
      "text/plain": [
       "<Figure size 1440x360 with 1 Axes>"
      ]
     },
     "metadata": {
      "needs_background": "light"
     },
     "output_type": "display_data"
    }
   ],
   "source": [
    "ax = data['first_day_exposition'].hist(bins=60, figsize=(20, 5))\n",
    "plt.title('День публикации');"
   ]
  },
  {
   "cell_type": "markdown",
   "metadata": {},
   "source": [
    "Чем ближе к настоящему, тем больше объявлений. Бывают пики и провалы, с чем они связаны, ответить затруднительно."
   ]
  },
  {
   "cell_type": "code",
   "execution_count": 47,
   "metadata": {},
   "outputs": [
    {
     "data": {
      "image/png": "[encoded data removed]",
      "text/plain": [
       "<Figure size 1440x360 with 1 Axes>"
      ]
     },
     "metadata": {
      "needs_background": "light"
     },
     "output_type": "display_data"
    }
   ],
   "source": [
    "ax = data.groupby('exposition_month').agg('count')['exposition_weekday'].plot(kind='line', figsize=(20, 5))\n",
    "plt.title('Месяц публикации');"
   ]
  },
  {
   "cell_type": "markdown",
   "metadata": {},
   "source": [
    "*Месяц публикации* показывает, что большее количество публикаций приходится на холодные сезоны, за исключением просадки в канун нового года и новогодние праздники, что, опять же, нормально для любой интернет активности. Также на данные по месяца сыграл тот факт, что в представленном датасете 2019 год отражен не полностью"
   ]
  },
  {
   "cell_type": "markdown",
   "metadata": {},
   "source": [
    "#### Скорость продажи квартиры"
   ]
  },
  {
   "cell_type": "markdown",
   "metadata": {},
   "source": [
    "Изучим, как быстро продавались квартиры (столбец days_exposition). Этот параметр показывает, сколько дней было размещено каждое объявление"
   ]
  },
  {
   "cell_type": "code",
   "execution_count": 48,
   "metadata": {
    "scrolled": true
   },
   "outputs": [
    {
     "data": {
      "image/png": "[encoded data removed]",
      "text/plain": [
       "<Figure size 1440x360 with 1 Axes>"
      ]
     },
     "metadata": {
      "needs_background": "light"
     },
     "output_type": "display_data"
    }
   ],
   "source": [
    "ax = data['days_exposition'].hist(bins=200, figsize=(20, 5))\n",
    "ax.set_xlim(0, 200)\n",
    "plt.title('Как быстро продались квартиры');\n",
    "plt.xticks(np.arange(0, 200, 10));"
   ]
  },
  {
   "cell_type": "code",
   "execution_count": 49,
   "metadata": {},
   "outputs": [
    {
     "name": "stdout",
     "output_type": "stream",
     "text": [
      "Среднее время продажи: 178.0 дней\n",
      "Медианное время продажи: 94.0 дней\n",
      "\n",
      "Первый квартиль: 45.0 дней\n",
      "Третий квартиль: 227.0 дней\n"
     ]
    }
   ],
   "source": [
    "print('Среднее время продажи: {} дней'.format(data['days_exposition'].mean().round()))\n",
    "print('Медианное время продажи: {} дней\\n'.format(data['days_exposition'].median()))\n",
    "print('Первый квартиль: {} дней'.format(data['days_exposition'].quantile(0.25).round()))\n",
    "print('Третий квартиль: {} дней'.format(data['days_exposition'].quantile(0.75).round()))"
   ]
  },
  {
   "cell_type": "markdown",
   "metadata": {},
   "source": [
    "В среднем квартира продаётся за полгода. Половина всех продаж происходит в пределах трех месяцев. Продажу в течение полутора месяцев можно считать быстрой, дольше 7 месяцев - долгой. Интересны пики на 45, 60, 90 и 120 днях. Возможно, алгоритмы выше ранжируют такие объявления."
   ]
  },
  {
   "cell_type": "markdown",
   "metadata": {},
   "source": [
    "####  Факторы, влияющие на общую (полную) стоимость объекта"
   ]
  },
  {
   "cell_type": "markdown",
   "metadata": {},
   "source": [
    "общей площади;\n",
    "жилой площади;\n",
    "площади кухни;\n",
    "количества комнат;\n",
    "этажа, на котором расположена квартира (первый, последний, другой);\n",
    "даты размещения (день недели, месяц, год)."
   ]
  },
  {
   "cell_type": "code",
   "execution_count": 50,
   "metadata": {},
   "outputs": [],
   "source": [
    "cost_agg = data.pivot_table(index=['total_area', 'living_area', 'kitchen_area',\n",
    "                                   'rooms', 'floor_type', 'exposition_weekday',\n",
    "                                   'exposition_month', 'exposition_year'],\n",
    "                            values='last_price',\n",
    "                            aggfunc='mean').reset_index()"
   ]
  },
  {
   "cell_type": "code",
   "execution_count": 51,
   "metadata": {},
   "outputs": [
    {
     "data": {
      "image/png": "[encoded data removed]",
      "text/plain": [
       "<Figure size 1440x360 with 1 Axes>"
      ]
     },
     "metadata": {
      "needs_background": "light"
     },
     "output_type": "display_data"
    }
   ],
   "source": [
    "ax = cost_agg.plot(x='total_area', y='last_price', kind='scatter', figsize=(20, 5))\n",
    "ax.set_xlim(10, 200)\n",
    "ax.set_ylim(0, 50000000)\n",
    "plt.xticks(np.arange(10, 200, 10))\n",
    "plt.title('Зависимость цены от общей площади');"
   ]
  },
  {
   "cell_type": "markdown",
   "metadata": {},
   "source": [
    "Цена прямо коррелирует c увеличением площади, что логично. Чем больше квадратных метров, тем выше цена жилья."
   ]
  },
  {
   "cell_type": "code",
   "execution_count": 52,
   "metadata": {},
   "outputs": [
    {
     "data": {
      "image/png": "[encoded data removed]",
      "text/plain": [
       "<Figure size 1440x360 with 1 Axes>"
      ]
     },
     "metadata": {
      "needs_background": "light"
     },
     "output_type": "display_data"
    }
   ],
   "source": [
    "ax = cost_agg.plot(x='living_area', y='last_price', kind='scatter', figsize=(20, 5))\n",
    "ax.set_xlim(10, 100)\n",
    "ax.set_ylim(0, 50000000)\n",
    "plt.xticks(np.arange(10, 100, 10))\n",
    "plt.title('Зависимость цены от жилой площади');"
   ]
  },
  {
   "cell_type": "markdown",
   "metadata": {},
   "source": [
    "Корреляция цены с жилой площадью тоже положительна, хоть и не так явно выражена. "
   ]
  },
  {
   "cell_type": "code",
   "execution_count": 53,
   "metadata": {},
   "outputs": [
    {
     "data": {
      "image/png": "[encoded data removed]",
      "text/plain": [
       "<Figure size 1440x360 with 1 Axes>"
      ]
     },
     "metadata": {
      "needs_background": "light"
     },
     "output_type": "display_data"
    }
   ],
   "source": [
    "ax = cost_agg.plot(x='kitchen_area', y='last_price', kind='scatter', figsize=(20, 5))\n",
    "ax.set_xlim(1, 20)\n",
    "ax.set_ylim(0, 50000000)\n",
    "plt.xticks(np.arange(1, 20, 1))\n",
    "plt.title('Зависимость цены от площади кухни');"
   ]
  },
  {
   "cell_type": "markdown",
   "metadata": {},
   "source": [
    "Корреляция цены с площадью кухни тоже положительна тоже не так ярко выражена."
   ]
  },
  {
   "cell_type": "code",
   "execution_count": 54,
   "metadata": {},
   "outputs": [
    {
     "data": {
      "image/png": "[encoded data removed]",
      "text/plain": [
       "<Figure size 1440x360 with 1 Axes>"
      ]
     },
     "metadata": {
      "needs_background": "light"
     },
     "output_type": "display_data"
    }
   ],
   "source": [
    "ax = cost_agg.groupby('rooms').agg('mean')['last_price'].plot(kind='bar', figsize=(20, 5))\n",
    "ax.set_xlim(-1, 7)\n",
    "plt.xticks(np.arange(0, 7, 1))\n",
    "plt.title('Зависимость цены от количества комнат');"
   ]
  },
  {
   "cell_type": "markdown",
   "metadata": {},
   "source": [
    "Чем больше комнат, тем выше средняя цена. Логично, ведь, как правило и площадь тоже выше."
   ]
  },
  {
   "cell_type": "code",
   "execution_count": 55,
   "metadata": {},
   "outputs": [
    {
     "data": {
      "image/png": "[encoded data removed]",
      "text/plain": [
       "<Figure size 1440x360 with 1 Axes>"
      ]
     },
     "metadata": {
      "needs_background": "light"
     },
     "output_type": "display_data"
    }
   ],
   "source": [
    "ax = cost_agg.groupby('floor_type').agg('mean')['last_price'].plot(kind='bar', figsize=(20, 5))\n",
    "plt.title('Зависимость цены от этажа');"
   ]
  },
  {
   "cell_type": "markdown",
   "metadata": {},
   "source": [
    "Первый этаж зачастую дешевле, это логично, ведь на первом этаже очень шумно и пыльно. "
   ]
  },
  {
   "cell_type": "code",
   "execution_count": 56,
   "metadata": {},
   "outputs": [
    {
     "data": {
      "image/png": "[encoded data removed]",
      "text/plain": [
       "<Figure size 1440x360 with 1 Axes>"
      ]
     },
     "metadata": {
      "needs_background": "light"
     },
     "output_type": "display_data"
    }
   ],
   "source": [
    "ax = cost_agg.groupby('exposition_weekday').agg('mean')['last_price'].plot(kind='bar', figsize=(20, 5))\n",
    "ax.set_xlim(-1, 7)\n",
    "plt.xticks(np.arange(0, 7, 1))\n",
    "plt.title('Зависимость цены от дня недели размещения');"
   ]
  },
  {
   "cell_type": "markdown",
   "metadata": {},
   "source": [
    "Было бы странно, если бы цена зависела от дня недели, в который выставлено объявление. "
   ]
  },
  {
   "cell_type": "code",
   "execution_count": 57,
   "metadata": {},
   "outputs": [
    {
     "data": {
      "image/png": "[encoded data removed]",
      "text/plain": [
       "<Figure size 1440x360 with 1 Axes>"
      ]
     },
     "metadata": {
      "needs_background": "light"
     },
     "output_type": "display_data"
    }
   ],
   "source": [
    "ax = cost_agg.groupby('exposition_month').agg('mean')['last_price'].plot(kind='bar', figsize=(20, 5))\n",
    "ax.set_xlim(-1, 12)\n",
    "plt.xticks(np.arange(0, 12, 1))\n",
    "plt.title('Зависимость цены от месяца размещения');"
   ]
  },
  {
   "cell_type": "markdown",
   "metadata": {},
   "source": [
    "Корреляции нет."
   ]
  },
  {
   "cell_type": "code",
   "execution_count": 58,
   "metadata": {},
   "outputs": [
    {
     "data": {
      "image/png": "[encoded data removed]",
      "text/plain": [
       "<Figure size 1440x360 with 1 Axes>"
      ]
     },
     "metadata": {
      "needs_background": "light"
     },
     "output_type": "display_data"
    }
   ],
   "source": [
    "ax = cost_agg.groupby('exposition_year').agg('mean')['last_price'].plot(kind='bar', figsize=(20, 5))\n",
    "plt.title('Зависимость цены от года размещения');"
   ]
  },
  {
   "cell_type": "markdown",
   "metadata": {},
   "source": [
    "Все мы знаем, что с годами недвижимость дорожает, особенно в крупных городах. Сейчас корреляции не видно, возможно, данные неполны. Пик в 2014 году может указывать на резкое ослабление рубля с одновременным ростом неопределённости в следствие аннексии Крымского полуострова и взлете стоимости жилья в рублях. "
   ]
  },
  {
   "cell_type": "code",
   "execution_count": 59,
   "metadata": {},
   "outputs": [
    {
     "data": {
      "text/html": [
       "<div>\n",
       "<style scoped>\n",
       "    .dataframe tbody tr th:only-of-type {\n",
       "        vertical-align: middle;\n",
       "    }\n",
       "\n",
       "    .dataframe tbody tr th {\n",
       "        vertical-align: top;\n",
       "    }\n",
       "\n",
       "    .dataframe thead th {\n",
       "        text-align: right;\n",
       "    }\n",
       "</style>\n",
       "<table border=\"1\" class=\"dataframe\">\n",
       "  <thead>\n",
       "    <tr style=\"text-align: right;\">\n",
       "      <th></th>\n",
       "      <th>total_area</th>\n",
       "      <th>living_area</th>\n",
       "      <th>kitchen_area</th>\n",
       "      <th>rooms</th>\n",
       "      <th>exposition_weekday</th>\n",
       "      <th>exposition_month</th>\n",
       "      <th>exposition_year</th>\n",
       "      <th>last_price</th>\n",
       "    </tr>\n",
       "  </thead>\n",
       "  <tbody>\n",
       "    <tr>\n",
       "      <th>total_area</th>\n",
       "      <td>1.000000</td>\n",
       "      <td>0.936111</td>\n",
       "      <td>0.530309</td>\n",
       "      <td>0.809684</td>\n",
       "      <td>-0.012821</td>\n",
       "      <td>0.011132</td>\n",
       "      <td>-0.064885</td>\n",
       "      <td>0.695708</td>\n",
       "    </tr>\n",
       "    <tr>\n",
       "      <th>living_area</th>\n",
       "      <td>0.936111</td>\n",
       "      <td>1.000000</td>\n",
       "      <td>0.322939</td>\n",
       "      <td>0.887587</td>\n",
       "      <td>-0.008292</td>\n",
       "      <td>0.005303</td>\n",
       "      <td>-0.060533</td>\n",
       "      <td>0.609603</td>\n",
       "    </tr>\n",
       "    <tr>\n",
       "      <th>kitchen_area</th>\n",
       "      <td>0.530309</td>\n",
       "      <td>0.322939</td>\n",
       "      <td>1.000000</td>\n",
       "      <td>0.154365</td>\n",
       "      <td>-0.013645</td>\n",
       "      <td>0.018655</td>\n",
       "      <td>-0.026116</td>\n",
       "      <td>0.490763</td>\n",
       "    </tr>\n",
       "    <tr>\n",
       "      <th>rooms</th>\n",
       "      <td>0.809684</td>\n",
       "      <td>0.887587</td>\n",
       "      <td>0.154365</td>\n",
       "      <td>1.000000</td>\n",
       "      <td>-0.003516</td>\n",
       "      <td>0.001933</td>\n",
       "      <td>-0.049764</td>\n",
       "      <td>0.432987</td>\n",
       "    </tr>\n",
       "    <tr>\n",
       "      <th>exposition_weekday</th>\n",
       "      <td>-0.012821</td>\n",
       "      <td>-0.008292</td>\n",
       "      <td>-0.013645</td>\n",
       "      <td>-0.003516</td>\n",
       "      <td>1.000000</td>\n",
       "      <td>0.022662</td>\n",
       "      <td>0.000549</td>\n",
       "      <td>-0.013222</td>\n",
       "    </tr>\n",
       "    <tr>\n",
       "      <th>exposition_month</th>\n",
       "      <td>0.011132</td>\n",
       "      <td>0.005303</td>\n",
       "      <td>0.018655</td>\n",
       "      <td>0.001933</td>\n",
       "      <td>0.022662</td>\n",
       "      <td>1.000000</td>\n",
       "      <td>-0.258636</td>\n",
       "      <td>0.010396</td>\n",
       "    </tr>\n",
       "    <tr>\n",
       "      <th>exposition_year</th>\n",
       "      <td>-0.064885</td>\n",
       "      <td>-0.060533</td>\n",
       "      <td>-0.026116</td>\n",
       "      <td>-0.049764</td>\n",
       "      <td>0.000549</td>\n",
       "      <td>-0.258636</td>\n",
       "      <td>1.000000</td>\n",
       "      <td>-0.023016</td>\n",
       "    </tr>\n",
       "    <tr>\n",
       "      <th>last_price</th>\n",
       "      <td>0.695708</td>\n",
       "      <td>0.609603</td>\n",
       "      <td>0.490763</td>\n",
       "      <td>0.432987</td>\n",
       "      <td>-0.013222</td>\n",
       "      <td>0.010396</td>\n",
       "      <td>-0.023016</td>\n",
       "      <td>1.000000</td>\n",
       "    </tr>\n",
       "  </tbody>\n",
       "</table>\n",
       "</div>"
      ],
      "text/plain": [
       "                    total_area  living_area  kitchen_area     rooms  \\\n",
       "total_area            1.000000     0.936111      0.530309  0.809684   \n",
       "living_area           0.936111     1.000000      0.322939  0.887587   \n",
       "kitchen_area          0.530309     0.322939      1.000000  0.154365   \n",
       "rooms                 0.809684     0.887587      0.154365  1.000000   \n",
       "exposition_weekday   -0.012821    -0.008292     -0.013645 -0.003516   \n",
       "exposition_month      0.011132     0.005303      0.018655  0.001933   \n",
       "exposition_year      -0.064885    -0.060533     -0.026116 -0.049764   \n",
       "last_price            0.695708     0.609603      0.490763  0.432987   \n",
       "\n",
       "                    exposition_weekday  exposition_month  exposition_year  \\\n",
       "total_area                   -0.012821          0.011132        -0.064885   \n",
       "living_area                  -0.008292          0.005303        -0.060533   \n",
       "kitchen_area                 -0.013645          0.018655        -0.026116   \n",
       "rooms                        -0.003516          0.001933        -0.049764   \n",
       "exposition_weekday            1.000000          0.022662         0.000549   \n",
       "exposition_month              0.022662          1.000000        -0.258636   \n",
       "exposition_year               0.000549         -0.258636         1.000000   \n",
       "last_price                   -0.013222          0.010396        -0.023016   \n",
       "\n",
       "                    last_price  \n",
       "total_area            0.695708  \n",
       "living_area           0.609603  \n",
       "kitchen_area          0.490763  \n",
       "rooms                 0.432987  \n",
       "exposition_weekday   -0.013222  \n",
       "exposition_month      0.010396  \n",
       "exposition_year      -0.023016  \n",
       "last_price            1.000000  "
      ]
     },
     "execution_count": 59,
     "metadata": {},
     "output_type": "execute_result"
    }
   ],
   "source": [
    "cost_agg.corr()"
   ]
  },
  {
   "cell_type": "markdown",
   "metadata": {},
   "source": [
    "Данные о корреляции во многом сходятся с выводами, полученными при анализе графиков."
   ]
  },
  {
   "cell_type": "markdown",
   "metadata": {},
   "source": [
    "#### Средняя цена квадратного метра в 10 населенных пунктах с самым большим количеством объявлений"
   ]
  },
  {
   "cell_type": "code",
   "execution_count": 60,
   "metadata": {},
   "outputs": [],
   "source": [
    "top_10 = data.groupby('locality_name')['last_price'].agg('count').sort_values(ascending=False).head(10).index"
   ]
  },
  {
   "cell_type": "code",
   "execution_count": 61,
   "metadata": {},
   "outputs": [
    {
     "data": {
      "text/plain": [
       "locality_name\n",
       "Санкт-Петербург    111884.299661\n",
       "Пушкин             103443.507962\n",
       "Кудрово             95562.378571\n",
       "Парголово           90235.535004\n",
       "Мурино              86013.589156\n",
       "Шушары              78634.521536\n",
       "Колпино             75245.558709\n",
       "Всеволожск          68893.671827\n",
       "Гатчина             68887.890393\n",
       "Выборг              58066.516524\n",
       "Name: meter_price, dtype: float64"
      ]
     },
     "execution_count": 61,
     "metadata": {},
     "output_type": "execute_result"
    }
   ],
   "source": [
    "data[data['locality_name'].isin(top_10)].groupby('locality_name')['meter_price'].mean().sort_values(ascending=False)"
   ]
  },
  {
   "cell_type": "markdown",
   "metadata": {},
   "source": [
    "#### Средяя цена каждого километра до центра Санкт-Петербурга"
   ]
  },
  {
   "cell_type": "code",
   "execution_count": 63,
   "metadata": {},
   "outputs": [],
   "source": [
    "center_nearesr_price = (data[data['locality_name'] == 'Санкт-Петербург']\n",
    "                        .groupby('cityCenters_nearest_km')\n",
    "                        .agg({'last_price':'mean'})\n",
    "                        .sort_values(by = 'cityCenters_nearest_km'))"
   ]
  },
  {
   "cell_type": "code",
   "execution_count": 64,
   "metadata": {},
   "outputs": [
    {
     "data": {
      "image/png": "[encoded data removed]",
      "text/plain": [
       "<Figure size 1440x360 with 1 Axes>"
      ]
     },
     "metadata": {
      "needs_background": "light"
     },
     "output_type": "display_data"
    }
   ],
   "source": [
    "ax = center_nearesr_price.plot(kind='bar', figsize=(20, 5))\n",
    "plt.title('Зависимость цены от расстоярия до центра');"
   ]
  },
  {
   "cell_type": "markdown",
   "metadata": {},
   "source": [
    "- Если до центра менее километра, жильё сильно дороже, чем если 1 км. и более;\n",
    "- 1 км тоже имеют довольно высокую цену по сравнению с остальными;\n",
    "- Следующую отсечку можно сделать на 7 км;\n",
    "\n",
    "В целом чем дальше от центра, тем дороже за некоторыми исключениями. "
   ]
  },
  {
   "cell_type": "markdown",
   "metadata": {},
   "source": [
    "### Общий вывод"
   ]
  },
  {
   "cell_type": "markdown",
   "metadata": {},
   "source": [
    "**Что мы сделали:**\n",
    "- Заполнили пропуски в данных;\n",
    "- Исправили явные ошибки в объявлениях;\n",
    "- Удалили подозрительные и некорректно заполненные объявления, исправить которые не удалось;\n",
    "- Визуально оценили распределение данных в различных срезах;\n",
    "- Нашли корреляции и зависимости в данных, выяснили, что главным образом влияет на стоимость жилья;\n",
    "\n",
    "**Выводы:**\n",
    "- Цена на жильё сильно зависит от площади: общей, жилой, площади кухни. Также в случае Санкт-Петербурга, и с высокой долей вероятности других крупных городов тоже, на цену влияет удаленность от центра города; \n",
    "- Первый и последний этаж в среднем стоят дешевле промежуточных;\n",
    "- На рынке очень много однокомнатных квартир;\n",
    "\n",
    "**Рекомендации:**\n",
    "- Расстояние от центра, общую, жилую и площадь кухни следует выводить в снипеты объявления, поскольку, это самые важные показатели;\n",
    "- Можно разработать систему рекомендаций, которая будет показывать пользователям жилье на таком же расстоянии или ближе к центру, но дешевле. Это может повысить глубину просмотра и продажи;\n",
    "- Часто в объявлениях не заполняются расстояния до центра, парков, аэропорта. Можно разработать систему, которая будет сама вычислять эти расстояния, ориентируясь на адрес жилья. Это снизит напряжение пользователей, которые публикуют объявления, а также повысит удовлетворенность пользователей, которые ищут жильё"
   ]
  },
  {
   "cell_type": "code",
   "execution_count": null,
   "metadata": {},
   "outputs": [],
   "source": []
  }
 ],
 "metadata": {
  "ExecuteTimeLog": [
   {
    "duration": 1214,
    "start_time": "2023-08-21T07:46:11.603Z"
   },
   {
    "duration": 23,
    "start_time": "2023-08-21T07:46:16.860Z"
   },
   {
    "duration": 11,
    "start_time": "2023-08-21T07:46:24.801Z"
   },
   {
    "duration": 19,
    "start_time": "2023-08-21T07:46:26.954Z"
   },
   {
    "duration": 14,
    "start_time": "2023-08-21T07:46:30.136Z"
   },
   {
    "duration": 31,
    "start_time": "2023-08-21T07:46:34.350Z"
   },
   {
    "duration": 99,
    "start_time": "2023-08-21T07:49:27.946Z"
   },
   {
    "duration": 15,
    "start_time": "2023-08-21T07:49:28.318Z"
   },
   {
    "duration": 78,
    "start_time": "2023-08-21T07:49:32.524Z"
   },
   {
    "duration": 96,
    "start_time": "2023-08-21T07:51:18.424Z"
   },
   {
    "duration": 2379,
    "start_time": "2023-08-21T07:52:37.719Z"
   },
   {
    "duration": 1981,
    "start_time": "2023-08-21T07:52:41.382Z"
   },
   {
    "duration": 28,
    "start_time": "2023-08-21T07:56:13.151Z"
   },
   {
    "duration": 13,
    "start_time": "2023-08-21T07:56:17.409Z"
   },
   {
    "duration": 14,
    "start_time": "2023-08-21T07:57:10.038Z"
   },
   {
    "duration": 8,
    "start_time": "2023-08-21T08:00:04.493Z"
   },
   {
    "duration": 7,
    "start_time": "2023-08-21T08:00:20.492Z"
   },
   {
    "duration": 16,
    "start_time": "2023-08-21T08:01:04.592Z"
   },
   {
    "duration": 8,
    "start_time": "2023-08-21T08:03:08.442Z"
   },
   {
    "duration": 4,
    "start_time": "2023-08-21T08:03:10.691Z"
   },
   {
    "duration": 13,
    "start_time": "2023-08-21T08:03:17.008Z"
   },
   {
    "duration": 110,
    "start_time": "2023-08-21T08:03:42.991Z"
   },
   {
    "duration": 40,
    "start_time": "2023-08-21T08:03:46.186Z"
   },
   {
    "duration": 51,
    "start_time": "2023-08-21T08:03:49.794Z"
   },
   {
    "duration": 56,
    "start_time": "2023-08-21T08:04:03.530Z"
   },
   {
    "duration": 15,
    "start_time": "2023-08-21T08:04:11.247Z"
   },
   {
    "duration": 58,
    "start_time": "2023-08-21T08:04:16.115Z"
   },
   {
    "duration": 4,
    "start_time": "2023-08-21T08:04:47.661Z"
   },
   {
    "duration": 2453,
    "start_time": "2023-08-21T08:07:39.239Z"
   },
   {
    "duration": 24,
    "start_time": "2023-08-21T08:08:12.716Z"
   },
   {
    "duration": 20,
    "start_time": "2023-08-21T08:09:33.660Z"
   },
   {
    "duration": 48,
    "start_time": "2023-08-21T08:09:53.098Z"
   },
   {
    "duration": 16,
    "start_time": "2023-08-21T08:10:32.045Z"
   },
   {
    "duration": 8,
    "start_time": "2023-08-21T08:11:04.643Z"
   },
   {
    "duration": 8,
    "start_time": "2023-08-21T08:11:10.007Z"
   },
   {
    "duration": 14,
    "start_time": "2023-08-21T08:11:35.052Z"
   },
   {
    "duration": 21,
    "start_time": "2023-08-21T08:11:50.463Z"
   },
   {
    "duration": 8,
    "start_time": "2023-08-21T08:12:01.787Z"
   },
   {
    "duration": 75,
    "start_time": "2023-08-21T08:12:26.387Z"
   },
   {
    "duration": 46,
    "start_time": "2023-08-22T05:24:31.083Z"
   },
   {
    "duration": 523,
    "start_time": "2023-08-22T05:24:34.781Z"
   },
   {
    "duration": 17,
    "start_time": "2023-08-22T05:24:35.306Z"
   },
   {
    "duration": 85,
    "start_time": "2023-08-22T05:24:35.360Z"
   },
   {
    "duration": 2400,
    "start_time": "2023-08-22T05:24:35.997Z"
   },
   {
    "duration": 9,
    "start_time": "2023-08-22T05:24:38.399Z"
   },
   {
    "duration": 6,
    "start_time": "2023-08-22T05:24:38.410Z"
   },
   {
    "duration": 36,
    "start_time": "2023-08-22T05:24:38.735Z"
   },
   {
    "duration": 6,
    "start_time": "2023-08-22T05:24:48.055Z"
   },
   {
    "duration": 5,
    "start_time": "2023-08-22T05:25:07.194Z"
   },
   {
    "duration": 21,
    "start_time": "2023-08-22T05:25:13.592Z"
   },
   {
    "duration": 20,
    "start_time": "2023-08-22T05:26:34.336Z"
   },
   {
    "duration": 42,
    "start_time": "2023-08-22T05:26:41.665Z"
   },
   {
    "duration": 17,
    "start_time": "2023-08-22T05:27:02.221Z"
   },
   {
    "duration": 159,
    "start_time": "2023-08-22T05:27:02.788Z"
   },
   {
    "duration": 60,
    "start_time": "2023-08-22T05:27:08.157Z"
   },
   {
    "duration": 53,
    "start_time": "2023-08-22T05:27:53.705Z"
   },
   {
    "duration": 12,
    "start_time": "2023-08-22T06:11:13.806Z"
   },
   {
    "duration": 5,
    "start_time": "2023-08-22T06:11:27.033Z"
   },
   {
    "duration": 110,
    "start_time": "2023-08-22T06:13:26.997Z"
   },
   {
    "duration": 101,
    "start_time": "2023-08-22T06:13:31.576Z"
   },
   {
    "duration": 123,
    "start_time": "2023-08-22T06:13:56.940Z"
   },
   {
    "duration": 90,
    "start_time": "2023-08-22T06:14:29.068Z"
   },
   {
    "duration": 35,
    "start_time": "2023-08-22T06:14:53.688Z"
   },
   {
    "duration": 32,
    "start_time": "2023-08-22T06:15:04.611Z"
   },
   {
    "duration": 101,
    "start_time": "2023-08-22T06:15:08.037Z"
   },
   {
    "duration": 19,
    "start_time": "2023-08-22T06:15:08.325Z"
   },
   {
    "duration": 99,
    "start_time": "2023-08-22T06:15:08.467Z"
   },
   {
    "duration": 2279,
    "start_time": "2023-08-22T06:15:09.052Z"
   },
   {
    "duration": 15,
    "start_time": "2023-08-22T06:15:11.334Z"
   },
   {
    "duration": 6,
    "start_time": "2023-08-22T06:15:11.359Z"
   },
   {
    "duration": 7,
    "start_time": "2023-08-22T06:15:11.368Z"
   },
   {
    "duration": 16,
    "start_time": "2023-08-22T06:15:12.122Z"
   },
   {
    "duration": 5,
    "start_time": "2023-08-22T06:17:30.486Z"
   },
   {
    "duration": 49,
    "start_time": "2023-08-22T06:17:36.743Z"
   },
   {
    "duration": 18,
    "start_time": "2023-08-22T06:18:08.275Z"
   },
   {
    "duration": 4,
    "start_time": "2023-08-22T06:18:29.063Z"
   },
   {
    "duration": 46,
    "start_time": "2023-08-22T06:18:37.356Z"
   },
   {
    "duration": 54,
    "start_time": "2023-08-22T06:18:39.898Z"
   },
   {
    "duration": 9,
    "start_time": "2023-08-22T06:18:54.192Z"
   },
   {
    "duration": 83,
    "start_time": "2023-08-22T06:19:29.692Z"
   },
   {
    "duration": 16,
    "start_time": "2023-08-22T06:19:29.962Z"
   },
   {
    "duration": 73,
    "start_time": "2023-08-22T06:19:30.111Z"
   },
   {
    "duration": 2030,
    "start_time": "2023-08-22T06:19:30.405Z"
   },
   {
    "duration": 11,
    "start_time": "2023-08-22T06:19:32.437Z"
   },
   {
    "duration": 108,
    "start_time": "2023-08-22T06:19:32.465Z"
   },
   {
    "duration": 65,
    "start_time": "2023-08-22T06:19:32.575Z"
   },
   {
    "duration": 142,
    "start_time": "2023-08-22T06:19:32.643Z"
   },
   {
    "duration": 43,
    "start_time": "2023-08-22T06:19:33.324Z"
   },
   {
    "duration": 12,
    "start_time": "2023-08-22T06:19:34.490Z"
   },
   {
    "duration": 85,
    "start_time": "2023-08-22T06:19:53.635Z"
   },
   {
    "duration": 15,
    "start_time": "2023-08-22T06:19:53.901Z"
   },
   {
    "duration": 106,
    "start_time": "2023-08-22T06:19:54.039Z"
   },
   {
    "duration": 1975,
    "start_time": "2023-08-22T06:19:54.326Z"
   },
   {
    "duration": 9,
    "start_time": "2023-08-22T06:19:56.304Z"
   },
   {
    "duration": 9,
    "start_time": "2023-08-22T06:19:56.315Z"
   },
   {
    "duration": 10,
    "start_time": "2023-08-22T06:19:56.326Z"
   },
   {
    "duration": 15,
    "start_time": "2023-08-22T06:19:56.399Z"
   },
   {
    "duration": 34,
    "start_time": "2023-08-22T06:19:56.925Z"
   },
   {
    "duration": 8,
    "start_time": "2023-08-22T06:19:57.575Z"
   },
   {
    "duration": 57,
    "start_time": "2023-08-22T06:20:37.289Z"
   },
   {
    "duration": 10,
    "start_time": "2023-08-22T06:20:37.790Z"
   },
   {
    "duration": 6,
    "start_time": "2023-08-22T06:21:29.609Z"
   },
   {
    "duration": 6,
    "start_time": "2023-08-22T06:21:39.441Z"
   },
   {
    "duration": 7,
    "start_time": "2023-08-22T06:21:43.865Z"
   },
   {
    "duration": 81,
    "start_time": "2023-08-22T06:22:13.523Z"
   },
   {
    "duration": 175,
    "start_time": "2023-08-22T06:22:14.329Z"
   },
   {
    "duration": 69,
    "start_time": "2023-08-22T06:22:15.640Z"
   },
   {
    "duration": 1750,
    "start_time": "2023-08-22T06:22:17.453Z"
   },
   {
    "duration": 9,
    "start_time": "2023-08-22T06:22:24.271Z"
   },
   {
    "duration": 10,
    "start_time": "2023-08-22T06:22:28.144Z"
   },
   {
    "duration": 6,
    "start_time": "2023-08-22T06:22:32.702Z"
   },
   {
    "duration": 5,
    "start_time": "2023-08-22T06:22:37.331Z"
   },
   {
    "duration": 14,
    "start_time": "2023-08-22T06:22:41.301Z"
   },
   {
    "duration": 14,
    "start_time": "2023-08-22T06:22:42.566Z"
   },
   {
    "duration": 12,
    "start_time": "2023-08-22T06:23:00.349Z"
   },
   {
    "duration": 62,
    "start_time": "2023-08-22T06:23:41.736Z"
   },
   {
    "duration": 7,
    "start_time": "2023-08-22T06:23:42.193Z"
   },
   {
    "duration": 64,
    "start_time": "2023-08-22T06:24:28.212Z"
   },
   {
    "duration": 7,
    "start_time": "2023-08-22T06:25:44.188Z"
   },
   {
    "duration": 14,
    "start_time": "2023-08-22T06:25:53.171Z"
   },
   {
    "duration": 9,
    "start_time": "2023-08-22T06:26:28.282Z"
   },
   {
    "duration": 49,
    "start_time": "2023-08-22T06:26:34.605Z"
   },
   {
    "duration": 87,
    "start_time": "2023-08-22T06:28:57.709Z"
   },
   {
    "duration": 6,
    "start_time": "2023-08-22T06:33:55.624Z"
   },
   {
    "duration": 5,
    "start_time": "2023-08-22T06:33:57.879Z"
   },
   {
    "duration": 5,
    "start_time": "2023-08-22T06:33:59.698Z"
   },
   {
    "duration": 11,
    "start_time": "2023-08-22T06:34:08.616Z"
   },
   {
    "duration": 5,
    "start_time": "2023-08-22T06:34:20.541Z"
   },
   {
    "duration": 10,
    "start_time": "2023-08-22T06:34:25.941Z"
   },
   {
    "duration": 8,
    "start_time": "2023-08-22T06:34:56.240Z"
   },
   {
    "duration": 6,
    "start_time": "2023-08-22T06:35:03.494Z"
   },
   {
    "duration": 23,
    "start_time": "2023-08-22T06:35:09.273Z"
   },
   {
    "duration": 21,
    "start_time": "2023-08-22T06:35:20.160Z"
   },
   {
    "duration": 17,
    "start_time": "2023-08-22T06:35:33.294Z"
   },
   {
    "duration": 14,
    "start_time": "2023-08-22T06:35:48.308Z"
   },
   {
    "duration": 11,
    "start_time": "2023-08-22T06:36:01.304Z"
   },
   {
    "duration": 12,
    "start_time": "2023-08-22T06:59:08.193Z"
   },
   {
    "duration": 18,
    "start_time": "2023-08-22T06:59:36.855Z"
   },
   {
    "duration": 12,
    "start_time": "2023-08-22T06:59:40.715Z"
   },
   {
    "duration": 16,
    "start_time": "2023-08-22T07:00:30.931Z"
   },
   {
    "duration": 15,
    "start_time": "2023-08-22T07:05:42.819Z"
   },
   {
    "duration": 112,
    "start_time": "2023-08-22T07:05:51.119Z"
   },
   {
    "duration": 15,
    "start_time": "2023-08-22T07:05:51.384Z"
   },
   {
    "duration": 74,
    "start_time": "2023-08-22T07:05:51.529Z"
   },
   {
    "duration": 2132,
    "start_time": "2023-08-22T07:05:52.029Z"
   },
   {
    "duration": 13,
    "start_time": "2023-08-22T07:05:54.163Z"
   },
   {
    "duration": 31,
    "start_time": "2023-08-22T07:05:54.178Z"
   },
   {
    "duration": 15,
    "start_time": "2023-08-22T07:05:54.211Z"
   },
   {
    "duration": 24,
    "start_time": "2023-08-22T07:05:54.228Z"
   },
   {
    "duration": 90,
    "start_time": "2023-08-22T07:05:54.762Z"
   },
   {
    "duration": 7,
    "start_time": "2023-08-22T07:05:55.430Z"
   },
   {
    "duration": 25,
    "start_time": "2023-08-22T07:05:56.048Z"
   },
   {
    "duration": 10,
    "start_time": "2023-08-22T07:05:56.789Z"
   },
   {
    "duration": 14,
    "start_time": "2023-08-22T07:06:59.517Z"
   },
   {
    "duration": 39,
    "start_time": "2023-08-22T07:19:26.298Z"
   },
   {
    "duration": 1392,
    "start_time": "2023-08-22T07:25:07.028Z"
   },
   {
    "duration": 1576,
    "start_time": "2023-08-22T07:25:14.864Z"
   },
   {
    "duration": 1360,
    "start_time": "2023-08-22T07:25:22.282Z"
   },
   {
    "duration": 1567,
    "start_time": "2023-08-22T07:25:32.153Z"
   },
   {
    "duration": 390,
    "start_time": "2023-08-22T07:25:53.655Z"
   },
   {
    "duration": 376,
    "start_time": "2023-08-22T07:25:56.927Z"
   },
   {
    "duration": 39,
    "start_time": "2023-08-22T07:25:59.534Z"
   },
   {
    "duration": 6,
    "start_time": "2023-08-22T07:26:21.485Z"
   },
   {
    "duration": 62,
    "start_time": "2023-08-22T07:27:04.462Z"
   },
   {
    "duration": 390,
    "start_time": "2023-08-22T07:27:19.152Z"
   },
   {
    "duration": 347,
    "start_time": "2023-08-22T07:28:25.052Z"
   },
   {
    "duration": 381,
    "start_time": "2023-08-22T07:28:35.778Z"
   },
   {
    "duration": 384,
    "start_time": "2023-08-22T07:28:56.136Z"
   },
   {
    "duration": 320,
    "start_time": "2023-08-22T07:29:31.130Z"
   },
   {
    "duration": 47,
    "start_time": "2023-08-22T07:30:07.508Z"
   },
   {
    "duration": 318,
    "start_time": "2023-08-22T07:30:15.405Z"
   },
   {
    "duration": 38,
    "start_time": "2023-08-22T07:30:37.305Z"
   },
   {
    "duration": 4,
    "start_time": "2023-08-22T07:30:48.175Z"
   },
   {
    "duration": 4,
    "start_time": "2023-08-22T07:37:21.295Z"
   },
   {
    "duration": 11,
    "start_time": "2023-08-22T07:37:40.726Z"
   },
   {
    "duration": 10,
    "start_time": "2023-08-22T07:38:08.497Z"
   },
   {
    "duration": 19,
    "start_time": "2023-08-22T07:38:14.235Z"
   },
   {
    "duration": 9,
    "start_time": "2023-08-22T07:38:45.460Z"
   },
   {
    "duration": 9,
    "start_time": "2023-08-22T07:38:52.176Z"
   },
   {
    "duration": 13,
    "start_time": "2023-08-22T07:39:24.245Z"
   },
   {
    "duration": 747,
    "start_time": "2023-08-22T07:41:00.161Z"
   },
   {
    "duration": 862,
    "start_time": "2023-08-22T07:41:37.000Z"
   },
   {
    "duration": 994,
    "start_time": "2023-08-22T08:06:27.866Z"
   },
   {
    "duration": 37,
    "start_time": "2023-08-22T08:19:47.909Z"
   },
   {
    "duration": 5,
    "start_time": "2023-08-22T08:19:56.413Z"
   },
   {
    "duration": 9,
    "start_time": "2023-08-22T08:20:09.775Z"
   },
   {
    "duration": 8,
    "start_time": "2023-08-22T08:21:03.641Z"
   },
   {
    "duration": 5,
    "start_time": "2023-08-22T08:21:06.308Z"
   },
   {
    "duration": 1724,
    "start_time": "2023-08-22T08:49:49.812Z"
   },
   {
    "duration": 8,
    "start_time": "2023-08-22T08:49:58.821Z"
   },
   {
    "duration": 5,
    "start_time": "2023-08-22T08:52:31.165Z"
   },
   {
    "duration": 7,
    "start_time": "2023-08-22T08:53:59.688Z"
   },
   {
    "duration": 79,
    "start_time": "2023-08-23T05:52:58.759Z"
   },
   {
    "duration": 6,
    "start_time": "2023-08-23T05:53:37.229Z"
   },
   {
    "duration": 50,
    "start_time": "2023-08-23T05:55:22.883Z"
   },
   {
    "duration": 3059,
    "start_time": "2023-08-23T05:55:36.537Z"
   },
   {
    "duration": 1317,
    "start_time": "2023-08-23T05:56:49.703Z"
   },
   {
    "duration": 121,
    "start_time": "2023-08-23T05:57:28.494Z"
   },
   {
    "duration": 17,
    "start_time": "2023-08-23T05:57:29.329Z"
   },
   {
    "duration": 113,
    "start_time": "2023-08-23T05:57:29.488Z"
   },
   {
    "duration": 2262,
    "start_time": "2023-08-23T05:57:29.938Z"
   },
   {
    "duration": 18,
    "start_time": "2023-08-23T05:57:32.203Z"
   },
   {
    "duration": 21,
    "start_time": "2023-08-23T05:57:32.223Z"
   },
   {
    "duration": 45,
    "start_time": "2023-08-23T05:57:32.246Z"
   },
   {
    "duration": 45,
    "start_time": "2023-08-23T05:57:32.293Z"
   },
   {
    "duration": 118,
    "start_time": "2023-08-23T05:57:32.340Z"
   },
   {
    "duration": 4,
    "start_time": "2023-08-23T05:57:32.461Z"
   },
   {
    "duration": 12,
    "start_time": "2023-08-23T05:57:32.467Z"
   },
   {
    "duration": 269,
    "start_time": "2023-08-23T05:57:32.530Z"
   },
   {
    "duration": 439,
    "start_time": "2023-08-23T05:57:32.805Z"
   },
   {
    "duration": 29,
    "start_time": "2023-08-23T05:57:33.246Z"
   },
   {
    "duration": 1121,
    "start_time": "2023-08-23T05:57:33.276Z"
   },
   {
    "duration": 10,
    "start_time": "2023-08-23T05:57:34.401Z"
   },
   {
    "duration": 22,
    "start_time": "2023-08-23T05:57:34.414Z"
   },
   {
    "duration": 49,
    "start_time": "2023-08-23T05:57:34.438Z"
   },
   {
    "duration": 5,
    "start_time": "2023-08-23T05:57:34.935Z"
   },
   {
    "duration": 2848,
    "start_time": "2023-08-23T05:58:37.388Z"
   },
   {
    "duration": 2701,
    "start_time": "2023-08-23T05:58:41.345Z"
   },
   {
    "duration": 2630,
    "start_time": "2023-08-23T05:58:59.210Z"
   },
   {
    "duration": 2976,
    "start_time": "2023-08-23T05:59:10.096Z"
   },
   {
    "duration": 2394,
    "start_time": "2023-08-23T05:59:25.014Z"
   },
   {
    "duration": 2687,
    "start_time": "2023-08-23T05:59:39.136Z"
   },
   {
    "duration": 13,
    "start_time": "2023-08-23T06:02:20.454Z"
   },
   {
    "duration": 268,
    "start_time": "2023-08-23T06:03:39.486Z"
   },
   {
    "duration": 197,
    "start_time": "2023-08-23T06:03:49.857Z"
   },
   {
    "duration": 199,
    "start_time": "2023-08-23T06:04:13.106Z"
   },
   {
    "duration": 183,
    "start_time": "2023-08-23T06:04:19.522Z"
   },
   {
    "duration": 251,
    "start_time": "2023-08-23T06:05:36.344Z"
   },
   {
    "duration": 318,
    "start_time": "2023-08-23T06:06:38.662Z"
   },
   {
    "duration": 320,
    "start_time": "2023-08-23T06:06:57.503Z"
   },
   {
    "duration": 316,
    "start_time": "2023-08-23T06:07:01.940Z"
   },
   {
    "duration": 326,
    "start_time": "2023-08-23T06:10:13.481Z"
   },
   {
    "duration": 379,
    "start_time": "2023-08-23T06:10:21.256Z"
   },
   {
    "duration": 311,
    "start_time": "2023-08-23T06:10:23.636Z"
   },
   {
    "duration": 140,
    "start_time": "2023-08-23T06:12:11.076Z"
   },
   {
    "duration": 15,
    "start_time": "2023-08-23T06:12:11.812Z"
   },
   {
    "duration": 142,
    "start_time": "2023-08-23T06:12:11.952Z"
   },
   {
    "duration": 3101,
    "start_time": "2023-08-23T06:12:12.231Z"
   },
   {
    "duration": 11,
    "start_time": "2023-08-23T06:12:15.334Z"
   },
   {
    "duration": 14,
    "start_time": "2023-08-23T06:12:15.375Z"
   },
   {
    "duration": 21,
    "start_time": "2023-08-23T06:12:15.395Z"
   },
   {
    "duration": 37,
    "start_time": "2023-08-23T06:12:15.417Z"
   },
   {
    "duration": 84,
    "start_time": "2023-08-23T06:12:15.457Z"
   },
   {
    "duration": 20,
    "start_time": "2023-08-23T06:12:15.543Z"
   },
   {
    "duration": 19,
    "start_time": "2023-08-23T06:12:15.576Z"
   },
   {
    "duration": 76,
    "start_time": "2023-08-23T06:12:15.597Z"
   },
   {
    "duration": 460,
    "start_time": "2023-08-23T06:12:15.677Z"
   },
   {
    "duration": 28,
    "start_time": "2023-08-23T06:12:16.139Z"
   },
   {
    "duration": 1212,
    "start_time": "2023-08-23T06:12:16.169Z"
   },
   {
    "duration": 8,
    "start_time": "2023-08-23T06:12:17.385Z"
   },
   {
    "duration": 14,
    "start_time": "2023-08-23T06:12:17.396Z"
   },
   {
    "duration": 8,
    "start_time": "2023-08-23T06:12:17.413Z"
   },
   {
    "duration": 5,
    "start_time": "2023-08-23T06:12:17.424Z"
   },
   {
    "duration": 344,
    "start_time": "2023-08-23T06:12:17.431Z"
   },
   {
    "duration": 475,
    "start_time": "2023-08-23T06:12:18.580Z"
   },
   {
    "duration": 466,
    "start_time": "2023-08-23T06:12:23.522Z"
   },
   {
    "duration": 499,
    "start_time": "2023-08-23T06:14:23.886Z"
   },
   {
    "duration": 375,
    "start_time": "2023-08-23T06:14:34.379Z"
   },
   {
    "duration": 956,
    "start_time": "2023-08-23T06:15:10.051Z"
   },
   {
    "duration": 382,
    "start_time": "2023-08-23T06:18:13.205Z"
   },
   {
    "duration": 356,
    "start_time": "2023-08-23T06:18:46.327Z"
   },
   {
    "duration": 323,
    "start_time": "2023-08-23T06:18:50.328Z"
   },
   {
    "duration": 302,
    "start_time": "2023-08-23T06:18:55.026Z"
   },
   {
    "duration": 432,
    "start_time": "2023-08-23T06:18:58.503Z"
   },
   {
    "duration": 970,
    "start_time": "2023-08-23T06:19:41.585Z"
   },
   {
    "duration": 21,
    "start_time": "2023-08-23T06:19:42.557Z"
   },
   {
    "duration": 108,
    "start_time": "2023-08-23T06:19:42.592Z"
   },
   {
    "duration": 2608,
    "start_time": "2023-08-23T06:19:42.704Z"
   },
   {
    "duration": 23,
    "start_time": "2023-08-23T06:19:45.318Z"
   },
   {
    "duration": 11,
    "start_time": "2023-08-23T06:19:45.344Z"
   },
   {
    "duration": 9,
    "start_time": "2023-08-23T06:19:45.357Z"
   },
   {
    "duration": 34,
    "start_time": "2023-08-23T06:19:45.368Z"
   },
   {
    "duration": 90,
    "start_time": "2023-08-23T06:19:45.404Z"
   },
   {
    "duration": 16,
    "start_time": "2023-08-23T06:19:45.496Z"
   },
   {
    "duration": 31,
    "start_time": "2023-08-23T06:19:45.516Z"
   },
   {
    "duration": 80,
    "start_time": "2023-08-23T06:19:45.551Z"
   },
   {
    "duration": 657,
    "start_time": "2023-08-23T06:19:45.633Z"
   },
   {
    "duration": 16,
    "start_time": "2023-08-23T06:19:46.292Z"
   },
   {
    "duration": 1157,
    "start_time": "2023-08-23T06:19:46.310Z"
   },
   {
    "duration": 22,
    "start_time": "2023-08-23T06:19:47.483Z"
   },
   {
    "duration": 10,
    "start_time": "2023-08-23T06:19:47.507Z"
   },
   {
    "duration": 13,
    "start_time": "2023-08-23T06:19:47.521Z"
   },
   {
    "duration": 12,
    "start_time": "2023-08-23T06:19:47.536Z"
   },
   {
    "duration": 364,
    "start_time": "2023-08-23T06:19:47.550Z"
   },
   {
    "duration": 410,
    "start_time": "2023-08-23T06:19:47.916Z"
   },
   {
    "duration": 356,
    "start_time": "2023-08-23T06:19:48.328Z"
   },
   {
    "duration": 427,
    "start_time": "2023-08-23T06:19:48.689Z"
   },
   {
    "duration": 325,
    "start_time": "2023-08-23T06:19:56.992Z"
   },
   {
    "duration": 384,
    "start_time": "2023-08-23T06:20:30.497Z"
   },
   {
    "duration": 397,
    "start_time": "2023-08-23T06:22:00.678Z"
   },
   {
    "duration": 495,
    "start_time": "2023-08-23T06:22:40.253Z"
   },
   {
    "duration": 533,
    "start_time": "2023-08-23T06:22:59.344Z"
   },
   {
    "duration": 429,
    "start_time": "2023-08-23T06:23:13.374Z"
   },
   {
    "duration": 161,
    "start_time": "2023-08-23T06:23:34.072Z"
   },
   {
    "duration": 28,
    "start_time": "2023-08-23T06:23:34.593Z"
   },
   {
    "duration": 92,
    "start_time": "2023-08-23T06:23:34.721Z"
   },
   {
    "duration": 2509,
    "start_time": "2023-08-23T06:23:35.013Z"
   },
   {
    "duration": 10,
    "start_time": "2023-08-23T06:23:37.524Z"
   },
   {
    "duration": 6,
    "start_time": "2023-08-23T06:23:37.536Z"
   },
   {
    "duration": 59,
    "start_time": "2023-08-23T06:23:37.545Z"
   },
   {
    "duration": 34,
    "start_time": "2023-08-23T06:23:37.607Z"
   },
   {
    "duration": 95,
    "start_time": "2023-08-23T06:23:37.644Z"
   },
   {
    "duration": 5,
    "start_time": "2023-08-23T06:23:37.741Z"
   },
   {
    "duration": 63,
    "start_time": "2023-08-23T06:23:37.748Z"
   },
   {
    "duration": 62,
    "start_time": "2023-08-23T06:23:37.813Z"
   },
   {
    "duration": 574,
    "start_time": "2023-08-23T06:23:37.950Z"
   },
   {
    "duration": 18,
    "start_time": "2023-08-23T06:23:38.527Z"
   },
   {
    "duration": 1439,
    "start_time": "2023-08-23T06:23:38.546Z"
   },
   {
    "duration": 16,
    "start_time": "2023-08-23T06:23:39.997Z"
   },
   {
    "duration": 17,
    "start_time": "2023-08-23T06:23:40.015Z"
   },
   {
    "duration": 31,
    "start_time": "2023-08-23T06:23:40.034Z"
   },
   {
    "duration": 16,
    "start_time": "2023-08-23T06:23:40.089Z"
   },
   {
    "duration": 388,
    "start_time": "2023-08-23T06:23:44.853Z"
   },
   {
    "duration": 387,
    "start_time": "2023-08-23T06:23:45.496Z"
   },
   {
    "duration": 315,
    "start_time": "2023-08-23T06:23:46.261Z"
   },
   {
    "duration": 385,
    "start_time": "2023-08-23T06:23:47.107Z"
   },
   {
    "duration": 511,
    "start_time": "2023-08-23T06:24:03.687Z"
   },
   {
    "duration": 1299,
    "start_time": "2023-08-23T06:24:43.346Z"
   },
   {
    "duration": 326,
    "start_time": "2023-08-23T06:26:39.689Z"
   },
   {
    "duration": 178,
    "start_time": "2023-08-23T06:26:47.823Z"
   },
   {
    "duration": 183,
    "start_time": "2023-08-23T06:26:52.002Z"
   },
   {
    "duration": 342,
    "start_time": "2023-08-23T06:27:24.249Z"
   },
   {
    "duration": 352,
    "start_time": "2023-08-23T06:27:27.480Z"
   },
   {
    "duration": 245,
    "start_time": "2023-08-23T06:27:49.223Z"
   },
   {
    "duration": 201,
    "start_time": "2023-08-23T06:27:59.808Z"
   },
   {
    "duration": 239,
    "start_time": "2023-08-23T06:28:04.137Z"
   },
   {
    "duration": 251,
    "start_time": "2023-08-23T06:28:19.056Z"
   },
   {
    "duration": 224,
    "start_time": "2023-08-23T06:28:23.219Z"
   },
   {
    "duration": 260,
    "start_time": "2023-08-23T06:28:32.492Z"
   },
   {
    "duration": 248,
    "start_time": "2023-08-23T06:28:36.017Z"
   },
   {
    "duration": 223,
    "start_time": "2023-08-23T06:28:38.758Z"
   },
   {
    "duration": 197,
    "start_time": "2023-08-23T06:28:49.441Z"
   },
   {
    "duration": 283,
    "start_time": "2023-08-23T06:28:52.942Z"
   },
   {
    "duration": 475,
    "start_time": "2023-08-23T06:29:06.340Z"
   },
   {
    "duration": 225,
    "start_time": "2023-08-23T06:29:28.820Z"
   },
   {
    "duration": 7,
    "start_time": "2023-08-23T06:30:03.502Z"
   },
   {
    "duration": 295,
    "start_time": "2023-08-23T06:30:14.127Z"
   },
   {
    "duration": 972,
    "start_time": "2023-08-23T06:30:24.848Z"
   },
   {
    "duration": 874,
    "start_time": "2023-08-23T06:30:41.578Z"
   },
   {
    "duration": 1086,
    "start_time": "2023-08-23T06:31:14.591Z"
   },
   {
    "duration": 16,
    "start_time": "2023-08-23T06:31:26.655Z"
   },
   {
    "duration": 160,
    "start_time": "2023-08-23T06:31:37.789Z"
   },
   {
    "duration": 10,
    "start_time": "2023-08-23T06:31:53.807Z"
   },
   {
    "duration": 6,
    "start_time": "2023-08-23T06:31:55.735Z"
   },
   {
    "duration": 7,
    "start_time": "2023-08-23T06:32:00.127Z"
   },
   {
    "duration": 153,
    "start_time": "2023-08-23T06:32:02.819Z"
   },
   {
    "duration": 268,
    "start_time": "2023-08-23T06:32:06.905Z"
   },
   {
    "duration": 943,
    "start_time": "2023-08-23T06:32:16.042Z"
   },
   {
    "duration": 303,
    "start_time": "2023-08-23T06:32:24.148Z"
   },
   {
    "duration": 937,
    "start_time": "2023-08-23T06:32:32.911Z"
   },
   {
    "duration": 21,
    "start_time": "2023-08-23T06:32:52.993Z"
   },
   {
    "duration": 11,
    "start_time": "2023-08-23T06:32:57.354Z"
   },
   {
    "duration": 129,
    "start_time": "2023-08-23T06:33:48.342Z"
   },
   {
    "duration": 47,
    "start_time": "2023-08-23T06:33:48.558Z"
   },
   {
    "duration": 106,
    "start_time": "2023-08-23T06:33:48.694Z"
   },
   {
    "duration": 2526,
    "start_time": "2023-08-23T06:33:48.953Z"
   },
   {
    "duration": 12,
    "start_time": "2023-08-23T06:33:51.493Z"
   },
   {
    "duration": 7,
    "start_time": "2023-08-23T06:33:51.512Z"
   },
   {
    "duration": 5,
    "start_time": "2023-08-23T06:33:51.521Z"
   },
   {
    "duration": 42,
    "start_time": "2023-08-23T06:33:51.527Z"
   },
   {
    "duration": 108,
    "start_time": "2023-08-23T06:33:51.571Z"
   },
   {
    "duration": 9,
    "start_time": "2023-08-23T06:33:51.682Z"
   },
   {
    "duration": 20,
    "start_time": "2023-08-23T06:33:51.693Z"
   },
   {
    "duration": 74,
    "start_time": "2023-08-23T06:33:51.715Z"
   },
   {
    "duration": 424,
    "start_time": "2023-08-23T06:33:51.792Z"
   },
   {
    "duration": 15,
    "start_time": "2023-08-23T06:33:52.220Z"
   },
   {
    "duration": 1288,
    "start_time": "2023-08-23T06:33:52.237Z"
   },
   {
    "duration": 6,
    "start_time": "2023-08-23T06:33:53.527Z"
   },
   {
    "duration": 73,
    "start_time": "2023-08-23T06:33:53.535Z"
   },
   {
    "duration": 14,
    "start_time": "2023-08-23T06:33:53.610Z"
   },
   {
    "duration": 407,
    "start_time": "2023-08-23T06:33:53.626Z"
   },
   {
    "duration": 467,
    "start_time": "2023-08-23T06:33:54.036Z"
   },
   {
    "duration": 403,
    "start_time": "2023-08-23T06:33:54.508Z"
   },
   {
    "duration": 1108,
    "start_time": "2023-08-23T06:33:54.919Z"
   },
   {
    "duration": 1201,
    "start_time": "2023-08-23T06:33:56.030Z"
   },
   {
    "duration": 9,
    "start_time": "2023-08-23T06:33:57.234Z"
   },
   {
    "duration": 268,
    "start_time": "2023-08-23T06:36:58.704Z"
   },
   {
    "duration": 347,
    "start_time": "2023-08-23T06:37:16.740Z"
   },
   {
    "duration": 184,
    "start_time": "2023-08-23T06:38:56.296Z"
   },
   {
    "duration": 363,
    "start_time": "2023-08-23T06:39:29.925Z"
   },
   {
    "duration": 444,
    "start_time": "2023-08-23T06:41:54.336Z"
   },
   {
    "duration": 249,
    "start_time": "2023-08-23T06:42:16.496Z"
   },
   {
    "duration": 378,
    "start_time": "2023-08-23T06:42:29.715Z"
   },
   {
    "duration": 331,
    "start_time": "2023-08-23T06:43:54.196Z"
   },
   {
    "duration": 250,
    "start_time": "2023-08-23T06:44:12.373Z"
   },
   {
    "duration": 257,
    "start_time": "2023-08-23T06:45:18.940Z"
   },
   {
    "duration": 242,
    "start_time": "2023-08-23T06:45:32.690Z"
   },
   {
    "duration": 241,
    "start_time": "2023-08-23T06:46:18.160Z"
   },
   {
    "duration": 590,
    "start_time": "2023-08-23T06:47:23.804Z"
   },
   {
    "duration": 376,
    "start_time": "2023-08-23T06:47:36.955Z"
   },
   {
    "duration": 351,
    "start_time": "2023-08-23T06:47:44.843Z"
   },
   {
    "duration": 265,
    "start_time": "2023-08-23T06:48:48.512Z"
   },
   {
    "duration": 154,
    "start_time": "2023-08-23T10:24:57.897Z"
   },
   {
    "duration": 161,
    "start_time": "2023-08-23T10:25:00.154Z"
   },
   {
    "duration": 259,
    "start_time": "2023-08-23T10:25:09.217Z"
   },
   {
    "duration": 262,
    "start_time": "2023-08-23T10:25:17.312Z"
   },
   {
    "duration": 2126,
    "start_time": "2023-08-23T10:26:31.553Z"
   },
   {
    "duration": 572,
    "start_time": "2023-08-23T10:26:41.254Z"
   },
   {
    "duration": 422,
    "start_time": "2023-08-23T10:27:07.710Z"
   },
   {
    "duration": 6,
    "start_time": "2023-08-23T10:27:53.715Z"
   },
   {
    "duration": 6,
    "start_time": "2023-08-23T10:28:01.968Z"
   },
   {
    "duration": 6,
    "start_time": "2023-08-23T10:28:16.511Z"
   },
   {
    "duration": 28,
    "start_time": "2023-08-23T10:30:24.659Z"
   },
   {
    "duration": 13,
    "start_time": "2023-08-23T10:30:55.152Z"
   },
   {
    "duration": 12,
    "start_time": "2023-08-23T10:31:28.747Z"
   },
   {
    "duration": 10,
    "start_time": "2023-08-23T10:31:43.581Z"
   },
   {
    "duration": 95,
    "start_time": "2023-08-23T10:36:20.514Z"
   },
   {
    "duration": 28,
    "start_time": "2023-08-23T10:38:13.893Z"
   },
   {
    "duration": 27,
    "start_time": "2023-08-23T10:38:16.757Z"
   },
   {
    "duration": 35,
    "start_time": "2023-08-23T10:38:24.550Z"
   },
   {
    "duration": 19,
    "start_time": "2023-08-23T10:38:25.673Z"
   },
   {
    "duration": 7133,
    "start_time": "2023-08-23T10:39:20.559Z"
   },
   {
    "duration": 5901,
    "start_time": "2023-08-23T10:39:38.946Z"
   },
   {
    "duration": 7196,
    "start_time": "2023-08-23T10:39:45.920Z"
   },
   {
    "duration": 7857,
    "start_time": "2023-08-23T10:40:01.157Z"
   },
   {
    "duration": 151,
    "start_time": "2023-08-23T10:42:44.093Z"
   },
   {
    "duration": 17,
    "start_time": "2023-08-23T10:42:50.665Z"
   },
   {
    "duration": 201,
    "start_time": "2023-08-23T10:43:23.997Z"
   },
   {
    "duration": 198,
    "start_time": "2023-08-23T10:44:12.028Z"
   },
   {
    "duration": 233,
    "start_time": "2023-08-23T10:45:06.836Z"
   },
   {
    "duration": 227,
    "start_time": "2023-08-23T10:45:27.054Z"
   },
   {
    "duration": 252,
    "start_time": "2023-08-23T10:46:09.691Z"
   },
   {
    "duration": 232,
    "start_time": "2023-08-23T10:46:18.632Z"
   },
   {
    "duration": 228,
    "start_time": "2023-08-23T10:46:29.373Z"
   },
   {
    "duration": 232,
    "start_time": "2023-08-23T10:46:35.714Z"
   },
   {
    "duration": 215,
    "start_time": "2023-08-23T10:46:45.618Z"
   },
   {
    "duration": 222,
    "start_time": "2023-08-23T10:47:17.461Z"
   },
   {
    "duration": 229,
    "start_time": "2023-08-23T10:47:32.015Z"
   },
   {
    "duration": 249,
    "start_time": "2023-08-23T10:47:50.743Z"
   },
   {
    "duration": 231,
    "start_time": "2023-08-23T10:47:55.623Z"
   },
   {
    "duration": 242,
    "start_time": "2023-08-23T10:48:07.206Z"
   },
   {
    "duration": 233,
    "start_time": "2023-08-23T10:48:12.664Z"
   },
   {
    "duration": 337,
    "start_time": "2023-08-23T10:48:24.779Z"
   },
   {
    "duration": 335,
    "start_time": "2023-08-23T10:48:33.673Z"
   },
   {
    "duration": 655,
    "start_time": "2023-08-23T10:48:43.584Z"
   },
   {
    "duration": 251,
    "start_time": "2023-08-23T10:48:51.139Z"
   },
   {
    "duration": 259,
    "start_time": "2023-08-23T10:48:54.822Z"
   },
   {
    "duration": 265,
    "start_time": "2023-08-23T10:49:03.799Z"
   },
   {
    "duration": 231,
    "start_time": "2023-08-23T10:50:02.861Z"
   },
   {
    "duration": 247,
    "start_time": "2023-08-23T10:50:12.397Z"
   },
   {
    "duration": 222,
    "start_time": "2023-08-23T10:50:14.625Z"
   },
   {
    "duration": 221,
    "start_time": "2023-08-23T10:50:22.681Z"
   },
   {
    "duration": 485,
    "start_time": "2023-08-23T10:51:31.733Z"
   },
   {
    "duration": 209,
    "start_time": "2023-08-23T10:51:40.670Z"
   },
   {
    "duration": 161,
    "start_time": "2023-08-23T10:52:41.755Z"
   },
   {
    "duration": 164,
    "start_time": "2023-08-23T10:52:52.417Z"
   },
   {
    "duration": 176,
    "start_time": "2023-08-23T10:52:56.904Z"
   },
   {
    "duration": 222,
    "start_time": "2023-08-23T10:53:04.549Z"
   },
   {
    "duration": 196,
    "start_time": "2023-08-23T10:53:12.389Z"
   },
   {
    "duration": 791,
    "start_time": "2023-08-23T10:53:53.744Z"
   },
   {
    "duration": 16,
    "start_time": "2023-08-23T10:53:54.537Z"
   },
   {
    "duration": 73,
    "start_time": "2023-08-23T10:53:54.555Z"
   },
   {
    "duration": 1927,
    "start_time": "2023-08-23T10:53:54.630Z"
   },
   {
    "duration": 9,
    "start_time": "2023-08-23T10:53:56.558Z"
   },
   {
    "duration": 5,
    "start_time": "2023-08-23T10:53:56.569Z"
   },
   {
    "duration": 7,
    "start_time": "2023-08-23T10:53:56.576Z"
   },
   {
    "duration": 18,
    "start_time": "2023-08-23T10:53:56.584Z"
   },
   {
    "duration": 75,
    "start_time": "2023-08-23T10:53:56.604Z"
   },
   {
    "duration": 4,
    "start_time": "2023-08-23T10:53:56.681Z"
   },
   {
    "duration": 10,
    "start_time": "2023-08-23T10:53:56.687Z"
   },
   {
    "duration": 46,
    "start_time": "2023-08-23T10:53:56.948Z"
   },
   {
    "duration": 407,
    "start_time": "2023-08-23T10:53:57.090Z"
   },
   {
    "duration": 11,
    "start_time": "2023-08-23T10:53:57.499Z"
   },
   {
    "duration": 822,
    "start_time": "2023-08-23T10:53:57.511Z"
   },
   {
    "duration": 5,
    "start_time": "2023-08-23T10:53:58.335Z"
   },
   {
    "duration": 19,
    "start_time": "2023-08-23T10:53:58.342Z"
   },
   {
    "duration": 8,
    "start_time": "2023-08-23T10:53:58.363Z"
   },
   {
    "duration": 276,
    "start_time": "2023-08-23T10:53:59.917Z"
   },
   {
    "duration": 297,
    "start_time": "2023-08-23T10:54:00.215Z"
   },
   {
    "duration": 275,
    "start_time": "2023-08-23T10:54:00.513Z"
   },
   {
    "duration": 815,
    "start_time": "2023-08-23T10:54:00.794Z"
   },
   {
    "duration": 732,
    "start_time": "2023-08-23T10:54:01.611Z"
   },
   {
    "duration": 17,
    "start_time": "2023-08-23T10:54:02.345Z"
   },
   {
    "duration": 278,
    "start_time": "2023-08-23T10:54:02.365Z"
   },
   {
    "duration": 131,
    "start_time": "2023-08-23T10:54:02.645Z"
   },
   {
    "duration": 422,
    "start_time": "2023-08-23T10:54:02.778Z"
   },
   {
    "duration": 182,
    "start_time": "2023-08-23T10:54:03.201Z"
   },
   {
    "duration": 187,
    "start_time": "2023-08-23T10:54:03.385Z"
   },
   {
    "duration": 177,
    "start_time": "2023-08-23T10:54:03.574Z"
   },
   {
    "duration": 351,
    "start_time": "2023-08-23T10:54:03.759Z"
   },
   {
    "duration": 285,
    "start_time": "2023-08-23T10:54:04.113Z"
   },
   {
    "duration": 358,
    "start_time": "2023-08-23T10:54:04.781Z"
   },
   {
    "duration": 9,
    "start_time": "2023-08-23T10:54:05.153Z"
   },
   {
    "duration": 114,
    "start_time": "2023-08-23T10:54:05.874Z"
   },
   {
    "duration": 255,
    "start_time": "2023-08-23T10:54:06.052Z"
   },
   {
    "duration": 223,
    "start_time": "2023-08-23T10:54:06.530Z"
   },
   {
    "duration": 200,
    "start_time": "2023-08-23T10:54:06.934Z"
   },
   {
    "duration": 718,
    "start_time": "2023-08-23T10:55:12.720Z"
   },
   {
    "duration": 16,
    "start_time": "2023-08-23T10:55:13.440Z"
   },
   {
    "duration": 70,
    "start_time": "2023-08-23T10:55:13.458Z"
   },
   {
    "duration": 2000,
    "start_time": "2023-08-23T10:55:13.529Z"
   },
   {
    "duration": 10,
    "start_time": "2023-08-23T10:55:15.532Z"
   },
   {
    "duration": 11,
    "start_time": "2023-08-23T10:55:15.544Z"
   },
   {
    "duration": 7,
    "start_time": "2023-08-23T10:55:15.557Z"
   },
   {
    "duration": 36,
    "start_time": "2023-08-23T10:55:15.566Z"
   },
   {
    "duration": 81,
    "start_time": "2023-08-23T10:55:15.605Z"
   },
   {
    "duration": 4,
    "start_time": "2023-08-23T10:55:15.688Z"
   },
   {
    "duration": 53,
    "start_time": "2023-08-23T10:55:15.694Z"
   },
   {
    "duration": 67,
    "start_time": "2023-08-23T10:55:15.748Z"
   },
   {
    "duration": 422,
    "start_time": "2023-08-23T10:55:15.817Z"
   },
   {
    "duration": 22,
    "start_time": "2023-08-23T10:55:16.242Z"
   },
   {
    "duration": 850,
    "start_time": "2023-08-23T10:55:16.266Z"
   },
   {
    "duration": 5,
    "start_time": "2023-08-23T10:55:17.117Z"
   },
   {
    "duration": 8,
    "start_time": "2023-08-23T10:55:17.123Z"
   },
   {
    "duration": 28,
    "start_time": "2023-08-23T10:55:17.132Z"
   },
   {
    "duration": 263,
    "start_time": "2023-08-23T10:55:17.162Z"
   },
   {
    "duration": 321,
    "start_time": "2023-08-23T10:55:17.427Z"
   },
   {
    "duration": 276,
    "start_time": "2023-08-23T10:55:17.750Z"
   },
   {
    "duration": 809,
    "start_time": "2023-08-23T10:55:18.028Z"
   },
   {
    "duration": 742,
    "start_time": "2023-08-23T10:55:18.839Z"
   },
   {
    "duration": 6,
    "start_time": "2023-08-23T10:55:19.583Z"
   },
   {
    "duration": 268,
    "start_time": "2023-08-23T10:55:19.591Z"
   },
   {
    "duration": 139,
    "start_time": "2023-08-23T10:55:19.860Z"
   },
   {
    "duration": 416,
    "start_time": "2023-08-23T10:55:20.001Z"
   },
   {
    "duration": 190,
    "start_time": "2023-08-23T10:55:20.419Z"
   },
   {
    "duration": 183,
    "start_time": "2023-08-23T10:55:20.611Z"
   },
   {
    "duration": 183,
    "start_time": "2023-08-23T10:55:20.795Z"
   },
   {
    "duration": 328,
    "start_time": "2023-08-23T10:55:20.980Z"
   },
   {
    "duration": 208,
    "start_time": "2023-08-23T10:55:21.309Z"
   },
   {
    "duration": 349,
    "start_time": "2023-08-23T10:55:21.519Z"
   },
   {
    "duration": 9,
    "start_time": "2023-08-23T10:55:21.871Z"
   },
   {
    "duration": 128,
    "start_time": "2023-08-23T10:55:21.881Z"
   },
   {
    "duration": 252,
    "start_time": "2023-08-23T10:55:22.010Z"
   },
   {
    "duration": 207,
    "start_time": "2023-08-23T10:55:22.263Z"
   },
   {
    "duration": 202,
    "start_time": "2023-08-23T10:55:22.472Z"
   },
   {
    "duration": 198,
    "start_time": "2023-08-23T10:55:22.675Z"
   },
   {
    "duration": 6931,
    "start_time": "2023-08-23T10:55:22.874Z"
   },
   {
    "duration": 216,
    "start_time": "2023-08-23T10:55:50.925Z"
   },
   {
    "duration": 194,
    "start_time": "2023-08-23T10:57:21.208Z"
   },
   {
    "duration": 193,
    "start_time": "2023-08-23T10:57:44.520Z"
   },
   {
    "duration": 194,
    "start_time": "2023-08-23T11:04:30.430Z"
   },
   {
    "duration": 203,
    "start_time": "2023-08-23T11:04:47.849Z"
   },
   {
    "duration": 225,
    "start_time": "2023-08-23T11:05:05.908Z"
   },
   {
    "duration": 200,
    "start_time": "2023-08-23T11:05:15.976Z"
   },
   {
    "duration": 179,
    "start_time": "2023-08-23T11:05:52.735Z"
   },
   {
    "duration": 222,
    "start_time": "2023-08-23T11:06:05.796Z"
   },
   {
    "duration": 66982,
    "start_time": "2023-08-23T11:06:28.351Z"
   },
   {
    "duration": 217,
    "start_time": "2023-08-23T11:43:12.797Z"
   },
   {
    "duration": 259,
    "start_time": "2023-08-23T11:43:21.821Z"
   },
   {
    "duration": 198,
    "start_time": "2023-08-23T11:43:53.438Z"
   },
   {
    "duration": 220,
    "start_time": "2023-08-23T11:44:06.992Z"
   },
   {
    "duration": 20,
    "start_time": "2023-08-23T11:44:56.126Z"
   },
   {
    "duration": 224,
    "start_time": "2023-08-23T11:47:15.900Z"
   },
   {
    "duration": 254,
    "start_time": "2023-08-23T11:47:22.499Z"
   },
   {
    "duration": 32,
    "start_time": "2023-08-23T11:51:40.128Z"
   },
   {
    "duration": 9,
    "start_time": "2023-08-23T11:51:58.010Z"
   },
   {
    "duration": 10,
    "start_time": "2023-08-23T11:52:05.403Z"
   },
   {
    "duration": 81,
    "start_time": "2023-08-23T11:52:11.317Z"
   },
   {
    "duration": 9,
    "start_time": "2023-08-23T11:52:19.946Z"
   },
   {
    "duration": 9,
    "start_time": "2023-08-23T11:52:25.178Z"
   },
   {
    "duration": 7,
    "start_time": "2023-08-23T11:52:33.884Z"
   },
   {
    "duration": 44,
    "start_time": "2023-08-23T11:52:46.907Z"
   },
   {
    "duration": 14,
    "start_time": "2023-08-23T11:53:23.550Z"
   },
   {
    "duration": 12,
    "start_time": "2023-08-23T11:53:32.577Z"
   },
   {
    "duration": 7,
    "start_time": "2023-08-23T11:54:03.770Z"
   },
   {
    "duration": 14,
    "start_time": "2023-08-23T11:54:03.950Z"
   },
   {
    "duration": 13,
    "start_time": "2023-08-23T11:54:05.838Z"
   },
   {
    "duration": 42,
    "start_time": "2023-08-23T11:56:28.546Z"
   },
   {
    "duration": 14,
    "start_time": "2023-08-23T11:57:10.227Z"
   },
   {
    "duration": 6,
    "start_time": "2023-08-23T12:07:54.088Z"
   },
   {
    "duration": 783,
    "start_time": "2023-08-23T12:09:46.866Z"
   },
   {
    "duration": 16,
    "start_time": "2023-08-23T12:09:48.333Z"
   },
   {
    "duration": 86,
    "start_time": "2023-08-23T12:09:48.748Z"
   },
   {
    "duration": 2226,
    "start_time": "2023-08-23T12:09:50.079Z"
   },
   {
    "duration": 10,
    "start_time": "2023-08-23T12:09:52.307Z"
   },
   {
    "duration": 16,
    "start_time": "2023-08-23T12:09:52.319Z"
   },
   {
    "duration": 25,
    "start_time": "2023-08-23T12:09:52.338Z"
   },
   {
    "duration": 20,
    "start_time": "2023-08-23T12:09:52.589Z"
   },
   {
    "duration": 67,
    "start_time": "2023-08-23T12:09:53.369Z"
   },
   {
    "duration": 6,
    "start_time": "2023-08-23T12:09:55.807Z"
   },
   {
    "duration": 12,
    "start_time": "2023-08-23T12:09:56.073Z"
   },
   {
    "duration": 7,
    "start_time": "2023-08-23T12:10:10.177Z"
   },
   {
    "duration": 61,
    "start_time": "2023-08-23T12:10:32.359Z"
   },
   {
    "duration": 84,
    "start_time": "2023-08-23T12:12:53.660Z"
   },
   {
    "duration": 26,
    "start_time": "2023-08-23T12:13:03.554Z"
   },
   {
    "duration": 103,
    "start_time": "2023-08-23T12:13:07.838Z"
   },
   {
    "duration": 16,
    "start_time": "2023-08-23T12:13:08.089Z"
   },
   {
    "duration": 86,
    "start_time": "2023-08-23T12:13:08.223Z"
   },
   {
    "duration": 2205,
    "start_time": "2023-08-23T12:13:08.608Z"
   },
   {
    "duration": 9,
    "start_time": "2023-08-23T12:13:10.815Z"
   },
   {
    "duration": 20,
    "start_time": "2023-08-23T12:13:10.826Z"
   },
   {
    "duration": 30,
    "start_time": "2023-08-23T12:13:10.849Z"
   },
   {
    "duration": 38,
    "start_time": "2023-08-23T12:13:10.881Z"
   },
   {
    "duration": 74,
    "start_time": "2023-08-23T12:13:11.458Z"
   },
   {
    "duration": 6,
    "start_time": "2023-08-23T12:13:12.526Z"
   },
   {
    "duration": 9,
    "start_time": "2023-08-23T12:13:12.673Z"
   },
   {
    "duration": 7,
    "start_time": "2023-08-23T12:13:13.365Z"
   },
   {
    "duration": 21,
    "start_time": "2023-08-23T12:13:15.312Z"
   },
   {
    "duration": 13,
    "start_time": "2023-08-23T12:13:32.724Z"
   },
   {
    "duration": 8,
    "start_time": "2023-08-23T12:13:34.114Z"
   },
   {
    "duration": 18,
    "start_time": "2023-08-23T12:13:43.907Z"
   },
   {
    "duration": 7,
    "start_time": "2023-08-23T12:13:44.269Z"
   },
   {
    "duration": 50,
    "start_time": "2023-08-23T12:13:48.368Z"
   },
   {
    "duration": 12,
    "start_time": "2023-08-23T12:13:52.909Z"
   },
   {
    "duration": 43,
    "start_time": "2023-08-23T12:13:53.342Z"
   },
   {
    "duration": 9,
    "start_time": "2023-08-23T12:14:55.257Z"
   },
   {
    "duration": 7,
    "start_time": "2023-08-23T12:15:02.060Z"
   },
   {
    "duration": 9,
    "start_time": "2023-08-23T12:15:08.970Z"
   },
   {
    "duration": 6,
    "start_time": "2023-08-23T12:15:17.880Z"
   },
   {
    "duration": 8,
    "start_time": "2023-08-23T12:15:57.684Z"
   },
   {
    "duration": 17,
    "start_time": "2023-08-23T12:16:14.187Z"
   },
   {
    "duration": 18,
    "start_time": "2023-08-23T12:16:22.431Z"
   },
   {
    "duration": 6,
    "start_time": "2023-08-23T12:17:06.534Z"
   },
   {
    "duration": 111,
    "start_time": "2023-08-23T12:17:07.139Z"
   },
   {
    "duration": 12,
    "start_time": "2023-08-23T12:17:11.218Z"
   },
   {
    "duration": 47,
    "start_time": "2023-08-23T12:17:12.440Z"
   },
   {
    "duration": 363,
    "start_time": "2023-08-23T12:17:13.558Z"
   },
   {
    "duration": 14,
    "start_time": "2023-08-23T12:17:14.068Z"
   },
   {
    "duration": 998,
    "start_time": "2023-08-23T12:17:14.747Z"
   },
   {
    "duration": 12,
    "start_time": "2023-08-23T12:17:15.747Z"
   },
   {
    "duration": 307,
    "start_time": "2023-08-23T12:17:15.761Z"
   },
   {
    "duration": 12,
    "start_time": "2023-08-23T12:17:16.071Z"
   },
   {
    "duration": 278,
    "start_time": "2023-08-23T12:17:18.221Z"
   },
   {
    "duration": 345,
    "start_time": "2023-08-23T12:17:18.713Z"
   },
   {
    "duration": 299,
    "start_time": "2023-08-23T12:17:19.355Z"
   },
   {
    "duration": 904,
    "start_time": "2023-08-23T12:17:19.934Z"
   },
   {
    "duration": 804,
    "start_time": "2023-08-23T12:17:20.840Z"
   },
   {
    "duration": 14,
    "start_time": "2023-08-23T12:17:21.646Z"
   },
   {
    "duration": 293,
    "start_time": "2023-08-23T12:17:21.662Z"
   },
   {
    "duration": 159,
    "start_time": "2023-08-23T12:17:21.959Z"
   },
   {
    "duration": 361,
    "start_time": "2023-08-23T12:17:22.121Z"
   },
   {
    "duration": 204,
    "start_time": "2023-08-23T12:17:22.484Z"
   },
   {
    "duration": 338,
    "start_time": "2023-08-23T12:17:22.690Z"
   },
   {
    "duration": 230,
    "start_time": "2023-08-23T12:17:23.031Z"
   },
   {
    "duration": 396,
    "start_time": "2023-08-23T12:17:23.264Z"
   },
   {
    "duration": 227,
    "start_time": "2023-08-23T12:17:23.662Z"
   },
   {
    "duration": 427,
    "start_time": "2023-08-23T12:17:24.144Z"
   },
   {
    "duration": 12,
    "start_time": "2023-08-23T12:17:24.574Z"
   },
   {
    "duration": 36,
    "start_time": "2023-08-23T12:17:25.327Z"
   },
   {
    "duration": 261,
    "start_time": "2023-08-23T12:17:25.507Z"
   },
   {
    "duration": 230,
    "start_time": "2023-08-23T12:17:25.885Z"
   },
   {
    "duration": 207,
    "start_time": "2023-08-23T12:17:26.303Z"
   },
   {
    "duration": 340,
    "start_time": "2023-08-23T12:17:26.669Z"
   },
   {
    "duration": 192,
    "start_time": "2023-08-23T12:17:27.047Z"
   },
   {
    "duration": 222,
    "start_time": "2023-08-23T12:17:27.389Z"
   },
   {
    "duration": 224,
    "start_time": "2023-08-23T12:17:27.722Z"
   },
   {
    "duration": 217,
    "start_time": "2023-08-23T12:17:28.034Z"
   },
   {
    "duration": 27,
    "start_time": "2023-08-23T12:17:28.352Z"
   },
   {
    "duration": 6,
    "start_time": "2023-08-23T12:17:28.713Z"
   },
   {
    "duration": 12,
    "start_time": "2023-08-23T12:17:28.878Z"
   },
   {
    "duration": 13,
    "start_time": "2023-08-23T12:17:29.189Z"
   },
   {
    "duration": 10,
    "start_time": "2023-08-23T12:18:31.313Z"
   },
   {
    "duration": 7,
    "start_time": "2023-08-23T12:18:33.926Z"
   },
   {
    "duration": 8,
    "start_time": "2023-08-23T12:19:40.799Z"
   },
   {
    "duration": 9,
    "start_time": "2023-08-23T12:19:50.365Z"
   },
   {
    "duration": 8,
    "start_time": "2023-08-23T12:19:59.209Z"
   },
   {
    "duration": 7,
    "start_time": "2023-08-23T12:20:03.803Z"
   },
   {
    "duration": 10,
    "start_time": "2023-08-23T12:24:48.111Z"
   },
   {
    "duration": 19,
    "start_time": "2023-08-23T12:24:59.754Z"
   },
   {
    "duration": 19,
    "start_time": "2023-08-23T12:25:10.388Z"
   },
   {
    "duration": 31,
    "start_time": "2023-08-23T12:26:37.201Z"
   },
   {
    "duration": 53,
    "start_time": "2023-08-23T12:27:22.353Z"
   },
   {
    "duration": 62,
    "start_time": "2023-08-23T12:27:44.482Z"
   },
   {
    "duration": 76,
    "start_time": "2023-08-23T12:28:01.096Z"
   },
   {
    "duration": 84,
    "start_time": "2023-08-23T12:28:42.184Z"
   },
   {
    "duration": 104,
    "start_time": "2023-08-23T12:29:22.587Z"
   },
   {
    "duration": 154,
    "start_time": "2023-08-23T12:29:47.940Z"
   },
   {
    "duration": 125,
    "start_time": "2023-08-23T12:29:56.353Z"
   },
   {
    "duration": 134,
    "start_time": "2023-08-23T12:30:15.337Z"
   },
   {
    "duration": 140,
    "start_time": "2023-08-23T12:31:00.751Z"
   },
   {
    "duration": 146,
    "start_time": "2023-08-23T12:31:19.616Z"
   },
   {
    "duration": 152,
    "start_time": "2023-08-23T12:31:42.776Z"
   },
   {
    "duration": 91,
    "start_time": "2023-08-23T12:35:11.848Z"
   },
   {
    "duration": 99,
    "start_time": "2023-08-23T12:35:17.233Z"
   },
   {
    "duration": 177,
    "start_time": "2023-08-23T12:35:32.345Z"
   },
   {
    "duration": 102,
    "start_time": "2023-08-23T12:43:24.358Z"
   },
   {
    "duration": 170,
    "start_time": "2023-08-23T12:50:57.521Z"
   },
   {
    "duration": 38,
    "start_time": "2023-08-23T12:51:32.813Z"
   },
   {
    "duration": 27,
    "start_time": "2023-08-23T12:51:41.970Z"
   },
   {
    "duration": 41,
    "start_time": "2023-08-23T12:52:42.850Z"
   },
   {
    "duration": 54,
    "start_time": "2023-08-23T12:54:13.008Z"
   },
   {
    "duration": 45,
    "start_time": "2023-08-23T12:57:09.856Z"
   },
   {
    "duration": 9,
    "start_time": "2023-08-23T12:57:42.344Z"
   },
   {
    "duration": 10,
    "start_time": "2023-08-23T12:57:52.939Z"
   },
   {
    "duration": 25,
    "start_time": "2023-08-23T12:57:58.118Z"
   },
   {
    "duration": 108,
    "start_time": "2023-08-23T12:58:00.668Z"
   },
   {
    "duration": 11,
    "start_time": "2023-08-23T12:58:55.616Z"
   },
   {
    "duration": 96,
    "start_time": "2023-08-23T13:10:49.415Z"
   },
   {
    "duration": 37,
    "start_time": "2023-08-23T13:21:55.222Z"
   },
   {
    "duration": 37,
    "start_time": "2023-08-23T13:22:20.515Z"
   },
   {
    "duration": 14,
    "start_time": "2023-08-23T13:22:41.722Z"
   },
   {
    "duration": 49,
    "start_time": "2023-08-23T13:22:55.526Z"
   },
   {
    "duration": 14,
    "start_time": "2023-08-23T13:23:19.214Z"
   },
   {
    "duration": 28,
    "start_time": "2023-08-23T13:23:20.760Z"
   },
   {
    "duration": 16,
    "start_time": "2023-08-23T13:23:41.644Z"
   },
   {
    "duration": 17,
    "start_time": "2023-08-23T13:23:50.120Z"
   },
   {
    "duration": 25,
    "start_time": "2023-08-23T13:23:53.064Z"
   },
   {
    "duration": 22,
    "start_time": "2023-08-23T13:24:13.234Z"
   },
   {
    "duration": 781,
    "start_time": "2023-08-23T13:24:30.428Z"
   },
   {
    "duration": 16,
    "start_time": "2023-08-23T13:24:31.212Z"
   },
   {
    "duration": 96,
    "start_time": "2023-08-23T13:24:31.230Z"
   },
   {
    "duration": 2129,
    "start_time": "2023-08-23T13:24:31.328Z"
   },
   {
    "duration": 9,
    "start_time": "2023-08-23T13:24:33.460Z"
   },
   {
    "duration": 6,
    "start_time": "2023-08-23T13:24:33.471Z"
   },
   {
    "duration": 31,
    "start_time": "2023-08-23T13:24:33.478Z"
   },
   {
    "duration": 26,
    "start_time": "2023-08-23T13:24:33.511Z"
   },
   {
    "duration": 62,
    "start_time": "2023-08-23T13:24:33.539Z"
   },
   {
    "duration": 4,
    "start_time": "2023-08-23T13:24:33.603Z"
   },
   {
    "duration": 11,
    "start_time": "2023-08-23T13:24:33.609Z"
   },
   {
    "duration": 5,
    "start_time": "2023-08-23T13:24:33.621Z"
   },
   {
    "duration": 10,
    "start_time": "2023-08-23T13:24:33.628Z"
   },
   {
    "duration": 173,
    "start_time": "2023-08-23T13:24:33.658Z"
   },
   {
    "duration": 78,
    "start_time": "2023-08-23T13:24:33.833Z"
   },
   {
    "duration": 100,
    "start_time": "2023-08-23T13:24:33.913Z"
   },
   {
    "duration": 0,
    "start_time": "2023-08-23T13:24:34.015Z"
   },
   {
    "duration": 0,
    "start_time": "2023-08-23T13:24:34.016Z"
   },
   {
    "duration": 0,
    "start_time": "2023-08-23T13:24:34.017Z"
   },
   {
    "duration": 0,
    "start_time": "2023-08-23T13:24:34.018Z"
   },
   {
    "duration": 0,
    "start_time": "2023-08-23T13:24:34.021Z"
   },
   {
    "duration": 0,
    "start_time": "2023-08-23T13:24:34.022Z"
   },
   {
    "duration": 0,
    "start_time": "2023-08-23T13:24:34.023Z"
   },
   {
    "duration": 0,
    "start_time": "2023-08-23T13:24:34.024Z"
   },
   {
    "duration": 0,
    "start_time": "2023-08-23T13:24:34.025Z"
   },
   {
    "duration": 0,
    "start_time": "2023-08-23T13:24:34.027Z"
   },
   {
    "duration": 0,
    "start_time": "2023-08-23T13:24:34.028Z"
   },
   {
    "duration": 0,
    "start_time": "2023-08-23T13:24:34.029Z"
   },
   {
    "duration": 0,
    "start_time": "2023-08-23T13:24:34.031Z"
   },
   {
    "duration": 0,
    "start_time": "2023-08-23T13:24:34.033Z"
   },
   {
    "duration": 0,
    "start_time": "2023-08-23T13:24:34.059Z"
   },
   {
    "duration": 0,
    "start_time": "2023-08-23T13:24:34.061Z"
   },
   {
    "duration": 0,
    "start_time": "2023-08-23T13:24:34.062Z"
   },
   {
    "duration": 0,
    "start_time": "2023-08-23T13:24:34.063Z"
   },
   {
    "duration": 0,
    "start_time": "2023-08-23T13:24:34.064Z"
   },
   {
    "duration": 0,
    "start_time": "2023-08-23T13:24:34.065Z"
   },
   {
    "duration": 0,
    "start_time": "2023-08-23T13:24:34.067Z"
   },
   {
    "duration": 0,
    "start_time": "2023-08-23T13:24:34.069Z"
   },
   {
    "duration": 0,
    "start_time": "2023-08-23T13:24:34.070Z"
   },
   {
    "duration": 0,
    "start_time": "2023-08-23T13:24:34.072Z"
   },
   {
    "duration": 0,
    "start_time": "2023-08-23T13:24:34.073Z"
   },
   {
    "duration": 0,
    "start_time": "2023-08-23T13:24:34.074Z"
   },
   {
    "duration": 0,
    "start_time": "2023-08-23T13:24:34.075Z"
   },
   {
    "duration": 0,
    "start_time": "2023-08-23T13:24:34.076Z"
   },
   {
    "duration": 0,
    "start_time": "2023-08-23T13:24:34.078Z"
   },
   {
    "duration": 0,
    "start_time": "2023-08-23T13:24:34.079Z"
   },
   {
    "duration": 0,
    "start_time": "2023-08-23T13:24:34.080Z"
   },
   {
    "duration": 0,
    "start_time": "2023-08-23T13:24:34.081Z"
   },
   {
    "duration": 0,
    "start_time": "2023-08-23T13:24:34.083Z"
   },
   {
    "duration": 0,
    "start_time": "2023-08-23T13:24:34.084Z"
   },
   {
    "duration": 0,
    "start_time": "2023-08-23T13:24:34.085Z"
   },
   {
    "duration": 0,
    "start_time": "2023-08-23T13:24:34.087Z"
   },
   {
    "duration": 24,
    "start_time": "2023-08-23T13:25:09.613Z"
   },
   {
    "duration": 20,
    "start_time": "2023-08-23T13:25:51.384Z"
   },
   {
    "duration": 740,
    "start_time": "2023-08-23T13:25:58.079Z"
   },
   {
    "duration": 16,
    "start_time": "2023-08-23T13:25:58.821Z"
   },
   {
    "duration": 88,
    "start_time": "2023-08-23T13:25:58.839Z"
   },
   {
    "duration": 2040,
    "start_time": "2023-08-23T13:25:58.929Z"
   },
   {
    "duration": 10,
    "start_time": "2023-08-23T13:26:00.973Z"
   },
   {
    "duration": 91,
    "start_time": "2023-08-23T13:26:00.985Z"
   },
   {
    "duration": 70,
    "start_time": "2023-08-23T13:26:01.078Z"
   },
   {
    "duration": 68,
    "start_time": "2023-08-23T13:26:01.150Z"
   },
   {
    "duration": 95,
    "start_time": "2023-08-23T13:26:01.219Z"
   },
   {
    "duration": 10,
    "start_time": "2023-08-23T13:26:01.316Z"
   },
   {
    "duration": 50,
    "start_time": "2023-08-23T13:26:01.328Z"
   },
   {
    "duration": 39,
    "start_time": "2023-08-23T13:26:01.380Z"
   },
   {
    "duration": 129,
    "start_time": "2023-08-23T13:26:01.421Z"
   },
   {
    "duration": 219,
    "start_time": "2023-08-23T13:26:01.553Z"
   },
   {
    "duration": 73,
    "start_time": "2023-08-23T13:26:01.774Z"
   },
   {
    "duration": 38,
    "start_time": "2023-08-23T13:26:01.848Z"
   },
   {
    "duration": 101,
    "start_time": "2023-08-23T13:26:01.888Z"
   },
   {
    "duration": 475,
    "start_time": "2023-08-23T13:26:01.991Z"
   },
   {
    "duration": 14,
    "start_time": "2023-08-23T13:26:02.468Z"
   },
   {
    "duration": 921,
    "start_time": "2023-08-23T13:26:02.484Z"
   },
   {
    "duration": 5,
    "start_time": "2023-08-23T13:26:03.407Z"
   },
   {
    "duration": 15,
    "start_time": "2023-08-23T13:26:03.414Z"
   },
   {
    "duration": 11,
    "start_time": "2023-08-23T13:26:03.431Z"
   },
   {
    "duration": 307,
    "start_time": "2023-08-23T13:26:03.444Z"
   },
   {
    "duration": 362,
    "start_time": "2023-08-23T13:26:03.753Z"
   },
   {
    "duration": 353,
    "start_time": "2023-08-23T13:26:04.117Z"
   },
   {
    "duration": 879,
    "start_time": "2023-08-23T13:26:04.472Z"
   },
   {
    "duration": 846,
    "start_time": "2023-08-23T13:26:05.360Z"
   },
   {
    "duration": 7,
    "start_time": "2023-08-23T13:26:06.208Z"
   },
   {
    "duration": 289,
    "start_time": "2023-08-23T13:26:06.216Z"
   },
   {
    "duration": 152,
    "start_time": "2023-08-23T13:26:06.507Z"
   },
   {
    "duration": 436,
    "start_time": "2023-08-23T13:26:06.661Z"
   },
   {
    "duration": 206,
    "start_time": "2023-08-23T13:26:07.099Z"
   },
   {
    "duration": 199,
    "start_time": "2023-08-23T13:26:07.306Z"
   },
   {
    "duration": 197,
    "start_time": "2023-08-23T13:26:07.507Z"
   },
   {
    "duration": 360,
    "start_time": "2023-08-23T13:26:07.707Z"
   },
   {
    "duration": 227,
    "start_time": "2023-08-23T13:26:08.070Z"
   },
   {
    "duration": 379,
    "start_time": "2023-08-23T13:26:08.299Z"
   },
   {
    "duration": 11,
    "start_time": "2023-08-23T13:26:08.680Z"
   },
   {
    "duration": 143,
    "start_time": "2023-08-23T13:26:08.692Z"
   },
   {
    "duration": 266,
    "start_time": "2023-08-23T13:26:08.840Z"
   },
   {
    "duration": 234,
    "start_time": "2023-08-23T13:26:09.108Z"
   },
   {
    "duration": 207,
    "start_time": "2023-08-23T13:26:09.344Z"
   },
   {
    "duration": 230,
    "start_time": "2023-08-23T13:26:09.553Z"
   },
   {
    "duration": 200,
    "start_time": "2023-08-23T13:26:09.785Z"
   },
   {
    "duration": 234,
    "start_time": "2023-08-23T13:26:09.987Z"
   },
   {
    "duration": 229,
    "start_time": "2023-08-23T13:26:10.223Z"
   },
   {
    "duration": 210,
    "start_time": "2023-08-23T13:26:10.454Z"
   },
   {
    "duration": 20,
    "start_time": "2023-08-23T13:26:10.666Z"
   },
   {
    "duration": 7,
    "start_time": "2023-08-23T13:26:10.687Z"
   },
   {
    "duration": 18,
    "start_time": "2023-08-23T13:26:10.695Z"
   },
   {
    "duration": 13,
    "start_time": "2023-08-23T13:26:10.714Z"
   },
   {
    "duration": 1290,
    "start_time": "2023-08-23T13:54:09.464Z"
   },
   {
    "duration": 15,
    "start_time": "2023-08-23T13:54:10.756Z"
   },
   {
    "duration": 79,
    "start_time": "2023-08-23T13:54:10.772Z"
   },
   {
    "duration": 3181,
    "start_time": "2023-08-23T13:54:10.852Z"
   },
   {
    "duration": 9,
    "start_time": "2023-08-23T13:54:14.035Z"
   },
   {
    "duration": 24,
    "start_time": "2023-08-23T13:54:14.045Z"
   },
   {
    "duration": 21,
    "start_time": "2023-08-23T13:54:14.071Z"
   },
   {
    "duration": 30,
    "start_time": "2023-08-23T13:54:14.094Z"
   },
   {
    "duration": 75,
    "start_time": "2023-08-23T13:54:14.126Z"
   },
   {
    "duration": 4,
    "start_time": "2023-08-23T13:54:14.203Z"
   },
   {
    "duration": 24,
    "start_time": "2023-08-23T13:54:14.209Z"
   },
   {
    "duration": 19,
    "start_time": "2023-08-23T13:54:14.235Z"
   },
   {
    "duration": 35,
    "start_time": "2023-08-23T13:54:14.256Z"
   },
   {
    "duration": 178,
    "start_time": "2023-08-23T13:54:14.295Z"
   },
   {
    "duration": 84,
    "start_time": "2023-08-23T13:54:14.475Z"
   },
   {
    "duration": 20,
    "start_time": "2023-08-23T13:54:14.561Z"
   },
   {
    "duration": 60,
    "start_time": "2023-08-23T13:54:14.583Z"
   },
   {
    "duration": 434,
    "start_time": "2023-08-23T13:54:14.645Z"
   },
   {
    "duration": 29,
    "start_time": "2023-08-23T13:54:15.081Z"
   },
   {
    "duration": 1364,
    "start_time": "2023-08-23T13:54:15.112Z"
   },
   {
    "duration": 5,
    "start_time": "2023-08-23T13:54:16.477Z"
   },
   {
    "duration": 7,
    "start_time": "2023-08-23T13:54:16.483Z"
   },
   {
    "duration": 23,
    "start_time": "2023-08-23T13:54:16.491Z"
   },
   {
    "duration": 509,
    "start_time": "2023-08-23T13:54:16.515Z"
   },
   {
    "duration": 528,
    "start_time": "2023-08-23T13:54:17.026Z"
   },
   {
    "duration": 451,
    "start_time": "2023-08-23T13:54:17.555Z"
   },
   {
    "duration": 1105,
    "start_time": "2023-08-23T13:54:18.010Z"
   },
   {
    "duration": 668,
    "start_time": "2023-08-23T13:54:19.116Z"
   },
   {
    "duration": 478,
    "start_time": "2023-08-23T13:54:19.786Z"
   },
   {
    "duration": 311,
    "start_time": "2023-08-23T13:54:20.266Z"
   },
   {
    "duration": 558,
    "start_time": "2023-08-23T13:54:20.578Z"
   },
   {
    "duration": 358,
    "start_time": "2023-08-23T13:54:21.137Z"
   },
   {
    "duration": 463,
    "start_time": "2023-08-23T13:54:21.496Z"
   },
   {
    "duration": 393,
    "start_time": "2023-08-23T13:54:21.961Z"
   },
   {
    "duration": 616,
    "start_time": "2023-08-23T13:54:22.356Z"
   },
   {
    "duration": 407,
    "start_time": "2023-08-23T13:54:22.973Z"
   },
   {
    "duration": 604,
    "start_time": "2023-08-23T13:54:23.382Z"
   },
   {
    "duration": 9,
    "start_time": "2023-08-23T13:54:23.987Z"
   },
   {
    "duration": 39,
    "start_time": "2023-08-23T13:54:23.998Z"
   },
   {
    "duration": 426,
    "start_time": "2023-08-23T13:54:24.038Z"
   },
   {
    "duration": 473,
    "start_time": "2023-08-23T13:54:24.468Z"
   },
   {
    "duration": 410,
    "start_time": "2023-08-23T13:54:24.943Z"
   },
   {
    "duration": 384,
    "start_time": "2023-08-23T13:54:25.355Z"
   },
   {
    "duration": 340,
    "start_time": "2023-08-23T13:54:25.741Z"
   },
   {
    "duration": 406,
    "start_time": "2023-08-23T13:54:26.083Z"
   },
   {
    "duration": 457,
    "start_time": "2023-08-23T13:54:26.491Z"
   },
   {
    "duration": 403,
    "start_time": "2023-08-23T13:54:26.949Z"
   },
   {
    "duration": 19,
    "start_time": "2023-08-23T13:54:27.354Z"
   },
   {
    "duration": 6,
    "start_time": "2023-08-23T13:54:27.375Z"
   },
   {
    "duration": 32,
    "start_time": "2023-08-23T13:54:27.382Z"
   },
   {
    "duration": 12,
    "start_time": "2023-08-23T13:54:27.415Z"
   },
   {
    "duration": 6,
    "start_time": "2023-08-23T13:55:31.365Z"
   },
   {
    "duration": 13,
    "start_time": "2023-08-23T13:57:42.155Z"
   },
   {
    "duration": 90,
    "start_time": "2023-08-23T13:57:49.098Z"
   },
   {
    "duration": 13,
    "start_time": "2023-08-23T14:00:17.142Z"
   },
   {
    "duration": 58,
    "start_time": "2023-08-24T04:20:46.479Z"
   },
   {
    "duration": 1020,
    "start_time": "2023-08-24T04:20:51.773Z"
   },
   {
    "duration": 18,
    "start_time": "2023-08-24T04:20:52.798Z"
   },
   {
    "duration": 93,
    "start_time": "2023-08-24T04:20:53.021Z"
   },
   {
    "duration": 2176,
    "start_time": "2023-08-24T04:20:53.801Z"
   },
   {
    "duration": 38,
    "start_time": "2023-08-24T04:21:00.871Z"
   },
   {
    "duration": 58,
    "start_time": "2023-08-24T04:21:07.289Z"
   },
   {
    "duration": 18,
    "start_time": "2023-08-24T04:21:55.055Z"
   },
   {
    "duration": 24,
    "start_time": "2023-08-24T04:23:38.270Z"
   },
   {
    "duration": 97,
    "start_time": "2023-08-24T04:23:44.446Z"
   },
   {
    "duration": 15,
    "start_time": "2023-08-24T04:23:44.759Z"
   },
   {
    "duration": 83,
    "start_time": "2023-08-24T04:23:44.926Z"
   },
   {
    "duration": 2096,
    "start_time": "2023-08-24T04:23:45.266Z"
   },
   {
    "duration": 16,
    "start_time": "2023-08-24T04:23:47.365Z"
   },
   {
    "duration": 6,
    "start_time": "2023-08-24T04:23:47.383Z"
   },
   {
    "duration": 5,
    "start_time": "2023-08-24T04:23:47.576Z"
   },
   {
    "duration": 16,
    "start_time": "2023-08-24T04:23:47.950Z"
   },
   {
    "duration": 68,
    "start_time": "2023-08-24T04:23:48.332Z"
   },
   {
    "duration": 6,
    "start_time": "2023-08-24T04:23:49.232Z"
   },
   {
    "duration": 17,
    "start_time": "2023-08-24T04:23:49.773Z"
   },
   {
    "duration": 6,
    "start_time": "2023-08-24T04:23:51.211Z"
   },
   {
    "duration": 9,
    "start_time": "2023-08-24T04:24:15.995Z"
   },
   {
    "duration": 6,
    "start_time": "2023-08-24T04:24:21.887Z"
   },
   {
    "duration": 98,
    "start_time": "2023-08-24T07:57:34.880Z"
   },
   {
    "duration": 15,
    "start_time": "2023-08-24T07:57:37.508Z"
   },
   {
    "duration": 72,
    "start_time": "2023-08-24T07:57:40.607Z"
   },
   {
    "duration": 2062,
    "start_time": "2023-08-24T07:57:42.825Z"
   },
   {
    "duration": 18,
    "start_time": "2023-08-24T07:59:45.851Z"
   },
   {
    "duration": 17,
    "start_time": "2023-08-24T07:59:49.177Z"
   },
   {
    "duration": 14,
    "start_time": "2023-08-24T08:00:07.144Z"
   },
   {
    "duration": 19,
    "start_time": "2023-08-24T08:00:13.935Z"
   },
   {
    "duration": 18,
    "start_time": "2023-08-24T08:00:49.032Z"
   },
   {
    "duration": 19,
    "start_time": "2023-08-24T08:00:51.629Z"
   },
   {
    "duration": 18,
    "start_time": "2023-08-24T08:00:53.731Z"
   },
   {
    "duration": 18,
    "start_time": "2023-08-24T08:00:58.738Z"
   },
   {
    "duration": 19,
    "start_time": "2023-08-24T08:01:00.534Z"
   },
   {
    "duration": 30,
    "start_time": "2023-08-24T08:02:04.149Z"
   },
   {
    "duration": 36,
    "start_time": "2023-08-24T08:02:13.896Z"
   },
   {
    "duration": 98,
    "start_time": "2023-08-24T08:02:53.676Z"
   },
   {
    "duration": 19,
    "start_time": "2023-08-24T08:03:01.146Z"
   },
   {
    "duration": 18,
    "start_time": "2023-08-24T08:03:08.758Z"
   },
   {
    "duration": 20,
    "start_time": "2023-08-24T08:03:19.024Z"
   },
   {
    "duration": 21,
    "start_time": "2023-08-24T08:03:22.552Z"
   },
   {
    "duration": 19,
    "start_time": "2023-08-24T08:03:24.849Z"
   },
   {
    "duration": 21,
    "start_time": "2023-08-24T08:04:02.534Z"
   },
   {
    "duration": 19,
    "start_time": "2023-08-24T08:04:07.385Z"
   },
   {
    "duration": 20,
    "start_time": "2023-08-24T08:04:46.112Z"
   },
   {
    "duration": 19,
    "start_time": "2023-08-24T08:04:50.856Z"
   },
   {
    "duration": 20,
    "start_time": "2023-08-24T08:05:00.678Z"
   },
   {
    "duration": 29,
    "start_time": "2023-08-24T08:05:02.736Z"
   },
   {
    "duration": 20,
    "start_time": "2023-08-24T08:05:12.663Z"
   },
   {
    "duration": 18,
    "start_time": "2023-08-24T08:05:21.456Z"
   },
   {
    "duration": 19,
    "start_time": "2023-08-24T08:05:26.806Z"
   },
   {
    "duration": 18,
    "start_time": "2023-08-24T08:05:29.846Z"
   },
   {
    "duration": 15,
    "start_time": "2023-08-24T08:05:54.135Z"
   },
   {
    "duration": 16,
    "start_time": "2023-08-24T08:07:27.345Z"
   },
   {
    "duration": 21,
    "start_time": "2023-08-24T08:07:33.059Z"
   },
   {
    "duration": 17,
    "start_time": "2023-08-24T08:14:10.452Z"
   },
   {
    "duration": 31,
    "start_time": "2023-08-24T08:14:27.827Z"
   },
   {
    "duration": 25,
    "start_time": "2023-08-24T08:14:30.194Z"
   },
   {
    "duration": 25,
    "start_time": "2023-08-24T08:14:38.769Z"
   },
   {
    "duration": 20,
    "start_time": "2023-08-24T08:14:48.200Z"
   },
   {
    "duration": 18,
    "start_time": "2023-08-24T08:15:40.619Z"
   },
   {
    "duration": 25,
    "start_time": "2023-08-24T08:50:35.346Z"
   },
   {
    "duration": 92,
    "start_time": "2023-08-24T08:50:45.762Z"
   },
   {
    "duration": 15,
    "start_time": "2023-08-24T08:50:46.222Z"
   },
   {
    "duration": 85,
    "start_time": "2023-08-24T08:50:46.497Z"
   },
   {
    "duration": 2091,
    "start_time": "2023-08-24T08:50:47.019Z"
   },
   {
    "duration": 17,
    "start_time": "2023-08-24T08:50:49.112Z"
   },
   {
    "duration": 6,
    "start_time": "2023-08-24T08:50:49.147Z"
   },
   {
    "duration": 6,
    "start_time": "2023-08-24T08:50:50.033Z"
   },
   {
    "duration": 17,
    "start_time": "2023-08-24T08:50:50.563Z"
   },
   {
    "duration": 64,
    "start_time": "2023-08-24T08:50:51.512Z"
   },
   {
    "duration": 5,
    "start_time": "2023-08-24T08:50:52.945Z"
   },
   {
    "duration": 17,
    "start_time": "2023-08-24T08:50:53.493Z"
   },
   {
    "duration": 7,
    "start_time": "2023-08-24T08:51:20.944Z"
   },
   {
    "duration": 10,
    "start_time": "2023-08-24T08:51:51.209Z"
   },
   {
    "duration": 6,
    "start_time": "2023-08-24T08:51:52.816Z"
   },
   {
    "duration": 182,
    "start_time": "2023-08-24T08:52:29.314Z"
   },
   {
    "duration": 80,
    "start_time": "2023-08-24T08:53:06.517Z"
   },
   {
    "duration": 24,
    "start_time": "2023-08-24T08:54:22.602Z"
   },
   {
    "duration": 22,
    "start_time": "2023-08-24T08:54:25.617Z"
   },
   {
    "duration": 23,
    "start_time": "2023-08-24T09:03:19.966Z"
   },
   {
    "duration": 6,
    "start_time": "2023-08-24T09:03:20.824Z"
   },
   {
    "duration": 35,
    "start_time": "2023-08-24T09:03:23.019Z"
   },
   {
    "duration": 202,
    "start_time": "2023-08-24T09:03:25.125Z"
   },
   {
    "duration": 89,
    "start_time": "2023-08-24T09:03:31.859Z"
   },
   {
    "duration": 133,
    "start_time": "2023-08-24T09:04:30.495Z"
   },
   {
    "duration": 152,
    "start_time": "2023-08-24T09:05:27.464Z"
   },
   {
    "duration": 120,
    "start_time": "2023-08-24T09:05:32.821Z"
   },
   {
    "duration": 107,
    "start_time": "2023-08-24T09:05:38.472Z"
   },
   {
    "duration": 121,
    "start_time": "2023-08-24T09:05:53.273Z"
   },
   {
    "duration": 124,
    "start_time": "2023-08-24T09:06:50.288Z"
   },
   {
    "duration": 9,
    "start_time": "2023-08-24T09:07:16.279Z"
   },
   {
    "duration": 9,
    "start_time": "2023-08-24T09:07:25.678Z"
   },
   {
    "duration": 6,
    "start_time": "2023-08-24T09:07:29.313Z"
   },
   {
    "duration": 7,
    "start_time": "2023-08-24T09:07:40.960Z"
   },
   {
    "duration": 10,
    "start_time": "2023-08-24T09:07:44.779Z"
   },
   {
    "duration": 7,
    "start_time": "2023-08-24T09:07:58.937Z"
   },
   {
    "duration": 14,
    "start_time": "2023-08-24T09:08:08.425Z"
   },
   {
    "duration": 10,
    "start_time": "2023-08-24T09:08:15.076Z"
   },
   {
    "duration": 7,
    "start_time": "2023-08-24T09:11:28.869Z"
   },
   {
    "duration": 9,
    "start_time": "2023-08-24T09:13:07.786Z"
   },
   {
    "duration": 111,
    "start_time": "2023-08-24T09:13:31.288Z"
   },
   {
    "duration": 115,
    "start_time": "2023-08-24T09:13:50.194Z"
   },
   {
    "duration": 125,
    "start_time": "2023-08-24T09:14:10.704Z"
   },
   {
    "duration": 120,
    "start_time": "2023-08-24T09:14:13.566Z"
   },
   {
    "duration": 8,
    "start_time": "2023-08-24T09:15:48.663Z"
   },
   {
    "duration": 276,
    "start_time": "2023-08-24T09:15:59.029Z"
   },
   {
    "duration": 136,
    "start_time": "2023-08-24T09:16:03.031Z"
   },
   {
    "duration": 115,
    "start_time": "2023-08-24T09:16:07.988Z"
   },
   {
    "duration": 4,
    "start_time": "2023-08-24T09:18:49.743Z"
   },
   {
    "duration": 112,
    "start_time": "2023-08-24T09:21:35.806Z"
   },
   {
    "duration": 103,
    "start_time": "2023-08-24T09:21:43.566Z"
   },
   {
    "duration": 10,
    "start_time": "2023-08-24T09:22:02.706Z"
   },
   {
    "duration": 139,
    "start_time": "2023-08-24T09:22:14.023Z"
   },
   {
    "duration": 116,
    "start_time": "2023-08-24T09:22:17.586Z"
   },
   {
    "duration": 109,
    "start_time": "2023-08-24T09:22:19.573Z"
   },
   {
    "duration": 116,
    "start_time": "2023-08-24T09:22:22.686Z"
   },
   {
    "duration": 112,
    "start_time": "2023-08-24T09:22:25.524Z"
   },
   {
    "duration": 10,
    "start_time": "2023-08-24T09:23:16.599Z"
   },
   {
    "duration": 74,
    "start_time": "2023-08-24T09:23:33.451Z"
   },
   {
    "duration": 99,
    "start_time": "2023-08-24T09:25:43.771Z"
   },
   {
    "duration": 21,
    "start_time": "2023-08-24T09:25:44.077Z"
   },
   {
    "duration": 108,
    "start_time": "2023-08-24T09:25:44.231Z"
   },
   {
    "duration": 2292,
    "start_time": "2023-08-24T09:25:44.523Z"
   },
   {
    "duration": 20,
    "start_time": "2023-08-24T09:25:46.818Z"
   },
   {
    "duration": 9,
    "start_time": "2023-08-24T09:25:46.884Z"
   },
   {
    "duration": 6,
    "start_time": "2023-08-24T09:25:49.351Z"
   },
   {
    "duration": 21,
    "start_time": "2023-08-24T09:25:51.543Z"
   },
   {
    "duration": 70,
    "start_time": "2023-08-24T09:25:54.780Z"
   },
   {
    "duration": 7,
    "start_time": "2023-08-24T09:25:56.583Z"
   },
   {
    "duration": 19,
    "start_time": "2023-08-24T09:25:56.794Z"
   },
   {
    "duration": 8,
    "start_time": "2023-08-24T09:26:03.337Z"
   },
   {
    "duration": 11,
    "start_time": "2023-08-24T09:26:07.773Z"
   },
   {
    "duration": 8,
    "start_time": "2023-08-24T09:26:08.333Z"
   },
   {
    "duration": 25,
    "start_time": "2023-08-24T09:26:09.339Z"
   },
   {
    "duration": 203,
    "start_time": "2023-08-24T09:26:13.088Z"
   },
   {
    "duration": 81,
    "start_time": "2023-08-24T09:26:22.730Z"
   },
   {
    "duration": 156,
    "start_time": "2023-08-24T09:26:23.842Z"
   },
   {
    "duration": 113,
    "start_time": "2023-08-24T09:26:30.275Z"
   },
   {
    "duration": 13,
    "start_time": "2023-08-24T09:26:34.081Z"
   },
   {
    "duration": 7,
    "start_time": "2023-08-24T09:26:39.787Z"
   },
   {
    "duration": 8,
    "start_time": "2023-08-24T09:26:53.146Z"
   },
   {
    "duration": 149,
    "start_time": "2023-08-24T09:26:53.744Z"
   },
   {
    "duration": 7,
    "start_time": "2023-08-24T09:27:00.732Z"
   },
   {
    "duration": 271,
    "start_time": "2023-08-24T09:27:01.777Z"
   },
   {
    "duration": 7,
    "start_time": "2023-08-24T09:27:03.118Z"
   },
   {
    "duration": 194,
    "start_time": "2023-08-24T09:27:04.306Z"
   },
   {
    "duration": 12,
    "start_time": "2023-08-24T09:27:05.531Z"
   },
   {
    "duration": 73,
    "start_time": "2023-08-24T09:27:05.892Z"
   },
   {
    "duration": 323,
    "start_time": "2023-08-24T09:28:10.197Z"
   },
   {
    "duration": 14,
    "start_time": "2023-08-24T09:28:10.537Z"
   },
   {
    "duration": 18,
    "start_time": "2023-08-24T09:28:11.344Z"
   },
   {
    "duration": 15,
    "start_time": "2023-08-24T09:28:27.728Z"
   },
   {
    "duration": 8,
    "start_time": "2023-08-24T09:28:38.918Z"
   },
   {
    "duration": 81,
    "start_time": "2023-08-24T09:28:39.289Z"
   },
   {
    "duration": 51,
    "start_time": "2023-08-24T09:28:41.746Z"
   },
   {
    "duration": 391,
    "start_time": "2023-08-24T09:28:43.898Z"
   },
   {
    "duration": 13,
    "start_time": "2023-08-24T09:28:45.104Z"
   },
   {
    "duration": 1032,
    "start_time": "2023-08-24T09:28:45.560Z"
   },
   {
    "duration": 7,
    "start_time": "2023-08-24T09:28:46.644Z"
   },
   {
    "duration": 7,
    "start_time": "2023-08-24T09:28:47.044Z"
   },
   {
    "duration": 11,
    "start_time": "2023-08-24T09:28:47.599Z"
   },
   {
    "duration": 359,
    "start_time": "2023-08-24T09:29:25.467Z"
   },
   {
    "duration": 403,
    "start_time": "2023-08-24T09:29:53.310Z"
   },
   {
    "duration": 383,
    "start_time": "2023-08-24T09:40:19.406Z"
   },
   {
    "duration": 556,
    "start_time": "2023-08-24T09:40:43.946Z"
   },
   {
    "duration": 455,
    "start_time": "2023-08-24T09:40:54.093Z"
   },
   {
    "duration": 442,
    "start_time": "2023-08-24T09:41:01.259Z"
   },
   {
    "duration": 309,
    "start_time": "2023-08-24T09:41:04.841Z"
   },
   {
    "duration": 290,
    "start_time": "2023-08-24T09:41:23.430Z"
   },
   {
    "duration": 490,
    "start_time": "2023-08-24T09:41:31.728Z"
   },
   {
    "duration": 259,
    "start_time": "2023-08-24T09:41:41.782Z"
   },
   {
    "duration": 212,
    "start_time": "2023-08-24T09:41:47.816Z"
   },
   {
    "duration": 788,
    "start_time": "2023-08-24T09:42:35.032Z"
   },
   {
    "duration": 954,
    "start_time": "2023-08-24T09:42:51.087Z"
   },
   {
    "duration": 838,
    "start_time": "2023-08-24T09:42:59.823Z"
   },
   {
    "duration": 1041,
    "start_time": "2023-08-24T09:43:30.050Z"
   },
   {
    "duration": 211,
    "start_time": "2023-08-24T09:43:44.839Z"
   },
   {
    "duration": 206,
    "start_time": "2023-08-24T09:43:54.263Z"
   },
   {
    "duration": 322,
    "start_time": "2023-08-24T09:44:02.934Z"
   },
   {
    "duration": 163,
    "start_time": "2023-08-24T09:44:06.014Z"
   },
   {
    "duration": 365,
    "start_time": "2023-08-24T09:44:18.559Z"
   },
   {
    "duration": 291,
    "start_time": "2023-08-24T09:44:34.929Z"
   },
   {
    "duration": 228,
    "start_time": "2023-08-24T09:44:49.157Z"
   },
   {
    "duration": 409,
    "start_time": "2023-08-24T09:44:55.053Z"
   },
   {
    "duration": 228,
    "start_time": "2023-08-24T09:44:59.080Z"
   },
   {
    "duration": 438,
    "start_time": "2023-08-24T09:45:04.313Z"
   },
   {
    "duration": 90,
    "start_time": "2023-08-24T09:45:39.126Z"
   },
   {
    "duration": 989,
    "start_time": "2023-08-24T09:45:42.055Z"
   },
   {
    "duration": 502,
    "start_time": "2023-08-24T09:46:45.670Z"
   },
   {
    "duration": 1590,
    "start_time": "2023-08-24T09:47:01.142Z"
   },
   {
    "duration": 532,
    "start_time": "2023-08-24T09:47:10.560Z"
   },
   {
    "duration": 25,
    "start_time": "2023-08-24T09:47:34.139Z"
   },
   {
    "duration": 163,
    "start_time": "2023-08-24T09:47:48.466Z"
   },
   {
    "duration": 391,
    "start_time": "2023-08-24T09:48:19.797Z"
   },
   {
    "duration": 289,
    "start_time": "2023-08-24T09:48:26.678Z"
   },
   {
    "duration": 371,
    "start_time": "2023-08-24T09:48:34.136Z"
   },
   {
    "duration": 583,
    "start_time": "2023-08-24T09:48:44.042Z"
   },
   {
    "duration": 33,
    "start_time": "2023-08-24T10:15:30.577Z"
   },
   {
    "duration": 270,
    "start_time": "2023-08-24T10:15:41.248Z"
   },
   {
    "duration": 220,
    "start_time": "2023-08-24T10:15:46.127Z"
   },
   {
    "duration": 197,
    "start_time": "2023-08-24T10:15:46.895Z"
   },
   {
    "duration": 360,
    "start_time": "2023-08-24T10:15:49.069Z"
   },
   {
    "duration": 252,
    "start_time": "2023-08-24T10:16:10.420Z"
   },
   {
    "duration": 26,
    "start_time": "2023-08-24T10:19:37.902Z"
   },
   {
    "duration": 274,
    "start_time": "2023-08-24T10:20:12.659Z"
   },
   {
    "duration": 181,
    "start_time": "2023-08-24T10:20:27.205Z"
   },
   {
    "duration": 164,
    "start_time": "2023-08-24T10:20:33.424Z"
   },
   {
    "duration": 165,
    "start_time": "2023-08-24T10:20:50.721Z"
   },
   {
    "duration": 175,
    "start_time": "2023-08-24T10:21:00.109Z"
   },
   {
    "duration": 162,
    "start_time": "2023-08-24T10:21:07.194Z"
   },
   {
    "duration": 236,
    "start_time": "2023-08-24T10:21:22.671Z"
   },
   {
    "duration": 177,
    "start_time": "2023-08-24T10:21:32.891Z"
   },
   {
    "duration": 210,
    "start_time": "2023-08-24T10:22:44.198Z"
   },
   {
    "duration": 256,
    "start_time": "2023-08-24T10:23:00.217Z"
   },
   {
    "duration": 164,
    "start_time": "2023-08-24T10:23:06.200Z"
   },
   {
    "duration": 188,
    "start_time": "2023-08-24T10:23:45.225Z"
   },
   {
    "duration": 178,
    "start_time": "2023-08-24T10:23:52.367Z"
   },
   {
    "duration": 167,
    "start_time": "2023-08-24T10:24:10.602Z"
   },
   {
    "duration": 162,
    "start_time": "2023-08-24T10:24:44.301Z"
   },
   {
    "duration": 156,
    "start_time": "2023-08-24T10:24:52.606Z"
   },
   {
    "duration": 235,
    "start_time": "2023-08-24T10:25:04.287Z"
   },
   {
    "duration": 178,
    "start_time": "2023-08-24T10:25:21.566Z"
   },
   {
    "duration": 204,
    "start_time": "2023-08-24T10:25:28.950Z"
   },
   {
    "duration": 190,
    "start_time": "2023-08-24T10:25:33.392Z"
   },
   {
    "duration": 273,
    "start_time": "2023-08-24T10:25:36.797Z"
   },
   {
    "duration": 148,
    "start_time": "2023-08-24T10:25:59.495Z"
   },
   {
    "duration": 17,
    "start_time": "2023-08-24T10:27:25.500Z"
   },
   {
    "duration": 24,
    "start_time": "2023-08-24T10:30:17.403Z"
   },
   {
    "duration": 23,
    "start_time": "2023-08-24T10:30:32.496Z"
   },
   {
    "duration": 18,
    "start_time": "2023-08-24T10:30:51.017Z"
   },
   {
    "duration": 11,
    "start_time": "2023-08-24T10:32:06.065Z"
   },
   {
    "duration": 295,
    "start_time": "2023-08-24T10:32:14.347Z"
   },
   {
    "duration": 10,
    "start_time": "2023-08-24T10:32:26.793Z"
   },
   {
    "duration": 336,
    "start_time": "2023-08-24T10:33:17.337Z"
   },
   {
    "duration": 780,
    "start_time": "2023-08-24T10:56:49.890Z"
   },
   {
    "duration": 23,
    "start_time": "2023-08-24T10:56:50.673Z"
   },
   {
    "duration": 135,
    "start_time": "2023-08-24T10:56:50.698Z"
   },
   {
    "duration": 2174,
    "start_time": "2023-08-24T10:56:50.835Z"
   },
   {
    "duration": 79,
    "start_time": "2023-08-24T10:56:53.011Z"
   },
   {
    "duration": 8,
    "start_time": "2023-08-24T10:56:53.093Z"
   },
   {
    "duration": 12,
    "start_time": "2023-08-24T10:56:53.103Z"
   },
   {
    "duration": 20,
    "start_time": "2023-08-24T10:56:53.117Z"
   },
   {
    "duration": 66,
    "start_time": "2023-08-24T10:56:53.163Z"
   },
   {
    "duration": 5,
    "start_time": "2023-08-24T10:56:53.232Z"
   },
   {
    "duration": 37,
    "start_time": "2023-08-24T10:56:53.238Z"
   },
   {
    "duration": 5,
    "start_time": "2023-08-24T10:56:53.278Z"
   },
   {
    "duration": 12,
    "start_time": "2023-08-24T10:56:53.285Z"
   },
   {
    "duration": 23,
    "start_time": "2023-08-24T10:56:53.299Z"
   },
   {
    "duration": 46,
    "start_time": "2023-08-24T10:56:53.324Z"
   },
   {
    "duration": 189,
    "start_time": "2023-08-24T10:56:53.376Z"
   },
   {
    "duration": 75,
    "start_time": "2023-08-24T10:56:53.572Z"
   },
   {
    "duration": 126,
    "start_time": "2023-08-24T10:56:53.650Z"
   },
   {
    "duration": 7,
    "start_time": "2023-08-24T10:56:53.778Z"
   },
   {
    "duration": 10,
    "start_time": "2023-08-24T10:56:53.787Z"
   },
   {
    "duration": 126,
    "start_time": "2023-08-24T10:56:53.799Z"
   },
   {
    "duration": 7,
    "start_time": "2023-08-24T10:56:53.927Z"
   },
   {
    "duration": 119,
    "start_time": "2023-08-24T10:56:53.935Z"
   },
   {
    "duration": 20,
    "start_time": "2023-08-24T10:56:54.059Z"
   },
   {
    "duration": 143,
    "start_time": "2023-08-24T10:56:54.088Z"
   },
   {
    "duration": 11,
    "start_time": "2023-08-24T10:56:54.233Z"
   },
   {
    "duration": 96,
    "start_time": "2023-08-24T10:56:54.246Z"
   },
   {
    "duration": 184,
    "start_time": "2023-08-24T10:56:54.346Z"
   },
   {
    "duration": 361,
    "start_time": "2023-08-24T10:56:54.532Z"
   },
   {
    "duration": 15,
    "start_time": "2023-08-24T10:56:54.895Z"
   },
   {
    "duration": 931,
    "start_time": "2023-08-24T10:56:54.913Z"
   },
   {
    "duration": 5,
    "start_time": "2023-08-24T10:56:55.846Z"
   },
   {
    "duration": 11,
    "start_time": "2023-08-24T10:56:55.858Z"
   },
   {
    "duration": 21,
    "start_time": "2023-08-24T10:56:55.874Z"
   },
   {
    "duration": 380,
    "start_time": "2023-08-24T10:56:55.897Z"
   },
   {
    "duration": 400,
    "start_time": "2023-08-24T10:56:56.280Z"
   },
   {
    "duration": 170,
    "start_time": "2023-08-24T10:56:56.682Z"
   },
   {
    "duration": 819,
    "start_time": "2023-08-24T10:56:56.859Z"
   },
   {
    "duration": 160,
    "start_time": "2023-08-24T10:56:57.680Z"
   },
   {
    "duration": 282,
    "start_time": "2023-08-24T10:56:57.841Z"
   },
   {
    "duration": 268,
    "start_time": "2023-08-24T10:56:58.125Z"
   },
   {
    "duration": 285,
    "start_time": "2023-08-24T10:56:58.395Z"
   },
   {
    "duration": 236,
    "start_time": "2023-08-24T10:56:58.681Z"
   },
   {
    "duration": 212,
    "start_time": "2023-08-24T10:56:58.919Z"
   },
   {
    "duration": 243,
    "start_time": "2023-08-24T10:56:59.134Z"
   },
   {
    "duration": 376,
    "start_time": "2023-08-24T10:56:59.378Z"
   },
   {
    "duration": 177,
    "start_time": "2023-08-24T10:56:59.756Z"
   },
   {
    "duration": 581,
    "start_time": "2023-08-24T10:56:59.935Z"
   },
   {
    "duration": 10,
    "start_time": "2023-08-24T10:57:00.518Z"
   },
   {
    "duration": 89,
    "start_time": "2023-08-24T10:57:00.531Z"
   },
   {
    "duration": 281,
    "start_time": "2023-08-24T10:57:00.622Z"
   },
   {
    "duration": 238,
    "start_time": "2023-08-24T10:57:00.905Z"
   },
   {
    "duration": 288,
    "start_time": "2023-08-24T10:57:01.146Z"
   },
   {
    "duration": 184,
    "start_time": "2023-08-24T10:57:01.437Z"
   },
   {
    "duration": 165,
    "start_time": "2023-08-24T10:57:01.622Z"
   },
   {
    "duration": 188,
    "start_time": "2023-08-24T10:57:01.789Z"
   },
   {
    "duration": 230,
    "start_time": "2023-08-24T10:57:01.979Z"
   },
   {
    "duration": 171,
    "start_time": "2023-08-24T10:57:02.211Z"
   },
   {
    "duration": 18,
    "start_time": "2023-08-24T10:57:02.384Z"
   },
   {
    "duration": 45,
    "start_time": "2023-08-24T10:57:02.404Z"
   },
   {
    "duration": 94,
    "start_time": "2023-08-24T10:57:02.451Z"
   },
   {
    "duration": 32,
    "start_time": "2023-08-24T10:57:02.547Z"
   },
   {
    "duration": 31,
    "start_time": "2023-08-24T10:57:02.581Z"
   },
   {
    "duration": 384,
    "start_time": "2023-08-24T10:57:02.614Z"
   },
   {
    "duration": 1131,
    "start_time": "2023-08-24T13:35:48.525Z"
   },
   {
    "duration": 16,
    "start_time": "2023-08-24T13:35:49.658Z"
   },
   {
    "duration": 76,
    "start_time": "2023-08-24T13:35:49.675Z"
   },
   {
    "duration": 1983,
    "start_time": "2023-08-24T13:35:49.753Z"
   },
   {
    "duration": 53,
    "start_time": "2023-08-24T13:35:51.738Z"
   },
   {
    "duration": 17,
    "start_time": "2023-08-24T13:35:51.792Z"
   },
   {
    "duration": 9,
    "start_time": "2023-08-24T13:35:51.811Z"
   },
   {
    "duration": 16,
    "start_time": "2023-08-24T13:35:51.822Z"
   },
   {
    "duration": 72,
    "start_time": "2023-08-24T13:35:51.840Z"
   },
   {
    "duration": 4,
    "start_time": "2023-08-24T13:35:51.915Z"
   },
   {
    "duration": 21,
    "start_time": "2023-08-24T13:35:51.921Z"
   },
   {
    "duration": 5,
    "start_time": "2023-08-24T13:35:51.944Z"
   },
   {
    "duration": 29,
    "start_time": "2023-08-24T13:35:51.950Z"
   },
   {
    "duration": 6,
    "start_time": "2023-08-24T13:35:51.981Z"
   },
   {
    "duration": 36,
    "start_time": "2023-08-24T13:35:51.989Z"
   },
   {
    "duration": 178,
    "start_time": "2023-08-24T13:35:52.027Z"
   },
   {
    "duration": 71,
    "start_time": "2023-08-24T13:35:52.210Z"
   },
   {
    "duration": 115,
    "start_time": "2023-08-24T13:35:52.283Z"
   },
   {
    "duration": 15,
    "start_time": "2023-08-24T13:35:52.400Z"
   },
   {
    "duration": 42,
    "start_time": "2023-08-24T13:35:52.417Z"
   },
   {
    "duration": 151,
    "start_time": "2023-08-24T13:35:52.461Z"
   },
   {
    "duration": 9,
    "start_time": "2023-08-24T13:35:52.614Z"
   },
   {
    "duration": 126,
    "start_time": "2023-08-24T13:35:52.626Z"
   },
   {
    "duration": 8,
    "start_time": "2023-08-24T13:35:52.753Z"
   },
   {
    "duration": 110,
    "start_time": "2023-08-24T13:35:52.763Z"
   },
   {
    "duration": 10,
    "start_time": "2023-08-24T13:35:52.874Z"
   },
   {
    "duration": 76,
    "start_time": "2023-08-24T13:35:52.885Z"
   },
   {
    "duration": 136,
    "start_time": "2023-08-24T13:35:52.965Z"
   },
   {
    "duration": 272,
    "start_time": "2023-08-24T13:35:53.110Z"
   },
   {
    "duration": 27,
    "start_time": "2023-08-24T13:35:53.384Z"
   },
   {
    "duration": 838,
    "start_time": "2023-08-24T13:35:53.412Z"
   },
   {
    "duration": 5,
    "start_time": "2023-08-24T13:35:54.251Z"
   },
   {
    "duration": 13,
    "start_time": "2023-08-24T13:35:54.258Z"
   },
   {
    "duration": 9,
    "start_time": "2023-08-24T13:35:54.273Z"
   },
   {
    "duration": 355,
    "start_time": "2023-08-24T13:35:54.283Z"
   },
   {
    "duration": 369,
    "start_time": "2023-08-24T13:35:54.640Z"
   },
   {
    "duration": 166,
    "start_time": "2023-08-24T13:35:55.011Z"
   },
   {
    "duration": 766,
    "start_time": "2023-08-24T13:35:55.179Z"
   },
   {
    "duration": 158,
    "start_time": "2023-08-24T13:35:55.947Z"
   },
   {
    "duration": 266,
    "start_time": "2023-08-24T13:35:56.109Z"
   },
   {
    "duration": 244,
    "start_time": "2023-08-24T13:35:56.377Z"
   },
   {
    "duration": 249,
    "start_time": "2023-08-24T13:35:56.623Z"
   },
   {
    "duration": 201,
    "start_time": "2023-08-24T13:35:56.873Z"
   },
   {
    "duration": 183,
    "start_time": "2023-08-24T13:35:57.076Z"
   },
   {
    "duration": 202,
    "start_time": "2023-08-24T13:35:57.261Z"
   },
   {
    "duration": 319,
    "start_time": "2023-08-24T13:35:57.465Z"
   },
   {
    "duration": 160,
    "start_time": "2023-08-24T13:35:57.786Z"
   },
   {
    "duration": 506,
    "start_time": "2023-08-24T13:35:57.948Z"
   },
   {
    "duration": 9,
    "start_time": "2023-08-24T13:35:58.455Z"
   },
   {
    "duration": 43,
    "start_time": "2023-08-24T13:35:58.466Z"
   },
   {
    "duration": 251,
    "start_time": "2023-08-24T13:35:58.511Z"
   },
   {
    "duration": 213,
    "start_time": "2023-08-24T13:35:58.763Z"
   },
   {
    "duration": 246,
    "start_time": "2023-08-24T13:35:58.977Z"
   },
   {
    "duration": 165,
    "start_time": "2023-08-24T13:35:59.225Z"
   },
   {
    "duration": 147,
    "start_time": "2023-08-24T13:35:59.392Z"
   },
   {
    "duration": 156,
    "start_time": "2023-08-24T13:35:59.541Z"
   },
   {
    "duration": 181,
    "start_time": "2023-08-24T13:35:59.699Z"
   },
   {
    "duration": 153,
    "start_time": "2023-08-24T13:35:59.882Z"
   },
   {
    "duration": 16,
    "start_time": "2023-08-24T13:36:00.036Z"
   },
   {
    "duration": 16,
    "start_time": "2023-08-24T13:36:00.054Z"
   },
   {
    "duration": 27,
    "start_time": "2023-08-24T13:36:00.072Z"
   },
   {
    "duration": 21,
    "start_time": "2023-08-24T13:36:00.101Z"
   },
   {
    "duration": 25,
    "start_time": "2023-08-24T13:36:00.123Z"
   },
   {
    "duration": 331,
    "start_time": "2023-08-24T13:36:00.150Z"
   }
  ],
  "kernelspec": {
   "display_name": "Python 3 (ipykernel)",
   "language": "python",
   "name": "python3"
  },
  "language_info": {
   "codemirror_mode": {
    "name": "ipython",
    "version": 3
   },
   "file_extension": ".py",
   "mimetype": "text/x-python",
   "name": "python",
   "nbconvert_exporter": "python",
   "pygments_lexer": "ipython3",
   "version": "3.10.9"
  },
  "toc": {
   "base_numbering": 1,
   "nav_menu": {},
   "number_sections": true,
   "sideBar": true,
   "skip_h1_title": true,
   "title_cell": "Table of Contents",
   "title_sidebar": "Contents",
   "toc_cell": false,
   "toc_position": {
    "height": "calc(100% - 180px)",
    "left": "10px",
    "top": "150px",
    "width": "268px"
   },
   "toc_section_display": true,
   "toc_window_display": true
  }
 },
 "nbformat": 4,
 "nbformat_minor": 2
}
